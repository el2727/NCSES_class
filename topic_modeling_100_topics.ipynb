{
 "cells": [
  {
   "cell_type": "markdown",
   "metadata": {
    "toc": true
   },
   "source": [
    "<h1>Table of Contents<span class=\"tocSkip\"></span></h1>\n",
    "<div class=\"toc\"><ul class=\"toc-item\"><li><span><a href=\"#NCSES-class---FedRePORTER-and-IPEDS-data\" data-toc-modified-id=\"NCSES-class---FedRePORTER-and-IPEDS-data-1\"><span class=\"toc-item-num\">1&nbsp;&nbsp;</span>NCSES class - FedRePORTER and IPEDS data</a></span><ul class=\"toc-item\"><li><span><a href=\"#Introduction\" data-toc-modified-id=\"Introduction-1.1\"><span class=\"toc-item-num\">1.1&nbsp;&nbsp;</span>Introduction</a></span></li><li><span><a href=\"#Python-Setup\" data-toc-modified-id=\"Python-Setup-1.2\"><span class=\"toc-item-num\">1.2&nbsp;&nbsp;</span>Python Setup</a></span></li></ul></li><li><span><a href=\"#Load-the-data\" data-toc-modified-id=\"Load-the-data-2\"><span class=\"toc-item-num\">2&nbsp;&nbsp;</span>Load the data</a></span><ul class=\"toc-item\"><li><span><a href=\"#Federal-RePORTER---Projects-(https://federalreporter.nih.gov/FileDownload)\" data-toc-modified-id=\"Federal-RePORTER---Projects-(https://federalreporter.nih.gov/FileDownload)-2.1\"><span class=\"toc-item-num\">2.1&nbsp;&nbsp;</span>Federal RePORTER - Projects (<a href=\"https://federalreporter.nih.gov/FileDownload\" target=\"_blank\">https://federalreporter.nih.gov/FileDownload</a>)</a></span></li><li><span><a href=\"#Federal-RePORTER---Abstracts-(https://federalreporter.nih.gov/FileDownload)\" data-toc-modified-id=\"Federal-RePORTER---Abstracts-(https://federalreporter.nih.gov/FileDownload)-2.2\"><span class=\"toc-item-num\">2.2&nbsp;&nbsp;</span>Federal RePORTER - Abstracts (<a href=\"https://federalreporter.nih.gov/FileDownload\" target=\"_blank\">https://federalreporter.nih.gov/FileDownload</a>)</a></span></li></ul></li><li><span><a href=\"#Filter-the-data\" data-toc-modified-id=\"Filter-the-data-3\"><span class=\"toc-item-num\">3&nbsp;&nbsp;</span>Filter the data</a></span></li><li><span><a href=\"#Text-analysis-(Topic-modeling)\" data-toc-modified-id=\"Text-analysis-(Topic-modeling)-4\"><span class=\"toc-item-num\">4&nbsp;&nbsp;</span>Text analysis (Topic modeling)</a></span><ul class=\"toc-item\"><li><span><a href=\"#NMF-method---Non-negative-matrix-factorization\" data-toc-modified-id=\"NMF-method---Non-negative-matrix-factorization-4.1\"><span class=\"toc-item-num\">4.1&nbsp;&nbsp;</span>NMF method - Non-negative matrix factorization</a></span></li></ul></li></ul></div>"
   ]
  },
  {
   "cell_type": "markdown",
   "metadata": {},
   "source": [
    "## NCSES class - FedRePORTER and IPEDS data"
   ]
  },
  {
   "cell_type": "markdown",
   "metadata": {},
   "source": [
    "### Introduction"
   ]
  },
  {
   "cell_type": "markdown",
   "metadata": {},
   "source": [
    "**Federal RePORTER** (https://federalreporter.nih.gov) - a collaborative effort led by STAR METRICS® to create a searchable database of scientific awards from agencies (across agencies or fiscal years, by the award's project leader, or by a text search of a project's title, terms, or abstracts)."
   ]
  },
  {
   "cell_type": "markdown",
   "metadata": {},
   "source": [
    "### Python Setup"
   ]
  },
  {
   "cell_type": "code",
   "execution_count": 1,
   "metadata": {
    "ExecuteTime": {
     "end_time": "2019-08-20T13:34:31.689186Z",
     "start_time": "2019-08-20T13:34:29.457033Z"
    }
   },
   "outputs": [],
   "source": [
    "# Data manipulation\n",
    "import pandas as pd\n",
    "\n",
    "# Reading in files\n",
    "import glob\n",
    "\n",
    "# Text analysis (topic modeling)\n",
    "import numpy as np\n",
    "import sklearn\n",
    "from sklearn.decomposition import NMF, LatentDirichletAllocation\n",
    "from sklearn.feature_extraction.text import TfidfVectorizer, CountVectorizer\n",
    "import string"
   ]
  },
  {
   "cell_type": "markdown",
   "metadata": {},
   "source": [
    "## Load the data"
   ]
  },
  {
   "cell_type": "markdown",
   "metadata": {},
   "source": [
    "### Federal RePORTER - Abstracts (https://federalreporter.nih.gov/FileDownload)"
   ]
  },
  {
   "cell_type": "code",
   "execution_count": 2,
   "metadata": {
    "ExecuteTime": {
     "end_time": "2019-08-20T13:34:43.943435Z",
     "start_time": "2019-08-20T13:34:43.935241Z"
    }
   },
   "outputs": [
    {
     "name": "stdout",
     "output_type": "stream",
     "text": [
      "['FedRePORTER_PRJABS_C_FY2009.csv', 'FedRePORTER_PRJABS_C_FY2008.csv', 'FedRePORTER_PRJABS_C_FY2018.csv', 'FedRePORTER_PRJABS_C_FY2017.csv', 'FedRePORTER_PRJABS_C_FY2003.csv', 'FedRePORTER_PRJABS_C_FY2002.csv', 'FedRePORTER_PRJABS_C_FY2016.csv', 'FedRePORTER_PRJABS_C_FY2000.csv', 'FedRePORTER_PRJABS_C_FY2014.csv', 'FedRePORTER_PRJABS_C_FY2015.csv', 'FedRePORTER_PRJABS_C_FY2001.csv', 'FedRePORTER_PRJABS_C_FY2005.csv', 'FedRePORTER_PRJABS_C_FY2011.csv', 'FedRePORTER_PRJABS_C_FY2010.csv', 'FedRePORTER_PRJABS_C_FY2004.csv', 'FedRePORTER_PRJABS_C_FY2012.csv', 'FedRePORTER_PRJABS_C_FY2006.csv', 'FedRePORTER_PRJABS_C_FY2007.csv', 'FedRePORTER_PRJABS_C_FY2013.csv']\n"
     ]
    }
   ],
   "source": [
    "abstracts_files = glob.glob('FedRePORTER_PRJABS_C_FY20*.csv')\n",
    "print(abstracts_files)"
   ]
  },
  {
   "cell_type": "code",
   "execution_count": 3,
   "metadata": {
    "ExecuteTime": {
     "end_time": "2019-08-20T13:35:13.431283Z",
     "start_time": "2019-08-20T13:34:44.524344Z"
    }
   },
   "outputs": [],
   "source": [
    "\"\"\"Read them in, concatenate and convert to a dataframe.\"\"\"\n",
    "\n",
    "list_data = []\n",
    "for filename in abstracts_files:\n",
    "    data = pd.read_csv(filename)\n",
    "    list_data.append(data)\n",
    "    \n",
    "abstracts = pd.concat(list_data)"
   ]
  },
  {
   "cell_type": "code",
   "execution_count": 4,
   "metadata": {
    "ExecuteTime": {
     "end_time": "2019-08-20T13:35:14.111436Z",
     "start_time": "2019-08-20T13:35:13.643140Z"
    }
   },
   "outputs": [],
   "source": [
    "abstracts = abstracts.dropna()"
   ]
  },
  {
   "cell_type": "code",
   "execution_count": 5,
   "metadata": {
    "ExecuteTime": {
     "end_time": "2019-08-20T13:35:14.511156Z",
     "start_time": "2019-08-20T13:35:14.444892Z"
    }
   },
   "outputs": [],
   "source": [
    "merged_abstracts_list = abstracts[' ABSTRACT'].values.tolist()"
   ]
  },
  {
   "cell_type": "markdown",
   "metadata": {},
   "source": [
    "### NMF method - Non-negative matrix factorization\n",
    "\n",
    "NMF is another model used for topic extraction - while the LDA model uses raw counts of unique words per document, NMF model uses a normalized representation of those raw counts (TF-IDF representation)\n",
    "\n",
    "TF stands for term-frequency and TF-IDF is term-frequency times inverse document-frequency. In other words, we are not only looking for how often a word appears in a given document, but also whether this particular word is distinct across all the collections of documents (corpus). For example, intuitively we understand that words like \"often\" or \"use\" are more frequently encountered, but they are less informative (more semantically-vacuous) if we want to discern a particular topic of a document, as they might be frequently encounter across all text documents in a corpus. On the other hand, words which we will see less frequently across a collection of document might indicate that those words are specific to a particular document, and, therefore, constitute a basis for a topic. \n",
    "\n",
    "More here: \n",
    "\n",
    "- https://scikit-learn.org/stable/modules/decomposition.html#non-negative-matrix-factorization-nmf-or-nnmf\n",
    "- https://scikit-learn.org/stable/modules/generated/sklearn.feature_extraction.text.TfidfVectorizer.html\n",
    "- https://scikit-learn.org/stable/modules/generated/sklearn.feature_extraction.text.TfidfTransformer.html#sklearn.feature_extraction.text.TfidfTransformer"
   ]
  },
  {
   "cell_type": "code",
   "execution_count": 12,
   "metadata": {
    "ExecuteTime": {
     "end_time": "2019-08-20T13:45:00.847041Z",
     "start_time": "2019-08-20T13:42:42.385559Z"
    }
   },
   "outputs": [],
   "source": [
    "# Convert a collection of raw documents to a matrix of TF-IDF features\n",
    "vectorizer = TfidfVectorizer(stop_words='english')\n",
    "tfidf = vectorizer.fit_transform(filtered_abstracts)"
   ]
  },
  {
   "cell_type": "code",
   "execution_count": 13,
   "metadata": {
    "ExecuteTime": {
     "end_time": "2019-08-20T13:45:56.920980Z",
     "start_time": "2019-08-20T13:45:55.989435Z"
    }
   },
   "outputs": [],
   "source": [
    "# Get feature names\n",
    "vectorizer_feature_names = vectorizer.get_feature_names()"
   ]
  },
  {
   "cell_type": "code",
   "execution_count": null,
   "metadata": {
    "ExecuteTime": {
     "end_time": "2019-08-20T16:00:49.005681Z",
     "start_time": "2019-08-20T13:47:50.995383Z"
    }
   },
   "outputs": [],
   "source": [
    "# Run the model with 10 topics\n",
    "nmf = NMF(n_components=100, verbose=2).fit(tfidf)"
   ]
  },
  {
   "cell_type": "code",
   "execution_count": 15,
   "metadata": {
    "ExecuteTime": {
     "end_time": "2019-08-20T16:10:17.853899Z",
     "start_time": "2019-08-20T16:10:17.846585Z"
    }
   },
   "outputs": [],
   "source": [
    "nmf_100_2 = nmf"
   ]
  },
  {
   "cell_type": "code",
   "execution_count": 16,
   "metadata": {
    "ExecuteTime": {
     "end_time": "2019-08-20T16:11:30.818222Z",
     "start_time": "2019-08-20T16:11:27.415603Z"
    }
   },
   "outputs": [
    {
     "name": "stdout",
     "output_type": "stream",
     "text": [
      "Stored 'nmf_100_2' (NMF)\n"
     ]
    }
   ],
   "source": [
    "%store nmf_100_2"
   ]
  },
  {
   "cell_type": "code",
   "execution_count": 6,
   "metadata": {
    "ExecuteTime": {
     "end_time": "2019-08-19T20:01:48.481417Z",
     "start_time": "2019-08-19T20:01:46.013209Z"
    }
   },
   "outputs": [],
   "source": [
    "%store -r nmf_100"
   ]
  },
  {
   "cell_type": "code",
   "execution_count": 9,
   "metadata": {
    "ExecuteTime": {
     "end_time": "2019-08-19T20:15:43.139609Z",
     "start_time": "2019-08-19T20:09:26.729381Z"
    }
   },
   "outputs": [],
   "source": [
    "nmf_W = nmf_100_2.transform(tfidf) "
   ]
  },
  {
   "cell_type": "code",
   "execution_count": 10,
   "metadata": {
    "ExecuteTime": {
     "end_time": "2019-08-19T20:16:31.396375Z",
     "start_time": "2019-08-19T20:16:26.586333Z"
    }
   },
   "outputs": [],
   "source": [
    "topics_weights = []\n",
    "for index,i in enumerate(nmf_W): # for every document\n",
    "    topics_weights.append([index, i[25], i[57]]) # get topic weights"
   ]
  },
  {
   "cell_type": "code",
   "execution_count": 11,
   "metadata": {
    "ExecuteTime": {
     "end_time": "2019-08-19T20:17:04.471628Z",
     "start_time": "2019-08-19T20:17:04.025989Z"
    }
   },
   "outputs": [
    {
     "data": {
      "text/html": [
       "<div>\n",
       "<style scoped>\n",
       "    .dataframe tbody tr th:only-of-type {\n",
       "        vertical-align: middle;\n",
       "    }\n",
       "\n",
       "    .dataframe tbody tr th {\n",
       "        vertical-align: top;\n",
       "    }\n",
       "\n",
       "    .dataframe thead th {\n",
       "        text-align: right;\n",
       "    }\n",
       "</style>\n",
       "<table border=\"1\" class=\"dataframe\">\n",
       "  <thead>\n",
       "    <tr style=\"text-align: right;\">\n",
       "      <th></th>\n",
       "      <th>0</th>\n",
       "      <th>1</th>\n",
       "      <th>2</th>\n",
       "    </tr>\n",
       "  </thead>\n",
       "  <tbody>\n",
       "    <tr>\n",
       "      <th>0</th>\n",
       "      <td>0</td>\n",
       "      <td>0.000000</td>\n",
       "      <td>0.0</td>\n",
       "    </tr>\n",
       "    <tr>\n",
       "      <th>1</th>\n",
       "      <td>1</td>\n",
       "      <td>0.000000</td>\n",
       "      <td>0.0</td>\n",
       "    </tr>\n",
       "    <tr>\n",
       "      <th>2</th>\n",
       "      <td>2</td>\n",
       "      <td>0.000000</td>\n",
       "      <td>0.0</td>\n",
       "    </tr>\n",
       "    <tr>\n",
       "      <th>3</th>\n",
       "      <td>3</td>\n",
       "      <td>0.000108</td>\n",
       "      <td>0.0</td>\n",
       "    </tr>\n",
       "    <tr>\n",
       "      <th>4</th>\n",
       "      <td>4</td>\n",
       "      <td>0.000000</td>\n",
       "      <td>0.0</td>\n",
       "    </tr>\n",
       "  </tbody>\n",
       "</table>\n",
       "</div>"
      ],
      "text/plain": [
       "   0         1    2\n",
       "0  0  0.000000  0.0\n",
       "1  1  0.000000  0.0\n",
       "2  2  0.000000  0.0\n",
       "3  3  0.000108  0.0\n",
       "4  4  0.000000  0.0"
      ]
     },
     "execution_count": 11,
     "metadata": {},
     "output_type": "execute_result"
    }
   ],
   "source": [
    "topics_list_dataframe = pd.DataFrame(topics_weights)\n",
    "topics_list_dataframe.head()"
   ]
  },
  {
   "cell_type": "code",
   "execution_count": 12,
   "metadata": {
    "ExecuteTime": {
     "end_time": "2019-08-19T20:17:51.368125Z",
     "start_time": "2019-08-19T20:17:49.816372Z"
    }
   },
   "outputs": [],
   "source": [
    "abstracts = abstracts.reset_index()"
   ]
  },
  {
   "cell_type": "code",
   "execution_count": null,
   "metadata": {
    "ExecuteTime": {
     "end_time": "2019-08-19T20:16:24.380545Z",
     "start_time": "2019-08-19T20:02:29.601Z"
    }
   },
   "outputs": [],
   "source": [
    "topics_list_dataframe = topics_list_dataframe.rename(columns={0:'index'})"
   ]
  },
  {
   "cell_type": "code",
   "execution_count": 24,
   "metadata": {
    "ExecuteTime": {
     "end_time": "2019-08-19T18:51:08.945938Z",
     "start_time": "2019-08-19T18:51:08.839421Z"
    }
   },
   "outputs": [
    {
     "data": {
      "text/plain": [
       "1032895"
      ]
     },
     "execution_count": 24,
     "metadata": {},
     "output_type": "execute_result"
    }
   ],
   "source": [
    "topics_list_dataframe.index.nunique()"
   ]
  },
  {
   "cell_type": "code",
   "execution_count": 25,
   "metadata": {
    "ExecuteTime": {
     "end_time": "2019-08-19T18:52:06.873208Z",
     "start_time": "2019-08-19T18:52:06.782654Z"
    }
   },
   "outputs": [
    {
     "data": {
      "text/plain": [
       "1032895"
      ]
     },
     "execution_count": 25,
     "metadata": {},
     "output_type": "execute_result"
    }
   ],
   "source": [
    "abstracts.index.nunique()"
   ]
  },
  {
   "cell_type": "code",
   "execution_count": 13,
   "metadata": {
    "ExecuteTime": {
     "end_time": "2019-08-19T20:18:26.308696Z",
     "start_time": "2019-08-19T20:18:25.783942Z"
    }
   },
   "outputs": [],
   "source": [
    "concat = pd.concat([abstracts,topics_list_dataframe],axis=1)"
   ]
  },
  {
   "cell_type": "code",
   "execution_count": 14,
   "metadata": {
    "ExecuteTime": {
     "end_time": "2019-08-19T20:19:00.797354Z",
     "start_time": "2019-08-19T20:19:00.754041Z"
    }
   },
   "outputs": [
    {
     "data": {
      "text/html": [
       "<div>\n",
       "<style scoped>\n",
       "    .dataframe tbody tr th:only-of-type {\n",
       "        vertical-align: middle;\n",
       "    }\n",
       "\n",
       "    .dataframe tbody tr th {\n",
       "        vertical-align: top;\n",
       "    }\n",
       "\n",
       "    .dataframe thead th {\n",
       "        text-align: right;\n",
       "    }\n",
       "</style>\n",
       "<table border=\"1\" class=\"dataframe\">\n",
       "  <thead>\n",
       "    <tr style=\"text-align: right;\">\n",
       "      <th></th>\n",
       "      <th>index</th>\n",
       "      <th>PROJECT_ID</th>\n",
       "      <th>ABSTRACT</th>\n",
       "      <th>0</th>\n",
       "      <th>1</th>\n",
       "      <th>2</th>\n",
       "    </tr>\n",
       "  </thead>\n",
       "  <tbody>\n",
       "    <tr>\n",
       "      <th>0</th>\n",
       "      <td>0</td>\n",
       "      <td>103915</td>\n",
       "      <td>EDUCATION IN ACTION NASA Exchange City Learnin...</td>\n",
       "      <td>0</td>\n",
       "      <td>0.000000</td>\n",
       "      <td>0.0</td>\n",
       "    </tr>\n",
       "    <tr>\n",
       "      <th>1</th>\n",
       "      <td>1</td>\n",
       "      <td>103916</td>\n",
       "      <td>Educational Advancement Alliance Inc Math Scie...</td>\n",
       "      <td>1</td>\n",
       "      <td>0.000000</td>\n",
       "      <td>0.0</td>\n",
       "    </tr>\n",
       "    <tr>\n",
       "      <th>2</th>\n",
       "      <td>2</td>\n",
       "      <td>103917</td>\n",
       "      <td>CUBRC, Inc FY09 Earmark Entitled,  to continue...</td>\n",
       "      <td>2</td>\n",
       "      <td>0.000000</td>\n",
       "      <td>0.0</td>\n",
       "    </tr>\n",
       "    <tr>\n",
       "      <th>3</th>\n",
       "      <td>3</td>\n",
       "      <td>103918</td>\n",
       "      <td>University Corporation for Atmospheric Researc...</td>\n",
       "      <td>3</td>\n",
       "      <td>0.000108</td>\n",
       "      <td>0.0</td>\n",
       "    </tr>\n",
       "    <tr>\n",
       "      <th>4</th>\n",
       "      <td>4</td>\n",
       "      <td>103919</td>\n",
       "      <td>Proposal Number: 0850898PI:  John Doyle       ...</td>\n",
       "      <td>4</td>\n",
       "      <td>0.000000</td>\n",
       "      <td>0.0</td>\n",
       "    </tr>\n",
       "  </tbody>\n",
       "</table>\n",
       "</div>"
      ],
      "text/plain": [
       "   index  PROJECT_ID                                           ABSTRACT  0  \\\n",
       "0      0      103915  EDUCATION IN ACTION NASA Exchange City Learnin...  0   \n",
       "1      1      103916  Educational Advancement Alliance Inc Math Scie...  1   \n",
       "2      2      103917  CUBRC, Inc FY09 Earmark Entitled,  to continue...  2   \n",
       "3      3      103918  University Corporation for Atmospheric Researc...  3   \n",
       "4      4      103919  Proposal Number: 0850898PI:  John Doyle       ...  4   \n",
       "\n",
       "          1    2  \n",
       "0  0.000000  0.0  \n",
       "1  0.000000  0.0  \n",
       "2  0.000000  0.0  \n",
       "3  0.000108  0.0  \n",
       "4  0.000000  0.0  "
      ]
     },
     "execution_count": 14,
     "metadata": {},
     "output_type": "execute_result"
    }
   ],
   "source": [
    "concat.head()"
   ]
  },
  {
   "cell_type": "code",
   "execution_count": 15,
   "metadata": {
    "ExecuteTime": {
     "end_time": "2019-08-19T20:19:43.252811Z",
     "start_time": "2019-08-19T20:19:42.795085Z"
    }
   },
   "outputs": [],
   "source": [
    "filtered = concat[(concat[1] != 0) | (concat[2] != 0)]"
   ]
  },
  {
   "cell_type": "code",
   "execution_count": 16,
   "metadata": {
    "ExecuteTime": {
     "end_time": "2019-08-19T20:20:18.316780Z",
     "start_time": "2019-08-19T20:20:18.297201Z"
    }
   },
   "outputs": [
    {
     "data": {
      "text/plain": [
       "416312"
      ]
     },
     "execution_count": 16,
     "metadata": {},
     "output_type": "execute_result"
    }
   ],
   "source": [
    "len(filtered)"
   ]
  },
  {
   "cell_type": "code",
   "execution_count": 26,
   "metadata": {
    "ExecuteTime": {
     "end_time": "2019-08-19T20:33:10.418289Z",
     "start_time": "2019-08-19T20:32:37.504290Z"
    }
   },
   "outputs": [],
   "source": [
    "filtered.to_csv('filtered_results.csv')"
   ]
  },
  {
   "cell_type": "code",
   "execution_count": 8,
   "metadata": {
    "ExecuteTime": {
     "end_time": "2019-08-20T13:40:25.887346Z",
     "start_time": "2019-08-20T13:40:17.266709Z"
    }
   },
   "outputs": [],
   "source": [
    "filtered = pd.read_csv('filtered_results.csv')"
   ]
  },
  {
   "cell_type": "code",
   "execution_count": 9,
   "metadata": {
    "ExecuteTime": {
     "end_time": "2019-08-20T13:41:07.974310Z",
     "start_time": "2019-08-20T13:41:07.057704Z"
    }
   },
   "outputs": [],
   "source": [
    "filtered_abstracts = filtered[' ABSTRACT'].values.tolist()"
   ]
  },
  {
   "cell_type": "code",
   "execution_count": 10,
   "metadata": {
    "ExecuteTime": {
     "end_time": "2019-08-20T13:41:44.032056Z",
     "start_time": "2019-08-20T13:41:43.997088Z"
    }
   },
   "outputs": [
    {
     "data": {
      "text/plain": [
       "416312"
      ]
     },
     "execution_count": 10,
     "metadata": {},
     "output_type": "execute_result"
    }
   ],
   "source": [
    "len(filtered_abstracts)"
   ]
  },
  {
   "cell_type": "code",
   "execution_count": 30,
   "metadata": {
    "ExecuteTime": {
     "end_time": "2019-08-19T18:56:21.798387Z",
     "start_time": "2019-08-19T18:56:21.787197Z"
    }
   },
   "outputs": [],
   "source": [
    "pd.set_option('display.max_colwidth', -1)"
   ]
  },
  {
   "cell_type": "code",
   "execution_count": 19,
   "metadata": {
    "ExecuteTime": {
     "end_time": "2019-08-19T20:22:44.946826Z",
     "start_time": "2019-08-19T20:22:44.935073Z"
    }
   },
   "outputs": [],
   "source": [
    "opioid_terms = ['opioid','opiate','morphine','heroin',\n",
    "                'percocet','vicoprofen','dextromethorphan','loperamide',\n",
    "                'naloxegol','hydrocodone','oxycodone','fentanyl',\n",
    "                'naloxone','analgesics','carfentanil','benzodiazepines',\n",
    "                'narcotic','opium','cocaine','codeine',\n",
    "                'pain relief','cancer pain','anesthesia','chronic pain',\n",
    "                'nerve pain','fibromyalgia','overdose','addiction',\n",
    "                'withdrawal','dependence','recreational use','euphoria',\n",
    "                'tolerance','controlled substance','over-prescription',\n",
    "                'peripheral nervous system','psychoactive','agonist',\n",
    "                'antagonist','blood-brain']"
   ]
  },
  {
   "cell_type": "code",
   "execution_count": 21,
   "metadata": {
    "ExecuteTime": {
     "end_time": "2019-08-19T20:25:05.578713Z",
     "start_time": "2019-08-19T20:24:40.341811Z"
    }
   },
   "outputs": [],
   "source": [
    "results = []\n",
    "for term in opioid_terms:\n",
    "    for abstract in filtered[' ABSTRACT']:\n",
    "        results.append([term,abstract])"
   ]
  },
  {
   "cell_type": "code",
   "execution_count": null,
   "metadata": {
    "ExecuteTime": {
     "end_time": "2019-08-19T20:28:15.548061Z",
     "start_time": "2019-08-19T20:26:04.443Z"
    }
   },
   "outputs": [],
   "source": [
    "len(results)"
   ]
  },
  {
   "cell_type": "code",
   "execution_count": 24,
   "metadata": {
    "ExecuteTime": {
     "end_time": "2019-08-19T20:30:09.085966Z",
     "start_time": "2019-08-19T20:30:09.079600Z"
    }
   },
   "outputs": [],
   "source": [
    "pd.set_option('display.max_colwidth', -1)"
   ]
  },
  {
   "cell_type": "code",
   "execution_count": null,
   "metadata": {
    "ExecuteTime": {
     "end_time": "2019-08-19T20:28:36.704294Z",
     "start_time": "2019-08-19T20:28:21.570818Z"
    }
   },
   "outputs": [],
   "source": [
    "results = pd.DataFrame(results)\n",
    "results"
   ]
  },
  {
   "cell_type": "code",
   "execution_count": 23,
   "metadata": {
    "ExecuteTime": {
     "end_time": "2019-08-16T18:01:13.114629Z",
     "start_time": "2019-08-16T18:01:12.839765Z"
    }
   },
   "outputs": [],
   "source": [
    "filtered = topics_list_dataframe[(topics_list_dataframe[1] != 0) | (topics_list_dataframe[2] != 0)]"
   ]
  },
  {
   "cell_type": "code",
   "execution_count": 31,
   "metadata": {
    "ExecuteTime": {
     "end_time": "2019-08-16T18:22:05.242368Z",
     "start_time": "2019-08-16T18:22:05.135559Z"
    }
   },
   "outputs": [],
   "source": [
    "filtered = filtered.rename(columns={0:'index'})"
   ]
  },
  {
   "cell_type": "code",
   "execution_count": 37,
   "metadata": {
    "ExecuteTime": {
     "end_time": "2019-08-16T18:48:07.426770Z",
     "start_time": "2019-08-16T18:48:07.285599Z"
    }
   },
   "outputs": [],
   "source": [
    "filtered = filtered.reset_index()"
   ]
  },
  {
   "cell_type": "code",
   "execution_count": null,
   "metadata": {},
   "outputs": [],
   "source": [
    "abstracts = abstracts.reset_index()"
   ]
  },
  {
   "cell_type": "code",
   "execution_count": 39,
   "metadata": {
    "ExecuteTime": {
     "end_time": "2019-08-16T18:56:29.498215Z",
     "start_time": "2019-08-16T18:56:22.425138Z"
    }
   },
   "outputs": [],
   "source": [
    "topics_abstracts = abstracts.merge(filtered,on='index')"
   ]
  },
  {
   "cell_type": "code",
   "execution_count": 17,
   "metadata": {
    "ExecuteTime": {
     "end_time": "2019-08-20T16:14:40.803559Z",
     "start_time": "2019-08-20T16:12:39.385418Z"
    }
   },
   "outputs": [
    {
     "name": "stdout",
     "output_type": "stream",
     "text": [
      "violation: 1.0\n",
      "violation: 0.5176337571181686\n",
      "violation: 0.050164562381222834\n",
      "violation: 0.011162182993669261\n",
      "violation: 0.0025927295912233244\n",
      "violation: 0.0006365453148000184\n",
      "violation: 0.00018226397383737058\n",
      "violation: 4.611443097461428e-05\n",
      "Converged at iteration 8\n"
     ]
    }
   ],
   "source": [
    "nmf_W = nmf_100_2.transform(tfidf) # get topics to documents matrix\n",
    "nmf_H = nmf_100_2.components_ # get word to topics matrix"
   ]
  },
  {
   "cell_type": "code",
   "execution_count": 20,
   "metadata": {
    "ExecuteTime": {
     "end_time": "2019-08-20T16:17:58.705132Z",
     "start_time": "2019-08-20T16:17:54.346513Z"
    }
   },
   "outputs": [
    {
     "name": "stdout",
     "output_type": "stream",
     "text": [
      "Topic 0:\n",
      "----------------------------\n",
      "genetic genes variants genome variation identify genetics traits association genomic\n",
      "----------------------------\n",
      "Topic 1:\n",
      "----------------------------\n",
      "research investigators translational support development university biomedical researchers new career\n",
      "----------------------------\n",
      "Topic 2:\n",
      "----------------------------\n",
      "intervention interventions adherence randomized trial group based efficacy months participants\n",
      "----------------------------\n",
      "Topic 3:\n",
      "----------------------------\n",
      "subproject institution nih center isfor andinvestigator crisp theresources entries necessarily\n",
      "----------------------------\n",
      "Topic 4:\n",
      "----------------------------\n",
      "hiv infected aids infection antiretroviral art msm prevention transmission risk\n",
      "----------------------------\n",
      "Topic 5:\n",
      "----------------------------\n",
      "cancer nci cancers pancreatic colon prevention colorectal survivors members oncology\n",
      "----------------------------\n",
      "Topic 6:\n",
      "----------------------------\n",
      "core projects investigators administrative cores provide services support expertise ppg\n",
      "----------------------------\n",
      "Topic 7:\n",
      "----------------------------\n",
      "training trainees faculty postdoctoral fellows scientists doctoral predoctoral medicine biology\n",
      "----------------------------\n",
      "Topic 8:\n",
      "----------------------------\n",
      "gene expression genes chromatin epigenetic transcription rna regulation histone transcriptional\n",
      "----------------------------\n",
      "Topic 9:\n",
      "----------------------------\n",
      "pain chronic neuropathic analgesic nociceptive sensitization peripheral hyperalgesia nerve painful\n",
      "----------------------------\n",
      "Topic 10:\n",
      "----------------------------\n",
      "cells cd4 cd8 antigen cell epithelial effector mice human nk\n",
      "----------------------------\n",
      "Topic 11:\n",
      "----------------------------\n",
      "opioid opioids receptor morphine receptors mu mor prescription buprenorphine dependence\n",
      "----------------------------\n",
      "Topic 12:\n",
      "----------------------------\n",
      "brain fmri neural regions connectivity functional changes activity neuronal disorders\n",
      "----------------------------\n",
      "Topic 13:\n",
      "----------------------------\n",
      "inflammatory inflammation il immune macrophages pro anti cytokines cytokine macrophage\n",
      "----------------------------\n",
      "Topic 14:\n",
      "----------------------------\n",
      "alcohol drinking ethanol alcoholism dependence consumption abuse binge use aud\n",
      "----------------------------\n",
      "Topic 15:\n",
      "----------------------------\n",
      "treatment therapy cbt treatments placebo efficacy trial randomized effective study\n",
      "----------------------------\n",
      "Topic 16:\n",
      "----------------------------\n",
      "data statistical analysis collection methods database study management analyses design\n",
      "----------------------------\n",
      "Topic 17:\n",
      "----------------------------\n",
      "students student graduate undergraduate school science biomedical college engineering faculty\n",
      "----------------------------\n",
      "Topic 18:\n",
      "----------------------------\n",
      "protein proteins membrane structure structural binding rna molecular folding interactions\n",
      "----------------------------\n",
      "Topic 19:\n",
      "----------------------------\n",
      "obesity weight food intake energy diet fat obese dietary eating\n",
      "----------------------------\n",
      "Topic 20:\n",
      "----------------------------\n",
      "older adults physical disability risk mobility life falls oaic geriatric\n",
      "----------------------------\n",
      "Topic 21:\n",
      "----------------------------\n",
      "children child parents pediatric childhood early school families parent family\n",
      "----------------------------\n",
      "Topic 22:\n",
      "----------------------------\n",
      "climate species change forest changes water land ecosystem ecosystems ecological\n",
      "----------------------------\n",
      "Topic 23:\n",
      "----------------------------\n",
      "center administrative director administration support leadership activities committee resources scientific\n",
      "----------------------------\n",
      "Topic 24:\n",
      "----------------------------\n",
      "sleep insomnia wake osa apnea disturbance night disturbances deprivation rem\n",
      "----------------------------\n",
      "Topic 25:\n",
      "----------------------------\n",
      "cocaine addiction relapse seeking administration reinstatement nac craving induced abstinence\n",
      "----------------------------\n",
      "Topic 26:\n",
      "----------------------------\n",
      "imaging pet mri image resolution mr ct magnetic optical images\n",
      "----------------------------\n",
      "Topic 27:\n",
      "----------------------------\n",
      "intestinal gut bacterial host bacteria microbiota microbial microbiome ibd infection\n",
      "----------------------------\n",
      "Topic 28:\n",
      "----------------------------\n",
      "care patient quality medical outcomes services providers healthcare primary practice\n",
      "----------------------------\n",
      "Topic 29:\n",
      "----------------------------\n",
      "dna repair damage replication methylation genome recombination strand chromatin dsb\n",
      "----------------------------\n",
      "Topic 30:\n",
      "----------------------------\n",
      "cognitive schizophrenia deficits control attention behavioral measures symptoms neural prefrontal\n",
      "----------------------------\n",
      "Topic 31:\n",
      "----------------------------\n",
      "neurons sensory neural neuronal olfactory circuits synaptic activity motor circuit\n",
      "----------------------------\n",
      "Topic 32:\n",
      "----------------------------\n",
      "drug abuse drugs addiction nida methamphetamine compounds medications administration prescription\n",
      "----------------------------\n",
      "Topic 33:\n",
      "----------------------------\n",
      "smoking nicotine smokers tobacco cessation quit abstinence relapse cigarette smoke\n",
      "----------------------------\n",
      "Topic 34:\n",
      "----------------------------\n",
      "project projects needed use summary pilot goal ppg overall focus\n",
      "----------------------------\n",
      "Topic 35:\n",
      "----------------------------\n",
      "viral infection virus viruses replication infected hsv host infections siv\n",
      "----------------------------\n",
      "Topic 36:\n",
      "----------------------------\n",
      "tumor tumors metastasis metastatic progression growth microenvironment melanoma anti radiation\n",
      "----------------------------\n",
      "Topic 37:\n",
      "----------------------------\n",
      "oa cartilage knee joint osteoarthritis articular acl chondrocytes progression chondrocyte\n",
      "----------------------------\n",
      "Topic 38:\n",
      "----------------------------\n",
      "wound healing tissue wounds repair corneal matrix mechanical regeneration diabetic\n",
      "----------------------------\n",
      "Topic 39:\n",
      "----------------------------\n",
      "dr career candidate award independent training investigator development plan mentor\n",
      "----------------------------\n",
      "Topic 40:\n",
      "----------------------------\n",
      "health disparities public mental outcomes racial policy ethnic population disease\n",
      "----------------------------\n",
      "Topic 41:\n",
      "----------------------------\n",
      "lung pulmonary injury fibrosis alveolar respiratory epithelial ali acute cf\n",
      "----------------------------\n",
      "Topic 42:\n",
      "----------------------------\n",
      "bone fracture osteoporosis marrow fractures pth loss skeletal resorption formation\n",
      "----------------------------\n",
      "Topic 43:\n",
      "----------------------------\n",
      "substance use risk abuse adolescent youth adolescents sexual adolescence behaviors\n",
      "----------------------------\n",
      "Topic 44:\n",
      "----------------------------\n",
      "tolerance immune transplantation transplant gvhd donor treg graft rejection induction\n",
      "----------------------------\n",
      "Topic 45:\n",
      "----------------------------\n",
      "circadian clock rhythms clocks scn light rhythm bmal1 metabolic melatonin\n",
      "----------------------------\n",
      "Topic 46:\n",
      "----------------------------\n",
      "community communities disparities based african education american rural participatory cbpr\n",
      "----------------------------\n",
      "Topic 47:\n",
      "----------------------------\n",
      "ad amyloid alzheimer tau disease dementia pathology app mci aβ\n",
      "----------------------------\n",
      "Topic 48:\n",
      "----------------------------\n",
      "insulin glucose resistance metabolic metabolism fat secretion sensitivity adipose lipid\n",
      "----------------------------\n",
      "Topic 49:\n",
      "----------------------------\n",
      "stress crf anxiety oxidative depression chronic hpa induced response stressors\n",
      "----------------------------\n",
      "Topic 50:\n",
      "----------------------------\n",
      "mir mirnas mirna micrornas expression microrna rnas mrna rna mirs\n",
      "----------------------------\n",
      "Topic 51:\n",
      "----------------------------\n",
      "signaling activation pathway pathways receptor induced mechanisms role kinase mediated\n",
      "----------------------------\n",
      "Topic 52:\n",
      "----------------------------\n",
      "breast cancer mammary metastasis women metastatic mammography estrogen brca1 cancers\n",
      "----------------------------\n",
      "Topic 53:\n",
      "----------------------------\n",
      "management production soil crop practices pest water crops agricultural quality\n",
      "----------------------------\n",
      "Topic 54:\n",
      "----------------------------\n",
      "cell migration cycle cellular differentiation proliferation sickle biology death adhesion\n",
      "----------------------------\n",
      "Topic 55:\n",
      "----------------------------\n",
      "diabetes diabetic type complications risk t1d glycemic glucose t2dm islet\n",
      "----------------------------\n",
      "Topic 56:\n",
      "----------------------------\n",
      "liver hepatic fibrosis hcc hbv nafld nash hepatitis disease chronic\n",
      "----------------------------\n",
      "Topic 57:\n",
      "----------------------------\n"
     ]
    },
    {
     "name": "stdout",
     "output_type": "stream",
     "text": [
      "decision making decisions choice information reward choices make policy value\n",
      "----------------------------\n",
      "Topic 58:\n",
      "----------------------------\n",
      "animal animals models human primate mice laboratory model mouse studies\n",
      "----------------------------\n",
      "Topic 59:\n",
      "----------------------------\n",
      "stem differentiation renewal hematopoietic hsc cells niche hscs progenitor adult\n",
      "----------------------------\n",
      "Topic 60:\n",
      "----------------------------\n",
      "prostate men pca cancer androgen ar prostatic progression african bph\n",
      "----------------------------\n",
      "Topic 61:\n",
      "----------------------------\n",
      "clinical trials trial studies translational phase protocol medical conduct safety\n",
      "----------------------------\n",
      "Topic 62:\n",
      "----------------------------\n",
      "kidney renal ckd hypertension disease blood pressure chronic cardiovascular vascular\n",
      "----------------------------\n",
      "Topic 63:\n",
      "----------------------------\n",
      "program programs members year programmatic funding scientific biomedical departments progress\n",
      "----------------------------\n",
      "Topic 64:\n",
      "----------------------------\n",
      "subproject sources ncrr nih grant subprojectand resourcesprovided likelyrepresents center staff\n",
      "----------------------------\n",
      "Topic 65:\n",
      "----------------------------\n",
      "cardiac heart failure hf myocardial ventricular remodeling hypertrophy cardiovascular coronary\n",
      "----------------------------\n",
      "Topic 66:\n",
      "----------------------------\n",
      "self regulation assembly renewal control management administration hsc behaviors report\n",
      "----------------------------\n",
      "Topic 67:\n",
      "----------------------------\n",
      "skin uv melanoma cutaneous keratinocytes uvb epidermal human radiation hair\n",
      "----------------------------\n",
      "Topic 68:\n",
      "----------------------------\n",
      "social behavior behavioral behaviors asd autism emotional aggression individual neural\n",
      "----------------------------\n",
      "Topic 69:\n",
      "----------------------------\n",
      "conference meeting workshop scientists scientific science held international researchers field\n",
      "----------------------------\n",
      "Topic 70:\n",
      "----------------------------\n",
      "stroke motor rehabilitation recovery ischemic gait disability stimulation walking movement\n",
      "----------------------------\n",
      "Topic 71:\n",
      "----------------------------\n",
      "asthma airway allergic allergen th2 airways asthmatic asm inflammation respiratory\n",
      "----------------------------\n",
      "Topic 72:\n",
      "----------------------------\n",
      "vaccine immune responses vaccines vaccination immunity influenza antibody protection antibodies\n",
      "----------------------------\n",
      "Topic 73:\n",
      "----------------------------\n",
      "muscle skeletal muscles smooth atrophy strength function force satellite mass\n",
      "----------------------------\n",
      "Topic 74:\n",
      "----------------------------\n",
      "technology software users device user devices use design performance technologies\n",
      "----------------------------\n",
      "Topic 75:\n",
      "----------------------------\n",
      "systems models computational theory mathematical methods modeling model dynamics problems\n",
      "----------------------------\n",
      "Topic 76:\n",
      "----------------------------\n",
      "auditory hearing speech cochlear noise processing sound loss hair perception\n",
      "----------------------------\n",
      "Topic 77:\n",
      "----------------------------\n",
      "exposure effects exposures environmental prenatal exposed bpa air arsenic maternal\n",
      "----------------------------\n",
      "Topic 78:\n",
      "----------------------------\n",
      "spinal sci cord injury recovery nerve regeneration motor axons axonal\n",
      "----------------------------\n",
      "Topic 79:\n",
      "----------------------------\n",
      "network networks ctn wireless node connectivity internet regulatory infrastructure trials\n",
      "----------------------------\n",
      "Topic 80:\n",
      "----------------------------\n",
      "visual eye vision retinal attention glaucoma perception perceptual processing stimuli\n",
      "----------------------------\n",
      "Topic 81:\n",
      "----------------------------\n",
      "aim specific aims hypothesis test determine identify proposal model using\n",
      "----------------------------\n",
      "Topic 82:\n",
      "----------------------------\n",
      "ms cns eae myelin disease sclerosis mass autoimmune lc demyelination\n",
      "----------------------------\n",
      "Topic 83:\n",
      "----------------------------\n",
      "materials properties energy mechanical thermal material temperature polymer high chemical\n",
      "----------------------------\n",
      "Topic 84:\n",
      "----------------------------\n",
      "memory hippocampal hippocampus pfc memories working fear episodic retrieval cortex\n",
      "----------------------------\n",
      "Topic 85:\n",
      "----------------------------\n",
      "hcv infection hepatitis chronic ifn infected antiviral interferon ribavirin immune\n",
      "----------------------------\n",
      "Topic 86:\n",
      "----------------------------\n",
      "ptsd veterans tbi va fear trauma traumatic symptoms extinction military\n",
      "----------------------------\n",
      "Topic 87:\n",
      "----------------------------\n",
      "learning teachers science reward teaching extinction student learn education motor\n",
      "----------------------------\n",
      "Topic 88:\n",
      "----------------------------\n",
      "bladder urinary ic urothelial tract pelvic pbs luts voiding incontinence\n",
      "----------------------------\n",
      "Topic 89:\n",
      "----------------------------\n",
      "patients patient surgery therapy scd surgical disease study outcomes symptoms\n",
      "----------------------------\n",
      "Topic 90:\n",
      "----------------------------\n",
      "pd disease parkinson motor synuclein dbs dopaminergic l1 neurodegenerative lrrk2\n",
      "----------------------------\n",
      "Topic 91:\n",
      "----------------------------\n",
      "channels channel ca2 ion voltage calcium na membrane release epilepsy\n",
      "----------------------------\n",
      "Topic 92:\n",
      "----------------------------\n",
      "women sex men sexual risk pregnancy female reproductive male differences\n",
      "----------------------------\n",
      "Topic 93:\n",
      "----------------------------\n",
      "mitochondrial mitochondria ros dysfunction oxidative oxygen mtdna energy iron metabolism\n",
      "----------------------------\n",
      "Topic 94:\n",
      "----------------------------\n",
      "aging age related changes aged lifespan decline life longevity old\n",
      "----------------------------\n",
      "Topic 95:\n",
      "----------------------------\n",
      "dopamine da reward release neurons dat vta d2 receptors dopaminergic\n",
      "----------------------------\n",
      "Topic 96:\n",
      "----------------------------\n",
      "exercise physical aerobic activity training fitness intensity sedentary walking effects\n",
      "----------------------------\n",
      "Topic 97:\n",
      "----------------------------\n",
      "copd pulmonary disease obstructive emphysema chronic airway subjects ct lott\n",
      "----------------------------\n",
      "Topic 98:\n",
      "----------------------------\n",
      "ra arthritis rheumatoid disease autoimmune synovial joint sle diseases tnf\n",
      "----------------------------\n",
      "Topic 99:\n",
      "----------------------------\n",
      "oral dental caries hpv tooth periodontal craniofacial mutans taste cavity\n",
      "----------------------------\n"
     ]
    }
   ],
   "source": [
    "# View the list of topics (10 top words per topic)\n",
    "\n",
    "for topic_idx, topic in enumerate(nmf_H):\n",
    "    print(\"Topic %d:\" % (topic_idx))\n",
    "    print('----------------------------')\n",
    "    print(\" \".join([vectorizer_feature_names[i]\n",
    "                for i in topic.argsort()[:-10 - 1:-1]]))\n",
    "    print('----------------------------')"
   ]
  },
  {
   "cell_type": "code",
   "execution_count": 22,
   "metadata": {
    "ExecuteTime": {
     "end_time": "2019-08-20T16:42:17.933661Z",
     "start_time": "2019-08-20T16:42:08.742496Z"
    }
   },
   "outputs": [
    {
     "name": "stdout",
     "output_type": "stream",
     "text": [
      "--------------------\n",
      "Topic 0:\n",
      "--------------------\n",
      "genetic genes variants genome variation identify genetics traits association genomic\n",
      "--------------------\n",
      "The goal of the laboratory is to develop new approaches to the study of the genetic basis of cancer and its outcomes. Previously, the major focus was the analysis of common genetic variation in candidate genes in cancer and its related outcomes, particularly in immunocompromised individuals. Emphasis was on conducting pilot association studies and annotating candidate genes drawn from key pathways in innate immunity and cancer biology, such as telomere stability or nutrient transport (i.e., Vitamin C sodium dependent transport). The laboratory has developed expertise in bio-informatics and advanced genetic analyses with new platforms designed to test dense sets of single nucleotide polymorphisms (SNPs), which are the most common genetic variants in the human genome. Specifically, the laboratory has integrated approaches to identify and validate common SNPs and ancestral haplotypes, which could be used to dissect the genetic basis of disease susceptibility.  The laboratory utilizes programs and approaches in population genetics, epidemiology and molecular evolution, which assist in the choice and analysis of genetic variants under study. The same strategy has also been extended to pilot studies in solid tumors, such as osteogenic sarcoma, colorectal and prostate cancer. In addition, the laboratory has initiated study of the genetic events underlying development of Ewings Sarcoma. A population genetics approach has been employed to examine the possible contribution of genomic variation in the EWSR1 region and also to look at genetic variants on distant chromosomes that could increase or decrease risk for Ewings Sarcoma.  Recently, the focus of the laboratory has shifted to dissect the genetic basis of SNP markers validated in large scale, genome-wide association studies (GWAS). This new approach can identify new regions to be studied in great detail and eventually applied to large molecular epidemiology studies to estimate the magnitude of the effect. It will also be possible to investigate the interaction between genes and environmental factors. Moreover, these markers may identify potential genotypic differences that could bear important predictive value for disease as well as highlight potential pathways related to both disease etiology and perhaps therapeutic intervention. We have developed a series of collaborations with leading epidemiologists and bio-statisticians in the Division of Cancer Epidemiology and Genetics (DCEG). Collaborative efforts have resulted in the development of new approaches to assess the false positive report probability (FPRP), a new tool intended to better assess the robustness of findings in genetic association studies. Lastly, the long-term goals of the laboratory are to identify and characterize genetic variants that could be used as prospective tools for early detection and intervention. the studies currently underway are directed at elucidating the biological basis of the susceptibility of risk alleles. At the same time, the current strategy continues to highlight genetic variants in key pathways in cancer susceptibility and outcome.  In addition, the laboratory is closely related to the NCI Core Genotyping Facility of the NCI. The availability of high throughput sequence and genotype expertise is critical for conducting pilot studies as well as sufficiently powered, well-designed studies in molecular epidemiology and pharmacogenomics. Adaptation and integration of new informatic tools, such as Genewindow and ht-SNP selection have also been implemented.  The laboratory has focused on a series of follow-up steps based on the results of the Cancer Genetic Markers of Susceptibility genome wide association studies of prostate and breast cancer. After extensive replication studies established strong statistical significance, the laboratory has begun to study the new loci, mapping the common and uncommon genetic variants in order to nominate suitable variants for functional studies, designed to provide plausibility to strong association signals. The laboratory will conduct a series of genetic analyses designed to dissect the genetic variants associated with disease risk also discovered in GWAS of other cancers, such pancreatic, bladder and lung cancers. These studies will include deep re-sequencing to develop a comprehensive catalogue of variants necessary to generate detailed haplotypes for subsequent genotyping large case controls. In turn, functional studies will be conducted to investigate the biological basis of the contribution of genetic variants to disease susceptibility. Collaboration with other laboratories will be sought to investigate the association between germ-line genetic variants and somatic changes in related tumor tissue.\n",
      "--------------------\n",
      "Topic 1:\n",
      "--------------------\n",
      "research investigators translational support development university biomedical researchers new career\n",
      "--------------------\n",
      "DESCRIPTION (provided by applicant): Research is an indispensible part of academia and scholarship for the University of Zimbabwe College of Health Sciences (UZCHS). Strengthening research is therefore an institutional obligation to which the college is fully committed. Criticalis development of highly skilled and motivated researchers backstopped by an effective research support base. Lack of an institutional research support structure has been recognized as a major barrier towards sustainable research capacity development in the college. This has become more evident as internationalization of research has increased competition for the limited pool of research funding. To effectively compete for funding and ensure quality research, the UZCHS needs to develop its research administration that will provide the base good grant management and support to researchers and students, ensuring the regeneration of research capacity. The proposed Institutional Research Administration Capacity Building (IRAC) Plan places priority on developing research administration capacity as a pre-requisite for broader research skills building and support for the research enterprise. This will be achieved primarily through the strengthening of a Research Support Centre (RSC) through training of the Extramural Associate and other RSC and departmental support staff in research and grants administration. The plan also includes the training and support for researchers and students to enhance awareness and appreciation of research, generate research interest in students and junior faculty, and develop requisite skills for grant application and conduct of research. The RSC will coordinate the various activities that will range from grant administration through clinical trials support, research training courses, data management and research information services. The UZCHS has committed to ensuring synergies of the proposed project with other research and capacity building initiatives in the college. The main objectives of the IRAC are to: Strengthen research administration through distance and residency training at NIH and other funding and research institutions; Strengthen grants administration through targeted training of RSC and other staff in the college; Strengthening the research information system at RSC to ensure effective identification of funding and training opportunities, timely provision and easy access to relevant research information; Enhancing the research knowledge and skills, especially of junior scientists through appropriate short research training course (grant writing,research methods, data management etc) thereby enhancing ability to develop good quality proposals and employ good research practices in implementing their projects; Strengthening the research governance framework in order to engender a culture of research; Providing data management and clinical trial support services; Reaching out to other organizations for establishment of networks of excellence in research administration. These objectives will be achieved through a variety of interlinked and synergistic activities that involve training, technicl support and provision of the necessary equipment. The IRAC is for a period of five years and is estimated to cost about $235,000.00.  PUBLIC HEALTH RELEVANCE: Developing research administration capacity is critical for effective and sustainable overall research capacity building in the UZCHS. The capacity building will enable the college to create a culture of research underpinned by effective and efficient utilization of its human and material resources that will facilitate and sustain indigenous scientiic leadership that conducts nationally relevant research. This is imperative with the ever increasing shift by funding agencies from targeting individuals to rely more on institutional accountability o research funds.\n",
      "--------------------\n",
      "Topic 2:\n",
      "--------------------\n",
      "intervention interventions adherence randomized trial group based efficacy months participants\n",
      "--------------------\n",
      "DESCRIPTION (provided by applicant):  There is a dearth of information on the mechanisms, and potential moderators, of physical activity (PA) intervention effectiveness. Understanding the mechanisms of PA change will aid in successful intervention development while understanding moderators and will allow a matching of intervention components to individual needs of particular populations. To definitively understand mechanisms and moderators of behavior change it is necessary to develop theory-based interventions that include specific strategies that target proposed mechanisms of change while monitoring the proposed mediating and moderating variables prior to and following intervention. This proposal highlights the use of the Ecological Model of Physical Activity (EMPA) as a theoretical guide to strategy development. The EMPA highlights the necessity to address individual (biological & psychosocial) and environmental variables (e.g., PA resource accessibility) when developing and implementing interventions. Health care patients who have been referred for a treadmill cardiovascular stress test--but do not present abnormal ECG or chest pain during testing-will be will be stratified by diagnosis of low heart rate recovery, a potential biological moderator of intervention effectiveness. To detect the potential independent and combined effects of individual motivation and environmental accessibility we will conduct a randomized 2X2 factorial trial to test proposed mediators of effectiveness. Participants (n=500) will be randomized to an individual (I), environmental (E), combination (l+E), or matched contact nutrition control. All intervention conditions will include a CD-ROM session, 3 tailored mail, and 3 tailored automated telephone follow-ups over a 6-month period. We will assess the reach, effectiveness, clinician adoption, and staff implementation of these interventions, individually, in combination, and when compared to controls among an understudied and high need population--individuals who are at an elevated risk, but have not yet suffered a serious cardiac event (approximately 3,000,000 individuals/year in the US). The results of this project will identify the causal, and potentially additive, relationships of environmental and individual mediators of PA change and allow the examination of potential biological moderators of effectiveness. Because intervention typically effects decrease over time and studies do not address setting-related issues necessary to ensure sustainability of delivery at the organizational level we will determine the maintenance of intervention effects on causal mechanisms and PA, 6 & 12 months following intervention. The interventions will be developed for delivery within the regular scope of treadmill stress testing by typical medical staff and cost of delivery will be assessed for each intervention condition. This project uniquely utilizes methods that will facilitate institutionalization of the intervention components following the successful completion of the trial and potential adoption of the intervention in other health care settings.\n",
      "--------------------\n",
      "Topic 3:\n",
      "--------------------\n",
      "subproject institution nih center isfor andinvestigator crisp theresources entries necessarily\n",
      "--------------------\n",
      "This subproject is one of many research subprojects utilizing theresources provided by a Center grant funded by NIH/NCRR. The subproject andinvestigator (PI) may have received primary funding from another NIH source,and thus could be represented in other CRISP entries. The institution listed isfor the Center, which is not necessarily the institution for the investigator.Preparation of the present report.\n",
      "--------------------\n",
      "Topic 4:\n",
      "--------------------\n"
     ]
    },
    {
     "name": "stdout",
     "output_type": "stream",
     "text": [
      "hiv infected aids infection antiretroviral art msm prevention transmission risk\n",
      "--------------------\n",
      "DESCRIPTION (provided by applicant): HIV dementia (HIV-D) and HIV-associated sensory neuropathy (HIV-SN) are the most common neurological manifestations of advanced HIV infection. The prevalence of HIV-D and HIV-SN in Sub- Saharan Africa where the majority of HIV cases reside globally is largely unknown. In addition, HIV subtype may have an impact on HIV disease progression, suggesting the possibility that HIV subtypes may differ with respect to their ability to cause neurological disease. The project will assemble a cohort of HIV+ individuals in Uganda: 1) to determine the prevalence of and risk factors associated with HIV-D and HIV-SN among untreated HIV+ individuals with moderate advanced immunosuppression, 2) to determine whether untreated HIV+ individuals decline from baseline in neuropsychological test performance, and peripheral nerve function, and 3) to obtain preliminary data to determine whether HIV subtypes differ with respect to the risk of HIV-D and HIV-SN, and progression of HIV-associated cognitive impairment and peripheral nerve function. We propose one of the first large scale prospective studies of HIV-D and HIV-SN in Sub-Saharan Africa. This proposal will provide the data necessary to characterize the prevalence and progression of HIV-D and HIV-SN, which could be used for future R01 applications. HIV-associated cognitive impairment is currently not an indication for HAART initiation in HIV+ individuals with a CD4 count in the 201-350 cells/¿L range. Our proposal will provide the data necessary to determine if clinical practice parameters for the initiation of HAART among HIV+ individuals with moderate immunosuppression and mild neurocognitive impairment should be changed in countries within Sub-Saharan Africa such as Uganda. Our proposal will examine whether HIV subtypes may differ with respect to their ability to cause HIVassociated CNS and PNS dysfunction. The proposal will also provide training for the HIV clinician-scientists in Kampala, Uganda in research studies of HIV-associated neurological disease. Based upon our preliminary data, we believe that HIV-D and HIV-SN are frequently unrecognized complications of advanced HIV infection in Sub-Saharan Africa, and are a significant cause of morbidity in HIV+ individuals in Uganda, which if identified early, can be treated effectively with antiretroviral therapy and symptomatic therapies.     PUBLIC HEALTH RELEVANCE: The epidemiology of HIV dementia (HIV-D) and HIV-associated sensory neuropathy (HIV-SN) in Sub-Saharan Africa where the majority of HIV cases reside globally is largely unknown. The project will assemble a cohort of HIV+ individuals in Uganda: 1) to determine the prevalence of and risk factors associated with HIV-D and HIV-SN among untreated HIV+ individuals with moderate-advanced immunosuppression, 2) to determine whether untreated HIV+ individuals decline from baseline in neuropsychological test performance, and peripheral nerve function, and 3) to obtain preliminary data to determine whether HIV subtypes differ with respect to the risk of HIV-D and HIV-SN.\n",
      "--------------------\n",
      "Topic 5:\n",
      "--------------------\n",
      "cancer nci cancers pancreatic colon prevention colorectal survivors members oncology\n",
      "--------------------\n",
      "The SEER Program was initiated in 1972 in response to requirements of the National Cancer Program for assessing the magnitude of the cancer burden in the United States, and for identifying factors related to cancer risk and/or patient survival. The SEER Program has among its objectives: 1. To assemble and report, on a periodic basis, estimates of cancer incidence, especially among the following key cancer sites: breast cancer, lung cancer, colorectal cancer, prostate cancer, pancreatic cancer, and urinary bladder cancer. 2. To monitor annual cancer incidence trends to identify unusual changes in specific forms of cancer occurring in population subgroups defined by geographic, demographic, and social characteristics. 3. To provide continuing information on changes over time in extent of disease at diagnosis, trends in therapy, and changes in cancer patient survival. 4. To identify the occurrence of possible iatrogenic cancers, i.e., cancers that are caused by cancer therapy. 5. To serve as a research resource to the National Cancer Institute, and conduct studies dealing with current cancer control issues as well as problems related to the operation of the SEER Program.\n",
      "--------------------\n",
      "Topic 6:\n",
      "--------------------\n",
      "core projects investigators administrative cores provide services support expertise ppg\n",
      "--------------------\n",
      "The Data Management/Statistical Core is a key component of the Center. The Core will serve as a support mechanism to the Center's overall research program. The overall objective of the Core is to facilitate the ability of the Center's investigators to conduct research that is of the highest standards and to disseminate the research outcomes to the academic and service communities and industry. The Core will provide statistical and analytical support to the research programs at all of the sites. The Core will also provide technical support for the research projects. In addition, the Core will serve as the depository for the cross-site core battery of measures. The Core will build on the structures developed in CREATE I for data collection, storage, transfer, and management, and quality control for the core battery. The methods developed in CREATE I will be further enhanced during the proposed CREATE II project to ensure that they reflect recent strategies in data management and that they meet the requirements of the Center's proposed research program. The Core will also assume primary responsibility for analyzing the core battery data and provide statistical and analytical support for the planned cross-site longitudinal study (see Management Core) and all subsequent cross-site projects. In addition, the Core will provide consultation to the Center's investigators on research methods and statistical analyses for all of the proposed research projects, the pilot research studies, and any  spin-off  research projects. To ensure adequate communication with Center investigators the Co-Directors of the Core will be part of the Executive Working Group of the Center (see Management Core) and participate in the monthly conference calls and Center meetings. The Co-Directors for the Core will also participate in the preparation of project reports and manuscripts and dissemination of project outcomes. Finally, the Core will help to ensure that all projects are compliant with IRB andHIPAA regulations. The Core has been structured to balance data management and analytical responsibilities. The team of investigators that has been assembled for the Core has extensive experience in advanced statistical methods, research design, programming, and simulation. The ultimate goal of the Core is to maximize the integrity and quality of the Center's data and to ensure that the outcomes of the Center are of the highest standards.\n",
      "--------------------\n",
      "Topic 7:\n",
      "--------------------\n",
      "training trainees faculty postdoctoral fellows scientists doctoral predoctoral medicine biology\n",
      "--------------------\n",
      "DESCRIPTION (provided by applicant):    Continuation of the currently funded predoctoral and postdoctoral training program in the pharmacology and neuroscience of drug abuse is proposed. This five-year program will consist of funding for 3 predoctoral and 3 postdoctoral trainees per year. The program has already completed training 2 predoctoral students, and two are currently supported by this grant. Four postdoctoral trainees have been supported by this grant so far; one received an individual NRSA after one year of training, one completed the planned two years of training, and two are currently in training. Faculty participation is comprised of a) 15 training faculty who serve as mentors and who are either currently funded by NIDA or whose research programs can provide training relevant to drug abuse issues, and b) 5 resource faculty who contribute to the program via teaching and laboratory training. Approximately 27,500 square feet of laboratory space, a wide array of state-of-the art chemical, physiological and behavioral testing equipment, and approximately $3.5 million (direct) of federally sponsored research funds are designated annually for the research of the training faculty. The program for predoctoral trainees consists of a comprehensive neuropharmacology/neuroscience didactic curriculum which includes a course on the biology of addiction as well as related topics (e.g., effects of prenatal drug exposure, treatment of addiction) integrated into broader-based courses. Predoctoral trainees must complete research projects in three laboratories prior to choosing a mentor and developing a thesis project. Both predoctoral and postdoctoral trainees are required to attend an annual seminar program consisting of presentations by 20 invited speakers and all trainees must present a one hour research seminar annually as well. All trainees also are required to participate in a journal club course designed to teach them how to present effectively written research for publication and how to critique published literature. Training in ethical conduct of research is required of all trainees. The current and proposed program provides a multifaceted approach to understanding mechanisms of drug abuse and treatment through an integrated program of didactic work and an outstanding in-depth research experience. It is designed to train participants to become independent, ethical and skilled scientists able to make significant contributions in drug abuse research. Predoctoral training is expected to last 4-5 years; postdoctoral training duration is 2-3 years. All aspects of the program are administered by the director and an executive committee of administrative and training faculty.\n",
      "--------------------\n",
      "Topic 8:\n",
      "--------------------\n",
      "gene expression genes chromatin epigenetic transcription rna regulation histone transcriptional\n",
      "--------------------\n",
      "﻿   DESCRIPTION (provided by applicant):    The regulation of gene expression dictates when, where, and to what degree protein isoforms are generated, thereby meeting the metabolic needs of various cell types that make up organs and living beings. Given the constantly changing microenvironment, this process is highly dynamic, capable of adjusting instantly to multiple external cues, or mounting gene expression responses within extended periods of time. To achieve diverse gene expression responses cells rely on multiple points of regulation that include modulating the origin and rate of transcription,altering pre-mRNA processing to induce the generation of alternatively spliced mRNA isoforms, changing the length or location of the 3' UTR through alternative polyadenylation, selective mRNA isoform translation, and altering the stability of mRNA pools. All of these gene expression steps are integrated and co-dependent. However, our understanding of the dynamic nature of gene expression is limited because most cell-based investigations analyze only steady-state levels of gene expression and because detailed analyses focus only on one of the multiple steps involved in representing a gene expression profile. This research application focuses on evaluating the dynamics of gene expression from pre-mRNA generation through RNA processing in the nucleus to translation and mRNA degradation in the cytoplasm with the long-term goal to chart the life span of all expressed mRNAs upon cellular transformation. We will test the hypothesis that alterations in the kinetics of gene expression steps set in stone unique gene expression programs that dictate cellular fate. Using novel metabolic labeling techniques we will track pre-mRNA dynamics in the nucleus (Aim 1) and mRNA dynamics in the cytoplasm (Aim 2) to develop a comprehensive understanding on the kinetic interplay that establishes steady-state gene expression patterns. Aim 3 will use this understanding and tools to determine to what degree alterations in the dynamics of gene expression steps contribute to the overall change in gene expression profiles that accompany Src-induced breast epithelial cell transformation. The experiments described will highlight how crucial the interplay between transcription, RNA processing and mRNA translation is for the development of altered gene expression programs. Furthermore, understanding the kinetics involved in establishing novel gene expression profiles may pave the way for novel therapies of human breast cancer. Throughout this project we will rely on our expertise in kinetics, RNA biology and bioinformatics to obtain complete kinetic profiles of gene expression unique to Src-induced breast epithelial cell transformation, thus producing a wealth of data useful to the gene expression and breast cancer research communities. The identification of breast cancer-specific gene expression events may be valuable for the development of novel early detection or prediction tools.\n",
      "--------------------\n",
      "Topic 9:\n",
      "--------------------\n",
      "pain chronic neuropathic analgesic nociceptive sensitization peripheral hyperalgesia nerve painful\n"
     ]
    },
    {
     "name": "stdout",
     "output_type": "stream",
     "text": [
      "--------------------\n",
      "DESCRIPTION (provided by applicant): Older adults are at increased risk to develop prolonged pain and experience greater pain-related loss of physical and psychosocial function compared to younger cohorts. We propose that changes in endogenous pain modulatory capacity accounts for increased incidence of pain and disability in older adults. That endogenous pain modulation dysfunction is related to persistent pain is supported by a number of studies comparing chronic pain patients with healthy controls using a  pain-inhibition-by-pain  experimental model. Although this research group (and others) has shown age deficiencies using the  pain inhibits pain  model, other human laboratory models that are known to engage pain modulatory systems have not been tested across the lifespan, each potentially involving different mechanisms. The overarching goal of the proposed research is to characterize age-related changes in pain inhibitory and facilitatory function and to investigate the biopsychosocial mediators and clinical relevance of these changes. Our preliminary data suggest that sophisticated psychophysical methods reflecting net inhibitory or facilitatory effects are sensitive to changes across the lifespan and will provide a more comprehensive and clinically-relevant picture of changes in pain processing associated with aging. This proposed study will enroll 180 human subjects, ages 18-79, who will undergo assessment during three pain modulatory sessions at baseline. The pain modulatory tests will include inhibitory protocols; diffuse noxious controls and offset analgesia, and tests that involve pain facilitation; temporal summation, impaired decay of subthreshold pain (proxy for central sensitization), and a prolonged protocol which we have found produces greater temporal sensitization across repeated trials in older subjects. Individualized temperatures for the contact heat test stimulus will be used so that subjects experience similar, moderate levels of pain. We hypothesize that age will be associated with poorer endogenous pain inhibition from pain inhibitory protocols and increased pain from protocols that facilitate pain. A range of biopsychosocial markers will be measured that we hypothesize will mediate the association between age and variability in pain modulation. These measures include psychosocial factors (catastrophizing, sleep, stress, and negative emotions) and biological markers (blood pressure, 2-endorphin, cortisol, and other hypothalamic-pituitary- adrenal and immune markers). After establishing individual levels of pain facilitation and pain inhibition, we will assess pain during daily life and the impact of pain on quality of life using a series of telephone interviews and novel real-time electronic data capture each month for 6 months. We expect that changes in our pain modulatory tests will account for observed age differences in pain frequency, more pain intensity, number of pain sites, and in quality of life.    PUBLIC HEALTH RELEVANCE: Older persons are at greater risk of developing prolonged pain, and when they do, they suffer a greater impact of pain on quality of life than younger persons. This study will employ cutting-edge pain testing techniques to test for changes in pain inhibitory capacity, which we hypothesize contribute to increased incidence of pain and disability in older adults. As a public health problem, the increase in numbers of elders expected in our nation's population in the coming decades render understand the mechanism behind increased pain among older adults a compelling area for research\n",
      "--------------------\n",
      "Topic 10:\n",
      "--------------------\n",
      "cells cd4 cd8 antigen cell epithelial effector mice human nk\n",
      "--------------------\n",
      "Lymphocyte numbers are regulated both by responses to conventional exogenous antigens and endogenous microflora, by stimulation by self-peptide/MHC complexes and by the action of a series of cytokines. This multifaceted regulation permits individuals to maintain a broad repertoire of lymphocytes of distinctive specificities, allowing responses against a vast array of foreign substances and, at the same time, providing a pattern of memory based on the immunization history of the individual. The study of the process of lymphocyte dynamics that underlies this regulation requires a multidisciplinary approach, aimed both at the molecular underpinnings of the processes through which lymphocytes survive and proliferate and a systems/ computational biology approach to appreciate the overall mechanisms governing total numbers of lymphocytes of distinct phenotype and distinct specificity. Emphasis has been placed on four aspects of this problem: the priming, expansion and differentiated phenotype of naive CD4 T cells in response to antigen challenge, the dynamics of lymphocyte memory and of memory phenotype cells, the mechanisms underlying CD4 T cell depletion in HIV infection, and the process of homeostatic proliferation and death. In an effort to develop strategies to enhance response of nave and memory cells to their cognate antigens, it was observed that the most potent stimulant of such expansion was the cytokine IL-1. When expansion of CD4 TCR transgenic T cells in a syngeneic host in response to antigen was measured, it was found that administering IL-1 over a 3 to 5 day period caused a ten-fold or greater enhancement in the degree of expansion when compared to that seen using conventional adjuvants such as LPS. This was equally true for naive and memory cells and was not mediated by other cytokines. The use of recipients that were IL-1 receptor knockouts and IL-1 receptor-sufficient donors of TCR transgenic T cells showed that IL-1 could act directly on the responding CD4 or CD8 T cells to mediate expansion. IL-1 receptor antagonist diminished the adjuvant effect of LPS indicating that a substantial portion of the effect of this conventional adjuvant was due to endogenous production of IL-1. The very robust effect of IL-1 suggests it may have a role in certain immunization strategies.IL-1 acts directly on CD4 T cells to enhance their differentiation into IL-17 producing cells.  However, although IL-1 acts directly on CD8 cells to mediate their expansion, differentiation of CD8 into efficient cytotoxic cells requires the action of IL-1 on non-T cells. IL-1 strikingly enhances the frequency of effector/memory CD8 T cells that migrate into peripheral tissues such as lung and liver.  Such migration requires expression of IL-1R1 on a cell other than the responding T cells. Strikingly, the effects of IL-1 during priming are retained at the time of secondary challenge even though IL-1 is not administered again.  Thus, the secondary response in mice primed in the presence of IL-1 includes increased in numbers of antigen-specific effector CD8 T cells, a greater presence in the tissues, and the expression of large amounts of granzyme B. Unexpectedly, IL-1-driven granzyme B induction of CD8 T cells is primarily mediated by vascular endothelial cells, a conclusion that was supported by co-culture experiments showing that IL-1 signals HUVEC cells, which in turn increase the number of granzyme B+ CD8 T cells. These findings suggest that expansion and effector differentiation of CD8 T cells are differentially regulated by IL-1. Moreover, preliminary experiments also showed that IL-1 administration increases the antitumor activity of CD8 T cells against B16 melanoma cells. Memory CD4 T cell proliferation was shown to be quite slow.  Specific T cells from mice infected with LCMV divide at a rate of <2% per day.  By contrast CD44bright CD25- CD4 T cells divide much more rapidly, at 8 to 10% per day.  This rapid steady state proliferation of  memory phenotype  CD4 T cells is similar in conventional and germfree mice. Analysis of the repertoire of memory phenotype undergoing proliferation revealed no difference in receptor complexity from that of non-dividing memory phenotype cells.  This implies that division is largely stochastic and probably dominantly driven by cytokines or other endogenous ligands rather than by peptide/ MHC complexes, whether of exogenous or endogenous origin. An important question is the role these cells might play in host defense. Is their generation and development into effector cells an irrelevant consequence of how the immune system has evolved or do these cells contribute to pathogen resistance by providing a form of innate-like immunity?  Recent studies suggest that the latter is the case.Memory phenotype and authentic memory cells differ from one another not only in their proliferative rates but, based on an RNA-SEQ analysis, also on the expression of NUR77, the latter being highly expressed on authentic memory cells even 30 days after priming, when they are already quiescent.  Interestingly, in neonatal mice, the memory phenotype pool is efficiently colonized and preliminary results suggest that after 2 weeks of age, thymic emigrants enter the pool very inefficiently.  We suspect then that the memory phenotype pool represents a set of self-specific cells generated early in the life of the individual and capable of producing Th1, Th2 or Th17 type cytokines early in infections as a results of stimulation of these cells through key cytokines, self-peptide MHC complexes or a combination of the two.  In a sense, these cells are adaptive Th cells with a potent innate functionalityCD4+ T cells are composed of nave, pathogen-specific memory, and pathogen-independent memory-phenotype (MP) cells. Nave and pathogen-specific memory cells play key roles in adaptive immune responses to primary and secondary infections, respectively. By contrast, MP cells are known to develop independently of foreign antigens but the homeostatic mechanisms regulating their generation and maintenance as well as their biological functions are unclear.Previously we had shown that MP cells are generated from nave cells not only in lymphopenic but also in lymphoreplete environments, dependently of TCR signaling induced by available pMHC ligands including self antigens and CD28 signaling. Once generated, these MP cells became less dependent upon TCR signaling but still required CD28 for their proliferation. Interestingly, these MP cells seemed to have innate-like function; they produced IFN- at a very early time point of Toxoplasma infection (as early as day 2 post infection).To address the mechanisms of this innate-like function, in this year we examined the IFN- production by MP cells in more details. We firstly confirmed that MP cells but not Ag-specific effector cells derived from nave cells produce IFN- even when TCR signaling is blocked by Y3P antibody or cyclosporine A during infection. This IFN- production was almost exclusively seen in T-bet hi but not in T-bet lo MP cells, was dependent upon IL-12 and further promoted by IL-18. Furthermore, MP cells could significantly prolong survival of T. gondii-infected Rag c KO mice, especially in the presence of IL-12, suggesting the biological importance of this innate-like cell population.Further investigation will establish how MP cells exert their function in the periphery, which may lead to development of novel therapeutic strategy toward Th1-related infectious and inflammatory diseases.\n",
      "--------------------\n",
      "Topic 11:\n",
      "--------------------\n",
      "opioid opioids receptor morphine receptors mu mor prescription buprenorphine dependence\n",
      "--------------------\n",
      "DESCRIPTION (provided by applicant): Chronic nonmalignant pain is highly prevalent, and is associated with substantial personal suffering, lost productivity, and healthcare costs. Use of opioid analgesics for management of nonmalignant chronic pain has increased dramatically, yet is fraught with controversy due to associated side effects and abuse potential. Moreover, the analgesic efficacy of opioid analgesics can vary widely between individuals. Given the increasing use of opioid analgesics for the management of chronic pain, we aim in this project to improve understanding of factors that influence opioid analgesic effectiveness, and which may have relevance to understanding opioid risks. Possible predictors of individual differences in responses to opioid analgesics include traits of negative affect and emotion regulation, sex, experimental acute pain sensitivity, circulating levels of the endogenous opioid agonist beta-endorphin (BE), and efficiency of conditioned pain modulation (CPM). A common mechanism that may explain how these diverse factors could all predict opioid analgesic responses is endogenous opioid system function. We propose that traits of negative affect and emotion regulation, sex, acute pain sensitivity, plasma BE levels, and CPM may reveal direct effects on opioid analgesic responses, but may also exert influence indirectly via associations with functioning of endogenous opioid antinociceptive systems. We will use controlled laboratory methods to assess acute pain responses in 120 chronic low back pain (LBP) patients and 120 healthy controls across three sessions using a randomized, counterbalanced design: under placebo, opioid blockade (naloxone), and opioid agonist (morphine). Aim1 is to determine the degree to which an index of endogenous opioid function (opioid blockade effects on pain responses) is related to exogenous opioid analgesic effects, and to compare these associations in LBP patients to those shown in healthy people. This will be an innovative test of the hypothesis that better endogenous opioid function (larger opioid blockade effects) predict greater exogenous opioid analgesia. Aim 2 is to determine: a) the degree to which negative affect and emotion regulation traits, sex, acute pain sensitivity, resting plasma BE levels, and CPM are related to exogenous opioid analgesic effects (total effect); and b) the degree to which these factors are related indirectly to exogenous opioid analgesic effects via differences in endogenous opioid function (blockade effects) (mediation). Aim 3 will explore relationships among opioid side effects, indicators of opioid abuse potential, opioid analgesic efficacy, and endogenous opioid function. Results could improve not only theoretical understanding of how these potential markers for poor opioid analgesic response may operate directly versus through a common endogenous opioid mechanism, but eventually permit clinical characterization of likely costs/benefits of opioid-based pain management a priori for a given patient. In addition, results may suggest interventions that could directly target common pain modulatory mechanisms underlying these predictive factors.    PUBLIC HEALTH RELEVANCE: Use of opioid analgesics for management of nonmalignant chronic pain has increased, but is fraught with controversy because of risk of abuse, dependence and side effects, and because analgesic efficacy can vary widely between individuals. It is crucial that we identify ways of discriminating patients who will achieve optimal benefit from opioid analgesics from those who may experience few treatment benefits yet still run the risk of side effects. This project will test several potential predictors of poor opioid analgesic responsiveness, and will seek to understand common endogenous opioid mechanisms that may underlie these predictive effects.\n",
      "--------------------\n",
      "Topic 12:\n",
      "--------------------\n",
      "brain fmri neural regions connectivity functional changes activity neuronal disorders\n"
     ]
    },
    {
     "name": "stdout",
     "output_type": "stream",
     "text": [
      "--------------------\n",
      "DESCRIPTION (provided by applicant): My goal for the K25 award is to establish myself as an independent neuroimaging researcher with expertise in brain network analysis and an integral member of multidisciplinary research teams devoted to addressing diseases of the brain. Attaining these objectives will require focused didactic training and research guidance. Research We will develop new methodology to improve whole-brain connectivity analyses of normal and abnormal brain function. The launching of the Human Connectome Project by the NIH in 2009 underscores the importance of whole-brain connectivity analyses. Appropriately conducting these analyses is paramount in our understanding normal brain function as well as alterations due to conditions such as aging, dyslexia, and substance abuse. Before we can glean useful information from functional brain network differences in these conditions, methods need to be developed in order to permit 1) assessing several network properties simultaneously while also accounting for the complex dependence structure of the networks; 2) making predictions about the presence and strength (weight) of connections between brain regions based on disease status; 3) determining whether task related changes in brain networks are associated with clinical outcomes. The novel methods proposed here will address these needs, providing more appropriate techniques for the emerging area of whole-brain connectivity analysis. This research, along with my proposed training experiences and strong mentoring team, will facilitate my progression toward becoming an independent neuroimaging researcher with expertise in brain network analysis and enable me to make unique contributions to brain research. Training The proposed training plan consists of four elements: 1) a didactic component aimed at establishing a basic foundation in computational neuroscience and image analysis; 2) career guidance in methodological development and collaborative neuroimaging research through planned on and off-site mentoring by neuroscientists and network and neuroimaging statisticians; 3) conducting innovative research utilizing the gained neuroscientific and image analytic knowledge and previous statistical training; and 4) participating in the exchange of ideas in statistics and the neurosciences through conference and workshop attendance. The planned training activities will focus on deepening my understanding of the brain as a complex system, enabling me to reasonably model and evaluate this system within its biological context. The combination of my knowledge in network-based brain imaging statistics, computational neuroscience, and image analysis will be a valuable asset that will not be confined to a single brain disorder. While the data analyses proposed here will focus on aging and brain degeneration, dyslexia, and substance abuse, the skills and knowledge that I will gain will position me to collaborate with investigators that study a broad range of clinical brain disorders.  PUBLIC HEALTH RELEVANCE: My goal for the K25 award is to establish myself as an independent neuroimaging researcher with expertise in brain network analysis and an integral member of multidisciplinary research teams devoted to addressing diseases of the brain. The training activities will focus on deepening my understanding of the brain as a complex system, enabling me to reasonably model and evaluate this system in a biologically meaningful way. The research activities will focus on developing new methodology and modifying existing methods in order to improve whole-brain connectivity analyses of normal and abnormal brain function.\n",
      "--------------------\n",
      "Topic 13:\n",
      "--------------------\n",
      "inflammatory inflammation il immune macrophages pro anti cytokines cytokine macrophage\n",
      "--------------------\n",
      "DESCRIPTION (provided by applicant): Classically activated or inflammatory macrophages are characterized by enhanced microbial killing, production of inflammatory cytokines such as TNF, IL-1 and IL-6, and high level production of IL-6/IL-12 family cytokines (IL-6, IL-12, IL-23 and IL-27) that regulate acquired immune responses. Inflammatory macrophages and their cytokine products play a key role in the pathogenesis of many autoimmune/inflammatory diseases, including rheumatoid arthritis (RA), inflammatory bowel disease and atherosclerosis, and possibly systemic lupus erythematosus (SLE). This application will focus on mechanisms that selectively regulate expression of specific subsets of inflammatory macrophage genes. Selective regulation of subsets of macrophage genes allows fine-tuning of distinct effector functions. Our long term goals are to understand mechanisms that selectively regulate macrophage effector functions important in human autoimmune and inflammatory diseases and to utilize this knowledge in development of new therapeutic approaches. We are particularly interested in regulation of activation and function of human monocytes as they enter inflammatory sites and differentiate into inflammatory macrophages, as this activation process is highly relevant for inflammatory disease pathogenesis. Therefore, we have initiated studies to identify mechanisms that selectively regulate human monocyte/macrophage activation in response to the prototypic macrophage-activating receptors TLR4 and TLR2. These TLRs elicit strong macrophage activation that serves as a good model for studying macrophage responses to inflammatory factors, including cytokines such as IL-1 and TNF that activate similar pathways. In addition, TLRs have been directly implicated in many autoimmune diseases, likely secondary to mediating responses to damaged tissues or cells (for example TLR2/4 in arthritis and TLR3/7/8/9 in lupus). We have identified a specific subset of TLR-inducible genes that are synergistically activated by TLRs and the Notch signaling pathway. Notch pathway components and target genes are expressed during inflammation, including in arthritis and atherosclerosis. TLRs directly activated Notch- dependent genes by IKK- and p38-mediated pathways, including activation of the transcriptional repressors Hes1 and Hey1 that selectively regulated expression of IL-6, IL-12 and IL-27. In this application, we will investigate molecular mechanisms by which TLRs and Notch synergize to activate expression of macrophage effector genes and the mechanisms and (patho)physiological significance of cytokine gene regulation by Hes1 and Hey1. We will use human systems that are directly relevant for inflammatory disease pathogenesis and murine models to further address the in vivo significance of our findings. We anticipate that our studies will yield insights into selective regulation of macrophage effector functions that can be exploited for therapeutic interventions to suppress inflammation in autoimmune diseases.  PUBLIC HEALTH RELEVANCE: Macrophages are immune cells that produce inflammatory cytokines that are important in many autoimmune and inflammatory diseases, including rheumatoid arthritis (RA), inflammatory bowel disease and atherosclerosis, and possibly systemic lupus erythematosus (SLE). Cytokines are proven therapeutic targets in human autoimmune diseases, and this application will focus on understanding how the production of these cytokines is regulated. We anticipate that our studies will yield insights that can be exploited for therapeutic interventions to suppress inflammation in autoimmune diseases.\n",
      "--------------------\n",
      "Topic 14:\n",
      "--------------------\n",
      "alcohol drinking ethanol alcoholism dependence consumption abuse binge use aud\n",
      "--------------------\n",
      "DESCRIPTION (provided by applicant): Learned associations between alcohol and the people, places and paraphernalia (cues) surrounding alcohol drinking represent a major barrier to the successful treatment of alcohol dependence; these associations are remarkably persistent, despite efforts to extinguish them, and can trigger alcohol craving and relapse even after long periods of abstinence. Thus, associations between alcohol and alcohol cues constitute a unique target for treatment but there is little clinical evidence of how the associations are formed, and limited empirical support for a direct effect of cues on alcohol consumption. The long-term goal of this research is to understand how alcohol cues become powerfully linked with alcohol drinking, their influences on physiology and behavior, and how they promote alcohol consumption and alcohol dependence. The objective of the proposed research project is to determine how associations between alcohol and the places where it is consumed influence ad lib drinking and the behavioral processes underlying the causal link using a de novo conditioning model in heavy drinkers. This novel model, developed in the applicants' laboratory, is particularly well-suited to studying conditioned alcohol associations because exposure to alcohol and alcohol-paired environments can be carefully controlled allowing a comprehensive analysis of the results. The working hypothesis is that alcohol conditioned cues (contexts) alter behavior and subjective responses to alcohol which mediate an increase in drinking. The rationale for the project is that vital knowledge regarding conditioned responses to alcohol contexts will lead to novel strategies to counteract responses to conditioned alcohol cues, their influence on behavior, and alcohol drinking. The hypothesis, based upon strong preliminary data from the applicants' laboratory, will be tested by three specific aims: 1) Identify mood, behavior and subjective responses to alcohol in the alcohol-paired context, 2) Assess ad lib alcohol drinking in the alcohol-paired context and determine how it is related to mood, behavior and subjective responses to alcohol, and 3) Determine how individual differences in alcohol subjective response influence the development of conditioned associations between alcohol and contexts. We believe that the proposed plan of research is innovative because it will examine how conditioned associations between alcohol and contexts are formed in humans, the influence of the conditioned associations on mood and behavior, and their direct effect on alcohol consumption. This research project is significant because it will advance and expand understanding of how conditioned associations between alcohol and cues are acquired and of their influences on alcohol reward, wanting and consumption. Ultimately this knowledge is expected to inform the development of novel strategies and pharmacotherapies to counteract responses to the conditioned cues in effective treatment approaches.\n",
      "--------------------\n",
      "Topic 15:\n",
      "--------------------\n",
      "treatment therapy cbt treatments placebo efficacy trial randomized effective study\n"
     ]
    },
    {
     "name": "stdout",
     "output_type": "stream",
     "text": [
      "--------------------\n",
      "DESCRIPTION (provided by applicant): Evidence for the effectiveness of community-based psychosocial treatments for adolescent substance use disorders is mixed, at best. Researchers' inability to detect strong or replicable treatment effects may result from their focus on the post-treatment effects of a single incident treatment episode. Recent conceptualizations of addiction and treatment suggest that these approaches which compare pre-post treatment effects may obscure some of treatment's most salient effects. For one, treatment effects should be expected to be greatest during treatment or concurrently. Second, from a treatment careers perspective, multiple treatment episodes over time are likely to lead to cumulative effects, which would be greater than those observed for any individual treatment episode. Finally, considerations of client heterogeneity suggest that effects of treatment may be greatest for a subgroup of patients (moderated effects), with such effects being obscured when combined with the smaller effects expected for other patients.  With this renewal we propose to estimate the causal effects of treatment on adolescent outcomes by examining these three types of treatment effects which addiction theory suggests have an important role, but which have yet to be satisfactorily measured.  To do so, we have assembled a large set of adolescent treatment outcomes data collected by RAND, the Center on Substance Abuse Treatment, and Chestnut Health Systems and which include background information, treatment outcomes and treatment histories for more than 10,000 adolescent treatment admissions. Using this rich data and a powerful new casual modeling technique for time-varying treatments, marginal structural models with inverse probability of treatment weighting, we propose four new aims: (1) Estimate the treatment effects of different levels of care on drug use and other outcomes observed while youths remain in treatment; (2) Estimate the causal effect of cumulative treatment experiences of different levels of care on 1-, 2-, and 6-year drug use and other outcomes; (3) Estimate how baseline and time-varying client characteristics moderate the concurrent and cumulative effects of level of care on recovery and substance use outcomes; and (4) Develop and evaluate statistical methods required for Aims 1 to 3, and compare findings to those produced using conventional treatment research methods. PUBLIC HEALTH RELEVANCE: The goal of this project is to determine causal effects of treatment services for adolescents on drug use and other outcomes using powerful, new causal modeling techniques that allow us to study the concurrent effects of treatment, the cumulative effects of multiple treatment episodes, and differential effects for subgroups of clients. To accomplish this objective, we will use a large set of adolescent treatment outcomes data that has been collected by RAND, the Center on Substance Abuse Treatment, and Chestnut Health Systems, which includes treatment outcomes and treatment histories for more than 15,000 adolescent treatment admissions. By pursuing this research, we will improve the measurement and understanding of the effects of treatment and develop and disseminate more relevant and robust causal modeling approaches to substance abuse treatment services research than are currently standard in the field, thereby addressing key goals set by the 2004 Blue Ribbon Commission Task Force on Health Services Research at the National Institute on Drug Abuse.\n",
      "--------------------\n",
      "Topic 16:\n",
      "--------------------\n",
      "data statistical analysis collection methods database study management analyses design\n",
      "--------------------\n",
      "C. Data Management and Analysis Core1. ObjectiveThe objective of the Data Management and Analysis Core is to continue to provide data managementservices and statistical expertise to Program Project investigators in a wide range of data acquisition andanalysis activities. Integral to the goals of each project is the management and analysis of Core observational,interview, questionnaire, and behavioral data, as well as management and analysis of data from the individualprojects. Data management activities draw on the considerable resources of the Data Management andAnalysis Center (DMAC) at the Frank Porter Graham Child Development Center (FPG) at UNC and TheMethodology Center (TMC) at PSD. Specific Aims of the Data Management and Analysis Core are to:1) Implement the planned missing design in conjunction with the Executive Committee.2) Develop and maintain data management strategies that process data collected in the common protocol andthe individual projects efficiently and accurately.3) Design and maintain integrated databases of project and common protocol data.4) Develop and implement data analysis plans using innovative analytic methods for longitudinal dataincluding variable-centered and person-centered approaches to address research questions incollaboration with project investigators.5) To set in place a data archiving system for data sharing.These goals require the collaboration of experienced statisticians and computer programmers. The DMACprogrammers have expertise in all aspects of quantitative data management, from the entry and tracking ofdata to the generation of analysis files and statistical programming. The DMAC and TMC statisticianscollaborated with these and other investigators regarding design and statistical issues across many earlychildhood research projects. The Data Management and Analysis Core provides high level expertise to theProgram Project in each of these areas. The use of an experienced data acquisition and analysis center toprocess and analyze data across the projects will provide both high levels of quality control and costeffectiveness.A central data acquisition and analysis center is especially important for this Program Project because datafrom each project contributes to the common protocol for use by all projects in addressing their hypotheses.In particular, executive functioning and self regulation measures collected by Project I, classroom observationsand child cognitive/academic outcomes collected by Project II, and family process measures collected byProject III, and community measures from the core are primary predictor or outcome measures used inanalyses by all projects. Central coordination of data processing and analysis will ensure the consistent andtimely processing of these ¿data^for-all- inyestigatgrsv Careful documentation of data scoring, including the reliability and distributions of summary variables, will facilitate the use of one project's data by other projectinvestigators.The services provided by the Data Management and Analysis Core pertain to almost all phases of theresearch including design, data collection, data entry, and analysis. The main advantage of having acentralized facility for data management and computing is the ability to provide coordinated services thataddress the wide range of issues involved in these activities. By coordinating data processing activities for allprojects, duplication of effort is reduced, efficiencies of data management and analyses are generated, andopportunities for higher level analysis across data sets from different projects are made available. Thus,maximum communication is obtained across all projects to further the understanding of data to be analyzed, aswell as the statistical procedures for those analyses. Furthermore, synergy among projects is enhancedthrough having the same programmers and statisticians working across projects.\n",
      "--------------------\n",
      "Topic 17:\n",
      "--------------------\n",
      "students student graduate undergraduate school science biomedical college engineering faculty\n",
      "--------------------\n",
      "DESCRIPTION (provided by applicant): Hunter College proposes to continue, expand and improve its 27year old (1981) MBRS supported RISE program which has produced approximately 66 PhDs (38 in progress) from students who are underrepresented in science. In this Revision, we seek a supplement to support our Graduate Student Training program. In the competitive renewal of this grant (submitted May 2007), only the Undergraduate Research Training Program was supported. At both the undergraduate and graduate level, students who are underrepresented in science receive an intensive research experience in a laboratory engaged in nationally funded, competitive, state of the art, biomedical science research. At the undergraduate level (10 supported students), it also involves intensive mentoring by a faculty member and other enrichment activities intended to enhance science performance and to inspire and motivate students to seek advanced degrees in science (PhD) and a research career. Undergraduate students also attend extramural summer research programs either at many sites in the USA. At the graduate level (12 PhD and 2 MS supported students), it also provides an environment which promotes the achievement of a PhD and entry into future science careers. Graduate students attend the twice monthly Graduate Student Forum where topics include professional development guidance, research guidance, enhancement of communication skills (oral and written) and talks by scientists from academia and government and by former graduates of the program. These sessions are held at Hunter College and at the Graduate and University Center of the City University of New York (CUNY). In addition, workshops on similar and other topics are provided by CUNY Graduate Center and Hunter College. A Physics Prep Course, sponsored by RISE and CUNY Graduate Center, provides tutoring and problem solving for courses and for the Physics Qualifying Exam in order to increase the number of URM and non-URM Physics PhD students. The MBRS RISE goal is to increase the numbers of underrepresented minority students engaged in biomedical and behavioral research, and to broaden the opportunities for underrepresented minority students to participate in biomedical and behavioral research. A number of specific objectives to meet this goal are detailed in the specific aims and evaluation plan for both undergraduate and graduate students. These were based on outcome measures for RISE and non-RISE students at Hunter College. The most important aims for graduate students include maintaining graduation rates of 90% for PhD and 75% for MS students. 90% of students will enter post doctoral positions. The time for passing qualifying examinations and receiving PhDs of RISE students will be decreased to match rates of non-RISE students. The number of student publications will be increased to the rate of non-RISE students (3/student). Finally, 3.5 students/year will receive PhDs. The addition of the Graduate program to the current RISE grant will expand the College's tradition of graduating large numbers of minority students who become graduate students, receive PhDs, enter post doctoral fellowships and become faculty members engaged in science research at colleges and universities in NYC and elsewhere in the USA.     Public Health Relevance Statement: Graduate students enrolled in Ph.D. programs will receive research training in biomedical areas. Thus, this program will educate and train the next generation of scientists who engage in research to benefit public health.\n",
      "--------------------\n",
      "Topic 18:\n",
      "--------------------\n"
     ]
    },
    {
     "name": "stdout",
     "output_type": "stream",
     "text": [
      "protein proteins membrane structure structural binding rna molecular folding interactions\n",
      "--------------------\n",
      "DESCRIPTION (provided by applicant): How proteins fold, that is attain their three-dimensional structure, is a fundamental biological process with important implications for human health. Misfolded proteins are often toxic, as illustrated by the number of neurodegenerative diseases referred to as  protein folding diseases . Molecular chaperones play vital roles in remodeling protein structure -- assisting de novo protein folding, preventing protein aggregation and disassembling protein complexes. Hsp70-based machineries, having J-proteins as obligate components, are amongst the most highly conserved molecular chaperone systems. J-proteins are a very diverse set of proteins, having only the 70 amino acid J-domain in common. All J-proteins share the ability to stimulate the ATPase activity of their partner Hsp70s, allowing them to capture client proteins. But it is their functional diversity that enables them to orchestrate Hsp70's capacity to participate in a wide array of complex and diverse biological functions. This proposal focuses on understanding the basis of the specificity of J-proteins function. Two J-proteins of the yeast cytosol have been chosen for in depth analysis: Sis1 and Zuo1. This choice is based on their critical importance and their high degree of sequence conservation. Their human homologs are able to substitute for the yeast proteins, thus the outcome of this work will serve as a paradigm for understanding J-protein function in other organisms. To understand the specificity of Sis1, its function in the propagation of yeast prions will be exploited, as it is specifically required for fragmentation of prion complexes. Thus, results will also yield important information about the biogenesis and propagation of these self-replicating amyloid protein aggregates. Zuo1 is a highly conserved ribosome-associated chaperone that facilitates interaction of Hsp70 with nascent polypeptides as they exit the ribosome. Ribosome-associated chaperones serve as a link between protein synthesis and protein folding and are thus a key to the cell<s production of functional proteins. In addition, we will investigate roles of molecular chaperones in the nucleus, focusing on novel regulatory functions independent of and separable from chaperone activity. PUBLIC HEALTH RELEVANCE: The research described in this proposal focuses on understanding the processes of protein folding and maturation within living cells and the important roles of molecular chaperones in them. Productive protein folding is critical to normal cell function; protein misfolding is the primary cause of many human diseases, including cystic fibrosis and neurodegenerative diseases such as Alzheimer's disease.\n",
      "--------------------\n",
      "Topic 19:\n",
      "--------------------\n",
      "obesity weight food intake energy diet fat obese dietary eating\n",
      "--------------------\n",
      "DESCRIPTION (provided by applicant):  Obesity is a serious and growing public health problem in the United States and the world. While many overweight and obese individuals can lose weight, few can maintain weight loss for substantial periods of time. This suggests that physiological adaptations occur with weight loss that oppose further weight loss and promote weight regain. The weight reduced state is associated with alterations in meal-related hormone responses as well as long-term adiposity signals such as leptin both potentially promoting increased energy intake. While these signals may directly impact energy balance regulation, there is increasing evidence that these physiologic signals interact with reward, behavioral and cognitive systems to ultimately enhance food intake. For example, in normal weight individuals, there appear to be important interactions between environmental food-related cues and brain regions known to be important in the homeostatic regulation of food intake, and these interactions are affected by food intake and energy balance. These responses appear to be altered in obesity and more so following diet-induced weight loss which would favor increase food intake. This inability to properly adapt to the environment may represent an important mechanism for the difficulty of successful long-term weight loss maintenance. Successful weight loss maintenance interventions must, therefore, require control of energy balance via a complex interaction between physiologic and nonphysiologic systems, and understanding these mechanisms will allow for the potential development of new and/or better strategies for weight loss maintenance. Two such successful interventions are weight loss surgery and exercise. While both of these interventions have been shown to been associated with changes or 'normalization' in meal-related hormone responses that might favor reduced food intake, the mechanisms by which these interventions help promote weight loss and prevent weight regain are not well understood. Studies designed to elucidate the mechanisms of successful weight loss maintenance interventions such as these are a critical area for investigation. The overall goal of this proposal is to examine the effects of weight loss surgery and exercise on the neuronal, behavioral and hormonal response to a meal. It is hypothesized that these successful weight loss maintenance interventions will restore the normal neuronal response to a meal and that this improved neuronal response will be associated with changes in both meal associated hormones and appetite ratings. In order to examine these hypotheses we propose to use fMRI to examine the neuronal response to visual food cues before and after a meal as well as to study the hormonal response to a meal in individuals who have undergone Roux-en-Y gastric bypass or gastric banding as compared to diet control and in individuals maintaining weight loss through a supervised exercise intervention as compared to diet control.    PUBLIC HEALTH RELEVANCE:  Obesity is a serious and growing public health problem in the United States and the world. While many overweight and obese individuals can lose weight, few can maintain weight loss for substantial periods of time. This suggests that adaptations occur with weight loss that oppose further weight loss and promote weight regain. The most successful interventions for sustained weight loss are bariatric surgery and exercise. It is unclear, however, how these interventions help individuals maintain a reduced body weight. By understanding the complex interactions between the brain response to eating and food cues and physiologic changes with these interventions we hope to be able to develop new strategies and/or interventions for sustained weight loss.\n",
      "--------------------\n",
      "Topic 20:\n",
      "--------------------\n",
      "older adults physical disability risk mobility life falls oaic geriatric\n",
      "--------------------\n",
      "Cancer Screening in Healthy Older Adults: Understanding Quality of Life-Evidence Review  Further the Evidence Review being pursued by AHRQ to understand Cancer Screening in Healthy Older Adults and the Effect of Quality of Life Measures on Screening Decisions.  Support for an analysis of quality of life metrics to include a review of: existing measures, the consistency of current measures, and usefulness of existing measures as outcome measures in evaluating effectiveness of preventive services in older adults. Specifically, few policy statements about cancer screening give guidance about when to consider ending screening in older adults. Decreasing life expectancy, increasing comorbidities, and competing causes of death may be leading to less benefit and potentially more harm from screening interventions in older adults. Life expectancy is also extending and the population of older adults is expanding. In addition the analysis will include how existing measures of quality of life predict or explain decisions about screening, especially with respect to cancer, by older adults. This analysis will fill a recognized need for a thorough understanding of quality of life measures that was identified during a recent review on primary care relevant interventions to prevent onset of functional limitations. With this IAA we propose to address this need and advance the methodologic work in evaluating prevention in older adults. Improved understanding in this area is key to the understanding of factors relevant to cancer screening decision making in older adults. As the U.S. population ages, primary and secondary clinical preventive services have become important issues for clinicians and policy makers. Few policy statements about prevention give guidance specific to older adults that consider how benefits and harms may be different in older adults than in younger adults. Decreasing life expectancy, increasing comorbidities, and competing causes of death may be leading to less benefit and potentially more harm from clinical preventive services in older adults. There are challenges in evaluation of the evidence in older adults and in applying the evidence to developing recommendations specific to older adults. A specific challenge is determining when the net balance of benefits and harms becomes negative; that is, the harms begin to outweigh the benefits. One important consideration is how quality of life affects the estimation of benefits and harms of clinical preventive services.\n",
      "--------------------\n",
      "Topic 21:\n",
      "--------------------\n",
      "children child parents pediatric childhood early school families parent family\n",
      "--------------------\n",
      "DESCRIPTION (provided by applicant): The Fragile Families and Child Wellbeing Study (FFS) is a nationally representative, birth cohort study of approximately 4900 children born in large US cities (populations of 200,000 or more) between 1998 and 2000. The study includes: (1) interviews with mothers and fathers at birth and again when children are 1, 3, 5 and 9 years old, (2) medical records for a subset of mothers and children at birth, (3) in-home assessments of children and their home environments when children are 3, 5, and 9 years old, (4) interviews with children at age 9, (5) interviews with teachers when children are 3, 5, and 9 years old and (6) DNA samples from mothers and children when children are age 9. The study also includes in-depth, longitudinal interviews with a subset of approximately 75 couples during the first four years after the child's birth. The study design called for a large oversample of births to unmarried parents, and thus the data are a valuable resource for studying health disparities among minority and economically disadvantaged populations. To date, more than 1300 researchers have downloaded the public use data, and Google Scholar lists 730 scholarly articles, theses, books, and abstracts using the FFS data for the period covered by the current NICHD grant, 2006-2011. We seek funding to conduct another round of interviews with mothers and children when children are 15 years old. Our specific aims are to:   Update information on children's health and development and collect new data on health and health risk behavior, school performance, and anti- and pro-social behavior when children are age 15   Update information on contextual factors, including families, neighborhoods, schools and peers, when children are age 15, including retrospective data on family experiences since the last interview  Collect saliva samples from 3,600 children at age 15 to be used for future methylation analysis Approximately 3600 mothers and 3100 children will be interviewed via phone. These phone interviews will be 55 minutes for mothers and 45 minutes for children. Five hundred adolescents will be interviewed in person for approximately 1 hour.  PUBLIC HEALTH RELEVANCE: This project will extend the Fragile Families and Child Wellbeing Study (FFS), a nationally representative, birth cohort study of approximately 4900 children born in large US cities (populations of 200,000 or more) between 1998 and 2000, by collecting data from mothers and adolescents when the children are 15 years old on children's health and health risk behavior, school performance, and anti- and pro-social behavior; on contextual factors, including families, neighborhoods, schools, and peers; and on methylation using saliva samples from 3600 children at age 15. Adolescence is a critical period in human development when children engage in both positive and negative behaviors that are known to have lasting consequences for future health and wellbeing. The new data will dramatically increase our knowledge of how children's experiences in early and middle childhood influence adolescent behaviors and, ultimately, health and wellbeing in adulthood.\n",
      "--------------------\n",
      "Topic 22:\n",
      "--------------------\n",
      "climate species change forest changes water land ecosystem ecosystems ecological\n",
      "--------------------\n",
      "Understanding the structural and functional relationships and interactions between past and present climate, the geomorphic setting, natural disturbance regimes, and the anthropogenic history for impacting grassland, shrubland and desert ecosystems is necessary to determine ecosystem stability , resilience, or change in response to future climate changes.  To sustain or restore both ecosystem function and ecosystem services we need to better understand the interactions between the mix of human and natural disturbances, the critical thresholds associated with each, and how they will be affected by climate change.    A major complication of this goal is the increasing presence of invasive species and our limited understanding of what controls community stability.  Effective restoration following disturbance also requires better understanding of why the observed changes have occurred, particularly where climate change has had, and will have, a major influence.  Climates have changed constantly over the last two million years.  Considerable biotic change has resulted from the north-south and elevational migrations of plant species that has occurred throughout the region in response to past climate change during both the Pleistocene and the Holocene.  Climate changes have also been linked to geomorphic driven abiotic changes.  Plant species have responded independently to these past changes in climate and geomorphology, resulting in periodic reshuffling of community composition, particularly when the biotic or abiotic changes result in thresholds being crossed.  Long-term changes in natural disturbance patterns, in geomorphic processes and in vegetation dynamics, will continue into the future as a result of changes in local envronmental conditions resulting from climate change and anthropogenetically driven global change.  These changes will increasingly alter the environmental and biotic interactions with unknown affects on the structural and functional relationships of ecosystems, and their ability to provide ecosystem services. Objective(s): Acquire an improved understanding of climate and climate variability as drivers of past and present grassland, shrubland, and desert flora and faunal compositions, distributions, and ecosystem processes to assist in devising meaningful management scenarios for responding to potential future climatic changes Approach:  1.Continue to develop an understanding of how Great Basin upland and riparian plant communities have  responded to past climate changes; to provide better understanding of how vegetation may respond to the interactions of disturbance from future climate changes and land use activities, of critical thresholds that may be involved, and of their ability to maintain ecosystem services.  2.Continue landscape scale studies of changes in pinyon-juniper woodlands over the last 150 years to better understand how those woodland changes are anomalous when compared to the previous three to four centuries.  Identify existing and potential future thresholds in the landscapes, and how they will determine future conditions.   With the majority of these ongoing changes occurring over the next 50 years, the expected result will be an increase in the size and intensity of wildfires, and the loss of ecosystem services.  Research will continue on identifying the landscape locations, the extent and any thresholds associated with these changes, including the risk of conversion to dominance by invasive grasses and forbs.  3Continue identification of the past and possible future geomorphic changes associated with climate change that strongly influence plant community distribution, and responses to disturbance along riparian corridors provided by the Ecosystem Management Project for Restoring and Maintaining Great Basin Riparian Ecosystems with emphasis on identification of critical thresholds.4.Continue the development of methods for maintaining and restoring riparian communities and their ecosystem services based on information on how they are affected by climate change provided by the ongoing Ecosystem Management Project for Restoring and Maintaining Great Basin Riparian Ecosystems.  5.Identify the influences of climate, fire, and succession on landscape dynamics of western National Parks and how they will be altered by climate change.6.Identify how climate change will affect the distribution and abundance of vegetation on the southern Colorado Plateau and Great Basin. 7.Continue research on current plant-climate relationships in the western US, and on how climate change will affect those relationships and the landscape distribution of key ecosystems. 8.Identify and assess the impacts of climate change on forest and rangeland resources of the US.9.Update long-term investigations regarding the interactions of climate variability, climate change and the expansion of invasive species, its effects on sagebrush and salt-desert grass-shrubland composition and stability, its effects on wildlife habitat, and its effects on livestock forage availability.10.Explore the role of climate variation as a driver of historic fire regimes at local to sub-continental scales, and use to anticipate how they may be influenced or altered by climate change.11.Identify and evaluate grassland ecosystem health indicators that can be incorporated into models of ecological succession, with particular reference to identifying thresholds to natural stresses and human-induced disturbances and their modification by climate change.\n",
      "--------------------\n",
      "Topic 23:\n",
      "--------------------\n",
      "center administrative director administration support leadership activities committee resources scientific\n"
     ]
    },
    {
     "name": "stdout",
     "output_type": "stream",
     "text": [
      "--------------------\n",
      "The role of the Burnham Cancer Center Administration is to provide the administrative support and management for the Center to effectively pursue its mission of cancer research within the CCSG Guidelines. Because of the extraordinarily close integration of the Burnham Institute and the Cancer Center, the Institute provides all basic general administrative functions for the Cancer Center. This allows the Cancer Center Administration to focus on comprehensive management of the CCSG, and other Cancer Center-specific issues. The Cancer Center Administration also serves as a conduit to the Institute's administrative services, assuring the Center receives the needed quantity and quality of services to optimally support Cancer Center operations and comply with all relevant regulations. Key functions of the Cancer Center Administration include: Administrative support for Cancer Center Planning, management and evaluation Management of the CCSG budget, providing monitoring, oversight, financial analysis, and forecasting Coordination of Center Membership and member recruitment Coordination and documentation of meetings, including internal and external Center oversight groups Laboratory space management Management and oversight of the Shared Resources - both operational and budgetary Liaison to and oversight of Institute administrative services provided to the Cancer Center Assure adherence to all CCSG Guidelines Maintain Cancer Center records Preparation of CCSG-required summaries Communications with NCI on administrative matters, responding to inquiries, and compliance To carry out the Cancer Center Administration, CCSG funds are requested to support a portion of salary of two Associate Directors who provide these administrative services. The remainder of their effort is covered with Institutional funds. In addition, one institutionally funded Administrative Coordinator provides support for the Center Director and the two administrative Associate Directors.\n",
      "--------------------\n",
      "Topic 24:\n",
      "--------------------\n",
      "sleep insomnia wake osa apnea disturbance night disturbances deprivation rem\n",
      "--------------------\n",
      "DESCRIPTION (provided by applicant): Sleep is a highly conserved behavior that is required for proper health and cognition in all animals studied to date, yet a function for sleep has not been described. Drosophila melanogaster exhibits many of the hallmarks of mammalian sleep, including increased arousal threshold, consolidated immobility, and regulation by both circadian rhythm and a homeostatic drive. Although great strides have been made in recent years towards understanding the neural circuitry and molecular pathways that regulate circadian rhythm in Drosophila, the regulation of sleep by the homeostatic drive is poorly understood. In a recent screen for genes involved in regulating sleep behavior, we found that flies lacking a functional copy of the Rab GTPase, lightoid (ltd), sleep at least 200min per 24h less than background controls. In addition, work by others has suggested that (1) the expression of ltd is Clock-dependent, (2) the expression of ltd is sleep/wake-regulated, (3) ltd is required for proper long-term memory, and (4) ltd is a homologue of the human gene, Rab32, which functions to localize PKA, a known regulator of sleep. The goal of the proposed project is to better understand the mechanism by which ltd regulates sleep behavior by taking 3 approaches: (1) I will analyze 4 ltd alleles for several aspects of sleep behavior, including overall sleep duration, sleep bout length, number of sleep bouts, latency to sleep, sleep rebound after deprivation, and total life span. (2) I will analyze the regulation of ltd using a quantitative PCR approach to determine if ltd is regulated by circadian drive, the homeostatic sleep drive, or light. (3) To determine in which brain regions ltd is sufficient to perform its sleep-regulation role, I will perform a tissue-specific rescue experiment with several GAL4 drivers that drive expression in known sleep-regulating areas of brain. The work proposed here will provide a better understanding of how the new sleep gene, ltd, regulates sleep. Furthermore, based on its connections to the molecular clock, learning & memory, and PKA, the proposed investigation of ltd could provide a molecular link between these disparate aspects of sleep biology. Finally, this work will identify ltd as an excellent candidate to aid in the diagnosis of sleep disorders such as insomina and somnabalism, as well as a potential drug target to offer treatment. We are interested in the function and regulation of sleep. Currently, we use the fruitfly, an animal that has recently been shown to be an excellent model for sleep behavior, to help understand how neural circuits control sleep/wake behavior, as well as to identify new genes that could be used to identify and treat sleep disorders in humans.\n",
      "--------------------\n",
      "Topic 25:\n",
      "--------------------\n",
      "cocaine addiction relapse seeking administration reinstatement nac craving induced abstinence\n",
      "--------------------\n",
      "DESCRIPTION (provided by applicant): Abuse of cocaine is a widespread and severely deleterious public health problem. Although it is well established that there is substantial variability in an individual's response to cocaine exposure, we do not yet understand the mechanisms that mediate individual differences in the etiology of cocaine abuse and addiction. In particular, we do not understand why some individuals are resistant to the effects of cocaine and will consume cocaine at low rates whereas other individuals are relatively vulnerable to the effects of cocaine and will consume cocaine at high rates. In the present proposal, we will evaluate several novel biomarkers that may predict the vulnerability of an individual to abuse cocaine or to relapse following abstinence. We will evaluate these processes using drug self-administration (SA) and reinstatement of previously drug-maintained behavior in nonhuman primates, as these are well established animal models of cocaine abuse and relapse. Moreover, we propose to determine, in a highly systematic manner, whether the availability of specific brain proteins, the acute brain activational effects of cocaine, or the integrity of functional bran networks predicts cocaine abuse and relapse. We believe that these studies will have important public health implications because these techniques can be translated into use in human subjects, and they will allow physicians to individually tailor treatment plans based on the current status of the cocaine-dependent patient.\n",
      "--------------------\n",
      "Topic 26:\n",
      "--------------------\n",
      "imaging pet mri image resolution mr ct magnetic optical images\n",
      "--------------------\n",
      "Title: Animal Imaging Core Recent advances in small animal imaging have substantially improved our ability to gain insights into disease progression without altering the biological systems. The small animal imaging facility at UNC currently houses nine major imaging equipments, including MRI (2), PET/CT (1), CT (1), SPECT (1), optical imaging (3), and ultrasound (1). In addition, skillful technical staff members to maintain and operate the imaging equipments and animal technicians to facilitate animal preparation for imaging and monitoring during imaging are available. Leveraging on these impressive resources, the small animal imaging (SAI) core aims to provide advanced imaging technology to facilitate the proposed projects. Specifically, two major imaging tasks will be carried out for the proposed projects, including to depict biodistribution of nanoparticles (Projects 1, 2, and 3) and to monitor and evaluate therapeutic efficacy of the proposed nanoparticles or treatment regimens (Projects 2, 3, and 4) using imaging methods. To accomplish the former task, both PET and optical imaging methods will be developed to more efficiently and accurately provide biodistribution information. For the latter task, four imaging modalities, including optical, CT, PET, and MRI will be used to monitor therapeutic efficacy. Finally, while the imaging capability in the small animal imaging facility is already impressive, our institution has committed additional funds to further augment the imaging program at UNC, including the establishment of an on-site cyclotron facility and the associated radiochemistry lab and the development of imaging registration approaches for multimodality imaging using microCT, MRI, and PET (Projects 2, 3 and 4). Together, we believe that the available technical expertise and well established infrastructure in the small animal imaging facility will greatly facilitate the success ofthe proposed projects.\n",
      "--------------------\n",
      "Topic 27:\n",
      "--------------------\n",
      "intestinal gut bacterial host bacteria microbiota microbial microbiome ibd infection\n",
      "--------------------\n",
      "DESCRIPTION (provided by applicant):  The goal of this proposal is to elucidate the role of bacterial colonization in the development of innate intestinal host defense. Disregulation of intestinal host defense mechanisms likely plays an important role in the pathophysiology of inflammatory bowel disease (IBD) and necrotizing eneterocolitis (NEC). Commensal bacteria interact with the mammalian intestine in a symbiotic fashion to regulate the expression of genes important for barrier function, digestion, and angiogenesis [1]. Since intestinal colonization develops postnatally as dietary changes occur, it may play an important role in the postnatal maturation of intestinal host defenses [13]. This may be especially important in the premature infant whose immature intestine may be particularly susceptible to injury due to poor barrier function, underdeveloped innate immunity, and/or immature circulatory regulation. Furthermore, development in an artificial hospital environment coupled with almost universal antibiotic administration likely negatively affects the normal intestinal colonization. Thus, premature infants may be particularly susceptible to necrotizing enterocolitis, (NEC) due to pathologic bacterial colonization and/or immature bacterial-host interactions. We hypothesize that normal bacterial colonization of the intestine plays a key role in the development and maintenance of postnatal host defenses. Our long-term objective is to define the mechanisms by which commensal bacteria regulate the development of intestinal host defense. Specifically in this proposal, we plan to utilize our ex vivo model of intestinal infection to study the postnatal development of proinflammatory and anti-apoptotic responses in the developing mouse. The specific aims of this project are to: (i) examine the developmental regulation of the proinflammatory response (ii) examine the developmental regulation of the apoptotic response (iii) examine the role of bacterial colonization on development of the innate immune response. These studies will elucidate the role of commensal bacteria in the development of intestinal host defense and innate immunity, and contribute to our understanding of the pathophysiology of many intestinal inflammatory disorders.\n",
      "--------------------\n",
      "Topic 28:\n",
      "--------------------\n",
      "care patient quality medical outcomes services providers healthcare primary practice\n"
     ]
    },
    {
     "name": "stdout",
     "output_type": "stream",
     "text": [
      "--------------------\n",
      "DESCRIPTION (provided by applicant): Summary The purpose of this project is to demonstrate major improvements in care quality through redesign of care delivery in the University of Utah Community Clinics. The Community Clinics (CC) are a fee-for-service 10-site primary- and secondary-care system with about 50 primary care physicians, 350,000 annual visits, and 120,000 active patients. The CC have led primary care delivery reform since 2003 when we began the development and implementation of a new model of care called Care By Design (CBD). The three organizing principles of CBD are: Appropriate Access (AA), Care teams (CT), and Planned care (PC). It is within this existing system design that we will implement additional redesigns. In this project we will implement a comprehensive care management program targeted to patients with multiple chronic conditions. Our delivery redesign will include strategies for effectively managing care transitions and for aggressively screening for and treating depression, a complicating co-morbidity for many patients with chronic conditions. Our intervention builds upon and strengthens CBD in order to achieve major improvements in care quality. We will compare the CCs' current clinical outcomes with outcomes prior to introduction of CBD's system designs and with those achieved with our redesign components. In addition, a quasi- experimental cohort design will document improvements in clinical quality and engagement of patients and care teams as clinics enhance CBD sequentially over the three year project. Intermediate outcomes will include provider and staff use rates of EMR best practice reminders and patient and care team adherence to CER-informed guidelines. Patient engagement will be assessed by patient use of our web portal, care manager supports, and adherence to personalized care plans. We will use our EMR and CBD implementation instrument to assess staff, provider, and patient behavior, and surveys of patient activation, experience with care, and quality of life, and of provider attitudes toward patient self-management to assess quality. An important goal of our project is evaluation of the impact of our interventions and strategies on clinic ROI. We anticipate changes in volume and related revenue for ancillary tests, services, and pharmacy as we manage the care needs of our high risk patients more effectively. We will evaluate the business case for implementing currently uncompensated components of care in our fee for service environment. Additionally, by using two unique state-wide databases, we will evaluate the impact of our redesign on total cost and cost effectiveness of care by measuring emergency department visits, hospital admissions, readmissions, and associated costs of care, demonstrating the potential for decreased costs of care in the broader community. These data are key to creating a business model for sustainability of enhanced CER-informed care. Our strong interdisciplinary research team ensures successful completion of this project. The team includes developers of CBD, clinician specialists in geriatrics and pharmacy practice, members with expertise in quality improvement, biostatistics, qualitative research, behavioral sciences, and economics, and a national advisory committee that includes leading experts in practice redesign and multi-methods evaluation. Results of this project will provide practical guidance for others seeking to implement CER-informed care in primary care practices.    PUBLIC HEALTH RELEVANCE:  This project specifically addresses the purposes of the grant program to demonstrate the feasibility and value of implementing evidence-based care improvement strategies and interventions in delivery systems as well as a number of objectives of Healthy People 2010 including improving access to comprehensive, high-quality health care services. This project implements a comprehensive program of care management for patients with multiple chronic conditions and evaluates the impact of transformation to a PCMH delivery model of primary care practices in a University network serving a broad patient population. The project addresses a broad goal for Healthy People 2010, to  Achieve access to preventive services for all Americans  by implementing best practices reminders in our EMR, pre-visit planning, and registry-based outreach.\n",
      "--------------------\n",
      "Topic 29:\n",
      "--------------------\n",
      "dna repair damage replication methylation genome recombination strand chromatin dsb\n",
      "--------------------\n",
      "Title: Biological physics of DNA bending  DNA is one of the essential molecules of life, carrying the genetic information of a cell.  The mechanical properties of DNA are related to the ability of different protein complexes to bind to DNA, and control gene expression and DNA repair.  Understanding DNA mechanics, especially at short length scales, ends up being more complicated than the mechanics of more classic materials such as an elastic rod, given the double-helical nature and inhomogeneous building blocks of DNA.  This research will produce physical insights that will advance our understanding of the relationship between DNA mechanics and several important DNA-related biological processes. In this project, the PI will investigate how sharp DNA bending promotes tight packaging of the genome, local defects in the double helix, and protein transport between DNA sites, all features that have implications on gene expression and DNA repair.  The PI will train undergraduates in his lab and offer scientific demonstrations to K-12 students.    Despite the current atomistic-level knowledge of DNA structure, conformational changes and fluctuations of DNA at short length scales are not trivial to understand. Especially, spontaneous looping of DNA is highly sensitive to sequence, intrinsic curvature, and length scale. In this project, the PI will investigate how biophysics of spontaneous DNA looping impacts DNA-protein interactions. In the first aim, the PI will measure stability of small DNA loops as a function of nucleosome preference. This aim will address whether the sequence rule of nucleosome formation can be better understood from DNA mechanics in the strong bending regime. In the second aim, the PI will measure stability of small DNA loops with and without highly meltable regions. This aim will address whether strong DNA bending can enhance local melting of duplex DNA. In the third aim, the PI will measure association and dissociation kinetics of DNA binding proteins in various DNA constructs. This aim will address whether DNA looping can facilitate protein transfer. The PI will use single-molecule fluorescence techniques and coarse-grained DNA models to conduct this research.\n",
      "--------------------\n",
      "Topic 30:\n",
      "--------------------\n",
      "cognitive schizophrenia deficits control attention behavioral measures symptoms neural prefrontal\n",
      "--------------------\n",
      "DESCRIPTION (provided by applicant): This is a competing renewal of an R01 focused on understanding the neural basis of cognitive dysfunction in schizophrenia. In the previous funding period we tested the hypothesis that schizophrenia patients had a deficit in the representation and maintenance of context, which could account for a range of cognitive disturbances in schizophrenia, and was associated with a disturbance in the function of the prefrontal cortex. Our results have been strongly supportive of these hypotheses, and in addition suggest that the prefrontal deficits in schizophrenia may be functionally and anatomically specific. Specifically, it appears that while context processing functions of the dorsolateral prefrontal cortex (DDLPFC) are impaired other functions within working memory, such as phonological rehearsal processes associated with the function of posterior ventrolateral prefrontal cortex (VLPFC) are intact. The goal of the renewal is to extend our understanding of the functional anatomy of impaired cognition in schizophrenia by pursing 2 aims. The first Aim is to use event-related fMRI and 3 cognitive tasks to test the hypothesis that impaired cognitive control in schizophrenia primarily involves functional disturbances of the DLPFC and anterior cingulate cortex, 2 highly interconnected regions of the frontal lobe which appear to contribute complementary functions to the regulation of cognitive control, while more superior and inferior frontal regions are functionally intact. The second Aim is to use multiple methods from cognitive neuroscience, including computational modeling, event-related fMRI and high density ERP, to better characterize the functional contribution of one (1) of the above regions, the ACC, to impaired cognitive control in schizophrenia. The studies will be completed in never medicated first episode schizophrenia patients, to address potential confounds of medications and chronicity. Successful completion of this work will increase our understanding of the functional anatomy and mechanisms of cognitive dysfunction in schizophrenia that should help guide the development of treatments for this disabling and relatively treatment refractory aspect of the illness.\n",
      "--------------------\n",
      "Topic 31:\n",
      "--------------------\n"
     ]
    },
    {
     "name": "stdout",
     "output_type": "stream",
     "text": [
      "neurons sensory neural neuronal olfactory circuits synaptic activity motor circuit\n",
      "--------------------\n",
      "DESCRIPTION (provided by applicant): Peripheral sensory neurons are responsible for detecting chemical, thermal and mechanical stimuli in the skin. Their ability to recognize and process these touch sensations is influenced by the territories in which their peripheral arbors innervate the skin, how they connect in the central nervous system, and their ability to relay information to downstream circuits. Defects in any of these components can result in a range of debilitating disorders collectively known as peripheral neuropathies. Extensive research has gone into cataloguing the different subtypes of sensory neurons based on the expression of specific molecular markers. However, the mechanisms by which sensory neuron subtypes identify process and transmit different kinds of sensory information are still largely unknown. We have discovered that two subclasses of peripheral sensory neurons in zebrafish larvae can be distinguished by their pattern of axon projection into the central nervous system: some terminate in the hindbrain, whereas others terminate within the spinal cord. I propose to study how these sensory neurons' projection patterns correlate with their peripheral axon territory selection strategy, their behavioral function, and their pattern of activation of downstream interneurons. These studies should together provide insight into how neural circuits distinguish between sensory inputs. Aim 1: To characterize the territory selection strategy of a specific sensory neuron subtype. Aim 2: To determine if different subtypes of sensory neurons elicit distinct behavioral responses. Aim 3: To identify interneurons activated by specific subtyes of somatosensory neurons. Peripheral neuropathies can occur as secondary effects of various disorders and/or their treatments, while in most cases, they are idiopathic. Disease based trials of therapeutic drugs have advanced the treatment of certain peripheral neuropathies, but because somatosensory neurons are molecularly and functionally heterogeneous, effective treatments for one neuropathic disorder will not necessarily have the same effect for other disorders. Treating these disorders will require knowledge of how different sensory neuron subtypes process and discriminate sensory inputs.\n",
      "--------------------\n",
      "Topic 32:\n",
      "--------------------\n",
      "drug abuse drugs addiction nida methamphetamine compounds medications administration prescription\n",
      "--------------------\n",
      "DESCRIPTION (provided by applicant): The overall objective of the NIDA Training Program in Drug Abuse Research at The University of Chicago is to provide both pre- and postdoctoral trainees with comprehensive educational and research experiences that will enable them to pursue distinguished research careers in areas impacting drug abuse. Drug abuse poses a serious threat to the health and well being of both individuals and society. Mental status, physical health, social function and economic productivity are compromised. Such factors can lead to an increase in crime and violence. To the credit of NIDA-sponsored research programs, considerable gains have been made over the last two decades. However, much more remains to be learned from the molecular to the social realm, especially if knowledge is to be translated into effective treatment. Existing programs in the area of drug abuse at The University of Chicago are designed to acquire knowledge about the social, behavioral, neuropharmacological, molecular and genetic factors relevant to the abuse of drugs. The aim is to increase our understanding of the etiology of and our ability to intervene in the treatment and prevention of drug abuse. Specific strengths of this program relate to the neuropharmacology, psychopharmacology, electrophysiology, genetics and molecular biology of drug abuse as well as the behavioral and subjective effects of drugs in humans. Several factors place the faculty submitting this application in an excellent position to continue to offer an outstanding training program. These factors include the strength of current interests and ongoing research into the problems of drug abuse, the diversity of approaches employed by individual faculty, the presence of a critical mass of creative scientists working on drug abuse related problems in a multidisciplinary setting as well as a curriculum that addresses the broad aspects of drug abuse ranging from the molecular bases of drug action to the consideration of ethical and social issues related to drug taking.\n",
      "--------------------\n",
      "Topic 33:\n",
      "--------------------\n",
      "smoking nicotine smokers tobacco cessation quit abstinence relapse cigarette smoke\n",
      "--------------------\n",
      "DESCRIPTION (provided by applicant): US smoking patterns are changing dramatically: non-daily, or intermittent smokers (ITS), now comprise a quarter or more of all adult smokers in the US and are rising dramatically. ITS suffer serious smoking- related morbidity and mortality, yet DHHS guidelines underscore the distinct lack of evidence to guide therapy for this group. Moreover, the role of nicotine in ITS' smoking behavior is not well established. Our group's intensive study of ITS revealed the paradoxical nature of their smoking: they voluntarily abstain for days at a time without evidence of craving or withdrawal symptoms, yet ITS also exhibit signs of nicotine dependence. Our analyses of national data demonstrate that ITS have trouble quitting: Although they make more efforts to quit than regular daily smokers (DS), ITS trying to quit have failure rates of up to 79%- almost as high as those of DS-and also seek out quit aids, including medications. A substantial portion of ITS are at risk of  graduating  to daily smoking long term. Our own primary data further show that ITS' smoking is driven by stimulus control - exposure to specific, often idiosyncratic, stimuli and situations that prompt smoking (e.g., socialvenues, stress). This suggests that re-exposure to such stimuli may play a large role in relapse among ITS, and that ITS may benefit from acute doses of nicotine in those situations. Oral nicotine medication such as nicotine gum, which we have shown to reduce acute cue-provoked craving in daily smokers, is ideally suited to provide such acute 'rescue' treatment. Our overarching aim is to study the effect of as-needed oral Nicotine Replacement Therapy (NRT) - 2 mg nicotine gum - for smoking cessation in ITS, and to study their process of relapse using Ecological Momentary Assessment (EMA). Reviews of ITS have called for research on ITS' relapse process, and for evaluation of cessation methods, including medications, among ITS. Yet no study to date has examined the cessation or relapse process in ITS, or tested the use of NRT in this population. We propose a double-blind, randomized, placebo-controlled trial of oral NRT for smoking cessation in ITS. 600 eligible ITS interested in quitting will be recruited throughmultiple channels, enrolled, and randomized 1:1 to active NRT vs. placebo. Participants will attend 6 sessions with brief behavioral support, with a planned quit day at week 2. Long term abstinence will be assessed and biochemically validated. EMA data collection spans two weeks of ad lib smoking and 6 additional weeks following the quit date, to capture data on craving, withdrawal, and relapse among ITS, and relate relapse contexts to baseline smoking patterns. Developing a better understanding of ITS' smoking and of how to help them quit is essential to public health: it will not only assist a substantial fraction of hitherto-ignored smokers, but alsostrategically anticipate upcoming scientific, treatment, and public health needs that will arise ifthe proportion of ITS continues to grow. Further, assessing the effect of nicotine medications on ITS' quitting will shed light on the role of nicotine in ITS' smoking and difficulty quitting. .\n",
      "--------------------\n",
      "Topic 34:\n",
      "--------------------\n",
      "project projects needed use summary pilot goal ppg overall focus\n",
      "--------------------\n",
      "is needed, use Project/\n",
      "--------------------\n",
      "Topic 35:\n",
      "--------------------\n",
      "viral infection virus viruses replication infected hsv host infections siv\n"
     ]
    },
    {
     "name": "stdout",
     "output_type": "stream",
     "text": [
      "--------------------\n",
      "DESCRIPTION (provided by applicant): Gammaherpesviruses result in lifelong infection associated with malignancies and other chronic disease in immune deficient individuals. The human gammaherpesviruses include Epstein Barr virus and Kaposi's Sarcoma associated virus, which are associated with Burkitt's lymphoma, Hodgkin's lymphoma, post-transplant lymphoproliferative disorder, nasopharyngeal carcinoma, peritoneal effusion lymphoma and Kaposi's sarcoma. Given the strict host specificity of the human gammaherpesviruses, a major challenge is to understand the host and viral factors that regulate the outcome of gammaherpesvirus infection in vivo, in both healthy and immune compromised individuals. This proposal makes extensive use of the mouse gammaherpesvirus 68, to investigate the genetic contribution of viral and host genes in shaping the outcome of infection. Through our previous work, we developed an extensive knowledge of the precise in vivo contexts in which a viral gene, the viral cyclin, promotes chronic infection. We identified seven different parameters of gammaherpesvirus infection and disease, including models of immune deficiency that are dependent on the virus encoded cyclin homolog. In this grant, we will dissect the molecular pathways used by the viral cyclin to promote infection in vivo, using recombinant viruses in which the viral cyclin has been replaced by alternate viral or cellular cyclins. We will characterize the viral cyclin activity in all cyclin dependent aspects of infection, identify the infected cell reservoir in presence and absence of the viral cyclin, and define the molecular mechanism of the viral cyclin in both persistent infection and reactivation from latency infection.These recombinant viruses reveal distinct, non-overlapping mechanisms of viral cyclin action. Moreover, since different cellular cyclins are able to substitute for distinct phases of the viral infection, comparing the biochemical properties of different cyclins in distinct contexts of infection will result in significant insights in gammaherpesvirus infection and disease. By integrating our unique in vivo insights into the viral cyclin with these recombinant viruses and our identification of the cellular target of the viral cyclin in virus reactivation, this grant wil combine biochemistry and genetics, with in vitro and in vivo models of infection to define new molecular pathways that promote gammaherpesvirus infection and pathogenesis in the whole animal. Further, we propose to test candidate inhibitors of viral cyclins and viral cyclin dependent functions both in vitro and in vivo. Finally, our demonstration that host cyclins can facilitate virus infection and that a specific host tumor suppressor can repress virus reactivationpromises that our investigation of the virus encoded cyclins will advance the field of cancer biology beyond virus associated oncogenesis. These studies of the v-cyclin have, and will continue to yield fundamental insights into gammaherpesvirus infection and further elucidate new mechanisms by which gammaherpesvirus pathogenesis can be abrogated.\n",
      "--------------------\n",
      "Topic 36:\n",
      "--------------------\n",
      "tumor tumors metastasis metastatic progression growth microenvironment melanoma anti radiation\n",
      "--------------------\n",
      "DESCRIPTION (provided by applicant): The purpose of this research is to determine how radiation therapy alters the various components of solid tumors that may affect the immune system's ability to mount effective anti-tumor responses. The goal of these studies is to gain a better understanding of the basic mechanisms involved in radiation induced changes in the tumor microenvironment to allow more effective treatment strategies combining radiation and immunotherapy. The differences in these two therapy modalities make it highly likely that their combined use could have synergistic effects on tumor destruction. Radiation is highly effective at killing large numbers of tumor cells and controlling primary disease, however, it is not easily used for the treatment of dissem- inated metastatic disease. In contrast immunotherapy, because of its specificity and systemic nature, has the potential to be less toxic to normal tissues and to reach distant metastases. However, radiation therapy may itself be damaging to critical cells of the immune system, particularly in multi-radiation dose protocols in which subsequent treatments may destroy tumor infiltrating lymphocytes. We have shown that radiation induced tumor cell death can provide increased tumor antigen to stimulate immunity, and radiation can alter the tumor vasculature making it more prone to host cell infiltration. These tumor infiltrating host cells produce many cytokines, which can stimulate changes in the tumor vasculature and tumor stroma and thus alter growth potential and radiation sensitivity. For example, we have shown that interleukin-12 (IL-12), produced within the local tumor microenvironment, causes marked changes in the tumor vasculature by preventing the upregulation of vascular endothelial growth factor (VEGF) receptor 3 leading to enhanced immune cell infiltration and delayed tumor growth or rejection. In this proposal we plan to determine the mechanisms responsible for these IL-12 induced changes in tumor vasculature and in the immune cell infiltration and function, and determine the role of interferon-gamma (IFN-g) in these processes. Due to the importance of IFN-g in these IL-12 induced changes and in alterations that render tumor cells more radioresistant, we will also determine the mechanisms by which IFN-g signally mediates radioresistance and how these affect immune sensitivity of tumors. The information we obtain will be useful in improving the combination of radiotherapy and immunotherapy to more effectively treat patients with cancer.\n",
      "--------------------\n",
      "Topic 37:\n",
      "--------------------\n",
      "oa cartilage knee joint osteoarthritis articular acl chondrocytes progression chondrocyte\n",
      "--------------------\n",
      "DESCRIPTION (provided by applicant): Osteoarthritis (OA) is the most common form of joint disease and a major cause of long-term disability in the United States (US). It is estimated that 2.5% of the adult population have symptomatic knee or hip OA. Over two-thirds of the 7.8 million OA patients in the US who seek treatment have moderate to severe joint involvement and would benefit from a therapy which arrests or delays cartilage loss. The etiology of OA is still partially unclear: While genetic factors are believed to underlie a significant proportion of OA cases, the majority of occurrences may not be genetically predetermined. OA is influenced by diet, body condition, or physical stress experienced (due to injury or overuse of a joint). Patient condition may therefore likely be improved or further progression prevented by an early identification of OA progression, combined with effective therapies. However, the current armamentarium of OA therapies merely relieves the inflammation and painful symptoms of OA but does not suppress the ongoing degenerative process. There is no known cure for osteoarthritis and further drug research is essential to help OA patients. Cartilage loss is believed to be the dominating factor in OA. While the standard radiography-based analysis method relies on joint-space width as a surrogate measure for cartilage thickness, an increasing body of literature supports the use of MRI as a primary imaging method to evaluate progression of osteoarthritis. MRI is able to directly measure cartilage volume and thickness. Being a three-dimensional imaging modality it allows, unlike x-ray projection images, for a localized analysis of imaging data in the full three-dimensional spatial context. Significant advances in MRI have resulted in the ability to quantify cartilage morphology and thereby provide a means to evaluate potential effects of pharmacologic intervention on OA progression. To aid drug development and to help subsequent regulatory approval, accurate, quantitative methods are needed to rapidly screen MR imaging data. To be time- and cost-effective, computer-assisted 3D image analysis is essential. However, most image-analysis methods for OA still require significant human intervention, precluding the comprehensive analysis of large databases as for example acquired by the Osteoarthritis Initiative. A strategy that has been beneficial in studies of the brain is the use of atlases to assist in data analysis. Following such success we propose the creation of population-based bone and cartilage atlases to facilitate bone and cartilage segmentation and to allow for localized data analysis by representing imaging data in a common anatomical coordinate system. We will use the developed methods to analyze cartilage thickness and to perform correlations with clinical variables. Developed software tools will be distributed in open-source form.\n",
      "--------------------\n",
      "Topic 38:\n",
      "--------------------\n"
     ]
    },
    {
     "name": "stdout",
     "output_type": "stream",
     "text": [
      "wound healing tissue wounds repair corneal matrix mechanical regeneration diabetic\n",
      "--------------------\n",
      "DESCRIPTION (provided by applicant): Wound-healing complications are an important health concern that can be associated with diabetes, bed sores, and infection. The inability to form a stable provisional matrix over the wound site is a common hallmark of poor wound healing. Without a stable matrix, the migration of inflammation responsive cells such as endothelial cells, neutrophils and macrophages, needed to produce new blood vessels1 and fight infections is not possible. The goal of this project is to develop an imaging method to quantify the stability of theprovisional matrix during early-stage wound healing. This biological process has been largely invisible and the proposed work is expected to provide significant insight into molecular events that delay wound healing. Wound healing involves an intricate set of precisely timed processes that begin with the formation of a fibrin clot, followed by an inflammatory response, and eventually ending with extensive tissue remodeling and wound closure. During the inflammatory response, the provisional matrix is produced in part through the action of transglutaminase (TG) enzymes cross-linking plasma proteins such as fibrinogen and vitronectin. Recent work in our laboratory has shown that administration of infrared fluorescent-labeled substrates for the TGs, including both proteins and peptides, produces strong contrast for in vivo imaging.2 In this R21 project we will test whether our method can identify problems associated with unstable matrix formation in animal models by executing the following Specific Aims: (1) develop imaging strategies to support multiple time-point imaging in the healing cascade; (2) evaluate the performance of the multiple time point optical imaging method in vivo in a mouse model; and (3) compare provisional matrix stability through imaging matrix formation in a delayed wound healing model of the diabetic mouse. Multiple time-point imaging can monitor problems with both matrix formation and degradation processes. Slow matrix formation will be associated with poor incorporation of labeled substrate into the wound compared with controls. Excessive matrix degradation will be associated with rapid loss of labeled substrates in the wounds compared with controls. A successful project will lead to a new imaging method for studying wound healing and evaluating wound- healing response. In the near term, this method would be used in animal model studies to evaluate the wound- healing process and support the development of new approaches to promote wound healing. In the longer term, this method would be extended to clinical studies to identify the mechanisms of compromised healing and help in wound management. Furthermore, because similar cross-linking processes are involved in atherosclerosis3 and cancer,4 this imaging method will also find broader applications beyond wound healing.  PUBLIC HEALTH RELEVANCE: Wound healing is a tremendously important process in human health, with a wide range of implications in diseases such as diabetic ulcers, bed sores, infection, and cancer. This proposal describes a method for optically monitoring the progress of the wound-healing process by probing the formation of the provisional matrix that provides a scaffold for migration of immune and endothelial cells. The proposed method should prove invaluable for research on wound healing in animal models and evaluation of new drugs, and will provide vital information for diagnosing and treating conditions involving abnormal or compromised wound healing.\n",
      "--------------------\n",
      "Topic 39:\n",
      "--------------------\n",
      "dr career candidate award independent training investigator development plan mentor\n",
      "--------------------\n",
      "DESCRIPTION (provided by applicant): Dietary restriction (DR), or inadequate caloric and nutrient consumption, is a shockingly common practice associated with serious medical and psychological consequences. DR predicts development of both overweight and eating disorders. At its extreme, DR can develop into anorexia nervosa (AN), a serious and chronic disorder associated with considerable morbidity and lifetime mortality up to 20%. Despite the negative effects of DR, the psychological processes driving this behavior have received little attention and remain poorly understood. While certain psychological processes (e.g., excessive self-control; emotion dysregulation) have been hypothesized to be involved in DR, the models proposing the importance of these processes have not been adequately tested. As a result, treatments of DR are inadequate. No efficacious treatments have been identified for adults with AN and, DR interferes with treatment for other eating disorders, and the guidelines for addressing DR in treatment of other related disorders (e.g., depression) are unspecified. Research design issues hinder progress in understanding and treating DR. Traditionally, randomized, controlled trials (RCTs) have been used to investigate treatment for DR, yet this is often an impractical first step for investigating treatment targets. Further, self-report measures f eating behavior, which are unreliable, have been over-utilized. The current study proposes to address these problems by examining the effects of 2 brief interventions targeting different psychological processes (self-control, emotion dysregulation) hypothesized to affect DR, compared to an active control, on a behavioral measure of the amount of effort restrictive eaters exert to reduce caloric intake at a test meal. Individuals identified as engaging in frequent DR will be told they will be expected to consume a self-selected quantity of a high-calorie milkshake and participate in an intervention that may help them tolerate this experience. Subjects will then be randomized to receive 1 of 3 brief computer- guided interventions: 1) cognitive restructuring (targeting self-control), 2) emotion regulation skills (targeting emotion dysregulation), or 3) nutrition information (control). Following the intervention, subjects will be given the option to work (by pressing the space bar on a computer task) to either: 1) decrease the number of calories they will be expected to consume, or 2) increase monetary compensation. The primary dependent variable will be number of button presses (i.e., effort) subjects employ toward reducing intake. This study is innovative due to utilization of: 1) Brief interventions targeting psychological processes, as opposed to RCTs, representing a time- and cost- effective means of evaluating promising psychological targets for DR; 2) A behavioral measure of a DR-related outcome, as opposed to self-report methods, presenting a more methodological precision. Results of this study will provide information regarding the psychological processes involved in DR, informing treatment development for DR. This has potential to make a substantial impact, as currently no efficacious treatments exist for DR, despite its commonality and potential for severe outcomes.\n",
      "--------------------\n",
      "Topic 40:\n",
      "--------------------\n",
      "health disparities public mental outcomes racial policy ethnic population disease\n",
      "--------------------\n",
      "Racial and ethnic disparities in health status and health care are a major concern for both scientists and public health officials. To date, very little research has focused on the role of mass incarceration on future trends of health disparities. Research reveals disparities in health for inmates across multiple domains, including chronic health and infectious diseases, serious mental illness, and substance use disorders. Yet, incarceration is an often ignored and poorly understood factor in health disparities research, in general. Incarcerated persons are excluded from national health surveys and correctional facilities often have an inadequate surveillance system for providing valid and reliable data on inmate health status. Understanding the health profile and health care needs of the incarcerated population is imperative for achieving health equity and understanding and maintaining the public health of the local communities from which inmates are drawn. The proposed dissertation uses an epidemiological criminology perspective in conjunction with large and representative national data sets to examine the factors that contribute to mortality, morbidity, and health service utilization among an often neglected yet increasingly relevant group for population health: incarcerated adults.Understanding how mass incarceration influences population health and health disparities is imperative for health care policy. Prisons are currently uniquely situated to provide healthcare to individuals who are likely underserved in their communities. Understanding the health care needs of this population is especially timely and given the overrepresentation of racial and ethnic minorities in U.S. prisons, providing diagnosis and effective treatment during incarceration as well as providing for transitions in care upon release may help reduce health disparities in the population.\n",
      "--------------------\n",
      "Topic 41:\n",
      "--------------------\n",
      "lung pulmonary injury fibrosis alveolar respiratory epithelial ali acute cf\n",
      "--------------------\n",
      "DESCRIPTION (provided by applicant): Lung diseases, including lung cancer and chronic lung diseases such as chronic obstructive pulmonary disease, together account for some 280,000 deaths annually (American Lung Association). Contributing to this mortality is the fact that remediation of all forms of lung disease is hampered by the limited ability of lung to regenerate. Hence, lung tissue that is damaged by degeneration or infection, or lung tissue that is surgically resected, is not functionally replaced in vivo. Currently, the only way to replace lung tissue is to perform lung transplantation, an expensive procedure that is achieves only a 10% survival at 10 years, and one that is hampered by a severe shortage of organs. Over the past 3 years, we have worked to address some fundamental challenges in lung tissue engineering. In order to produce a lung scaffold that has suitable geometry and mechanics for lung regeneration, we have developed technologies to decellularize entire lung tissues. We have shown that these acellular lung matrices retain the gross mechanical properties of the original lung tissues, and provide outstanding support for the adhesion and growth of epithelial and vascular cells. We have developed a novel,  biomimetic  bioreactor that provides for long-term sterile lung culture, circulation of nutrient medium through the lung vascular compartment, and  breathing  of nutrient medium into the airway. As a cell source to repopulate the acellular lung matrix, we have utilized syngeneic neonatal rat lung cells, as these cells show significant potential for growth inside the developing lung. We have made substantial and exciting progress in this work, and have shown the feasibility of regenerating many characteristics of lung tissue, but there remain several important issues that must be studied and addressed before the functionality of such lung tissues can be tested in vivo. Most fundamentally, in order to exchange gas, the lung must comprise sufficient alveolar diffusional surface area, must be populated with functional and differentiated epithelial cell subsets at correct anatomic locations in the alveoli and elsewhere, and must be invested with a functional microvasculature that withstands physiological perfusion pressures and does not leak fluid into the alveolar compartment. In this proposal, we will study and refine the lung tissue engineering system in order to address each of these issues and advance the central mission of functional lung regeneration, which is the capacity for effective gas exchange. We hypothesize that the acellular lung matrix, when suitably re-populated with lung epithelium and vascular cells, will support the growth and differentiation of these cells and will produce a tissue that is effective for gas exchange, based upon in vitro measurements.  PUBLIC HEALTH RELEVANCE: Lung diseases, including lung cancer and chronic lung diseases such as chronic obstructive pulmonary disease, together account for some 280,000 deaths annually. Over the past 3 years, we have worked to address some fundamental challenges in lung tissue engineering in order to provide lung tissue replacements for patients with lung disease. We hypothesize that an acellular lung matrix, when suitably re-populated with lung epithelium and vascular cells, will support the growth and differentiation of these cells and will produce a tissue that is effective for functional gas exchange.\n",
      "--------------------\n",
      "Topic 42:\n",
      "--------------------\n"
     ]
    },
    {
     "name": "stdout",
     "output_type": "stream",
     "text": [
      "bone fracture osteoporosis marrow fractures pth loss skeletal resorption formation\n",
      "--------------------\n",
      "DESCRIPTION (provided by applicant): 1. Osteoporosis is  a pediatric disease with geriatric consequences . Simply stated, suboptimal skeletal.  2. Development in childhood and adolescence may result in decreased bone strength and an increase in lifetime 3 fracture incidence. A delay in the onset of puberty (primary amenorrhea) correlates with both low bone mass; 4. and an increased incidence of stress fracture. Suboptimal bone accrual may have long term consequences.  5. Even with current treatment options as studies that treated amenorrheic dancers for 2 years with hormone 6 replacement therapy found no difference in bone mineral density between treated and placebo groups. The 7 most significant factors during development may be nutritional and lifestyle factors. Therefore, our overall goal 8 is to ascertain the affect of delayed pubertal development on the mechanism of bone loss at maturity.  9 Density measures alone, although widely used clinically, cannot identify osteoporotic subjects who will sustain 10 fractures, due to the large overlap in bone mass measures in individuals with fractures and those without 11 fractures. Other factors including bone size, architecture and material properties must be considered. We 12 have recently developed a texture analysis approach using Gabor filters, which is capable of providing insight 13 into bone structure from localized texture information on a pixel level. The texture approach is therefore a 14 potentially powerful tool in analyzing trabecular bone texture where orientation, shape and architecture as well 15 as density are the fundamental components. Our previous work was analyzing 2D images but we propose to 16 transfers this approach to 3D images. This novel approach will indicate not only bone mass changes but 17 changes in orientation which may be very significant later in life. In Aim #1, We will test the hypothesis that 18 the mechanism and magnitude of bone loss in a mature animal is dependent on bone development. 19 Specifically, delayed pubertal onset will alter the architecture of bone that will affect the mechanism of 20 bone loss at maturity. Pubertal delay will be completed by gonadotropin releasing hormone antagonist 21 (GnRH-antagonist) injections. At 50 days of age changes in bone morphology will be evaluated using a novel 22 3D texture analysis. The following biomarkers will be measured to assess the response of pubertal delay on 23 systemic changes in bone metabolism osteocalcin (a marker of bone formation) and N-telopeptide of collagen 24 type I (NTx) (a marker of bone resorption). Serum estradiol and IGF-1 will also be assayed to confirm the 25 hormonal response to the protocol. Flourescent histomorphometry will assess bone formation rates on 26 trabecular bone. At maturity (150 days of age) the experimental rats will undergo ovariectomy surgery to 27 model post menopausal bone loss. Changes in bone morphology will be evaluated using static and dynamic 28 histomorphometry, micro-CT and texture analysis. By using a systems approach relating environmentally 29 induced delayed puberty to bone growth, we propose to gain a new understanding of the important relationship 30 between growth and its variability and the bone structure we become heir to during the aging process 31.    PUBLIC HEALTH RELEVANCE: Fracture risk in the elderly has its origins during growth and development. A delay in the onset of puberty results in both low bone mass and an increased incidence of stress fracture in young women. Therefore, the failure to accrue peak bone mass during the adolescent years represents a missed opportunity to optimize bone mass during one's life.\n",
      "--------------------\n",
      "Topic 43:\n",
      "--------------------\n",
      "substance use risk abuse adolescent youth adolescents sexual adolescence behaviors\n",
      "--------------------\n",
      "DESCRIPTION (provided by applicant): Adolescent substance use is common and associated with both significant negative individual consequences and substantial costs to society. The proposed study will capitalize on a cost-effective opportunity to identify neurobiological mechanisms underlying risks for, and consequences of, adolescent substance use. Tests will be conducted in adolescents with high (n= 68) and low (n = 34) familial risk for substance use disorders, selected from a larger ongoing longitudinal study that is testing causal relationships between the development of impulse control and substance use. In this new application, we seek to identify relationships between maturation of frontostriatal circuitry, impulse control development, and progression of substance use involvement across adolescence. We propose to measure frontostriatal circuitry in 11- to 14- year-old adolescents at risk for substance use disorders and to repeat assessments annually for a 5-year period. We will compare circuitry between adolescents at high or low risk for substance use disorders (based on family history) before regular drug use begins (Aim 1); determine how individual differences in early adolescent frontostriatal circuitry development, before regular drug use, predict onset and severity of substance use (Aim 2); and examine how trajectories of frontostriatal circuitry development are affected by both familial risk and adolescent substance use (Aim 3). This application posits that a) impulsive reward- focused behaviors emerging during adolescence are driven, at least in part, by inadequate regulation of the striatum due to delayed maturation of the prefrontal cortex, and b) that adolescents are uniquely vulnerable to substance use disorders and resultant cognitive impairments. This framework allows for testable hypotheses to examine neurobiological mechanisms underlying relationships observed between impulse control and substance use disorders across adolescent development. This is an opportunity to study the etiology of adolescent substance use by examining neurobiological mechanisms underlying risk for substance use disorders, impulse control development, and effects of substance use on adolescent brain development. Our study has the unique advantage of recruiting from an established and well-characterized cohort that is being followed longitudinally. A strong interdisciplinary research team is in place which combines unique expertise in substance abuse research, advanced imaging methodology, adolescent behavioral assessment, and statistical modeling. This proposal integrates distinct bodies of research on brain development, adolescent behavior, and substance abuse to advance understanding of risks and consequences of adolescent substance use.  PUBLIC HEALTH RELEVANCE: This proposal integrates distinct bodies of research on brain development, adolescent behavior, and substance abuse to advance understanding of risks and consequences of adolescent substance use. This work has important implications for advancing knowledge, and ultimately may contribute to more effective treatment and prevention strategies for adolescent substance use disorders.\n",
      "--------------------\n",
      "Topic 44:\n",
      "--------------------\n",
      "tolerance immune transplantation transplant gvhd donor treg graft rejection induction\n",
      "--------------------\n",
      "DESCRIPTION (provided by applicant): Despite improvements in early post-transplant survival rates over the last two decades, a relentless annual attrition rate of 3-5 % in recipients of previously successful renal allografts continues to limit longer term outcomes. Long term outcomes with islet transplantation are simply unacceptable with only 10% of recipients remaining insulin free at five years. In islets metabolic exhaustion due to an inadequate islet cell mass may be an important impediment to long term graft function. Late allograft failure, resulting from chronic rejection, infection, drug toxicity, and malignancies emphasizes the limitations of chronically administered immunosuppression in kidney and islet transplantations. Therefore the ultimate goal of transplantation is to achieve long-term engraftment without maintenance immunosuppression. Pilot clinical tolerance protocols are currently being tested in humans, but there remain substantial barriers to achieving true tolerance in humans. The major objective of this Multi-Project grant is to improve the outcome following kidney and islet transplantation by defining the essential conditions for induction of durable tolerance to kidney and islet allografts, and defining the roles of inflammation and memory T cells in being major barriers to tolerance. Our central hypothesis is that the early pro-inflammatory responses due in large measure to ischemia-reperfusion and anoxic injury to the donor tissues incites adverse forms of anti-donor immunity, thereby provoking acute clinical or subclinical rejection and exaggerating the subsequent expansion of pre-existing donor reactive memory, and post transplant development of newly acquired donor reactive memory T cells. Thus, we hypothesize that an adverse balance of pro- to anti-inflammatory cytokines and anti-donor memory responses represent major obstacles to the induction and maintenance of tolerance. We propose novel and inter-related strategies to alter the balance of the alloimmune response to favor regulation and long-term tolerance taking into consideration the inflammatory- and memory-related barriers to tolerance in the context of islet and kidney transplantation. The rationale linking the specific aims of the two interrelated in vivo projects and the mechanistic studies is that we now have the tools to test the relevance and inter-relationship of inflammatory responses to the balance of aggressive and memory responses, T cell regulatory and tolerance induction. It, therefore, should be possible to define and systematically apply the perturbations of the innate and adaptive immune response that lead to tolerance in primate allograft recipients. Moreover, the Program will lead to cross-fertilization and sharing of facets of the best tolerance inducing regimens developing from Project 1 with those of Project 2.      PROJECT 1: Novel Tolerance Strategy in Renal Allograft Recipients (Cosimi, A. Benedict)    PROJECT 1 DESCRIPTION (provided by applicant): Despite improvement in short-term results through the use of new immunosuppressive agents, long-term allograft survival has not improved significantly over the past decade, due predominantly to chronic rejection but also to infection and post-transplant malignancies, all attributable to chronic immunosuppression. Therefore, induction of specific transplantation tolerance, which might eliminate most limitations of conventional immunosuppressive therapy remains a major goal. Based upon the mixed chimerism approach, which was first demonstrated to be an effective means of inducing allograft tolerance in mice, we first developed a clinically relevant non-myeloablative preparative regimen that permitted the induction of mixed chimerism and renal allograft tolerance following donor bone marrow transplantation (DBMT) in MHC fully mismatched cynomolgus monkeys. More recently, this was applied clinically to recipients of HLA-identical and haplo-type identical kidneys. A disadvantage of the current preparative regimen is the requirement for conditioning beginning 6 days prior to organ transplantation, making it applicable only for recipients of living donor allografts and only prospectively with respect to the organ transplant. The major goal of this project is to develop a novel regimen, the  Delayed Tolerance  protocol to extend the clinical applicability of the mixed chimerism approach. In this protocol, recipients would initially undergo kidney transplantation (KTx) with conventional immunosuppression and then receive non-myeloablative conditioning and DBMT sometime later. This protocol could potentially extend the applicability to all recipients of previously transplanted allografts, including recipients of organs from deceased donors, if DBM is cryopreserved at the time of initial organ procurement from the deceased donor. This approach could prove to be even more effective than our current approach, since the tolerance conditioning regimen is instituted in the absence of pro-inflammatory cytokines that may impair tolerance induction in the peritransplant period. On the other hand, if tolerance induction is delayed, it might be predicted that the presence of the renal allograft could result in sensitization to donor antigen with memory T cell activation increasing. Therefore, to establish the  Delayed Tolerance  protocol, we will specifically: 1) identify the optimal timing for tolerance induction with minimal inflammatory responses, yet least likelihood of memory T cell activation, 2) evaluate methods to overcome memory T cell responses and 3) evaluate the addition of anti-inflammatory agents to the mixed chimerism protocol. Detailed mechanistic studies will be performed and the analyses planned should provide clinically relevant information for rationally developing new tolerance strategies for not only kidney but also all allograft recipients.\n",
      "--------------------\n",
      "Topic 45:\n",
      "--------------------\n",
      "circadian clock rhythms clocks scn light rhythm bmal1 metabolic melatonin\n",
      "--------------------\n",
      "DESCRIPTION (provided by applicant): Circadian rhythms, roughly 24-hour rhythms in physiology and behavior, are widespread in nature and can be found in many plants and animals. Disruption of circadian rhythms has been linked to human health disorders ranging from jet lag to sleep and mood disorders and even to cancer. In eukaryotes, the circadian clocks that drive these rhythms are composed of networks of interlocked transcriptional feedback loops, in which positive factors induce the expression of negative factors that in turn repress expression of the positive factors. Although individual clock components are not conserved across kingdoms, clear analogies can be drawn between the organization of the circadian system and the `wiring' of the central clock, or oscillator, between disparate organisms. A fundamental understanding of how the circadian clock works in a variety of model systems will lead to new insights into the functioning of the human circadian system and its role in human health and disease. The long-term goal of the proposed research is to better understand the molecular basis of circadian rhythms in eukaryotes. These studies will be performed in Arabidopsis thaliana, a model organism with extensive genetic and genomic resources that is well-suited to circadian research. Some predicted components of the Arabidopsis central clock have not yet been identified, the biochemical functions of many known clock genes have not been determined, and it is not understood how the clock regulates growth and development. The proposed studies will use genetic, genomic, and biochemical techniques to address these fundamental questions. First, the molecular function of a clock-associated protein that is highly conserved across eukaryotes will be determined by a combination of genetic and biochemical studies in Arabidopsis and fission yeast. Second, a gene that acts close to the central clock will be cloned and characterized. Finally, the targets of a clock-regulated transcription factor that modulates the central clock and regulates organ size will be identified. These studies will yield important insights into the workings of the circadian clock and how it regulates growth and development in a complex eukaryote, information that ultimately may be used to improve human health through treatment of circadian disorders. PUBLIC HEALTH RELEVANCE: Almost all organisms possess an internal clock that generates roughly 24-hour rhythms in physiology or behavior. Disruption of this circadian clock in humans has serious negative consequences, causing sleep and mood disorders and perhaps even contributing to diseases such as cancer. To better understand the molecular basis of circadian rhythms, we are carrying out extensive genetic, biochemical, and genomic studies on the model organism Arabidopsis thaliana.\n",
      "--------------------\n",
      "Topic 46:\n",
      "--------------------\n"
     ]
    },
    {
     "name": "stdout",
     "output_type": "stream",
     "text": [
      "community communities disparities based african education american rural participatory cbpr\n",
      "--------------------\n",
      "University and community engagement in research exists along a spectrum. Minimally, community-placed research exists when community members are asked to individually participate in research, but no attempt is made to either engage the community or understand community research needs. At the other end of the spectrum, there is true community-based participatory research (CBPR) in which the community has engaged in the development of the research question, as well as in the research design, implementation, analysis, and eventually dissemination of the results. In reality, universities primarily engage in community-placed research; few truly community-based partnership projects are performed. As a result, underserved communities have suffered from research that disregards community needs, often resulting in harm from inappropriate research that may be stigmatizing.Underserved communities face a disproportionate burden of chronic disease, in large part due to lifestyle factors. These lifestyle factors are affected by a complex system of personal choices and environmental features. Therefore, effective chronic disease prevention can be accomplished in underserved communities only when they are empowered to create community-based intervention strategies that make healthier lifestyle choices easier for their members. Specifically, community members need the knowledge and confidence to effect change, access to safe settings for physical activity, availability of healthy food choices, and community and environmental support for health-promoting decisions. Thus, effective interventions need to be directed at not merely fostering household change, but at altering the broader environments that limit household choices.  Families can then model healthy behaviors for their children and other families, with the community supporting these actions and allowing the healthy behaviors to serve as an example for other communities. To be successful, interventions for these complex health disparities must be conducted in partnership with the communities and must engage community members in all aspects of the research process.The goal of the Community Engagement and Outreach Core is to enhance existing UW academic-community partnerships and to build with underserved Wisconsin communities new research and educational partnerships, all of which are designed to encourage/pursue research that is moving along the spectrum towards truly community-based participatory research. Such partnerships will increase the capacity to conduct high quality research that focuses on chronic disease health disparities. These endeavors will increase the trust of underserved communities for the university, and provide educational opportunities for both partners.\n",
      "--------------------\n",
      "Topic 47:\n",
      "--------------------\n",
      "ad amyloid alzheimer tau disease dementia pathology app mci aβ\n",
      "--------------------\n",
      "DESCRIPTION (provided by applicant): While great strides have been made in understanding the genetics and pathophysiology of AD, mechanisms leading to AD are not fully understood. From our genome wide association studies, and those of others, it is clear that common forms of AD have complex genetic underpinnings with many different genes involved, each likely to have a small effect size. One critical barrier to the study of AD, as in many human disorders, has been the lack of appropriate tissues to study. Brain tissue is available from autopsy cases; however, since it is tissue from end-stage disease, it is not clear if these samples are representative of the processes which lead to AD. Confounding factors in the study of brain autopsy material include the presence of many different cell types, secondary effects due to the presence of AD, presence of co-morbid disease, effects of drugs used to treat AD, and factors related to obtaining fresh material. Because of the large number of genes implicated in AD and their small effect size, a second critical barrier to the murine (or other organism) model systems is the inability to simultaneously introduce all of the relevant genetic factors into a single model system. With these facts in mind, there is a clear need for the development of novel, autologous sources of mature human brain cells/neurons in which the genetic risk factors for AD can be studied. The goal of this proposal is to harness the directed differentiation of induced pluripotent stem (iPS) cells to produce an unlimited supply of neuronal-lineage cells to fulfill this role. Since these cells are from an AD subject, they inherently possess the appropriate genetic risk factors. Ultimately, these cell lines can be used as models of AD in which treatment therapies can be evaluated.  Our aims include the derivation of a novel, in vitro system for the production of an unlimited supply of neuronal-lineage cells from the directed differentiation of clinical grade transgene-free induced pluripotent stem (iPS) cells generated from fibrobasts of AD subjects. In aim 2, (A) we will test the hypothesis that APP/A2 processing is abnormal in iPS derived neurons and (B) utilize the iPS model system as a discovery tool to identify new pathways relevant to AD by examining the relationship between genetic variation and gene expression patterns. We are uniquely positioned to perform these studies given: a) our published expertise in developing reagents for reprogramming; b) our prior experience in developing protocols for the directed differentiation of embryonic stem (ES) cells; c) our extensive clinical registry of AD subjects seen at the Boston University Alzheimer Disease Center and d) or extensive experience in understanding the genetic underpinnings of AD.    PUBLIC HEALTH RELEVANCE: In this study, starting with skin tissue from AD subjects, we will develop an induced pluripotent stem cell - neuron model that accurately represents the genetic complexity that predisposes individuals to AD. We will then use this model to identify novel biochemical pathways important in early stages of AD. In the future, these models can be used in the discovery of new therapeutics that may be used to modulate disease severity or may also lead to the development of regenerative medicine approaches to the treatment of AD.\n",
      "--------------------\n",
      "Topic 48:\n",
      "--------------------\n",
      "insulin glucose resistance metabolic metabolism fat secretion sensitivity adipose lipid\n",
      "--------------------\n",
      "DESCRIPTION (provided by applicant): Type 2 diabetes is characterized by insulin resistance and disordered beta-cell function, especially a defect in glucose-stimulated insulin-secretion. Insulin receptors and signaling proteins are found within the beta-cells themselves. Recent evidence in rodents suggests the insulin signaling pathway is functional in islets and is important for glucose sensing. The physiologic role of insulin signaling within beta-cells in humans remains unknown. Our preliminary studies demonstrate that in healthy humans beta-cells are insulin sensitive tissues and raising circulating insulin levels by exogenous insulin administration can enhance glucose induced insulin secretion. We hypothesize that dysfunctional insulin signaling, i.e. insulin resistance, at the level of the beta-cell may be one mechanism underlying blunted insulin secretion in persons with type 2 diabetes and insulin resistant syndromes, which would be manifest as reduced insulin potentiation of glucose induced insulin secretion. We propose to further our understanding of insulin's effects on the beta-cell in healthy persons and to determine whether insulin potentiation of glucose induced insulin secretion is blunted in persons with type 2 diabetes. We demonstrate insulin potentiates glucose induced insulin secretion in the setting of suppression of circulating FFA. Several studies suggest an essential role for FFA in both basal and glucose stimulated insulin secretion, while other studies suggest that excess FFA are lipotoxic to the a-cell. To test whether replacement of FFA will enhance insulin potentiation of glucose induced insulin secretion, or whether the response is secondary to the suppression of circulating FFA, we will evaluate the role of free fatty acids in insulin potentiation of glucose induced insulin production. We demonstrate a marked increase in glucose disposal rates with dextrose administration following insulin pre-exposure. We will evaluate whether this occurs within hepatic or muscle tissues using positron emission tomography imaging. To better understand the molecular pathways underlying these processes, mechanistic studies will be conducted in control and insulin receptor deficient islets, in vitro. These studies may provide a unifying explanation linking the combined defects in insulin secretion and action that underlie type 2 diabetes.\n",
      "--------------------\n",
      "Topic 49:\n",
      "--------------------\n",
      "stress crf anxiety oxidative depression chronic hpa induced response stressors\n",
      "--------------------\n",
      "DESCRIPTION (provided by applicant):     Stress is a powerful stimulus that modulates animal behavior and the functioning of the nervous system. In people, stress negatively impacts a variety of psychiatric conditions relevant to the clinical mission of the Department of Veterans Affairs, including depression, anxiety and substance abuse. In particular, exposure to severe stress is associated with posttraumatic stress disorder (PTSD), both in military and civilian populations. These conditions are a major health issue for our veteran population and available treatments are at best partially effective. There is a pressing need to better understand the effect of stress on the functioning of the brain in order to design better treatments for stress related disorders. Studies in humans and animals have indicated that the amygdala is a brain region involved in mediating the behavioral responses to stress, and patients' with PTSD show elevated activity in this brain region. In particular the basolateral complex of the amygdala (BLA) is critical to normal and pathological amygdala functioning. The BLA's response to stress has been shown to involve synaptic plasticity of the excitatory, glutamatergic connections within this brain region. While complex synaptic plasticity is a complex phenomenon, many studies have indicated that it involves the NMDA and AMPA subtypes of glutamate receptor, as well as the signal transduction protein CaMKII. Manipulations that block the activity of these proteins block behavioral responses to stress. There is evidence that the response of these proteins to altered activity levels and stress involves altered patterns of localization. It is the goal of this proposal to study this issue in more detail using immunohistochemical localization of the NR1 and GluR1 subunits of the NMDA and AMPA receptors and CaMKII and high resolution electron microscopic examination. We will use a rodent model of repeated, severe stress- repeated immobilization stress to study the effect of stress in the BLA. We will begin by determining the time course of how stress alters the localization of these proteins in the BLA. We will next use an in vitro system to assess how these proteins are affected by altered activity patterns in the BLA and how prior stress exposure modifies the amygdala's response to activity. Finally, we will use post-embedding immunogold labeling to study how stress affects the composition of the postsynaptic density in the BLA.  These studies will provide a detailed understanding of the molecular architecture of excitatory neurotransmission in the BLA and determine how this is altered by prior stress exposure. This information will enhance our understanding of stress affects in this critical brain region and suggest possible molecular targets for novel therapies for stress related disorders, including PTSD.    PUBLIC HEALTH RELEVANCE:     Stress plays a significant role in modifying behavior and may lead to, or worsen, a variety of psychiatric conditions relevant to the clinical mission of the Department of Veterans Affairs.  Stress can precipitate or worsen episodes of depression and a variety of different anxiety disorders.  Stress is associated with worsening symptoms in schizophrenia.  Stress is associated with relapse in alcohol and drug abuse and dependence.  In particular, we now recognize that severe stressors can be associated with the development of post-traumatic stress disorder (PTSD) in both civilian and military populations.  These conditions afflict large numbers of our veteran population.  Substantial resources have been committed to the care of these patients, and further, these disorders can increase a patient's use of healthcare resources for other medical problems.  While importance of stress and stress related illnesses is clearly established, our treatments remain partially effective at best.  Here we propose research to better understand the effect of stress in a critical brain region, the amygdala.  The amygdala is a brain region involved in PTSD and the brain's response to stress.  Stress has been shown to alter the circuitry and functioning of the amygdala.  In this proposal we will investigate how the organization of key molecules, involved in excitatory communication in the amgygdala, is altered by stress.  The results of the proposed studies will further our understanding of stress induced changes in the amygdala and suggest specific molecular targets for new drug treatments for stress related disorders, including PTSD.\n",
      "--------------------\n",
      "Topic 50:\n",
      "--------------------\n"
     ]
    },
    {
     "name": "stdout",
     "output_type": "stream",
     "text": [
      "mir mirnas mirna micrornas expression microrna rnas mrna rna mirs\n",
      "--------------------\n",
      "This subproject is one of many research subprojects utilizing theresources provided by a Center grant funded by NIH/NCRR. The subproject andinvestigator (PI) may have received primary funding from another NIH source,and thus could be represented in other CRISP entries. The institution listed isfor the Center, which is not necessarily the institution for the investigator.Background & Aims: The Gastrointestinal tract (GIT) is a major target of HIV/SIV infection. Although our understanding of HIV/SIV enteropathy has greatly improved, the recent discovery of miRNAs has added yet another novel and complex regulator of gene expression with potential roles in the molecular pathogenesis of this disorder. microRNAs (miRNAs) are genomically transcribed, ~21-23 nucleotide noncoding RNAs that are highly conserved and suppress gene expression by targeting mRNAs for translational repression or degradation. We investigated the contribution of 11 miRNAs to GIT disease and inflammation using the SIV-infected rhesus macaque model. Methods: Colon tissue was collected at necropsy from 10 SIV-infected (G1) with chronic diarrhea and 5 uninfected control macaques (G2). The contributions of miR-21, miR-125b, miR-132, miR-142-3p, miR-142-5p, miR-146a, miR-155, miR-203, miR-212, miR-223 and miR-338, previously known to be associated with inflammation were investigated using QRT-PCR, In situ hybridization/Immunofluorescence, histopathology and mass spectrometry. Results: All G1 macaques had chronic diarrhea, wasting and colitis. Significant to moderate increase in the expression of miR-142-3p, miR-142-5p (5-6-fold), miR-212 (3-fold), miR-21 (2-fold) was observed in the colon of G1 macaques compared to G2 animals. Interestingly, miR-125b and miR-203 were downregulated (2-3 fold) in G1 animals. No change in miR-132, miR-146a, miR-155 , miR-223 and miR-338 expression was observed between the groups. In situ hybridization using Locked-nucleic acid modified miR-212 probes revealed cytoplasmic and nuclear localization in the colonic epithelium and lamina propria cells (macrophages). Using mass spectrometry, we validated several predicted mRNA targets of miR-142-3p and miR-212 following over expression of both miRNAs in in vitro cultured primary intestinal macrophages. Conclusion: Our findings suggest that deregulation in cell/tissue-specific expression of miRNAs occurring in response to HIV/SIV infection may disrupt the functional relationship between the intestinal epithelium and the mucosal immune system causing alterations in intestinal structure and function.\n",
      "--------------------\n",
      "Topic 51:\n",
      "--------------------\n",
      "signaling activation pathway pathways receptor induced mechanisms role kinase mediated\n",
      "--------------------\n",
      "DESCRIPTION (provided by applicant): The ovarian steroid hormones, estradiol and progesterone, regulate cellular functions in the central nervous system resulting in changes in physiology and reproductive behavior in a variety of species. P effects in the brain are primarily mediated through the  classical  genomic mechanism of action via classical intracellular progestin receptors (PRs) to modulate target gene expression. Increasing evidence suggests that P effects are also mediated via  non-classical  pathways to induce rapid activation of protein kinase-mediated extranuclear, intracellular signal transduction cascades. It is also becoming apparent that these rapid signaling events  cross talk  with the classical PR-mediated mechanisms to mediate P action. However, the receptor mechanisms mediating the rapid effects and cross talk are not well understood. We have reported P-initiated rapid activation of kinases, PKA, PKC and CaMKII in P sensitive regions of the brain. Preliminary data suggest that this rapid signaling by P activates G proteins and subsequent downstream cytoplasmic signaling molecules. We hypothesize that these rapid effects could be mediated by novel membrane receptors. The signal amplification achieved by these cascades could enhance the level of cross talk with classical PRs, facilitated by scaffolding proteins, within the neuronal cells to regulate brain and behavior. This proposal focuses on the determination of the  non-classical  mechanisms of P action that extend beyond the classical intracellular steroid receptor- mediated pathways. In particular, we propose to determine the biochemical and molecular events underlying the rapid P- activated signaling pathway(s) in P-sensitive areas of the rat brain. Specific aim 1 will identify the mechanism underlying the rapid P activation of G proteins and the downstream signaling pathways in vitro. Specific aim 2 will examine the in vivo functional relevance of G protein-mediated mechanisms in P- mediated signaling and behavior. Specific aim 3 will test the hypothesis that a scaffolding protein integrates the rapid extranuclear signaling pathways with the intracellular PR-mediated genomic pathway in brain and behavior.\n",
      "--------------------\n",
      "Topic 52:\n",
      "--------------------\n",
      "breast cancer mammary metastasis women metastatic mammography estrogen brca1 cancers\n",
      "--------------------\n",
      "Background:  Metastasis is the most dreaded outcome of breast cancer.  Once breast cancer becomes metastatic clinically, it is virtually incurable.  Efforts to prevent and effectively treat metastasis therefore rank among top priorities in breast cancer research.  Such efforts however are significantly hampered by our lack of understanding of the mechanisms of metastasis.  Breast cancer metastasis is a multi-step process.  Targeting breast cancer when it begins to acquire metastatic potential or at the earliest signs of metastasis clinically represents a great window of opportunity to completely thwart and thereby cure metastatic breast cancer.  Towards this end, we have performed deep sequencing of nine pairs of synchronous bilateral breast cancers.  We find the majority of synchronous bilateral breast cancers are clonally related, i.e., the result of  breast to breast  metastasis.  There are a limited number of mutations that are acquired when a mother tumor metastasizes to the opposite breast to form a daughter tumor.  According to  Invasion to Metastasis Cascade,  this circumscribed spectrum of genomic changes may reveal the underpinnings of the initial steps of breast cancer metastasis.  Identification of candidate metastasis genes and elucidation of their functional involvement in cancer biology may produce novel prognostic instruments and novel therapies to prevent or eradicate metastasis.Overarching Challenges:  Our proposal addresses the important question why some breast cancers develop life-threatening metastasis aiming to eliminate mortality associated with breast cancer metastasis.Objective/Hypothesis:  For the majority of synchronous bilateral breast cancers that are clonally related, i.e., the result of  breast to breast  metastasis, we postulate that there is need to incur only a very limited spectrum of genomic changes.  This is due to the lack of need for spreading breast cancer cells to acquire genetic changes to adapt to non-breast, foreign environment.  No prior exposure to systemic therapy also obviates the need for acquiring therapy resistance.  Reduced complexity significantly increases our chance of meaningful discoveries.Specific Aims:Aim 1:  Collect and perform deep sequencing of bilateral synchronous breast cancers, and matching negative axillary nodes if available, from patients without pre-operative systemic treatment.  Establish clonal relationship and identify mutations that are acquired when mother tumors give rise to daughter tumors in  breast to breast  metastasis and study the evolutionary dynamics that govern the process to identify when the metastasis occurs.Aim 2:  Use breast cancer cell lines to study the metastasis related phenotypes of mutations identified in Aim 1.Aim 3:  Use mouse models with limited metastasis to study the function of mutations identified in Aim 1.Study Design:  We have completed deep exome sequencing of nine pairs of synchronous bilateral breast cancers and found six of them are most likely the product of  breast to breast  metastasis.  Our preliminary analysis finds a limited number of changes, and now with recurring patterns, in homologous genes or pathways, suggesting a limited number of potential mechanisms mediating  breast to breast  metastasis.  We will perform complete genome sequencing of ~40 more sets of synchronous bilateral breast cancers, each with an uninvolved axillary node as a germ-line negative control.  Driver mutations will be confirmed with the targeted capture panels for sequencing at much greater depth.  We will establish the clonal relationship of the tumors from the two sides and in the case of  breast to breast  metastasis, the genomic changes associated with that spread.  The presence of select changes can be further verified by targeted re-sequencing.  Focusing mutations affecting protein-coding functions, we will perform manual curation and pathway analysis to identify (homologous) genes or functions or pathways that are (recurrently) mutated in  breast to breast  spread.  The functional involvement of these candidate metastasis genes, either individually or in a pooled  competition  assay, will be characterized in cell culture and in animal models.  Loss of function mutations can be created with shRNA-mediated suppression of expression or CRISPR mediated gene disruption.  Gain of function mutations can be mimicked by overexpression of cDNA after site-directed mutagenesis or recapitulated via introduction of the identified mutations via CRISPR-mediated genome editing.  The ability of these genomic modifications in altering index breast cancer cell lines' metastasis-related phenotype in vitro will be examined.  Candidate metastasis genes will be further characterized in animal models.  67NR and 4TO7 are nearly isogenic cells that readily form tumors in syngeneic BalB/c background but display minimal metastatic potential.  These cell lines can be injected into mammary fat pads of appropriate hosts to form orthotopic models.  The effects of mutations on primary tumor growth in situ, tissue tropism, and growth of distant metastatic deposits will be studied.  The effects of mutation in MB-231 cells in a lung colonization model will be investigated.Impact:  Our work will lead to better risk stratification and optimal therapy selection in the adjuvant setting and development of novel effective therapeutics to prevent or treat breast cancer metastasis.\n",
      "--------------------\n",
      "Topic 53:\n",
      "--------------------\n",
      "management production soil crop practices pest water crops agricultural quality\n",
      "--------------------\n",
      "Objective(s): Develop cropping systems, conservation management practices and crop rotations with improved water management and enhanced economic and environmental sustainability.Approach:Improved irrigation scheduling and application technologies and water management tools will be developed and delivered to producers to improve water use and crop yield and quality.  The research will develop production systems and identify management practices that improve soil quality and increase profitability by incorporating conservation production practices, alternative crops and crop rotations.  Profitability of management practices and production systems will be tested with economic analysis.  Fundamental principles of successful production systems will be delineated, and examined for impacts on risks, competitiveness and environmental impacts.\n",
      "--------------------\n",
      "Topic 54:\n",
      "--------------------\n",
      "cell migration cycle cellular differentiation proliferation sickle biology death adhesion\n",
      "--------------------\n",
      "﻿   DESCRIPTION (provided by applicant): It is becoming clear that collective cell migration is involved in the dissemination of tumor cells. In collective cell migration, cells move through migration of cohesive multi-cellular units, the specifics of their motility depend on numerous factors including cell-cell, cell-matrix interaction, adhesion strength, extracellular matrix rigidty, organization of the cellular cytoskeleton etc. How each individual factor affect the collective cel migration is still poorly understood and needs further investigation. This project will investigatefundamental mechanisms of collective cell migration from cell molecular biology perspective as well as from mechanics viewpoint. The research objective of this proposal is to establish a multiscale approach to investigate cell-cell, cell-matrix interaction and their influences on collective cell migration. The central hypothesis of the proposed research is that collective cell migration depends on interactions between cells and their microenvironment which can be quantified by biomechanical and biophysical parameters in an integrated multiscale model. To test the hypothesis, computational modeling and simulation approaches will be developed and three specific aims will be addressed: Aim 1 To build an active cell model with internal structures to capture the essential features of cell membrane, cytoskeleton and cell nucleus: In Aim 1, we propose to use liquid crystal and liquid crystal elastomers to model major cell components. Aim 2 To develop a mutliscale cell migration model and to elucidate how different factors control collective cell migration motions: In Aim 2, we propose to use coarse-grained potential forces to model the cell-cell/matrix interaction. After the model validation, we will systematically study how cell-cell/matrix interaction, adhesion strength, extracellular matrix rigidity, organization of the cellular cytoskeleton will affect collective cell migrations motions.Aim 3 To develop advanced simulation techniques for cell mechanics simulations: In Aim 3, a total Lagrangian meshfree formulation will be developed and a related Galerkin weak formulation will be derived for numerical computation. The main advantage of adopting a meshfree Lagrangian formulation is its ability to avoid remeshing and easy-tracking of cell surface and interface. It i anticipated that the multiscale model can capture the essential features of collective cell migration. As a result, it will significantly enrich our knowledge in some fundamental theories in cell mechanics and it will provide a theoretical underpinning for study of cell-cell interaction an tumor metastasis mechanisms.\n",
      "--------------------\n",
      "Topic 55:\n",
      "--------------------\n"
     ]
    },
    {
     "name": "stdout",
     "output_type": "stream",
     "text": [
      "diabetes diabetic type complications risk t1d glycemic glucose t2dm islet\n",
      "--------------------\n",
      "The number of people directly affected by diabetes continues to grow. In Washington State, 350,000 people are living with diabetes; another 150,000 are living with diabetes but have not been diagnosed. Some people in our state are affected by diabetes more than others. People with lower incomes and education levels are at greater risk to develop diabetes. These same individuals often do not have access to the diabetes education and health care needed to manage diabetes and prevent the complications often caused by uncontrolled diabetes. Research shows that treatments available today dramatically improve the management of diabetes and prevent long-term complications. The WSU Diabetes Awareness and Detection project has shown improvements in participants' knowledge and confidence to manage their diabetes and improvements in diabetes control as measured by A1c and blood pressure. The WSU Diabetes Detection and Prevention project will continue to offer diabetes awareness education classes in eight counties reaching three hundred individuals with diabetes in communities with high rates of diabetes. Medications are an important part of diabetes care.  But medications only work if people take them. , as stated by Robin Rubin PhD. People living with diabetes often have difficulty managing their medication plan. Initial results from On the Road to Living Well with Diabetes (OTR) program shows participants who report taking medications as prescribed have better management of their diabetes, measured by A1c and blood pressure. The WSU Diabetes Awareness and Detection project will work with Joslin Diabetes Center to explore ways to improve individuals' ability to comply with medication plan. The effectiveness of an educational booklet and lesson on medication adherence will be evaluated with 100 participants, in the OTR program. In Washington State 1.4 million people are affected by pre-diabetes. While education and management of diabetes helps reduce the burden of diabetes, the best way to reduce the impact of diabetes is to prevent pre-diabetes from developing into diabetes. Pre-diabetes is prevented by increasing physical activity and healthy food choices. In Washington, thirty-eight percent of the population does not meet the CDC recommendations for physical activity. Populations with lower education and income levels are less likely to attain the recommended levels of activity. Promoting physical activity at the community level has reduced the risks for developing diabetes and cardiovascular disease. The WSU Diabetes Detection and Prevention project will promote a community based walking challenge in eight counties to encourage regular activity; encourage families to exercise together, and to eat healthier foods. Communities across Washington are taking action to make it easier for residents to eat healthy and be more active. Individuals and organizations from a variety of backgrounds are working together to make healthier communities. WSU Extension is an important partner in this work and will continue to participate and promote Diabetes Awareness and Detection as a vital part of these efforts in five counties across the state.\n",
      "--------------------\n",
      "Topic 56:\n",
      "--------------------\n",
      "liver hepatic fibrosis hcc hbv nafld nash hepatitis disease chronic\n",
      "--------------------\n",
      "DESCRIPTION (provided by applicant): Liver diseases are among the 10 leading causes of death in the United States. The liver's extraordinary regenerative capacity is critical to understanding the mechanisms leading to developmental defects, acute and chronic liver diseases, and liver carcinogenesis. Stimulation of hepatocyte proliferation while preventing apoptosis is essential to the liver's regenerative process. Recently we uncovered a tumor suppressor pathway has potent effects upon liver cell division and death. Our long range goal is to define the cellular mechanisms underlying liver regeneration in health and disease and to apply these findings to developing improved therapies for liver disease. To that end, we are uniquely capable to address the objectives of this application, which are to uncover the mechanism that leads to the novel tumor suppressors' profound effects upon the liver. The central hypothesis of this proposal is that: The tumor suppressor controls liver celgrowth factor pathway in controlling liver size. At the end of the study we will better understand the growth and death of liver cells. This will help develop treatment for many liver diseases such as liver transplantation, cirrhosis, acute and chronic hepatitis.     Project Narrative: The objectives of this study are to uncover a newly recognized very potent molecular system that controls the growth and death of the liver cells. Unlocking how this pathway works will help develop treatment for many liver diseases such as liver transplantation, cirrhosis, acute and chronic hepatitis.\n",
      "--------------------\n",
      "Topic 57:\n",
      "--------------------\n",
      "decision making decisions choice information reward choices make policy value\n",
      "--------------------\n",
      "DESCRIPTION (provided by applicant): The overall goal of the proposed epidemiologic study is to examine the causes and consequences of impaired decision-making in old age. Decision-making refers to the ability to generate and process multiple competing alternatives and choose a favorable behavior. Virtually all behaviors result from some decision-making process, and efficient decision-making is thought to be critical for maintaining independence, health and well-being in modern society. Emerging data suggest that older persons, even some without dementia, exhibit impaired decision-making, and impaired decision-making may be a sign of preclinical Alzheimer's disease (AD). However, surprisingly few studies have rigorously examined decision-making in older persons and longitudinal data are sorely lacking. The proposed study will quantify the rate of change in financial, healthcare, and socioemotional decision-making in a large cohort of community-based older persons without dementia and test the hypothesis that impaired decision-making is associated with adverse health outcomes (i.e., decreased well-being, disability, nursinghome placement, dementia, and death). Further, we will examine the role of affective and contextual factors in decision-making and test the hypothesis that select affective and contextual factors can sustain decision-making even in the face of cognitive decline. Finally, in an effort to understand the neurobiologic basis of impaired decision-making, we will test the hypothesis that AD pathology contributes to impaired decision-making in older persons without dementia who come to autopsy. The proposed study will capitalize on the unique infrastructure provided by the Rush Memory and Aging Project (R01AG17917), a large ongoing epidemiologic clinical-pathologic study of aging and AD, and will quantify decision-making and new pathologic indices in more than 800 community-based participants without dementia; all have agreed to detailed annual clinical evaluations including cognitive assessments and brain donation. By linking the newly collected data on decision-making and AD pathology in brain regions that subserve decision-making with the available data from the Memory and Aging Project, we will have an unprecedented opportunity to examine the causes and consequences of impaired decision-making in old age. Knowledge of the causes and consequences of impaired decision-making is essential for the development of effective interventions to promote independence, health, and well-being in old age.\n",
      "--------------------\n",
      "Topic 58:\n",
      "--------------------\n",
      "animal animals models human primate mice laboratory model mouse studies\n",
      "--------------------\n",
      "Description (provided by applicant): The overall objective of the Animal Core is to provide centerinvestigators with the ability to utilize animal models in the execution of their proposed researchprojects, as well as, establish new animal models for the investigation of the mechanisms involved in the regulation of reproduction. The Center for Reproductive Research will utilize two animal models, mice and rats, in the execution of the research projects. Although the use of animal models provides an invaluable source of reagents for investigating regulatory mechanisms in vivo, in a physiologically regulated system, the use of animals in biomedical research is costly with respect to equipment, animal resources and technical expertise. The Animal Core will serve as a resource for the execution and training in the use of all animal manipulations needed in the Center. The Animal Core will minimize the cost of utilizing animal models in the Center Research Program by consolidating the equipment, expertise and animal resources. This will ensure an efficient use of animal research at minimal cost.\n",
      "--------------------\n",
      "Topic 59:\n",
      "--------------------\n",
      "stem differentiation renewal hematopoietic hsc cells niche hscs progenitor adult\n",
      "--------------------\n",
      "DESCRIPTION (provided by applicant): Continuous replacement and repair of adult epithelial tissues such as the skin, intestine, and lung depend on self-renewing stem cells which generate the specialized cells necessary for tissue maintenance. Recent work has shown that the local environment, or niche, in which stem cells reside is critical for their maintenance and function. Specifically, positioning of the stem cell within the niche exposes it to signals that promote its survival and maintenance and guide the production of specialized daughter cells that perform the normal tissue functions. Self-renewing cells that possess many normal stem cell properties have been identified in tumors, emphasizing that defining stem cell control mechanisms in normal tissues is important for understanding how stem cells contribute to cancer. Conversely, the idea of using stem cell therapeutics to treat diseases associated with stem cell loss, such as diabetes, and devastating injuries to tissues including the brain, spinal cord, or skin has generated enormous excitement. However, our lack of understanding of the mechanisms that regulate stem cells within their normal niches in vivo has hampered the advancement of these therapies for clinical applications.  The goal of our proposed study is to understand how localized signals promote stem cell specification and maintenance within the niche. In mammals, like mice or humans, major technical challenges have made it difficult to identify adult stem cells within tissues, a problem that has prevented the identification of important signals that control stem cell behavior. Because of this, we are using the developing ovary in the fruit fly as a model system to directly examine epithelial stem cell regulation. Rapid progress has already been made in identifying components of the stem cell niche and specific genes that control stem cell behavior. Importantly, the genes identified so far also regulate stem cells in humans, suggesting that identifying new signals that control fly stem cell function will be broadly relevant.  Using the fly ovary system, we recently found that integrins, a group of proteins that anchor cells in place, are important for maintaining epithelial Follicle Stem Cells (FSCs) within their niche. Without integrins, FSCs change shape, improperly divide and migrate, and lose their ability to function as stem cells. Similar defects are thought to contribute to cancer initiation, promotion, and progression in humans. Our data also demonstrates that FSCs produce a protein that is an important niche component. This novel finding suggests that many types of stem cells, perhaps including cancer stem cells, may have the capacity to initiate their own niche. The experiments proposed will define 1) how integrins participate in FSC regulation and 2) identify important genes and proteins that work together with integrins to control stem cell function. The outcome of these experiments will impact our understanding of epithelial stem cell function in general and also will have important implications for the development of techniques aimed at purifying stem cells for therapeutic use.    PUBLIC HEALTH RELEVANCE: Our present aim is to define epithelial stem cell control mechanisms in the fly ovary, where specific stem cell regulatory genes and their functions will be determined using genetics, live imaging, and developmental techniques. Defining stem cell control mechanisms in normal tissues is important for understanding how stem cells contribute to cancer and for developing stem cell therapeutics to treat developmental defects, traumatic injury, or diseases associated with stem cell loss, including diabetes.\n",
      "--------------------\n",
      "Topic 60:\n",
      "--------------------\n",
      "prostate men pca cancer androgen ar prostatic progression african bph\n"
     ]
    },
    {
     "name": "stdout",
     "output_type": "stream",
     "text": [
      "--------------------\n",
      "﻿   DESCRIPTION (provided by applicant): Prostate cancer is a heterogeneous disease with significant variations in its clinical outcome. Current methods to assess prostate cancer risk combine prostate specific antigen (PSA) screening and random prostate biopsy. Unfortunately, this strategy fails to reveal the lesion's location and does not accurately differentiate between aggressive and non-aggressive prostate cancers. As a result, most patients will receive unnecessary active treatment for low-risk prostate cancer in order to avoid under treatment. Active treatment involves surgery or radiation, often causing long-term side effects such as urinary incontinence, erectile dysfunction, or bowel urgency. Therefore, non-invasive and accurate diagnostic methods to determine the location of prostate cancer and to assess its immediate risk are needed.  The mission of Prostate Theranostics is to address this problem by developing targeting MRI contrast enhancing agents specific to an extracellular matrix (ECM) protein, oncofetal fibronectin (onfFN), for early accurate detection of prostate cancer. These agents would also be fitted with Gd(III)-chelates that would allow their location to be visualized within men's prostates using MRI. MRI is a non-invasive clinical diagnostic technique and can provide three-dimensional images of whole prostate with a resolution as high as 100 µm. Recent studies show that the over expression of extracellular matrix proteins within prostate tissue are correlated to prostate cancer aggressiveness. In addition, these proteins can be targeted using specific peptide sequences. This project proposes to develop MRI contrast-enhancing agents with specific peptide sequences. These targeting probes would then bind to aggressive prostate cancer after intravenous injection. In addition, the clinician would be able tovisualize location of human prostate cancer using MRI.  The objectives of this SBIR Phase I project are to further optimize the targeted contrast-enhancing agent and commercialize the agent for clinical imaging prostate cancer. Non-invasive accurate detection of prostate cancer is an unmet clinical need for prostate cancer management. Successful development of our imaging technology has the potential to accurately detect and diagnose prostate cancer, replace invasive prostate biopsy, and improve decision-making in clinical management of prostate cancer. It also has the potential for non-invasive active surveillance of prostate cancer and timely monitoring of disease progression, as well as image-guided surgery and therapy.\n",
      "--------------------\n",
      "Topic 61:\n",
      "--------------------\n",
      "clinical trials trial studies translational phase protocol medical conduct safety\n",
      "--------------------\n",
      "The Assessments and Assistance for National Institute of Arthritis and Musculoskeletal and Skin Diseases (NIAMS) Clinical Studies contract supports the NIAMS with the oversight and management of its clinical research studies and clinical trials. This contract supports clinical trials and clinical research in arthritis and musculoskeletal and skin diseases. The services will include the necessary operations needed to execute clinical research studies and clinical trials from study inception to completion. Examples of these services include but are not limited to; clinical study document development and review; data and safety monitoring committee management and support; logistical and executive secretarial support for meetings; clinical site monitoring and study assessment; biostatistical review and consultation; regulatory support and consultation; Good Clinical Practice training for NIAMS staff and Investigators; and the development of electronic systems for managing clinical study information/data. The executive secretarial/logistical functions for the management of committees providing data and safety monitoring oversight to NIAMS funded clinical studies and clinical trials. In addition, this contract effort provides assistance with the conduct of clinical research to ensure data quality and adherence to good clinical practice, and Federal guidelines and policies.\n",
      "--------------------\n",
      "Topic 62:\n",
      "--------------------\n",
      "kidney renal ckd hypertension disease blood pressure chronic cardiovascular vascular\n",
      "--------------------\n",
      "DESCRIPTION (provided by applicant):   The National Institute of Diabetes, Digestive, and Kidney Diseases (NIDDK) established the Chronic Renal Insufficiency Cohort Study in 2001. The principal goals of the CRIC Study are to examine risk factors for chronic kidney disease (CKD) progression (i.e. further loss of kidney function) and cardiovascular events among patients with varying severity of CKD, and develop predictive models that will identify high-risk subgroups with CKD. The latter results will target enrollment of high-risk subjects into future treatment trials and increase application of available preventive therapies. Hypertension treatment has been the most effective intervention altering the course of renal function loss in CKD. However, the drugs used in the treatment of hypertension differ in their benefits on renal function. This raises the possibility that blood pressure reduction by itself only partly explains their beneficial effect and beckons a broader understanding of vascular adaptation to diseases such as CKD. Determination of the pulse wave velocity (PWV) a reflection of large vessel stiffness has provided useful information in cardiovascular disease epidemiology.\n",
      "--------------------\n",
      "Topic 63:\n",
      "--------------------\n",
      "program programs members year programmatic funding scientific biomedical departments progress\n",
      "--------------------\n",
      "Administrative Core of this P01 is composed of two components: 1) Scientific Program 2) Education. The Scientific Program component will be led by Flora M. Vaccarino, M.D., and will include Program, Internal Advisory and External Review Committees. The program Committee will meet regularly and is responsible for reviewing the research progress, ensure that the goals of the Program are met, assess significance of the data, and discuss future directions. Another major function of the Program Committee is to see that clinical and translational implications of the research are identified and separately pursued as appropriate. The Internal Advisory Committee is represented by a group of senior Yale investigators who will advise the Principal Investigator and the Project Directors on the quality of the ongoing research. In addition, it will help the Program Committee in the overall administration of the program by reviewing program progress at least once a year. The External Review Committee is a group of outside consultants that will periodically review the scientific findings of the Program and be available to discuss program issues with Dr. Vaccarino and members of the Program Committee. The educational component concerns the training of medical students, graduate students, postdoctoral associates, residents and clinical fellows in the Child Study Center and Departments of Pediatrics, Neurobiology, Pathology, Obstetrics and Gynecology, Comparative Medicine, Radiology and School of Epidemiology and Public Health. The Core supports monthly seminars of all investigators involved in the projects and Cores, Program Committee members, and occasionally invited internal speakers.\n",
      "--------------------\n",
      "Topic 64:\n",
      "--------------------\n",
      "subproject sources ncrr nih grant subprojectand resourcesprovided likelyrepresents center staff\n",
      "--------------------\n",
      "This subproject is one of many research subprojects utilizing the resourcesprovided by a Center grant funded by NIH/NCRR. Primary support for the subprojectand the subproject's principal investigator may have been provided by other sources,including other NIH sources.  The Total Cost listed for the subproject likelyrepresents the estimated amount of Center infrastructure utilized by the subproject,not direct funding provided by the NCRR grant to the subproject or subproject staff.Preparation of the present report.\n",
      "--------------------\n",
      "Topic 65:\n",
      "--------------------\n",
      "cardiac heart failure hf myocardial ventricular remodeling hypertrophy cardiovascular coronary\n",
      "--------------------\n",
      "﻿   DESCRIPTION (provided by applicant): The overall goal for this project is the development of safer, more effective drugs for the treatment of heart failure. Heart disease is the number one cause of death worldwide and the #1 killer of women - more than all forms of cancer combined. One in 9 deaths in the US are heart failure related. The prevalence of heart failure has risen dramatically as a result of the reduction in mortality from acute myocardial infarction. About halfof the people who develop heart failure die within 5 years of diagnosis. Clearly, there is a significant need for therapies to treat the devastating effects of heart failure.  Cardiac hypertrophy is a major predictor of heart failure. Initially, the heart adapts to stress by inducin hypertrophic growth of cardiomyocytes in order to withstand the increased myocardial wall stress. However, periods of prolonged stress result in maladaptive changes, including increased fibrosis and remodeling as a result of persistent cardiac myofibroblasts. Over time cardiac function decreases, which ultimately results in heart failure. A key component of both the initial response to stress (myocardial infarct or pressure overload) is TGF-β. Although elevated levels of TGF-β are initially important for tissue repair and remodeling after injury, sustained overproduction of TGF-β leads to the development of myocardial fibrosis and maladaptive cardiac hypertrophy.  NovoMedix has developed a novel series of small molecules that prevent the conversion of normal fibroblasts to the myofibroblast phenotype. One of the compounds in this series, NM922, was tested in a mouse transverse aortic constriction (TAC) model of heart failure. NM922 was administered daily for 10 weeks starting at 6 weeks post constriction. Chronic treatment with NM922 following the onset of cardiac hypertrophy and heart failure resulted in reduced myocardial collagen formation and attenuated adverse remodeling with preservation of left ventricular ejection fraction.  The specific aims for this project are: 1) complete additional safety testing and identify at least one back-up candidate; 2) select vehicle/formulation for oral dosing; and 3) define optimal dosing window and demonstrate in vivo efficacy in a mouse TAC model when administered orally. Optimized drug candidates that are effective orally in the TAC mouse model will advance to Phase II, where they will undergo additional testing in both small and large animal models of heart failure as well as additional preclinical toxicology testing.\n",
      "--------------------\n",
      "Topic 66:\n",
      "--------------------\n",
      "self regulation assembly renewal control management administration hsc behaviors report\n"
     ]
    },
    {
     "name": "stdout",
     "output_type": "stream",
     "text": [
      "--------------------\n",
      "DESCRIPTION (provided by applicant): Exercising self-control is a process that requires individuals to override or inhibit their thoughts, emotions, urges, and behaviors. Self-control failures are frequently linked with and offered as explanations for a variety of negative outcomes, including substance use. In experimental studies of self-control capacity, state levels of self-control are inferred through performance on behavioral measures thought to reflect this resource. However, constraining definitions of self-control capacity to strictly behavioral measurements limits the applicability of models of self-control to the phenomena of self-control failure as it occurs in everyday life. The proposed work makes use of self-report measures of state self-control in the context of diary and experience sampling studies to glean a more accurate representation of the variation people experience in their capacity to exhibit self-control in everyday life. Specifically, the proposed project aims to (1) understand how natural fluctuations in self-control occur by modeling trajectories of self-control capacity over time, (2) identify how the trajectory of self-control changes in response to demands on self-control, and (3) examine the trajectory of self- control characteristic of new college students-a sub-population at increased risk for substance use. Three prospective studies have been designed to address each of the aims. Study 1 will address how natural fluctuations in self-control occur (aim 1) and examine the trajectory of self-control in relation to demands on self-control (aim 2). In study 1, undergraduate students will be recruited for a diary study, in which they will be asked to report on self-control demands and state self-control several times each day for a 2-week period. Study 2 will examine how natural fluctuations in self-control occur (aim 1) and examine these fluctuations with respect to substance use behaviors (aim 3). In study 2, graduate students attending an event associated with excessive alcohol use will be recruited for an experience sampling study and asked to report on their state self- control and substance use behaviors at 20-30 randomly signaled events over a 36-hour period. In study 3, incoming first-year and third-year undergraduate students will be recruited to participate in a longitudinal diary study, in which they will be asked to report on self-control demands, state self-control, and substance use behaviors several times weekly over 4 semesters. By analyzing the data from each study using multilevel modeling, the results should provide better insight into how people's capacity for self-control fluctuates in response to various situational factors and why people often fail to exercise self-control, even when doing so is crucial to their health.    PUBLIC HEALTH RELEVANCE: The aims of the proposed project are relevant to public health in that they examine whether the trajectory of self-control changes in response to demands on self-control, and whether this trajectory is associated with substance use in college sub-populations at increased risk for substance use. By examining how the process of self-control unfolds outside the laboratory and in response to situational variables, we will gain a better understanding of how excessive self- regulatory demands can lead to impairment in self-control, and how individuals may be able to learn to recognize these demands and become self-aware of situations that may lead to substance use.\n",
      "--------------------\n",
      "Topic 67:\n",
      "--------------------\n",
      "skin uv melanoma cutaneous keratinocytes uvb epidermal human radiation hair\n",
      "--------------------\n",
      "DESCRIPTION (provided by applicant):  In the first two funding cycles of this grant, we have characterized the molecular structure and function of Cutaneous Lymphocyte Antigen or CLA. We have also made the surprising observation that in humans, the vast majority (>90 percent) of CLA+ skin homing T cells are not in peripheral blood, but rather are in skin at any given time. These cells appear to enter skin directly from blood, through constitutively expressed E selectin, chemokine ligands, and LFA-1 on dermal microvasculature. These observations suggest that memory responses in skin to antigens originally encountered through skin may not require acute extravasation of circulating memory T cells. To more fully define the immunophysiology of these phenomena, we have used murine models of cutaneous infection with vaccinia virus to track a T cell mediated, antigen-specific immune response from draining lymph node and subsequently to both skin as well as other peripheral tissues and secondary lymphoid tissues. These observations provided us with a model of how cutaneous immunization leads to both a robust skin homing response via imprinting of effector memory T cells in draining lymph node, as well as a vigorous systemic response, by migration of subset of central memory T cells throughout the body. In the next five years, we propose to further dissect antigen specific T cell trafficking after cutaneous infection as means to better understand the biology of skin homing T cell trafficking and recirculation through skin. Using gene deficient mice, we will explore the role of the skin homing molecules that discovered were important in the last grant cycle, including PSGL-1, CD43, and FucTVII. We will use parabiotic mouse models to test hypotheses about the trafficking of T cells from skin to LN, blood, and ultimately back to skin. Finally, we will use these models to discover mechanisms and the kinetics of T cell migration through skin. Taken together, these studies will allow us to test clinically important hypotheses about the biology of skin homing T cells. Understanding the biology of these cells is central to modifying their function in the course of treating human diseases. Moreover, because many vaccines are delivered through skin, understanding how such cutaneous responses lead to systemic immunity will help us improve the quality and impact of modern vaccine therapy. PROJECT NARRATIVE: A better understanding of how skin homing T cells are generated after skin immunization, and how memory T cells enter and exit skin, is critical for developing better treatments for skin diseases. It is also critical for development and optimization of vaccines, the majority of which are given via skin immunization. Knowledge generated from this grant application over the next five years will have a significant impact on both areas.\n",
      "--------------------\n",
      "Topic 68:\n",
      "--------------------\n",
      "social behavior behavioral behaviors asd autism emotional aggression individual neural\n",
      "--------------------\n",
      "Social animals possess sophisticated cognitive abilities for assessing, evaluating, and responding to a wide range of social cues. These social abilities allow individuals to display flexible behavior based on their social status and interactions, which is known as social competence. Despite the detailed understanding of importance of social competence little is known about the mechanisms, neural and molecular, that regulate this ability. Knowledge of how responses are regulated will provide essential understanding of social response, both typical and atypical, and allow ultimately for predictions about specific responses by individuals.  The research uses an interesting model system to address these questions the African cichlid fish, Astatotilapia burtoni. These fish are highly social and display extraordinary cognitive abilities, and can even use known relationships to deduce unknown ones to infer the social rank of other individuals transitively. This research will provide opportunities to train undergraduate and graduate students in neuroscience and prepare them for careers in science and outreach to the general public.The specific goal of this research is cichlid fish to identify the neural circuitry, molecular signaling, and regulatory mechanisms involved in social competence.  The proposal hypothesizes that dopamine acting through the D2 receptor mediates the neural social network potentiating social competence. Dopamine plays a particularly important role in encoding the rewarding properties of social stimuli and is known to modulate motivated, goal-directed behavior. The researchers integrate behavioral, neuroanatomical, pharmacological and genomic approaches to discover (1) how animals behave in response to subtle social information; (2) how social information rewires neural circuits on a short time scale; (3) how manipulation of the dopaminergic pathway governs behavioral flexibility; and (4) how social information and the dopaminergic system interact to affect genome activity. The results thus far suggest that not only do individuals respond to a social stimulus differently depending on the social context, but that the behavioral effects of manipulating the dopaminergic reward system also differ across contexts. Given that the neural networks governing social behavior are remarkably conserved across all vertebrates, the results of the planned research will have far-reaching implications for how the brains of social animals, including humans, perceive and respond to their social environment.\n",
      "--------------------\n",
      "Topic 69:\n",
      "--------------------\n",
      "conference meeting workshop scientists scientific science held international researchers field\n",
      "--------------------\n",
      "0904349N. TrayanovaThis project will support Gordon Research Conference on Cardiac Arrhythmia Mechanisms, to be held February 15-20, 2008 at Il Ciocco, Braga, Italy. This is the fourth Gordon Research Conference (GRC) on Cardiac Arrhythmia Mechanisms. The conference is held every other year.  The proposed 2009 Gordon Research Conference on Cardiac Arrhythmia Mechanisms will focus on both basic science and clinically relevant key scientific topics. The meeting will allow opportunities to bring together groups of outstanding investigators, experts in various relevant fields, including molecular biology, molecular genetics, cellular electrophysiology, biophysics, imaging, biomedical engineering, mathematics, and clinical cardiology to interact and share ideas about the underlying mechanisms of complex life-threatening cardiac arrhythmias. Leading experts and young promising investigators in this field will present and discuss the most exciting new contributions to the understanding of the mechanisms of cardiac rhythm disturbances. The overall conference format is very interactive and collaborative and allows time for quality discussions. The Gordon Conference format, with carefully selected presentations and ample time for discussion, will promote the informal exchange of information and foster the development of strong long-lasting relationships among scientist with different backgrounds but common interest in cardiac arrhythmia research.This conference will draw participation from every aspect of our community, from graduate students and postdoctoral fellows through to senior faculty, with participation both national and international, and from academia and industry, to uncover the major mechanisms of arrhythmogenesis. At the meeting, engineers, physical scientists and life scientists will interact and share ideas about the underlying mechanisms of complex life-threatening cardiac arrhythmias; and in the long-term better treatments for the life-threatening arrhythmias can be developed. The conference will target to increase the participation of women and minorities. For the first time, there is a female Chair of the conference; the organizing committee has two female members; and the program has already 6 women speakers and discussion leaders, twice the number at the previous conference.  The conference will also provide an environment for students and junior scientists to  be mentored by the leaders in the field during the sessions, and meals.The requested funds will be used to support students and postdoctoral fellows toward conference registration and/or travel support.\n",
      "--------------------\n",
      "Topic 70:\n",
      "--------------------\n",
      "stroke motor rehabilitation recovery ischemic gait disability stimulation walking movement\n"
     ]
    },
    {
     "name": "stdout",
     "output_type": "stream",
     "text": [
      "--------------------\n",
      "DESCRIPTION (provided by applicant):  Stroke is the leading cause of disability in the United States. It is estimated that 700,000 people in the United States will experience a stroke each year and that there are over 5 million Americans living with a stroke. Regaining the ability to walk is an important goal for individuals who have experienced a stroke and it is often a primary focus of the rehabilitation of these individuals. Current research suggests that rehabilitation strategies that are based on task oriented, intensive training are necessary to induce use dependent neurologic reorganization in order to enhance motor and functional recovery after stroke. Constraint induced movement therapy (CIMT) has been shown to be effective in improving upper extremity motor control and functional use of the affected limb in real world situations in people with stroke. Our long-term goal is development and testing of a comprehensive, CIMT based intervention protocol to improve walking ability and lower extremity motor function in people with stroke. The purpose of this research project to take the first step toward this intervention protocol by developing and testing a novel shoe based sensor that can objectively and accurately monitor real world functional use of the affected lower extremity in people with stroke. This data can then be used to provide behavioral enhancing feedback to patients with stroke regarding the amount of walking they perform and the use of their affected lower extremity throughout the day in their home and community. PUBLIC HEALTH RELEVANCE: Stroke is the leading cause of disability in the United States (Gresham G, 1995). It is estimated that 700,000 people in the United States will experience a stroke each year and that there are over 5 million Americans living with a stroke. Regaining the ability to walk is an important goal for individuals who have experienced a stroke and it is often a primary focus of the rehabilitation of these individuals. In this project we propose to validate a novel shoe-based device that can provide behavioral enhancing feedback to stroke patients in rehabilitation therapy and potentially enhance rehabilitation outcomes.\n",
      "--------------------\n",
      "Topic 71:\n",
      "--------------------\n",
      "asthma airway allergic allergen th2 airways asthmatic asm inflammation respiratory\n",
      "--------------------\n",
      "DESCRIPTION (provided by applicant):  Asthma is a common chronic inflammatory disorder of the distal airways characterized by recurring symptoms, airway inflammation, and reversible airflow constriction. It is considered a collection of various phenotypes (characteristics) insteadof a single disease. Currently, there is no comprehensive phenotyping specific to older adults with asthma that considers multiple factors relevant to this population. Divergent asthma phenotypes and exposure to unique environmental triggers may affect asthma control in the elderly. In addition, factors contributing to asthma quality of life in the elderly have not been wll explored. The aims of our study are to: (1) develop and systematically implement a phenotyping algorithm in older adults with asthma; (2) longitudinally investigate the effects of asthma phenotypes and volatile organic compounds (VOCs) exposures on asthma control in older adults with asthma; and (3) develop a predictive model for asthma quality of life for older adults with asthma. Sub-aims are to explore the impact on moving from community-based to congregate living settings (e. g, assisted living) on the course of asthma in older adults and to identify barriers to successful asthma medication management. One hundred ninety participants 60 years of age or older will be enrolled. Inclusion criteria are: meet standard diagnostic criteri for asthma, non-smokers, have no other chronic respiratory diseases, do not reside in a skilled nursing facility, and have not recently had a major a medical illness. At baseline, participants wil complete spirometry bronchodilator responsiveness, fractional exhaled nitric oxide, methacholine challenge (if not completed within past 5 years), allergic sensitization, Immunoglobulin E (IgE), and sputum analysis, as well as standardized questionnaires to assess asthma control, quality of life, knowledge, and self-efficacy. Within 30 days, an in-home environmental assessment will be conducted to obtain data on VOCs, air particulates, moisture, temperature, humidity, pests, and an asthma home environment checklist. At 9 and 18 months, in-home data will be collected on participants' pulmonary status, asthma control, and asthma quality of life. At 9-months, participants will also complete the measures of medication management. At 18-months, we will conduct follow-up in-home environmental assessments collecting the same data we collected at baseline. Participants who have moved to congregate living facilities will be asked open-ended questions about their perception of the effects of the move on the course of their asthma. Using factor analysis, we will perform a comprehensive phenotypic characterization that will include a wide range of demographics, asthma-specific knowledge and self-efficacy, and biomarkers. Predictive models for asthma control and asthma quality of life will be identified using generalized linear mixed-effects modeling. The findings ofthis study will be used in future research to develop and test the efficacy of patient-centered interventions for older adults with asthma to improve asthma control and enhance quality of life.\n",
      "--------------------\n",
      "Topic 72:\n",
      "--------------------\n",
      "vaccine immune responses vaccines vaccination immunity influenza antibody protection antibodies\n",
      "--------------------\n",
      "Our recognition of the fundamental mechanisms mRNA expression, exemplified by the regulated expression of HIV, provided the basics for our interest in developing preventive HIV DNA based vaccine strategies. Attractive features of the DNA platform lie in its simplicity, versatility, stability, with repeated administration without vector immunity, being a non-replicating vaccine and not association with adverse effects. Several DNA vaccines are currently in clinical trials against HIV and cancer, and there is a licensed DNA vaccine against dog melanoma. We are testing immunogenicity of SIV and HIV DNA vaccines in mice and selected DNA candidates advance to the macaque model. Some of our successful candidates have been moved to clinical trials. Because intramuscular injection of DNA induces relatively low immune responses in macaques and humans, we are testing additional delivery methods, including in vivo electroporation and liposomes. We reported that electroporation dramatically increased the efficiency of DNA delivery in naive macaques, leading to greatly augmented antigen expression and resulting in the induction of highest levels of T cell responses. Our DNA vaccine includes the cytokine IL-12 DNA (expressed from optimized DNA) as adjuvant and we reported increased magnitude and quality of the responses. Importantly, we reported the dissemination of the DNA vaccine induced T cell responses to mucosal sites including rectal and vaginal mucosa, the portal of entry of HIV. We also found that DNA induced immune responses show extraordinary longevity in vaccinated macaques detectable for several years after the last vaccination. DNA vaccination elicits moderate humoral immune responses in macaques. Using DNA-only vaccination, we found that our optimized DNA vaccine vectors are able to induce potent immune responses able to protect from high viremia. We showed that a protein boost can induce higher levels of Ab. We found that co-delivery of DNA+protein, using either unadjuvanted or adjuvanted protein, in the same muscle at the same time increased antibody production and mucosal dissemination. DNA+Protein co-immunization is superior to vaccination with either of the two individual components in eliciting humoral immune responses. Combination of DNA+Protein induces potent humoral responses able to significantly delay or prevent virus acquisition and improve virological control of the highly pathogenic SIV challenge. To optimize vaccine-induced immunity and efficacy of the DNA+protein co-immunization vaccine regimen, a SIVmac251 based vaccine was compared using two TLR-4-based liposomal formulations as adjuvants (TLR-4+TLR-7 or TLR-4+QS21) in macaques, which resulted in induction of robust humoral immune responses with qualitative differences. Vaccinees were preferentially infected by SIVsmE660 transmitted founder T/F virus carrying the neutralization resistant A/K mutation, demonstrating a strong vaccine-induced sieve effect. SIVsmE660-specific systemic neutralizing antibody and mucosal antibodies targeting V2 region of Env correlated with delay in acquisition of the neutralization-sensitive virus and. V2-specific antibodies and cellular SIV-specific T cell responses contributed to control of viremia. Although both DNA+protein vaccine groups show delay of virus acquisition, the TLR4+7 adjuvanted vaccine induced stronger protective responses resulting in lower peak and chronic viremia. We are further exploring approaches to improve immunogenicity targeting the V2 epitopes to induce more effective responses. We also compared immunogenicity and protective efficacy of a DNA+Protein vaccine delivered following two different strategies: co-administration in the same site or separate delivery of DNA and protein in opposite anatomical sites. We found that the co-immunization induces higher vaccine-induced Env Ab and T cell responses. Importantly, only the co-immunization group showed significant delay in SHIV acquisition with a 67% reduction in per exposure acquisition risk relative to the controls after 15 weekly intravaginal challenges. These data indicate that simultaneous recognition of the two vaccine components (DNA and protein) by the draining lymph node plays a critical role in the development of protective immunity. We are identifying correlates of protection from disease development, which will provide critical information to further improve our vaccine approaches. The advantage of co-immunization vaccine regimens targeting immunogens to the same draining lymph node could be applicable to other vaccine modalities and other pathogens.\n",
      "--------------------\n",
      "Topic 73:\n",
      "--------------------\n",
      "muscle skeletal muscles smooth atrophy strength function force satellite mass\n"
     ]
    },
    {
     "name": "stdout",
     "output_type": "stream",
     "text": [
      "--------------------\n",
      "DESCRIPTION (provided by applicant): The loss of skeletal muscle mass is of clinical importance because it is associated with increased morbidity and mortality, as well as a marked deterioration in the quality of life. A broad patient population is affected by significant losses in muscle mass including those afflicted by various systemic diseases (cancer, sepsis, HIV- AIDS), chronic physical inactivity as a result of long term bed rest, rheumatoid arthritis and limb immobilization, and sarcopenia, the age associated loss in muscle mass and strength. Satellite cells are currently an attractive therapeutic target given their stem cell characteristics and essential role in post-natal muscle growth and regeneration. What remains controversial is the necessity of satellite cells in other aspects of muscle plasticity such as hypertrophy, re-growth following atrophy and muscle maintenance with aging. In an effort to resolve this fundamental issue, a novel mouse line was created which enables the specific ablation of satellite cells in mature skeletal muscle. The Pax7-DTA mouse will be used to investigate the physiological function of satellite cells in skeletal muscle hypertrophy (Aim 1) and re-growth following muscle atrophy (Aim 2). The results from the proposed experiments are expected to provide fundamental knowledge on the function of satellite cells in adult skeletal muscle plasticity which will help define the therapeutic value of satellite cells in treating the loss of muscle mass in various clinical conditions.    PUBLIC HEALTH RELEVANCE: Loss of muscle, a common symptom associated with many chronic diseases, physical inactivity or aging, negatively impacts a person's quality of life, increases the susceptibility to other complications of disease and can even lead to death. Treatments designed to restore or prevent muscle loss have in part focused on using muscle stem cells referred to as satellite cells. The goal of the proposed research is to determine if satellite cells are necessary for adult muscle growth and thus, are an appropriate target for therapy for skeletal muscle loss.\n",
      "--------------------\n",
      "Topic 74:\n",
      "--------------------\n",
      "technology software users device user devices use design performance technologies\n",
      "--------------------\n",
      "Automation can make repetitive or boring physical tasks ? like moving boxes onto a conveyor belt-a trivial component of life; however, small businesses and consumers that want to use automation in their workspace and/or home face insurmountable challenges to enter a highly technical field. Typically, external companies called robotic integrators are employed for designing and implementing such systems. While the hardware used in this process is getting cheaper and cheaper, the physical labor of highly trained technical engineers needed to build and program these systems is not. This I-Corps team is developing easy-to-use software that will allow nontechnical users to design and implement their own automated systems that are customized to their own needs without having to hire costly robotic integrators. The new, proposed technology is lowering the barrier to entry for small business owners and home consumers through a web-based software platform where users can build their own programs for automation through a nontechnical, intuitive user interface. This initial prototype leverages a way of thinking about automation in terms of action and sensing primitives that derives from a university robotics research lab. The proposed technology has the potential to dramatically transform the population of people to whom automation, and its well-documented benefits, is available. The approach taken in this technology could bring simple, moving machines into many more environments.Expanding the use cases of industrial automation to smaller batch sizes and narrower profit margins is a key challenge toward realizing the vision of the Internet of Things. This challenge is due in large part to the high cost of technical expertise required for the integration of available, cost-effective sensors, actuators, and algorithms. However, relatively inexpensive software can be developed to help users adapt existing technology to their environment. The proposed technology utilizes two key technical areas. One area is the computational architecture of the product and the development of a scalable code architecture and support for a larger number of so-called sensing and action primitives. Another area is in human factors where the ability of an untrained user to move from a contextualized use-case to specific logic design is key. Here, a relatively complex process must be distilled to essential steps that an untrained user can relate to a familiar process in a particular environment. Participation in the Innovation Corps will allow the team to identify and research the appropriate market in which to develop and launch a first product. In particular, the team will explore which customer base ? ranging from at-home hobbyists to small-to-medium sized industrial companies-is a good fit, in terms of feasible application of the technology as well as market demand and pricing, for the proposed technology. The team's participation will influence parallel development of technology and inform a business plan that will allow for commercialization of the technology.\n",
      "--------------------\n",
      "Topic 75:\n",
      "--------------------\n",
      "systems models computational theory mathematical methods modeling model dynamics problems\n",
      "--------------------\n",
      "Physical systems are modeled at different scales and to different approximations with different equations. The Schrodinger equation at the quantum level models the molecular and atomic scale.  Newton's laws in classical mechanics model the macroscopic scale.  The Boltzmann equation applies at the statistical level, where systems of many particles are studied, and the Navier-Stokes equation and others model distributed systems such as fluids in the continuum regime. A central question in applied mathematics and physics is to understand the relationships between the different models, and many tools (both analytical and numerical) have been developed for this task through the years. However, most of them idealize the systems under study and cannot tackle practical problems that have emerged in the study of complicated systems in chemistry, physics, and engineering. This project focuses on two longstanding challenges concerning these connections: the characterization of quantum information in the classical regime when chemical reactions are present, and the coupling between the statistical and the fluid description. The project aims to develop improved methods for the modeling of multiscale systems.  Despite their fundamental importance in physics and engineering, effective mathematical analysis and computational techniques for multiscale problems in kinetic theory have remained rather elusive. The multiple scales inherent in many physical systems have posed notorious computational challenges.  This project concerns development of multiscale numerical methods in kinetic theory, including numerical capture of the hydrodynamic limit of Boltzmann-type equations and the semi-classical limit of the Schrodinger equation. Both have long been regarded as fundamental problems in kinetic theory. More specifically, the project focuses on capturing the non-adiabatic transition in the classical regime derived from quantum mechanics, and boundary layer effects that connect the fluid description with the statistical mechanical description. Both problems emerge in transition regimes, the multi-physics phenomena can be captured by none of currently available mathematical treatments, and the computation is far from being efficient. The project aims to develop and analyze efficient computational tools for these problems, focusing on treatment of boundary layers and interfaces and design of asymptotic-preserving schemes.  Besides leading to improved understanding of physical systems of these types, it is expected that the new tools under development could inspire treatments of similar problems emerging in other areas, for example, hyperbolic type problems with random media.\n",
      "--------------------\n",
      "Topic 76:\n",
      "--------------------\n"
     ]
    },
    {
     "name": "stdout",
     "output_type": "stream",
     "text": [
      "auditory hearing speech cochlear noise processing sound loss hair perception\n",
      "--------------------\n",
      "DESCRIPTION (provided by applicant): This proposal will study a recently recognized form of hearing disorder called auditory neuropathy (AN) that is due to a disorder of auditory nerve functions in the presence of normal cochlear receptor activities. AN subjects have normal measures of cochlear outer hair cell activities but abnormal measures of the central auditory pathway functions beginning with auditory nerve. The hearing disorder typically affects speech comprehension out-of-proportion to the pure tone loss, particularly speech recognition in noise. AN is not rare and accounts for 10 percent of newborns identified as having hearing loss and also develops in childhood and in adults. In adults the disorder of auditory nerve is commonly associated with a peripheral neuropathy. In addition, AN and sensory hearing loss occur together. Loss of neural synchrony and decreased auditory nerve input are proposed as cardinal mechanisms underlying the hearing disorder. The sites of abnormality along auditory nerve have recently been identified at auditory ganglion cells and their axons (Type I AN) or distally in the auditory periphery where auditory nerve terminals, inner hair cells, and the synapses between inner hair cells with nerve terminals are in close approximation (Type II AN). Our long-term goals are to understand the underlying mechanisms of AN and the accompanying hearing impairments to provide a scientific basis for alleviating the hearing deficit in AN subjects. We propose four experiments using both psychophysical and electrophysiological techniques that will help us achieve these goals. We will characterize (1) the reorganization of central auditory pathway occurring in response to altered auditory nerve input; (2) the contributions of dysynchronization and decreased auditory input as pathophysiological mechanisms underlying AN; (3) the objective physiological and psychophysical measures of improved auditory temporal processes in cochlear implanted AN subjects, and (4) the improvement of speech recognition using new auditory processing techniques. The results of our studies could have major impact on the diagnosis, classification, understanding, and treatment of auditory neuropathy.\n",
      "--------------------\n",
      "Topic 77:\n",
      "--------------------\n",
      "exposure effects exposures environmental prenatal exposed bpa air arsenic maternal\n",
      "--------------------\n",
      "Crucial components of environmental data analysis are exposure assessment and the relationship between exposure and a health outcome. Investigators often go to great lengths to obtain careful, detailed measures of exposure, which may have multiple constituents, change over time, and be modified by personal factors. Investigators often replace this multivariate exposure data with simple summary statistics (e.g., cumulative or average exposures in some time window of interest) for analysis, which may or may not be the aspects of exposure most closely related to health outcomes of interest. Indeed, to assess the association between an individual&rsquo;s exposure history and a health event, it is preferable (and often necessary) to reduce the dimensionality of the exposure history data to calculate aggregate and cumulative exposure effects. Some examples include exposure to drinking water disinfection by-products (DBPs), occupational exposures to agricultural chemicals, and exposures to air pollutants. The primary objectives of this research are to develop useful methods for summarizing complex exposures and for examining the relationship between the exposures and health outcomes, to account properly for resultant uncertainty in the exposure assessment, and to use the models for estimation, prediction, and other inferences about the effects of multi-chemical, multi-pathway exposures.\n",
      "--------------------\n",
      "Topic 78:\n",
      "--------------------\n",
      "spinal sci cord injury recovery nerve regeneration motor axons axonal\n",
      "--------------------\n",
      "Few injuries are as physically and psychologically devastating as suffering a spinal cord injury (SCI).  Each year, over ten thousand North Americans suffer such an injury and are left permanently paralyzed, with limited to no movement of their arms and/or legs and a myriad of other health impairments such as bowel and bladder incontinence.  Unfortunately, there are no treatments available that unequivocally reverse this paralysis and improve neurologic recovery.  Much research has been done to develop novel therapies for SCI in the laboratory.  While these are promising, it will still be many years before the completion of clinical trials that test their effectiveness in human SCI.  This is little comfort to those who are injured today, particularly in combat situations where advanced and sophisticated neuro-restorative therapies may simply not be deliverable.  There is therefore an urgent need for treatments that can be more rapidly translated into the clinical setting to improve neurologic recovery in individuals who have suffered an acute spinal cord injury.Our research proposal aims to inform current treatment guidelines around the blood pressure management of acute SCI.  Blood pressure management in acute SCI is important because after traumatic injury the spinal cord's blood supply is reduced below critical levels, making the cord vulnerable to further irreversible ischemic injury.  Physicians attempt to improve the blood supply by increasing systemic blood pressure for the first week post-injury.  Current practice guidelines recommend using intravenous fluids and vasopressors to maintain the mean arterial pressure (MAP) at 85-90 mm Hg for 5-7 days post-injury in all acute SCI patients.  These guidelines, however, are not based on strong clinical evidence from high-quality clinical trials.  By promoting a  one-size-fits-all  approach, such hemodynamic guidelines ignore the possibility that the spinal cord and its blood flow respond differently depending upon whether the cord remains compressed or has been surgically decompressed after a period of prolonged compression lasting hours to days.The ultimate goal of our research is to inform clinical guidelines around the hemodynamic management of acute SCI patients by determining how alterations in systemic blood pressure influence the injured spinal cord before and after surgical decompression.  Our overall objective is to determine how hemodynamic support of systemic blood pressure in the presence or absence of spinal cord compression affects the vascular, metabolic, biochemical, and behavioral outcomes of traumatic SCI.  It is our hypothesis that increasing the blood pressure to improve blood supply to the injured spinal cord is helpful when the cord remains compressed, but, paradoxically, has deleterious effects when the cord is surgically decompressed.  Our pilot data using a large animal model of SCI have suggested that increasing the blood pressure after decompression leads to dramatically increased swelling of the spinal cord and an exaggerated metabolic response.  Such deleterious effects were hinted at many years ago, but these warnings have to some extent been overlooked in our current enthusiasm for driving up the blood pressure.To shed further light on the downstream effects of hemodynamic support, we will use a novel pig model of SCI that shares many anatomic and physiologic similarities with human SCI.  The pig spinal cord is much more similar in size to the human cord than the rat or mouse spinal cord.  Similarities in the pig spinal cord blood supply with that of humans have made it a routinely used animal model for studies of ischemic spinal cord injury.  Using our large animal model of SCI, we hypothesize that well-intended increases in MAP will exacerbate a so-called  reperfusion injury  and ultimately have deleterious effects on regions of the spinal cord surrounding the injury site.  Our experiment will evaluate both short-term (24 hours post-injury) and long-term (12 weeks post-injury) outcomes of MAP support before and/or after spinal cord decompression has occurred.Ultimately, a better understanding of how the spinal cord adjacent to the injury site responds to alterations in systemic blood pressure in the presence or absence of residual mechanical compression will help clinicians provide optimal hemodynamic management for patients with acute SCI and improve their chances of neurologic recovery.  This research has potential application to all patients with acute SCI, and importantly is relevant to front-line clinicians who are charged with managing these individuals and doing whatever possible to maximize their chances of neurologic recovery.  Blood pressure management is one of the few aspects of clinical care in acute SCI that physicians currently have some control over, and so it is highly relevant to seek ways of optimizing this management.  We do not discount the importance of novel and cutting-edge neuro-regenerative therapies -- clearly, these will be needed to advance the field of SCI research in the future.  However, we contend that work such as that which we propose is important to understand how we could potentially improve the delivery of care today.\n",
      "--------------------\n",
      "Topic 79:\n",
      "--------------------\n"
     ]
    },
    {
     "name": "stdout",
     "output_type": "stream",
     "text": [
      "network networks ctn wireless node connectivity internet regulatory infrastructure trials\n",
      "--------------------\n",
      "Part 1.The optical network of the future will have orders of magnitude increase in data rates, due at least partially to the increase in big-data transactions. These create the need for fast scheduling of network resources and agile network adaptation to most efficiently move the data across the network.  This project proposes to investigate a cognitive network management and control system, which 'senses' current network conditions and uses this information to satisfy overall performance goals. This project will be the first comprehensive research on cognitive optical network management and control. The goal is for agile automated adaptation to replace current slow, manually-driven management and control practices. The fruits of this research will have implications for next generation wireless networks and power grid systems and for fast detection of extreme events that can significantly disrupt networks. Part 2.Current optical networks are operated with predominantly static connections, with lightpaths changed quasi-statically and often remaining unchanged for months. Present methods of setting up a wavelength path result in slow changes to the network (~20 min setup times), as each of the network elements along the path is gradually tuned to avoid instabilities and transient impairments arising from rapidly introducing another optical channel into the network. Large flow and other traffic dynamics will require bandwidth adaptations of the order of ~100mS-1S.  In today's optical networks, the link quality of all adjacent wavelengths is monitored as the lightpath is turned on in several steps. The number of network parameters and their short coherence time in dynamic future networks render acquiring the complete state information of the network impractical. The idea of this project is to sense and control a small subset of the parameters with the 'largest' information content and use their relationship to tune the network. Cognitive techniques that need to be incorporated in such a strategy include sampling of network and link parameters, applying data analytics to learn behavior and cognitive techniques to operate networks, and inferring network state and optimizing performance without placing an undue network control and management communications burden on the network. This research will consider both dynamic per-session scheduling, rerouting/load-balancing and topology reconfiguration to optimize network performance.\n",
      "--------------------\n",
      "Topic 80:\n",
      "--------------------\n",
      "visual eye vision retinal attention glaucoma perception perceptual processing stimuli\n",
      "--------------------\n",
      "DESCRIPTION (provided by applicant): Vision is one of the enduring puzzles of modern cognitive science and elucidating the mechanisms of visual object perception presents a particular challenge. Nothing in the reflected light that arrives at the retina contains direct information about the location, shape, size, or number of objects in view. Understanding how the brain processes visual stimuli to derive this information would be a major advance in visual science. Because birds are active and mobile, avian visual systems must resolve the same problems that have driven theoretical advances in human and machine vision research. Examining these issues in such small, non-mammalian systems adds substantially to the development of a unified general theory of vision. Using our well-developed psychophysical techniques based on discrimination learning, we propose to evaluate this problem by examining in how starlings and pigeons process visual stimuli in controlled analytical contexts. This will bethe first parallel comparison of visual processing in two avian species. The overall objective of this application is to investigate and compare how these species solve central problems of visual cognition and object perception as related to the processing of illumination and shading, edge processing and figural grouping, and the recognition and classification of behavior and action. Our specific aims include: 1) equating our procedures for the comparative examination of visual processing in these species; 2) examining the processing of surface shading and its contributions to object and depth perception; 3) examining edge and figural grouping processes in shape perception; and 4) examining the mechanisms of visually-mediated action and movement recognition. The current project is a part of our long-term objective to understand the proximate psychological, computational and neural mechanisms by which different pattern recognition systems perceive, recognize, categorize, integrate, understand, and respond to complex visual information. The unique combination of visual power, small size, and different neural organization exemplified by birds offers a special scientific opportunity for better understanding this extremely important sensory modality and how it functions and is implemented across different classes of animals. This comparison will address whether there are only a few biologically plausible mechanisms for rapid visual processing of objects or whether there are multiple routes to functional vision in highly mobile organisms. Because there is strong evolutionary pressure for highly efficient and rapid computation of visual information placed on the small, highly visual brain of birds, our results will contribute directly to the pracical development of treatments, corrective solutions or prostheses for humans with a variety of visual disorders and to the design of visual sensors for self-guided bio-mimetic robotic devices.  PUBLIC HEALTH RELEVANCE: Visual perception is critical to virtually every aspect of human behavior. Using new modifications to a behavioral approach that has consistently yielded important information about vision and its mechanisms, the primary goal of our proposed research is the comparative analysis of visual perception of objects and movement in two bird species. We expect that our results will constitute a significant advance in our understanding of visual object perception and contribute to treatments or corrective solutions for humans suffering from a wide variety of visual disorders or deficits.\n",
      "--------------------\n",
      "Topic 81:\n",
      "--------------------\n",
      "aim specific aims hypothesis test determine identify proposal model using\n",
      "--------------------\n",
      "This is a clinical support core. The Aims are:Aim 1. To provide basic administrative support for the operation of the entire Project.Aim 2: To provide basic statistical support for all of the Projects.Aim 3. To screen subjects for the clinical and brain bank components of the Program Project.Aim 4. To recruit subjects for clinical projects.Aim 5. To provide technical and interpretive support for tests and procedures that are preformed in Projects#1 and #2.Aim 6: To provide clinical and research database management.\n",
      "--------------------\n",
      "Topic 82:\n",
      "--------------------\n",
      "ms cns eae myelin disease sclerosis mass autoimmune lc demyelination\n",
      "--------------------\n",
      "Multiple Sclerosis (MS) is an inflammatory, demyelinating disorder of the central nervous system (CNS). The etiology of MS remains unclear, but the disease develops in genetically susceptible individuals exposed to environmental triggers. The long-favored hypothesis in MS implicates autoreactive T and B cells generated in the periphery that access the CNS, where they induce injury of previously normal neural tissues. However, in contrast to the animal model experimental autoimmune encephalomyelitis (EAE), neither the target(s) of the immune response nor the cells responsible for CNS damage have been unequivocally defined in MS. Furthermore, the failure of some MS disease modifying treatments (DMTs) that target processes underlying the development of CNS tissue destruction in EAE (e.g. IFN-g, TNF-a inhibitors) indicates that different mechanisms may cause the development of disability in MS versus EAE. Therefore, there is a need to identify pathophysiological mechanisms that are specific for MS, but may not be predicted from EAE models. Therapeutic trials, especially those that investigate novel therapeutic agents, represent a unique opportunity to investigate how specific perturbations of the biological system affect MS disease process. The goal of this project is to carefully study the biological perturbations induced by the application of novel therapeutic agents in Phase I/II clinical trials in MS, to define mechanisms of CNS tissue injury, but also those that underlie beneficial immunoregulation and immune-mediated neuroprotection. By correlating changes measured in the biological system with structural changes of CNS destruction (measured by neuroimaging), and with novel, more sensitive clinical and functional outcomes, we can understand which biological processes are beneficial and which are harmful in the MS pathogenesis. Additionally, understanding which effects of applied therapies underlie their therapeutic benefit will allow us to define biomarkers that are indicative, and ideally also predictive of the full therapeutic response. Finally, we also believe that analogously to cardiovascular, infectious diseases or oncology, successful treatment of fully evolved CNS disorder will require rational, patient-specific combination treatments that target all pathogenic mechanism responsible for his/her disease expression. This project is an extension of the NS003055: Comprehensive multimodal analysis of patients with neuroimmunological diseases project, in that it tests hypotheses derived from the NS003055 project in interventional, investigator-initiated clinical trials.We are currently finishing the investigator-initiated Phase I/II clinical trial performed under Investigational New Drug (IND) application: protocol 13-N-0088 (Open label extension trial of Idebenone for Primary Progressive Multiple Sclerosis - IPPOMS-E trial; clinicaltrials.gov identifier NCT01854359). This trial studies mitochondrial hypothesis of disability progression in primary progressive MS (PPMS). PPMS is resistant to therapy by immunomodulatory agents. Mitochondrial dysfunction coupled with oxidative stress has been proposed as one of the top alternative hypotheses underlying pathophysiology of PP-MS. Idebenone is a synthetic analogue of coenzyme-Q with lower lipophilicity, which allows its reduction by cytosolic enzymes that are upregulated under oxidative stress, such as NQO1. As such, it can improve mitochondrial metabolism under conditions with dysfunctional electron transport chain (ETC) complex I, such as Lebers hereditary optic neuropathy. Therefore, in IPPOMS-E trial, we test the hypothesis that mitochondrial dysfunction contributes to development of neurological disability in PPMS. Associated biomarker studies strive to derive and validate biomarkers of mitochondrial dysfunction in MS, as well as biomarkers of MS disease progression and severity.In 2017 we opened new Phase II clinical trial called TRAP-MS:  Targeting Residual Activity by Precision, biomarker-guided combination therapies of Multiple Sclerosis (protocol 17-N-0083; clinicaltrials.gov identifier NCT03109288). TRAP-MS trial tests hypotheses derived from the knowledge we acquired in the past 5 years under project NS003055: Comprehensive multimodal analysis of patients with neuroimmunological diseases about residual MS activity when patients are treated with current FDA-approved DMTs and about pathogenic processes associated with disease progression and disease severity in MS. Specifically TRAP-MS trial tests following hypotheses:1.\tLarge proportion of MS patients treated with currently-approved DMTs retain measurable inflammation that is compartmentalized to the CNS tissue and consists of terminally-differentiated (and therefore largely non-proliferating) immune cells. This inflammation contributes to CNS tissue destruction and may be limited by hydroxychloroquine, which limits antigen-processing/presentation and perforin-mediated cytotoxicity.2.\tChronic intrathecal inflammation leads to activation and reprogramming of the innate immunity, especially myeloid lineage, which contributes to CNS tissue destruction and accumulation of disability. This inappropriate activation of myeloid lineage (microglia, macrophages and myeloid dendritic cells) may be inhibited by drugs pioglitazone and montelukast.3.\tMS progression is also associated with inappropriate activation of endothelial cells and components of the blood brain barrier (BBB) and neurovascular unit, which leads to remodeling of the extracellular matrix that also contributes to accumulation of disability. This biology may be affected by drug losartan.4.\tAfore-mentioned processes are differentially expressed in individual patients and can be measured by cerebrospinal fluid (CSF) biomarkers. Therefore, CSF biomarkers may guide selection of optimal therapy and reflect its efficacy on residual MS activity.5.\tTo achieve high level of efficacy (ideally complete inhibition of MS progression) patients will need combination treatments that target all pathogenic mechanisms that are active in patients CNS.We expect that biomarker and mechanistic studies that accompany TRAP-MS trial will provide missing knowledge necessary for application of precision neurology in broad MS practice. We expect that not all drugs selected for initial testing in TRAP-MS trial will prove their desired efficacy in the intrathecal compartment and this protocol includes stopping criteria for individual drugs and their future replenishment with other candidate agents.\n",
      "--------------------\n",
      "Topic 83:\n",
      "--------------------\n",
      "materials properties energy mechanical thermal material temperature polymer high chemical\n"
     ]
    },
    {
     "name": "stdout",
     "output_type": "stream",
     "text": [
      "--------------------\n",
      "NON-TECHNICAL SUMMARY Remarkable levels of sophistication have been reached in linking properties of a given material to its microstructure, crystal structure and electronic structure. A substantially bigger challenge, though, is predicting the dynamic evolution of a material taken out of equilibrium and determining what external stimuli must be imposed to shepherd the material into a desired end state. The desirable properties from a particular chemistry are usually manifested in metastable crystal structures and microstructures rather than in the true equilibrium state of that chemistry. In many applications it is necessary to know how a material in a particular state will evolve over time either because it is metastable or unstable, such as in high temperature applications, or due to changing boundary conditions, as in electrochemical energy storage applications.This award supports computational research and education to develop highly automated statistical mechanical software tools that will be used to predict materials properties and greatly enhance the ability to design materials for high temperature and non-equilibrium applications from first principles. Areas where such tools will prove invaluable include the design of new (i) structural materials for aerospace applications and large-scale power generation plants, (ii) electrode and electrolyte materials for electrochemical energy storage, (iii) materials for thermoelectric applications and (iv) materials for shape memory applications. The project will also involve the education and training of graduate students in computational materials science, a field that is increasingly recognized as invaluable in the design and rapid implementation of new materials.TECHNICAL SUMMARY  This award supports research and educational activities aimed at extending the existing thermodynamic and kinetic foundations that underpin phenomenological descriptions of non-equilibrium processes in the solid state. This will be realized by two activities: (i) the development of statistical mechanical computational tools to automate the calculation of a wide variety of thermodynamic and kinetic properties that are essential in the description of materials evolving out of equilibrium and (ii) the development and application of new statistical mechanical theoretical methods to enable the prediction of high temperature properties of multi-component crystalline solids. A deep understanding of many high temperature materials and non-equilibrium processes is hampered by a lack of not only quantitative thermodynamic, kinetic and mechanical data, but also a lack of knowledge about qualitative trends in this data. Furthermore, a large class of technologically important high temperature materials cannot be adequately described and understood with current statistical mechanical methods. This research activity will result in highly automated computational statistical mechanical tools to predict free energies and transport coefficients as a function of concentration. Such tools will provide new knowledge about the dependence of a wide variety of materials properties on chemistry and crystal structure. The theoretical focus on high temperature phases will generate fundamental new insights about the vibrational stabilization mechanisms, atomic hop mechanisms and mechanical properties of a large and important class of poorly understood materials used in high temperature applications.  The project will also involve the education and training of graduate students in computational materials science, a field that is increasingly recognized as invaluable in the design and rapid implementation of new materials.\n",
      "--------------------\n",
      "Topic 84:\n",
      "--------------------\n",
      "memory hippocampal hippocampus pfc memories working fear episodic retrieval cortex\n",
      "--------------------\n",
      "﻿   DESCRIPTION (provided by applicant): Memory decline affects millions of people during normal aging and as a consequence of mental health disorders like schizophrenia and chronic depression. This study is concerned with answering the question of how the processing of information in working memory, a form of short-term memory in which information is actively maintained and flexibly used to achieve goals, influences the formation of long-term memories. Several models (Miyaki & Shah, 1999) presume a separation between working and long-term memory, but new evidence suggest an overlap in the neural substrates that subserve these two memory systems (Henke 2010, Nee & Jonides, 2011). Recent data (Ranganath & D'Esposito 2001, Axmacher et al 2007) show the hippocampus, important for long-term memory consolidation, is also active during high load working memory (i.e., when many items are maintained). We propose to test the hypothesis that working memory load predicts long-term memory formation. In Aim 1, we will ask subjects to maintain complex visual scene stimuli in working memory while varying load, and test their recall after different retention intervals. This will answer how working memory load influences memory consolidation and identify a specific variable (load) that governs the interplay between two memory systems. In Aim 2, we will adapt the behavioral paradigm to conduct a functional magnetic resonance imaging (fMRI) study to assess the mechanism of interaction. Does increased hippocampal activity and functional connectivity with cortex during high load working memory processing predict subsequent long-term memory recall? The results will provide new insight into how two memory systems previously studied mostly in isolation interact, and identify a specific variable and mechanism by which information in working memory is transferred to longer-term stores. The results will also inform strategies to improve memory (e.g., through training) during normal aging and disease.\n",
      "--------------------\n",
      "Topic 85:\n",
      "--------------------\n",
      "hcv infection hepatitis chronic ifn infected antiviral interferon ribavirin immune\n",
      "--------------------\n",
      "HCV is a major public health problem, infecting more than 170 million people worldwide. Most cases of HCV infection become persistent and may eventually lead to chronic liver disease, cirrhosis, and hepatocellular carcinoma. HCV is an enveloped virus classified in the Flaviviridae family. The single-strand, positive-sense viral RNA genome encodes a single polyprotein precursor that is processed into three structural proteins (C, E1, E2) and seven nonstructural proteins (p7, NS2, NS3, NS4A, NS4B, NS5A, and NS5B) by host and viral proteases. The RNA genome of HCV has significant heterogeneity with six major genotypes and numerous subtypes. Until recently, chronic HCV infection has been  treated with pegylated alpha interferon and ribavirin. Although the treatment outcome is variable among the six major HCV genotypes, only 50% of treated patients infected with genotype 1 respond to therapy. Since the past two years, new treatments for HCV infection have emerged and hold great promise for cure, but numerous challenges to establishing care and receiving therapy exist. The ability of HCV to establish persistent infection with great success in humans has been attributed, in part, to a variety of strategies to evade host immune and IFN-induced defenses. Epidemiological studies suggest that up to 20% of acutely infected HCV patients can resolve the infection without treatment, which implies that innate and/or adaptive immune responses are indeed capable of controlling the outcome of HCV infection. The molecular mechanisms that regulate innate intracellular antiviral responses may therefore serve as pivotal points of control, potentially limiting host permissiveness for HCV replication and favorably modulating subsequent adaptive immune responses. Although hepatocytes are the major site of viral replication, a broad clinical spectrum of extrahepatic complications and diseases are associated with chronic HCV infection, including mixed cryoglobulinemia, non-Hodgkins lymphoma, cutaneous vasculitis, glomerulonephritis, neuropathy, and lymphoproliferative disorders. The existence of extrahepatic reservoirs of HCV replication, particularly in PBMCs, remains highly controversial. It is unclear how B cells become dysregulated during the course of chronic HCV infection. In our previous study, we demonstrated that in 7 out of 7 chronic HCV patients, HCV is preferentially associated with CD19+ B cells in PBMC subpopulations. Using in vitro reconstitution experiments by mixing cell-free HCV particles from chronic HCV carriers with PBMCs from healthy blood donors, we found that HCV particles preferentially bind to CD19+ B cells. HCV particles produced from in vitro cell cultures have minimal binding capacity to CD19+ B cells. However, when HCV particles produced in cell culture were pre-incubated with serum samples from HCV recovered patients and then mixed with PBMCs from healthy blood donors, the viral particles become preferentially bound to CD19+ B cells. Initially we thought the serum components which promote the binding of HCV to B cells were induced by HCV infection, such as HCV antigen-specific antibodies. Later, we demonstrated that the same activity can also be found in serum from healthy blood donors without any evidence of previous exposure to HCV.  Furthermore, we showed that the serum components which promote HCV binding to B cells are heat-labile.For our next phase of study, we will focus on the following projects: 1) To  investigate the mechanism of preferential binding of hepatitis C virus to B cells in peripheral blood mononuclear cells from chronic HCV carriers; 2) To identify specific cell surface receptors involved in HCV binding to B cells; 3) To determine whether the virus is merely attached to the cell surface or becomes intracellular and replicates; and 4) To elucidate the possible biological responses and consequences of HCV binding to B cells.\n",
      "--------------------\n",
      "Topic 86:\n",
      "--------------------\n"
     ]
    },
    {
     "name": "stdout",
     "output_type": "stream",
     "text": [
      "ptsd veterans tbi va fear trauma traumatic symptoms extinction military\n",
      "--------------------\n",
      "DESCRIPTION (provided by applicant):        Posttraumatic Stress Disorder (PTSD), a highly prevalent, chronic psychiatric disorder, often co-occurs with other psychiatric disorders, is associated with occupational and social dysfunction, and can lead to chronic disability. PTSD is also a risk factor for a number of health-related concerns including chronic pain and cardiovascular disease and is associated with significant economic burden. Veterans are at increased risk for PTSD with prevalence rates up to 3 times those who are non-Veterans. Existing PTSD treatments have been found to be less effective for Veterans with PTSD, in fact, combat-related trauma has been associated with the lowest treatment effect sizes in studies of PTSD treatments. Veterans with PTSD often experience difficulty engaging in traditional CBT exposure based approaches, which can trigger the uncomfortable emotional arousal they want to avoid. Further, the repeated nature of trauma exposure resulting from multiple and longer deployments, mental health stigma within military culture, and administration time, resources, and costs for mass populations such as the military, all contribute to decreased implementation and possibly efficacy of existing PTSD treatments. Therefore, novel and adjunctive interventions for the treatment of PTSD are sorely needed for Veterans with PTSD.  The aim of the proposed research is to examine the potential of exercise as an adjunctive intervention for PTSD in Veterans. There is a growing body of literature that supports the efficacy of exercise interventions in treating clinically diagnosed populations with various psychiatric disorders, and increasing physical activity has the potential to be cost-effective, flexible, and accessible. Veterans may find engaging in exercise as a more acceptable, less stigmatizing approach to managing PTSD symptoms. We propose to conduct a small, randomized clinical trial with 50 Veterans in treatment for PTSD randomized to receive either an adjunctive aerobic exercise (AE) intervention or a contact control health education comparison (HEC) intervention. The pilot RCT will allow us to 1) determine the feasibility of recruitment and randomization, 2) determine the acceptability of the AE and HEC conditions, and 3) to provide preliminary evidence of the effects of AE. This project will thus lay the groundwork for a subsequent randomized controlled trial with adequate statistical power to test the efficacy of AE in reducing PTSD symptoms, decreasing anxiety and depressive symptoms, and increasing quality of life and cardiorespiratory fitness in Veterans with PTSD.  The longer term significance of this project lies in the potential for adapting the AE intervention for use inVA hospitals nationwide. The larger aim of this program of research is to disseminate an effective, aerobic exercise intervention that can be readily integrated into PTSD treatment programs across treatment settings within Veterans Administration (VA) hospitals. Future dissemination of this approach could result in high public health significance in decreasing the overall severity of PTSD symptomatology in Veterans, thereby reducing PTSD-related morbidity.\n",
      "--------------------\n",
      "Topic 87:\n",
      "--------------------\n",
      "learning teachers science reward teaching extinction student learn education motor\n",
      "--------------------\n",
      "DESCRIPTION (provided by applicant): Human infants are confronted with a complex world that is filled with ambiguity. Not only are many different features and dimensions of information present in the environment, but these cues are often unrelated to any reinforcement or feedback. There are two solutions to learning in a complex and ambiguous environment: (a) innate constraints on the cues selected for processing (bottom-up), or (b) rapid learning-to-learn mechanisms that assess cues (top-down). Learned top-down mechanisms of information selection may be tuned more to specific task demands, and thus more useful for learning. Given how much infants have to learn over the first two years of life, it is not efficient to use mainly slow but precise (top-down) search methods. My hypothesis is that the developmental progression of learning how to learn requires using bottom-up information in a systematic way, while creating top-down buffers against bottom- up distraction. The experiments in the research plan will test this hypothesis, with each experiment evaluating an additional level of learning. Sophisticated behavioral techniques (i.e., both table- and head-mounted eye- tracking) and complementary state-of-the-art neuroimaging methods (i.e., functional near-infrared spectroscopy [fNIRS], measuring spatially-localized neural activation via non-invasive light probes on the scalp), as well as data mining tools applied to infant eye movement data, will examine how infants learn to learn from both computer displays and in naturalistic settings. There are four specific aims in this research program: 1) to establish a new, robust measure of learning with both behavioral and neural measures, 2) to investigate how attentional deployment can optimally improve learning, 3) to apply the learning paradigm to the natural environment, and 4) to conduct microanalyses on and to develop computational models of infant eye movements. The training component focuses on learning to use two state-of-the-art methods in infancy research (a head-mounted eye-tracker and fNIRS), and learning to use innovative data mining tools to analyze patterns of infant eye movements to link looking behavior to cognitive abilities. This training program is essential for the applicant's career goal of identifying the optimal strategies for learning to learn that will lead to training regimens for populations with learning difficulties. The findings will benefit researchers within the larger community of developmental science, as well as artificial intelligence, perceptual learning, education, animal learning, machine learning, and evolutionary psychology. This work will contribute to a foundational understanding of the dynamics of selective attention and learning in typical development, which in turn would inform populations with learning difficulties.  PUBLIC HEALTH RELEVANCE: This multi-disciplinary research program will indicate signatures of optimal attentional deployment for efficient learning among distractions via converging evidence from behavioral and neuroimaging methods and data mining tools. This work will contribute to a foundational understanding of the dynamics of selective attention and learning in typical development, which in turn would inform populations with learning difficulties.\n",
      "--------------------\n",
      "Topic 88:\n",
      "--------------------\n",
      "bladder urinary ic urothelial tract pelvic pbs luts voiding incontinence\n",
      "--------------------\n",
      "DESCRIPTION (provided by applicant): Our previous research in rats has shown that exposure to bladder inflammation during the neonatal period of development markedly enhances the degree of bladder hyperalgesia that occurs in response to a second exposure to bladder inflammation as an adult. Neonatal bladder inflammation also significantly increases micturition frequency and significantly decreases the threshold for micturition reflexes in adulthood. These outcomes are consistent with the primary symptoms of painful bladder syndrome (PBS) / interstitial cystitis (IC) and suggest that neonatal bladder inflammation may be a contributing factor to bladder disorders. The general hypothesis of the present proposal is that neonatal bladder inflammation predisposes an organism to adult bladder pain by impairing the development and/or function of an opioid inhibitory system that normally serves to suppress bladder pain. The specific hypotheses that refine and develop this general hypothesis are tested in the following specific aims:     Specific Aim 1 will test the hypothesis that the estrous cycle influences the magnitude of the endogenous opioid inhibitory response evoked by bladder inflammation in the adult rat. Specific Aim 2 will test the hypothesis that neonatal bladder inflammation predisposes an organism to adult bladder pain by impairing a descending inhibitory system originating from neurons located in the rostroventral medulla (RVM). Specific Aim 3 will test the hypothesis that neonatal bladder inflammation predisposes an organism to adult bladder pain by altering <-, :- and/or 4-opioid receptor expression in the spinal cord. Specific Aim 4 will test the hypothesis that neonatal bladder inflammation predisposes an organism to adult bladder pain by altering spinal cord opioid peptide content. Specific Aim 5 will test the hypothesis that neonatal bladder inflammation predisposes an organism to adult bladder pain by reducing opioid inhibition of spinal dorsal horn neurons     We believe these systematic studies, based on an innovative hypothesis, will lay the groundwork for potential novel therapeutic modalities for the treatment of urinary bladder pain by identifying opposing substrates underlying the development of bladder pain. Translation to the treatment of painful bladder syndromes would be highly probable because we will be able to identify key loci for targeted interventions.     PUBLIC HEALTH RELEVANCE: We believe these systematic studies, based on an innovative hypothesis, will lay the groundwork for potential novel therapeutic modalities for the treatment of urinary bladder pain associated with painful bladder syndrome (PBS) / interstitial cystitis (IC) by identifying opposing substrates underlying the development of bladder pain. Translation to the treatment of PBS/IC would be highly probable because we will be able to identify key developmental factors that give rise to the disorders, underlying mechanisms responsible for the disorders, and loci for targeted interventions.\n",
      "--------------------\n",
      "Topic 89:\n",
      "--------------------\n",
      "patients patient surgery therapy scd surgical disease study outcomes symptoms\n",
      "--------------------\n",
      "Hepatitis C virus is both difficult to treat and a significant cause of morbidity and mortality. It is not understood how hepatitis C establishes infection nor how some patients clear infection. To this end 83 humans exposed to hepatitis C were studied in protocol 00-DK-0221. The immune response (both antibody and T cell) was closely followed and is being characterized. The study is in collaboration with Dr. Rehermann. As an extension of this 28 patients with acute hepatitis C have been followed and treated as indicated. Twenty-five patients (16 women; mean age 43 years) had adequate follow up to be included in an analysis.  Symptoms in the acute phase were reported by 80% and jaundice by 40%. Two patients (8%) developed ascites and acute liver failure but both survived.  Genotype 1 was most frequent (72%) but many patients (20%) could not be genotyped.   Serum aminotransferase levels and HCV RNA levels fluctuated greatly; 18% of patients were intermittently negative for HCV RNA.   In follow up, 5 patients recovered spontaneously whereas 20 developed chronic hepatitis C or received interferon-based therapy during the acute phase.  Among 15 patients treated during the acute phase with peginterferon with or without ribavirin for 24 weeks, all became HCV RNA negative within 4 to 8 weeks, and all except two achieved a sustained virological response with the exceptions being HIV-positive.  Side effects (particularly psychiatric) were common and limited the duration of therapy in 30% of patients.  To further understand the virological determinants of infection and the development of chronicity, the hepatitis C virus sequence in the early stages of infection has been determined from the same patients. In particular the sequencing effort is focused on the viral sequence before and after treatment, in the two patients who were HIV positive and relapsed. The complete sequence has been determined and is now being analyzed. A second laboraratory project has been to study the nature of late relapse after treatment for hepatitis C. The first 103 patients who achieved a sustained virologic response at the National Institutes of Health Clinical Center were reviewed. Three patients had a late relapse. The viral sequence from these patients was studied from before treatment, from the liver at the time of sustained virologic response, and from the serum at the time of documented relapse. The viral sequences obtained from before treatment, the liver at the time of sustained virologic response, and from the serum at the time of relapse were all virtually identical proving relapse and not reinfection. A third laboratory project currently underway is to use viral sequencing to understand discrepancies in commercial genotyping assays.A collaborative project with Drs. Natanya Sandler and Danny Doueck was to determine the relationship between markers of microbial translocation and chronic liver disease. We investigated whether the extent and progression of liver disease in patients with chronic HBV or HCV infection are associated with microbial translocation and subsequent activation of monocytes. In a retrospective study, we analyzed data from 16 patients with minimal fibrosis, 68 with cirrhosis, and 67 uninfected volunteers. We analyzed plasma levels of soluble CD14 (sCD14), intestinal fatty acid binding protein, and interleukin-6 by enzyme-linked immunosorbent assay, and lipopolysaccharide (LPS) by the limulus amebocyte lysate assay, at presentation and after antiviral treatment. Compared with uninfected individuals, HCV- and HBV-infected individuals had higher plasma levels of LPS, intestinal fatty acid binding protein (indicating enterocyte death), sCD14 (produced upon LPS activation of monocytes), and interleukin-6. Portal hypertension, indicated by low platelet counts, was associated with enterocyte death (P = .045 at presentation, P < .0001 after therapy). Levels of sCD14 correlated with markers of hepatic inflammation (P = .02 for aspartate aminotransferase, P = .002 for ferritin) and fibrosis (P < .0001 for &#947;-glutamyl transpeptidase, P = .01 for alkaline phosphatase, P < .0001 for &#945;-fetoprotein). Compared to subjects with minimal fibrosis, subjects with severe fibrosis at presentation had higher plasma levels of sCD14 (P = .01) and more hepatic CD14(+) cells (P = .0002); each increased risk for disease progression (P = .0009 and P = .005, respectively). LPS-induced local and systemic inflammation is associated with cirrhosis and predicts progression to end-stage liver disease in patients with HBV or HCV infection.A second type of chronic hepatitis studied is hepatitis D. Hepatitis D is the most aggressive form of viral hepatitis as well as the most difficult to treat. Interferon therapy is the standard approach. Patients are typically treated for 6 months to a year. Relapse after cessation of therapy is the norm. In protocol 01-DK-0247 patients are treated with peginterferon for 5 years. The dose is titrated to maintain normal ALT and minimize side effects. Patients are evaluated before initiating therapy, and after 1, 3, and 5 years. Patients are excluded if they do not meet protocol-defined criteria for response at the 1 year evaluation. Enrollment was planned for 10 - 20 patients. Thirteen patients have been enrolled, and of the 12 who have had one-year evaluations 10 have met the protocol definition of response. Most of the patients were male (11) and tended to have advanced disease (median baseline Ishak fibrosis - 4). Patients were treated for a mean duration of 144 weeks (range 6 - 300) at an average weekly peginterferon dose of 184 &#956;g. At one year of treatment, inflammatory scores were significantly improved (10.6  2.7 vs. 7  1.9, p<0.01) and this improvement persisted in 4 of 5 patients who had a 3 year biopsy scored. There was no difference in the fibrosis score. ALT decreased significantly after one year (136  143 vs. 46  13, p<0.05) and persistant biochemical response on treatment was achieved by 3 patients (27%). 3/13 patients (27%) lost HBsAg after 24, 37 and 202 weeks of treatment and developed HBs antibodies. Treatment was stopped in these patients at least 24 weeks later; the serological response was durable and was associated with persistent improvement of ALT and platelet count during follow-up. Two patients (15%) died during therapy, one from hepatocellular carcinoma and the other from herpes colitis. Both deaths were not considered related to treatment. There were no other serious adverse events and treatment was well-tolerated overall. 3 patients required a dose reduction due to cytopenias. The primary end point of the study is the evaluation after three years although it is planned to treat patients for 5 years. Hepatitis D viral RNA and hepatitis B surface antigen levels have been measured, the final analysis is currently being completed.\n",
      "--------------------\n",
      "Topic 90:\n",
      "--------------------\n",
      "pd disease parkinson motor synuclein dbs dopaminergic l1 neurodegenerative lrrk2\n"
     ]
    },
    {
     "name": "stdout",
     "output_type": "stream",
     "text": [
      "--------------------\n",
      "DESCRIPTION (provided by applicant): The overall goal of The Clinical Profile of Parkinson's Disease (PD) Pathology, is to characterize the clinical profile of PD pathology in older person's without a diagnosis of PD. Showing that PD pathology is associated with a distinct and progressive condition among persons without a clinical diagnosis of PD, would have a transformative effect on PD studies. Although, PD only affects up to 5% of persons by age 85, compelling preliminary data shows that indices of PD pathology including nigral degeneration and Lewy bodies are present in nearly 20% of older persons without PD and are associated with the severity of parkinsonism proximate to death. This suggests that PD pathology is common and causes clinical signs in persons who do not meet clinical criteria for PD. Like the recent reclassification of AD, PD may also have an asymptomatic PD pathology phase, followed by a stage in which PD pathology results in mild motor and non-motor impairments not severe enough to warrant a diagnosis of PD, and a clinical diagnosis of PD is a later stage of the disease. Toward this end, we will apply a similar approach to that which has succeeded in transforming our ideas of AD. The proposed study will take advantage of two ongoing cohort studies, the Rush Religious Orders Study (P30AG10161) and the Memory and Aging Project (R01AG17917), whose participants have all agreed to annual clinical examination and organ donation at the time of death. Focusing on adults without clinical PD, we propose to delineate the extent and burden of PD pathology in both brain and spinal cord. Next, we propose to determine the associations of a wide range of motor and non- motor behaviors to PD pathology. Finally, we propose to develop a clinical profile for the detection of PD pathology with high sensitivity and specificity. This proposal offers the potential to greatly expand our knowledge of the clinical phase of PD and to identify people with PD for early intervention prior to overt clinial disease.  PUBLIC HEALTH RELEVANCE: The overall goal of this project is to characterize the clinical profile of Parkinson's disease (PD) pathology in older person's without a diagnosis of PD. Showing that PD pathology is associated with a distinct and progressive condition among persons without a clinical diagnosis of PD, would have a transformative effect on PD studies, in terms of potential biomarkers, early detection and interventions to delay the onset of PD.\n",
      "--------------------\n",
      "Topic 91:\n",
      "--------------------\n",
      "channels channel ca2 ion voltage calcium na membrane release epilepsy\n",
      "--------------------\n",
      "DESCRIPTION (provided by applicant): The long-term aim of this work is to understand the underlying molecular mechanisms by which naturally occurring stimuli regulate the opening and closing of the BK-type calcium (Ca2+)-activated potassium (K+). A common characteristic shared by BK channels with essentially all other ion channels and also many other categories of protein is that sensing of a physiological stimulus on one part of the protein is coupled to regulation of a key functional property occurring on another part of that protein. In the case of BK channels, sensing of either changes in membrane voltage or changes in cytosolic Ca2+ regulate the activation of ion flux through the channel. The fact that BK channels respond independently to two distinct physiological signals has been an advantage for investigation of the underlying molecular steps that link these processes.    This project will focus specifically on two major aspects of how activation of BK channels is regulated. First, the role of conformational changes in the selectivity filter region of the channel in channel activation will be examined. Here, how selectivity filter gating is coupled to either voltage changes or Ca2+ elevations will be examined. Second, the structural features of BK channels that influence coupling between ligand binding and channel activation will be examined. Using methods of electrophysiology combined with molecular biology, this project will take advantage of two closely related ion channels, the BK channel and its pH-regulated homologue, Slo3. Important functional differences between these two channels can be exploited to map the loci responsible for the functional difference. Coupled with mechanistic analyses, information regarding the coupling between gating and ligand dependence can be defined. Together these questions address important general issues that are likely to have broad significance to a wide variety of ion channels.    BK channels are of broad importance in the normal functioning of a variety of excitable cells. By responding to both elevations in cytosolic Ca2+ and changes in membrane potentials, BK channels play an important role in the regulation of cellular excitability. Among different tissues, BK channels contribute to regulation of neuronal excitability, smooth muscle relaxation, synaptic transmission and hormone release. Better understanding of the regulation of BK channel function is of potential medical importance, not only because the channels may serve as specific therapeutic targets but also because altered function of particular variants may contribute to unknown pathological conditions.\n",
      "--------------------\n",
      "Topic 92:\n",
      "--------------------\n",
      "women sex men sexual risk pregnancy female reproductive male differences\n",
      "--------------------\n",
      "DESCRIPTION (provided by applicant): Coronary heart disease (CHD) is the major cause of death in American women, and every year a similar number of women and men die due to CHD. Growing evidence supports important differences in the pathophysiology, clinical presentation and prognosis of CHD between women and men; yet much remains to be learned about the unique characteristics of CHD in women. Young and middle-aged women have higher mortality and complication rates after an acute myocardial infarction (MI) compared with men of similar age. Reasons for these differences are unknown; they are not explained by traditional CHD risk factors, other comorbidity or treatments, and occur despite the fact that women have less coronary atherosclerosis and more preserved ventricular function than men. One third to two thirds of patients with CHD have myocardial ischemia that is induced by psychological stressors. Such ischemia is often painless and unrelated to severity of coronary artery disease; nonetheless it is associated with adverse outcomes. Emotional factors such as depression and psychological trauma are more common in women with CHD than in men and may predispose women to stress-induced ischemia. Depression, for example, is present in up to 40% of women with MI younger than 60 years. However, emotionally-triggered ischemia has hardly been studied in women before. The overall objective of this proposal is to evaluate differences in stress-induced ischemia between 50 women and 50 men younger than 60 years who were hospitalized for acute MI in the previous 6 months in Emory- affiliated hospitals. We hypothesize that myocardial ischemia due to emotional factors is more common in women than in men, while exercise-induced ischemia is as common, or even less common, in women. The aims of this study are: (1) Using single photon emission tomography (SPECT) [Tc-99m] sestamibi myocardial perfusion imaging, to compare myocardial perfusion during rest, during exercise, and during an emotionally stressful challenge in women and men. (2) To investigate biological mechanisms for the sex differences in ischemia induced by emotional stress, including differences in hemodynamic (blood pressure, heart rate), neurobiological (cortisol and autonomic nervous system) and inflammatory responses to the stressful challenge. (3) To investigate behavioral/psychosocial explanatory factors for the sex differences in ischemia induced by emotional stress (depression, history of trauma, and socio-economic environment). Younger women with MI represent an understudied patient group despite their higher rate of adverse events compared with men. Investigation of this group will provide critical information for the prevention of CHD in women. Our study may uncover a unique pathway which may explain sex differences in the outcome of MI. PUBLIC HEALTH RELEVANCE: Coronary heart disease is the major cause of death in American women and yet, much remains to be learned about the unique characteristics of this disease in women. Young and middle-aged women have higher mortality and complication rates after an acute myocardial infarction (MI) and higher burden of psychosocial risk factors. This study will evaluate whether emotionally triggered ischemia is more common in women than in men after MI, whether it is correlated with psychosocial risk factors that are common in women, such as depression and history of trauma, and whether it is associated with biological changes that may have prognostic significance, such as hemodynamic, neurobiological and inflammatory responses to stress.\n",
      "--------------------\n",
      "Topic 93:\n",
      "--------------------\n"
     ]
    },
    {
     "name": "stdout",
     "output_type": "stream",
     "text": [
      "mitochondrial mitochondria ros dysfunction oxidative oxygen mtdna energy iron metabolism\n",
      "--------------------\n",
      "﻿   DESCRIPTION (provided by applicant): The impact of mitochondrial biology on human cancers is broad because these organelles are critical regulators of metabolism, proliferation, and apoptosis. Indeed, mitochondrial aberrations are common in multiple cancer types --- not only do mitochondrial dysfunctions correlate with disease pathogenesis, but aberrant mitochondria also negatively impact upon chemotherapeutic success. Within a cell, mitochondrial homeostasis is maintained by a process referred to as  mitochondrial dynamics , which is essential for mitochondrial genome integrity, efficient ATP generation, managing ROS, and the rapid distribution of mitochondrial metabolites. Mitochondrial dynamics result from the cumulative nature of two opposing forces: mitochondrial division and mitochondrial fusion. Recent published work from my group demonstrated: (1) mitochondrial division is chronically enhanced in RAS-transformed murine cells and human cancer lines harboring mutations within the MAPK pathway, (2) the mitochondrial division machinery is essential for cellular transformation, (3) targeted therapies that inhibit oncogenic MAPK signaling turn off the mitochondrial division machinery, and (4) chronic mitochondrial division is sufficient to initiate mitochondrial dysfunction and cancer cell metabolism. For decades, the presence of mtDNA mutations and mitochondrial dysfunction in cancer has been described, but the molecular mechanisms that drive these changes and their impact on cancer biology remain speculative. While others and we identified that mitochondrial division is requisite to cancer-associated mitochondrial dysfunction and is targeted by oncogenic MAPK pathway inhibitors, the molecular mechanisms linking mitochondrial division, mitochondrial dysfunction, and cancer cell survival are poorly understood. We hypothesize that oncogenic MAPK signaling induces chronic mitochondrial fragmentation, which supports mutation of the mitochondrial genome and subsequent functional heterogeneity within the mitochondrial network. This project emerged following years of effort to identify how mitochondrial division contributes to cancer biology, andwe propose three complementary specific aims. Aim 1: Establish that chronic mitochondrial division is responsible for cancer-associated mtDNA mutations and subsequent mitochondrial dysfunction in melanocytes. Aim 2: Demonstrate that chronic mitochondrial division induced mtDNA mutations link mitochondrial heterogeneity, tumorigenic potential, and metabolic plasticity. Aim 3: Reveal the broad requirement for chronic mitochondrial division in oncogenic transformation of cells and tissues. These aims will be achieved by using next-generation mtDNA sequencing, state-of-the-art mitochondrial function assays, and metabolomics approaches. Together, the results of this application will reveal that: (1) chronic mitochondrial division is permissive for mtDNA mutations, mitochondrial dysfunction, and tumorigenesis; and (2) proof-of- concept evidence that pharmacologically targeting chronic mitochondrial division may provide therapeutic potential to prevent and treat cancer.\n",
      "--------------------\n",
      "Topic 94:\n",
      "--------------------\n",
      "aging age related changes aged lifespan decline life longevity old\n",
      "--------------------\n",
      "DESCRIPTION (provided by applicant): Researchers have had enormous success in furthering our understanding of aging through the study of short- lived animal models, including nematode worms, fruit flies, and mice. However, there is a fundamental gap in our knowledge of how well these models can explain aging phenomena in humans. The long-term goal of the work proposed here is to develop a relatively short-lived primate, the common marmoset (Callithrix jacchus), as a powerful model to better understand the biology of aging in humans and non-human primates. The objective of this application is to examine how complex metabolic pathways change with age in marmosets, and to determine how these alterations contribute to longevity and frailty. The central hypothesis of this work is that disruption of co-regulated metabolic modules will progress with aging and will predict age-associated dysfunction and survival. Moreover, dietary restriction, a well-established intervention to delay aging in a variety of species, will prevent or delay degradation of these metabolic relationships and pathways. The rationale for the proposed research is that once we identify metabolic modules that are associated with aging in marmosets, we will be well-positioned to further develop the marmoset as an outstanding aging model and, importantly, to study the proximate molecular factors that determine variation in rates of aging both within and among individuals. The central hypothesis will be tested by pursuing three specific aims: 1) to perform a longitudinal study on the NEPRC common marmoset colony to identify metabolic profiles associated with longevity and functional measures of aging; 2) to validate and curate a marmoset metabolomics aging database; and 3) to examine effects of caloric restriction (CR) on metabolic profiles and age-associated dysfunction in marmosets. The work proposed here is innovative, because it develops a novel animal model for aging research, and a novel network approach to study mechanisms of aging in genetically variable populations. Moreover, the interdisciplinary research team created for this project is particularly well suited to bring the work proposed here to fruition. The work proposed here is significant because it will provide the broader research community with a primate model of aging that is more tractable than the existing, longer-lived model systems, and it will introduce a powerful, conceptually novel and easily implemented set of network analysis tools to study the underlying mechanisms of aging in natural populations. Ultimately, this knowledge has the potential to increase understanding of the mechanisms that cause variation in rates of aging among traits within individuals, and among individuals, in human populations.    PUBLIC HEALTH RELEVANCE: This project is to develop a relatively short-lived primate, the common marmoset, as a new model to better understand the biology of aging in humans and primates. The study will use detailed chemical and computer- based analyses to analyze how the regulation and function of the body changes with age. The acquired knowledge has the potential to explain causes of variation in traits of aging within individuals and also differences in aging among individuals in human populations.\n",
      "--------------------\n",
      "Topic 95:\n",
      "--------------------\n",
      "dopamine da reward release neurons dat vta d2 receptors dopaminergic\n",
      "--------------------\n",
      "DESCRIPTION (provided by applicant): The transmitter dopamine (DA) is critical for motivation, reward, movement, and cognition. Originating in the ventral tegmental area (VTA), the mesolimbic DA pathway projects to the nucleus accumbens (NAc) core and shell where DA transmission contributes to the rewarding effects of food and drugs, and promotes goal- directed behavior and reward-related learning. Operating in parallel with the mesolimbic system, the nigrostriatal DA pathway originates in the substantia nigra pars compacta (SNc) and projects to the caudate- putamen (CPu). This pathway contributes to motivated behavior and movement, and is involved in driving behaviors that have transitioned from goal-directed and intentional to automatic and compulsive. Given the key roles of these pathways, dysfunction of DA transmission plays a key role in neuropsychiatric disorders including addiction to psychostimulant drugs and the motor deficits of Parkinson's disease. Elucidating causal factors in these disorders, and developing corresponding treatments, requires an understanding of factors that govern DA release. It is often assumed that DA signaling is governed solely by DA neuron firing rate and pattern, with homogeneous activity-dependent changes in extracellular DA concentration ([DA]o) throughout the striatum. However, this is not the case: studies using fast-scan cyclic voltammetry (FCV) show that DA release is regulated locally within the striatum, with temporally and spatially discrete [DA]o transients detected in vivo and in ex vivo brain slices. Preliminary data suggest that a novel source of dynamic local DA release regulation is mediated by glutamate and GABA that are co-released from striatal DA axons. This project will determine autoregulatory roles of co-released glutamate and GABA on axonal DA release in NAc (Aim 1) and CPu (Aim 2), and somatodendritic DA release in VTA and SNc (Aim 3), in ex vivo slices from mice that express channelrhodopsin 2 (ChR2) in DA neurons. Companion studies will assess the presence of glutamate and GABA receptor subunits on striatal DA axons using immuno-electron microscopy. Based on preliminary data showing enhanced AMPA receptor-dependent regulation of striatal DA release in ex vivo slices 24 h after a single cocaine injection, each aim will include examination of the effect of acute cocaine exposure on DA release regulation by co-released transmitters. Overall, this project will define the roles of co-released glutamate and GABA in sculpting how changes in DA neuron activity translate into DA release, and how this regulation can be disrupted by cocaine.\n",
      "--------------------\n",
      "Topic 96:\n",
      "--------------------\n"
     ]
    },
    {
     "name": "stdout",
     "output_type": "stream",
     "text": [
      "exercise physical aerobic activity training fitness intensity sedentary walking effects\n",
      "--------------------\n",
      "﻿   DESCRIPTION (provided by applicant): Given the rising proportion of older adults worldwide and the progressive decline in brain function with advancing age, there is a pressing need to develop novel interventions that protect the aging brain. The predominant approach for implementing exercise training to improve brain function is to increase cardiovascular fitness. However, there is mixed empirical support for the effectiveness of this approach. Further, there are also acute effects of exercise within one hour of the cessation of a single exercise session. These effects occur before adaptations related to fitness could occur and animal studies have shown they occur in the same brain regions that benefit from longer-term exercise training. Therefore, we propose the acute paradigm is a tool to probe this early, direct response from exercise in order to determine how best to maximize the long-term benefit of exercise training on the aging brain. This presents a critical need to determine the mechanistic relation between acute and long-term effects of exercise on the aging brain. Our long-term goal is to determine how exercise protects the brain from the adverse effects of aging. In turn, our specific objective in this R21 proposal is to support or refute the concept that a single session of exercise produces acute increases in functional synchrony of clinically relevant brain networks that are related to accrued exercise-training effects in the same brain systems. Our central hypothesis is that the effects of moderate intensity exercise will increase the functional synchrony of the hippocampus with the Default Mode Network, and the Prefrontal Cortex with the Fronto- Executive Network, in the same fashion as a 12-week moderate intensity exercise training program. This hypothesis is based on data showing acute effects of exercise on factors related to neuronal plasticity and excitability in the same brain regions that show long-term effects of exercise in animals. The contribution of the proposed research is significant because it will determine the extent to which the acute exercise paradigm can provide insight into how regular exercise protects the brain from adverse effects of aging. The proposed research is innovative because for the first time we will examine the overlapping neural systems and outcomes associated with acute and chronic exercise in the same individuals. Overall, success in this project will enable future research to study how varying exercise parameters such as mode or intensity affect exercise-induced change in brain function and the timecourse of these effects, as well as the neurobiological mechanisms associated with the direct effects of exercise on the aging brain.\n",
      "--------------------\n",
      "Topic 97:\n",
      "--------------------\n",
      "copd pulmonary disease obstructive emphysema chronic airway subjects ct lott\n",
      "--------------------\n",
      "DESCRIPTION (provided by applicant):  Chronic obstructive pulmonary disease (COPD) is the fourth leading cause of death in the United States and the only leading cause of death that is steadily increasing in frequency. This proposal will establish a racially diverse cohort that is sufficiently large and appropriately designed for genome-wide association analysis of COPD. A total of 10,500 subjects will be recruited, including control smokers and subjects across the full range of COPD severity (GOLD Stages 1 through 4). This cohort will be used for cross-sectional analysis, although long-term longitudinal follow-up will be a future goal. The primary focus of the study will be genome-wide association analysis to identify the genetic risk factors that determine susceptibility for COPD and COPD relatedphenotypes. Detailed phenotyping of COPD cases, including chest CT scan assessment of emphysema and airway disease, will allow identification of genetic determinants for the heterogeneous components of the COPD syndrome. The hypotheses to be studied are: 1) Precise phenotypic characterization of COPD subjects using computed tomography, as well as clinical and physiological measures, will provide data that will enable the broad COPD syndrome to be decomposed into clinically significant subtypes. 2) Genome-wide association studies will identify genetic determinants for COPD susceptibility that will provide insight into clinically relevant COPD subtypes. 3) Distinct genetic determinants influence the development of emphysema and airway disease. The genome-wide association analysis will involve four phases to identify COPD susceptibility genes using a case-control design. The Specific Aims are (1) Cohort Building. Identify and phenotype COPD case and control cohorts in two racial groups (non-Hispanic whites and African Americans) for genetic and natural history studies. (2) Genome-wide Association Study. In Phase 1, a genome-wide panel of single nucleotide polymorphisms (SNPs) will be tested for association with COPD and COPD-related phenotypes in COPD case-control samples within each racial group. In Phase 2, the top-ranked 6,000 SNPs in each racial group will be validated and tested in a second round of association analysis in independent samples. In Phase 3, the genomic regions around the top-ranked 50 SNPs in each racial group will be analyzed to identify genes/regions yielding confirmed association signals. In Phase 4, final susceptibility gene identification will be performed in the entire study population, with external validation in the Boston Early-Onset COPD Study and International COPD Genetics Network. (3) Epidemiologic characterization of subtypes of COPD using the radiologic, physiologic, and clinical data including CT emphysema and airway phenotypes, degree of functional impairment, and severity of COPD, will be performed. Finally, SNPs in the identified COPD genes from Aim 2 will be tested for association with these COPD subtypes.\n",
      "--------------------\n",
      "Topic 98:\n",
      "--------------------\n",
      "ra arthritis rheumatoid disease autoimmune synovial joint sle diseases tnf\n",
      "--------------------\n",
      "DESCRIPTION (provided by applicant):  This application addresses broad Challenge Area (03) Biomarker Discovery and Validation and specific Challenge Topic, 03-AR-103 Biomarkers: Bench to Bedside for Autoimmune and Inflammatory Skin and Rheumatic Diseases. Title: Proteomic Identification of Actionable Biomarkers in Rheumatoid Arthritis Project Summary/Abstract Rheumatoid arthritis (RA) is the most common inflammatory joint disease of autoimmune etiology and remains a cause of substantial morbidity and mortality. Effective treatment of RA has been impeded by a paucity of diagnostic/predictive biomarkers of RA, largely as a result of the heterogeneity of the disease and a lack of insight into the mechanisms that underlie the onset and progression of RA. Nevertheless, the advent of biological therapeutics has led to significant advances in the treatment of RA. Promising findings from several placebo-controlled trials support the concept of treating patients in the early stages of RA (early RA) with combination therapies (e.g., methotrexate in concert with an anti-TNF agent) in order to slow and prevent joint damage. Furthermore, recent data suggest that it might be possible to induce disease remission in patients with early RA, such that anti-TNF therapy could then be withdrawn. At present, however, RA is diagnosed once arthritis is already established, a time at which the window of opportunity for effective treatment may have been missed. A test for the early diagnosis of RA is therefore warranted, as early diagnosis would enable the identification of patients with asymptomatic and/or early arthritis for their enrollment in primary RA prevention trials, and could ultimately be used by primary care physicians and rheumatologists to identify pre-disease RA patients that would benefit from early therapeutic intervention. A corollary of this is the need to determine what specific therapy an RA patient should receive, given that approximately one-third of RA patients exhibit robust responses to anti-TNF therapeutics - currently a mainstay of RA therapy - while one-third do not exhibit clinical improvement. Thus, a test that enables prediction of whether or not an RA patient will respond to anti- TNF and other disease-modifying therapies would be of great value to rheumatologists and patients alike. For this Challenge Grant application we propose the development of tests for (i) the early diagnosis of RA, (ii) predicting the severity of RA, and (iii) guiding the selection of RA patients that should receive anti-TNF or small molecule therapies. Robust biomarkers are directly related to the mechanisms underlying disease, and this proposal will provide insights into the mechanisms that underpin the development of autoimmunity in RA, the progression of RA, and the response to anti-TNF therapy. Our laboratory developed RA antigen microarrays to profile the specificity of autoantibody responses in RA. RA antigen microarray analysis revealed the targeting of a variety of candidate native and citrullinated antigens by autoantibodies in established RA. In addition, through the use of optimized BioPlex bead-array methods for the analysis of cytokines in RA sera, we demonstrated that blood cytokine levels are elevated in one-third of patients with early RA, and that elevated blood cytokines are associated with autoantibody targeting of citrullinated proteins. Furthermore, we identified autoantibody and cytokine signatures that differentiate between distinct subsets of RA patients, thus providing insight into the heterogeneity of RA. In Aim 1, we will expand and apply RA antigen arrays and bead array cytokine assays to characterize serial pre-arthritis samples to determine the specificity and titers of autoantibodies, as well as the levels of serum cytokines, and to define their temporal relationships to the onset of clinical RA. Our overriding hypothesis is that asymptomatic individuals that ultimately develop clinical RA exhibit a series of pre-arthritis phenotypes characterized initially by the production of autoantibodies, subsequently by an increase in cytokine and chemokine levels, and finally by epitope spreading of the autoantibody response, which results in progression to clinical arthritis. Elucidation of the hierarchy of epitope spreading and cytokine elevations will provide insights into the events that trigger progression to clinical RA. Such findings could lead to development of an early RA diagnostic that could provide the basis for preventive interventions in RA. The proposed studies will also identify biomarkers associated with progression to severe RA, and these biomarkers will provide insights into the mechanisms underlying progression of disease. We will further apply these proteomic technologies to identify biomarkers that are (i) predictive of and (ii) pharmacodynamic markers for response to anti-TNF and small molecule therapies. In Aim 2, we will extend our efforts to convert these biomarkers onto the clinical-grade BioPlex assay format, and we will use BioPlex technology for the high-throughput characterization of all samples in the pre-disease, disease progression, and response to therapy cohorts. The success of this proposal would result in the development of novel clinical diagnostic tests that would transform the care for patients with RA. Rheumatoid arthritis (RA) is a chronic autoimmune arthritis that affects 0.6% of the world population. This proposal will identify novel autoantibody and cytokine biomarkers for (i) early diagnosis, (ii) predicting disease severity, and (iii) guiding therapeutic decision making for the treatment of RA.\n",
      "--------------------\n",
      "Topic 99:\n",
      "--------------------\n"
     ]
    },
    {
     "name": "stdout",
     "output_type": "stream",
     "text": [
      "oral dental caries hpv tooth periodontal craniofacial mutans taste cavity\n",
      "--------------------\n",
      "DESCRIPTION (provided by applicant): Oral health is vital to a person's overall health, and yet the incidence and prevalence of dental problems and oral diseases remain quite high. Statistics show that severe gum disease affects almost 15% of adults, and a large proportion of adults show at least some signs of gum disease. Furthermore, preliminary evidence also indicates that oral health is closely related to systemic diseases through a number of routes such as blood circulation; due the complexity involved with the process and procedures of clinical encounters and the increasing overall costs of health care, dental exam and treatment are more complicated and expensive. The reality is that underserved populations do not have the ability to identify a usual source of care, lack dental insurance to support the provision of care, and are burdened by competing needs. Self-report is the most efficient, non-invasive and cost-effective method for obtaining patient health outcomes and would be ideal for evaluating oral health status, particularly for oral health screening with large populations. However, due to factors such as personal perceptions, cultural background, competing priorities with existing systemic diseases, and the level of understanding of the importance of oral health, self-reported oral health status often differs significantly from clinically determined oral health status. This discrepancy between self-reported and clinically determined oral health status severely limits the direct use of self-reported oral health in dental examination, treatment, prevention, and research. Therefore, methods and tools that can leverage and calibrate self- reported oral health measures to clinically determine oral health standards would be particularly valuable in dental care. To create such useful tools, we propose to use the nationally representative oral health data of National Health and Nutrition Examination Survey (NHANES) to: (1) evaluate the distribution of self-reported oral health, clinically determined oral health, and general overall health; (2) evaluate the relationship between the aforementioned health measures as well as the relationship between those measures and subject characteristics; (3) create summarized indices for self-report and clinical assessment that can objectively and completely measure oral health; (3) analyze the discrepancies between self-reported and clinically determined oral health and identify the determinants of these discrepancies; and (4) create and select optimal calibration models and tools that can calibrate self-reported oral health to the standard of clinically determined oral health.       Project Narrative: Using nationally representative oral health data, this study examines the discrepancy between self-reported and clinically determined oral health, identifies the determinants of the discrepancy, and creates models and tools that can calibrate self-reported oral health measures to clinically determined standards. The models and tools created in this study will be particularly useful in federal, state and local oral health screening programs, dental prevention and research with large populations, and can save a significant amount of resources in dental care.\n"
     ]
    }
   ],
   "source": [
    "# View a top document related to a given topic\n",
    "\n",
    "for topic_idx, topic in enumerate(nmf_H):\n",
    "    print('--------------------')\n",
    "    print(\"Topic %d:\" % (topic_idx))\n",
    "    print('--------------------')\n",
    "    print(\" \".join([vectorizer_feature_names[i]\n",
    "                    for i in topic.argsort()[:-10 - 1:-1]]))\n",
    "    top_doc_indices = np.argsort(nmf_W[:,topic_idx] )[::-1][0:1]\n",
    "    for doc_index in top_doc_indices:\n",
    "        print('--------------------')\n",
    "        print(filtered_abstracts[doc_index])"
   ]
  },
  {
   "cell_type": "code",
   "execution_count": 401,
   "metadata": {},
   "outputs": [],
   "source": [
    "# Get the index of documents and topic probabilities per document\n",
    "topics_probabilities = []\n",
    "for index,i in enumerate(nmf_W): # for every document\n",
    "    topics_probabilities.append([i, index]) # get all topic probabilities"
   ]
  },
  {
   "cell_type": "code",
   "execution_count": 390,
   "metadata": {},
   "outputs": [],
   "source": [
    "# Get the index of documents and associated (most probable) topic index\n",
    "topics_list = []\n",
    "for index,i in enumerate(nmf_W): # for every document\n",
    "    topics_list.append([np.argsort(nmf_W[index])[::-1][0], index]) # get most probable topic"
   ]
  },
  {
   "cell_type": "code",
   "execution_count": 391,
   "metadata": {},
   "outputs": [],
   "source": [
    "topics_list_dataframe = pandas.DataFrame(topics_list)\n",
    "topics_list_dataframe = topics_list_dataframe.rename(columns={0:'topic',1:'index'})\n",
    "merged_abstracts = merged_abstracts.reset_index()\n",
    "merged_topics_abstracts = merged_abstracts.merge(topics_list_dataframe,on='index')"
   ]
  },
  {
   "cell_type": "code",
   "execution_count": null,
   "metadata": {},
   "outputs": [],
   "source": [
    "# View a distribution of abstracts per topic\n",
    "merged_topics_abstracts.groupby('topic')[' ABSTRACT'].count()"
   ]
  },
  {
   "cell_type": "code",
   "execution_count": null,
   "metadata": {},
   "outputs": [],
   "source": [
    "topics_weights = []\n",
    "for index,i in enumerate(nmf_W): # for every document\n",
    "    topics_weights.append([index, i[11], i[25], i[32], i[43]]) # get topic weights for 4 related topics\n",
    "\n",
    "topics_weights_dataframe = pd.DataFrame(topics_weights)\n",
    "topics_weights_dataframe = topics_weights_dataframe.set_index(0)\n",
    "topics_weights_dataframe = topics_weights_dataframe.loc[(topics_weights_dataframe!=0).any(1)]\n",
    "\n",
    "topics_weights_dataframe.columns = [11,25,32,43]\n",
    "\n",
    "# Find the maximum value for a given topic\n",
    "topics_weights_dataframe[topics_weights_dataframe[43]==topics_weights_dataframe[43].max()]\n",
    "\n",
    "filtered_abstracts = set(filtered_abstracts)\n",
    "\n",
    "# View a given abstract based on a treshold\n",
    "list(filtered_abstracts)[556]"
   ]
  }
 ],
 "metadata": {
  "kernelspec": {
   "display_name": "Python 3",
   "language": "python",
   "name": "python3"
  },
  "language_info": {
   "codemirror_mode": {
    "name": "ipython",
    "version": 3
   },
   "file_extension": ".py",
   "mimetype": "text/x-python",
   "name": "python",
   "nbconvert_exporter": "python",
   "pygments_lexer": "ipython3",
   "version": "3.7.3"
  },
  "toc": {
   "base_numbering": 1,
   "nav_menu": {},
   "number_sections": true,
   "sideBar": true,
   "skip_h1_title": false,
   "title_cell": "Table of Contents",
   "title_sidebar": "Contents",
   "toc_cell": true,
   "toc_position": {
    "height": "calc(100% - 180px)",
    "left": "10px",
    "top": "150px",
    "width": "165px"
   },
   "toc_section_display": true,
   "toc_window_display": true
  },
  "varInspector": {
   "cols": {
    "lenName": 16,
    "lenType": 16,
    "lenVar": 40
   },
   "kernels_config": {
    "python": {
     "delete_cmd_postfix": "",
     "delete_cmd_prefix": "del ",
     "library": "var_list.py",
     "varRefreshCmd": "print(var_dic_list())"
    },
    "r": {
     "delete_cmd_postfix": ") ",
     "delete_cmd_prefix": "rm(",
     "library": "var_list.r",
     "varRefreshCmd": "cat(var_dic_list()) "
    }
   },
   "types_to_exclude": [
    "module",
    "function",
    "builtin_function_or_method",
    "instance",
    "_Feature"
   ],
   "window_display": false
  }
 },
 "nbformat": 4,
 "nbformat_minor": 2
}
