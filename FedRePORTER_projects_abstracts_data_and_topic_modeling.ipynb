{
 "cells": [
  {
   "cell_type": "markdown",
   "metadata": {
    "toc": true
   },
   "source": [
    "<h1>Table of Contents<span class=\"tocSkip\"></span></h1>\n",
    "<div class=\"toc\"><ul class=\"toc-item\"><li><span><a href=\"#NCSES-class---FedRePORTER-and-IPEDS-data\" data-toc-modified-id=\"NCSES-class---FedRePORTER-and-IPEDS-data-1\"><span class=\"toc-item-num\">1&nbsp;&nbsp;</span>NCSES class - FedRePORTER and IPEDS data</a></span><ul class=\"toc-item\"><li><span><a href=\"#Introduction\" data-toc-modified-id=\"Introduction-1.1\"><span class=\"toc-item-num\">1.1&nbsp;&nbsp;</span>Introduction</a></span></li><li><span><a href=\"#Python-Setup\" data-toc-modified-id=\"Python-Setup-1.2\"><span class=\"toc-item-num\">1.2&nbsp;&nbsp;</span>Python Setup</a></span></li></ul></li><li><span><a href=\"#Load-the-data\" data-toc-modified-id=\"Load-the-data-2\"><span class=\"toc-item-num\">2&nbsp;&nbsp;</span>Load the data</a></span><ul class=\"toc-item\"><li><span><a href=\"#Federal-RePORTER---Projects-(https://federalreporter.nih.gov/FileDownload)\" data-toc-modified-id=\"Federal-RePORTER---Projects-(https://federalreporter.nih.gov/FileDownload)-2.1\"><span class=\"toc-item-num\">2.1&nbsp;&nbsp;</span>Federal RePORTER - Projects (<a href=\"https://federalreporter.nih.gov/FileDownload\" target=\"_blank\">https://federalreporter.nih.gov/FileDownload</a>)</a></span></li><li><span><a href=\"#Federal-RePORTER---Abstracts-(https://federalreporter.nih.gov/FileDownload)\" data-toc-modified-id=\"Federal-RePORTER---Abstracts-(https://federalreporter.nih.gov/FileDownload)-2.2\"><span class=\"toc-item-num\">2.2&nbsp;&nbsp;</span>Federal RePORTER - Abstracts (<a href=\"https://federalreporter.nih.gov/FileDownload\" target=\"_blank\">https://federalreporter.nih.gov/FileDownload</a>)</a></span></li><li><span><a href=\"#IPEDS-data\" data-toc-modified-id=\"IPEDS-data-2.3\"><span class=\"toc-item-num\">2.3&nbsp;&nbsp;</span>IPEDS data</a></span></li></ul></li><li><span><a href=\"#Filter-the-data\" data-toc-modified-id=\"Filter-the-data-3\"><span class=\"toc-item-num\">3&nbsp;&nbsp;</span>Filter the data</a></span></li><li><span><a href=\"#Match-with-IPEDS-university-names\" data-toc-modified-id=\"Match-with-IPEDS-university-names-4\"><span class=\"toc-item-num\">4&nbsp;&nbsp;</span>Match with IPEDS university names</a></span></li><li><span><a href=\"#Text-analysis-(Topic-modeling)\" data-toc-modified-id=\"Text-analysis-(Topic-modeling)-5\"><span class=\"toc-item-num\">5&nbsp;&nbsp;</span>Text analysis (Topic modeling)</a></span><ul class=\"toc-item\"><li><span><a href=\"#LDA-method---Latent-Dirichlet-Allocation\" data-toc-modified-id=\"LDA-method---Latent-Dirichlet-Allocation-5.1\"><span class=\"toc-item-num\">5.1&nbsp;&nbsp;</span>LDA method - Latent Dirichlet Allocation</a></span></li><li><span><a href=\"#NMF-method---Non-negative-matrix-factorization\" data-toc-modified-id=\"NMF-method---Non-negative-matrix-factorization-5.2\"><span class=\"toc-item-num\">5.2&nbsp;&nbsp;</span>NMF method - Non-negative matrix factorization</a></span></li><li><span><a href=\"#Choosing-results\" data-toc-modified-id=\"Choosing-results-5.3\"><span class=\"toc-item-num\">5.3&nbsp;&nbsp;</span>Choosing results</a></span></li></ul></li><li><span><a href=\"#Creating-a-finalized-dataset\" data-toc-modified-id=\"Creating-a-finalized-dataset-6\"><span class=\"toc-item-num\">6&nbsp;&nbsp;</span>Creating a finalized dataset</a></span><ul class=\"toc-item\"><li><span><a href=\"#Number-of-grants-per-university\" data-toc-modified-id=\"Number-of-grants-per-university-6.1\"><span class=\"toc-item-num\">6.1&nbsp;&nbsp;</span>Number of grants per university</a></span></li><li><span><a href=\"#Top-5-topics-by-%grants\" data-toc-modified-id=\"Top-5-topics-by-%grants-6.2\"><span class=\"toc-item-num\">6.2&nbsp;&nbsp;</span>Top 5 topics by %grants</a></span></li><li><span><a href=\"#Top-5-topics-by-%dollars\" data-toc-modified-id=\"Top-5-topics-by-%dollars-6.3\"><span class=\"toc-item-num\">6.3&nbsp;&nbsp;</span>Top 5 topics by %dollars</a></span></li><li><span><a href=\"#Finalized-dataset\" data-toc-modified-id=\"Finalized-dataset-6.4\"><span class=\"toc-item-num\">6.4&nbsp;&nbsp;</span>Finalized dataset</a></span></li></ul></li></ul></div>"
   ]
  },
  {
   "cell_type": "markdown",
   "metadata": {},
   "source": [
    "## NCSES class - FedRePORTER and IPEDS data"
   ]
  },
  {
   "cell_type": "markdown",
   "metadata": {},
   "source": [
    "### Introduction"
   ]
  },
  {
   "cell_type": "markdown",
   "metadata": {},
   "source": [
    "This notebook builds links between two datasets:\n",
    "1. **Federal RePORTER** (https://federalreporter.nih.gov) - a collaborative effort led by STAR METRICS® to create a searchable database of scientific awards from agencies (across agencies or fiscal years, by the award's project leader, or by a text search of a project's title, terms, or abstracts).\n",
    "\n",
    "\n",
    "2. **IPEDS** (https://nces.ed.gov/ipeds/) - IPEDS is the Integrated Postsecondary Education Data System, a system of interrelated surveys conducted annually by the U.S. Department of Education’s National Center for Education Statistics (NCES). IPEDS gathers information from every college, university, and technical and vocational institution that participates in the federal student financial aid programs on enrollments, program completions, graduation rates, faculty and staff, finances, institutional prices, and student financial aid."
   ]
  },
  {
   "cell_type": "markdown",
   "metadata": {},
   "source": [
    "**Output file**"
   ]
  },
  {
   "cell_type": "markdown",
   "metadata": {},
   "source": [
    "**Data dictionary**"
   ]
  },
  {
   "cell_type": "markdown",
   "metadata": {},
   "source": [
    "Unit of observation: **university by year (from year 2000+)**"
   ]
  },
  {
   "cell_type": "markdown",
   "metadata": {},
   "source": [
    "Variables:\n",
    "- **#grants** - total number of grants per university from 2000+\n",
    "- **top 5 topics by grants** - top five topics by a grant share\n",
    "- **top 5 topics by dollars** - top five topics by a dollar share"
   ]
  },
  {
   "cell_type": "markdown",
   "metadata": {},
   "source": [
    "### Python Setup"
   ]
  },
  {
   "cell_type": "code",
   "execution_count": 165,
   "metadata": {},
   "outputs": [],
   "source": [
    "# Data manipulation\n",
    "import pandas as pd\n",
    "\n",
    "# Read in multiple files\n",
    "import glob\n",
    "\n",
    "# Display settings \n",
    "pd.set_option('float_format', '{:f}'.format) # show full float numbers\n",
    "pd.set_option('display.max_colwidth', -1) # show full cells\n",
    "\n",
    "# Text analysis (topic modeling)\n",
    "import numpy as np\n",
    "import sklearn\n",
    "from sklearn.decomposition import NMF, LatentDirichletAllocation\n",
    "from sklearn.feature_extraction.text import TfidfVectorizer, CountVectorizer\n",
    "import string"
   ]
  },
  {
   "cell_type": "markdown",
   "metadata": {},
   "source": [
    "## Load the data"
   ]
  },
  {
   "cell_type": "markdown",
   "metadata": {},
   "source": [
    "### Federal RePORTER - Projects (https://federalreporter.nih.gov/FileDownload)"
   ]
  },
  {
   "cell_type": "code",
   "execution_count": 170,
   "metadata": {},
   "outputs": [
    {
     "name": "stdout",
     "output_type": "stream",
     "text": [
      "['FedRePORTER_PRJ_C_FY2018.csv', 'FedRePORTER_PRJ_C_FY2008.csv', 'FedRePORTER_PRJ_C_FY2009.csv', 'FedRePORTER_PRJ_C_FY2013.csv', 'FedRePORTER_PRJ_C_FY2007.csv', 'FedRePORTER_PRJ_C_FY2006.csv', 'FedRePORTER_PRJ_C_FY2012.csv', 'FedRePORTER_PRJ_C_FY2004.csv', 'FedRePORTER_PRJ_C_FY2010.csv', 'FedRePORTER_PRJ_C_FY2011.csv', 'FedRePORTER_PRJ_C_FY2005.csv', 'FedRePORTER_PRJ_C_FY2001.csv', 'FedRePORTER_PRJ_C_FY2015.csv', 'FedRePORTER_PRJ_C_FY2014.csv', 'FedRePORTER_PRJ_C_FY2000.csv', 'FedRePORTER_PRJ_C_FY2016.csv', 'FedRePORTER_PRJ_C_FY2002.csv', 'FedRePORTER_PRJ_C_FY2003.csv', 'FedRePORTER_PRJ_C_FY2017.csv']\n"
     ]
    }
   ],
   "source": [
    "# Get all .csv files for FedRePORTER Projects\n",
    "\n",
    "fedreporter_files = glob.glob('FedRePORTER_PRJ_C_FY20*.csv')\n",
    "print(fedreporter_files)"
   ]
  },
  {
   "cell_type": "code",
   "execution_count": 171,
   "metadata": {},
   "outputs": [
    {
     "name": "stderr",
     "output_type": "stream",
     "text": [
      "/anaconda3/lib/python3.7/site-packages/IPython/core/interactiveshell.py:3049: DtypeWarning: Columns (12,20) have mixed types. Specify dtype option on import or set low_memory=False.\n",
      "  interactivity=interactivity, compiler=compiler, result=result)\n",
      "/anaconda3/lib/python3.7/site-packages/IPython/core/interactiveshell.py:3049: DtypeWarning: Columns (20) have mixed types. Specify dtype option on import or set low_memory=False.\n",
      "  interactivity=interactivity, compiler=compiler, result=result)\n",
      "/anaconda3/lib/python3.7/site-packages/IPython/core/interactiveshell.py:3049: DtypeWarning: Columns (12) have mixed types. Specify dtype option on import or set low_memory=False.\n",
      "  interactivity=interactivity, compiler=compiler, result=result)\n"
     ]
    }
   ],
   "source": [
    "# Read them in, concatenate and convert to a dataframe\n",
    "\n",
    "list_data = []\n",
    "for filename in fedreporter_files:\n",
    "    data = pd.read_csv(filename)\n",
    "    list_data.append(data)\n",
    "    \n",
    "projects = pd.concat(list_data)"
   ]
  },
  {
   "cell_type": "code",
   "execution_count": 178,
   "metadata": {},
   "outputs": [
    {
     "name": "stdout",
     "output_type": "stream",
     "text": [
      "<class 'pandas.core.frame.DataFrame'>\n",
      "Int64Index: 1075525 entries, 0 to 87255\n",
      "Data columns (total 24 columns):\n",
      "PROJECT_ID                     1075525 non-null int64\n",
      " PROJECT_TERMS                 1052425 non-null object\n",
      " PROJECT_TITLE                 1075525 non-null object\n",
      " DEPARTMENT                    1075525 non-null object\n",
      " AGENCY                        1075525 non-null object\n",
      " IC_CENTER                     877594 non-null object\n",
      " PROJECT_NUMBER                1075525 non-null object\n",
      " PROJECT_START_DATE            935590 non-null object\n",
      " PROJECT_END_DATE              943996 non-null object\n",
      " CONTACT_PI_PROJECT_LEADER     1075430 non-null object\n",
      " OTHER_PIS                     131441 non-null object\n",
      " CONGRESSIONAL_DISTRICT        1001814 non-null float64\n",
      " DUNS_NUMBER                   1065111 non-null object\n",
      " ORGANIZATION_NAME             1074914 non-null object\n",
      " ORGANIZATION_CITY             1069689 non-null object\n",
      " ORGANIZATION_STATE            1059189 non-null object\n",
      " ORGANIZATION_ZIP              1026075 non-null object\n",
      " ORGANIZATION_COUNTRY          1069916 non-null object\n",
      " BUDGET_START_DATE             824020 non-null object\n",
      " BUDGET_END_DATE               823981 non-null object\n",
      " CFDA_CODE                     887965 non-null object\n",
      " FY                            1075525 non-null int64\n",
      " FY_TOTAL_COST                 881417 non-null float64\n",
      " FY_TOTAL_COST_SUB_PROJECTS    161502 non-null float64\n",
      "dtypes: float64(3), int64(2), object(19)\n",
      "memory usage: 205.1+ MB\n"
     ]
    }
   ],
   "source": [
    "projects.info()"
   ]
  },
  {
   "cell_type": "markdown",
   "metadata": {},
   "source": [
    "### Federal RePORTER - Abstracts (https://federalreporter.nih.gov/FileDownload)"
   ]
  },
  {
   "cell_type": "code",
   "execution_count": 173,
   "metadata": {},
   "outputs": [
    {
     "name": "stdout",
     "output_type": "stream",
     "text": [
      "['FedRePORTER_PRJABS_C_FY2009.csv', 'FedRePORTER_PRJABS_C_FY2008.csv', 'FedRePORTER_PRJABS_C_FY2018.csv', 'FedRePORTER_PRJABS_C_FY2017.csv', 'FedRePORTER_PRJABS_C_FY2003.csv', 'FedRePORTER_PRJABS_C_FY2002.csv', 'FedRePORTER_PRJABS_C_FY2016.csv', 'FedRePORTER_PRJABS_C_FY2000.csv', 'FedRePORTER_PRJABS_C_FY2014.csv', 'FedRePORTER_PRJABS_C_FY2015.csv', 'FedRePORTER_PRJABS_C_FY2001.csv', 'FedRePORTER_PRJABS_C_FY2005.csv', 'FedRePORTER_PRJABS_C_FY2011.csv', 'FedRePORTER_PRJABS_C_FY2010.csv', 'FedRePORTER_PRJABS_C_FY2004.csv', 'FedRePORTER_PRJABS_C_FY2012.csv', 'FedRePORTER_PRJABS_C_FY2006.csv', 'FedRePORTER_PRJABS_C_FY2007.csv', 'FedRePORTER_PRJABS_C_FY2013.csv']\n"
     ]
    }
   ],
   "source": [
    "# Get all .csv files for FedRePORTER Abstracts\n",
    "\n",
    "abstracts_files = glob.glob('FedRePORTER_PRJABS_C_FY20*.csv')\n",
    "print(abstracts_files)"
   ]
  },
  {
   "cell_type": "code",
   "execution_count": 174,
   "metadata": {},
   "outputs": [],
   "source": [
    "# Read them in, concatenate and convert to a dataframe\n",
    "\n",
    "list_data = []\n",
    "for filename in abstracts_files:\n",
    "    data = pd.read_csv(filename)\n",
    "    list_data.append(data)\n",
    "    \n",
    "asbtracts = pd.concat(list_data)"
   ]
  },
  {
   "cell_type": "markdown",
   "metadata": {},
   "source": [
    "### IPEDS data"
   ]
  },
  {
   "cell_type": "code",
   "execution_count": 19,
   "metadata": {},
   "outputs": [],
   "source": [
    "ipeds = pd.read_csv('IPEDS.csv',encoding='ISO-8859-1')"
   ]
  },
  {
   "cell_type": "markdown",
   "metadata": {},
   "source": [
    "## Filter the data"
   ]
  },
  {
   "cell_type": "code",
   "execution_count": 20,
   "metadata": {},
   "outputs": [],
   "source": [
    "# Keeping only first project (not to double count the total cost)\n",
    "projects = projects.groupby(' PROJECT_NUMBER').first().reset_index()\n",
    "\n",
    "# Filtering by projects which have more than 100,000 FY_TOTAL_COST\n",
    "projects = projects[projects[' FY_TOTAL_COST'] > 100000]"
   ]
  },
  {
   "cell_type": "markdown",
   "metadata": {},
   "source": [
    "## Match with IPEDS university names"
   ]
  },
  {
   "cell_type": "code",
   "execution_count": 24,
   "metadata": {},
   "outputs": [],
   "source": [
    "ipeds = ipeds.rename(columns={'INSTNM':' ORGANIZATION_NAME'})\n",
    "\n",
    "projects = projects.dropna(subset=[' ORGANIZATION_NAME'])\n",
    "\n",
    "def normalize_names(name):\n",
    "    name = name.lower()\n",
    "    name = name.strip()\n",
    "    for i in string.punctuation:\n",
    "        name = name.replace(i,'')\n",
    "    name = name.replace(' ','')\n",
    "    return name\n",
    "\n",
    "ipeds[' ORGANIZATION_NAME'] = ipeds[' ORGANIZATION_NAME'].apply(normalize_names)\n",
    "projects[' ORGANIZATION_NAME'] = projects[' ORGANIZATION_NAME'].apply(normalize_names)\n",
    "\n",
    "ipeds[' ORGANIZATION_NAME'].head()"
   ]
  },
  {
   "cell_type": "code",
   "execution_count": 112,
   "metadata": {},
   "outputs": [
    {
     "data": {
      "text/plain": [
       "10434    associationofuniversitiesforresearchinastronom...\n",
       "10435                                   columbiauniversity\n",
       "10436                                 washingtonuniversity\n",
       "10437                            universityofhawaiisystems\n",
       "10438                       universityofcaliforniasandiego\n",
       "Name:  ORGANIZATION_NAME, dtype: object"
      ]
     },
     "execution_count": 112,
     "metadata": {},
     "output_type": "execute_result"
    }
   ],
   "source": [
    "projects[' ORGANIZATION_NAME'].head()"
   ]
  },
  {
   "cell_type": "code",
   "execution_count": 116,
   "metadata": {},
   "outputs": [],
   "source": [
    "projects_subset = projects[['PROJECT_ID',' ORGANIZATION_NAME']]\n",
    "\n",
    "projects_ipeds_1 = projects_subset.merge(ipeds,on=' ORGANIZATION_NAME')\n",
    "\n",
    "projects_ipeds_1[' ORGANIZATION_NAME'].nunique()"
   ]
  },
  {
   "cell_type": "code",
   "execution_count": 119,
   "metadata": {},
   "outputs": [],
   "source": [
    "# Add additional validated matches\n",
    "\n",
    "names_dictionary = dict()\n",
    "\n",
    "names_dictionary['universityofvirginiamaincampus'] = ['universityofvirginiacharlottesville','universityofvirginia']\n",
    "names_dictionary['ohiostateuniversitymaincampus'] = ['ohiostateuniversityresearchfoundation','ohiostateuniversity','ohiostateuniversityvetmed']\n",
    "names_dictionary['universityofcincinnatimaincampus'] = ['universityofcincinnati']\n",
    "names_dictionary['auburnuniversity'] = ['auburnuniversityatauburn', 'auburnuniversiymaincampus']\n",
    "names_dictionary['theuniversityoftennesseeknoxville'] = ['universityoftennesseeknoxville', 'universityoftennessee', 'universityoftennessee’scenterforcleanproductsandcleantechnologiesandthehealthybuildingnetwork']\n",
    "names_dictionary['universityofsouthcarolinacolumbia'] = ['universityofsouthcarolinaatcolumbia']\n",
    "names_dictionary['texasamuniversitycollegestation'] = ['texasamuniversity']\n",
    "names_dictionary['universityofsouthfloridamaincampus'] = ['universityofsouthflorida']\n",
    "names_dictionary['midwesternuniversityglendale'] = ['midwesternuniversity']\n",
    "names_dictionary['stonybrookuniversity'] = ['stateuniversitynewyorkstonybrook','mathdeptstonybrookuniversity','sunystonybrook','stonybrookbiotechnology','stonybrooktechnologyappliedresearch','thestateuniversityofnewyorkatstonybrook']\n",
    "names_dictionary['universityofthepacific'] = ['universityofthepacificstockton']\n",
    "names_dictionary['universityatbuffalo'] = ['stateuniversityofnewyorkatbuffalo', 'universityatbuffalosuny', 'thestateuniversityofnewyorkatbuffalo', 'universityofbuffalo']\n",
    "names_dictionary['midwesternuniversitydownersgrove'] = ['midwesternuniversity']\n",
    "names_dictionary['northcarolinastateuniversityatraleigh'] = ['northcarolinastateuniversityraleigh','northcarolinastateuniversity']\n",
    "names_dictionary['universityofcoloradoboulder'] = ['universityofcoloradoatboulder','universityofcoloradoboulderdeptofgeologicalsciences','regentsoftheuniversityofcoloradothe','universityofcolorado']\n",
    "names_dictionary['universityofwashingtonseattlecampus'] = ['universityofwashington','universityofwashingtonmechanicalengineering','universityofwashingtonseattle']\n",
    "names_dictionary['indianauniversitypurdueuniversityindianapolis'] = ['indianaunivpurdueunivatindianapolis']\n",
    "names_dictionary['universityofpittsburghpittsburghcampus'] = ['theuniversityofpittsburgh','universityofpittsburgh']\n",
    "names_dictionary['universityofcoloradodenveranschutzmedicalcampus'] = ['universityofcoloradodenver','universityofcoloradodenverhscdenver']\n",
    "names_dictionary['louisianastateuniversityandagriculturalmechanicalcollege'] = ['louisianastateunivaampmcolbatonrouge','louisianastateunivagriculturalcenter']\n",
    "\n",
    "names_dictionary_updated = {k: v for k, v in names_dictionary.items() if v is not None}\n",
    "\n",
    "names_dictionary_dataframe = pd.DataFrame.from_dict(names_dictionary_updated,orient=\"index\").reset_index()\n",
    "\n",
    "names_dataframe = names_dictionary_dataframe.set_index('index').stack().reset_index()\n",
    "\n",
    "names_dataframe = names_dataframe.rename(columns={'index':' ORGANIZATION_NAME'})\n",
    "\n",
    "names_dataframe_finalized = ipeds.merge(names_dataframe,on=' ORGANIZATION_NAME')\n",
    "\n",
    "names_dataframe_finalized = names_dataframe_finalized.rename(columns={' ORGANIZATION_NAME':'original_name',0:' ORGANIZATION_NAME'})\n",
    "\n",
    "projects_ipeds_2 = projects_subset.merge(names_dataframe_finalized,on=' ORGANIZATION_NAME')"
   ]
  },
  {
   "cell_type": "code",
   "execution_count": 128,
   "metadata": {},
   "outputs": [
    {
     "name": "stderr",
     "output_type": "stream",
     "text": [
      "/anaconda3/lib/python3.7/site-packages/ipykernel_launcher.py:1: FutureWarning: Sorting because non-concatenation axis is not aligned. A future version\n",
      "of pandas will change to not sort by default.\n",
      "\n",
      "To accept the future behavior, pass 'sort=False'.\n",
      "\n",
      "To retain the current behavior and silence the warning, pass 'sort=True'.\n",
      "\n",
      "  \"\"\"Entry point for launching an IPython kernel.\n"
     ]
    }
   ],
   "source": [
    "projects_ipeds_combined = pd.concat([projects_ipeds_1,projects_ipeds_2])"
   ]
  },
  {
   "cell_type": "code",
   "execution_count": 130,
   "metadata": {},
   "outputs": [
    {
     "data": {
      "text/plain": [
       "1196"
      ]
     },
     "execution_count": 130,
     "metadata": {},
     "output_type": "execute_result"
    }
   ],
   "source": [
    "projects_ipeds_combined[' ORGANIZATION_NAME'].nunique()"
   ]
  },
  {
   "cell_type": "markdown",
   "metadata": {},
   "source": [
    "## Text analysis (Topic modeling)"
   ]
  },
  {
   "cell_type": "code",
   "execution_count": 132,
   "metadata": {},
   "outputs": [],
   "source": [
    "# Drop missing abstracts\n",
    "abstracts = abstracts.dropna()\n",
    "\n",
    "# Merge abstracts with Project ID of IPEDS universities\n",
    "merged_abstracts = abstracts.merge(projects_ipeds_combined,on='PROJECT_ID')\n",
    "\n",
    "# Get only the text of abstracts\n",
    "merged_abstracts_list = merged_abstracts[' ABSTRACT'].values.tolist()"
   ]
  },
  {
   "cell_type": "markdown",
   "metadata": {},
   "source": [
    "### LDA method - Latent Dirichlet Allocation\n",
    "\n",
    "Latent Dirichlet Allocation is a probabilistic topic model that is used for discovering abstract topics from a collection of documents.\n",
    "\n",
    "Latent (or hidden) stands for topics in the documents that are existing but not yet developed or manifest and which can be discovered based on observed data, such as words in the documents. Dirichlet stands for two distributions that are taken into account when creating topics: a distribution of words in the topic (which words are more or less probable to belong to a given topic) and a distribution of topics in documents (which topic is more or less probable for a given document). Allocation stands for allocating topics to documents, once those two distributions are in place.\n",
    "\n",
    "LDA model takes as input a corpus (a collection of text documents). Every text document is tokenized to become a sequence of words (tokens). All unique words across a given corpus are saved as a vocabulary. Text documents are then converted to a matrix of token counts (how often a given unique word from a vocabulary appears in a given text document), e.g.:\n",
    "\n",
    "\n",
    "|doc# / unique words| 'science' | 'research' | 'cell' | 'DNA' | 'gene'|\n",
    "|----------|-----------|------------|--------|-------|-------|\n",
    "|document 1|     0     |     0      |     1  |    5  |    7  |\n",
    "|document 2|     1     |     5      |     0  |    0  |    0  |\n",
    "|document 3|     0     |     2      |     5  |    0  |    0  |  \n",
    "\n",
    "\n",
    "The LDA model then finds for each topic a distribution over the words, i.e. the probability of a word appearing in a given topic, and then maps a probability of a topic being assigned to a given document.\n",
    " \n",
    "More here: https://scikit-learn.org/stable/modules/decomposition.html#latentdirichletallocation"
   ]
  },
  {
   "cell_type": "code",
   "execution_count": 137,
   "metadata": {},
   "outputs": [],
   "source": [
    "# Convert a collection of text documents to a matrix of token counts\n",
    "# Every token is a unique word, and the matrix consists of a count of a given word (token) in a given document\n",
    "\n",
    "tf_vectorizer = CountVectorizer(stop_words='english') # remove English stopwords (semantically-vacuous words, such as 'the', 'and', etc.)\n",
    "tf = tf_vectorizer.fit_transform(merged_abstracts_list)\n",
    "tf_feature_names = tf_vectorizer.get_feature_names() # unique words (vocabulary)\n",
    "\n",
    "lda = LatentDirichletAllocation(n_topics=10, random_state=0).fit(tf)\n",
    "\n",
    "lda_W = lda.transform(tf) # get topics to documents matrix\n",
    "lda_H = lda.components_ # get word to topics matrix"
   ]
  },
  {
   "cell_type": "code",
   "execution_count": 140,
   "metadata": {},
   "outputs": [
    {
     "name": "stdout",
     "output_type": "stream",
     "text": [
      "Topic 0:\n",
      "----------------------------\n",
      "research program training students university clinical center science support faculty\n",
      "----------------------------\n",
      "Topic 1:\n",
      "----------------------------\n",
      "cells cancer cell tumor immune specific aim studies breast expression\n",
      "----------------------------\n",
      "Topic 2:\n",
      "----------------------------\n",
      "protein proteins gene genes cell dna genetic molecular human specific\n",
      "----------------------------\n",
      "Topic 3:\n",
      "----------------------------\n",
      "patients clinical treatment care health study patient outcomes data trial\n",
      "----------------------------\n",
      "Topic 4:\n",
      "----------------------------\n",
      "cell cells signaling mechanisms role function aim specific mice determine\n",
      "----------------------------\n",
      "Topic 5:\n",
      "----------------------------\n",
      "disease risk diabetes study ad metabolic studies insulin obesity metabolism\n",
      "----------------------------\n",
      "Topic 6:\n",
      "----------------------------\n",
      "hiv infection drug new human studies specific develop tissue cell\n",
      "----------------------------\n",
      "Topic 7:\n",
      "----------------------------\n",
      "brain neural imaging neurons cognitive aim specific disorders studies function\n",
      "----------------------------\n",
      "Topic 8:\n",
      "----------------------------\n",
      "project research data new systems high methods develop using based\n",
      "----------------------------\n",
      "Topic 9:\n",
      "----------------------------\n",
      "health study risk use children social intervention alcohol research data\n",
      "----------------------------\n"
     ]
    }
   ],
   "source": [
    "# View the list of topics (10 top words per topic)\n",
    "\n",
    "for topic_idx, topic in enumerate(lda_H):\n",
    "    print(\"Topic %d:\" % (topic_idx))\n",
    "    print('----------------------------')\n",
    "    print(\" \".join([tf_feature_names[i]\n",
    "                for i in topic.argsort()[:-10 - 1:-1]]))\n",
    "    print('----------------------------')"
   ]
  },
  {
   "cell_type": "code",
   "execution_count": 141,
   "metadata": {},
   "outputs": [
    {
     "name": "stdout",
     "output_type": "stream",
     "text": [
      "--------------------\n",
      "Topic 0:\n",
      "--------------------\n",
      "research program training students university clinical center science support faculty\n",
      "--------------------\n",
      "A. INTRODUCTION AND TRANSFORMING INTENTFor the past five years, the overarching mission of the Stanford University School of Medicine (SoM) hasbeen the translation of discoveries into medical practice. A plan developed in 2001-02 has encouragedtransforming efforts in clinical and translational (CT) education and research by providing the resources tosupport such endeavors. The vision and goals of this plan, Translating Discoveries, are closely alignedwith those of the NIH Clinical and Translational Science Award (CTSA) effort. The CTSA program hasgiven the SoM an important opportunity to reassess, refine and refocus these efforts and move to anotherlevel in our effort to transform the practice of CTR across the University. The result will be anadministrative home, the Stanford Center for Clinical and Translational Education and Research(SCCTER, pronounced ske-ter), which will totally reshape and focus our efforts in enabling andaccelerating translational medicine while minimizing overlap and maximizing efficiency.More specifically, we have made substantial strides in creating enhanced education and trainingopportunities in clinical and translational research (CTR). Three examples of new and innovativeeducational initiatives include our scholarly concentrations for medical students, our multidisciplinaryBiodesign program for engineers, physicians and other biomedical investigators, and our Masters ofScience in Medicine (MOM) degree for PhD candidates. The scholarly concentration program isembedded in our new medical student curriculum. Of the seven concentrations, the two most popular(clinical research and community health) are directly relevant to CTR education and training. OurBiodesign program represents a unique CTR training opportunity built around teams of physicians,engineers, and postgraduate students learning how to successfully invent medically useful devices. OurMOM degree affords PhD candidates at Stanford the opportunity to matriculate with our first and secondyear medical students, integrating their basic science training with the critical foundations of health andhuman disease and the practice of medicine to provide these students a more fundamental understandingof translational and clinical medicine.In addition to these three recent initiatives, we are attempting to address the future need for well-trainedCT researchers by engaging students earlier in their educational pathway. For example, we host severalsummer science enrichment courses for gifted and disadvantaged high school students. We consider itessential to reach out specifically to low-income and ethnic minority youth, because they are oftenoverlooked by outreach programs. We also are making efforts to encourage more Stanford Universityundergraduate students to enroll in seminar courses directed by faculty with research interests in CTR andto increase opportunities for these students to work on human health related research projects with ourfaculty. Early exposure to CT education and training programs will encourage more of these students toconsider a CTR-related profession.Numerous didactic courses have been developed by many of our CTR stakeholders, including the Department of Health Research and Policy, several clinical departments, the Office of Postdoctoral Affairs,the General Clinical Research Center (GCRC, now the Clinical and Translational Research Unit, Program Function 4), the Center for Biomedical Ethics, and the Stanford/Packard Center for Translational Researchin Medicine (SPCTRM, now the Support Portal, Program Function 3). In addition, our NIH-funded training programs related to CTR (Table 8.1), including 22 T32s, 4 R25s, and 3 K12s, each have developed manyseminar courses and journal clubs. Furthermore, all trainees and faculty have access to Masters degreeprograms in Epidemiology, Health Services Research, and Public Policy, on our campus, and we have ajoint MPH program with the School of Public Health in Berkeley. Other joint degree opportunities areavailable across the University in the School of Humanities and Science (Biological Sciences andBiophysics), the School of Engineering (Bioengineering, Biomedical Informatics, and Biomechanical Engineering), the Graduate School of Business, and the School of Law.Despite our rich educational environment and concerted efforts to develop a wide range of discipline-specific and interdisciplinary education and training programs, the preparation of this application hasstimulated the development of a plan for accelerated improvement. This plan, described below, hasresulted from a faculty-wide survey and deliberations of a CT Education and Training planning committee.The overall goals of our plan are: ¿ To utilize the considerable faculty and student talent at all seven of Stanford's Schools to improve CT research and education across the enterprise ¿ To recruit, educate, and train a continuum of outstanding future CT investigators ¿ To promote awareness of the value and necessity of multidisciplinary and interdisciplinary team research ¿ To facilitate and coordinate all of our education and training initiatives in the area of CTR.CTR at Stanford has been carried out primarily by faculty at the SoM, with limited but very fruitfulinteractions with faculty in our other Schools. Our first goal is designed to apply the expertise at Stanford'sseven Schools to CTR by educating faculty and trainees at our other Schools in the importance andmethodology of CTR. Conversely, we also will utilize the considerable expertise at the other Schools tohelp educate the next generation of CT investigators in the SoM. The CTSA will allow us to developprograms to facilitate this cross-School and cross-discipline pollination; this will be transformative for CTresearch and education at Stanford and, potentially, in the country.Our second goal, to support a continuum of trainees, is critical for several reasons. Engaging traineesearly in their career will encourage them to pursue careers in CTR, thereby ensuring the development of asteady pipeline of CTR investigators. Trainees along the continuum will be able to assist the next tier oftrainees by acting as near-to-peer role models. Trainees late in the continuum will develop leadershipskills while assuming oversight responsibilities for more junior colleagues. The continuum also will providea defined pathway, from novice to expert, affording trainees the opportunity to increase their level ofknowledge and expertise as they advance academically.Our third goal is to conduct meaningful multidisciplinary exercises that include affiliated nurse scientistsand allied health researches, and to build research projects that will encourage and foster collaborationsboth within and outside the SoM. Since translational medicine is both interdisciplinary and multidisciplinaryby nature, a comprehensive educational program should include participation of students from both theMD and PhD pathways and should integrate these programs so that trainees receive maximum exposureto other disciplines. We plan to teach this multidisciplinary approach through participation in our six-weekteam-building practicum exercises. These teams will be composed of members from multiple disciplineswith varied educational backgrounds.Our fourth goal, to facilitate and coordinate all current education and training initiatives, will be critical tosupporting our continuum of trainees, building our multidisciplinary programs, and eliminating unnecessaryduplication of efforts. A key component of this goal is to take advantage of  teachable moments  in thestudy design process (Program Function 3: Support Portal) as opportunities for training and as sources ofdidactic material.\n",
      "--------------------\n",
      "Topic 1:\n",
      "--------------------\n",
      "cells cancer cell tumor immune specific aim studies breast expression\n",
      "--------------------\n",
      "Background:  Dormant tumor cells or circulating tumor cells (CTC) that are quiescent have been detected in breast cancer-free patients several years after successful treatment, as well as in patients with non-metastatic breast cancer.  Dormant tumor cells are thought to be resistant to chemotherapy and radiation therapy primarily because of being quiescent.  While the basis for tumor dormancy and recurrence is poorly understood, there is general agreement that (i) chemotherapy can concurrently induce cytoprotective autophagy and apoptosis, and (ii) anticancer chemotherapies are efficient primarily when they elicit immunogenic cell death.  It is not known how immunogenic cell death that induces anti-tumor immune responses could still maintain autophagic tumor cells in a dormant state until they escape and re-emerge, or alternatively eliminate dormant tumor cells, leading to recurrence-free survival.  Here, we propose that tumor IFN-gamma R-alpha is a key determinant in this process.Overarching Challenges:  The Fiscal Year 2013 Breast Cancer Research Program overarching challenges that will be addressed by this proposal include:  determine why/how breast cancer cells lay dormant for years and then re-emerge (recurrence); and  determine how to eliminate dormant cells early. Objectives/Hypotheses:  The objective of the proposed research is to identify molecular or cellular events that establish tumor dormancy after chemotherapy and those that lead to disease recurrence.  Non-immunogenic autophagy is associated with caspase-independent apoptosis or a static state, which allows the tumor cells to evade the immune response and promote tumor dormancy, leading to disease recurrence shortly after the completion of chemotherapy (early tumor recurrence).  Immunogenic autophagy is associated with necrotic cell death or caspase-dependent apoptosis, which in turn induces the immune response and leads to complete elimination of the tumor (recurrence-free); alternatively, if tumor growth is only inhibited temporarily, even with immunogenic autophagy, tumor cells could undergo epigenetic changes under the immune pressure, lose the tumor antigens, recover proliferative function following tumor escape from immune surveillance (late tumor recurrence).  We also hypothesize that the capacity of immunogenic autophagy to eliminate the tumor population (recurrence-free) versus tumor re-establishment and regrowth (late tumor recurrence) will be determined largely by the status of tumor cell interferon gamma receptor alpha (IFN-gamma R-alpha) expression.  Specifically, we propose that tumor cells that express high levels of IFN-gamma R-alpha (IFN-gamma R-alpha[high]) are eliminated through IFN-gamma and granzyme-mediated apoptosis, while wild-type tumor cells that express low levels of IFN-gamma R-alpha (IFN-gamma R-alpha [low]) will remain in the state of autophagy in response to IFN-gamma, producing tumor-specific T cells.  Tumor cells that remain in a state of autophagy are eventually rescued from immune-mediated growth inhibition by losing the neu antigen, which leads to tumor re-establishment and regrowth.Specific Aims:  Aim 1:  Investigate treatment-induced immunogenic and non-immunogenic autophagy in breast cancer and their role in early tumor recurrence.  Aim 2: Investigate the role of IFN-gamma R-alpha in tumor elimination or tumor dormancy and late recurrence under immune pressure.  Study Design:  We will use MTX and ADR, drugs that are known to induce immunogenic cell death as well as autophagy, and rapamycin as an inducer of non-immunogenic autophagy.  We will also use mouse mammary carcinoma (MMC) cells established from spontaneous mammary carcinoma of FVBN202 mice for proof-of-principle testing, and the SKBR3 human breast tumor cell line to confirm similar outcomes in a human line.  In Aim 1, we will assess chemotherapy-induced apoptosis and autophagy, chemotherapy-induced anti-tumor immune responses that protect FVBN202 mice from early re-emergence of MMC tumors, and the potential conversion of non-immunogenic chemotherapy to immunogenic chemotherapy by blockade of autophagy.  In Aim 2, we will use three MMC tumor cell lines (MMC IFN-gamma R-alpha [low], MMC IFN-gamma R-alpha [high], and control MMC IFN-gamma R-alpha [neg]) that we have established in our laboratory in order to determine if (a) the chemotherapy-induced T cell response eliminates MMC IFN-gamma R-alpha [high] tumor clones but (b) maintains MMC IFN-gamma R-alpha [low] tumor cells in a dormant state until they re-emerge because of the IFN-gamma-induced neu antigen loss in FVB and FVBN202 mice.  We will also determine whether blockade of autophagy/dormancy by chloroquine could overcome the re-emergence of MMC IFN-gamma R-alpha [low] cells following immunogenic chemotherapy.  Parallel studies will be performed using SKBR3 cells in NOD mice in the presence or absence of chemotherapy and IFN-gamma.Impact:  Mortality of breast cancer can be reduced by overcoming the ability of dormant tumor cells to reemerge from dormancy and promote disease relapse.  These goals should be achieved through (a) the identification of IFN-gamma R-alpha as a marker of tumor dormancy and recurrence following immunogenic chemotherapy, and (b) blocking autophagy as a means of altering the immune response from sustaining tumor dormancy and tumor immunoediting towards tumor elimination.\n",
      "--------------------\n",
      "Topic 2:\n",
      "--------------------\n",
      "protein proteins gene genes cell dna genetic molecular human specific\n",
      "--------------------\n",
      "DESCRIPTION (provided by applicant): Small regulatory RNAs regulate gene expression in most eukaryotes. By regulating gene expression, small regulatory RNAs, play key roles in many biological processes that include development, genome defense, oncogenesis, and antiviral immunity. Small regulatory RNAs act by seeking out and binding homologous (target) RNAs in cells. By recruiting accessory proteins to target RNAs, small RNAs are able to control gene expression at many levels that include; translation, mRNA stability, and transcription. The mechanistic underpinnings of small RNA biology are widely conserved in most eukaryotes. In particular, small RNAs play an important role in regulating gene expression within most eukaryote nuclei. My lab has established systems that are allowing us to study how and why small RNAs regulate genes in animal nuclei.  We are using the model organism C. elegans to understand how small RNAs regulate gene expression in animal nuclei. We are using C. elegans to address this question because of the excellent genetic tools that are available, and because of the robust and facile nature of conducting RNAi experiments in this system. Using genetic approaches in C. elegans, we have identified a molecular pathway that uses small RNAs to recognize and mark nascent transcripts (and the genes that encode these transcripts) for silencing. We have identified accessory proteins (termed the nuclear RNAi defective (NRDE) factors), which are recruited by small RNAs to nascent transcripts emanating from RNAP Polymerase II. Finally, we have shown that the association of the NRDE factors with RNA transcripts allows that NRDE factors to inhibit RNA Polymerase II during the elongation phase of transcription. Some of the NRDE factors that we have identified are conserved in mammals. In summary, our work is helping us understand how small RNAs regulate gene expression in animal nuclei, and may lead to insights into how small RNAs regulate gene expression in mammals.  We are also interested in understanding why small RNAs regulate gene expression in animal nuclei. Small regulatory RNAs direct the covalent modification of DNA and histones proteins in most eukaryotic cells. These small RNA-mediated chromatin modifications are epigenetic in nature: they alter gene expression without changing the underlying in DNA sequence. We have shown that endogenous nuclear small RNAs, and the nuclear RNAi pathway, regulate the epigenetic landscape at ~1000 genes during the normal course of reproduction. In animals that lack the nuclear RNAi machinery, germ cells loose their immortal character. Thus, C. elegans uses endogenous small RNAs to regulate epigenetic  states  at many genes during the normal course of reproduction and this gene-silencing process is required to mediate important biological processes. Many other biological processes such as development, imprinting, X-chromosome inactivation, and paramutation are directed by epigenetic modifications on DNA and histones. Interestingly, non-coding RNAs also contribute to many, if not all, of these processes. Given the widespread connections that exist between small RNAs, non-coding RNAs, and epigenetic processes in eukaryotes, we believe that our research exploring how small non-coding RNAs regulate epigenetic landscapes in C. elegans may prove to be globally applicable to diverse epigenetic processes in animals.  We do not yet understand 1) how the recruitment of NRDE factors to pre-mRNA inhibits RNAP II elongation to direct nuclear RNAi, 2) how RNAi-guided chromatin modifications contribute to nuclear RNAi in animals, 3) if/how nuclear RNAi is regulated, or 4) if the NRDE nuclear RNAi pathway is functionally conserved in mammals. Our proposed experiments are designed to answer these questions. .\n",
      "--------------------\n",
      "Topic 3:\n",
      "--------------------\n"
     ]
    },
    {
     "name": "stdout",
     "output_type": "stream",
     "text": [
      "patients clinical treatment care health study patient outcomes data trial\n",
      "--------------------\n",
      "DESCRIPTION (provided by applicant):     PROJECT SUMMARY Objective: The broad, long-term objective of this project is to advance understanding of ways to prevent unintentional prescription opioid poisoning. Specifically, the objective (FOA CE-10-002 objective #6) is to examine the ability of a publicly-sponsored physician education initiative to contribute to change in physician prescribing patterns, and to reduction in prescription opioid-related morbidity and mortality. Importance: Washington State (WA) is in the upper tier (10.8/100,000 in 2005) of unintentional poisoning mortality in the U.S.. In response to this public health epidemic, the Washington State Interagency Guideline on Opioid Dosing for Chronic, Non-Cancer Pain was developed by a consortium of Washington State agencies and clinical experts in pain management, and implemented in April, 2007. The Guideline focused primarily on dosing guidance for chronic non-cancer pain at or above a  yellow flag  dose of 120 mg/day morphine equivalent (MED). A gap in knowledge is the extent to which the Guideline has affected physician opioid prescribing practices, and whether it has reduced opioid-related poisonings. By evaluating the association of the Guideline with opioid prescribing practice, including specific dosing patterns, and with opioid-related morbidity and mortality, the proposed project will further understanding of effective means of preventing unintentional prescription opioid poisonings . Objectives: Specific Aim 1: Determine the extent of Guideline diffusion, adaptation of best opioid prescribing practices, and acceptance of the dosing  yellow flag . Hypothesis 1: At 3.5 years post-Guideline implementation, compared to 1.5 years post-implementation, both diffusion of the Guideline and adaptation of best opioid prescribing practices will have increased. Specific Aim 2: Examine changes in opioid dosing patterns within the WA Medicaid and workers' compensation populations after dissemination of the Guideline Hypothesis 2a: Over the three years after dissemination of the Guideline, as compared with before, chronic non-cancer pain patients receiving opioid prescriptions will be less likely to receive daily opioid doses exceeding 120 mg/day MED. Hypothesis 2b: The percent of patients receiving prescriptions >120 mg MED will decrease from year 1 to year 3 post-Guideline implementation. Hypothesis 2c: After dissemination of the Guideline, as compared with before, patients already on daily opioid doses above 120 mg/day MED will show lower average doses over the next three years, with a progressive reduction in average daily MED between year 1 and year 3. Specific Aim 3: Compare rates of non-fatal opioid overdose morbidity (as indicated by opioid-related hospital admissions and emergency department visits) and mortality within the WA Medicaid and workers' compensation populations, and of opioid-related hospitalizations and mortality within the statewide general population, in the three years after Guideline dissemination versus the three years before. Study Design: For Aim 1: Web-based physician survey For Aims 2 and 3: Retrospective cohort design involving analyses of independent cohorts of incident and prevalent cases of opioid users, and time series analyses to examine opiate-related morbidity and mortality Setting: WA State Participants: All WA Medicaid enrollees and workers' compensation claimants, identified from administrative databases, who are receiving prescription opioids for chronic, non-cancer pain. Over 30,000 Medicaid patients and over 10,000 workers' compensation patients begin receiving opiate prescriptions for chronic pain each year. Approximately 5% to 10% of Medicaid and workers' compensation patients prescribed opioids receive doses > 120 mg/day MED. Interventions: Statewide implementation and diffusion of the Washington State Interagency Guideline on Opioid Dosing for Chronic, Non-Cancer Pain Outcome Measures: Percent of physicians using the Guideline and using opioid prescribing best practices; percent of WA Medicaid and workers' compensation cohorts prescribed 120 mg/day MED; trends in emergency department and hospital admissions for non-fatal opioid overdose; mortality trends 1    PUBLIC HEALTH RELEVANCE:     Unintentional poisoning deaths related to prescription opioids have risen dramatically in the past decade, particularly among 35-54 year old adults. To address this public health crisis, the first Guideline in the US to address safe opioid dosing practice was implemented by all Washington State public payers in 2007. The goal of this proposal is to evaluate the impact of the Guideline. The project will test the hypotheses that in the three years post-Guideline implementation, compared to the three years pre- implementation, there is increased use of opioid prescribing best practices, a reduction in the incidence and prevalence of prescriptions of high dose (>120 mg/day morphine equivalent dose) opioids, and a decrease in opioid-asscoiated morbidity and mortality.\n",
      "--------------------\n",
      "Topic 4:\n",
      "--------------------\n",
      "cell cells signaling mechanisms role function aim specific mice determine\n",
      "--------------------\n",
      "DESCRIPTION (provided by applicant):  The extraocular muscles (EOM) are spared in Duchenne muscular dystrophy patients (DMD) and continue to function after most skeletal muscles in the body have completely degenerated. The reason for this sparing in DMD is unknown. Unlike limb skeletal muscle, normal adult EOM retain a population of activated satellite cells, the regenerative cell in adult skeletal muscle. Satellite cells actively fuse into normal myofibers in the EOM throughout life, even in aging EOM, resulting in a continuous process of myofiber remodeling. The EOM and their satellite cells are extremely resilient to injury, denervation, disease, and aging, retaining normal morphology when limb muscle would normally atrophy. In addition, the early genes controlling EOM development are distinct from those that control somite development. We will test the hypothesis that this continuous remodeling is the process by which EOM are spared in DMD. We will examine 1) the rate of myogenic precursor cell turnover in two mouse models of DMD, the mdx and mdx/utrophin+/- (mdx/utrhet) mice, and 2) test whether inhibition of cell division in the EOM prevent their sparing in the two mouse models for DMD. The sparing of the EOM in DMD, aging, and injury and differences in the myogenic precursor cell populations in skeletal muscle suggest myogenic precursor cells (mpcs) within EOM may be significantly enriched or phenotypically distinct compared with adult limb muscle cells. There are 5-8 fold more myogenic precursor cells in adult EOM compared to limb. Additionally, mpcs from EOM are more resistant to apoptosis than similar cells from limb. We will test the hypothesis that continuous remodeling allows for EOM sparing in DMD by examining 1) the rate of myogenic precursor cell turnover in two mouse DMD models, the mdx and mdx/utrophin+/- heterozygote (mdx/utrhet) mice, and 2) whether inhibition of cell division by gamma irradiation of the EOM prevents sparing in the DMD models. Sparing of the EOM in DMD and differences in their mpcs suggest that the EOM mpcs may be significantly enriched or phenotypically distinct compared with adult limb mpcs. One population is increased; these cells are CD34+ and negative for Sca1, CD31, an endothelial lineage marker, CD45, an hematopoietic lineage marker, and negative for various satellite cell markers (EOMCD34). These EOMCD34 cells are present in the EOM and limb muscles of neonatal mice, but only maintained throughout adulthood in EOM. These cells are also present in the EOM of mdx and mdx/utrophin-/- mice. Our hypothesis is that this population of EOMCD34 cells enriched in adult EOM may be, at least in part, responsible for the sparing of EOM in DMD. We will test these hypotheses in two Specific Aims. Specific aim 1 asks: 1) is the rate of myofiber remodeling increased in the DMD mice models? 2) Does inhibition of cell division in adult EOM prevent sparing in the EOM of mdx/utrophin +/- heterozygote mice? We will isolate specific subpopulations of mononucleated cells from EOM and limb muscles and in specific aim 2 ask: 1) Are the mpcs more resistant to injury?2) Are the mpcs from EOM more multipotent than those from limb muscle? 3) Do the myogenic precursor cells from EOM have greater proliferative potential than those derived from limb skeletal muscle? The long term goal is to define and isolate a myogenic precursor cell type from EOM that has greater proliferative and survival potential compared with limb. These cells would be tested in a myoblast transfer model to determine their potential for use in the treatment of DMD. These may offer advantages over other cells, as autologous transplants would be possible.  PUBLIC HEALTH RELEVANCE: The extraocular muscles (EOM) are spared in Duchenne muscular dystrophy (DMD), and the cause of this sparing is unknown. The unique ability of EOM to continuously remodel throughout life suggests that this ability may be responsible for this sparing. This may be due to an enriched myogenic precursor cell population within the EOM that has a greater ability to survive injury, aging and disease. While the eye muscles are spared in DMD, the rate of regeneration in the EOM is similar to that in the leg muscles of the mdx mouse model of DMD. We will attempt to demonstrate that muscle precursor cell division is responsible for sparing of the EOM by using irradiation to inhibit cell division. It is well known that the EOM survive injury better than limb muscle. This in turn suggests that muscle progenitors in EOM may be more robust and long-lived than those from limb muscles. If these hypotheses are true, ultimately we hope to exploit this by using identified myogenic precursor cells from EOM as a new source of donor cells in myoblast therapy in mice models of muscle injury and DMD.\n",
      "--------------------\n",
      "Topic 5:\n",
      "--------------------\n",
      "disease risk diabetes study ad metabolic studies insulin obesity metabolism\n"
     ]
    },
    {
     "name": "stdout",
     "output_type": "stream",
     "text": [
      "--------------------\n",
      "DESCRIPTION (provided by applicant): Coronary heart disease (CHD) is the single largest killer for both men and women in the US. The Japanese in Japan continue to have very low CHD rates despite increasing levels of risk factors since the end of World War II (WWII). CHD mortality has been increasing in most Asian countries except for Japan. The Electron-Beam Tomography and Risk Assessment in the Japanese and US Men in the Post World War II Birth Cohort (ERA-JUMP) (HL068200 and HL071561) was designed to test the hypothesis that levels of subclinical atherosclerosis in men in the post WWII birth cohort, i.e., men aged 40-49, in Japan exposed for long periods of time to Westernized lifestyle are lower than in age-matched US Black, White, and Japanese American men. ERA-JUMP has documented that (1) the Japanese in Japan had significantly lower levels of subclinical atherosclerosis in the coronary and carotid arteries than US populations, (2) Japanese Americans had similar or higher levels of subclinical atherosclerosis as compared to Whites, (3) the Japanese in Japan had levels of serum marine n-3 fatty acids (marine n-3) higher by >100% than US populations, and (4) serum marine n-3 had a significant inverse association with subclinical atherosclerosis. Based on these results, we propose to conduct an analysis of the relationship of marine n-3 to the progression of subclinical atherosclerosis and to extend our findings to 2 additional cohorts for validation and evaluation. Aim 1: to determine the association of baseline serum marine n-3 with the progression of subclinical atherosclerosis in the ERA JUMP cohort: 300 Whites, 300 Japanese Americans, 300 Japanese in Japan, and 100 Blacks. We hypothesize that the progression is slower in the Japanese in Japan than US populations, and that marine n-3 has an inverse association with the progression. Aim 2: to determine the association of serum marine n-3 with subclinical atherosclerosis in an expanded study in Japan, 700 Japanese men aged 50-79. The subclinical atherosclerosis measures have already been done at no cost to this study since the study was funded in Japan. Our plan is to measure serum marine n-3 in these 700 men and relate them to the extent of subclinical atherosclerosis. Aim 3: to examine the relationship between serum marine n-3 and food intake in 1,200 Japanese and 260 Japanese American men and women from INTERLIPID, including detailed multiple 24-hour recalls. Our plan is to measure marine n-3 in the stored blood samples of these individuals and relate them to the detailed dietary data. Our central hypothesis is that very high intake of marine n-3 has a strong anti-atherogenic effect. This hypothesis is very different from benefits of much lower doses of marine n-3 on arrhythmias or the short term benefits of high dose marine n-3 in clinical trials among individuals with extensive atherosclerosis. This hypothesis cannot be studied in a US population because of their very low intakes of marine n-3. If our hypothesis were true that marine n-3 has a strong anti-atherogenic effect, especially at high levels observed in Japan, we may be able to reduce CHD rates in the US dramatically by greatly increasing the intake of marine n-3 in the general population in the US. Our baseline study found that in men aged 40-49, the Japanese in Japan had much lower levels of subclinical atherosclerosis than US populations, that Whites and Japanese Americans had similar levels, that serum levels of n-3 fatty acids found in fish were higher by >100% in the Japanese in Japan than in US populations, and that serum n-3 fatty acids found in fish had a strong inverse association with subclinical atherosclerosis, suggesting that n-3 fatty acids found in fish, especially at higher levels found in the Japanese in Japan, have a strong anti-atherosclerotic effect. In this application we will examine the association of serum n-3 fatty acids found in fish with the progression of subclinical atherosclerosis in the US populations and the Japanese in Japan. If our hypothesis were true that n-3 fatty acids found in fish have a strong anti-atherosclerotic effect, especially at high levels observed in Japan, we may be able to reduce coronary heart disease rates in the US dramatically by greatly increasing the intake of n-3 fatty acids found in fish in the general population in the US.\n",
      "--------------------\n",
      "Topic 6:\n",
      "--------------------\n",
      "hiv infection drug new human studies specific develop tissue cell\n",
      "--------------------\n",
      "DESCRIPTION (provided by applicant):  Wound infections are a major medical problem. Bacteria that colonize wounds can delay wound healing and act as a focus for secondary infections. In addition, the use of antibiotics to treat wound infections results in the rapid evolution of antibiotic-resistant strains, which further complicates treatment. Wound infections have a significant impact on health resources and costs. Bacteria that colonize wounds form adherent, multicellular communities known as biofilms. The cells in a biofilm produce an extracellular polymeric matrix that holds the cells together in a mass and firmly attaches the bacterial mass to the wounded tissue. The inherent protective nature of the biofilm matrix makes wound infections difficult to treat. The extracellular matrix of most biofilms contains polymers such as polysaccharides and DNA. Enzymes that degrade biofilm matrix polymers have been shown to inhibit biofilm formation, detach pre-formed biofilms, and sensitize pre-formed biofilms to killing by antibiotics and topical biocides in vitro. Our central hypothesis is that matrix-degrading enzymes will be useful topical agents for the prophylaxis and treatment of wound infections. The objective of the present proposal is to measure the in vivo anti-biofilm activities of two biofilm matrix-degrading enzymes, DispersinB(R) (a glycoside hydrolase) and Pulmozyme(R) (DNase I). The aims of this study are to answer the following questions: (1) Do matrix-degrading enzymes potentiate the ability of topical biocides to eradicate bacterial colonization of non-wounded skin? (2) Do matrix-degrading enzymes potentiate the ability of topical biocides to decontaminate freshly contaminated full-thickness wounds? (3) Do matrix-degrading enzymes potentiate the ability of pulse irrigation treatment to decontaminate freshly contaminated full-thickness wounds? Studies will be carried out using porcine skin colonization and wound contamination models. All experiments will be carried out using the common wound pathogen Staphylococcus aureus. Topical biocides will include povidone iodine and chlorhexidine gluconate. Major outcomes will be CFU/cm2 for skin colonization models and CFU/wound for wound contamination models. The proposed experiments are expected to lead to the development of enzyme-based topical wound care formulations for testing in human clinical trials. The use of enzymes to destroy the physical integrity of the biofilm matrix is an attractive wound treatment strategy because it may reduce or eliminate the need for conventional antibiotics. Project Narrative Bacterial infections are a serious complication of wound injuries. Studies have shown that bacteria growing in infected wounds are surrounded by a layer of sticky material that is referred to as the slime layer. In this project we plan to test whether slime-degrading enzymes can be used to treat and prevent wound infections in pigs. If successful, these slime-degrading enzymes will be incorporated into a topical ointment that can be used to treat and prevent wound infections in people.    PUBLIC HEALTH RELEVANCE: Bacterial infections are a serious complication of wound injuries. Studies have shown that bacteria growing in infected wounds are surrounded by a layer of sticky material that is referred to as the slime layer. In this project we plan to test whether slime-degrading enzymes can be used to treat and prevent wound infections in pigs. If successful, these slime-degrading enzymes will be incorporated into a topical ointment that can be used to treat and prevent wound infections in people.\n",
      "--------------------\n",
      "Topic 7:\n",
      "--------------------\n",
      "brain neural imaging neurons cognitive aim specific disorders studies function\n",
      "--------------------\n",
      "DESCRIPTION (provided by applicant): The brain processes sensory stimuli differently depending on whether an animal is awake or anesthetized. In anesthetized animals no internal cognitive activity influences the brain, and so stimuli are passively received and coded solely for their physical properties. In awake subjects, on the other hand, responses to stimuli are heavily modulated by ongoing mental processes (i.e. attention, expectation). The same stimulus, for instance, is interpreted differently depending on what the animal expects: humans - and their brains - led to expect a mild taste, for instance, can be  fooled  into thinking that a bitter taste is milder than it actually is.  The present proposal is designed to study the neural and systems underpinnings of such phenomena: in particular, the experiments outlined here will address the extent to which expectation influences background activity of the brain and responses to sensory stimuli. The intrinsic rewarding/aversive nature of gustatory stimuli and the importance of food selection for animal survival make taste an ideal sensory system for directly studying the effects of expectation at both the neural and behavioral level.  The experiments proposed will be conducted in awake rats; ensembles of single neurons will be recorded with multiple electrodes implanted in connected areas known to be involved in taste and expectation (GC, orbitofrontal cortex [OFC], basolateral amygdala [BLA]). Two different aspects of expectation will be investigated: generic expectation of an unknown stimulus (a process somewhat analogous to attention) and specific expectation of a known stimulus. For the first, rats will be trained to collect tastes by pressing a lever in response to a tone. In this paradigm, the tone will not provide any information regarding the identity of the taste-it will simply trigger an attentional shift related to the expectation of an unknown stimulus. Expectation of a specific stimulus, on the other hand, will be addressed in another subset of experiments involving the use of two tones, each specifically associated with the availability of a different taste at a press of a lever. In these experiments, the auditory cues will provide information about the specific taste anticipated. Two behavioral tasks will be used to study different aspects of specific expectation: the first task, a go/no-go in which one tone cues the availability of a palatable taste (sucrose or NaCl) and the other a punishment (quinine) at a press of a lever, will reveal the effects of expectation of particular tastes having opposite affective value. The second task, a two tone, two levers task in which each tone is associated with a taste available at a specific lever, relies on tastes with similar palatability. This task will specifically address the effects of expectation for stimuli with similar affective value but different chemical identity. Spontaneous activity, responses to anticipatory cues, and responses to unexpected and expected tastes will be recorded in GC, OFC and BLA to parse the effects of generic and specific expectations on taste processing. Finally, intracranial cannulae will be implanted in OFC and BLA and the contribution of these two areas in modulating GC activity will be studied for the experimental conditions described above.  Understanding the degree to which internal states, such as expectation, shape sensory responses is a central question in the field of sensory neuroscience. The comprehension of how the brain responds to the expectation of tastes will shed light on the complexities of food selection choices of all mammals - including humans - and will provide important information which could potentially be applied to the study of obesity and eating disorders.    PUBLIC HEALTH RELEVANCE: This proposal is designed to understand the neural underpinnings of expectation of incipient taste stimuli. Expectation plays an important role in the perception of food and in its evaluation (Deliza and MacFie 1996; Hurling and Shepherd 2003; Small 2008); as such, this subject has important implications on issues relevant to public health, such as food liking and selection choices. Additionally, understanding the neural basis of expectation is relevant for the study of the neural mechanisms of placebo (Nitschke et al. 2006a; Nitschke et al. 2006b; Sarinopoulos et al. 2006) - a growing field of interest in neuroscience (Petrovic et al. 2005; Ploghaus et al. 1999).\n",
      "--------------------\n",
      "Topic 8:\n",
      "--------------------\n"
     ]
    },
    {
     "name": "stdout",
     "output_type": "stream",
     "text": [
      "project research data new systems high methods develop using based\n",
      "--------------------\n",
      "NONTECHNICAL SUMMARYThis award supports OpenKIM, a cyberinfrastructure component of the research community that uses computer simulations of atoms based on Newton's Laws and models for the interaction between atoms, to attack problems in materials science, engineering, and physics, and to enable the discovery of new materials, design new devices, to advance the understanding of materials-related phenomena, and much more. Recent years have seen significant advancement in the areas of materials knowledge, discovery, and manufacturing methodologies. This includes, for example, the development of graphene (a single atomic layer of carbon atoms, which has exceptional mechanical, thermal, and electrical properties) and the related class of two-dimensional materials with unprecedented material properties now being extensively studied by scientists and engineers. Another example is the advent of three-dimensional printing techniques that allow engineers to design new materials from the ground up that can be tailor-made for their specific application. Computer simulation of materials at the atomic-scale is one of the key enabling technologies driving the current materials revolution. Although the most accurate atomic-scale simulations employ the equations of quantum mechanics, such computations take so long to complete, even on today's powerful computers, that practically they are limited to a few thousands of atoms. This is simply not enough for the study of materials properties, which requires the simulation of interactions between millions and even billions of atoms. Thus, materials researchers rely on faster more approximate equations, known as interatomic models (IMs), to describe atomic interactions. These models are fast, but typically they are only accurate for a restricted range of material properties. This limited range of applicability necessitates the creation of many IMs, even for a single material such as silicon. Organizing, sharing, and evaluating the range of applicability of these IMs has been a long-standing challenge for the materials research community. In most cases researchers have no way of knowing which IM is suitable for their particular application. Further, the proliferation of IMs, often designed to work only with specific simulation programs, makes it difficult to share and exchange IMs, and to reproduce other researchers' work, which is how science evolves and self corrects.The Knowledgebase of Interatomic Models (KIM) is a project that is working to solve these challenges. To date, the KIM project has developed an online framework at https://openkim.org to address the issues of IM provenance, selection, and portability. IMs archived on this website are exhaustively tested and can be used in plug-and-play fashion in a variety of major simulation codes that conform to a standard developed as part of the KIM project. The development activity of the current project will extend the KIM framework by broadening the number and types of supported IMs, and will add new capabilities and educational resources that will make it easy for researchers to integrate the IMs and materials data available on openkim.org into their daily research workflow. Further, emerging techniques in information topology and machine learning will be applied to study and quantify the inherent uncertainty in predictions made by IMs, and to assist materials researchers to select the best IM for their application. Together the development, educational, and research activities of this project are expected to significantly increase the userbase and broader impact of the KIM project. TECHNICAL SUMMARYThis award supports OpenKIM, a community Knowledgebase of Interatomic Models (KIM) for simulation. KIM is a project for normalizing the use of IMs in molecular simulations of materials. An IM, often referred to as a  potential  or  force field,  is an approximate method for computing the energy and its derivatives for an atomic configuration. This project addresses both traditional  physics-based  IMs and the new class of  data-driven  IMs introduced in recent years. In a sustained effort, the KIM project has developed a systematic framework to address the IM provenance, selection, and portability problems faced by materials researchers. Before KIM, these challenges were the cause of significant inefficiencies and inaccuracies in the research pipeline. Today, an IM available on openkim.org is subjected to a rigorous set of  Verification Checks  that aim to ensure that its implementation conforms to a high software-engineering standard, and to an extensive set of  Tests,  each of which computes a well-defined material property for assessing the IM's accuracy. A researcher can come to openkim.org and explore the predictions of KIM Models in comparison with experimental or quantum  Reference Data  to select a suitable IM for their application. The current project is aimed at extending KIM to become an integral component of the workflow of researchers engaged in molecular simulation to make their work more efficient and their results more reliable and reproducible. To achieve this vision, the Principal Investigators (PIs) will pursue the following program of cyberinfrastructure R&D and basic research related to IM usage and science. The cyberinfrastructure R&D will include extensions to KIM standards to support additional common IM features (such as long-range fields) and added support for IMs having cutting-edge features that cannot yet be standardized. Further, KIM will be integrated into existing simulation tools so that researchers may query and retrieve data archived on openkim.org as part of their daily workflow. This approach reduces errors, ensures reproducibility, uses a standard tested method (embodied in a KIM Test) to obtain the desired property, and firmly integrates the KIM framework into the workflow of computational materials researchers. The basic research component of the project includes three research thrusts requiring advances to enhance the reliability of molecular simulations: (1) IM Uncertainty: The PIs will use ideas from information topology and differential geometry to automatically generate IM ensembles for obtaining estimates of the inherent uncertainty of the IM. (2) IM Transferability: The PIs plan to adapt a multi-task machine learning approach to predict an IM's accuracy for different applications. This will lead to a rigorous, objective criterion to assist researchers with IM selection. (3) IM Heuristics: By mining IM predictions and Reference Data archived on openkim.org, it is possible to identify correlations similar to empirical heuristics such as Vegard's rule and connections between microscopic properties and macroscopic features. Detection of such heuristics will provide insights into the limitations of IMs, help design optimal training sets, and lead to better understanding of the properties of IMs generally. In terms of broader impacts, the scope of the KIM project is unusually large - far beyond materials science - due to the prevalence of molecular simulations across the physical sciences from microbiology to geology. The project aims to maximize its impact by (1) expanding the KIM user base, (2) engaging the materials research community directly and through targeted research and educational efforts, and (3) developing new relationships and collaborations with other materials modeling cyberinfrastructures and organizations.This award is jointly supported by the Division of Materials Research in the Directorate for Mathematical and Physical Sciences and the Civil, Mechanical and Manufacturing Innovation Division in the Engineering Directorate.This award reflects NSF's statutory mission and has been deemed worthy of support through evaluation using the Foundation's intellectual merit and broader impacts review criteria.\n",
      "--------------------\n",
      "Topic 9:\n",
      "--------------------\n",
      "health study risk use children social intervention alcohol research data\n",
      "--------------------\n",
      "DESCRIPTION (provided by applicant): Although there are significant and longstanding racial disparities in sexually transmitted infections (STI) among young women, their causal mechanisms are unidentified. Unprotected sex, concurrency, and partner choice are well established risk factors, but they do not account for the differences between racial groups. One factor known to differ significantly by race and correlate strongly with STI risk is incarceration. High rates of incarceration and crime in a community have also been associated with higher STI prevalence in that community. Despite these associations and the dramatic differences in incarceration by race, few researchers have studied both individual- and community-level exposure to incarceration and crime and assessed whether these may partially explain STI disparities among young women. Among young women, incarceration and crime may influence STI risk both directly and indirectly. Interaction with the justice system may directly influence sexual risk behavior or substance use social norms. Following incarceration, an individual may have greater difficulty obtaining social services and gainful employment. Incarceration breaks up existing sexual partnerships and family units, removing and distancing the individual or partner and his/her economic and/or social support. Less direct effects of high incarceration rates in a community may lead to a paucity of eligible males, contributing to women having less power to negotiate condom use or being more tolerant of her partner's concurrency. Ex-offenders may change community social norms and transmit STIs as a result of their own riskier sexual behaviors and increased STI burden. In addition to these direct and indirect effects of incarceration, the confounding individual and community factors which may contribute to the likelihood of incarceration may also contribute to STI acquisition. In short, although the existing literature has repeatedly reported associations between incarceration and STIs, the direct, indirect, and confounding mechanisms have been difficult to tease apart and inadequately addressed to date. By building on relationships with justice system and public health leaders, our interdisciplinary team will link juvenile detention, incarceration, public health and clinical data sources at an individual-level to study incarceration, crime and STIs among young women 14 to 25 years old. The 10-year longitudinal data will help answer whether the association between incarceration and STI is causal or confounding and allow us to investigate further which specific factors of incarceration - timing, duration, indication, and recidivism history - contribute most to STI risk. We will employ geospatial methodologies to examine the effects of community-level incarceration in more depth, using point-level data and different extents of exposure. As different mechanisms may contribute to the spread of various STI differently, we will evaluate Chlamydia, gonorrhea, syphilis, and HIV independently and in combination. Most importantly, we will evaluate how differences in individual- and community-level incarceration and crime may contribute to STI disparities among African American compared to white young women. Specifically, we aim to (1) assess whether the association between incarceration and sexually transmitted infections (STI) is stronger when incarceration precedes first STI; (2) assess whether community incarceration and crime rates are associated with an individual's risk of STI, after accounting for an individual's incarceration history; and (3) assess whether increased risk of STI among minority young women is diminished when accounting for an individual's differential incarceration rate and exposure to community incarceration and crime rates. PUBLIC HEALTH RELEVANCE: As a result of the proposed research, we will better understand the relationship between incarceration, crime and sexually transmitted infection (STI) among young women and whether it contributes to significant racial disparities in STI. With this increased understanding, we will be better able to target resources to individuals and communities in need -during or preceding incarceration, in the community and/or through the justice system. From a public health and health services perspective, this information will aid in guiding policy and individually-targeted action in STI treatment and prevention.\n"
     ]
    }
   ],
   "source": [
    "# View a top document related to a given topic\n",
    "\n",
    "for topic_idx, topic in enumerate(lda_H):\n",
    "    print('--------------------')\n",
    "    print(\"Topic %d:\" % (topic_idx))\n",
    "    print('--------------------')\n",
    "    print(\" \".join([tf_feature_names[i]\n",
    "                    for i in topic.argsort()[:-10 - 1:-1]]))\n",
    "    top_doc_indices = np.argsort(lda_W[:,topic_idx] )[::-1][0:1]\n",
    "    for doc_index in top_doc_indices:\n",
    "        print('--------------------')\n",
    "        print(merged_abstracts_list[doc_index])"
   ]
  },
  {
   "cell_type": "markdown",
   "metadata": {},
   "source": [
    "### NMF method - Non-negative matrix factorization\n",
    "\n",
    "NMF is another model used for topic extraction - while the LDA model uses raw counts of unique words per document, NMF model uses a normalized representation of those raw counts (TF-IDF representation)\n",
    "\n",
    "TF stands for term-frequency and TF-IDF is term-frequency times inverse document-frequency. In other words, we are not only looking for how often a word appears in a given document, but also whether this particular word is distinct across all the collections of documents (corpus). For example, intuitively we understand that words like \"often\" or \"use\" are more frequently encountered, but they are less informative (more semantically-vacuous) if we want to discern a particular topic of a document, as they might be frequently encounter across all text documents in a corpus. On the other hand, words which we will see less frequently across a collection of document might indicate that those words are specific to a particular document, and, therefore, constitute a basis for a topic. \n",
    "\n",
    "More here: \n",
    "\n",
    "- https://scikit-learn.org/stable/modules/decomposition.html#non-negative-matrix-factorization-nmf-or-nnmf\n",
    "- https://scikit-learn.org/stable/modules/generated/sklearn.feature_extraction.text.TfidfVectorizer.html\n",
    "- https://scikit-learn.org/stable/modules/generated/sklearn.feature_extraction.text.TfidfTransformer.html#sklearn.feature_extraction.text.TfidfTransformer"
   ]
  },
  {
   "cell_type": "code",
   "execution_count": 142,
   "metadata": {},
   "outputs": [],
   "source": [
    "# Convert a collection of raw documents to a matrix of TF-IDF features\n",
    "vectorizer = TfidfVectorizer(stop_words='english')\n",
    "tfidf = vectorizer.fit_transform(merged_abstracts_list)\n",
    "\n",
    "# Get feature names\n",
    "vectorizer_feature_names = vectorizer.get_feature_names()\n",
    "\n",
    "# Run the model with 10 topics\n",
    "nmf = NMF(n_components=10).fit(tfidf)\n",
    "\n",
    "nmf_W = nmf.transform(tfidf) # get topics to documents matrix\n",
    "nmf_H = nmf.components_ # get word to topics matrix\n",
    "\n",
    "nmf_W[0]"
   ]
  },
  {
   "cell_type": "code",
   "execution_count": 148,
   "metadata": {},
   "outputs": [
    {
     "name": "stdout",
     "output_type": "stream",
     "text": [
      "Topic 0:\n",
      "----------------------------\n",
      "data project research systems new methods materials computational applications design\n",
      "----------------------------\n",
      "Topic 1:\n",
      "----------------------------\n",
      "training program research trainees faculty clinical biology postdoctoral medicine scientists\n",
      "----------------------------\n",
      "Topic 2:\n",
      "----------------------------\n",
      "cells cell immune stem tumor responses infection il differentiation lung\n",
      "----------------------------\n",
      "Topic 3:\n",
      "----------------------------\n",
      "health care intervention risk children study outcomes treatment patients clinical\n",
      "----------------------------\n",
      "Topic 4:\n",
      "----------------------------\n",
      "hiv infection infected aids viral virus drug transmission prevention antiretroviral\n",
      "----------------------------\n",
      "Topic 5:\n",
      "----------------------------\n",
      "cancer breast tumor prostate tumors cancers clinical patients imaging metastasis\n",
      "----------------------------\n",
      "Topic 6:\n",
      "----------------------------\n",
      "students stem science program research student engineering education graduate learning\n",
      "----------------------------\n",
      "Topic 7:\n",
      "----------------------------\n",
      "brain neural neurons cognitive memory visual synaptic cortex learning cortical\n",
      "----------------------------\n",
      "Topic 8:\n",
      "----------------------------\n",
      "dna gene genes genetic genome expression rna human genomic chromatin\n",
      "----------------------------\n",
      "Topic 9:\n",
      "----------------------------\n",
      "protein proteins signaling membrane function molecular muscle mitochondrial mechanisms aim\n",
      "----------------------------\n"
     ]
    }
   ],
   "source": [
    "# View the list of topics (10 top words per topic)\n",
    "\n",
    "for topic_idx, topic in enumerate(nmf_H):\n",
    "    print(\"Topic %d:\" % (topic_idx))\n",
    "    print('----------------------------')\n",
    "    print(\" \".join([vectorizer_feature_names[i]\n",
    "                for i in topic.argsort()[:-10 - 1:-1]]))\n",
    "    print('----------------------------')"
   ]
  },
  {
   "cell_type": "code",
   "execution_count": 149,
   "metadata": {},
   "outputs": [
    {
     "name": "stdout",
     "output_type": "stream",
     "text": [
      "--------------------\n",
      "Topic 0:\n",
      "--------------------\n",
      "data project research systems new methods materials computational applications design\n",
      "--------------------\n",
      "Recent revolutions in data availability have radically altered activities across many fields within science, industry, and government. For instance, contemporary simulations medication properties can require the computational power of entire data centers, and recent efforts in astronomy will soon generate the largest image datasets in history. In such extreme environments, the only viable path forward for scientific discovery hinges on the development and exploitation of next-generation computational cyberinfrastructure of supercomputers and software. The development of this new computational infrastructure demands significant engineering resources, so it is paramount to maximize the infrastructure's potential for high impact and wide adoption across as many technical domains as possible. Unfortunately, despite this necessity, existing development processes often produce software that is limited to specific hardware, or requires additional expertise to use properly, or is overly specialized to a specific problem domain. Such  single-use  software tools are limited in scope, leading to underutilization by the wider scientific community. In contrast, this project seeks to develop methods and software for computer-based scientific analysis that are sufficiently powerful, flexible and accessible to (i) enable domain experts to achieve significant advancements within their domains, and (ii) enable innovative use of advanced computational techniques in unexpected scientific, technological and industrial applications. This project will apply these tools to a wide variety of specific scientific challenges faced by various research teams in astronomy, medicine, and energy management. These teams plan on using the proposed work to map out new star systems, develop new life-saving medications, and design new power systems that will deliver more energy to a greater number of homes and businesses at a lower cost than existing systems. Finally, this project will seek to leave a legacy of sustained societal benefit by educating students and practitioners in the broader scientific and engineering communities via exposure to state-of-the-art computational techniques. Through close collaboration with research teams in statistical astronomy, pharmacometrics, power systems optimization, and high-performance computing, this project will deliver cyberinfrastructure that will effectively and effortlessly enable the next generation of computer-based scientific analysis and discovery. To ensure the practical applicability of the developed cyberinfrastructure, the project will focus on three target scientific applications: (i) economically viable decarbonization of electrical power networks, (ii) real-time analysis of extreme-scale astronomical image data, and (iii) pharmacometric modeling and simulation for drug analysis and discovery. While tackling these specific problems will constitute an initial stress test of the proposed cyberinfrastructure, it is the ultimate goal of the project that the developed tools be sufficiently performant, accessible, composable, flexible and adaptable to be applied to the widest possible range of problem domains. To achieve this vision, the project will build and improve various software tools for computational optimization, machine learning, parallel computing, and model-based simulation. Particular attention will be paid to the proposed cyberinfrastructure's composability with new and existing tools for scientific analysis and discovery. The pursuit of these goals will require the design and implementation of new programming language abstractions to allow close integration of high-level language features with low-level compiler optimizations. Furthermore, maximally exploiting proposed cyberinfrastructure will require research into new methods that combine state-of-the-art techniques from optimization, machine learning, and high-performance computing.This award reflects NSF's statutory mission and has been deemed worthy of support through evaluation using the Foundation's intellectual merit and broader impacts review criteria.\n",
      "--------------------\n",
      "Topic 1:\n",
      "--------------------\n",
      "training program research trainees faculty clinical biology postdoctoral medicine scientists\n",
      "--------------------\n",
      "DESCRIPTION (provided by applicant): The University of Washington (UW) program trains physician-scientists and post-doctoral PhD scientists to perform clinically-relevant research in pulmonary and critical care medicine. An interdisciplinary approach is used to prepare trainees for academic careers characterized by independently funded research and a commitment to training others. The program is distinguished by the quality and expertise of the training faculty,the integration of multiple disciplines and diverse research methodologies, and achievements in developing successful scientists. Research training is conducted through two primary pathways: Basic Science and Clinical Outcomes. Within each pathway, experienced and committed mentors provide a rich range of research opportunities, a research study group exposes the trainee to a broader range of methodology and research topics, and didactic course work enriches the research training experience. The Basic Science pathway provides trainees with the opportunity to master a wide- variety of cutting edge research methodologies and techniques. The Clinical Outcomes pathway generally includes completion of an MPH or MSc program in either the Department of Epidemiology or Health Services. Training in translational research occurs at the confluence of the two pathways, with select trainees beginning in one of the primary training pathways and receiving cross-training in the other. Translational training is further supported through tailored mentoring committees and research projects. The program has developed and articulated core principles of mentoring that are used to guide and rigorously evaluate training. Though a commitment to continuously review and improve our program, the training program has kept pace with advancing biomedical research and needs of our trainees.  The program features a structured process to aid fellows in selecting research mentors and projects. Prior to beginning research training, trainees 1) are counseled by training faculty leadership, 2) participate in a senior fellow driven research symposium and 3) have a week in the fall during which they are relieved of all clinical responsibilities to conduct interviews withpotential mentors. Once in the research training program, mentoring committees track the fellows' progress in several forums, including informally at laboratory meetings as well as in more structure research groups, a UW-wide pulmonary research conference and at regional and national meetings. Training includes instruction in manuscript and grant writing and a review process for research presentations. A series of evaluation metrics have been developed and implemented to monitor progress of the trainees, mentors, and program leadership.\n",
      "--------------------\n",
      "Topic 2:\n",
      "--------------------\n",
      "cells cell immune stem tumor responses infection il differentiation lung\n",
      "--------------------\n",
      "Project Summary B cells are important for the generation of protective immunity and function at multiple discrete stages. The unique role that B cells play as antibody-producing cells is appreciated, however the other functions of B cells as antigen presenting cells, lymphoid tissue organizers and cytokine-producing effector or regulatory cells are much less understood and rarely studied. Recent work from our lab showed that cytokine producing effector B cells play crucial roles in the development of protective humoral and cellular immunity to infectious agents. We therefore hypothesized that there are specialized populations of B cells that have the ability to secrete cytokines and regulate immune responses. To address this hypothesis, we developed an in vitro culture system using primary mouse B cell to generate different classes of cytokine producing effector B cells. We characterized these in vitro generated cells and found markers that we subsequently used to identify the cytokine producing B cell subpopulations in vivo. For example, using markers identified in our in vitro cultures, we can now identify IFN&#947; producing B cell effectors in vivo and showed that these B cells are specifically induced in response to influenza infection and are elevated in number in some mouse models of autoimmunity. Thus, this approach has allowed us for the first time to visualize B cell effectors in vivo and has opened the door to functional and mechanistic studies that will reveal the roles for these cells in infectious and autoimmune disease. Despite the significant progress that we have made in our studies of mouse effector B cells, little is known about their human B cell counterparts. In fact, only very rudimentary studies have been conducted to date with human B cells. From these limited studies it is clear that human B cells have the potential to make cytokines under some stimulation conditions. However, these studies have been conducted with bulk peripheral blood B cells, thus the effector human B cells subsets remain to be identified. The goals of this proposal are to (i) to develop an in vitro culture system to phenotypically and functionally characterize human effector B cells and (ii) To use the information that we have obtained from the in vitro cultures to identify effector B cells in samples from healthy and autoimmune individuals.\n",
      "--------------------\n",
      "Topic 3:\n",
      "--------------------\n",
      "health care intervention risk children study outcomes treatment patients clinical\n",
      "--------------------\n",
      "DESCRIPTION (provided by applicant): This application for a randomized trial to evaluate a health behavior intervention for reducing health risk behaviors and promoting health in adolescents with major depressive disorder (MDD) is being submitted in response to RFA-MH-06-002 inviting research on health behavior change in mental disorders modeled from HIV interventions. MDD in adolescence is a common and impairing disorder which leads to significant disability, morbidity, and mortality. Health risk behaviors are frequently comorbid with adolescent MDD, adding to the personal, social, and societal burden of the disorder. Effective interventions for reducing health risk behavior in adolescent MDD are important for preventing negative health consequences and improving both health and mental health outcomes. The proposal builds on our group's expertise in behavioral interventions for HIV prevention (Rotheram-Borus) and primary care interventions for depressed adolescents (Asarnow). We will enroll 300 adolescents with MDD identified through screening at the time of a primary care visit. Adolescents will be randomized to either 1) the health behavior intervention, or 2) usual care. The intervention targets four major areas of health risk behavior: tobacco use; alcohol and drug use; sexual activity; and obesity. Based on our prior HIV preventive interventions and our work integrating behavioral interventions for adolescent depression within primary health care services, the intervention employs a collaborative care model, with a Care Manager supporting the primary care provider and delivering a 10-session cognitive-behavioral health education intervention aimed at reducing health risk behaviors and promoting and maintaining positive health behaviors. Like successful HIV prevention programs, the intervention addresses multiple risk factors simultaneously, intervenes at multiple system levels (individual, family, organization), and emphasizes linking youth to care. Outcomes are monitored at baseline and at 6 and 12-month follow-ups. We hypothesize that adolescents randomized to the intervention, compared to adolescents in usual care, will have fewer health risk behaviors (our primary outcome) and improved secondary outcomes (depression, satisfaction with care, and quality of life/functioning). Results will provide critical guidance to the field regarding strategies for improving health and reducing health risk behaviors in adolescents with MDD.\n",
      "--------------------\n",
      "Topic 4:\n",
      "--------------------\n"
     ]
    },
    {
     "name": "stdout",
     "output_type": "stream",
     "text": [
      "hiv infection infected aids viral virus drug transmission prevention antiretroviral\n",
      "--------------------\n",
      "DESCRIPTION (provided by applicant): The overarching goals of our renewal proposal are to develop an integrated program to further our ability to provide evidenced-based, potent antiretroviral therapy (ART) to patients with HIV-2 infection. Compared to HIV-1, HIV-2 infection is characterized by a longer asymptomatic stage, lower plasma viral loads, slower decline in CD4 count, decreased mortality rate due to AIDS, lower rates of mother to child transmission, and lower rates genital shedding and sexual transmission. In West Africa, where both HIV-1 and HIV-2 co- circulate, between 1-2 million individuals are infected with HIV-2 and a significant proportion are co-infected with both HIV-1 and HIV-2. Despite the relatively attenuated disease course of HIV-2, a significant minority of untreated individuals will progress to clinical AIDS or death without ART and as will the majority of those dually infected with HIV-1 and HIV-2. Through local and global initiatives, antiretroviral therapy is becoming increasingly available in resource-limited West Africa. Because HIV-2 is intrinsically resistant to non-nucleoside reverse transcriptase inhibitors and may have partial resistance to some protease inhibitors (PI), treating HIV-2 and HIV-1/HIV-2 dual infection presents distinct challenges. This is especially problematic in resource-limited settings where there is limited choice and availability of 1st- line NRTI-PI based regimens as well as subsequent 2nd- line and salvage regimens in those individuals with clinical progression, immuno-virologic failure or antiretroviral (ARV) toxicities. During the initial period of our grant proposal we (and others) have made substantial progress in furthering our understanding ART for HIV-2 in ARV-naove adults as well as HIV-2 ARV-resistance. However, to date, we remain largely ignorant about the long-term outcomes of ART in HIV-2 infected people, we are in urgent need for assessment of new classes antiretrovirals for HIV-2 and we lack even rudimentary studies on ARV-regimens to treat HIV-1/HIV-2 dual infection, or whether ARV treatment outcomes using NRTI-PI based regimens are different than HIV-2 single infection. Our Renewal proposal has the following specific aims: AIM 1: Long-term outcomes of ART for HIV-2 infection in Senegal: Determine long- term HIV/AIDS associated outcomes and ARV-associated complications in HIV-2 infected individuals treated with ART for >2 years. Assessment of the frequency, causes and outcomes of switching to 2nd line and salvage ARV regimens for HIV-2 infection. AIM 2: To determine the potential utility and susceptibility of HIV-2 to new ARV classes: the integrase inhibitors and the CCR5 co-receptor entry inhibitors. AIM 3: To compare the clinical, virologic and immunologic outcomes associated with ART using NRTI+PI based regimens in a longitudinal prospective cohort of 50 HIV-1/HIV-2 dually infected ARV-naove subjects and a longitudinal prospective cohort of 50 HIV-2 ARV-naove singly infected subjects. Our Renewal proposal will build on a strong ongoing collaboration between the University of Washington and the Universite Cheikh Anta Diop de Dakar, Senegal to further our understanding and provide evidence-based ART and care for HIV-2 infected people.  PUBLIC HEALTH RELEVANCE: In West Africa, two distinct AIDS viruses (HIV-1 and HIV-2) are found, and some people become infected by both types. Because HIV-1 and HIV-2 infection have different natural histories (with HIV-2 being less aggressive) and different antiretroviral drug susceptibilities (with HIV-2 being more drug resistant), treatment for HIV-2 and dual HIV-1/HIV-2 infection is clinically challenging. Understanding how to better treat HIV-2 and dual HIV-1/HIV-2 infection is an import public health priority in West Africa.\n",
      "--------------------\n",
      "Topic 5:\n",
      "--------------------\n",
      "cancer breast tumor prostate tumors cancers clinical patients imaging metastasis\n",
      "--------------------\n",
      "The SEER Program was initiated in 1972 in response to requirements of the National Cancer Program for assessing the magnitude of the cancer burden in the United States, and for identifying factors related to cancer risk and/or patient survival. The SEER Program has among its objectives: 1. \tTo assemble and report, on a periodic basis, estimates of cancer incidence, especially among the following key cancer sites: breast cancer, lung cancer, colorectal cancer, prostate cancer, pancreatic cancer, and urinary bladder cancer.2. \tTo monitor annual cancer incidence trends to identify unusual changes in specific forms of cancer occurring in population subgroups defined by geographic, demographic, and social characteristics. 3. \tTo provide continuing information on changes over time in extent of disease at diagnosis, trends in therapy, and changes in cancer patient survival. 4. \tTo identify the occurrence of possible iatrogenic cancers, i.e., cancers that are caused by cancer therapy. 5. \tTo serve as a research resource to the National Cancer Institute, and conduct studies dealing with current cancer control issues as well as problems related to the operation of the SEER Program.\n",
      "--------------------\n",
      "Topic 6:\n",
      "--------------------\n",
      "students stem science program research student engineering education graduate learning\n",
      "--------------------\n",
      "The Historically Black Colleges and Universities Undergraduate Program (HBCU-UP) through Targeted Infusion Projects supports the development, implementation, and study of evidence-based innovative models and approaches for improving the preparation and success of HBCU undergraduate students so that they may pursue STEM graduate programs and/or careers. The project at Kentucky State University seeks to undertake institutional reform and establish transformational strategies to strengthen and enhance STEM teaching, learning, and research and to improve students' access to and retention in STEM programs. Kentucky State University enrolls a significant number of students from groups underrepresented in STEM - minority students, low-income students, and non-traditional students, such as home-schooled students and students returning to college.The project seeks to enhance the teaching pedagogies and research capacity in STEM fields, fostering a competitive learning and research environment, and developing new project-based and inquiry-based curricula and programs that will provide academic support to the students. The specific objectives of the project are to: 1) increase the enrollment of students into the STEM programs; 2) develop experiential research projects to enhance students' opportunities in a broad range of scientific inquiry; 3) enhance STEM curricula to address the diverse backgrounds and learning styles of the students; and 4) develop student retention, faculty development, and research enhancement programs. The project is projected to impact 250 students at Kentucky State University, as well as 60 pre-college or high school students.\n",
      "--------------------\n",
      "Topic 7:\n",
      "--------------------\n",
      "brain neural neurons cognitive memory visual synaptic cortex learning cortical\n",
      "--------------------\n",
      "DESCRIPTION (provided by applicant): Over the past 50 years a tremendous amount has been learned about how neurons in different parts of the brain respond to incoming sensory signals and send out commands to move our bodies. Despite these achievements, we are far from a complete understanding of brain function and alleviation of most brain disorders. A fundamental challenge that must be addressed is the need to study the system simultaneously at more than one scale. On the one hand, it is essential that processing by single neurons be understood. Yet it is also critical to elucidate the ways in which information is distributed across neurons and brain areas and integrated to give rise to unitary percepts and motor acts. Microelectrode recordings of individual neurons are highly  local ; it is difficult to extrapolate from single cell recordings to interacting populations. On the other hand, whole brain imaging techniques such as functional magnetic resonance imaging (fMRI) sacrifice both spatial and temporal resolution to achieve their global view. While such methods have helped reveal patterns of brain activity associated with various perceptual or motor states, the loss in spatial resolution (millimeters vs. microns) and temporal resolution (seconds vs. milliseconds), while good for human brain imaging, make direct examination of neural circuits by these more global techniques extremely difficult. This application seeks funding to obtain a state-of-the-art recording system that will bridge the local-global gap. The device gives the capability to record simultaneously from hundreds of individual neurons. At the same time, because there are two synchronized recording subsystems, it is possible to examine brain activity and interactions between populations of neurons in any two areas of the brain. The neural activity to be studied by the major users is patterns spread across individual visual and motor areas of cerebral cortex, patterns between two visual or two motor areas, and patterns between a visual area and a motor area. The experiments will be conducted using non-human primates trained to perform visual and/or motor tasks. Two microelectrode arrays, each holding 100 electrodes will be implanted in brain regions of particular interest. Recordings will be made while animals perform trained tasks. The data will reveal single-cell spiking and LFP relationships with perception and behavior, temporal relationships between active neurons, and the relationships between areas within and between the visual and motor systems. These studies, made possible by the shared instrument, will lead to major advances in our understanding of visual perception, motor coding, and visuo-motor integration for behavior. It is this type of information that is critical if one is to alleviate brain disorders associated with trauma or disease.\n",
      "--------------------\n",
      "Topic 8:\n",
      "--------------------\n"
     ]
    },
    {
     "name": "stdout",
     "output_type": "stream",
     "text": [
      "dna gene genes genetic genome expression rna human genomic chromatin\n",
      "--------------------\n",
      "DESCRIPTION (provided by applicant): Most psychiatric disorders are not due to mutations in a single gene but rather involve cellular pathways under control of many genes and molecular signals. Recent studies point to the fact that complex epigenetic mechanisms regulating gene activity 'above' the genetic nucleotide sequence may be involved as well. The best understood mechanism of epigenetic modification is DNA methylation. In this genome-wide study we will examine the role of DNA methylation in schizophrenia susceptibility. Our study consists of a genome-wide discovery and replication phase to identify CpG loci in the human genome that are under epigenetic control and involved in disease susceptibility, followed by locus-specific validation in large schizophrenia cohorts. Our systematic approach for identifying candidate CpG loci involved in disease also includes study of general features of DNA methylation such as age, gender and genetic controls. The genome-wide effort with comparative analyses of multiple brain regions of patients and controls will provide a unique opportunity to establish what role DNA methylation plays in vulnerability to develop schizophrenia and perhaps other psychiatric traits. Public Health Relevance: Biochemical modifications of DNA and chromosome structure provide heritable information that is not encoded in the DNA sequence itself, but is likely to play a role in disease susceptibility. We will screen the human genome of schizophrenia patients and unaffected control subjects in order to identify these sites involved in disease. This will lead to a better understanding of the genetic basis of schizophrenia.\n",
      "--------------------\n",
      "Topic 9:\n",
      "--------------------\n",
      "protein proteins signaling membrane function molecular muscle mitochondrial mechanisms aim\n",
      "--------------------\n",
      "DESCRIPTION (provided by applicant): G proteins ¿? subunits play a central role in G-protein coupled receptor (GPCR)-mediated signal transduction. They act as cofactors in the receptor-mediated activation process as well as playing direct roles in signal transfer to downstream targets. Considerable data has accumulated in number of systems that excess ¿? signaling has pathological consequences and that manipulation of ¿? subunit signaling could be an effective therapeutic strategy in heart failure as well as other diseases. We developed a novel targeting strategy for selective manipulation of G protein ¿? subunit signaling pathways by selectively blocking ¿? -subunit binding interactions with functional protein partners using small molecules. In the previous funding period we defined the binding modes for several compounds by surface plasmon resonance (SPR) coupled with site directed mutagenesis and solved the co-crystal structure of M201 bound to the hot spot of G¿?. These data confirmed a direct mechanism for binding to G¿? that influences protein-protein interactions and support our overall hypothesis that small molecules selectively modulate downstream effectors signaling by binding to different subsites on the G¿? hotspot. Additionally, we published results demonstrating efficacy and specificity of these compounds in cellular and animal models of heart failure, inflammation and morphine- dependent analgesia. In the experiments proposed in this application we will continue to explore the fundamental mechanisms underlying binding and selectivity of these ¿? binding compounds. Specific aim 1 will focus on mutagenesis and x-ray crystallography to identify multiple binding modes within the G¿? hotspot that contribute to selectivity. Specific aim 2 will explore the mechanism for compound-dependent G¿? subunit activation. Specific aim 3 will explore specificity and mechanism of action in intact cells. Successful completion of the proposed experiments will lead to a thorough understanding of a the mechanism of action of a new family of molecules that target G23 signaling that have potential uses in dissecting the mechanisms of action of GPCR stimulated signaling and providing the basis for novel therapeutic approaches.  PUBLIC HEALTH RELEVANCE: G protein coupled receptors (GPCRs) are a major class of transmembrane receptors responsible for recognition of a large class of diverse ligands. Here we propose investigation of selective small molecule inhibitors of G protein ¿? subunits identified in our laboratory which could be used to inhibit multiple GPCRs and modify actions of existing GPCR directed pharmaceuticals. Results of these experiments will help to validate this alternate approach to modification of signaling pathways downstream of GPCRs that could ultimately lead to development of novel therapeutics.\n"
     ]
    }
   ],
   "source": [
    "# View a top document related to a given topic\n",
    "\n",
    "for topic_idx, topic in enumerate(nmf_H):\n",
    "    print('--------------------')\n",
    "    print(\"Topic %d:\" % (topic_idx))\n",
    "    print('--------------------')\n",
    "    print(\" \".join([vectorizer_feature_names[i]\n",
    "                    for i in topic.argsort()[:-10 - 1:-1]]))\n",
    "    top_doc_indices = np.argsort(nmf_W[:,topic_idx] )[::-1][0:1]\n",
    "    for doc_index in top_doc_indices:\n",
    "        print('--------------------')\n",
    "        print(merged_abstracts_list[doc_index])"
   ]
  },
  {
   "cell_type": "markdown",
   "metadata": {},
   "source": [
    "### Choosing results"
   ]
  },
  {
   "cell_type": "markdown",
   "metadata": {},
   "source": [
    "By comparing the outputs of LDA and NMF models, the results of NMF model appear to be more coherent within one topic and also in relation to the context of documents associated with it. Therefore, we will take the top 10 topics from the NMF model output, and we will map results back to the abstracts to identify top 5 topics per university"
   ]
  },
  {
   "cell_type": "code",
   "execution_count": 150,
   "metadata": {},
   "outputs": [
    {
     "name": "stdout",
     "output_type": "stream",
     "text": [
      "Topic 0:\n",
      "data project research systems new methods materials computational applications design\n",
      "----------------------------\n",
      "Topic 1:\n",
      "training program research trainees faculty clinical biology postdoctoral medicine scientists\n",
      "----------------------------\n",
      "Topic 2:\n",
      "cells cell immune stem tumor responses infection il differentiation lung\n",
      "----------------------------\n",
      "Topic 3:\n",
      "health care intervention risk children study outcomes treatment patients clinical\n",
      "----------------------------\n",
      "Topic 4:\n",
      "hiv infection infected aids viral virus drug transmission prevention antiretroviral\n",
      "----------------------------\n",
      "Topic 5:\n",
      "cancer breast tumor prostate tumors cancers clinical patients imaging metastasis\n",
      "----------------------------\n",
      "Topic 6:\n",
      "students stem science program research student engineering education graduate learning\n",
      "----------------------------\n",
      "Topic 7:\n",
      "brain neural neurons cognitive memory visual synaptic cortex learning cortical\n",
      "----------------------------\n",
      "Topic 8:\n",
      "dna gene genes genetic genome expression rna human genomic chromatin\n",
      "----------------------------\n",
      "Topic 9:\n",
      "protein proteins signaling membrane function molecular muscle mitochondrial mechanisms aim\n",
      "----------------------------\n"
     ]
    }
   ],
   "source": [
    "# View 10 topics returned by the NMF model again\n",
    "\n",
    "for topic_idx, topic in enumerate(nmf_H):\n",
    "    print(\"Topic %d:\" % (topic_idx))\n",
    "    print(\" \".join([vectorizer_feature_names[i]\n",
    "                for i in topic.argsort()[:-10 - 1:-1]]))\n",
    "    print('----------------------------')"
   ]
  },
  {
   "cell_type": "code",
   "execution_count": 152,
   "metadata": {},
   "outputs": [],
   "source": [
    "# Create topic names from the word lists above\n",
    "\n",
    "topics_names = pd.DataFrame()\n",
    "topics_names['topic'] = [0,1,2,3,4,5,6,7,8,9]\n",
    "topics_names['topic_name'] = ['computational methods/research systems','training programs','cell research','health care','HIV','cancer','STEM education','brain/neural','DNA/genes','protein/molecular']"
   ]
  },
  {
   "cell_type": "code",
   "execution_count": 153,
   "metadata": {
    "scrolled": true
   },
   "outputs": [
    {
     "data": {
      "text/html": [
       "<div>\n",
       "<style scoped>\n",
       "    .dataframe tbody tr th:only-of-type {\n",
       "        vertical-align: middle;\n",
       "    }\n",
       "\n",
       "    .dataframe tbody tr th {\n",
       "        vertical-align: top;\n",
       "    }\n",
       "\n",
       "    .dataframe thead th {\n",
       "        text-align: right;\n",
       "    }\n",
       "</style>\n",
       "<table border=\"1\" class=\"dataframe\">\n",
       "  <thead>\n",
       "    <tr style=\"text-align: right;\">\n",
       "      <th></th>\n",
       "      <th>topic</th>\n",
       "      <th>topic_name</th>\n",
       "    </tr>\n",
       "  </thead>\n",
       "  <tbody>\n",
       "    <tr>\n",
       "      <th>0</th>\n",
       "      <td>0</td>\n",
       "      <td>computational methods/research systems</td>\n",
       "    </tr>\n",
       "    <tr>\n",
       "      <th>1</th>\n",
       "      <td>1</td>\n",
       "      <td>training programs</td>\n",
       "    </tr>\n",
       "    <tr>\n",
       "      <th>2</th>\n",
       "      <td>2</td>\n",
       "      <td>cell research</td>\n",
       "    </tr>\n",
       "    <tr>\n",
       "      <th>3</th>\n",
       "      <td>3</td>\n",
       "      <td>health care</td>\n",
       "    </tr>\n",
       "    <tr>\n",
       "      <th>4</th>\n",
       "      <td>4</td>\n",
       "      <td>HIV</td>\n",
       "    </tr>\n",
       "    <tr>\n",
       "      <th>5</th>\n",
       "      <td>5</td>\n",
       "      <td>cancer</td>\n",
       "    </tr>\n",
       "    <tr>\n",
       "      <th>6</th>\n",
       "      <td>6</td>\n",
       "      <td>STEM education</td>\n",
       "    </tr>\n",
       "    <tr>\n",
       "      <th>7</th>\n",
       "      <td>7</td>\n",
       "      <td>brain/neural</td>\n",
       "    </tr>\n",
       "    <tr>\n",
       "      <th>8</th>\n",
       "      <td>8</td>\n",
       "      <td>DNA/genes</td>\n",
       "    </tr>\n",
       "    <tr>\n",
       "      <th>9</th>\n",
       "      <td>9</td>\n",
       "      <td>protein/molecular</td>\n",
       "    </tr>\n",
       "  </tbody>\n",
       "</table>\n",
       "</div>"
      ],
      "text/plain": [
       "   topic                              topic_name\n",
       "0      0  computational methods/research systems\n",
       "1      1                       training programs\n",
       "2      2                           cell research\n",
       "3      3                             health care\n",
       "4      4                                     HIV\n",
       "5      5                                  cancer\n",
       "6      6                          STEM education\n",
       "7      7                            brain/neural\n",
       "8      8                               DNA/genes\n",
       "9      9                       protein/molecular"
      ]
     },
     "execution_count": 153,
     "metadata": {},
     "output_type": "execute_result"
    }
   ],
   "source": [
    "topics_names"
   ]
  },
  {
   "cell_type": "markdown",
   "metadata": {},
   "source": [
    "## Creating a finalized dataset"
   ]
  },
  {
   "cell_type": "markdown",
   "metadata": {},
   "source": [
    "### Number of grants per university"
   ]
  },
  {
   "cell_type": "code",
   "execution_count": 154,
   "metadata": {},
   "outputs": [],
   "source": [
    "grants_per_university_full = projects.merge(projects_ipeds_combined,on=['PROJECT_ID',' ORGANIZATION_NAME'])\n",
    "\n",
    "grants_per_university = grants_per_university_full.groupby(['UNITID',' ORGANIZATION_NAME'])[' PROJECT_NUMBER'].count().reset_index()\n",
    "\n",
    "grants_per_university = grants_per_university.rename(columns={' PROJECT_NUMBER':'#grants'})\n",
    "\n",
    "grants_per_university.sort_values('#grants',ascending=False).head(10)"
   ]
  },
  {
   "cell_type": "markdown",
   "metadata": {},
   "source": [
    "### Top 5 topics by %grants"
   ]
  },
  {
   "cell_type": "code",
   "execution_count": 242,
   "metadata": {},
   "outputs": [],
   "source": [
    "# Get the index of documents and topic weights per document\n",
    "topics_probabilities = []\n",
    "for index,i in enumerate(nmf_W): # for every document\n",
    "    topics_probabilities.append([i, index]) # get all topic weights\n",
    "\n",
    "topics_list_dataframe = pd.DataFrame(topics_probabilities)\n",
    "topics_list_dataframe = topics_list_dataframe.rename(columns={0:'topic',1:'index'})\n",
    "merged_abstracts = merged_abstracts.reset_index()\n",
    "merged_topics_abstracts = merged_abstracts.merge(topics_list_dataframe,on='index')\n",
    "\n",
    "merged_topics_abstracts[[0,1,2,3,4,5,6,7,8,9]] = merged_topics_abstracts['topic'].apply(pd.Series)\n",
    "\n",
    "topics_per_grant = grants_per_university_full.merge(merged_topics_abstracts,on=['PROJECT_ID','UNITID',' ORGANIZATION_NAME'])\n",
    "\n",
    "topics_per_grant_university = topics_per_grant.groupby(['UNITID',' ORGANIZATION_NAME'])[[0,1,2,3,4,5,6,7,8,9]].sum().reset_index()\n",
    "topics_weights = pd.melt(frame=topics_per_grant_university, id_vars=['UNITID',' ORGANIZATION_NAME'],value_vars=[0,1,2,3,4,5,6,7,8,9],var_name='topic',value_name='weight')\n",
    "topics_weights_sorted = topics_weights.sort_values([' ORGANIZATION_NAME','weight'],ascending=False)\n",
    "topics_weights_top_five = topics_weights_sorted.groupby(['UNITID',' ORGANIZATION_NAME']).head(5)\n",
    "topics_weights_top_five.head()\n",
    "\n",
    "top_five_topics_by_grants = topics_weights_top_five.merge(topics_names,on='topic')\n",
    "\n",
    "top_five_topics_by_grants = top_five_topics_by_grants.groupby(['UNITID',' ORGANIZATION_NAME'])['topic_name'].apply(list).reset_index()\n",
    "top_five_topics_by_grants = top_five_topics_by_grants.rename(columns={'topic_name':'top_5_topics_grants'})\n",
    "\n",
    "top_five_topics_by_grants.head()"
   ]
  },
  {
   "cell_type": "markdown",
   "metadata": {},
   "source": [
    "### Top 5 topics by %dollars"
   ]
  },
  {
   "cell_type": "code",
   "execution_count": 235,
   "metadata": {},
   "outputs": [],
   "source": [
    "topics_per_grant_dollars = topics_per_grant[['UNITID',' ORGANIZATION_NAME',' PROJECT_NUMBER',' FY_TOTAL_COST',0,1,2,3,4,5,6,7,8,9]]\n",
    "\n",
    "def multiply(row):\n",
    "    total_cost = row[' FY_TOTAL_COST']\n",
    "    topic_0 = row[0]\n",
    "    topic_1 = row[1]\n",
    "    topic_2 = row[2]\n",
    "    topic_3 = row[3]\n",
    "    topic_4 = row[4]\n",
    "    topic_5 = row[5]\n",
    "    topic_6 = row[6]\n",
    "    topic_7 = row[7]\n",
    "    topic_8 = row[8]\n",
    "    topic_9 = row[9]\n",
    "    return total_cost*topic_0,total_cost*topic_1,total_cost*topic_2,total_cost*topic_3,total_cost*topic_4,total_cost*topic_5,total_cost*topic_6,total_cost*topic_7,total_cost*topic_8,total_cost*topic_9\n",
    "\n",
    "topics_per_grant_dollars[0,1,2,3,4,5,6,7,8,9] = topics_per_grant_dollars.apply(multiply,axis=1)\n",
    "\n",
    "topics_per_grant_dollars[[0,1,2,3,4,5,6,7,8,9]] = topics_per_grant_dollars[(0,1,2,3,4,5,6,7,8,9)].apply(pd.Series)\n",
    "\n",
    "topics_dollars_university = topics_per_grant_dollars.groupby(['UNITID',' ORGANIZATION_NAME'])[[0,1,2,3,4,5,6,7,8,9]].sum().reset_index()\n",
    "topics_weights_dollars = pd.melt(frame=topics_dollars_university, id_vars=['UNITID',' ORGANIZATION_NAME'],value_vars=[0,1,2,3,4,5,6,7,8,9],var_name='topic',value_name='weight')\n",
    "topics_weights_dollars_sorted = topics_weights_dollars.sort_values([' ORGANIZATION_NAME','weight'],ascending=False)\n",
    "topics_weights_dollars_top_five = topics_weights_dollars_sorted.groupby(['UNITID',' ORGANIZATION_NAME']).head(5)\n",
    "\n",
    "top_five_topics_by_dollars = topics_weights_dollars_top_five.merge(topics_names,on='topic')\n",
    "\n",
    "top_five_topics_by_dollars = top_five_topics_by_dollars.groupby(['UNITID',' ORGANIZATION_NAME'])['topic_name'].apply(list).reset_index()\n",
    "top_five_topics_by_dollars = top_five_topics_by_dollars.rename(columns={'topic_name':'top_5_topics_dollars'})\n",
    "\n",
    "top_five_topics_by_dollars.head()"
   ]
  },
  {
   "cell_type": "markdown",
   "metadata": {},
   "source": [
    "### Finalized dataset"
   ]
  },
  {
   "cell_type": "code",
   "execution_count": 271,
   "metadata": {},
   "outputs": [],
   "source": [
    "finalized_dataset = grants_per_university.merge(top_five_topics_by_grants,on=['UNITID',' ORGANIZATION_NAME']).merge(top_five_topics_by_dollars,on=['UNITID',' ORGANIZATION_NAME'])\n",
    "\n",
    "finalized_dataset"
   ]
  },
  {
   "cell_type": "code",
   "execution_count": null,
   "metadata": {},
   "outputs": [],
   "source": [
    "#Question about individual universities:\n",
    "#auburnuniversityatmontgomery\n",
    "#auburnuniversityatauburn\n",
    "#auburnuniversiymaincampus"
   ]
  }
 ],
 "metadata": {
  "kernelspec": {
   "display_name": "Python 3",
   "language": "python",
   "name": "python3"
  },
  "language_info": {
   "codemirror_mode": {
    "name": "ipython",
    "version": 3
   },
   "file_extension": ".py",
   "mimetype": "text/x-python",
   "name": "python",
   "nbconvert_exporter": "python",
   "pygments_lexer": "ipython3",
   "version": "3.7.3"
  },
  "toc": {
   "base_numbering": 1,
   "nav_menu": {},
   "number_sections": true,
   "sideBar": true,
   "skip_h1_title": false,
   "title_cell": "Table of Contents",
   "title_sidebar": "Contents",
   "toc_cell": true,
   "toc_position": {
    "height": "calc(100% - 180px)",
    "left": "10px",
    "top": "150px",
    "width": "203.796875px"
   },
   "toc_section_display": true,
   "toc_window_display": true
  }
 },
 "nbformat": 4,
 "nbformat_minor": 2
}
