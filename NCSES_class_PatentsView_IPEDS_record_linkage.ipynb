{
 "cells": [
  {
   "cell_type": "markdown",
   "metadata": {
    "toc": true
   },
   "source": [
    "<h1>Table of Contents<span class=\"tocSkip\"></span></h1>\n",
    "<div class=\"toc\"><ul class=\"toc-item\"><li><span><a href=\"#NCSES-class---PatentsView-and-IPEDS-data\" data-toc-modified-id=\"NCSES-class---PatentsView-and-IPEDS-data-1\"><span class=\"toc-item-num\">1&nbsp;&nbsp;</span>NCSES class - PatentsView and IPEDS data</a></span><ul class=\"toc-item\"><li><ul class=\"toc-item\"><li><span><a href=\"#Introduction\" data-toc-modified-id=\"Introduction-1.0.1\"><span class=\"toc-item-num\">1.0.1&nbsp;&nbsp;</span>Introduction</a></span></li><li><span><a href=\"#Python-Setup\" data-toc-modified-id=\"Python-Setup-1.0.2\"><span class=\"toc-item-num\">1.0.2&nbsp;&nbsp;</span>Python Setup</a></span></li></ul></li><li><span><a href=\"#Load-the-data\" data-toc-modified-id=\"Load-the-data-1.1\"><span class=\"toc-item-num\">1.1&nbsp;&nbsp;</span>Load the data</a></span></li><li><span><a href=\"#Record-linkage\" data-toc-modified-id=\"Record-linkage-1.2\"><span class=\"toc-item-num\">1.2&nbsp;&nbsp;</span>Record linkage</a></span><ul class=\"toc-item\"><li><span><a href=\"#Merge-location-and-assignee-files\" data-toc-modified-id=\"Merge-location-and-assignee-files-1.2.1\"><span class=\"toc-item-num\">1.2.1&nbsp;&nbsp;</span>Merge location and assignee files</a></span></li><li><span><a href=\"#Merge-with-location-ID-and-filter-by-country-(&quot;US&quot;)\" data-toc-modified-id=\"Merge-with-location-ID-and-filter-by-country-(&quot;US&quot;)-1.2.2\"><span class=\"toc-item-num\">1.2.2&nbsp;&nbsp;</span>Merge with location ID and filter by country (\"US\")</a></span></li><li><span><a href=\"#Merge-with-patent_assignee\" data-toc-modified-id=\"Merge-with-patent_assignee-1.2.3\"><span class=\"toc-item-num\">1.2.3&nbsp;&nbsp;</span>Merge with patent_assignee</a></span></li><li><span><a href=\"#Merge-with-government-interest-file-and-create-a-dummy-(0,1)-for-government-interest\" data-toc-modified-id=\"Merge-with-government-interest-file-and-create-a-dummy-(0,1)-for-government-interest-1.2.4\"><span class=\"toc-item-num\">1.2.4&nbsp;&nbsp;</span>Merge with government interest file and create a dummy (0,1) for government interest</a></span></li><li><span><a href=\"#Load-application-file-and-extract-year-from-the-&quot;date&quot;-field\" data-toc-modified-id=\"Load-application-file-and-extract-year-from-the-&quot;date&quot;-field-1.2.5\"><span class=\"toc-item-num\">1.2.5&nbsp;&nbsp;</span>Load application file and extract year from the \"date\" field</a></span></li><li><span><a href=\"#Filter-the-finalized-dataframe-for-years-from-2000+\" data-toc-modified-id=\"Filter-the-finalized-dataframe-for-years-from-2000+-1.2.6\"><span class=\"toc-item-num\">1.2.6&nbsp;&nbsp;</span>Filter the finalized dataframe for years from 2000+</a></span></li><li><span><a href=\"#Merge-with-IPEDS-file\" data-toc-modified-id=\"Merge-with-IPEDS-file-1.2.7\"><span class=\"toc-item-num\">1.2.7&nbsp;&nbsp;</span>Merge with IPEDS file</a></span></li></ul></li><li><span><a href=\"#Variable-construction\" data-toc-modified-id=\"Variable-construction-1.3\"><span class=\"toc-item-num\">1.3&nbsp;&nbsp;</span>Variable construction</a></span><ul class=\"toc-item\"><li><span><a href=\"#Number-of-patents-joint-with-business-(#joint_w_business)\" data-toc-modified-id=\"Number-of-patents-joint-with-business-(#joint_w_business)-1.3.1\"><span class=\"toc-item-num\">1.3.1&nbsp;&nbsp;</span>Number of patents joint with business (#joint_w_business)</a></span></li><li><span><a href=\"#Total-number-of-patents-(#applied_patents)\" data-toc-modified-id=\"Total-number-of-patents-(#applied_patents)-1.3.2\"><span class=\"toc-item-num\">1.3.2&nbsp;&nbsp;</span>Total number of patents (#applied_patents)</a></span></li><li><span><a href=\"#Number-of-patents-with-government-interest-(#applied_govinterest)\" data-toc-modified-id=\"Number-of-patents-with-government-interest-(#applied_govinterest)-1.3.3\"><span class=\"toc-item-num\">1.3.3&nbsp;&nbsp;</span>Number of patents with government interest (#applied_govinterest)</a></span></li><li><span><a href=\"#Number-of-female-inventors-(#female_inventors)\" data-toc-modified-id=\"Number-of-female-inventors-(#female_inventors)-1.3.4\"><span class=\"toc-item-num\">1.3.4&nbsp;&nbsp;</span>Number of female inventors (#female_inventors)</a></span></li><li><span><a href=\"#Number-of-unique-inventors-(#unique_inventors)\" data-toc-modified-id=\"Number-of-unique-inventors-(#unique_inventors)-1.3.5\"><span class=\"toc-item-num\">1.3.5&nbsp;&nbsp;</span>Number of unique inventors (#unique_inventors)</a></span></li><li><span><a href=\"#Top-IPC-classification-categories\" data-toc-modified-id=\"Top-IPC-classification-categories-1.3.6\"><span class=\"toc-item-num\">1.3.6&nbsp;&nbsp;</span>Top IPC classification categories</a></span></li></ul></li><li><span><a href=\"#Create-a-finalized-output-dataset\" data-toc-modified-id=\"Create-a-finalized-output-dataset-1.4\"><span class=\"toc-item-num\">1.4&nbsp;&nbsp;</span>Create a finalized output dataset</a></span></li></ul></li></ul></div>"
   ]
  },
  {
   "cell_type": "markdown",
   "metadata": {},
   "source": [
    "# NCSES class - PatentsView and IPEDS data"
   ]
  },
  {
   "cell_type": "markdown",
   "metadata": {},
   "source": [
    "### Introduction"
   ]
  },
  {
   "cell_type": "markdown",
   "metadata": {},
   "source": [
    "This notebook builds links between two datasets: \n",
    "\n",
    "\n",
    "1. **PatentsView** (www.patentsview.org) The PatentsView platform is built on data derived from the US Patent and Trademark Office (USPTO) bulk data to link inventors, their organizations, locations, and overall patenting activity.\n",
    "\n",
    "\n",
    "2. **IPEDS** (https://nces.ed.gov/ipeds/) IPEDS is the Integrated Postsecondary Education Data System, a system of interrelated surveys conducted annually by the U.S. Department of Education’s National Center for Education Statistics (NCES). IPEDS gathers information from every college, university, and technical and vocational institution that participates in the federal student financial aid programs on enrollments, program completions, graduation rates, faculty and staff, finances, institutional prices, and student financial aid.\n",
    "\n",
    "------------------------------------------------------------\n",
    "\n",
    "**Output file**\n",
    "\n",
    "**Data dictionary**\n",
    "\n",
    "Unit of observation: **university by year (from year 2000+)**\n",
    "\n",
    "Variables: \n",
    "- **#unique_inventors** - number of unique inventors \n",
    "- **#female_inventors** - number of female inventors \n",
    "- **#applied_patents** - total number of applied patents\n",
    "- **#applied_govinterest** - total number of applied patents with government interest \n",
    "- **#joint_w_business** - total number of patents joint with businesses\n",
    "- **top_5_ipc** - top 5 IPC classification categories"
   ]
  },
  {
   "cell_type": "markdown",
   "metadata": {},
   "source": [
    "### Python Setup"
   ]
  },
  {
   "cell_type": "code",
   "execution_count": 1,
   "metadata": {},
   "outputs": [],
   "source": [
    "# Data manipulation\n",
    "import pandas as pd\n",
    "\n",
    "# Text preprocessing\n",
    "import string\n",
    "\n",
    "# Optional: library for fuzzy matching of strings\n",
    "import difflib"
   ]
  },
  {
   "cell_type": "markdown",
   "metadata": {},
   "source": [
    "## Load the data"
   ]
  },
  {
   "cell_type": "code",
   "execution_count": 82,
   "metadata": {},
   "outputs": [],
   "source": [
    "# PatentsView files\n",
    "\n",
    "assignee = pd.read_csv('assignee.tsv', sep='\\t') # unique assignee IDs\n",
    "location_assignee = pd.read_csv('location_assignee.tsv', sep='\\t') # crosswalk file with location and assignee IDs\n",
    "location = pd.read_csv('location.tsv', sep='\\t') # unique location id and associated city, state, country, etc.\n",
    "patent_assignee = pd.read_csv('patent_assignee.tsv',sep='\\t') # crosswalk between patent and assignee files\n",
    "government_interest = pd.read_csv('government_interest.tsv',sep='\\t') # mapping of patent numbers to raw government interest text\n",
    "application = pd.read_csv('application.tsv',sep='\\t') # information on the applications for granted patent\n",
    "patent_inventor = pd.read_csv('patent_inventor.tsv',sep='\\t') # crosswalk between patent and inventor tables\n",
    "inventor_gender = pd.read_csv('inventor_gender.tsv',sep='\\t') # inventor gender data\n",
    "ipcr = pd.read_csv('ipcr.tsv',sep='\\t') # International Patent Classification\n",
    "\n",
    "# IPEDS file\n",
    "ipeds = pd.read_csv('IPEDS.csv',encoding='ISO-8859-1')"
   ]
  },
  {
   "cell_type": "markdown",
   "metadata": {},
   "source": [
    "## Record linkage"
   ]
  },
  {
   "cell_type": "markdown",
   "metadata": {},
   "source": [
    "### Merge location and assignee files"
   ]
  },
  {
   "cell_type": "code",
   "execution_count": 69,
   "metadata": {},
   "outputs": [
    {
     "name": "stdout",
     "output_type": "stream",
     "text": [
      "<class 'pandas.core.frame.DataFrame'>\n",
      "RangeIndex: 504012 entries, 0 to 504011\n",
      "Data columns (total 5 columns):\n",
      "id              504012 non-null object\n",
      "type            504011 non-null float64\n",
      "name_first      47233 non-null object\n",
      "name_last       47234 non-null object\n",
      "organization    456776 non-null object\n",
      "dtypes: float64(1), object(4)\n",
      "memory usage: 19.2+ MB\n"
     ]
    }
   ],
   "source": [
    "\"\"\"Look at the ASSIGNEE dataset description. We are interested in organization names to merge IPEDS university\n",
    "names on the names in the ASSIGNEE dataset. ORGANIZATION variable in this dataset has organization names.\n",
    "There are less organization names known than assignees:\n",
    "504,012 - ASSIGNEE_ID\n",
    "456,776 - ORGANIZATION\"\"\"\n",
    "\n",
    "assignee.info()"
   ]
  },
  {
   "cell_type": "code",
   "execution_count": 166,
   "metadata": {},
   "outputs": [],
   "source": [
    "\"\"\"Drop those row which do not have organization names.\"\"\"\n",
    "\n",
    "assignee = assignee[~assignee['organization'].isnull()]"
   ]
  },
  {
   "cell_type": "code",
   "execution_count": 167,
   "metadata": {},
   "outputs": [
    {
     "name": "stdout",
     "output_type": "stream",
     "text": [
      "<class 'pandas.core.frame.DataFrame'>\n",
      "Int64Index: 456776 entries, 0 to 456775\n",
      "Data columns (total 5 columns):\n",
      "id              456776 non-null object\n",
      "type            456776 non-null float64\n",
      "name_first      0 non-null object\n",
      "name_last       0 non-null object\n",
      "organization    456776 non-null object\n",
      "dtypes: float64(1), object(4)\n",
      "memory usage: 20.9+ MB\n"
     ]
    }
   ],
   "source": [
    "\"\"\"Now the dataset only has assignees which have organization names.\"\"\"\n",
    "\n",
    "assignee.info()"
   ]
  },
  {
   "cell_type": "code",
   "execution_count": 168,
   "metadata": {},
   "outputs": [
    {
     "name": "stdout",
     "output_type": "stream",
     "text": [
      "<class 'pandas.core.frame.DataFrame'>\n",
      "RangeIndex: 648514 entries, 0 to 648513\n",
      "Data columns (total 2 columns):\n",
      "location_id    646919 non-null object\n",
      "assignee_id    648514 non-null object\n",
      "dtypes: object(2)\n",
      "memory usage: 9.9+ MB\n"
     ]
    }
   ],
   "source": [
    "\"\"\"Look at the LOCATION_ASSIGNEE dataset description. We can use location to filter by assignees in the United States,\n",
    "as we know that IPEDS university file contains United States universities.\n",
    "In this dataset there are less LOCATION_IDs known than ASSIGNEE_IDs:\n",
    "648,514 - ASSIGNEE_ID\n",
    "646,919 - LOCATION_ID\"\"\" \n",
    "\n",
    "location_assignee.info()"
   ]
  },
  {
   "cell_type": "code",
   "execution_count": 171,
   "metadata": {},
   "outputs": [
    {
     "data": {
      "text/plain": [
       "array([  1,   3,   2,  10,   5,   4,   6,   7,  17,   8,  16,  13,   0,\n",
       "         9,  11,  14,  12,  15,  31,  44,  43,  19,  21,  25,  32,  18,\n",
       "        20,  37,  42,  24,  34,  49,  22,  29,  30,  53,  23,  65, 116,\n",
       "        27,  57,  54,  39,  26,  28,  64,  55,  36,  41,  45,  35])"
      ]
     },
     "execution_count": 171,
     "metadata": {},
     "output_type": "execute_result"
    }
   ],
   "source": [
    "\"\"\"Check how many locations can be associated with a given assignee.\n",
    "Group by a given assignee, count the locations associated with a given assignee, and\n",
    "see the unique values. There can be more than 1 location associated with a given assignee.\"\"\"\n",
    "\n",
    "location_assignee.groupby('assignee_id')['location_id'].count().unique()"
   ]
  },
  {
   "cell_type": "code",
   "execution_count": 172,
   "metadata": {},
   "outputs": [
    {
     "data": {
      "text/html": [
       "<div>\n",
       "<style scoped>\n",
       "    .dataframe tbody tr th:only-of-type {\n",
       "        vertical-align: middle;\n",
       "    }\n",
       "\n",
       "    .dataframe tbody tr th {\n",
       "        vertical-align: top;\n",
       "    }\n",
       "\n",
       "    .dataframe thead th {\n",
       "        text-align: right;\n",
       "    }\n",
       "</style>\n",
       "<table border=\"1\" class=\"dataframe\">\n",
       "  <thead>\n",
       "    <tr style=\"text-align: right;\">\n",
       "      <th></th>\n",
       "      <th>location_id</th>\n",
       "      <th>assignee_id</th>\n",
       "      <th>organization</th>\n",
       "    </tr>\n",
       "  </thead>\n",
       "  <tbody>\n",
       "    <tr>\n",
       "      <th>0</th>\n",
       "      <td>q8wc2x1ryasb</td>\n",
       "      <td>org_00054e2c-8d76-4e86-92d7-c3268e32438c</td>\n",
       "      <td>Sermeta</td>\n",
       "    </tr>\n",
       "    <tr>\n",
       "      <th>1</th>\n",
       "      <td>ny17xyn10k3d</td>\n",
       "      <td>org_0006dUf10fyaGu141Xsy</td>\n",
       "      <td>Uber Co., Ltd.</td>\n",
       "    </tr>\n",
       "    <tr>\n",
       "      <th>2</th>\n",
       "      <td>qcj7zhcco1lm</td>\n",
       "      <td>org_000U7wc7DxrKo9M7gNOr</td>\n",
       "      <td>I/P Engine, Inc.</td>\n",
       "    </tr>\n",
       "    <tr>\n",
       "      <th>3</th>\n",
       "      <td>symng222vxqi</td>\n",
       "      <td>org_00181b00-a087-4314-8a91-a78203517001</td>\n",
       "      <td>INTAP</td>\n",
       "    </tr>\n",
       "    <tr>\n",
       "      <th>4</th>\n",
       "      <td>v11nqt9ynpgb</td>\n",
       "      <td>org_0018ff04-6dba-4345-ace4-d0f170a30d87</td>\n",
       "      <td>WJRJ</td>\n",
       "    </tr>\n",
       "  </tbody>\n",
       "</table>\n",
       "</div>"
      ],
      "text/plain": [
       "    location_id                               assignee_id      organization\n",
       "0  q8wc2x1ryasb  org_00054e2c-8d76-4e86-92d7-c3268e32438c           Sermeta\n",
       "1  ny17xyn10k3d                  org_0006dUf10fyaGu141Xsy    Uber Co., Ltd.\n",
       "2  qcj7zhcco1lm                  org_000U7wc7DxrKo9M7gNOr  I/P Engine, Inc.\n",
       "3  symng222vxqi  org_00181b00-a087-4314-8a91-a78203517001             INTAP\n",
       "4  v11nqt9ynpgb  org_0018ff04-6dba-4345-ace4-d0f170a30d87              WJRJ"
      ]
     },
     "execution_count": 172,
     "metadata": {},
     "output_type": "execute_result"
    }
   ],
   "source": [
    "\"\"\"Merge on a common column containing assignee id: ID in ASSIGNEE and ASSIGNEE_ID in \n",
    "LOCATION_ASSIGNEE.\"\"\"\n",
    "\n",
    "merged_location_assignee = pd.merge(left=location_assignee,right=assignee, on=None,\n",
    "                                    left_on='assignee_id',right_on='id')\n",
    "\n",
    "\"\"\"Keep only needed columns\"\"\"\n",
    "merged_location_assignee = merged_location_assignee[['location_id','assignee_id','organization']]\n",
    "\n",
    "\"\"\"View the merged dataframe\"\"\"\n",
    "merged_location_assignee.head()"
   ]
  },
  {
   "cell_type": "code",
   "execution_count": 173,
   "metadata": {},
   "outputs": [
    {
     "name": "stdout",
     "output_type": "stream",
     "text": [
      "<class 'pandas.core.frame.DataFrame'>\n",
      "Int64Index: 598094 entries, 0 to 598093\n",
      "Data columns (total 3 columns):\n",
      "location_id     596547 non-null object\n",
      "assignee_id     598094 non-null object\n",
      "organization    598094 non-null object\n",
      "dtypes: object(3)\n",
      "memory usage: 18.3+ MB\n"
     ]
    }
   ],
   "source": [
    "\"\"\"Look at the merged dataset description. We have more ORGANIZATION name records (598,094) than \n",
    "before (456,776), which could be the duplicates, as one assignee can have multiple associated \n",
    "locations.\"\"\"\n",
    "\n",
    "merged_location_assignee.info()"
   ]
  },
  {
   "cell_type": "code",
   "execution_count": 174,
   "metadata": {},
   "outputs": [
    {
     "data": {
      "text/plain": [
       "456073"
      ]
     },
     "execution_count": 174,
     "metadata": {},
     "output_type": "execute_result"
    }
   ],
   "source": [
    "\"\"\"Check the number of unique organization names. There are slightly less organization names\n",
    "in this dataset (456,073) than before (456,776). 703 assignees were not found in \n",
    "the LOCATION_ASSIGNEE file.\"\"\"\n",
    "\n",
    "merged_location_assignee.organization.nunique()"
   ]
  },
  {
   "cell_type": "markdown",
   "metadata": {},
   "source": [
    "### Merge with location ID and filter by country (\"US\")"
   ]
  },
  {
   "cell_type": "code",
   "execution_count": 176,
   "metadata": {},
   "outputs": [
    {
     "name": "stdout",
     "output_type": "stream",
     "text": [
      "<class 'pandas.core.frame.DataFrame'>\n",
      "RangeIndex: 137687 entries, 0 to 137686\n",
      "Data columns (total 9 columns):\n",
      "id             137687 non-null object\n",
      "city           137565 non-null object\n",
      "state          37654 non-null object\n",
      "country        137687 non-null object\n",
      "latitude       137687 non-null float64\n",
      "longitude      137687 non-null float64\n",
      "county         20847 non-null object\n",
      "state_fips     137687 non-null int64\n",
      "county_fips    137687 non-null int64\n",
      "dtypes: float64(2), int64(2), object(5)\n",
      "memory usage: 9.5+ MB\n"
     ]
    }
   ],
   "source": [
    "\"\"\"Look at the dataset description. We will merge this dataset on the LOCATION_ID with the \n",
    "dataset above to find out the associated location information with the location id. \n",
    "We are interested in the COUNTRY and STATE variable to filter by the United States assignees and\n",
    "validate the data.\"\"\"\n",
    "\n",
    "location.info()"
   ]
  },
  {
   "cell_type": "code",
   "execution_count": 179,
   "metadata": {
    "scrolled": true
   },
   "outputs": [
    {
     "data": {
      "text/html": [
       "<div>\n",
       "<style scoped>\n",
       "    .dataframe tbody tr th:only-of-type {\n",
       "        vertical-align: middle;\n",
       "    }\n",
       "\n",
       "    .dataframe tbody tr th {\n",
       "        vertical-align: top;\n",
       "    }\n",
       "\n",
       "    .dataframe thead th {\n",
       "        text-align: right;\n",
       "    }\n",
       "</style>\n",
       "<table border=\"1\" class=\"dataframe\">\n",
       "  <thead>\n",
       "    <tr style=\"text-align: right;\">\n",
       "      <th></th>\n",
       "      <th>state</th>\n",
       "      <th>country</th>\n",
       "      <th>assignee_id</th>\n",
       "      <th>organization</th>\n",
       "      <th>location_id</th>\n",
       "    </tr>\n",
       "  </thead>\n",
       "  <tbody>\n",
       "    <tr>\n",
       "      <th>0</th>\n",
       "      <td>NaN</td>\n",
       "      <td>JP</td>\n",
       "      <td>org_0Adc4mfbmiYCpSr8q3jH</td>\n",
       "      <td>Toyooki Kogyo Kabushiki Kaisha</td>\n",
       "      <td>bfy03xoykgui</td>\n",
       "    </tr>\n",
       "    <tr>\n",
       "      <th>1</th>\n",
       "      <td>NaN</td>\n",
       "      <td>JP</td>\n",
       "      <td>org_6ohiYFQUje6OvPzby4VM</td>\n",
       "      <td>Maeda Shell Service Co., Ltd.</td>\n",
       "      <td>bfy03xoykgui</td>\n",
       "    </tr>\n",
       "    <tr>\n",
       "      <th>2</th>\n",
       "      <td>NaN</td>\n",
       "      <td>JP</td>\n",
       "      <td>org_714dR5p9M1UWFw44LOE7</td>\n",
       "      <td>Toyoda Van Moppes Ltd.</td>\n",
       "      <td>bfy03xoykgui</td>\n",
       "    </tr>\n",
       "    <tr>\n",
       "      <th>3</th>\n",
       "      <td>NaN</td>\n",
       "      <td>JP</td>\n",
       "      <td>org_9MrVSbz6jPBqlVxmUf61</td>\n",
       "      <td>Japan as represented by Director of General of...</td>\n",
       "      <td>bfy03xoykgui</td>\n",
       "    </tr>\n",
       "    <tr>\n",
       "      <th>4</th>\n",
       "      <td>NaN</td>\n",
       "      <td>JP</td>\n",
       "      <td>org_9y6vRfBOr1754BBHZlII</td>\n",
       "      <td>Banno Kogyo Kabushiki Kaisha</td>\n",
       "      <td>bfy03xoykgui</td>\n",
       "    </tr>\n",
       "  </tbody>\n",
       "</table>\n",
       "</div>"
      ],
      "text/plain": [
       "  state country               assignee_id  \\\n",
       "0   NaN      JP  org_0Adc4mfbmiYCpSr8q3jH   \n",
       "1   NaN      JP  org_6ohiYFQUje6OvPzby4VM   \n",
       "2   NaN      JP  org_714dR5p9M1UWFw44LOE7   \n",
       "3   NaN      JP  org_9MrVSbz6jPBqlVxmUf61   \n",
       "4   NaN      JP  org_9y6vRfBOr1754BBHZlII   \n",
       "\n",
       "                                        organization   location_id  \n",
       "0                     Toyooki Kogyo Kabushiki Kaisha  bfy03xoykgui  \n",
       "1                      Maeda Shell Service Co., Ltd.  bfy03xoykgui  \n",
       "2                             Toyoda Van Moppes Ltd.  bfy03xoykgui  \n",
       "3  Japan as represented by Director of General of...  bfy03xoykgui  \n",
       "4                       Banno Kogyo Kabushiki Kaisha  bfy03xoykgui  "
      ]
     },
     "execution_count": 179,
     "metadata": {},
     "output_type": "execute_result"
    }
   ],
   "source": [
    "\"\"\"Merge on common column containing location_id: ID in LOCATION and LOCATION_ID in \n",
    "MERGED_LOCATION_ASSIGNEE\"\"\"\n",
    "\n",
    "merged_assignee = pd.merge(left=location,right=merged_location_assignee, on=None,\n",
    "                          left_on='id', right_on='location_id')\n",
    "\n",
    "\"\"\"Keep only the needed columns.\"\"\"\n",
    "merged_assignee = merged_assignee[['state','country','assignee_id','organization','location_id']]\n",
    "merged_assignee.head()"
   ]
  },
  {
   "cell_type": "code",
   "execution_count": 180,
   "metadata": {},
   "outputs": [
    {
     "data": {
      "text/plain": [
       "array(['JP', 'GB', 'CH', 'TH', 'US', 'TW', 'DE', 'NL', 'FR', 'SW', 'AT',\n",
       "       'NO', 'EN', 'IE', 'IT', 'HU', 'IN', 'MY', 'IL', 'AU', 'CN', 'KR',\n",
       "       'PE', 'CA', 'ID', 'ES', 'RU', 'DK', 'ZA', 'MX', 'SE', 'PL', 'GI',\n",
       "       'DT', 'SI', 'LK', 'WV', 'BR', 'JA', 'LT', 'HK', 'BE', 'FI', 'BG',\n",
       "       'NZ', 'DD', 'SU', 'IR', 'YU', 'CS', 'NR', 'AZ', 'SG', 'PT', 'GR',\n",
       "       'un', 'LU', 'MC', 'CZ', 'AR', 'FL', 'SA', 'TR', 'TX', 'BM', 'VE',\n",
       "       'OE', 'BY', 'CL', 'LB', 'HR', 'SM', 'UA', 'PG', 'MK', 'BO', 'LI',\n",
       "       'SF', 'WA', 'EP', 'EC', 'ML', 'CU', 'CO', 'MA', 'JM', 'SC', 'KS',\n",
       "       'PY', 'BS', 'VG', 'PH', 'NG', 'KY', 'PR', 'LV', 'AI', 'TK', 'PK',\n",
       "       'AE', 'SK', 'AM', 'KW', 'MH', 'CE', 'GT', 'BN', 'DL', 'BD', 'BH',\n",
       "       'BA', 'CY', 'TT', 'JO', 'TN', 'CM', 'GG', 'NE', 'GE', 'BB', 'EE',\n",
       "       'CT', 'EI', 'LR', 'VN', 'TC', 'IS', 'CR', 'QA', 'IM', 'PM', 'AO',\n",
       "       'PO', 'VU', 'MG', 'PA', 'MI', 'EG', 'KZ', 'PF', 'MO', 'RO', 'AN',\n",
       "       'UY', 'MT', 'AG', 'WI', 'AD', 'DO', 'SV', 'HN', 'IQ', 'CI', 'CK',\n",
       "       'BW', 'OM', 'TD', 'GU', 'KN', 'DZ', 'HT', 'SL', 'ME', 'RS', 'NM',\n",
       "       'MU', 'DM', 'KE', 'NH', 'FO', 'RH', 'GA', 'BZ', 'VA', 'GP', 'BF',\n",
       "       'ZW', 'GY', 'AW', 'UZ', 'WS', 'BV', 'TG', 'MM', 'JE', 'AL', 'KP',\n",
       "       'IO', 'SN', 'VC', 'FK', 'GC', 'LA', 'LC', 'NV', 'YE', 'UG', 'BU'],\n",
       "      dtype=object)"
      ]
     },
     "execution_count": 180,
     "metadata": {},
     "output_type": "execute_result"
    }
   ],
   "source": [
    "\"\"\"Check all unique country names to find the United States. There is an abbrevation US.\"\"\"\n",
    "\n",
    "merged_assignee.country.unique()"
   ]
  },
  {
   "cell_type": "code",
   "execution_count": 181,
   "metadata": {},
   "outputs": [
    {
     "data": {
      "text/html": [
       "<div>\n",
       "<style scoped>\n",
       "    .dataframe tbody tr th:only-of-type {\n",
       "        vertical-align: middle;\n",
       "    }\n",
       "\n",
       "    .dataframe tbody tr th {\n",
       "        vertical-align: top;\n",
       "    }\n",
       "\n",
       "    .dataframe thead th {\n",
       "        text-align: right;\n",
       "    }\n",
       "</style>\n",
       "<table border=\"1\" class=\"dataframe\">\n",
       "  <thead>\n",
       "    <tr style=\"text-align: right;\">\n",
       "      <th></th>\n",
       "      <th>state</th>\n",
       "      <th>country</th>\n",
       "      <th>assignee_id</th>\n",
       "      <th>organization</th>\n",
       "      <th>location_id</th>\n",
       "    </tr>\n",
       "  </thead>\n",
       "  <tbody>\n",
       "    <tr>\n",
       "      <th>12721</th>\n",
       "      <td>CA</td>\n",
       "      <td>US</td>\n",
       "      <td>org_9gbxlFYDdz6sTZtvnhCX</td>\n",
       "      <td>United States Steel Corporation</td>\n",
       "      <td>ynzrfuok33o5</td>\n",
       "    </tr>\n",
       "    <tr>\n",
       "      <th>12722</th>\n",
       "      <td>CA</td>\n",
       "      <td>US</td>\n",
       "      <td>org_iv72dHbRItbvdHxgK3kB</td>\n",
       "      <td>BioZone Laboratories, Inc.</td>\n",
       "      <td>ynzrfuok33o5</td>\n",
       "    </tr>\n",
       "    <tr>\n",
       "      <th>12723</th>\n",
       "      <td>CA</td>\n",
       "      <td>US</td>\n",
       "      <td>org_LPa0Kl9nAxFKX577TVVo</td>\n",
       "      <td>Biozibe Laboratories, Inc.</td>\n",
       "      <td>ynzrfuok33o5</td>\n",
       "    </tr>\n",
       "    <tr>\n",
       "      <th>12724</th>\n",
       "      <td>CA</td>\n",
       "      <td>US</td>\n",
       "      <td>org_mxfZ1NN4vezAZ8hJLCCn</td>\n",
       "      <td>Bishop-Wisecarver Corporation</td>\n",
       "      <td>ynzrfuok33o5</td>\n",
       "    </tr>\n",
       "    <tr>\n",
       "      <th>12725</th>\n",
       "      <td>CA</td>\n",
       "      <td>US</td>\n",
       "      <td>org_Pd2V6MSVzPOPRgWAvXuI</td>\n",
       "      <td>Calgon Corporation</td>\n",
       "      <td>ynzrfuok33o5</td>\n",
       "    </tr>\n",
       "  </tbody>\n",
       "</table>\n",
       "</div>"
      ],
      "text/plain": [
       "      state country               assignee_id  \\\n",
       "12721    CA      US  org_9gbxlFYDdz6sTZtvnhCX   \n",
       "12722    CA      US  org_iv72dHbRItbvdHxgK3kB   \n",
       "12723    CA      US  org_LPa0Kl9nAxFKX577TVVo   \n",
       "12724    CA      US  org_mxfZ1NN4vezAZ8hJLCCn   \n",
       "12725    CA      US  org_Pd2V6MSVzPOPRgWAvXuI   \n",
       "\n",
       "                          organization   location_id  \n",
       "12721  United States Steel Corporation  ynzrfuok33o5  \n",
       "12722       BioZone Laboratories, Inc.  ynzrfuok33o5  \n",
       "12723       Biozibe Laboratories, Inc.  ynzrfuok33o5  \n",
       "12724    Bishop-Wisecarver Corporation  ynzrfuok33o5  \n",
       "12725               Calgon Corporation  ynzrfuok33o5  "
      ]
     },
     "execution_count": 181,
     "metadata": {},
     "output_type": "execute_result"
    }
   ],
   "source": [
    "\"\"\"Filter by the 'US' in the COUNTRY column.\"\"\"\n",
    "\n",
    "merged_assignee_filtered = merged_assignee[merged_assignee['country'] == 'US']\n",
    "merged_assignee_filtered.head()"
   ]
  },
  {
   "cell_type": "code",
   "execution_count": 182,
   "metadata": {},
   "outputs": [
    {
     "data": {
      "text/plain": [
       "[nan, 'UM', 'NB', 'AA', 'JP']"
      ]
     },
     "execution_count": 182,
     "metadata": {},
     "output_type": "execute_result"
    }
   ],
   "source": [
    "\"\"\"Check whether all states associated with the US are valid.\"\"\"\n",
    "\n",
    "states = merged_assignee_filtered.state.unique() # get unique states from the dataframe\n",
    "\n",
    "list_states = ['AL','AK','AS','AZ','AR','CA','CO','CT','DE','DC','FL','GA','GU','HI','ID','IL','IN','IA','KS',\n",
    "'KY','LA','ME','MD','MH','MA','MI','FM','MN','MS','MO','MT','NE','NV','NH','NJ','NM','NY','NC','ND','MP','OH','OK','OR','PW','PA','PR','RI','SC','SD','TN','TX','UT','VT','VA','VI','WA','WV','WI','WY']\n",
    "# get the known list of abbreviations for US states and territories\n",
    "\n",
    "list(set(states) - set(list_states)) # compare the difference between two lists"
   ]
  },
  {
   "cell_type": "code",
   "execution_count": 183,
   "metadata": {},
   "outputs": [
    {
     "data": {
      "text/plain": [
       "762"
      ]
     },
     "execution_count": 183,
     "metadata": {},
     "output_type": "execute_result"
    }
   ],
   "source": [
    "len(merged_assignee_filtered[merged_assignee_filtered['state'].isnull()]) \n",
    "# checking how many records do not have state listed "
   ]
  },
  {
   "cell_type": "code",
   "execution_count": null,
   "metadata": {},
   "outputs": [],
   "source": [
    "\"\"\"We find the following information:\n",
    "nan - 802 records do not have state listed\n",
    "UM - U.S. Minor Outlying Islands\n",
    "NB - A former abbreviation code for Nebraska (now it is NE)\n",
    "AA - U.S. Armed Forces – Americas\n",
    "JP is an error, there is no such state or territory associted with the United States\"\"\""
   ]
  },
  {
   "cell_type": "code",
   "execution_count": 184,
   "metadata": {},
   "outputs": [
    {
     "data": {
      "text/html": [
       "<div>\n",
       "<style scoped>\n",
       "    .dataframe tbody tr th:only-of-type {\n",
       "        vertical-align: middle;\n",
       "    }\n",
       "\n",
       "    .dataframe tbody tr th {\n",
       "        vertical-align: top;\n",
       "    }\n",
       "\n",
       "    .dataframe thead th {\n",
       "        text-align: right;\n",
       "    }\n",
       "</style>\n",
       "<table border=\"1\" class=\"dataframe\">\n",
       "  <thead>\n",
       "    <tr style=\"text-align: right;\">\n",
       "      <th></th>\n",
       "      <th>state</th>\n",
       "      <th>country</th>\n",
       "      <th>assignee_id</th>\n",
       "      <th>organization</th>\n",
       "      <th>location_id</th>\n",
       "    </tr>\n",
       "  </thead>\n",
       "  <tbody>\n",
       "    <tr>\n",
       "      <th>551597</th>\n",
       "      <td>JP</td>\n",
       "      <td>US</td>\n",
       "      <td>org_tTnLqYNs1lwyq9d7LA4S</td>\n",
       "      <td>Takashimaya Nippatsy Kogyo Co., Ltd.</td>\n",
       "      <td>izcs2yxzkmcm</td>\n",
       "    </tr>\n",
       "  </tbody>\n",
       "</table>\n",
       "</div>"
      ],
      "text/plain": [
       "       state country               assignee_id  \\\n",
       "551597    JP      US  org_tTnLqYNs1lwyq9d7LA4S   \n",
       "\n",
       "                                organization   location_id  \n",
       "551597  Takashimaya Nippatsy Kogyo Co., Ltd.  izcs2yxzkmcm  "
      ]
     },
     "execution_count": 184,
     "metadata": {},
     "output_type": "execute_result"
    }
   ],
   "source": [
    "\"\"\"There is only one record with JP.\"\"\"\n",
    "merged_assignee_filtered[merged_assignee_filtered['state'] == 'JP']"
   ]
  },
  {
   "cell_type": "code",
   "execution_count": 185,
   "metadata": {},
   "outputs": [],
   "source": [
    "\"\"\"We remove the JP from the dataframe.\"\"\"\n",
    "\n",
    "merged_assignee_finalized = merged_assignee_filtered[merged_assignee_filtered['state'] != 'JP']"
   ]
  },
  {
   "cell_type": "code",
   "execution_count": 187,
   "metadata": {},
   "outputs": [
    {
     "name": "stdout",
     "output_type": "stream",
     "text": [
      "<class 'pandas.core.frame.DataFrame'>\n",
      "Int64Index: 274214 entries, 12721 to 558512\n",
      "Data columns (total 5 columns):\n",
      "state           273452 non-null object\n",
      "country         274214 non-null object\n",
      "assignee_id     274214 non-null object\n",
      "organization    274214 non-null object\n",
      "location_id     274214 non-null object\n",
      "dtypes: object(5)\n",
      "memory usage: 12.6+ MB\n"
     ]
    }
   ],
   "source": [
    "\"\"\"Now we have 274,214 organization names listed in the United States.\"\"\"\n",
    "\n",
    "merged_assignee_finalized.info()"
   ]
  },
  {
   "cell_type": "code",
   "execution_count": 188,
   "metadata": {},
   "outputs": [
    {
     "data": {
      "text/plain": [
       "230047"
      ]
     },
     "execution_count": 188,
     "metadata": {},
     "output_type": "execute_result"
    }
   ],
   "source": [
    "\"\"\"Among those, 230,047 organization names are unique.\"\"\"\n",
    "\n",
    "merged_assignee_finalized.organization.nunique()"
   ]
  },
  {
   "cell_type": "code",
   "execution_count": 189,
   "metadata": {},
   "outputs": [
    {
     "data": {
      "text/plain": [
       "array([ 1,  3,  2,  7,  5,  4, 13,  6, 10,  8,  9, 15, 19, 11, 12, 37, 18,\n",
       "       22, 17, 81, 16, 14, 27, 34, 24, 35, 36, 21])"
      ]
     },
     "execution_count": 189,
     "metadata": {},
     "output_type": "execute_result"
    }
   ],
   "source": [
    "\"\"\"Some assignees have multiple associated locations.\"\"\"\n",
    "\n",
    "merged_assignee_finalized.groupby('assignee_id')['location_id'].count().unique()"
   ]
  },
  {
   "cell_type": "markdown",
   "metadata": {},
   "source": [
    "### Merge with patent_assignee"
   ]
  },
  {
   "cell_type": "code",
   "execution_count": 190,
   "metadata": {},
   "outputs": [
    {
     "name": "stdout",
     "output_type": "stream",
     "text": [
      "<class 'pandas.core.frame.DataFrame'>\n",
      "RangeIndex: 6163970 entries, 0 to 6163969\n",
      "Data columns (total 2 columns):\n",
      "patent_id      object\n",
      "assignee_id    object\n",
      "dtypes: object(2)\n",
      "memory usage: 94.1+ MB\n"
     ]
    }
   ],
   "source": [
    "\"\"\"Check the dataset description.\"\"\"\n",
    "\n",
    "patent_assignee.info()"
   ]
  },
  {
   "cell_type": "code",
   "execution_count": 191,
   "metadata": {},
   "outputs": [
    {
     "data": {
      "text/html": [
       "<div>\n",
       "<style scoped>\n",
       "    .dataframe tbody tr th:only-of-type {\n",
       "        vertical-align: middle;\n",
       "    }\n",
       "\n",
       "    .dataframe tbody tr th {\n",
       "        vertical-align: top;\n",
       "    }\n",
       "\n",
       "    .dataframe thead th {\n",
       "        text-align: right;\n",
       "    }\n",
       "</style>\n",
       "<table border=\"1\" class=\"dataframe\">\n",
       "  <thead>\n",
       "    <tr style=\"text-align: right;\">\n",
       "      <th></th>\n",
       "      <th>patent_id</th>\n",
       "      <th>assignee_id</th>\n",
       "      <th>state</th>\n",
       "      <th>country</th>\n",
       "      <th>organization</th>\n",
       "      <th>location_id</th>\n",
       "    </tr>\n",
       "  </thead>\n",
       "  <tbody>\n",
       "    <tr>\n",
       "      <th>0</th>\n",
       "      <td>5856666</td>\n",
       "      <td>org_6swO9pOeuJWANlfOE5mf</td>\n",
       "      <td>NY</td>\n",
       "      <td>US</td>\n",
       "      <td>U.S. Philips Corporation</td>\n",
       "      <td>ths6bmxbfgre</td>\n",
       "    </tr>\n",
       "    <tr>\n",
       "      <th>1</th>\n",
       "      <td>5856666</td>\n",
       "      <td>org_6swO9pOeuJWANlfOE5mf</td>\n",
       "      <td>NY</td>\n",
       "      <td>US</td>\n",
       "      <td>U.S. Philips Corporation</td>\n",
       "      <td>726a2siloa8w</td>\n",
       "    </tr>\n",
       "    <tr>\n",
       "      <th>2</th>\n",
       "      <td>5856666</td>\n",
       "      <td>org_6swO9pOeuJWANlfOE5mf</td>\n",
       "      <td>MA</td>\n",
       "      <td>US</td>\n",
       "      <td>U.S. Philips Corporation</td>\n",
       "      <td>hzx6s7d71iaj</td>\n",
       "    </tr>\n",
       "    <tr>\n",
       "      <th>3</th>\n",
       "      <td>5856666</td>\n",
       "      <td>org_6swO9pOeuJWANlfOE5mf</td>\n",
       "      <td>NY</td>\n",
       "      <td>US</td>\n",
       "      <td>U.S. Philips Corporation</td>\n",
       "      <td>dbpqy0bgug9d</td>\n",
       "    </tr>\n",
       "    <tr>\n",
       "      <th>4</th>\n",
       "      <td>5856666</td>\n",
       "      <td>org_6swO9pOeuJWANlfOE5mf</td>\n",
       "      <td>NaN</td>\n",
       "      <td>US</td>\n",
       "      <td>U.S. Philips Corporation</td>\n",
       "      <td>453ex4jkm5xc</td>\n",
       "    </tr>\n",
       "  </tbody>\n",
       "</table>\n",
       "</div>"
      ],
      "text/plain": [
       "  patent_id               assignee_id state country              organization  \\\n",
       "0   5856666  org_6swO9pOeuJWANlfOE5mf    NY      US  U.S. Philips Corporation   \n",
       "1   5856666  org_6swO9pOeuJWANlfOE5mf    NY      US  U.S. Philips Corporation   \n",
       "2   5856666  org_6swO9pOeuJWANlfOE5mf    MA      US  U.S. Philips Corporation   \n",
       "3   5856666  org_6swO9pOeuJWANlfOE5mf    NY      US  U.S. Philips Corporation   \n",
       "4   5856666  org_6swO9pOeuJWANlfOE5mf   NaN      US  U.S. Philips Corporation   \n",
       "\n",
       "    location_id  \n",
       "0  ths6bmxbfgre  \n",
       "1  726a2siloa8w  \n",
       "2  hzx6s7d71iaj  \n",
       "3  dbpqy0bgug9d  \n",
       "4  453ex4jkm5xc  "
      ]
     },
     "execution_count": 191,
     "metadata": {},
     "output_type": "execute_result"
    }
   ],
   "source": [
    "\"\"\"Merge on a common column containing assignee id.\"\"\"\n",
    "\n",
    "merged_patent_assignee = pd.merge(left=patent_assignee,right=merged_assignee_finalized, \n",
    "                                  on='assignee_id')\n",
    "merged_patent_assignee.head()"
   ]
  },
  {
   "cell_type": "code",
   "execution_count": 192,
   "metadata": {},
   "outputs": [
    {
     "name": "stdout",
     "output_type": "stream",
     "text": [
      "<class 'pandas.core.frame.DataFrame'>\n",
      "Int64Index: 26478304 entries, 0 to 26478303\n",
      "Data columns (total 6 columns):\n",
      "patent_id       object\n",
      "assignee_id     object\n",
      "state           object\n",
      "country         object\n",
      "organization    object\n",
      "location_id     object\n",
      "dtypes: object(6)\n",
      "memory usage: 1.4+ GB\n"
     ]
    }
   ],
   "source": [
    "\"Check the dataset description.\"\n",
    "\n",
    "merged_patent_assignee.info()"
   ]
  },
  {
   "cell_type": "code",
   "execution_count": 193,
   "metadata": {},
   "outputs": [
    {
     "data": {
      "text/plain": [
       "230047"
      ]
     },
     "execution_count": 193,
     "metadata": {},
     "output_type": "execute_result"
    }
   ],
   "source": [
    "\"\"\"Check the number of unique organization names - it is the same number as before.\"\"\"\n",
    "\n",
    "merged_patent_assignee.organization.nunique()"
   ]
  },
  {
   "cell_type": "markdown",
   "metadata": {},
   "source": [
    "### Merge with government interest file and create a dummy (0,1) for government interest"
   ]
  },
  {
   "cell_type": "code",
   "execution_count": 194,
   "metadata": {},
   "outputs": [
    {
     "name": "stdout",
     "output_type": "stream",
     "text": [
      "<class 'pandas.core.frame.DataFrame'>\n",
      "RangeIndex: 139237 entries, 0 to 139236\n",
      "Data columns (total 2 columns):\n",
      "patent_id       139237 non-null object\n",
      "gi_statement    139237 non-null object\n",
      "dtypes: object(2)\n",
      "memory usage: 2.1+ MB\n"
     ]
    }
   ],
   "source": [
    "\"\"\"Check the dataset description.\"\"\"\n",
    "\n",
    "government_interest.info()"
   ]
  },
  {
   "cell_type": "code",
   "execution_count": 195,
   "metadata": {},
   "outputs": [
    {
     "data": {
      "text/html": [
       "<div>\n",
       "<style scoped>\n",
       "    .dataframe tbody tr th:only-of-type {\n",
       "        vertical-align: middle;\n",
       "    }\n",
       "\n",
       "    .dataframe tbody tr th {\n",
       "        vertical-align: top;\n",
       "    }\n",
       "\n",
       "    .dataframe thead th {\n",
       "        text-align: right;\n",
       "    }\n",
       "</style>\n",
       "<table border=\"1\" class=\"dataframe\">\n",
       "  <thead>\n",
       "    <tr style=\"text-align: right;\">\n",
       "      <th></th>\n",
       "      <th>patent_id</th>\n",
       "      <th>gi_statement</th>\n",
       "    </tr>\n",
       "  </thead>\n",
       "  <tbody>\n",
       "    <tr>\n",
       "      <th>0</th>\n",
       "      <td>10000026</td>\n",
       "      <td>This invention was made with Government suppor...</td>\n",
       "    </tr>\n",
       "  </tbody>\n",
       "</table>\n",
       "</div>"
      ],
      "text/plain": [
       "  patent_id                                       gi_statement\n",
       "0  10000026  This invention was made with Government suppor..."
      ]
     },
     "execution_count": 195,
     "metadata": {},
     "output_type": "execute_result"
    }
   ],
   "source": [
    "government_interest.head(1)"
   ]
  },
  {
   "cell_type": "code",
   "execution_count": 196,
   "metadata": {},
   "outputs": [],
   "source": [
    "\"\"\"Merge on a common column containing patent ids, preserving patents that don't have\n",
    "government interest.\"\"\"\n",
    "\n",
    "patent_assignee_interest = pd.merge(left=merged_patent_assignee,right=government_interest, \n",
    "                                    on='patent_id', how='left')"
   ]
  },
  {
   "cell_type": "code",
   "execution_count": 197,
   "metadata": {},
   "outputs": [
    {
     "data": {
      "text/plain": [
       "230047"
      ]
     },
     "execution_count": 197,
     "metadata": {},
     "output_type": "execute_result"
    }
   ],
   "source": [
    "\"\"\"Check that the number of unique organization names stayed the same.\"\"\"\n",
    "\n",
    "patent_assignee_interest.organization.nunique()"
   ]
  },
  {
   "cell_type": "code",
   "execution_count": 198,
   "metadata": {},
   "outputs": [],
   "source": [
    "\"\"\"Fill NaN values with 0.\"\"\"\n",
    "\n",
    "patent_assignee_interest = patent_assignee_interest.fillna(0)"
   ]
  },
  {
   "cell_type": "code",
   "execution_count": 199,
   "metadata": {},
   "outputs": [],
   "source": [
    "\"\"\"Create a dummy variable: if a patent has government interest = 1, if not = 0.\"\"\"\n",
    "\n",
    "patent_assignee_interest['government_interest'] = (patent_assignee_interest['gi_statement'] != 0).astype(int)"
   ]
  },
  {
   "cell_type": "code",
   "execution_count": 200,
   "metadata": {},
   "outputs": [
    {
     "data": {
      "text/plain": [
       "array([0, 1])"
      ]
     },
     "execution_count": 200,
     "metadata": {},
     "output_type": "execute_result"
    }
   ],
   "source": [
    "\"\"\"Check that the values are either 1 or 0.\"\"\"\n",
    "\n",
    "patent_assignee_interest['government_interest'].unique()"
   ]
  },
  {
   "cell_type": "code",
   "execution_count": 201,
   "metadata": {},
   "outputs": [
    {
     "data": {
      "text/plain": [
       "230047"
      ]
     },
     "execution_count": 201,
     "metadata": {},
     "output_type": "execute_result"
    }
   ],
   "source": [
    "\"\"\"Check that the number of unique organization names is the same.\"\"\"\n",
    "\n",
    "patent_assignee_interest.organization.nunique()"
   ]
  },
  {
   "cell_type": "markdown",
   "metadata": {},
   "source": [
    "### Load application file and extract year from the \"date\" field"
   ]
  },
  {
   "cell_type": "code",
   "execution_count": 203,
   "metadata": {},
   "outputs": [
    {
     "name": "stdout",
     "output_type": "stream",
     "text": [
      "<class 'pandas.core.frame.DataFrame'>\n",
      "RangeIndex: 6915759 entries, 0 to 6915758\n",
      "Data columns (total 6 columns):\n",
      "id             object\n",
      "patent_id      object\n",
      "series_code    object\n",
      "number         object\n",
      "country        object\n",
      "date           object\n",
      "dtypes: object(6)\n",
      "memory usage: 316.6+ MB\n"
     ]
    }
   ],
   "source": [
    "\"\"\"Check the dataset description.\"\"\"\n",
    "\n",
    "application.info()"
   ]
  },
  {
   "cell_type": "code",
   "execution_count": 205,
   "metadata": {},
   "outputs": [],
   "source": [
    "\"\"\"Merge on a common column containing patent ids.\"\"\"\n",
    "patent_assignee_interest_application = pd.merge(left=patent_assignee_interest,right=application,\n",
    "                                                on='patent_id')\n",
    "\n",
    "\"\"\"Keep only the needed columns.\"\"\"\n",
    "patent_assignee_interest_application = patent_assignee_interest_application[['patent_id','assignee_id','organization','government_interest','date']]"
   ]
  },
  {
   "cell_type": "code",
   "execution_count": 210,
   "metadata": {},
   "outputs": [
    {
     "data": {
      "text/html": [
       "<div>\n",
       "<style scoped>\n",
       "    .dataframe tbody tr th:only-of-type {\n",
       "        vertical-align: middle;\n",
       "    }\n",
       "\n",
       "    .dataframe tbody tr th {\n",
       "        vertical-align: top;\n",
       "    }\n",
       "\n",
       "    .dataframe thead th {\n",
       "        text-align: right;\n",
       "    }\n",
       "</style>\n",
       "<table border=\"1\" class=\"dataframe\">\n",
       "  <thead>\n",
       "    <tr style=\"text-align: right;\">\n",
       "      <th></th>\n",
       "      <th>patent_id</th>\n",
       "      <th>assignee_id</th>\n",
       "      <th>organization</th>\n",
       "      <th>government_interest</th>\n",
       "      <th>year</th>\n",
       "    </tr>\n",
       "  </thead>\n",
       "  <tbody>\n",
       "    <tr>\n",
       "      <th>0</th>\n",
       "      <td>5856666</td>\n",
       "      <td>org_6swO9pOeuJWANlfOE5mf</td>\n",
       "      <td>U.S. Philips Corporation</td>\n",
       "      <td>0</td>\n",
       "      <td>1996.0</td>\n",
       "    </tr>\n",
       "    <tr>\n",
       "      <th>1</th>\n",
       "      <td>5856666</td>\n",
       "      <td>org_6swO9pOeuJWANlfOE5mf</td>\n",
       "      <td>U.S. Philips Corporation</td>\n",
       "      <td>0</td>\n",
       "      <td>1996.0</td>\n",
       "    </tr>\n",
       "    <tr>\n",
       "      <th>2</th>\n",
       "      <td>5856666</td>\n",
       "      <td>org_6swO9pOeuJWANlfOE5mf</td>\n",
       "      <td>U.S. Philips Corporation</td>\n",
       "      <td>0</td>\n",
       "      <td>1996.0</td>\n",
       "    </tr>\n",
       "    <tr>\n",
       "      <th>3</th>\n",
       "      <td>5856666</td>\n",
       "      <td>org_6swO9pOeuJWANlfOE5mf</td>\n",
       "      <td>U.S. Philips Corporation</td>\n",
       "      <td>0</td>\n",
       "      <td>1996.0</td>\n",
       "    </tr>\n",
       "    <tr>\n",
       "      <th>4</th>\n",
       "      <td>5856666</td>\n",
       "      <td>org_6swO9pOeuJWANlfOE5mf</td>\n",
       "      <td>U.S. Philips Corporation</td>\n",
       "      <td>0</td>\n",
       "      <td>1996.0</td>\n",
       "    </tr>\n",
       "  </tbody>\n",
       "</table>\n",
       "</div>"
      ],
      "text/plain": [
       "  patent_id               assignee_id              organization  \\\n",
       "0   5856666  org_6swO9pOeuJWANlfOE5mf  U.S. Philips Corporation   \n",
       "1   5856666  org_6swO9pOeuJWANlfOE5mf  U.S. Philips Corporation   \n",
       "2   5856666  org_6swO9pOeuJWANlfOE5mf  U.S. Philips Corporation   \n",
       "3   5856666  org_6swO9pOeuJWANlfOE5mf  U.S. Philips Corporation   \n",
       "4   5856666  org_6swO9pOeuJWANlfOE5mf  U.S. Philips Corporation   \n",
       "\n",
       "   government_interest    year  \n",
       "0                    0  1996.0  \n",
       "1                    0  1996.0  \n",
       "2                    0  1996.0  \n",
       "3                    0  1996.0  \n",
       "4                    0  1996.0  "
      ]
     },
     "execution_count": 210,
     "metadata": {},
     "output_type": "execute_result"
    }
   ],
   "source": [
    "\"\"\"Extract year from the date column.\"\"\"\n",
    "\n",
    "patent_assignee_interest_application['date'] = pd.to_datetime(patent_assignee_interest_application['date'], \n",
    "                                                              errors='coerce')\n",
    "patent_assignee_interest_application['year'] = patent_assignee_interest_application['date'].dt.year\n",
    "patent_assignee_interest_application = patent_assignee_interest_application.drop('date',axis=1)\n",
    "patent_assignee_interest_application.head()"
   ]
  },
  {
   "cell_type": "code",
   "execution_count": 213,
   "metadata": {},
   "outputs": [],
   "source": [
    "\"\"\"Now that the LOCATION_ID column is not there (which used to differentiate\n",
    "between different assignee rows), we can drop the duplicates.\"\"\"\n",
    "\n",
    "patent_assignee_interest_application = patent_assignee_interest_application.drop_duplicates()"
   ]
  },
  {
   "cell_type": "code",
   "execution_count": 216,
   "metadata": {},
   "outputs": [
    {
     "data": {
      "text/html": [
       "<div>\n",
       "<style scoped>\n",
       "    .dataframe tbody tr th:only-of-type {\n",
       "        vertical-align: middle;\n",
       "    }\n",
       "\n",
       "    .dataframe tbody tr th {\n",
       "        vertical-align: top;\n",
       "    }\n",
       "\n",
       "    .dataframe thead th {\n",
       "        text-align: right;\n",
       "    }\n",
       "</style>\n",
       "<table border=\"1\" class=\"dataframe\">\n",
       "  <thead>\n",
       "    <tr style=\"text-align: right;\">\n",
       "      <th></th>\n",
       "      <th>patent_id</th>\n",
       "      <th>assignee_id</th>\n",
       "      <th>organization</th>\n",
       "      <th>government_interest</th>\n",
       "      <th>year</th>\n",
       "    </tr>\n",
       "  </thead>\n",
       "  <tbody>\n",
       "    <tr>\n",
       "      <th>0</th>\n",
       "      <td>5856666</td>\n",
       "      <td>org_6swO9pOeuJWANlfOE5mf</td>\n",
       "      <td>U.S. Philips Corporation</td>\n",
       "      <td>0</td>\n",
       "      <td>1996.0</td>\n",
       "    </tr>\n",
       "    <tr>\n",
       "      <th>8</th>\n",
       "      <td>4527017</td>\n",
       "      <td>org_6swO9pOeuJWANlfOE5mf</td>\n",
       "      <td>U.S. Philips Corporation</td>\n",
       "      <td>0</td>\n",
       "      <td>1980.0</td>\n",
       "    </tr>\n",
       "    <tr>\n",
       "      <th>16</th>\n",
       "      <td>6339671</td>\n",
       "      <td>org_6swO9pOeuJWANlfOE5mf</td>\n",
       "      <td>U.S. Philips Corporation</td>\n",
       "      <td>0</td>\n",
       "      <td>2000.0</td>\n",
       "    </tr>\n",
       "    <tr>\n",
       "      <th>24</th>\n",
       "      <td>5275163</td>\n",
       "      <td>org_6swO9pOeuJWANlfOE5mf</td>\n",
       "      <td>U.S. Philips Corporation</td>\n",
       "      <td>0</td>\n",
       "      <td>1992.0</td>\n",
       "    </tr>\n",
       "    <tr>\n",
       "      <th>32</th>\n",
       "      <td>4803559</td>\n",
       "      <td>org_6swO9pOeuJWANlfOE5mf</td>\n",
       "      <td>U.S. Philips Corporation</td>\n",
       "      <td>0</td>\n",
       "      <td>1987.0</td>\n",
       "    </tr>\n",
       "  </tbody>\n",
       "</table>\n",
       "</div>"
      ],
      "text/plain": [
       "   patent_id               assignee_id              organization  \\\n",
       "0    5856666  org_6swO9pOeuJWANlfOE5mf  U.S. Philips Corporation   \n",
       "8    4527017  org_6swO9pOeuJWANlfOE5mf  U.S. Philips Corporation   \n",
       "16   6339671  org_6swO9pOeuJWANlfOE5mf  U.S. Philips Corporation   \n",
       "24   5275163  org_6swO9pOeuJWANlfOE5mf  U.S. Philips Corporation   \n",
       "32   4803559  org_6swO9pOeuJWANlfOE5mf  U.S. Philips Corporation   \n",
       "\n",
       "    government_interest    year  \n",
       "0                     0  1996.0  \n",
       "8                     0  1980.0  \n",
       "16                    0  2000.0  \n",
       "24                    0  1992.0  \n",
       "32                    0  1987.0  "
      ]
     },
     "execution_count": 216,
     "metadata": {},
     "output_type": "execute_result"
    }
   ],
   "source": [
    "patent_assignee_interest_application.head()"
   ]
  },
  {
   "cell_type": "markdown",
   "metadata": {},
   "source": [
    "### Filter the finalized dataframe for years from 2000+"
   ]
  },
  {
   "cell_type": "code",
   "execution_count": 217,
   "metadata": {},
   "outputs": [
    {
     "data": {
      "text/html": [
       "<div>\n",
       "<style scoped>\n",
       "    .dataframe tbody tr th:only-of-type {\n",
       "        vertical-align: middle;\n",
       "    }\n",
       "\n",
       "    .dataframe tbody tr th {\n",
       "        vertical-align: top;\n",
       "    }\n",
       "\n",
       "    .dataframe thead th {\n",
       "        text-align: right;\n",
       "    }\n",
       "</style>\n",
       "<table border=\"1\" class=\"dataframe\">\n",
       "  <thead>\n",
       "    <tr style=\"text-align: right;\">\n",
       "      <th></th>\n",
       "      <th>patent_id</th>\n",
       "      <th>assignee_id</th>\n",
       "      <th>organization</th>\n",
       "      <th>government_interest</th>\n",
       "      <th>year</th>\n",
       "    </tr>\n",
       "  </thead>\n",
       "  <tbody>\n",
       "    <tr>\n",
       "      <th>16</th>\n",
       "      <td>6339671</td>\n",
       "      <td>org_6swO9pOeuJWANlfOE5mf</td>\n",
       "      <td>U.S. Philips Corporation</td>\n",
       "      <td>0</td>\n",
       "      <td>2000.0</td>\n",
       "    </tr>\n",
       "    <tr>\n",
       "      <th>672</th>\n",
       "      <td>8228939</td>\n",
       "      <td>org_6swO9pOeuJWANlfOE5mf</td>\n",
       "      <td>U.S. Philips Corporation</td>\n",
       "      <td>0</td>\n",
       "      <td>2000.0</td>\n",
       "    </tr>\n",
       "    <tr>\n",
       "      <th>680</th>\n",
       "      <td>8228939</td>\n",
       "      <td>org_LMhqUwxLfu0m5GTIRqMY</td>\n",
       "      <td>Sharp Kabushiki Kaisha</td>\n",
       "      <td>0</td>\n",
       "      <td>2000.0</td>\n",
       "    </tr>\n",
       "    <tr>\n",
       "      <th>954</th>\n",
       "      <td>6348779</td>\n",
       "      <td>org_6swO9pOeuJWANlfOE5mf</td>\n",
       "      <td>U.S. Philips Corporation</td>\n",
       "      <td>0</td>\n",
       "      <td>2000.0</td>\n",
       "    </tr>\n",
       "    <tr>\n",
       "      <th>1002</th>\n",
       "      <td>6388644</td>\n",
       "      <td>org_6swO9pOeuJWANlfOE5mf</td>\n",
       "      <td>U.S. Philips Corporation</td>\n",
       "      <td>0</td>\n",
       "      <td>2000.0</td>\n",
       "    </tr>\n",
       "  </tbody>\n",
       "</table>\n",
       "</div>"
      ],
      "text/plain": [
       "     patent_id               assignee_id              organization  \\\n",
       "16     6339671  org_6swO9pOeuJWANlfOE5mf  U.S. Philips Corporation   \n",
       "672    8228939  org_6swO9pOeuJWANlfOE5mf  U.S. Philips Corporation   \n",
       "680    8228939  org_LMhqUwxLfu0m5GTIRqMY    Sharp Kabushiki Kaisha   \n",
       "954    6348779  org_6swO9pOeuJWANlfOE5mf  U.S. Philips Corporation   \n",
       "1002   6388644  org_6swO9pOeuJWANlfOE5mf  U.S. Philips Corporation   \n",
       "\n",
       "      government_interest    year  \n",
       "16                      0  2000.0  \n",
       "672                     0  2000.0  \n",
       "680                     0  2000.0  \n",
       "954                     0  2000.0  \n",
       "1002                    0  2000.0  "
      ]
     },
     "execution_count": 217,
     "metadata": {},
     "output_type": "execute_result"
    }
   ],
   "source": [
    "finalized_dataframe = patent_assignee_interest_application[patent_assignee_interest_application['year'] >= 2000]\n",
    "finalized_dataframe.head()"
   ]
  },
  {
   "cell_type": "markdown",
   "metadata": {},
   "source": [
    "### Merge with IPEDS file"
   ]
  },
  {
   "cell_type": "code",
   "execution_count": 218,
   "metadata": {},
   "outputs": [
    {
     "name": "stdout",
     "output_type": "stream",
     "text": [
      "<class 'pandas.core.frame.DataFrame'>\n",
      "RangeIndex: 7153 entries, 0 to 7152\n",
      "Data columns (total 4 columns):\n",
      "UNITID    7153 non-null int64\n",
      "INSTNM    7153 non-null object\n",
      "IALIAS    7153 non-null object\n",
      "STABBR    7153 non-null object\n",
      "dtypes: int64(1), object(3)\n",
      "memory usage: 223.6+ KB\n"
     ]
    }
   ],
   "source": [
    "\"\"\"Check the dataset description.\"\"\"\n",
    "\n",
    "ipeds.info()"
   ]
  },
  {
   "cell_type": "code",
   "execution_count": 220,
   "metadata": {},
   "outputs": [
    {
     "name": "stderr",
     "output_type": "stream",
     "text": [
      "/anaconda3/lib/python3.7/site-packages/ipykernel_launcher.py:14: SettingWithCopyWarning: \n",
      "A value is trying to be set on a copy of a slice from a DataFrame.\n",
      "Try using .loc[row_indexer,col_indexer] = value instead\n",
      "\n",
      "See the caveats in the documentation: http://pandas.pydata.org/pandas-docs/stable/indexing.html#indexing-view-versus-copy\n",
      "  \n"
     ]
    }
   ],
   "source": [
    "\"\"\"Normalize university names before merging with assignee and patent file: lowercase, \n",
    "remove white space, remove punctuation/special symbols.\"\"\"\n",
    "\n",
    "def normalize_names(name):\n",
    "    name = name.lower() # lowercase\n",
    "    name = name.strip() # remove trailing white space\n",
    "    for i in string.punctuation:\n",
    "        name = name.replace(i,'') # remove punctuation and special symbols\n",
    "    name = name.replace(' ','') # remove all white space\n",
    "    return name\n",
    "\n",
    "\"\"\"Apply normalization function to university and organization names.\"\"\"\n",
    "\n",
    "finalized_dataframe['organization'] = finalized_dataframe['organization'].apply(normalize_names)\n",
    "ipeds['INSTNM'] = ipeds['INSTNM'].apply(normalize_names)"
   ]
  },
  {
   "cell_type": "code",
   "execution_count": 221,
   "metadata": {},
   "outputs": [
    {
     "data": {
      "text/html": [
       "<div>\n",
       "<style scoped>\n",
       "    .dataframe tbody tr th:only-of-type {\n",
       "        vertical-align: middle;\n",
       "    }\n",
       "\n",
       "    .dataframe tbody tr th {\n",
       "        vertical-align: top;\n",
       "    }\n",
       "\n",
       "    .dataframe thead th {\n",
       "        text-align: right;\n",
       "    }\n",
       "</style>\n",
       "<table border=\"1\" class=\"dataframe\">\n",
       "  <thead>\n",
       "    <tr style=\"text-align: right;\">\n",
       "      <th></th>\n",
       "      <th>UNITID</th>\n",
       "      <th>INSTNM</th>\n",
       "      <th>IALIAS</th>\n",
       "      <th>STABBR</th>\n",
       "      <th>patent_id</th>\n",
       "      <th>assignee_id</th>\n",
       "      <th>organization</th>\n",
       "      <th>government_interest</th>\n",
       "      <th>year</th>\n",
       "    </tr>\n",
       "  </thead>\n",
       "  <tbody>\n",
       "    <tr>\n",
       "      <th>0</th>\n",
       "      <td>100654</td>\n",
       "      <td>alabamaamuniversity</td>\n",
       "      <td>AAMU</td>\n",
       "      <td>AL</td>\n",
       "      <td>6999221</td>\n",
       "      <td>org_agpbfFe0HQ59qCPZF1GH</td>\n",
       "      <td>alabamaamuniversity</td>\n",
       "      <td>0</td>\n",
       "      <td>2003.0</td>\n",
       "    </tr>\n",
       "    <tr>\n",
       "      <th>1</th>\n",
       "      <td>100654</td>\n",
       "      <td>alabamaamuniversity</td>\n",
       "      <td>AAMU</td>\n",
       "      <td>AL</td>\n",
       "      <td>9795634</td>\n",
       "      <td>org_agpbfFe0HQ59qCPZF1GH</td>\n",
       "      <td>alabamaamuniversity</td>\n",
       "      <td>0</td>\n",
       "      <td>2016.0</td>\n",
       "    </tr>\n",
       "    <tr>\n",
       "      <th>2</th>\n",
       "      <td>100706</td>\n",
       "      <td>universityofalabamainhuntsville</td>\n",
       "      <td>UAH |University of Alabama Huntsville</td>\n",
       "      <td>AL</td>\n",
       "      <td>9182228</td>\n",
       "      <td>org_tgWZGEfsbc3WWgsU6KAV</td>\n",
       "      <td>universityofalabamainhuntsville</td>\n",
       "      <td>1</td>\n",
       "      <td>2006.0</td>\n",
       "    </tr>\n",
       "    <tr>\n",
       "      <th>3</th>\n",
       "      <td>100706</td>\n",
       "      <td>universityofalabamainhuntsville</td>\n",
       "      <td>UAH |University of Alabama Huntsville</td>\n",
       "      <td>AL</td>\n",
       "      <td>8735844</td>\n",
       "      <td>org_tgWZGEfsbc3WWgsU6KAV</td>\n",
       "      <td>universityofalabamainhuntsville</td>\n",
       "      <td>1</td>\n",
       "      <td>2013.0</td>\n",
       "    </tr>\n",
       "    <tr>\n",
       "      <th>4</th>\n",
       "      <td>100706</td>\n",
       "      <td>universityofalabamainhuntsville</td>\n",
       "      <td>UAH |University of Alabama Huntsville</td>\n",
       "      <td>AL</td>\n",
       "      <td>8706178</td>\n",
       "      <td>org_tgWZGEfsbc3WWgsU6KAV</td>\n",
       "      <td>universityofalabamainhuntsville</td>\n",
       "      <td>0</td>\n",
       "      <td>2006.0</td>\n",
       "    </tr>\n",
       "  </tbody>\n",
       "</table>\n",
       "</div>"
      ],
      "text/plain": [
       "   UNITID                           INSTNM  \\\n",
       "0  100654              alabamaamuniversity   \n",
       "1  100654              alabamaamuniversity   \n",
       "2  100706  universityofalabamainhuntsville   \n",
       "3  100706  universityofalabamainhuntsville   \n",
       "4  100706  universityofalabamainhuntsville   \n",
       "\n",
       "                                  IALIAS STABBR patent_id  \\\n",
       "0                                   AAMU     AL   6999221   \n",
       "1                                   AAMU     AL   9795634   \n",
       "2  UAH |University of Alabama Huntsville     AL   9182228   \n",
       "3  UAH |University of Alabama Huntsville     AL   8735844   \n",
       "4  UAH |University of Alabama Huntsville     AL   8706178   \n",
       "\n",
       "                assignee_id                     organization  \\\n",
       "0  org_agpbfFe0HQ59qCPZF1GH              alabamaamuniversity   \n",
       "1  org_agpbfFe0HQ59qCPZF1GH              alabamaamuniversity   \n",
       "2  org_tgWZGEfsbc3WWgsU6KAV  universityofalabamainhuntsville   \n",
       "3  org_tgWZGEfsbc3WWgsU6KAV  universityofalabamainhuntsville   \n",
       "4  org_tgWZGEfsbc3WWgsU6KAV  universityofalabamainhuntsville   \n",
       "\n",
       "   government_interest    year  \n",
       "0                    0  2003.0  \n",
       "1                    0  2016.0  \n",
       "2                    1  2006.0  \n",
       "3                    1  2013.0  \n",
       "4                    0  2006.0  "
      ]
     },
     "execution_count": 221,
     "metadata": {},
     "output_type": "execute_result"
    }
   ],
   "source": [
    "\"\"\"Merge on a common column containing names.\"\"\"\n",
    "\n",
    "merged_ipeds_patents = pd.merge(left=ipeds,right=finalized_dataframe,\n",
    "                                left_on='INSTNM',right_on='organization')\n",
    "\n",
    "merged_ipeds_patents.head()"
   ]
  },
  {
   "cell_type": "code",
   "execution_count": 222,
   "metadata": {},
   "outputs": [
    {
     "data": {
      "text/plain": [
       "289"
      ]
     },
     "execution_count": 222,
     "metadata": {},
     "output_type": "execute_result"
    }
   ],
   "source": [
    "\"\"\"Check the number of matched IPEDS organizations.\"\"\"\n",
    "\n",
    "merged_ipeds_patents.organization.nunique()"
   ]
  },
  {
   "cell_type": "code",
   "execution_count": 224,
   "metadata": {},
   "outputs": [],
   "source": [
    "\"\"\"Optional: run a fuzzy matching function to get close matches in names, a specified cutoff is 0.6, or 60% in similarity \n",
    "between two names.\"\"\"\n",
    "\n",
    "#results = []\n",
    "#for i in ipeds['organization']:\n",
    "    #results.append([i, difflib.get_close_matches(i, finalized['organization'], cutoff=0.6)])\n",
    "\n",
    "# Validate the matches and import file with validate matches\n",
    "\n",
    "#results.to_csv('names_matches_to_validate.csv') # file to validate\n",
    "\n",
    "# Validation by quering the patents dataframe organization name column\n",
    "# e.g.\n",
    "#for i in finalized_dataframe['organization']:\n",
    "#    if 'florida' in i:\n",
    "#        print(i)\n",
    "\n",
    "\"\"\"Import validated file.\"\"\"\n",
    "\n",
    "validated = pd.read_csv('names_matches_validated.csv') \n",
    "\n",
    "\"\"\"Merge with the patents dataframe on the organization name column.\"\"\"\n",
    "\n",
    "additional_validated = pd.merge(left=finalized_dataframe,right=validated,\n",
    "                                left_on='organization',right_on='PatentsView_organization')"
   ]
  },
  {
   "cell_type": "code",
   "execution_count": 227,
   "metadata": {},
   "outputs": [
    {
     "data": {
      "text/html": [
       "<div>\n",
       "<style scoped>\n",
       "    .dataframe tbody tr th:only-of-type {\n",
       "        vertical-align: middle;\n",
       "    }\n",
       "\n",
       "    .dataframe tbody tr th {\n",
       "        vertical-align: top;\n",
       "    }\n",
       "\n",
       "    .dataframe thead th {\n",
       "        text-align: right;\n",
       "    }\n",
       "</style>\n",
       "<table border=\"1\" class=\"dataframe\">\n",
       "  <thead>\n",
       "    <tr style=\"text-align: right;\">\n",
       "      <th></th>\n",
       "      <th>patent_id</th>\n",
       "      <th>assignee_id</th>\n",
       "      <th>organization</th>\n",
       "      <th>government_interest</th>\n",
       "      <th>year</th>\n",
       "      <th>UNITID</th>\n",
       "      <th>CTOTALT</th>\n",
       "      <th>IPEDS_organization</th>\n",
       "      <th>PatentsView_organization</th>\n",
       "      <th>IALIAS</th>\n",
       "      <th>STABBR</th>\n",
       "    </tr>\n",
       "  </thead>\n",
       "  <tbody>\n",
       "    <tr>\n",
       "      <th>0</th>\n",
       "      <td>9489582</td>\n",
       "      <td>org_oc1bCBtS9yjBGFF0gQAc</td>\n",
       "      <td>thepennstateresearchfoundation</td>\n",
       "      <td>0</td>\n",
       "      <td>2014.0</td>\n",
       "      <td>214777</td>\n",
       "      <td>1618</td>\n",
       "      <td>pennsylvaniastateuniversitymaincampus</td>\n",
       "      <td>thepennstateresearchfoundation</td>\n",
       "      <td>NaN</td>\n",
       "      <td>NaN</td>\n",
       "    </tr>\n",
       "    <tr>\n",
       "      <th>1</th>\n",
       "      <td>9489582</td>\n",
       "      <td>org_oc1bCBtS9yjBGFF0gQAc</td>\n",
       "      <td>thepennstateresearchfoundation</td>\n",
       "      <td>0</td>\n",
       "      <td>2014.0</td>\n",
       "      <td>214777</td>\n",
       "      <td>1618</td>\n",
       "      <td>pennsylvaniastateuniversitymaincampus</td>\n",
       "      <td>thepennstateresearchfoundation</td>\n",
       "      <td>NaN</td>\n",
       "      <td>NaN</td>\n",
       "    </tr>\n",
       "    <tr>\n",
       "      <th>2</th>\n",
       "      <td>9489582</td>\n",
       "      <td>org_oc1bCBtS9yjBGFF0gQAc</td>\n",
       "      <td>thepennstateresearchfoundation</td>\n",
       "      <td>0</td>\n",
       "      <td>2014.0</td>\n",
       "      <td>214777</td>\n",
       "      <td>1618</td>\n",
       "      <td>pennsylvaniastateuniversitymaincampus</td>\n",
       "      <td>thepennstateresearchfoundation</td>\n",
       "      <td>NaN</td>\n",
       "      <td>NaN</td>\n",
       "    </tr>\n",
       "    <tr>\n",
       "      <th>3</th>\n",
       "      <td>9489582</td>\n",
       "      <td>org_oc1bCBtS9yjBGFF0gQAc</td>\n",
       "      <td>thepennstateresearchfoundation</td>\n",
       "      <td>0</td>\n",
       "      <td>2014.0</td>\n",
       "      <td>214777</td>\n",
       "      <td>1618</td>\n",
       "      <td>pennsylvaniastateuniversitymaincampus</td>\n",
       "      <td>thepennstateresearchfoundation</td>\n",
       "      <td>NaN</td>\n",
       "      <td>NaN</td>\n",
       "    </tr>\n",
       "    <tr>\n",
       "      <th>4</th>\n",
       "      <td>9317780</td>\n",
       "      <td>org_oc1bCBtS9yjBGFF0gQAc</td>\n",
       "      <td>thepennstateresearchfoundation</td>\n",
       "      <td>0</td>\n",
       "      <td>2014.0</td>\n",
       "      <td>214777</td>\n",
       "      <td>1618</td>\n",
       "      <td>pennsylvaniastateuniversitymaincampus</td>\n",
       "      <td>thepennstateresearchfoundation</td>\n",
       "      <td>NaN</td>\n",
       "      <td>NaN</td>\n",
       "    </tr>\n",
       "  </tbody>\n",
       "</table>\n",
       "</div>"
      ],
      "text/plain": [
       "  patent_id               assignee_id                    organization  \\\n",
       "0   9489582  org_oc1bCBtS9yjBGFF0gQAc  thepennstateresearchfoundation   \n",
       "1   9489582  org_oc1bCBtS9yjBGFF0gQAc  thepennstateresearchfoundation   \n",
       "2   9489582  org_oc1bCBtS9yjBGFF0gQAc  thepennstateresearchfoundation   \n",
       "3   9489582  org_oc1bCBtS9yjBGFF0gQAc  thepennstateresearchfoundation   \n",
       "4   9317780  org_oc1bCBtS9yjBGFF0gQAc  thepennstateresearchfoundation   \n",
       "\n",
       "   government_interest    year  UNITID  CTOTALT  \\\n",
       "0                    0  2014.0  214777     1618   \n",
       "1                    0  2014.0  214777     1618   \n",
       "2                    0  2014.0  214777     1618   \n",
       "3                    0  2014.0  214777     1618   \n",
       "4                    0  2014.0  214777     1618   \n",
       "\n",
       "                      IPEDS_organization        PatentsView_organization  \\\n",
       "0  pennsylvaniastateuniversitymaincampus  thepennstateresearchfoundation   \n",
       "1  pennsylvaniastateuniversitymaincampus  thepennstateresearchfoundation   \n",
       "2  pennsylvaniastateuniversitymaincampus  thepennstateresearchfoundation   \n",
       "3  pennsylvaniastateuniversitymaincampus  thepennstateresearchfoundation   \n",
       "4  pennsylvaniastateuniversitymaincampus  thepennstateresearchfoundation   \n",
       "\n",
       "  IALIAS STABBR  \n",
       "0    NaN    NaN  \n",
       "1    NaN    NaN  \n",
       "2    NaN    NaN  \n",
       "3    NaN    NaN  \n",
       "4    NaN    NaN  "
      ]
     },
     "execution_count": 227,
     "metadata": {},
     "output_type": "execute_result"
    }
   ],
   "source": [
    "additional_validated.head()"
   ]
  },
  {
   "cell_type": "code",
   "execution_count": 228,
   "metadata": {},
   "outputs": [],
   "source": [
    "\"\"\"Drop duplicates.\"\"\"\n",
    "\n",
    "additional_validated = additional_validated.drop_duplicates()"
   ]
  },
  {
   "cell_type": "code",
   "execution_count": 239,
   "metadata": {},
   "outputs": [
    {
     "name": "stderr",
     "output_type": "stream",
     "text": [
      "/anaconda3/lib/python3.7/site-packages/ipykernel_launcher.py:3: FutureWarning: Sorting because non-concatenation axis is not aligned. A future version\n",
      "of pandas will change to not sort by default.\n",
      "\n",
      "To accept the future behavior, pass 'sort=False'.\n",
      "\n",
      "To retain the current behavior and silence the warning, pass 'sort=True'.\n",
      "\n",
      "  This is separate from the ipykernel package so we can avoid doing imports until\n"
     ]
    }
   ],
   "source": [
    "\"\"\"Concatenate exact match and fuzzy matched validated dataframes.\"\"\"\n",
    "\n",
    "patent_universities = pd.concat([merged_ipeds_patents,additional_validated])\n",
    "\n",
    "\"\"\"Keep only needed columns.\"\"\"\n",
    "patent_universities = patent_universities[['UNITID','assignee_id','government_interest','organization','patent_id','year']]"
   ]
  },
  {
   "cell_type": "code",
   "execution_count": 240,
   "metadata": {},
   "outputs": [
    {
     "data": {
      "text/plain": [
       "537"
      ]
     },
     "execution_count": 240,
     "metadata": {},
     "output_type": "execute_result"
    }
   ],
   "source": [
    "\"\"\"There are 537 university matches in the assignee and patent file.\"\"\"\n",
    "\n",
    "patent_universities.organization.nunique()"
   ]
  },
  {
   "cell_type": "code",
   "execution_count": 241,
   "metadata": {},
   "outputs": [
    {
     "data": {
      "text/html": [
       "<div>\n",
       "<style scoped>\n",
       "    .dataframe tbody tr th:only-of-type {\n",
       "        vertical-align: middle;\n",
       "    }\n",
       "\n",
       "    .dataframe tbody tr th {\n",
       "        vertical-align: top;\n",
       "    }\n",
       "\n",
       "    .dataframe thead th {\n",
       "        text-align: right;\n",
       "    }\n",
       "</style>\n",
       "<table border=\"1\" class=\"dataframe\">\n",
       "  <thead>\n",
       "    <tr style=\"text-align: right;\">\n",
       "      <th></th>\n",
       "      <th>UNITID</th>\n",
       "      <th>assignee_id</th>\n",
       "      <th>government_interest</th>\n",
       "      <th>organization</th>\n",
       "      <th>patent_id</th>\n",
       "      <th>year</th>\n",
       "    </tr>\n",
       "  </thead>\n",
       "  <tbody>\n",
       "    <tr>\n",
       "      <th>0</th>\n",
       "      <td>100654</td>\n",
       "      <td>org_agpbfFe0HQ59qCPZF1GH</td>\n",
       "      <td>0</td>\n",
       "      <td>alabamaamuniversity</td>\n",
       "      <td>6999221</td>\n",
       "      <td>2003.0</td>\n",
       "    </tr>\n",
       "    <tr>\n",
       "      <th>1</th>\n",
       "      <td>100654</td>\n",
       "      <td>org_agpbfFe0HQ59qCPZF1GH</td>\n",
       "      <td>0</td>\n",
       "      <td>alabamaamuniversity</td>\n",
       "      <td>9795634</td>\n",
       "      <td>2016.0</td>\n",
       "    </tr>\n",
       "    <tr>\n",
       "      <th>2</th>\n",
       "      <td>100706</td>\n",
       "      <td>org_tgWZGEfsbc3WWgsU6KAV</td>\n",
       "      <td>1</td>\n",
       "      <td>universityofalabamainhuntsville</td>\n",
       "      <td>9182228</td>\n",
       "      <td>2006.0</td>\n",
       "    </tr>\n",
       "    <tr>\n",
       "      <th>3</th>\n",
       "      <td>100706</td>\n",
       "      <td>org_tgWZGEfsbc3WWgsU6KAV</td>\n",
       "      <td>1</td>\n",
       "      <td>universityofalabamainhuntsville</td>\n",
       "      <td>8735844</td>\n",
       "      <td>2013.0</td>\n",
       "    </tr>\n",
       "    <tr>\n",
       "      <th>4</th>\n",
       "      <td>100706</td>\n",
       "      <td>org_tgWZGEfsbc3WWgsU6KAV</td>\n",
       "      <td>0</td>\n",
       "      <td>universityofalabamainhuntsville</td>\n",
       "      <td>8706178</td>\n",
       "      <td>2006.0</td>\n",
       "    </tr>\n",
       "  </tbody>\n",
       "</table>\n",
       "</div>"
      ],
      "text/plain": [
       "   UNITID               assignee_id  government_interest  \\\n",
       "0  100654  org_agpbfFe0HQ59qCPZF1GH                    0   \n",
       "1  100654  org_agpbfFe0HQ59qCPZF1GH                    0   \n",
       "2  100706  org_tgWZGEfsbc3WWgsU6KAV                    1   \n",
       "3  100706  org_tgWZGEfsbc3WWgsU6KAV                    1   \n",
       "4  100706  org_tgWZGEfsbc3WWgsU6KAV                    0   \n",
       "\n",
       "                      organization patent_id    year  \n",
       "0              alabamaamuniversity   6999221  2003.0  \n",
       "1              alabamaamuniversity   9795634  2016.0  \n",
       "2  universityofalabamainhuntsville   9182228  2006.0  \n",
       "3  universityofalabamainhuntsville   8735844  2013.0  \n",
       "4  universityofalabamainhuntsville   8706178  2006.0  "
      ]
     },
     "execution_count": 241,
     "metadata": {},
     "output_type": "execute_result"
    }
   ],
   "source": [
    "patent_universities.head()"
   ]
  },
  {
   "cell_type": "markdown",
   "metadata": {},
   "source": [
    "## Variable construction"
   ]
  },
  {
   "cell_type": "markdown",
   "metadata": {},
   "source": [
    "### Number of patents joint with business (#joint_w_business)"
   ]
  },
  {
   "cell_type": "code",
   "execution_count": 242,
   "metadata": {},
   "outputs": [],
   "source": [
    "\"\"\"To find assignees which are businesses, filter the patents dataframe by assignees \n",
    "who do not have universities IDs.\"\"\"\n",
    "\n",
    "university_ids = patent_universities['assignee_id'].values.tolist()\n",
    "patent_business = finalized_dataframe[~finalized_dataframe['assignee_id'].isin(university_ids)]"
   ]
  },
  {
   "cell_type": "code",
   "execution_count": 243,
   "metadata": {},
   "outputs": [
    {
     "data": {
      "text/plain": [
       "133614"
      ]
     },
     "execution_count": 243,
     "metadata": {},
     "output_type": "execute_result"
    }
   ],
   "source": [
    "\"\"\"Check the number of organization names in the business category.\"\"\"\n",
    "\n",
    "patent_business.organization.nunique()"
   ]
  },
  {
   "cell_type": "code",
   "execution_count": 244,
   "metadata": {},
   "outputs": [],
   "source": [
    "\"\"\"Merge on a common patent_id number.\"\"\"\n",
    "\n",
    "merged_business_university = pd.merge(left=patent_business,right=patent_universities,\n",
    "                                      on='patent_id')"
   ]
  },
  {
   "cell_type": "code",
   "execution_count": 250,
   "metadata": {},
   "outputs": [],
   "source": [
    "\"\"\"Drop duplicates.\"\"\"\n",
    "\n",
    "merged_business_university = merged_business_university.drop_duplicates()"
   ]
  },
  {
   "cell_type": "code",
   "execution_count": 251,
   "metadata": {},
   "outputs": [],
   "source": [
    "\"\"\"Group by a university name and count the number of patents joint with businesses.\"\"\"\n",
    "\n",
    "joint_with_business = merged_business_university.groupby(['UNITID','organization_y'])['patent_id'].count().reset_index()"
   ]
  },
  {
   "cell_type": "code",
   "execution_count": 254,
   "metadata": {},
   "outputs": [],
   "source": [
    "\"\"\"Rename the columns.\"\"\"\n",
    "joint_with_business = joint_with_business.rename(columns={'patent_id':'#joint_w_business'})\n",
    "joint_with_business = joint_with_business.rename(columns={'organization_y':'organization'})"
   ]
  },
  {
   "cell_type": "code",
   "execution_count": 256,
   "metadata": {},
   "outputs": [
    {
     "data": {
      "text/plain": [
       "282"
      ]
     },
     "execution_count": 256,
     "metadata": {},
     "output_type": "execute_result"
    }
   ],
   "source": [
    "\"\"\"282 universities have joint patents with business.\"\"\"\n",
    "\n",
    "joint_with_business.organization.nunique()"
   ]
  },
  {
   "cell_type": "code",
   "execution_count": 255,
   "metadata": {},
   "outputs": [
    {
     "data": {
      "text/html": [
       "<div>\n",
       "<style scoped>\n",
       "    .dataframe tbody tr th:only-of-type {\n",
       "        vertical-align: middle;\n",
       "    }\n",
       "\n",
       "    .dataframe tbody tr th {\n",
       "        vertical-align: top;\n",
       "    }\n",
       "\n",
       "    .dataframe thead th {\n",
       "        text-align: right;\n",
       "    }\n",
       "</style>\n",
       "<table border=\"1\" class=\"dataframe\">\n",
       "  <thead>\n",
       "    <tr style=\"text-align: right;\">\n",
       "      <th></th>\n",
       "      <th>UNITID</th>\n",
       "      <th>organization</th>\n",
       "      <th>#joint_w_business</th>\n",
       "    </tr>\n",
       "  </thead>\n",
       "  <tbody>\n",
       "    <tr>\n",
       "      <th>19</th>\n",
       "      <td>110662</td>\n",
       "      <td>theregentsoftheuniversityofcalifornia</td>\n",
       "      <td>958</td>\n",
       "    </tr>\n",
       "    <tr>\n",
       "      <th>108</th>\n",
       "      <td>166683</td>\n",
       "      <td>massachusettsinstituteoftechnology</td>\n",
       "      <td>528</td>\n",
       "    </tr>\n",
       "    <tr>\n",
       "      <th>277</th>\n",
       "      <td>243744</td>\n",
       "      <td>theboardoftrusteesofthelelandstanfordjunioruni...</td>\n",
       "      <td>306</td>\n",
       "    </tr>\n",
       "    <tr>\n",
       "      <th>120</th>\n",
       "      <td>170976</td>\n",
       "      <td>theregentsoftheuniversityofmichigan</td>\n",
       "      <td>277</td>\n",
       "    </tr>\n",
       "    <tr>\n",
       "      <th>106</th>\n",
       "      <td>166027</td>\n",
       "      <td>presidentandfellowsofharvardcollege</td>\n",
       "      <td>273</td>\n",
       "    </tr>\n",
       "    <tr>\n",
       "      <th>183</th>\n",
       "      <td>198419</td>\n",
       "      <td>dukeuniversity</td>\n",
       "      <td>214</td>\n",
       "    </tr>\n",
       "    <tr>\n",
       "      <th>96</th>\n",
       "      <td>162928</td>\n",
       "      <td>thejohnshopkinsuniversity</td>\n",
       "      <td>200</td>\n",
       "    </tr>\n",
       "    <tr>\n",
       "      <th>10</th>\n",
       "      <td>110404</td>\n",
       "      <td>californiainstituteoftechnology</td>\n",
       "      <td>195</td>\n",
       "    </tr>\n",
       "    <tr>\n",
       "      <th>132</th>\n",
       "      <td>174066</td>\n",
       "      <td>regentsoftheuniversityofminnesota</td>\n",
       "      <td>165</td>\n",
       "    </tr>\n",
       "    <tr>\n",
       "      <th>47</th>\n",
       "      <td>134130</td>\n",
       "      <td>universityoffloridaresearchfoundationinc</td>\n",
       "      <td>163</td>\n",
       "    </tr>\n",
       "  </tbody>\n",
       "</table>\n",
       "</div>"
      ],
      "text/plain": [
       "     UNITID                                       organization  \\\n",
       "19   110662              theregentsoftheuniversityofcalifornia   \n",
       "108  166683                 massachusettsinstituteoftechnology   \n",
       "277  243744  theboardoftrusteesofthelelandstanfordjunioruni...   \n",
       "120  170976                theregentsoftheuniversityofmichigan   \n",
       "106  166027                presidentandfellowsofharvardcollege   \n",
       "183  198419                                     dukeuniversity   \n",
       "96   162928                          thejohnshopkinsuniversity   \n",
       "10   110404                    californiainstituteoftechnology   \n",
       "132  174066                  regentsoftheuniversityofminnesota   \n",
       "47   134130           universityoffloridaresearchfoundationinc   \n",
       "\n",
       "     #joint_w_business  \n",
       "19                 958  \n",
       "108                528  \n",
       "277                306  \n",
       "120                277  \n",
       "106                273  \n",
       "183                214  \n",
       "96                 200  \n",
       "10                 195  \n",
       "132                165  \n",
       "47                 163  "
      ]
     },
     "execution_count": 255,
     "metadata": {},
     "output_type": "execute_result"
    }
   ],
   "source": [
    "\"\"\"Show top 10 universities with patents that are joint with business\"\"\"\n",
    "\n",
    "joint_with_business.sort_values('#joint_w_business',ascending=False).head(10)"
   ]
  },
  {
   "cell_type": "markdown",
   "metadata": {},
   "source": [
    "### Total number of patents (#applied_patents)"
   ]
  },
  {
   "cell_type": "code",
   "execution_count": 257,
   "metadata": {},
   "outputs": [],
   "source": [
    "\"\"\"Group by a university and count the number of total patents since 2000.\"\"\"\n",
    "\n",
    "number_patents = patent_universities.groupby(['UNITID','organization'])['patent_id'].count().reset_index()"
   ]
  },
  {
   "cell_type": "code",
   "execution_count": 260,
   "metadata": {},
   "outputs": [
    {
     "data": {
      "text/html": [
       "<div>\n",
       "<style scoped>\n",
       "    .dataframe tbody tr th:only-of-type {\n",
       "        vertical-align: middle;\n",
       "    }\n",
       "\n",
       "    .dataframe tbody tr th {\n",
       "        vertical-align: top;\n",
       "    }\n",
       "\n",
       "    .dataframe thead th {\n",
       "        text-align: right;\n",
       "    }\n",
       "</style>\n",
       "<table border=\"1\" class=\"dataframe\">\n",
       "  <thead>\n",
       "    <tr style=\"text-align: right;\">\n",
       "      <th></th>\n",
       "      <th>UNITID</th>\n",
       "      <th>organization</th>\n",
       "      <th>#applied_patents</th>\n",
       "    </tr>\n",
       "  </thead>\n",
       "  <tbody>\n",
       "    <tr>\n",
       "      <th>34</th>\n",
       "      <td>110662</td>\n",
       "      <td>theregentsoftheuniversityofcalifornia</td>\n",
       "      <td>7339</td>\n",
       "    </tr>\n",
       "    <tr>\n",
       "      <th>211</th>\n",
       "      <td>166683</td>\n",
       "      <td>massachusettsinstituteoftechnology</td>\n",
       "      <td>7304</td>\n",
       "    </tr>\n",
       "    <tr>\n",
       "      <th>534</th>\n",
       "      <td>243744</td>\n",
       "      <td>theboardoftrusteesofthelelandstanfordjunioruni...</td>\n",
       "      <td>2628</td>\n",
       "    </tr>\n",
       "    <tr>\n",
       "      <th>20</th>\n",
       "      <td>110404</td>\n",
       "      <td>californiainstituteoftechnology</td>\n",
       "      <td>2367</td>\n",
       "    </tr>\n",
       "    <tr>\n",
       "      <th>524</th>\n",
       "      <td>240444</td>\n",
       "      <td>wisconsinalumniresearchfoundation</td>\n",
       "      <td>2155</td>\n",
       "    </tr>\n",
       "    <tr>\n",
       "      <th>141</th>\n",
       "      <td>147767</td>\n",
       "      <td>northwesternuniversity</td>\n",
       "      <td>1994</td>\n",
       "    </tr>\n",
       "    <tr>\n",
       "      <th>48</th>\n",
       "      <td>123961</td>\n",
       "      <td>universityofsoutherncalifornia</td>\n",
       "      <td>1814</td>\n",
       "    </tr>\n",
       "    <tr>\n",
       "      <th>351</th>\n",
       "      <td>198419</td>\n",
       "      <td>dukeuniversity</td>\n",
       "      <td>1790</td>\n",
       "    </tr>\n",
       "    <tr>\n",
       "      <th>190</th>\n",
       "      <td>162928</td>\n",
       "      <td>thejohnshopkinsuniversity</td>\n",
       "      <td>1750</td>\n",
       "    </tr>\n",
       "    <tr>\n",
       "      <th>235</th>\n",
       "      <td>170976</td>\n",
       "      <td>theregentsoftheuniversityofmichigan</td>\n",
       "      <td>1681</td>\n",
       "    </tr>\n",
       "  </tbody>\n",
       "</table>\n",
       "</div>"
      ],
      "text/plain": [
       "     UNITID                                       organization  \\\n",
       "34   110662              theregentsoftheuniversityofcalifornia   \n",
       "211  166683                 massachusettsinstituteoftechnology   \n",
       "534  243744  theboardoftrusteesofthelelandstanfordjunioruni...   \n",
       "20   110404                    californiainstituteoftechnology   \n",
       "524  240444                  wisconsinalumniresearchfoundation   \n",
       "141  147767                             northwesternuniversity   \n",
       "48   123961                     universityofsoutherncalifornia   \n",
       "351  198419                                     dukeuniversity   \n",
       "190  162928                          thejohnshopkinsuniversity   \n",
       "235  170976                theregentsoftheuniversityofmichigan   \n",
       "\n",
       "     #applied_patents  \n",
       "34               7339  \n",
       "211              7304  \n",
       "534              2628  \n",
       "20               2367  \n",
       "524              2155  \n",
       "141              1994  \n",
       "48               1814  \n",
       "351              1790  \n",
       "190              1750  \n",
       "235              1681  "
      ]
     },
     "execution_count": 260,
     "metadata": {},
     "output_type": "execute_result"
    }
   ],
   "source": [
    "\"\"\"Rename the columns.\"\"\"\n",
    "number_patents = number_patents.rename(columns={'patent_id':'#applied_patents'})\n",
    "\n",
    "\"\"\"Show top 10 universities by total patents.\"\"\"\n",
    "number_patents.sort_values('#applied_patents',ascending=False).head(10)"
   ]
  },
  {
   "cell_type": "code",
   "execution_count": 261,
   "metadata": {},
   "outputs": [
    {
     "data": {
      "text/plain": [
       "537"
      ]
     },
     "execution_count": 261,
     "metadata": {},
     "output_type": "execute_result"
    }
   ],
   "source": [
    "\"\"\"The number of universities is the same - 537 records.\"\"\"\n",
    "\n",
    "number_patents.organization.nunique()"
   ]
  },
  {
   "cell_type": "markdown",
   "metadata": {},
   "source": [
    "### Number of patents with government interest (#applied_govinterest)"
   ]
  },
  {
   "cell_type": "code",
   "execution_count": 265,
   "metadata": {},
   "outputs": [],
   "source": [
    "\"\"\"Subset dataframe by those patents with government interest.\"\"\"\n",
    "\n",
    "with_govinterest = patent_universities[patent_universities['government_interest'] == 1]"
   ]
  },
  {
   "cell_type": "code",
   "execution_count": 266,
   "metadata": {},
   "outputs": [],
   "source": [
    "\"\"\"Group by a university and count the total number of patents with government interest.\"\"\"\n",
    "\n",
    "with_govinterest = with_govinterest.groupby(['UNITID','organization'])['patent_id'].count().reset_index()"
   ]
  },
  {
   "cell_type": "code",
   "execution_count": 267,
   "metadata": {},
   "outputs": [
    {
     "data": {
      "text/html": [
       "<div>\n",
       "<style scoped>\n",
       "    .dataframe tbody tr th:only-of-type {\n",
       "        vertical-align: middle;\n",
       "    }\n",
       "\n",
       "    .dataframe tbody tr th {\n",
       "        vertical-align: top;\n",
       "    }\n",
       "\n",
       "    .dataframe thead th {\n",
       "        text-align: right;\n",
       "    }\n",
       "</style>\n",
       "<table border=\"1\" class=\"dataframe\">\n",
       "  <thead>\n",
       "    <tr style=\"text-align: right;\">\n",
       "      <th></th>\n",
       "      <th>UNITID</th>\n",
       "      <th>organization</th>\n",
       "      <th>#applied_govinterest</th>\n",
       "    </tr>\n",
       "  </thead>\n",
       "  <tbody>\n",
       "    <tr>\n",
       "      <th>28</th>\n",
       "      <td>110662</td>\n",
       "      <td>theregentsoftheuniversityofcalifornia</td>\n",
       "      <td>4521</td>\n",
       "    </tr>\n",
       "    <tr>\n",
       "      <th>175</th>\n",
       "      <td>166683</td>\n",
       "      <td>massachusettsinstituteoftechnology</td>\n",
       "      <td>4338</td>\n",
       "    </tr>\n",
       "    <tr>\n",
       "      <th>415</th>\n",
       "      <td>240444</td>\n",
       "      <td>wisconsinalumniresearchfoundation</td>\n",
       "      <td>1603</td>\n",
       "    </tr>\n",
       "    <tr>\n",
       "      <th>16</th>\n",
       "      <td>110404</td>\n",
       "      <td>californiainstituteoftechnology</td>\n",
       "      <td>1571</td>\n",
       "    </tr>\n",
       "    <tr>\n",
       "      <th>121</th>\n",
       "      <td>147767</td>\n",
       "      <td>northwesternuniversity</td>\n",
       "      <td>1516</td>\n",
       "    </tr>\n",
       "    <tr>\n",
       "      <th>422</th>\n",
       "      <td>243744</td>\n",
       "      <td>theboardoftrusteesofthelelandstanfordjunioruni...</td>\n",
       "      <td>1412</td>\n",
       "    </tr>\n",
       "    <tr>\n",
       "      <th>192</th>\n",
       "      <td>170976</td>\n",
       "      <td>theregentsoftheuniversityofmichigan</td>\n",
       "      <td>1020</td>\n",
       "    </tr>\n",
       "    <tr>\n",
       "      <th>39</th>\n",
       "      <td>123961</td>\n",
       "      <td>universityofsoutherncalifornia</td>\n",
       "      <td>954</td>\n",
       "    </tr>\n",
       "    <tr>\n",
       "      <th>288</th>\n",
       "      <td>198419</td>\n",
       "      <td>dukeuniversity</td>\n",
       "      <td>950</td>\n",
       "    </tr>\n",
       "    <tr>\n",
       "      <th>157</th>\n",
       "      <td>162928</td>\n",
       "      <td>thejohnshopkinsuniversity</td>\n",
       "      <td>944</td>\n",
       "    </tr>\n",
       "  </tbody>\n",
       "</table>\n",
       "</div>"
      ],
      "text/plain": [
       "     UNITID                                       organization  \\\n",
       "28   110662              theregentsoftheuniversityofcalifornia   \n",
       "175  166683                 massachusettsinstituteoftechnology   \n",
       "415  240444                  wisconsinalumniresearchfoundation   \n",
       "16   110404                    californiainstituteoftechnology   \n",
       "121  147767                             northwesternuniversity   \n",
       "422  243744  theboardoftrusteesofthelelandstanfordjunioruni...   \n",
       "192  170976                theregentsoftheuniversityofmichigan   \n",
       "39   123961                     universityofsoutherncalifornia   \n",
       "288  198419                                     dukeuniversity   \n",
       "157  162928                          thejohnshopkinsuniversity   \n",
       "\n",
       "     #applied_govinterest  \n",
       "28                   4521  \n",
       "175                  4338  \n",
       "415                  1603  \n",
       "16                   1571  \n",
       "121                  1516  \n",
       "422                  1412  \n",
       "192                  1020  \n",
       "39                    954  \n",
       "288                   950  \n",
       "157                   944  "
      ]
     },
     "execution_count": 267,
     "metadata": {},
     "output_type": "execute_result"
    }
   ],
   "source": [
    "\"\"\"Rename the column to the variable name.\"\"\"\n",
    "\n",
    "with_govinterest = with_govinterest.rename(columns={'patent_id':'#applied_govinterest'})\n",
    "\n",
    "\"\"\"Show top 10 universities by patents with government interest.\"\"\"\n",
    "\n",
    "with_govinterest.sort_values('#applied_govinterest',ascending=False).head(10)"
   ]
  },
  {
   "cell_type": "code",
   "execution_count": 268,
   "metadata": {},
   "outputs": [
    {
     "data": {
      "text/plain": [
       "423"
      ]
     },
     "execution_count": 268,
     "metadata": {},
     "output_type": "execute_result"
    }
   ],
   "source": [
    "\"\"\"There are 423 universities with patents with government interest.\"\"\"\n",
    "\n",
    "with_govinterest.organization.nunique()"
   ]
  },
  {
   "cell_type": "markdown",
   "metadata": {},
   "source": [
    "### Number of female inventors (#female_inventors)"
   ]
  },
  {
   "cell_type": "code",
   "execution_count": 275,
   "metadata": {},
   "outputs": [
    {
     "name": "stdout",
     "output_type": "stream",
     "text": [
      "<class 'pandas.core.frame.DataFrame'>\n",
      "RangeIndex: 16515750 entries, 0 to 16515749\n",
      "Data columns (total 2 columns):\n",
      "patent_id      object\n",
      "inventor_id    object\n",
      "dtypes: object(2)\n",
      "memory usage: 252.0+ MB\n"
     ]
    }
   ],
   "source": [
    "\"\"\"Check the dataset description.\"\"\"\n",
    "\n",
    "patent_inventor.info()"
   ]
  },
  {
   "cell_type": "code",
   "execution_count": 282,
   "metadata": {},
   "outputs": [
    {
     "data": {
      "text/plain": [
       "array([ 1,  2,  4,  3, 10,  6,  8, 14, 11,  5,  9,  7, 12, 13, 16, 18, 24,\n",
       "       15, 21, 25, 17, 19, 20, 27, 22, 26, 23, 34, 28, 32, 33, 29, 30, 41,\n",
       "       38, 31, 51, 37, 36, 60, 76, 40, 43, 65, 53, 63, 39, 61, 42, 44])"
      ]
     },
     "execution_count": 282,
     "metadata": {},
     "output_type": "execute_result"
    }
   ],
   "source": [
    "patent_inventor.groupby('patent_id')['inventor_id'].count().unique()"
   ]
  },
  {
   "cell_type": "code",
   "execution_count": 276,
   "metadata": {},
   "outputs": [
    {
     "name": "stderr",
     "output_type": "stream",
     "text": [
      "/anaconda3/lib/python3.7/site-packages/ipykernel_launcher.py:3: DeprecationWarning: elementwise comparison failed; this will raise an error in the future.\n",
      "  This is separate from the ipykernel package so we can avoid doing imports until\n"
     ]
    },
    {
     "data": {
      "text/plain": [
       "False"
      ]
     },
     "execution_count": 276,
     "metadata": {},
     "output_type": "execute_result"
    }
   ],
   "source": [
    "\"\"\"Not all university patents are in the PATENT_INVENTOR dataset.\"\"\"\n",
    "\n",
    "patents_university = patent_universities.patent_id.unique()\n",
    "patents_full = patent_inventor.patent_id.unique()\n",
    "\n",
    "patents_university in patents_full"
   ]
  },
  {
   "cell_type": "code",
   "execution_count": 280,
   "metadata": {},
   "outputs": [
    {
     "data": {
      "text/plain": [
       "1746"
      ]
     },
     "execution_count": 280,
     "metadata": {},
     "output_type": "execute_result"
    }
   ],
   "source": [
    "\"\"\"1,746 university patents are not in PATENT_INVENTOR dataset.\"\"\"\n",
    "\n",
    "results = list(set(patents_university) - set(patents_full))\n",
    "len(patents_university) - len(results)"
   ]
  },
  {
   "cell_type": "code",
   "execution_count": 287,
   "metadata": {},
   "outputs": [],
   "source": [
    "\"\"\"Merge university patent data with PATENT_INVENTOR.\"\"\"\n",
    "\n",
    "assignee_inventor = pd.merge(left=patent_universities,right=patent_inventor, \n",
    "                             on='patent_id')"
   ]
  },
  {
   "cell_type": "code",
   "execution_count": 291,
   "metadata": {},
   "outputs": [
    {
     "data": {
      "text/plain": [
       "158"
      ]
     },
     "execution_count": 291,
     "metadata": {},
     "output_type": "execute_result"
    }
   ],
   "source": [
    "\"\"\"158 universities have data on associated inventors.\"\"\"\n",
    "\n",
    "assignee_inventor.organization.nunique()"
   ]
  },
  {
   "cell_type": "code",
   "execution_count": 289,
   "metadata": {},
   "outputs": [
    {
     "name": "stdout",
     "output_type": "stream",
     "text": [
      "<class 'pandas.core.frame.DataFrame'>\n",
      "RangeIndex: 2335017 entries, 0 to 2335016\n",
      "Data columns (total 4 columns):\n",
      "disamb_inventor_id_20170808    object\n",
      "disamb_inventor_id_20181127    object\n",
      "disamb_inventor_id_20190312    object\n",
      "male                           object\n",
      "dtypes: object(4)\n",
      "memory usage: 71.3+ MB\n"
     ]
    }
   ],
   "source": [
    "\"\"\"Check the dataset description.\"\"\"\n",
    "\n",
    "inventor_gender.info()"
   ]
  },
  {
   "cell_type": "code",
   "execution_count": 290,
   "metadata": {},
   "outputs": [],
   "source": [
    "\"\"\"Merge with INVENTOR_GENDER. Use the latest version of disambiguation - \n",
    "disamb_inventor_id_20190312.\"\"\"\n",
    "\n",
    "assignee_inventor_gender = pd.merge(left=assignee_inventor,right=inventor_gender, \n",
    "                                    left_on='inventor_id',right_on='disamb_inventor_id_20190312')"
   ]
  },
  {
   "cell_type": "code",
   "execution_count": 293,
   "metadata": {},
   "outputs": [
    {
     "data": {
      "text/html": [
       "<div>\n",
       "<style scoped>\n",
       "    .dataframe tbody tr th:only-of-type {\n",
       "        vertical-align: middle;\n",
       "    }\n",
       "\n",
       "    .dataframe tbody tr th {\n",
       "        vertical-align: top;\n",
       "    }\n",
       "\n",
       "    .dataframe thead th {\n",
       "        text-align: right;\n",
       "    }\n",
       "</style>\n",
       "<table border=\"1\" class=\"dataframe\">\n",
       "  <thead>\n",
       "    <tr style=\"text-align: right;\">\n",
       "      <th></th>\n",
       "      <th>UNITID</th>\n",
       "      <th>organization</th>\n",
       "      <th>#female_inventors</th>\n",
       "    </tr>\n",
       "  </thead>\n",
       "  <tbody>\n",
       "    <tr>\n",
       "      <th>28</th>\n",
       "      <td>166683</td>\n",
       "      <td>massachusettsinstituteoftechnology</td>\n",
       "      <td>64</td>\n",
       "    </tr>\n",
       "    <tr>\n",
       "      <th>3</th>\n",
       "      <td>110662</td>\n",
       "      <td>theregentsoftheuniversityofcalifornia</td>\n",
       "      <td>37</td>\n",
       "    </tr>\n",
       "    <tr>\n",
       "      <th>14</th>\n",
       "      <td>139959</td>\n",
       "      <td>universityofgeorgiaresearchfoundationinc</td>\n",
       "      <td>30</td>\n",
       "    </tr>\n",
       "    <tr>\n",
       "      <th>40</th>\n",
       "      <td>186380</td>\n",
       "      <td>rutgersthestateuniversityofnewjersey</td>\n",
       "      <td>29</td>\n",
       "    </tr>\n",
       "    <tr>\n",
       "      <th>70</th>\n",
       "      <td>228723</td>\n",
       "      <td>thetexasamuniversitysystem</td>\n",
       "      <td>21</td>\n",
       "    </tr>\n",
       "    <tr>\n",
       "      <th>51</th>\n",
       "      <td>199193</td>\n",
       "      <td>northcarolinastateuniversity</td>\n",
       "      <td>16</td>\n",
       "    </tr>\n",
       "    <tr>\n",
       "      <th>52</th>\n",
       "      <td>201645</td>\n",
       "      <td>casewesternreserveuniversity</td>\n",
       "      <td>14</td>\n",
       "    </tr>\n",
       "    <tr>\n",
       "      <th>29</th>\n",
       "      <td>167358</td>\n",
       "      <td>northeasternuniversity</td>\n",
       "      <td>14</td>\n",
       "    </tr>\n",
       "    <tr>\n",
       "      <th>36</th>\n",
       "      <td>174066</td>\n",
       "      <td>regentsoftheuniversityofminnesota</td>\n",
       "      <td>13</td>\n",
       "    </tr>\n",
       "    <tr>\n",
       "      <th>2</th>\n",
       "      <td>110404</td>\n",
       "      <td>californiainstituteoftechnology</td>\n",
       "      <td>12</td>\n",
       "    </tr>\n",
       "  </tbody>\n",
       "</table>\n",
       "</div>"
      ],
      "text/plain": [
       "    UNITID                              organization  #female_inventors\n",
       "28  166683        massachusettsinstituteoftechnology                 64\n",
       "3   110662     theregentsoftheuniversityofcalifornia                 37\n",
       "14  139959  universityofgeorgiaresearchfoundationinc                 30\n",
       "40  186380      rutgersthestateuniversityofnewjersey                 29\n",
       "70  228723                thetexasamuniversitysystem                 21\n",
       "51  199193              northcarolinastateuniversity                 16\n",
       "52  201645              casewesternreserveuniversity                 14\n",
       "29  167358                    northeasternuniversity                 14\n",
       "36  174066         regentsoftheuniversityofminnesota                 13\n",
       "2   110404           californiainstituteoftechnology                 12"
      ]
     },
     "execution_count": 293,
     "metadata": {},
     "output_type": "execute_result"
    }
   ],
   "source": [
    "\"\"\"Subset by those rows where \"male\" == 0 (or \"female\").\"\"\"\n",
    "female_inventors = assignee_inventor_gender[assignee_inventor_gender['male'] == 0]\n",
    "\n",
    "\"\"\"Group by a university and count the number of female inventors.\"\"\"\n",
    "female_inventors = female_inventors.groupby(['UNITID','organization'])['male'].count().reset_index()\n",
    "\n",
    "\"\"\"Rename columns to the variable name.\"\"\"\n",
    "female_inventors = female_inventors.rename(columns={'male':'#female_inventors'})\n",
    "\n",
    "\"\"\"Show top 10 universities by female inventors.\"\"\"\n",
    "female_inventors.sort_values('#female_inventors',ascending=False).head(10)"
   ]
  },
  {
   "cell_type": "code",
   "execution_count": 36,
   "metadata": {},
   "outputs": [
    {
     "data": {
      "text/plain": [
       "81"
      ]
     },
     "execution_count": 36,
     "metadata": {},
     "output_type": "execute_result"
    }
   ],
   "source": [
    "\"\"\"81 universities have information on female inventors.\"\"\"\n",
    "\n",
    "female_inventors.organization.nunique()"
   ]
  },
  {
   "cell_type": "markdown",
   "metadata": {},
   "source": [
    "### Number of unique inventors (#unique_inventors)"
   ]
  },
  {
   "cell_type": "code",
   "execution_count": 295,
   "metadata": {},
   "outputs": [
    {
     "data": {
      "text/html": [
       "<div>\n",
       "<style scoped>\n",
       "    .dataframe tbody tr th:only-of-type {\n",
       "        vertical-align: middle;\n",
       "    }\n",
       "\n",
       "    .dataframe tbody tr th {\n",
       "        vertical-align: top;\n",
       "    }\n",
       "\n",
       "    .dataframe thead th {\n",
       "        text-align: right;\n",
       "    }\n",
       "</style>\n",
       "<table border=\"1\" class=\"dataframe\">\n",
       "  <thead>\n",
       "    <tr style=\"text-align: right;\">\n",
       "      <th></th>\n",
       "      <th>UNITID</th>\n",
       "      <th>organization</th>\n",
       "      <th>#unique_inventors</th>\n",
       "    </tr>\n",
       "  </thead>\n",
       "  <tbody>\n",
       "    <tr>\n",
       "      <th>8</th>\n",
       "      <td>110662</td>\n",
       "      <td>theregentsoftheuniversityofcalifornia</td>\n",
       "      <td>401</td>\n",
       "    </tr>\n",
       "    <tr>\n",
       "      <th>56</th>\n",
       "      <td>166683</td>\n",
       "      <td>massachusettsinstituteoftechnology</td>\n",
       "      <td>257</td>\n",
       "    </tr>\n",
       "    <tr>\n",
       "      <th>6</th>\n",
       "      <td>110404</td>\n",
       "      <td>californiainstituteoftechnology</td>\n",
       "      <td>152</td>\n",
       "    </tr>\n",
       "    <tr>\n",
       "      <th>55</th>\n",
       "      <td>166027</td>\n",
       "      <td>presidentandfellowsofharvardcollege</td>\n",
       "      <td>118</td>\n",
       "    </tr>\n",
       "    <tr>\n",
       "      <th>24</th>\n",
       "      <td>134130</td>\n",
       "      <td>universityoffloridaresearchfoundationinc</td>\n",
       "      <td>114</td>\n",
       "    </tr>\n",
       "    <tr>\n",
       "      <th>71</th>\n",
       "      <td>174066</td>\n",
       "      <td>regentsoftheuniversityofminnesota</td>\n",
       "      <td>107</td>\n",
       "    </tr>\n",
       "    <tr>\n",
       "      <th>48</th>\n",
       "      <td>162928</td>\n",
       "      <td>thejohnshopkinsuniversity</td>\n",
       "      <td>101</td>\n",
       "    </tr>\n",
       "    <tr>\n",
       "      <th>151</th>\n",
       "      <td>240444</td>\n",
       "      <td>wisconsinalumniresearchfoundation</td>\n",
       "      <td>99</td>\n",
       "    </tr>\n",
       "    <tr>\n",
       "      <th>123</th>\n",
       "      <td>215062</td>\n",
       "      <td>thetrusteesoftheuniversityofpennsylvania</td>\n",
       "      <td>96</td>\n",
       "    </tr>\n",
       "    <tr>\n",
       "      <th>65</th>\n",
       "      <td>170976</td>\n",
       "      <td>theregentsoftheuniversityofmichigan</td>\n",
       "      <td>95</td>\n",
       "    </tr>\n",
       "  </tbody>\n",
       "</table>\n",
       "</div>"
      ],
      "text/plain": [
       "     UNITID                              organization  #unique_inventors\n",
       "8    110662     theregentsoftheuniversityofcalifornia                401\n",
       "56   166683        massachusettsinstituteoftechnology                257\n",
       "6    110404           californiainstituteoftechnology                152\n",
       "55   166027       presidentandfellowsofharvardcollege                118\n",
       "24   134130  universityoffloridaresearchfoundationinc                114\n",
       "71   174066         regentsoftheuniversityofminnesota                107\n",
       "48   162928                 thejohnshopkinsuniversity                101\n",
       "151  240444         wisconsinalumniresearchfoundation                 99\n",
       "123  215062  thetrusteesoftheuniversityofpennsylvania                 96\n",
       "65   170976       theregentsoftheuniversityofmichigan                 95"
      ]
     },
     "execution_count": 295,
     "metadata": {},
     "output_type": "execute_result"
    }
   ],
   "source": [
    "\"\"\"Group by a university and count number of unique inventor IDs.\"\"\"\n",
    "unique_inventors = assignee_inventor.groupby(['UNITID','organization'])['inventor_id'].nunique().reset_index()\n",
    "\n",
    "\"\"\"Rename the columnms to the variable name.\"\"\"\n",
    "unique_inventors = unique_inventors.rename(columns={'inventor_id':'#unique_inventors'})\n",
    "\n",
    "\"\"\"Show top 10 universities by unique inventor_id.\"\"\"\n",
    "unique_inventors.sort_values('#unique_inventors',ascending=False).head(10)"
   ]
  },
  {
   "cell_type": "code",
   "execution_count": 296,
   "metadata": {},
   "outputs": [
    {
     "data": {
      "text/plain": [
       "158"
      ]
     },
     "execution_count": 296,
     "metadata": {},
     "output_type": "execute_result"
    }
   ],
   "source": [
    "\"\"\"158 universities have information on associated inventors.\"\"\"\n",
    "\n",
    "unique_inventors.organization.nunique()"
   ]
  },
  {
   "cell_type": "markdown",
   "metadata": {},
   "source": [
    "### Top IPC classification categories"
   ]
  },
  {
   "cell_type": "code",
   "execution_count": 297,
   "metadata": {},
   "outputs": [
    {
     "name": "stdout",
     "output_type": "stream",
     "text": [
      "<class 'pandas.core.frame.DataFrame'>\n",
      "RangeIndex: 14325388 entries, 0 to 14325387\n",
      "Data columns (total 15 columns):\n",
      "uuid                          object\n",
      "patent_id                     object\n",
      "classification_level          object\n",
      "section                       object\n",
      "ipc_class                     object\n",
      "subclass                      object\n",
      "main_group                    object\n",
      "subgroup                      object\n",
      "symbol_position               object\n",
      "classification_value          object\n",
      "classification_status         object\n",
      "classification_data_source    object\n",
      "action_date                   object\n",
      "ipc_version_indicator         object\n",
      "sequence                      int64\n",
      "dtypes: int64(1), object(14)\n",
      "memory usage: 1.6+ GB\n"
     ]
    }
   ],
   "source": [
    "\"\"\"Check the dataset description. This dataset provides information on IPC classification \n",
    "categories of patents.\"\"\"\n",
    "\n",
    "ipcr.info()"
   ]
  },
  {
   "cell_type": "code",
   "execution_count": 299,
   "metadata": {},
   "outputs": [],
   "source": [
    "\"\"\"Keep only needed columns: patent_id and category.\"\"\"\n",
    "\n",
    "ipcr = ipcr[['patent_id','section']]"
   ]
  },
  {
   "cell_type": "code",
   "execution_count": 300,
   "metadata": {},
   "outputs": [],
   "source": [
    "\"\"\"Merge university patents with IPC.\"\"\"\n",
    "\n",
    "patent_ipc = pd.merge(left=patent_universities,right=ipcr,\n",
    "                      on='patent_id')"
   ]
  },
  {
   "cell_type": "code",
   "execution_count": 301,
   "metadata": {},
   "outputs": [
    {
     "data": {
      "text/plain": [
       "535"
      ]
     },
     "execution_count": 301,
     "metadata": {},
     "output_type": "execute_result"
    }
   ],
   "source": [
    "\"\"\"535 universities have patents with IPC classification.\"\"\"\n",
    "\n",
    "patent_ipc.organization.nunique()"
   ]
  },
  {
   "cell_type": "code",
   "execution_count": 306,
   "metadata": {},
   "outputs": [
    {
     "data": {
      "text/html": [
       "<div>\n",
       "<style scoped>\n",
       "    .dataframe tbody tr th:only-of-type {\n",
       "        vertical-align: middle;\n",
       "    }\n",
       "\n",
       "    .dataframe tbody tr th {\n",
       "        vertical-align: top;\n",
       "    }\n",
       "\n",
       "    .dataframe thead th {\n",
       "        text-align: right;\n",
       "    }\n",
       "</style>\n",
       "<table border=\"1\" class=\"dataframe\">\n",
       "  <thead>\n",
       "    <tr style=\"text-align: right;\">\n",
       "      <th></th>\n",
       "      <th>UNITID</th>\n",
       "      <th>organization</th>\n",
       "      <th>section</th>\n",
       "      <th>count</th>\n",
       "    </tr>\n",
       "  </thead>\n",
       "  <tbody>\n",
       "    <tr>\n",
       "      <th>0</th>\n",
       "      <td>100654</td>\n",
       "      <td>alabamaamuniversity</td>\n",
       "      <td>A</td>\n",
       "      <td>3</td>\n",
       "    </tr>\n",
       "    <tr>\n",
       "      <th>1</th>\n",
       "      <td>100654</td>\n",
       "      <td>alabamaamuniversity</td>\n",
       "      <td>B</td>\n",
       "      <td>2</td>\n",
       "    </tr>\n",
       "    <tr>\n",
       "      <th>2</th>\n",
       "      <td>100654</td>\n",
       "      <td>alabamaamuniversity</td>\n",
       "      <td>G</td>\n",
       "      <td>3</td>\n",
       "    </tr>\n",
       "    <tr>\n",
       "      <th>3</th>\n",
       "      <td>100654</td>\n",
       "      <td>alabamaamuniversity</td>\n",
       "      <td>H</td>\n",
       "      <td>1</td>\n",
       "    </tr>\n",
       "    <tr>\n",
       "      <th>4</th>\n",
       "      <td>100706</td>\n",
       "      <td>universityofalabamainhuntsville</td>\n",
       "      <td>A</td>\n",
       "      <td>16</td>\n",
       "    </tr>\n",
       "  </tbody>\n",
       "</table>\n",
       "</div>"
      ],
      "text/plain": [
       "   UNITID                     organization section  count\n",
       "0  100654              alabamaamuniversity       A      3\n",
       "1  100654              alabamaamuniversity       B      2\n",
       "2  100654              alabamaamuniversity       G      3\n",
       "3  100654              alabamaamuniversity       H      1\n",
       "4  100706  universityofalabamainhuntsville       A     16"
      ]
     },
     "execution_count": 306,
     "metadata": {},
     "output_type": "execute_result"
    }
   ],
   "source": [
    "\"\"\"Count the number of patents per IPC category.\"\"\"\n",
    "\n",
    "patent_ipc['count'] = [1] * len(patent_ipc)\n",
    "ipc = patent_ipc.groupby(['UNITID','organization','section'])['count'].count().reset_index()\n",
    "ipc.head()"
   ]
  },
  {
   "cell_type": "code",
   "execution_count": 307,
   "metadata": {},
   "outputs": [],
   "source": [
    "\"\"\"Sort by the highest count per category and get top five results per university.\"\"\"\n",
    "\n",
    "ipc_sorted = ipc.sort_values(['organization','count'],ascending=False)\n",
    "ipc_top_five = ipc_sorted.groupby('organization').head(5)"
   ]
  },
  {
   "cell_type": "code",
   "execution_count": 322,
   "metadata": {},
   "outputs": [
    {
     "data": {
      "text/html": [
       "<div>\n",
       "<style scoped>\n",
       "    .dataframe tbody tr th:only-of-type {\n",
       "        vertical-align: middle;\n",
       "    }\n",
       "\n",
       "    .dataframe tbody tr th {\n",
       "        vertical-align: top;\n",
       "    }\n",
       "\n",
       "    .dataframe thead th {\n",
       "        text-align: right;\n",
       "    }\n",
       "</style>\n",
       "<table border=\"1\" class=\"dataframe\">\n",
       "  <thead>\n",
       "    <tr style=\"text-align: right;\">\n",
       "      <th></th>\n",
       "      <th>UNITID</th>\n",
       "      <th>organization</th>\n",
       "      <th>section</th>\n",
       "      <th>count</th>\n",
       "    </tr>\n",
       "  </thead>\n",
       "  <tbody>\n",
       "    <tr>\n",
       "      <th>213</th>\n",
       "      <td>130794</td>\n",
       "      <td>yaleuniversity</td>\n",
       "      <td>A</td>\n",
       "      <td>1870</td>\n",
       "    </tr>\n",
       "    <tr>\n",
       "      <th>215</th>\n",
       "      <td>130794</td>\n",
       "      <td>yaleuniversity</td>\n",
       "      <td>C</td>\n",
       "      <td>1636</td>\n",
       "    </tr>\n",
       "    <tr>\n",
       "      <th>218</th>\n",
       "      <td>130794</td>\n",
       "      <td>yaleuniversity</td>\n",
       "      <td>G</td>\n",
       "      <td>404</td>\n",
       "    </tr>\n",
       "    <tr>\n",
       "      <th>214</th>\n",
       "      <td>130794</td>\n",
       "      <td>yaleuniversity</td>\n",
       "      <td>B</td>\n",
       "      <td>268</td>\n",
       "    </tr>\n",
       "    <tr>\n",
       "      <th>219</th>\n",
       "      <td>130794</td>\n",
       "      <td>yaleuniversity</td>\n",
       "      <td>H</td>\n",
       "      <td>212</td>\n",
       "    </tr>\n",
       "  </tbody>\n",
       "</table>\n",
       "</div>"
      ],
      "text/plain": [
       "     UNITID    organization section  count\n",
       "213  130794  yaleuniversity       A   1870\n",
       "215  130794  yaleuniversity       C   1636\n",
       "218  130794  yaleuniversity       G    404\n",
       "214  130794  yaleuniversity       B    268\n",
       "219  130794  yaleuniversity       H    212"
      ]
     },
     "execution_count": 322,
     "metadata": {},
     "output_type": "execute_result"
    }
   ],
   "source": [
    "\"\"\"Check a given university.\"\"\"\n",
    "\n",
    "ipc_top_five[ipc_top_five['organization'] == 'yaleuniversity']"
   ]
  },
  {
   "cell_type": "code",
   "execution_count": 321,
   "metadata": {},
   "outputs": [
    {
     "data": {
      "text/html": [
       "<div>\n",
       "<style scoped>\n",
       "    .dataframe tbody tr th:only-of-type {\n",
       "        vertical-align: middle;\n",
       "    }\n",
       "\n",
       "    .dataframe tbody tr th {\n",
       "        vertical-align: top;\n",
       "    }\n",
       "\n",
       "    .dataframe thead th {\n",
       "        text-align: right;\n",
       "    }\n",
       "</style>\n",
       "<table border=\"1\" class=\"dataframe\">\n",
       "  <thead>\n",
       "    <tr style=\"text-align: right;\">\n",
       "      <th></th>\n",
       "      <th>UNITID</th>\n",
       "      <th>organization</th>\n",
       "      <th>section</th>\n",
       "      <th>count</th>\n",
       "      <th>name</th>\n",
       "    </tr>\n",
       "  </thead>\n",
       "  <tbody>\n",
       "    <tr>\n",
       "      <th>600</th>\n",
       "      <td>130794</td>\n",
       "      <td>yaleuniversity</td>\n",
       "      <td>A</td>\n",
       "      <td>1870</td>\n",
       "      <td>Human Necessitites</td>\n",
       "    </tr>\n",
       "    <tr>\n",
       "      <th>958</th>\n",
       "      <td>130794</td>\n",
       "      <td>yaleuniversity</td>\n",
       "      <td>C</td>\n",
       "      <td>1636</td>\n",
       "      <td>Chemistry; Metallurgy</td>\n",
       "    </tr>\n",
       "    <tr>\n",
       "      <th>262</th>\n",
       "      <td>130794</td>\n",
       "      <td>yaleuniversity</td>\n",
       "      <td>G</td>\n",
       "      <td>404</td>\n",
       "      <td>Physics</td>\n",
       "    </tr>\n",
       "    <tr>\n",
       "      <th>1317</th>\n",
       "      <td>130794</td>\n",
       "      <td>yaleuniversity</td>\n",
       "      <td>B</td>\n",
       "      <td>268</td>\n",
       "      <td>Performing Operations; Transporting</td>\n",
       "    </tr>\n",
       "    <tr>\n",
       "      <th>1</th>\n",
       "      <td>130794</td>\n",
       "      <td>yaleuniversity</td>\n",
       "      <td>H</td>\n",
       "      <td>212</td>\n",
       "      <td>Electricity</td>\n",
       "    </tr>\n",
       "  </tbody>\n",
       "</table>\n",
       "</div>"
      ],
      "text/plain": [
       "      UNITID    organization section  count  \\\n",
       "600   130794  yaleuniversity       A   1870   \n",
       "958   130794  yaleuniversity       C   1636   \n",
       "262   130794  yaleuniversity       G    404   \n",
       "1317  130794  yaleuniversity       B    268   \n",
       "1     130794  yaleuniversity       H    212   \n",
       "\n",
       "                                     name  \n",
       "600                    Human Necessitites  \n",
       "958                 Chemistry; Metallurgy  \n",
       "262                               Physics  \n",
       "1317  Performing Operations; Transporting  \n",
       "1                             Electricity  "
      ]
     },
     "execution_count": 321,
     "metadata": {},
     "output_type": "execute_result"
    }
   ],
   "source": [
    "\"\"\"Merge with the category names.\"\"\"\n",
    "\n",
    "section_name = pd.DataFrame() # create a dataframe with category names\n",
    "section_name['section'] = ['A','B','C','D','E','F','G','H']\n",
    "section_name['name'] = ['Human Necessitites','Performing Operations; Transporting','Chemistry; Metallurgy','Textiles; Paper','Fixed Constructions','Mechanical Engineering; Lighting; Heating; Weapons; Blasting','Physics','Electricity']\n",
    "\n",
    "ipc_name = pd.merge(left=ipc_top_five,right=section_name,\n",
    "                    on='section')\n",
    "ipc_name_sorted = ipc_name.sort_values(['organization','count'],ascending=False)\n",
    "\n",
    "\"\"\"Check a given university.\"\"\"\n",
    "\n",
    "ipc_name_sorted[ipc_name_sorted['organization'] == 'yaleuniversity']"
   ]
  },
  {
   "cell_type": "code",
   "execution_count": 324,
   "metadata": {},
   "outputs": [
    {
     "data": {
      "text/html": [
       "<div>\n",
       "<style scoped>\n",
       "    .dataframe tbody tr th:only-of-type {\n",
       "        vertical-align: middle;\n",
       "    }\n",
       "\n",
       "    .dataframe tbody tr th {\n",
       "        vertical-align: top;\n",
       "    }\n",
       "\n",
       "    .dataframe thead th {\n",
       "        text-align: right;\n",
       "    }\n",
       "</style>\n",
       "<table border=\"1\" class=\"dataframe\">\n",
       "  <thead>\n",
       "    <tr style=\"text-align: right;\">\n",
       "      <th></th>\n",
       "      <th>UNITID</th>\n",
       "      <th>organization</th>\n",
       "      <th>top_5_ipc</th>\n",
       "    </tr>\n",
       "  </thead>\n",
       "  <tbody>\n",
       "    <tr>\n",
       "      <th>0</th>\n",
       "      <td>100654</td>\n",
       "      <td>alabamaamuniversity</td>\n",
       "      <td>[Physics, Human Necessitites, Performing Opera...</td>\n",
       "    </tr>\n",
       "    <tr>\n",
       "      <th>1</th>\n",
       "      <td>100706</td>\n",
       "      <td>universityofalabamainhuntsville</td>\n",
       "      <td>[Physics, Electricity, Human Necessitites, Per...</td>\n",
       "    </tr>\n",
       "    <tr>\n",
       "      <th>2</th>\n",
       "      <td>100724</td>\n",
       "      <td>alabamastateuniversity</td>\n",
       "      <td>[Chemistry; Metallurgy, Human Necessitites, Ph...</td>\n",
       "    </tr>\n",
       "    <tr>\n",
       "      <th>3</th>\n",
       "      <td>100751</td>\n",
       "      <td>theuniversityofalabama</td>\n",
       "      <td>[Electricity, Chemistry; Metallurgy, Physics, ...</td>\n",
       "    </tr>\n",
       "    <tr>\n",
       "      <th>4</th>\n",
       "      <td>100858</td>\n",
       "      <td>auburnuniversity</td>\n",
       "      <td>[Human Necessitites, Chemistry; Metallurgy, Ph...</td>\n",
       "    </tr>\n",
       "  </tbody>\n",
       "</table>\n",
       "</div>"
      ],
      "text/plain": [
       "   UNITID                     organization  \\\n",
       "0  100654              alabamaamuniversity   \n",
       "1  100706  universityofalabamainhuntsville   \n",
       "2  100724           alabamastateuniversity   \n",
       "3  100751           theuniversityofalabama   \n",
       "4  100858                 auburnuniversity   \n",
       "\n",
       "                                           top_5_ipc  \n",
       "0  [Physics, Human Necessitites, Performing Opera...  \n",
       "1  [Physics, Electricity, Human Necessitites, Per...  \n",
       "2  [Chemistry; Metallurgy, Human Necessitites, Ph...  \n",
       "3  [Electricity, Chemistry; Metallurgy, Physics, ...  \n",
       "4  [Human Necessitites, Chemistry; Metallurgy, Ph...  "
      ]
     },
     "execution_count": 324,
     "metadata": {},
     "output_type": "execute_result"
    }
   ],
   "source": [
    "\"\"\"Rename the column to the variable name.\"\"\"\n",
    "ipc_name_sorted = ipc_name_sorted.rename(columns={'name':'top_5_ipc'})\n",
    "\n",
    "\"\"\"Store top five categories in one list.\"\"\"\n",
    "ipc_name_top_five = ipc_name_sorted.groupby(['UNITID','organization'])['top_5_ipc'].apply(list).reset_index()\n",
    "ipc_name_top_five.head()"
   ]
  },
  {
   "cell_type": "code",
   "execution_count": 325,
   "metadata": {},
   "outputs": [
    {
     "data": {
      "text/plain": [
       "535"
      ]
     },
     "execution_count": 325,
     "metadata": {},
     "output_type": "execute_result"
    }
   ],
   "source": [
    "\"\"\"535 universities have information on IPC patent categories.\"\"\"\n",
    "\n",
    "ipc_name_top_five.organization.nunique()"
   ]
  },
  {
   "cell_type": "markdown",
   "metadata": {},
   "source": [
    "## Create a finalized output dataset"
   ]
  },
  {
   "cell_type": "code",
   "execution_count": 326,
   "metadata": {},
   "outputs": [],
   "source": [
    "\"\"\"Merge all dataframes above together.\"\"\"\n",
    "combined = joint_with_business.merge(number_patents,on=['UNITID','organization'],how='outer').merge(with_govinterest,on=['UNITID','organization'],how='outer').merge(female_inventors,on=['UNITID','organization'],how='outer').merge(unique_inventors,on=['UNITID','organization'],how='outer').merge(ipc_name_top_five,on=['UNITID','organization'],how='outer')\n",
    "\n",
    "\"\"\"Fill NaN values with 0.\"\"\"\n",
    "combined = combined.fillna(0)\n",
    "\n",
    "\"\"\"Store values as integers.\"\"\"\n",
    "combined[['#joint_w_business','#female_inventors','#unique_inventors']] = combined[['#joint_w_business','#female_inventors','#unique_inventors']].astype(int)  "
   ]
  },
  {
   "cell_type": "code",
   "execution_count": 328,
   "metadata": {},
   "outputs": [
    {
     "data": {
      "text/html": [
       "<div>\n",
       "<style scoped>\n",
       "    .dataframe tbody tr th:only-of-type {\n",
       "        vertical-align: middle;\n",
       "    }\n",
       "\n",
       "    .dataframe tbody tr th {\n",
       "        vertical-align: top;\n",
       "    }\n",
       "\n",
       "    .dataframe thead th {\n",
       "        text-align: right;\n",
       "    }\n",
       "</style>\n",
       "<table border=\"1\" class=\"dataframe\">\n",
       "  <thead>\n",
       "    <tr style=\"text-align: right;\">\n",
       "      <th></th>\n",
       "      <th>UNITID</th>\n",
       "      <th>organization</th>\n",
       "      <th>#joint_w_business</th>\n",
       "      <th>#applied_patents</th>\n",
       "      <th>#applied_govinterest</th>\n",
       "      <th>#female_inventors</th>\n",
       "      <th>#unique_inventors</th>\n",
       "      <th>top_5_ipc</th>\n",
       "    </tr>\n",
       "  </thead>\n",
       "  <tbody>\n",
       "    <tr>\n",
       "      <th>0</th>\n",
       "      <td>100654</td>\n",
       "      <td>alabamaamuniversity</td>\n",
       "      <td>1</td>\n",
       "      <td>2</td>\n",
       "      <td>0.0</td>\n",
       "      <td>0</td>\n",
       "      <td>0</td>\n",
       "      <td>[Physics, Human Necessitites, Performing Opera...</td>\n",
       "    </tr>\n",
       "    <tr>\n",
       "      <th>1</th>\n",
       "      <td>100706</td>\n",
       "      <td>universityofalabamainhuntsville</td>\n",
       "      <td>7</td>\n",
       "      <td>44</td>\n",
       "      <td>18.0</td>\n",
       "      <td>0</td>\n",
       "      <td>3</td>\n",
       "      <td>[Physics, Electricity, Human Necessitites, Per...</td>\n",
       "    </tr>\n",
       "    <tr>\n",
       "      <th>2</th>\n",
       "      <td>100751</td>\n",
       "      <td>theuniversityofalabama</td>\n",
       "      <td>4</td>\n",
       "      <td>39</td>\n",
       "      <td>4.0</td>\n",
       "      <td>0</td>\n",
       "      <td>0</td>\n",
       "      <td>[Electricity, Chemistry; Metallurgy, Physics, ...</td>\n",
       "    </tr>\n",
       "    <tr>\n",
       "      <th>3</th>\n",
       "      <td>100858</td>\n",
       "      <td>auburnuniversity</td>\n",
       "      <td>24</td>\n",
       "      <td>492</td>\n",
       "      <td>142.0</td>\n",
       "      <td>10</td>\n",
       "      <td>30</td>\n",
       "      <td>[Human Necessitites, Chemistry; Metallurgy, Ph...</td>\n",
       "    </tr>\n",
       "    <tr>\n",
       "      <th>4</th>\n",
       "      <td>102094</td>\n",
       "      <td>universityofsouthalabama</td>\n",
       "      <td>8</td>\n",
       "      <td>30</td>\n",
       "      <td>9.0</td>\n",
       "      <td>0</td>\n",
       "      <td>0</td>\n",
       "      <td>[Chemistry; Metallurgy, Human Necessitites, Pe...</td>\n",
       "    </tr>\n",
       "  </tbody>\n",
       "</table>\n",
       "</div>"
      ],
      "text/plain": [
       "   UNITID                     organization  #joint_w_business  \\\n",
       "0  100654              alabamaamuniversity                  1   \n",
       "1  100706  universityofalabamainhuntsville                  7   \n",
       "2  100751           theuniversityofalabama                  4   \n",
       "3  100858                 auburnuniversity                 24   \n",
       "4  102094         universityofsouthalabama                  8   \n",
       "\n",
       "   #applied_patents  #applied_govinterest  #female_inventors  \\\n",
       "0                 2                   0.0                  0   \n",
       "1                44                  18.0                  0   \n",
       "2                39                   4.0                  0   \n",
       "3               492                 142.0                 10   \n",
       "4                30                   9.0                  0   \n",
       "\n",
       "   #unique_inventors                                          top_5_ipc  \n",
       "0                  0  [Physics, Human Necessitites, Performing Opera...  \n",
       "1                  3  [Physics, Electricity, Human Necessitites, Per...  \n",
       "2                  0  [Electricity, Chemistry; Metallurgy, Physics, ...  \n",
       "3                 30  [Human Necessitites, Chemistry; Metallurgy, Ph...  \n",
       "4                  0  [Chemistry; Metallurgy, Human Necessitites, Pe...  "
      ]
     },
     "execution_count": 328,
     "metadata": {},
     "output_type": "execute_result"
    }
   ],
   "source": [
    "combined.head()"
   ]
  },
  {
   "cell_type": "code",
   "execution_count": null,
   "metadata": {},
   "outputs": [],
   "source": [
    "%store "
   ]
  }
 ],
 "metadata": {
  "kernelspec": {
   "display_name": "Python 3",
   "language": "python",
   "name": "python3"
  },
  "language_info": {
   "codemirror_mode": {
    "name": "ipython",
    "version": 3
   },
   "file_extension": ".py",
   "mimetype": "text/x-python",
   "name": "python",
   "nbconvert_exporter": "python",
   "pygments_lexer": "ipython3",
   "version": "3.7.3"
  },
  "toc": {
   "base_numbering": 1,
   "nav_menu": {},
   "number_sections": true,
   "sideBar": true,
   "skip_h1_title": false,
   "title_cell": "Table of Contents",
   "title_sidebar": "Contents",
   "toc_cell": true,
   "toc_position": {},
   "toc_section_display": true,
   "toc_window_display": true
  }
 },
 "nbformat": 4,
 "nbformat_minor": 2
}
