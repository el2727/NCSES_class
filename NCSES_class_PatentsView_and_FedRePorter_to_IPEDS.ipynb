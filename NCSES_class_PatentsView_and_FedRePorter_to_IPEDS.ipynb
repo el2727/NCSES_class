{
 "cells": [
  {
   "cell_type": "markdown",
   "metadata": {
    "toc": true
   },
   "source": [
    "<h1>Table of Contents<span class=\"tocSkip\"></span></h1>\n",
    "<div class=\"toc\"><ul class=\"toc-item\"><li><span><a href=\"#NCSES-class---PatentsView-and-IPEDS-data\" data-toc-modified-id=\"NCSES-class---PatentsView-and-IPEDS-data-1\"><span class=\"toc-item-num\">1&nbsp;&nbsp;</span>NCSES class - PatentsView and IPEDS data</a></span><ul class=\"toc-item\"><li><ul class=\"toc-item\"><li><span><a href=\"#Introduction\" data-toc-modified-id=\"Introduction-1.0.1\"><span class=\"toc-item-num\">1.0.1&nbsp;&nbsp;</span>Introduction</a></span></li><li><span><a href=\"#Python-Setup\" data-toc-modified-id=\"Python-Setup-1.0.2\"><span class=\"toc-item-num\">1.0.2&nbsp;&nbsp;</span>Python Setup</a></span></li></ul></li><li><span><a href=\"#Load-the-data\" data-toc-modified-id=\"Load-the-data-1.1\"><span class=\"toc-item-num\">1.1&nbsp;&nbsp;</span>Load the data</a></span></li><li><span><a href=\"#Record-linkage\" data-toc-modified-id=\"Record-linkage-1.2\"><span class=\"toc-item-num\">1.2&nbsp;&nbsp;</span>Record linkage</a></span><ul class=\"toc-item\"><li><span><a href=\"#Merge-location-and-assignee-files\" data-toc-modified-id=\"Merge-location-and-assignee-files-1.2.1\"><span class=\"toc-item-num\">1.2.1&nbsp;&nbsp;</span>Merge location and assignee files</a></span></li><li><span><a href='#Merge-with-location-ID-and-filter-by-country-(\"US\")' data-toc-modified-id='Merge-with-location-ID-and-filter-by-country-(\"US\")-1.2.2'><span class=\"toc-item-num\">1.2.2&nbsp;&nbsp;</span>Merge with location ID and filter by country (\"US\")</a></span></li><li><span><a href=\"#Merge-with-patent_assignee\" data-toc-modified-id=\"Merge-with-patent_assignee-1.2.3\"><span class=\"toc-item-num\">1.2.3&nbsp;&nbsp;</span>Merge with patent_assignee</a></span></li><li><span><a href=\"#Merge-with-government-interest-file-and-create-a-dummy-(0,1)-for-government-interest\" data-toc-modified-id=\"Merge-with-government-interest-file-and-create-a-dummy-(0,1)-for-government-interest-1.2.4\"><span class=\"toc-item-num\">1.2.4&nbsp;&nbsp;</span>Merge with government interest file and create a dummy (0,1) for government interest</a></span></li><li><span><a href='#Load-application-file-and-extract-year-from-the-\"date\"-field' data-toc-modified-id='Load-application-file-and-extract-year-from-the-\"date\"-field-1.2.5'><span class=\"toc-item-num\">1.2.5&nbsp;&nbsp;</span>Load application file and extract year from the \"date\" field</a></span></li><li><span><a href=\"#Filter-the-finalized-dataframe-for-years-from-2000+\" data-toc-modified-id=\"Filter-the-finalized-dataframe-for-years-from-2000+-1.2.6\"><span class=\"toc-item-num\">1.2.6&nbsp;&nbsp;</span>Filter the finalized dataframe for years from 2000+</a></span></li><li><span><a href=\"#Merge-with-IPEDS-file\" data-toc-modified-id=\"Merge-with-IPEDS-file-1.2.7\"><span class=\"toc-item-num\">1.2.7&nbsp;&nbsp;</span>Merge with IPEDS file</a></span></li></ul></li><li><span><a href=\"#Variable-construction\" data-toc-modified-id=\"Variable-construction-1.3\"><span class=\"toc-item-num\">1.3&nbsp;&nbsp;</span>Variable construction</a></span><ul class=\"toc-item\"><li><span><a href=\"#Number-of-patents-joint-with-business-(#joint_w_business)\" data-toc-modified-id=\"Number-of-patents-joint-with-business-(#joint_w_business)-1.3.1\"><span class=\"toc-item-num\">1.3.1&nbsp;&nbsp;</span>Number of patents joint with business (#joint_w_business)</a></span></li><li><span><a href=\"#Total-number-of-patents-(#granted_patents)\" data-toc-modified-id=\"Total-number-of-patents-(#granted_patents)-1.3.2\"><span class=\"toc-item-num\">1.3.2&nbsp;&nbsp;</span>Total number of patents (#granted_patents)</a></span></li><li><span><a href=\"#Number-of-patents-with-government-interest-(#govinterest)\" data-toc-modified-id=\"Number-of-patents-with-government-interest-(#govinterest)-1.3.3\"><span class=\"toc-item-num\">1.3.3&nbsp;&nbsp;</span>Number of patents with government interest (#govinterest)</a></span></li><li><span><a href=\"#Number-of-female-inventors-(#female_inventors)\" data-toc-modified-id=\"Number-of-female-inventors-(#female_inventors)-1.3.4\"><span class=\"toc-item-num\">1.3.4&nbsp;&nbsp;</span>Number of female inventors (#female_inventors)</a></span></li><li><span><a href=\"#Number-of-unique-inventors-(#unique_inventors)\" data-toc-modified-id=\"Number-of-unique-inventors-(#unique_inventors)-1.3.5\"><span class=\"toc-item-num\">1.3.5&nbsp;&nbsp;</span>Number of unique inventors (#unique_inventors)</a></span></li><li><span><a href=\"#Top-IPC-classification-categories\" data-toc-modified-id=\"Top-IPC-classification-categories-1.3.6\"><span class=\"toc-item-num\">1.3.6&nbsp;&nbsp;</span>Top IPC classification categories</a></span></li></ul></li><li><span><a href=\"#Create-a-finalized-output-dataset\" data-toc-modified-id=\"Create-a-finalized-output-dataset-1.4\"><span class=\"toc-item-num\">1.4&nbsp;&nbsp;</span>Create a finalized output dataset</a></span></li><li><span><a href=\"#NCSES-class---FedRePORTER-and-IPEDS-data\" data-toc-modified-id=\"NCSES-class---FedRePORTER-and-IPEDS-data-1.5\"><span class=\"toc-item-num\">1.5&nbsp;&nbsp;</span>NCSES class - FedRePORTER and IPEDS data</a></span><ul class=\"toc-item\"><li><span><a href=\"#Introduction\" data-toc-modified-id=\"Introduction-1.5.1\"><span class=\"toc-item-num\">1.5.1&nbsp;&nbsp;</span>Introduction</a></span></li><li><span><a href=\"#Python-Setup\" data-toc-modified-id=\"Python-Setup-1.5.2\"><span class=\"toc-item-num\">1.5.2&nbsp;&nbsp;</span>Python Setup</a></span></li></ul></li><li><span><a href=\"#Load-and-inspect-the-data\" data-toc-modified-id=\"Load-and-inspect-the-data-1.6\"><span class=\"toc-item-num\">1.6&nbsp;&nbsp;</span>Load and inspect the data</a></span><ul class=\"toc-item\"><li><span><a href=\"#Federal-RePORTER---Projects-(https://federalreporter.nih.gov/FileDownload)\" data-toc-modified-id=\"Federal-RePORTER---Projects-(https://federalreporter.nih.gov/FileDownload)-1.6.1\"><span class=\"toc-item-num\">1.6.1&nbsp;&nbsp;</span>Federal RePORTER - Projects (<a href=\"https://federalreporter.nih.gov/FileDownload\" target=\"_blank\">https://federalreporter.nih.gov/FileDownload</a>)</a></span></li><li><span><a href=\"#Federal-RePORTER---Abstracts-(https://federalreporter.nih.gov/FileDownload)\" data-toc-modified-id=\"Federal-RePORTER---Abstracts-(https://federalreporter.nih.gov/FileDownload)-1.6.2\"><span class=\"toc-item-num\">1.6.2&nbsp;&nbsp;</span>Federal RePORTER - Abstracts (<a href=\"https://federalreporter.nih.gov/FileDownload\" target=\"_blank\">https://federalreporter.nih.gov/FileDownload</a>)</a></span></li><li><span><a href=\"#IPEDS-data\" data-toc-modified-id=\"IPEDS-data-1.6.3\"><span class=\"toc-item-num\">1.6.3&nbsp;&nbsp;</span>IPEDS data</a></span></li></ul></li><li><span><a href=\"#Filter-the-data\" data-toc-modified-id=\"Filter-the-data-1.7\"><span class=\"toc-item-num\">1.7&nbsp;&nbsp;</span>Filter the data</a></span></li><li><span><a href=\"#Match-with-IPEDS-university-names\" data-toc-modified-id=\"Match-with-IPEDS-university-names-1.8\"><span class=\"toc-item-num\">1.8&nbsp;&nbsp;</span>Match with IPEDS university names</a></span></li><li><span><a href=\"#Text-analysis-(Topic-modeling)\" data-toc-modified-id=\"Text-analysis-(Topic-modeling)-1.9\"><span class=\"toc-item-num\">1.9&nbsp;&nbsp;</span>Text analysis (Topic modeling)</a></span><ul class=\"toc-item\"><li><span><a href=\"#LDA-method---Latent-Dirichlet-Allocation\" data-toc-modified-id=\"LDA-method---Latent-Dirichlet-Allocation-1.9.1\"><span class=\"toc-item-num\">1.9.1&nbsp;&nbsp;</span>LDA method - Latent Dirichlet Allocation</a></span></li><li><span><a href=\"#NMF-method---Non-negative-matrix-factorization\" data-toc-modified-id=\"NMF-method---Non-negative-matrix-factorization-1.9.2\"><span class=\"toc-item-num\">1.9.2&nbsp;&nbsp;</span>NMF method - Non-negative matrix factorization</a></span></li><li><span><a href=\"#Choosing-results\" data-toc-modified-id=\"Choosing-results-1.9.3\"><span class=\"toc-item-num\">1.9.3&nbsp;&nbsp;</span>Choosing results</a></span></li></ul></li><li><span><a href=\"#Variable-construction\" data-toc-modified-id=\"Variable-construction-1.10\"><span class=\"toc-item-num\">1.10&nbsp;&nbsp;</span>Variable construction</a></span><ul class=\"toc-item\"><li><span><a href=\"#Number-of-grants-per-university\" data-toc-modified-id=\"Number-of-grants-per-university-1.10.1\"><span class=\"toc-item-num\">1.10.1&nbsp;&nbsp;</span>Number of grants per university</a></span></li><li><span><a href=\"#Top-5-topics-by-grants\" data-toc-modified-id=\"Top-5-topics-by-grants-1.10.2\"><span class=\"toc-item-num\">1.10.2&nbsp;&nbsp;</span>Top 5 topics by grants</a></span></li><li><span><a href=\"#Top-5-topics-by-%dollars\" data-toc-modified-id=\"Top-5-topics-by-%dollars-1.10.3\"><span class=\"toc-item-num\">1.10.3&nbsp;&nbsp;</span>Top 5 topics by %dollars</a></span></li></ul></li><li><span><a href=\"#Create-a-finalized-output-dataset\" data-toc-modified-id=\"Create-a-finalized-output-dataset-1.11\"><span class=\"toc-item-num\">1.11&nbsp;&nbsp;</span>Create a finalized output dataset</a></span></li></ul></li></ul></div>"
   ]
  },
  {
   "cell_type": "markdown",
   "metadata": {},
   "source": [
    "### Introduction"
   ]
  },
  {
   "cell_type": "markdown",
   "metadata": {},
   "source": [
    "This notebook builds links between three datasets: \n",
    "\n",
    "\n",
    "1. **PatentsView** (www.patentsview.org) The PatentsView platform is built on data derived from the US Patent and Trademark Office (USPTO) bulk data to link inventors, their organizations, locations, and overall patenting activity.\n",
    "\n",
    "\n",
    "2. **Federal RePORTER** (https://federalreporter.nih.gov) - a collaborative effort led by STAR METRICS® to create a searchable database of scientific awards from agencies (across agencies or fiscal years, by the award's project leader, or by a text search of a project's title, terms, or abstracts).\n",
    "\n",
    "\n",
    "3. **IPEDS** (https://nces.ed.gov/ipeds/) IPEDS is the Integrated Postsecondary Education Data System, a system of interrelated surveys conducted annually by the U.S. Department of Education’s National Center for Education Statistics (NCES). IPEDS gathers information from every college, university, and technical and vocational institution that participates in the federal student financial aid programs on enrollments, program completions, graduation rates, faculty and staff, finances, institutional prices, and student financial aid.\n",
    "\n",
    "------------------------------------------------------------\n",
    "\n",
    "**Output file**\n",
    "\n",
    "**Data dictionary**\n",
    "\n",
    "Unit of observation: **university by year (from year 2000+)**\n",
    "\n",
    "Variables: \n",
    "- **#unique_inventors** - number of unique inventors \n",
    "- **#female_inventors** - number of female inventors \n",
    "- **#patents** - total number of patents\n",
    "- **#patents_w_govinterest** - total number of patents with government interest \n",
    "- **#joint_w_business** - total number of patents joint with businesses\n",
    "- **top_5_ipc** - top 5 IPC classification categories\n",
    "- **#grants** - total number of grants per university from 2000+\n",
    "- **top_5_topics_by_grants** - top five topics by a grant share\n",
    "- **top_5_topics_by_dollars** - top five topics by a dollar share"
   ]
  },
  {
   "cell_type": "markdown",
   "metadata": {},
   "source": [
    "### Python Setup"
   ]
  },
  {
   "cell_type": "code",
   "execution_count": 2,
   "metadata": {},
   "outputs": [
    {
     "data": {
      "text/plain": [
       "'!\"#$%&\\'()*+,-./:;<=>?@[\\\\]^_`{|}~'"
      ]
     },
     "execution_count": 2,
     "metadata": {},
     "output_type": "execute_result"
    }
   ],
   "source": [
    "# Data manipulation\n",
    "import pandas as pd\n",
    "\n",
    "# Optional: library for fuzzy matching of strings\n",
    "import difflib\n",
    "\n",
    "# Read in multiple files\n",
    "import glob\n",
    "\n",
    "# Display settings \n",
    "pd.set_option('float_format', '{:f}'.format)  # show full float numbers\n",
    "pd.set_option('display.max_colwidth', -1)  # show full cells\n",
    "\n",
    "# Text preprocessing and analysis (topic modeling)\n",
    "import numpy as np\n",
    "import sklearn\n",
    "from sklearn.decomposition import NMF, LatentDirichletAllocation\n",
    "from sklearn.feature_extraction.text import TfidfVectorizer, CountVectorizer\n",
    "import string  \n",
    "string.punctuation  # a list of punctuation, special symbols"
   ]
  },
  {
   "cell_type": "markdown",
   "metadata": {},
   "source": [
    "# 1 Link PatentsView and IPEDS data"
   ]
  },
  {
   "cell_type": "markdown",
   "metadata": {},
   "source": [
    "## Load the data"
   ]
  },
  {
   "cell_type": "code",
   "execution_count": 3,
   "metadata": {},
   "outputs": [
    {
     "name": "stderr",
     "output_type": "stream",
     "text": [
      "/home/ekaterina/anaconda3/lib/python3.6/site-packages/IPython/core/interactiveshell.py:3020: DtypeWarning: Columns (2,3) have mixed types. Specify dtype option on import or set low_memory=False.\n",
      "  interactivity=interactivity, compiler=compiler, result=result)\n",
      "/home/ekaterina/anaconda3/lib/python3.6/site-packages/IPython/core/interactiveshell.py:3020: DtypeWarning: Columns (0) have mixed types. Specify dtype option on import or set low_memory=False.\n",
      "  interactivity=interactivity, compiler=compiler, result=result)\n",
      "/home/ekaterina/anaconda3/lib/python3.6/site-packages/IPython/core/interactiveshell.py:3020: DtypeWarning: Columns (3) have mixed types. Specify dtype option on import or set low_memory=False.\n",
      "  interactivity=interactivity, compiler=compiler, result=result)\n",
      "/home/ekaterina/anaconda3/lib/python3.6/site-packages/IPython/core/interactiveshell.py:3020: DtypeWarning: Columns (4) have mixed types. Specify dtype option on import or set low_memory=False.\n",
      "  interactivity=interactivity, compiler=compiler, result=result)\n"
     ]
    }
   ],
   "source": [
    "# PatentsView files\n",
    "\n",
    "assignee = pd.read_csv('assignee.tsv', sep='\\t') # unique assignee IDs\n",
    "location_assignee = pd.read_csv('location_assignee.tsv', sep='\\t') # crosswalk file with location and assignee IDs\n",
    "location = pd.read_csv('location.tsv', sep='\\t') # unique location id and associated city, state, country, etc.\n",
    "patent_assignee = pd.read_csv('patent_assignee.tsv',sep='\\t') # crosswalk between patent and assignee files\n",
    "government_interest = pd.read_csv('government_interest.tsv',sep='\\t') # mapping of patent numbers to raw government interest text\n",
    "application = pd.read_csv('application.tsv',sep='\\t') # information on the applications for granted patent\n",
    "patent_inventor = pd.read_csv('patent_inventor.tsv',sep='\\t') # crosswalk between patent and inventor tables\n",
    "inventor_gender = pd.read_csv('inventor_gender.tsv',sep='\\t') # inventor gender data\n",
    "ipcr = pd.read_csv('ipcr.tsv',sep='\\t') # International Patent Classification\n",
    "\n",
    "# IPEDS file\n",
    "ipeds = pd.read_csv('IPEDS.csv',encoding='ISO-8859-1')"
   ]
  },
  {
   "cell_type": "code",
   "execution_count": 8,
   "metadata": {},
   "outputs": [],
   "source": [
    "result = list(set(patent_inventor.patent_id.unique()) - set(patent_assignee.patent_id.unique()))"
   ]
  },
  {
   "cell_type": "code",
   "execution_count": 9,
   "metadata": {},
   "outputs": [
    {
     "data": {
      "text/plain": [
       "6391481"
      ]
     },
     "execution_count": 9,
     "metadata": {},
     "output_type": "execute_result"
    }
   ],
   "source": [
    "len(result)"
   ]
  },
  {
   "cell_type": "code",
   "execution_count": 10,
   "metadata": {},
   "outputs": [
    {
     "data": {
      "text/plain": [
       "6914898"
      ]
     },
     "execution_count": 10,
     "metadata": {},
     "output_type": "execute_result"
    }
   ],
   "source": [
    "patent_inventor.patent_id.nunique()"
   ]
  },
  {
   "cell_type": "code",
   "execution_count": 11,
   "metadata": {},
   "outputs": [
    {
     "data": {
      "text/plain": [
       "523417"
      ]
     },
     "execution_count": 11,
     "metadata": {},
     "output_type": "execute_result"
    }
   ],
   "source": [
    "6914898 - 6391481"
   ]
  },
  {
   "cell_type": "markdown",
   "metadata": {},
   "source": [
    "## Record linkage"
   ]
  },
  {
   "cell_type": "markdown",
   "metadata": {},
   "source": [
    "### Merge location and assignee files"
   ]
  },
  {
   "cell_type": "code",
   "execution_count": 17,
   "metadata": {},
   "outputs": [
    {
     "name": "stdout",
     "output_type": "stream",
     "text": [
      "<class 'pandas.core.frame.DataFrame'>\n",
      "RangeIndex: 504012 entries, 0 to 504011\n",
      "Data columns (total 5 columns):\n",
      "id              504012 non-null object\n",
      "type            504011 non-null float64\n",
      "name_first      47233 non-null object\n",
      "name_last       47234 non-null object\n",
      "organization    456776 non-null object\n",
      "dtypes: float64(1), object(4)\n",
      "memory usage: 19.2+ MB\n"
     ]
    }
   ],
   "source": [
    "\"\"\"Look at the ASSIGNEE dataset description. We are interested in organization names to merge IPEDS university\n",
    "names on the names in the ASSIGNEE dataset. ORGANIZATION variable in this dataset has organization names.\n",
    "There are less organization names known than assignees:\n",
    "504,012 - ASSIGNEE_ID\n",
    "456,776 - ORGANIZATION\"\"\"\n",
    "\n",
    "assignee.info()"
   ]
  },
  {
   "cell_type": "code",
   "execution_count": 18,
   "metadata": {},
   "outputs": [],
   "source": [
    "\"\"\"Drop those row which do not have organization names.\"\"\"\n",
    "\n",
    "assignee = assignee[~assignee['organization'].isnull()]"
   ]
  },
  {
   "cell_type": "code",
   "execution_count": 19,
   "metadata": {},
   "outputs": [
    {
     "name": "stdout",
     "output_type": "stream",
     "text": [
      "<class 'pandas.core.frame.DataFrame'>\n",
      "Int64Index: 456776 entries, 0 to 456775\n",
      "Data columns (total 5 columns):\n",
      "id              456776 non-null object\n",
      "type            456776 non-null float64\n",
      "name_first      0 non-null object\n",
      "name_last       0 non-null object\n",
      "organization    456776 non-null object\n",
      "dtypes: float64(1), object(4)\n",
      "memory usage: 20.9+ MB\n"
     ]
    }
   ],
   "source": [
    "\"\"\"Now the dataset only has assignees which have organization names.\"\"\"\n",
    "\n",
    "assignee.info()"
   ]
  },
  {
   "cell_type": "code",
   "execution_count": 20,
   "metadata": {},
   "outputs": [
    {
     "name": "stdout",
     "output_type": "stream",
     "text": [
      "<class 'pandas.core.frame.DataFrame'>\n",
      "RangeIndex: 648514 entries, 0 to 648513\n",
      "Data columns (total 2 columns):\n",
      "location_id    646919 non-null object\n",
      "assignee_id    648514 non-null object\n",
      "dtypes: object(2)\n",
      "memory usage: 9.9+ MB\n"
     ]
    }
   ],
   "source": [
    "\"\"\"Look at the LOCATION_ASSIGNEE dataset description. We can use location to filter by assignees in the United States,\n",
    "as we know that IPEDS university file contains United States universities.\n",
    "In this dataset there are less LOCATION_IDs known than ASSIGNEE_IDs:\n",
    "648,514 - ASSIGNEE_ID\n",
    "646,919 - LOCATION_ID\"\"\" \n",
    "\n",
    "location_assignee.info()"
   ]
  },
  {
   "cell_type": "code",
   "execution_count": 21,
   "metadata": {},
   "outputs": [
    {
     "data": {
      "text/plain": [
       "array([  1,   3,   2,  10,   5,   4,   6,   7,  17,   8,  16,  13,   0,\n",
       "         9,  11,  14,  12,  15,  31,  44,  43,  19,  21,  25,  32,  18,\n",
       "        20,  37,  42,  24,  34,  49,  22,  29,  30,  53,  23,  65, 116,\n",
       "        27,  57,  54,  39,  26,  28,  64,  55,  36,  41,  45,  35])"
      ]
     },
     "execution_count": 21,
     "metadata": {},
     "output_type": "execute_result"
    }
   ],
   "source": [
    "\"\"\"Check how many locations can be associated with a given assignee.\n",
    "Group by a given assignee, count the locations associated with a given assignee, and\n",
    "see the unique values. There can be more than 1 location associated with a given assignee.\"\"\"\n",
    "\n",
    "location_assignee.groupby('assignee_id')['location_id'].count().unique()"
   ]
  },
  {
   "cell_type": "code",
   "execution_count": 22,
   "metadata": {},
   "outputs": [
    {
     "data": {
      "text/html": [
       "<div>\n",
       "<style scoped>\n",
       "    .dataframe tbody tr th:only-of-type {\n",
       "        vertical-align: middle;\n",
       "    }\n",
       "\n",
       "    .dataframe tbody tr th {\n",
       "        vertical-align: top;\n",
       "    }\n",
       "\n",
       "    .dataframe thead th {\n",
       "        text-align: right;\n",
       "    }\n",
       "</style>\n",
       "<table border=\"1\" class=\"dataframe\">\n",
       "  <thead>\n",
       "    <tr style=\"text-align: right;\">\n",
       "      <th></th>\n",
       "      <th>location_id</th>\n",
       "      <th>assignee_id</th>\n",
       "      <th>organization</th>\n",
       "    </tr>\n",
       "  </thead>\n",
       "  <tbody>\n",
       "    <tr>\n",
       "      <th>0</th>\n",
       "      <td>q8wc2x1ryasb</td>\n",
       "      <td>org_00054e2c-8d76-4e86-92d7-c3268e32438c</td>\n",
       "      <td>Sermeta</td>\n",
       "    </tr>\n",
       "    <tr>\n",
       "      <th>1</th>\n",
       "      <td>ny17xyn10k3d</td>\n",
       "      <td>org_0006dUf10fyaGu141Xsy</td>\n",
       "      <td>Uber Co., Ltd.</td>\n",
       "    </tr>\n",
       "    <tr>\n",
       "      <th>2</th>\n",
       "      <td>qcj7zhcco1lm</td>\n",
       "      <td>org_000U7wc7DxrKo9M7gNOr</td>\n",
       "      <td>I/P Engine, Inc.</td>\n",
       "    </tr>\n",
       "    <tr>\n",
       "      <th>3</th>\n",
       "      <td>symng222vxqi</td>\n",
       "      <td>org_00181b00-a087-4314-8a91-a78203517001</td>\n",
       "      <td>INTAP</td>\n",
       "    </tr>\n",
       "    <tr>\n",
       "      <th>4</th>\n",
       "      <td>v11nqt9ynpgb</td>\n",
       "      <td>org_0018ff04-6dba-4345-ace4-d0f170a30d87</td>\n",
       "      <td>WJRJ</td>\n",
       "    </tr>\n",
       "  </tbody>\n",
       "</table>\n",
       "</div>"
      ],
      "text/plain": [
       "    location_id                               assignee_id      organization\n",
       "0  q8wc2x1ryasb  org_00054e2c-8d76-4e86-92d7-c3268e32438c  Sermeta         \n",
       "1  ny17xyn10k3d  org_0006dUf10fyaGu141Xsy                  Uber Co., Ltd.  \n",
       "2  qcj7zhcco1lm  org_000U7wc7DxrKo9M7gNOr                  I/P Engine, Inc.\n",
       "3  symng222vxqi  org_00181b00-a087-4314-8a91-a78203517001  INTAP           \n",
       "4  v11nqt9ynpgb  org_0018ff04-6dba-4345-ace4-d0f170a30d87  WJRJ            "
      ]
     },
     "execution_count": 22,
     "metadata": {},
     "output_type": "execute_result"
    }
   ],
   "source": [
    "\"\"\"Merge on a common column containing assignee id: ID in ASSIGNEE and ASSIGNEE_ID in \n",
    "LOCATION_ASSIGNEE.\"\"\"\n",
    "\n",
    "merged_location_assignee = pd.merge(left=location_assignee,right=assignee, on=None,\n",
    "                                    left_on='assignee_id',right_on='id')\n",
    "\n",
    "\"\"\"Keep only needed columns\"\"\"\n",
    "merged_location_assignee = merged_location_assignee[['location_id','assignee_id','organization']]\n",
    "\n",
    "\"\"\"View the merged dataframe\"\"\"\n",
    "merged_location_assignee.head()"
   ]
  },
  {
   "cell_type": "code",
   "execution_count": 23,
   "metadata": {},
   "outputs": [
    {
     "name": "stdout",
     "output_type": "stream",
     "text": [
      "<class 'pandas.core.frame.DataFrame'>\n",
      "Int64Index: 598094 entries, 0 to 598093\n",
      "Data columns (total 3 columns):\n",
      "location_id     596547 non-null object\n",
      "assignee_id     598094 non-null object\n",
      "organization    598094 non-null object\n",
      "dtypes: object(3)\n",
      "memory usage: 18.3+ MB\n"
     ]
    }
   ],
   "source": [
    "\"\"\"Look at the merged dataset description. We have more ORGANIZATION name records (598,094) than \n",
    "before (456,776), which could be the duplicates, as one assignee can have multiple associated \n",
    "locations.\"\"\"\n",
    "\n",
    "merged_location_assignee.info()"
   ]
  },
  {
   "cell_type": "code",
   "execution_count": 24,
   "metadata": {},
   "outputs": [
    {
     "data": {
      "text/plain": [
       "456073"
      ]
     },
     "execution_count": 24,
     "metadata": {},
     "output_type": "execute_result"
    }
   ],
   "source": [
    "\"\"\"Check the number of unique organization names. There are slightly less organization names\n",
    "in this dataset (456,073) than before (456,776). 703 assignees were not found in \n",
    "the LOCATION_ASSIGNEE file.\"\"\"\n",
    "\n",
    "merged_location_assignee.organization.nunique()"
   ]
  },
  {
   "cell_type": "markdown",
   "metadata": {},
   "source": [
    "### Merge with location ID and filter by country (\"US\")"
   ]
  },
  {
   "cell_type": "code",
   "execution_count": 25,
   "metadata": {},
   "outputs": [
    {
     "name": "stdout",
     "output_type": "stream",
     "text": [
      "<class 'pandas.core.frame.DataFrame'>\n",
      "RangeIndex: 137687 entries, 0 to 137686\n",
      "Data columns (total 9 columns):\n",
      "id             137687 non-null object\n",
      "city           137565 non-null object\n",
      "state          37654 non-null object\n",
      "country        137687 non-null object\n",
      "latitude       137687 non-null float64\n",
      "longitude      137687 non-null float64\n",
      "county         20847 non-null object\n",
      "state_fips     137687 non-null int64\n",
      "county_fips    137687 non-null int64\n",
      "dtypes: float64(2), int64(2), object(5)\n",
      "memory usage: 9.5+ MB\n"
     ]
    }
   ],
   "source": [
    "\"\"\"Look at the dataset description. We will merge this dataset on the LOCATION_ID with the \n",
    "dataset above to find out the associated location information with the location id. \n",
    "We are interested in the COUNTRY and STATE variable to filter by the United States assignees and\n",
    "validate the data.\"\"\"\n",
    "\n",
    "location.info()"
   ]
  },
  {
   "cell_type": "code",
   "execution_count": 26,
   "metadata": {
    "scrolled": true
   },
   "outputs": [
    {
     "data": {
      "text/html": [
       "<div>\n",
       "<style scoped>\n",
       "    .dataframe tbody tr th:only-of-type {\n",
       "        vertical-align: middle;\n",
       "    }\n",
       "\n",
       "    .dataframe tbody tr th {\n",
       "        vertical-align: top;\n",
       "    }\n",
       "\n",
       "    .dataframe thead th {\n",
       "        text-align: right;\n",
       "    }\n",
       "</style>\n",
       "<table border=\"1\" class=\"dataframe\">\n",
       "  <thead>\n",
       "    <tr style=\"text-align: right;\">\n",
       "      <th></th>\n",
       "      <th>state</th>\n",
       "      <th>country</th>\n",
       "      <th>assignee_id</th>\n",
       "      <th>organization</th>\n",
       "      <th>location_id</th>\n",
       "    </tr>\n",
       "  </thead>\n",
       "  <tbody>\n",
       "    <tr>\n",
       "      <th>0</th>\n",
       "      <td>NaN</td>\n",
       "      <td>JP</td>\n",
       "      <td>org_0Adc4mfbmiYCpSr8q3jH</td>\n",
       "      <td>Toyooki Kogyo Kabushiki Kaisha</td>\n",
       "      <td>bfy03xoykgui</td>\n",
       "    </tr>\n",
       "    <tr>\n",
       "      <th>1</th>\n",
       "      <td>NaN</td>\n",
       "      <td>JP</td>\n",
       "      <td>org_6ohiYFQUje6OvPzby4VM</td>\n",
       "      <td>Maeda Shell Service Co., Ltd.</td>\n",
       "      <td>bfy03xoykgui</td>\n",
       "    </tr>\n",
       "    <tr>\n",
       "      <th>2</th>\n",
       "      <td>NaN</td>\n",
       "      <td>JP</td>\n",
       "      <td>org_714dR5p9M1UWFw44LOE7</td>\n",
       "      <td>Toyoda Van Moppes Ltd.</td>\n",
       "      <td>bfy03xoykgui</td>\n",
       "    </tr>\n",
       "    <tr>\n",
       "      <th>3</th>\n",
       "      <td>NaN</td>\n",
       "      <td>JP</td>\n",
       "      <td>org_9MrVSbz6jPBqlVxmUf61</td>\n",
       "      <td>Japan as represented by Director of General of Okazaki National Research Institute</td>\n",
       "      <td>bfy03xoykgui</td>\n",
       "    </tr>\n",
       "    <tr>\n",
       "      <th>4</th>\n",
       "      <td>NaN</td>\n",
       "      <td>JP</td>\n",
       "      <td>org_9y6vRfBOr1754BBHZlII</td>\n",
       "      <td>Banno Kogyo Kabushiki Kaisha</td>\n",
       "      <td>bfy03xoykgui</td>\n",
       "    </tr>\n",
       "  </tbody>\n",
       "</table>\n",
       "</div>"
      ],
      "text/plain": [
       "  state country               assignee_id  \\\n",
       "0  NaN   JP      org_0Adc4mfbmiYCpSr8q3jH   \n",
       "1  NaN   JP      org_6ohiYFQUje6OvPzby4VM   \n",
       "2  NaN   JP      org_714dR5p9M1UWFw44LOE7   \n",
       "3  NaN   JP      org_9MrVSbz6jPBqlVxmUf61   \n",
       "4  NaN   JP      org_9y6vRfBOr1754BBHZlII   \n",
       "\n",
       "                                                                         organization  \\\n",
       "0  Toyooki Kogyo Kabushiki Kaisha                                                       \n",
       "1  Maeda Shell Service Co., Ltd.                                                        \n",
       "2  Toyoda Van Moppes Ltd.                                                               \n",
       "3  Japan as represented by Director of General of Okazaki National Research Institute   \n",
       "4  Banno Kogyo Kabushiki Kaisha                                                         \n",
       "\n",
       "    location_id  \n",
       "0  bfy03xoykgui  \n",
       "1  bfy03xoykgui  \n",
       "2  bfy03xoykgui  \n",
       "3  bfy03xoykgui  \n",
       "4  bfy03xoykgui  "
      ]
     },
     "execution_count": 26,
     "metadata": {},
     "output_type": "execute_result"
    }
   ],
   "source": [
    "\"\"\"Merge on common column containing location_id: ID in LOCATION and LOCATION_ID in \n",
    "MERGED_LOCATION_ASSIGNEE\"\"\"\n",
    "\n",
    "merged_assignee = pd.merge(left=location,right=merged_location_assignee, on=None,\n",
    "                          left_on='id', right_on='location_id')\n",
    "\n",
    "\"\"\"Keep only the needed columns.\"\"\"\n",
    "merged_assignee = merged_assignee[['state','country','assignee_id','organization','location_id']]\n",
    "merged_assignee.head()"
   ]
  },
  {
   "cell_type": "code",
   "execution_count": 27,
   "metadata": {},
   "outputs": [
    {
     "data": {
      "text/plain": [
       "array(['JP', 'GB', 'CH', 'TH', 'US', 'TW', 'DE', 'NL', 'FR', 'SW', 'AT',\n",
       "       'NO', 'EN', 'IE', 'IT', 'HU', 'IN', 'MY', 'IL', 'AU', 'CN', 'KR',\n",
       "       'PE', 'CA', 'ID', 'ES', 'RU', 'DK', 'ZA', 'MX', 'SE', 'PL', 'GI',\n",
       "       'DT', 'SI', 'LK', 'WV', 'BR', 'JA', 'LT', 'HK', 'BE', 'FI', 'BG',\n",
       "       'NZ', 'DD', 'SU', 'IR', 'YU', 'CS', 'NR', 'AZ', 'SG', 'PT', 'GR',\n",
       "       'un', 'LU', 'MC', 'CZ', 'AR', 'FL', 'SA', 'TR', 'TX', 'BM', 'VE',\n",
       "       'OE', 'BY', 'CL', 'LB', 'HR', 'SM', 'UA', 'PG', 'MK', 'BO', 'LI',\n",
       "       'SF', 'WA', 'EP', 'EC', 'ML', 'CU', 'CO', 'MA', 'JM', 'SC', 'KS',\n",
       "       'PY', 'BS', 'VG', 'PH', 'NG', 'KY', 'PR', 'LV', 'AI', 'TK', 'PK',\n",
       "       'AE', 'SK', 'AM', 'KW', 'MH', 'CE', 'GT', 'BN', 'DL', 'BD', 'BH',\n",
       "       'BA', 'CY', 'TT', 'JO', 'TN', 'CM', 'GG', 'NE', 'GE', 'BB', 'EE',\n",
       "       'CT', 'EI', 'LR', 'VN', 'TC', 'IS', 'CR', 'QA', 'IM', 'PM', 'AO',\n",
       "       'PO', 'VU', 'MG', 'PA', 'MI', 'EG', 'KZ', 'PF', 'MO', 'RO', 'AN',\n",
       "       'UY', 'MT', 'AG', 'WI', 'AD', 'DO', 'SV', 'HN', 'IQ', 'CI', 'CK',\n",
       "       'BW', 'OM', 'TD', 'GU', 'KN', 'DZ', 'HT', 'SL', 'ME', 'RS', 'NM',\n",
       "       'MU', 'DM', 'KE', 'NH', 'FO', 'RH', 'GA', 'BZ', 'VA', 'GP', 'BF',\n",
       "       'ZW', 'GY', 'AW', 'UZ', 'WS', 'BV', 'TG', 'MM', 'JE', 'AL', 'KP',\n",
       "       'IO', 'SN', 'VC', 'FK', 'GC', 'LA', 'LC', 'NV', 'YE', 'UG', 'BU'],\n",
       "      dtype=object)"
      ]
     },
     "execution_count": 27,
     "metadata": {},
     "output_type": "execute_result"
    }
   ],
   "source": [
    "\"\"\"Check all unique country names to find the United States. There is an abbrevation US.\"\"\"\n",
    "\n",
    "merged_assignee.country.unique()"
   ]
  },
  {
   "cell_type": "code",
   "execution_count": 28,
   "metadata": {},
   "outputs": [
    {
     "data": {
      "text/html": [
       "<div>\n",
       "<style scoped>\n",
       "    .dataframe tbody tr th:only-of-type {\n",
       "        vertical-align: middle;\n",
       "    }\n",
       "\n",
       "    .dataframe tbody tr th {\n",
       "        vertical-align: top;\n",
       "    }\n",
       "\n",
       "    .dataframe thead th {\n",
       "        text-align: right;\n",
       "    }\n",
       "</style>\n",
       "<table border=\"1\" class=\"dataframe\">\n",
       "  <thead>\n",
       "    <tr style=\"text-align: right;\">\n",
       "      <th></th>\n",
       "      <th>state</th>\n",
       "      <th>country</th>\n",
       "      <th>assignee_id</th>\n",
       "      <th>organization</th>\n",
       "      <th>location_id</th>\n",
       "    </tr>\n",
       "  </thead>\n",
       "  <tbody>\n",
       "    <tr>\n",
       "      <th>12721</th>\n",
       "      <td>CA</td>\n",
       "      <td>US</td>\n",
       "      <td>org_9gbxlFYDdz6sTZtvnhCX</td>\n",
       "      <td>United States Steel Corporation</td>\n",
       "      <td>ynzrfuok33o5</td>\n",
       "    </tr>\n",
       "    <tr>\n",
       "      <th>12722</th>\n",
       "      <td>CA</td>\n",
       "      <td>US</td>\n",
       "      <td>org_iv72dHbRItbvdHxgK3kB</td>\n",
       "      <td>BioZone Laboratories, Inc.</td>\n",
       "      <td>ynzrfuok33o5</td>\n",
       "    </tr>\n",
       "    <tr>\n",
       "      <th>12723</th>\n",
       "      <td>CA</td>\n",
       "      <td>US</td>\n",
       "      <td>org_LPa0Kl9nAxFKX577TVVo</td>\n",
       "      <td>Biozibe Laboratories, Inc.</td>\n",
       "      <td>ynzrfuok33o5</td>\n",
       "    </tr>\n",
       "    <tr>\n",
       "      <th>12724</th>\n",
       "      <td>CA</td>\n",
       "      <td>US</td>\n",
       "      <td>org_mxfZ1NN4vezAZ8hJLCCn</td>\n",
       "      <td>Bishop-Wisecarver Corporation</td>\n",
       "      <td>ynzrfuok33o5</td>\n",
       "    </tr>\n",
       "    <tr>\n",
       "      <th>12725</th>\n",
       "      <td>CA</td>\n",
       "      <td>US</td>\n",
       "      <td>org_Pd2V6MSVzPOPRgWAvXuI</td>\n",
       "      <td>Calgon Corporation</td>\n",
       "      <td>ynzrfuok33o5</td>\n",
       "    </tr>\n",
       "  </tbody>\n",
       "</table>\n",
       "</div>"
      ],
      "text/plain": [
       "      state country               assignee_id  \\\n",
       "12721  CA    US      org_9gbxlFYDdz6sTZtvnhCX   \n",
       "12722  CA    US      org_iv72dHbRItbvdHxgK3kB   \n",
       "12723  CA    US      org_LPa0Kl9nAxFKX577TVVo   \n",
       "12724  CA    US      org_mxfZ1NN4vezAZ8hJLCCn   \n",
       "12725  CA    US      org_Pd2V6MSVzPOPRgWAvXuI   \n",
       "\n",
       "                          organization   location_id  \n",
       "12721  United States Steel Corporation  ynzrfuok33o5  \n",
       "12722  BioZone Laboratories, Inc.       ynzrfuok33o5  \n",
       "12723  Biozibe Laboratories, Inc.       ynzrfuok33o5  \n",
       "12724  Bishop-Wisecarver Corporation    ynzrfuok33o5  \n",
       "12725  Calgon Corporation               ynzrfuok33o5  "
      ]
     },
     "execution_count": 28,
     "metadata": {},
     "output_type": "execute_result"
    }
   ],
   "source": [
    "\"\"\"Filter by the 'US' in the COUNTRY column.\"\"\"\n",
    "\n",
    "merged_assignee_filtered = merged_assignee[merged_assignee['country'] == 'US']\n",
    "merged_assignee_filtered.head()"
   ]
  },
  {
   "cell_type": "code",
   "execution_count": 29,
   "metadata": {},
   "outputs": [
    {
     "data": {
      "text/plain": [
       "[nan, 'UM', 'AA', 'JP', 'NB']"
      ]
     },
     "execution_count": 29,
     "metadata": {},
     "output_type": "execute_result"
    }
   ],
   "source": [
    "\"\"\"Check whether all states associated with the US are valid.\"\"\"\n",
    "\n",
    "states = merged_assignee_filtered.state.unique() # get unique states from the dataframe\n",
    "\n",
    "list_states = ['AL','AK','AS','AZ','AR','CA','CO','CT','DE','DC','FL','GA','GU','HI','ID','IL','IN','IA','KS',\n",
    "'KY','LA','ME','MD','MH','MA','MI','FM','MN','MS','MO','MT','NE','NV','NH','NJ','NM','NY','NC','ND','MP','OH','OK','OR','PW','PA','PR','RI','SC','SD','TN','TX','UT','VT','VA','VI','WA','WV','WI','WY']\n",
    "# get the known list of abbreviations for US states and territories\n",
    "\n",
    "list(set(states) - set(list_states)) # compare the difference between two lists"
   ]
  },
  {
   "cell_type": "code",
   "execution_count": 30,
   "metadata": {},
   "outputs": [
    {
     "data": {
      "text/plain": [
       "762"
      ]
     },
     "execution_count": 30,
     "metadata": {},
     "output_type": "execute_result"
    }
   ],
   "source": [
    "len(merged_assignee_filtered[merged_assignee_filtered['state'].isnull()]) \n",
    "# checking how many records do not have state listed "
   ]
  },
  {
   "cell_type": "code",
   "execution_count": 31,
   "metadata": {},
   "outputs": [
    {
     "data": {
      "text/plain": [
       "'We find the following information:\\nnan - 802 records do not have state listed\\nUM - U.S. Minor Outlying Islands\\nNB - A former abbreviation code for Nebraska (now it is NE)\\nAA - U.S. Armed Forces – Americas\\nJP is an error, there is no such state or territory associted with the United States'"
      ]
     },
     "execution_count": 31,
     "metadata": {},
     "output_type": "execute_result"
    }
   ],
   "source": [
    "\"\"\"We find the following information:\n",
    "nan - 802 records do not have state listed\n",
    "UM - U.S. Minor Outlying Islands\n",
    "NB - A former abbreviation code for Nebraska (now it is NE)\n",
    "AA - U.S. Armed Forces – Americas\n",
    "JP is an error, there is no such state or territory associted with the United States\"\"\""
   ]
  },
  {
   "cell_type": "code",
   "execution_count": 32,
   "metadata": {},
   "outputs": [
    {
     "data": {
      "text/html": [
       "<div>\n",
       "<style scoped>\n",
       "    .dataframe tbody tr th:only-of-type {\n",
       "        vertical-align: middle;\n",
       "    }\n",
       "\n",
       "    .dataframe tbody tr th {\n",
       "        vertical-align: top;\n",
       "    }\n",
       "\n",
       "    .dataframe thead th {\n",
       "        text-align: right;\n",
       "    }\n",
       "</style>\n",
       "<table border=\"1\" class=\"dataframe\">\n",
       "  <thead>\n",
       "    <tr style=\"text-align: right;\">\n",
       "      <th></th>\n",
       "      <th>state</th>\n",
       "      <th>country</th>\n",
       "      <th>assignee_id</th>\n",
       "      <th>organization</th>\n",
       "      <th>location_id</th>\n",
       "    </tr>\n",
       "  </thead>\n",
       "  <tbody>\n",
       "    <tr>\n",
       "      <th>551597</th>\n",
       "      <td>JP</td>\n",
       "      <td>US</td>\n",
       "      <td>org_tTnLqYNs1lwyq9d7LA4S</td>\n",
       "      <td>Takashimaya Nippatsy Kogyo Co., Ltd.</td>\n",
       "      <td>izcs2yxzkmcm</td>\n",
       "    </tr>\n",
       "  </tbody>\n",
       "</table>\n",
       "</div>"
      ],
      "text/plain": [
       "       state country               assignee_id  \\\n",
       "551597  JP    US      org_tTnLqYNs1lwyq9d7LA4S   \n",
       "\n",
       "                                organization   location_id  \n",
       "551597  Takashimaya Nippatsy Kogyo Co., Ltd.  izcs2yxzkmcm  "
      ]
     },
     "execution_count": 32,
     "metadata": {},
     "output_type": "execute_result"
    }
   ],
   "source": [
    "\"\"\"There is only one record with JP.\"\"\"\n",
    "merged_assignee_filtered[merged_assignee_filtered['state'] == 'JP']"
   ]
  },
  {
   "cell_type": "code",
   "execution_count": 33,
   "metadata": {},
   "outputs": [],
   "source": [
    "\"\"\"We remove the JP from the dataframe.\"\"\"\n",
    "\n",
    "merged_assignee_finalized = merged_assignee_filtered[merged_assignee_filtered['state'] != 'JP']"
   ]
  },
  {
   "cell_type": "code",
   "execution_count": 34,
   "metadata": {},
   "outputs": [
    {
     "name": "stdout",
     "output_type": "stream",
     "text": [
      "<class 'pandas.core.frame.DataFrame'>\n",
      "Int64Index: 274214 entries, 12721 to 558512\n",
      "Data columns (total 5 columns):\n",
      "state           273452 non-null object\n",
      "country         274214 non-null object\n",
      "assignee_id     274214 non-null object\n",
      "organization    274214 non-null object\n",
      "location_id     274214 non-null object\n",
      "dtypes: object(5)\n",
      "memory usage: 12.6+ MB\n"
     ]
    }
   ],
   "source": [
    "\"\"\"Now we have 274,214 organization names listed in the United States.\"\"\"\n",
    "\n",
    "merged_assignee_finalized.info()"
   ]
  },
  {
   "cell_type": "code",
   "execution_count": 35,
   "metadata": {},
   "outputs": [
    {
     "data": {
      "text/plain": [
       "230047"
      ]
     },
     "execution_count": 35,
     "metadata": {},
     "output_type": "execute_result"
    }
   ],
   "source": [
    "\"\"\"Among those, 230,047 organization names are unique.\"\"\"\n",
    "\n",
    "merged_assignee_finalized.organization.nunique()"
   ]
  },
  {
   "cell_type": "code",
   "execution_count": 36,
   "metadata": {},
   "outputs": [
    {
     "data": {
      "text/plain": [
       "array([ 1,  3,  2,  7,  5,  4, 13,  6, 10,  8,  9, 15, 19, 11, 12, 37, 18,\n",
       "       22, 17, 81, 16, 14, 27, 34, 24, 35, 36, 21])"
      ]
     },
     "execution_count": 36,
     "metadata": {},
     "output_type": "execute_result"
    }
   ],
   "source": [
    "\"\"\"Some assignees have multiple associated locations.\"\"\"\n",
    "\n",
    "merged_assignee_finalized.groupby('assignee_id')['location_id'].count().unique()"
   ]
  },
  {
   "cell_type": "markdown",
   "metadata": {},
   "source": [
    "### Merge with patent_assignee"
   ]
  },
  {
   "cell_type": "code",
   "execution_count": 37,
   "metadata": {},
   "outputs": [
    {
     "name": "stdout",
     "output_type": "stream",
     "text": [
      "<class 'pandas.core.frame.DataFrame'>\n",
      "RangeIndex: 6163970 entries, 0 to 6163969\n",
      "Data columns (total 2 columns):\n",
      "patent_id      object\n",
      "assignee_id    object\n",
      "dtypes: object(2)\n",
      "memory usage: 94.1+ MB\n"
     ]
    }
   ],
   "source": [
    "\"\"\"Check the dataset description.\"\"\"\n",
    "\n",
    "patent_assignee.info()"
   ]
  },
  {
   "cell_type": "code",
   "execution_count": 38,
   "metadata": {},
   "outputs": [
    {
     "data": {
      "text/html": [
       "<div>\n",
       "<style scoped>\n",
       "    .dataframe tbody tr th:only-of-type {\n",
       "        vertical-align: middle;\n",
       "    }\n",
       "\n",
       "    .dataframe tbody tr th {\n",
       "        vertical-align: top;\n",
       "    }\n",
       "\n",
       "    .dataframe thead th {\n",
       "        text-align: right;\n",
       "    }\n",
       "</style>\n",
       "<table border=\"1\" class=\"dataframe\">\n",
       "  <thead>\n",
       "    <tr style=\"text-align: right;\">\n",
       "      <th></th>\n",
       "      <th>patent_id</th>\n",
       "      <th>assignee_id</th>\n",
       "      <th>state</th>\n",
       "      <th>country</th>\n",
       "      <th>organization</th>\n",
       "      <th>location_id</th>\n",
       "    </tr>\n",
       "  </thead>\n",
       "  <tbody>\n",
       "    <tr>\n",
       "      <th>0</th>\n",
       "      <td>5856666</td>\n",
       "      <td>org_6swO9pOeuJWANlfOE5mf</td>\n",
       "      <td>NY</td>\n",
       "      <td>US</td>\n",
       "      <td>U.S. Philips Corporation</td>\n",
       "      <td>ths6bmxbfgre</td>\n",
       "    </tr>\n",
       "    <tr>\n",
       "      <th>1</th>\n",
       "      <td>5856666</td>\n",
       "      <td>org_6swO9pOeuJWANlfOE5mf</td>\n",
       "      <td>NY</td>\n",
       "      <td>US</td>\n",
       "      <td>U.S. Philips Corporation</td>\n",
       "      <td>726a2siloa8w</td>\n",
       "    </tr>\n",
       "    <tr>\n",
       "      <th>2</th>\n",
       "      <td>5856666</td>\n",
       "      <td>org_6swO9pOeuJWANlfOE5mf</td>\n",
       "      <td>MA</td>\n",
       "      <td>US</td>\n",
       "      <td>U.S. Philips Corporation</td>\n",
       "      <td>hzx6s7d71iaj</td>\n",
       "    </tr>\n",
       "    <tr>\n",
       "      <th>3</th>\n",
       "      <td>5856666</td>\n",
       "      <td>org_6swO9pOeuJWANlfOE5mf</td>\n",
       "      <td>NY</td>\n",
       "      <td>US</td>\n",
       "      <td>U.S. Philips Corporation</td>\n",
       "      <td>dbpqy0bgug9d</td>\n",
       "    </tr>\n",
       "    <tr>\n",
       "      <th>4</th>\n",
       "      <td>5856666</td>\n",
       "      <td>org_6swO9pOeuJWANlfOE5mf</td>\n",
       "      <td>NaN</td>\n",
       "      <td>US</td>\n",
       "      <td>U.S. Philips Corporation</td>\n",
       "      <td>453ex4jkm5xc</td>\n",
       "    </tr>\n",
       "  </tbody>\n",
       "</table>\n",
       "</div>"
      ],
      "text/plain": [
       "  patent_id               assignee_id state country              organization  \\\n",
       "0  5856666   org_6swO9pOeuJWANlfOE5mf  NY    US      U.S. Philips Corporation   \n",
       "1  5856666   org_6swO9pOeuJWANlfOE5mf  NY    US      U.S. Philips Corporation   \n",
       "2  5856666   org_6swO9pOeuJWANlfOE5mf  MA    US      U.S. Philips Corporation   \n",
       "3  5856666   org_6swO9pOeuJWANlfOE5mf  NY    US      U.S. Philips Corporation   \n",
       "4  5856666   org_6swO9pOeuJWANlfOE5mf  NaN   US      U.S. Philips Corporation   \n",
       "\n",
       "    location_id  \n",
       "0  ths6bmxbfgre  \n",
       "1  726a2siloa8w  \n",
       "2  hzx6s7d71iaj  \n",
       "3  dbpqy0bgug9d  \n",
       "4  453ex4jkm5xc  "
      ]
     },
     "execution_count": 38,
     "metadata": {},
     "output_type": "execute_result"
    }
   ],
   "source": [
    "\"\"\"Merge on a common column containing assignee id.\"\"\"\n",
    "\n",
    "merged_patent_assignee = pd.merge(left=patent_assignee,right=merged_assignee_finalized, \n",
    "                                  on='assignee_id')\n",
    "merged_patent_assignee.head()"
   ]
  },
  {
   "cell_type": "code",
   "execution_count": 39,
   "metadata": {},
   "outputs": [
    {
     "name": "stdout",
     "output_type": "stream",
     "text": [
      "<class 'pandas.core.frame.DataFrame'>\n",
      "Int64Index: 26478304 entries, 0 to 26478303\n",
      "Data columns (total 6 columns):\n",
      "patent_id       object\n",
      "assignee_id     object\n",
      "state           object\n",
      "country         object\n",
      "organization    object\n",
      "location_id     object\n",
      "dtypes: object(6)\n",
      "memory usage: 1.4+ GB\n"
     ]
    }
   ],
   "source": [
    "\"Check the dataset description.\"\n",
    "\n",
    "merged_patent_assignee.info()"
   ]
  },
  {
   "cell_type": "code",
   "execution_count": 40,
   "metadata": {},
   "outputs": [
    {
     "data": {
      "text/plain": [
       "230047"
      ]
     },
     "execution_count": 40,
     "metadata": {},
     "output_type": "execute_result"
    }
   ],
   "source": [
    "\"\"\"Check the number of unique organization names - it is the same number as before.\"\"\"\n",
    "\n",
    "merged_patent_assignee.organization.nunique()"
   ]
  },
  {
   "cell_type": "markdown",
   "metadata": {},
   "source": [
    "### Merge with government interest file and create a dummy (0,1) for government interest"
   ]
  },
  {
   "cell_type": "code",
   "execution_count": 41,
   "metadata": {},
   "outputs": [
    {
     "name": "stdout",
     "output_type": "stream",
     "text": [
      "<class 'pandas.core.frame.DataFrame'>\n",
      "RangeIndex: 139237 entries, 0 to 139236\n",
      "Data columns (total 2 columns):\n",
      "patent_id       139237 non-null object\n",
      "gi_statement    139237 non-null object\n",
      "dtypes: object(2)\n",
      "memory usage: 2.1+ MB\n"
     ]
    }
   ],
   "source": [
    "\"\"\"Check the dataset description.\"\"\"\n",
    "\n",
    "government_interest.info()"
   ]
  },
  {
   "cell_type": "code",
   "execution_count": 42,
   "metadata": {},
   "outputs": [
    {
     "data": {
      "text/html": [
       "<div>\n",
       "<style scoped>\n",
       "    .dataframe tbody tr th:only-of-type {\n",
       "        vertical-align: middle;\n",
       "    }\n",
       "\n",
       "    .dataframe tbody tr th {\n",
       "        vertical-align: top;\n",
       "    }\n",
       "\n",
       "    .dataframe thead th {\n",
       "        text-align: right;\n",
       "    }\n",
       "</style>\n",
       "<table border=\"1\" class=\"dataframe\">\n",
       "  <thead>\n",
       "    <tr style=\"text-align: right;\">\n",
       "      <th></th>\n",
       "      <th>patent_id</th>\n",
       "      <th>gi_statement</th>\n",
       "    </tr>\n",
       "  </thead>\n",
       "  <tbody>\n",
       "    <tr>\n",
       "      <th>0</th>\n",
       "      <td>10000026</td>\n",
       "      <td>This invention was made with Government support under contract number DE-FG36-08GO18135 awarded by the United States Department of Energy. The government has certain rights in this invention.</td>\n",
       "    </tr>\n",
       "  </tbody>\n",
       "</table>\n",
       "</div>"
      ],
      "text/plain": [
       "  patent_id  \\\n",
       "0  10000026   \n",
       "\n",
       "                                                                                                                                                                                      gi_statement  \n",
       "0  This invention was made with Government support under contract number DE-FG36-08GO18135 awarded by the United States Department of Energy. The government has certain rights in this invention.  "
      ]
     },
     "execution_count": 42,
     "metadata": {},
     "output_type": "execute_result"
    }
   ],
   "source": [
    "government_interest.head(1)"
   ]
  },
  {
   "cell_type": "code",
   "execution_count": 43,
   "metadata": {},
   "outputs": [],
   "source": [
    "\"\"\"Merge on a common column containing patent ids, preserving patents that don't have\n",
    "government interest.\"\"\"\n",
    "\n",
    "patent_assignee_interest = pd.merge(left=merged_patent_assignee,right=government_interest, \n",
    "                                    on='patent_id', how='left')"
   ]
  },
  {
   "cell_type": "code",
   "execution_count": 44,
   "metadata": {},
   "outputs": [
    {
     "data": {
      "text/plain": [
       "230047"
      ]
     },
     "execution_count": 44,
     "metadata": {},
     "output_type": "execute_result"
    }
   ],
   "source": [
    "\"\"\"Check that the number of unique organization names stayed the same.\"\"\"\n",
    "\n",
    "patent_assignee_interest.organization.nunique()"
   ]
  },
  {
   "cell_type": "code",
   "execution_count": 45,
   "metadata": {},
   "outputs": [],
   "source": [
    "\"\"\"Fill NaN values with 0.\"\"\"\n",
    "\n",
    "patent_assignee_interest = patent_assignee_interest.fillna(0)"
   ]
  },
  {
   "cell_type": "code",
   "execution_count": 46,
   "metadata": {},
   "outputs": [],
   "source": [
    "\"\"\"Create a dummy variable: if a patent has government interest = 1, if not = 0.\"\"\"\n",
    "\n",
    "patent_assignee_interest['government_interest'] = (patent_assignee_interest['gi_statement'] != 0).astype(int)"
   ]
  },
  {
   "cell_type": "code",
   "execution_count": 47,
   "metadata": {},
   "outputs": [
    {
     "data": {
      "text/plain": [
       "array([0, 1])"
      ]
     },
     "execution_count": 47,
     "metadata": {},
     "output_type": "execute_result"
    }
   ],
   "source": [
    "\"\"\"Check that the values are either 1 or 0.\"\"\"\n",
    "\n",
    "patent_assignee_interest['government_interest'].unique()"
   ]
  },
  {
   "cell_type": "code",
   "execution_count": 48,
   "metadata": {},
   "outputs": [
    {
     "data": {
      "text/plain": [
       "230047"
      ]
     },
     "execution_count": 48,
     "metadata": {},
     "output_type": "execute_result"
    }
   ],
   "source": [
    "\"\"\"Check that the number of unique organization names is the same.\"\"\"\n",
    "\n",
    "patent_assignee_interest.organization.nunique()"
   ]
  },
  {
   "cell_type": "markdown",
   "metadata": {},
   "source": [
    "### Load application file and extract year from the \"date\" field"
   ]
  },
  {
   "cell_type": "code",
   "execution_count": 49,
   "metadata": {},
   "outputs": [
    {
     "name": "stdout",
     "output_type": "stream",
     "text": [
      "<class 'pandas.core.frame.DataFrame'>\n",
      "RangeIndex: 6915759 entries, 0 to 6915758\n",
      "Data columns (total 6 columns):\n",
      "id             object\n",
      "patent_id      object\n",
      "series_code    object\n",
      "number         object\n",
      "country        object\n",
      "date           object\n",
      "dtypes: object(6)\n",
      "memory usage: 316.6+ MB\n"
     ]
    }
   ],
   "source": [
    "\"\"\"Check the dataset description.\"\"\"\n",
    "\n",
    "application.info()"
   ]
  },
  {
   "cell_type": "code",
   "execution_count": 50,
   "metadata": {},
   "outputs": [],
   "source": [
    "\"\"\"Merge on a common column containing patent ids.\"\"\"\n",
    "patent_assignee_interest_application = pd.merge(left=patent_assignee_interest,right=application,\n",
    "                                                on='patent_id')\n",
    "\n",
    "\"\"\"Keep only the needed columns.\"\"\"\n",
    "patent_assignee_interest_application = patent_assignee_interest_application[['patent_id','assignee_id','organization','government_interest','date']]"
   ]
  },
  {
   "cell_type": "code",
   "execution_count": 51,
   "metadata": {},
   "outputs": [
    {
     "data": {
      "text/html": [
       "<div>\n",
       "<style scoped>\n",
       "    .dataframe tbody tr th:only-of-type {\n",
       "        vertical-align: middle;\n",
       "    }\n",
       "\n",
       "    .dataframe tbody tr th {\n",
       "        vertical-align: top;\n",
       "    }\n",
       "\n",
       "    .dataframe thead th {\n",
       "        text-align: right;\n",
       "    }\n",
       "</style>\n",
       "<table border=\"1\" class=\"dataframe\">\n",
       "  <thead>\n",
       "    <tr style=\"text-align: right;\">\n",
       "      <th></th>\n",
       "      <th>patent_id</th>\n",
       "      <th>assignee_id</th>\n",
       "      <th>organization</th>\n",
       "      <th>government_interest</th>\n",
       "      <th>year</th>\n",
       "    </tr>\n",
       "  </thead>\n",
       "  <tbody>\n",
       "    <tr>\n",
       "      <th>0</th>\n",
       "      <td>5856666</td>\n",
       "      <td>org_6swO9pOeuJWANlfOE5mf</td>\n",
       "      <td>U.S. Philips Corporation</td>\n",
       "      <td>0</td>\n",
       "      <td>1996.000000</td>\n",
       "    </tr>\n",
       "    <tr>\n",
       "      <th>1</th>\n",
       "      <td>5856666</td>\n",
       "      <td>org_6swO9pOeuJWANlfOE5mf</td>\n",
       "      <td>U.S. Philips Corporation</td>\n",
       "      <td>0</td>\n",
       "      <td>1996.000000</td>\n",
       "    </tr>\n",
       "    <tr>\n",
       "      <th>2</th>\n",
       "      <td>5856666</td>\n",
       "      <td>org_6swO9pOeuJWANlfOE5mf</td>\n",
       "      <td>U.S. Philips Corporation</td>\n",
       "      <td>0</td>\n",
       "      <td>1996.000000</td>\n",
       "    </tr>\n",
       "    <tr>\n",
       "      <th>3</th>\n",
       "      <td>5856666</td>\n",
       "      <td>org_6swO9pOeuJWANlfOE5mf</td>\n",
       "      <td>U.S. Philips Corporation</td>\n",
       "      <td>0</td>\n",
       "      <td>1996.000000</td>\n",
       "    </tr>\n",
       "    <tr>\n",
       "      <th>4</th>\n",
       "      <td>5856666</td>\n",
       "      <td>org_6swO9pOeuJWANlfOE5mf</td>\n",
       "      <td>U.S. Philips Corporation</td>\n",
       "      <td>0</td>\n",
       "      <td>1996.000000</td>\n",
       "    </tr>\n",
       "  </tbody>\n",
       "</table>\n",
       "</div>"
      ],
      "text/plain": [
       "  patent_id               assignee_id              organization  \\\n",
       "0  5856666   org_6swO9pOeuJWANlfOE5mf  U.S. Philips Corporation   \n",
       "1  5856666   org_6swO9pOeuJWANlfOE5mf  U.S. Philips Corporation   \n",
       "2  5856666   org_6swO9pOeuJWANlfOE5mf  U.S. Philips Corporation   \n",
       "3  5856666   org_6swO9pOeuJWANlfOE5mf  U.S. Philips Corporation   \n",
       "4  5856666   org_6swO9pOeuJWANlfOE5mf  U.S. Philips Corporation   \n",
       "\n",
       "   government_interest        year  \n",
       "0  0                   1996.000000  \n",
       "1  0                   1996.000000  \n",
       "2  0                   1996.000000  \n",
       "3  0                   1996.000000  \n",
       "4  0                   1996.000000  "
      ]
     },
     "execution_count": 51,
     "metadata": {},
     "output_type": "execute_result"
    }
   ],
   "source": [
    "\"\"\"Extract year from the date column.\"\"\"\n",
    "\n",
    "patent_assignee_interest_application['date'] = pd.to_datetime(patent_assignee_interest_application['date'], \n",
    "                                                              errors='coerce')\n",
    "patent_assignee_interest_application['year'] = patent_assignee_interest_application['date'].dt.year\n",
    "patent_assignee_interest_application = patent_assignee_interest_application.drop('date',axis=1)\n",
    "patent_assignee_interest_application.head()"
   ]
  },
  {
   "cell_type": "code",
   "execution_count": 52,
   "metadata": {},
   "outputs": [],
   "source": [
    "\"\"\"Now that the LOCATION_ID column is not there (which used to differentiate\n",
    "between different assignee rows), we can drop the duplicates.\"\"\"\n",
    "\n",
    "patent_assignee_interest_application = patent_assignee_interest_application.drop_duplicates()"
   ]
  },
  {
   "cell_type": "code",
   "execution_count": 53,
   "metadata": {},
   "outputs": [
    {
     "data": {
      "text/html": [
       "<div>\n",
       "<style scoped>\n",
       "    .dataframe tbody tr th:only-of-type {\n",
       "        vertical-align: middle;\n",
       "    }\n",
       "\n",
       "    .dataframe tbody tr th {\n",
       "        vertical-align: top;\n",
       "    }\n",
       "\n",
       "    .dataframe thead th {\n",
       "        text-align: right;\n",
       "    }\n",
       "</style>\n",
       "<table border=\"1\" class=\"dataframe\">\n",
       "  <thead>\n",
       "    <tr style=\"text-align: right;\">\n",
       "      <th></th>\n",
       "      <th>patent_id</th>\n",
       "      <th>assignee_id</th>\n",
       "      <th>organization</th>\n",
       "      <th>government_interest</th>\n",
       "      <th>year</th>\n",
       "    </tr>\n",
       "  </thead>\n",
       "  <tbody>\n",
       "    <tr>\n",
       "      <th>0</th>\n",
       "      <td>5856666</td>\n",
       "      <td>org_6swO9pOeuJWANlfOE5mf</td>\n",
       "      <td>U.S. Philips Corporation</td>\n",
       "      <td>0</td>\n",
       "      <td>1996.000000</td>\n",
       "    </tr>\n",
       "    <tr>\n",
       "      <th>8</th>\n",
       "      <td>4527017</td>\n",
       "      <td>org_6swO9pOeuJWANlfOE5mf</td>\n",
       "      <td>U.S. Philips Corporation</td>\n",
       "      <td>0</td>\n",
       "      <td>1980.000000</td>\n",
       "    </tr>\n",
       "    <tr>\n",
       "      <th>16</th>\n",
       "      <td>6339671</td>\n",
       "      <td>org_6swO9pOeuJWANlfOE5mf</td>\n",
       "      <td>U.S. Philips Corporation</td>\n",
       "      <td>0</td>\n",
       "      <td>2000.000000</td>\n",
       "    </tr>\n",
       "    <tr>\n",
       "      <th>24</th>\n",
       "      <td>5275163</td>\n",
       "      <td>org_6swO9pOeuJWANlfOE5mf</td>\n",
       "      <td>U.S. Philips Corporation</td>\n",
       "      <td>0</td>\n",
       "      <td>1992.000000</td>\n",
       "    </tr>\n",
       "    <tr>\n",
       "      <th>32</th>\n",
       "      <td>4803559</td>\n",
       "      <td>org_6swO9pOeuJWANlfOE5mf</td>\n",
       "      <td>U.S. Philips Corporation</td>\n",
       "      <td>0</td>\n",
       "      <td>1987.000000</td>\n",
       "    </tr>\n",
       "  </tbody>\n",
       "</table>\n",
       "</div>"
      ],
      "text/plain": [
       "   patent_id               assignee_id              organization  \\\n",
       "0   5856666   org_6swO9pOeuJWANlfOE5mf  U.S. Philips Corporation   \n",
       "8   4527017   org_6swO9pOeuJWANlfOE5mf  U.S. Philips Corporation   \n",
       "16  6339671   org_6swO9pOeuJWANlfOE5mf  U.S. Philips Corporation   \n",
       "24  5275163   org_6swO9pOeuJWANlfOE5mf  U.S. Philips Corporation   \n",
       "32  4803559   org_6swO9pOeuJWANlfOE5mf  U.S. Philips Corporation   \n",
       "\n",
       "    government_interest        year  \n",
       "0   0                   1996.000000  \n",
       "8   0                   1980.000000  \n",
       "16  0                   2000.000000  \n",
       "24  0                   1992.000000  \n",
       "32  0                   1987.000000  "
      ]
     },
     "execution_count": 53,
     "metadata": {},
     "output_type": "execute_result"
    }
   ],
   "source": [
    "patent_assignee_interest_application.head()"
   ]
  },
  {
   "cell_type": "markdown",
   "metadata": {},
   "source": [
    "### Filter the finalized dataframe for years from 2000+"
   ]
  },
  {
   "cell_type": "code",
   "execution_count": 54,
   "metadata": {},
   "outputs": [
    {
     "data": {
      "text/html": [
       "<div>\n",
       "<style scoped>\n",
       "    .dataframe tbody tr th:only-of-type {\n",
       "        vertical-align: middle;\n",
       "    }\n",
       "\n",
       "    .dataframe tbody tr th {\n",
       "        vertical-align: top;\n",
       "    }\n",
       "\n",
       "    .dataframe thead th {\n",
       "        text-align: right;\n",
       "    }\n",
       "</style>\n",
       "<table border=\"1\" class=\"dataframe\">\n",
       "  <thead>\n",
       "    <tr style=\"text-align: right;\">\n",
       "      <th></th>\n",
       "      <th>patent_id</th>\n",
       "      <th>assignee_id</th>\n",
       "      <th>organization</th>\n",
       "      <th>government_interest</th>\n",
       "      <th>year</th>\n",
       "    </tr>\n",
       "  </thead>\n",
       "  <tbody>\n",
       "    <tr>\n",
       "      <th>16</th>\n",
       "      <td>6339671</td>\n",
       "      <td>org_6swO9pOeuJWANlfOE5mf</td>\n",
       "      <td>U.S. Philips Corporation</td>\n",
       "      <td>0</td>\n",
       "      <td>2000.000000</td>\n",
       "    </tr>\n",
       "    <tr>\n",
       "      <th>672</th>\n",
       "      <td>8228939</td>\n",
       "      <td>org_6swO9pOeuJWANlfOE5mf</td>\n",
       "      <td>U.S. Philips Corporation</td>\n",
       "      <td>0</td>\n",
       "      <td>2000.000000</td>\n",
       "    </tr>\n",
       "    <tr>\n",
       "      <th>680</th>\n",
       "      <td>8228939</td>\n",
       "      <td>org_LMhqUwxLfu0m5GTIRqMY</td>\n",
       "      <td>Sharp Kabushiki Kaisha</td>\n",
       "      <td>0</td>\n",
       "      <td>2000.000000</td>\n",
       "    </tr>\n",
       "    <tr>\n",
       "      <th>954</th>\n",
       "      <td>6348779</td>\n",
       "      <td>org_6swO9pOeuJWANlfOE5mf</td>\n",
       "      <td>U.S. Philips Corporation</td>\n",
       "      <td>0</td>\n",
       "      <td>2000.000000</td>\n",
       "    </tr>\n",
       "    <tr>\n",
       "      <th>1002</th>\n",
       "      <td>6388644</td>\n",
       "      <td>org_6swO9pOeuJWANlfOE5mf</td>\n",
       "      <td>U.S. Philips Corporation</td>\n",
       "      <td>0</td>\n",
       "      <td>2000.000000</td>\n",
       "    </tr>\n",
       "  </tbody>\n",
       "</table>\n",
       "</div>"
      ],
      "text/plain": [
       "     patent_id               assignee_id              organization  \\\n",
       "16    6339671   org_6swO9pOeuJWANlfOE5mf  U.S. Philips Corporation   \n",
       "672   8228939   org_6swO9pOeuJWANlfOE5mf  U.S. Philips Corporation   \n",
       "680   8228939   org_LMhqUwxLfu0m5GTIRqMY  Sharp Kabushiki Kaisha     \n",
       "954   6348779   org_6swO9pOeuJWANlfOE5mf  U.S. Philips Corporation   \n",
       "1002  6388644   org_6swO9pOeuJWANlfOE5mf  U.S. Philips Corporation   \n",
       "\n",
       "      government_interest        year  \n",
       "16    0                   2000.000000  \n",
       "672   0                   2000.000000  \n",
       "680   0                   2000.000000  \n",
       "954   0                   2000.000000  \n",
       "1002  0                   2000.000000  "
      ]
     },
     "execution_count": 54,
     "metadata": {},
     "output_type": "execute_result"
    }
   ],
   "source": [
    "finalized_dataframe = patent_assignee_interest_application[patent_assignee_interest_application['year'] >= 2000]\n",
    "finalized_dataframe.head()"
   ]
  },
  {
   "cell_type": "markdown",
   "metadata": {},
   "source": [
    "### Merge with IPEDS file"
   ]
  },
  {
   "cell_type": "code",
   "execution_count": 55,
   "metadata": {},
   "outputs": [
    {
     "name": "stdout",
     "output_type": "stream",
     "text": [
      "<class 'pandas.core.frame.DataFrame'>\n",
      "RangeIndex: 7153 entries, 0 to 7152\n",
      "Data columns (total 4 columns):\n",
      "UNITID    7153 non-null int64\n",
      "INSTNM    7153 non-null object\n",
      "IALIAS    7153 non-null object\n",
      "STABBR    7153 non-null object\n",
      "dtypes: int64(1), object(3)\n",
      "memory usage: 223.6+ KB\n"
     ]
    }
   ],
   "source": [
    "\"\"\"Check the dataset description.\"\"\"\n",
    "\n",
    "ipeds.info()"
   ]
  },
  {
   "cell_type": "code",
   "execution_count": 56,
   "metadata": {},
   "outputs": [
    {
     "name": "stderr",
     "output_type": "stream",
     "text": [
      "/home/ekaterina/anaconda3/lib/python3.6/site-packages/ipykernel_launcher.py:14: SettingWithCopyWarning: \n",
      "A value is trying to be set on a copy of a slice from a DataFrame.\n",
      "Try using .loc[row_indexer,col_indexer] = value instead\n",
      "\n",
      "See the caveats in the documentation: http://pandas.pydata.org/pandas-docs/stable/indexing.html#indexing-view-versus-copy\n",
      "  \n"
     ]
    }
   ],
   "source": [
    "\"\"\"Normalize university names before merging with assignee and patent file: lowercase, \n",
    "remove white space, remove punctuation/special symbols.\"\"\"\n",
    "\n",
    "def normalize_names(name):\n",
    "    name = name.lower() # lowercase\n",
    "    name = name.strip() # remove trailing white space\n",
    "    for i in string.punctuation:\n",
    "        name = name.replace(i,'') # remove punctuation and special symbols\n",
    "    name = name.replace(' ','') # remove all white space\n",
    "    return name\n",
    "\n",
    "\"\"\"Apply normalization function to university and organization names.\"\"\"\n",
    "\n",
    "finalized_dataframe['organization'] = finalized_dataframe['organization'].apply(normalize_names)\n",
    "ipeds['INSTNM'] = ipeds['INSTNM'].apply(normalize_names)"
   ]
  },
  {
   "cell_type": "code",
   "execution_count": 57,
   "metadata": {},
   "outputs": [
    {
     "data": {
      "text/html": [
       "<div>\n",
       "<style scoped>\n",
       "    .dataframe tbody tr th:only-of-type {\n",
       "        vertical-align: middle;\n",
       "    }\n",
       "\n",
       "    .dataframe tbody tr th {\n",
       "        vertical-align: top;\n",
       "    }\n",
       "\n",
       "    .dataframe thead th {\n",
       "        text-align: right;\n",
       "    }\n",
       "</style>\n",
       "<table border=\"1\" class=\"dataframe\">\n",
       "  <thead>\n",
       "    <tr style=\"text-align: right;\">\n",
       "      <th></th>\n",
       "      <th>UNITID</th>\n",
       "      <th>INSTNM</th>\n",
       "      <th>IALIAS</th>\n",
       "      <th>STABBR</th>\n",
       "      <th>patent_id</th>\n",
       "      <th>assignee_id</th>\n",
       "      <th>organization</th>\n",
       "      <th>government_interest</th>\n",
       "      <th>year</th>\n",
       "    </tr>\n",
       "  </thead>\n",
       "  <tbody>\n",
       "    <tr>\n",
       "      <th>0</th>\n",
       "      <td>100654</td>\n",
       "      <td>alabamaamuniversity</td>\n",
       "      <td>AAMU</td>\n",
       "      <td>AL</td>\n",
       "      <td>6999221</td>\n",
       "      <td>org_agpbfFe0HQ59qCPZF1GH</td>\n",
       "      <td>alabamaamuniversity</td>\n",
       "      <td>0</td>\n",
       "      <td>2003.000000</td>\n",
       "    </tr>\n",
       "    <tr>\n",
       "      <th>1</th>\n",
       "      <td>100654</td>\n",
       "      <td>alabamaamuniversity</td>\n",
       "      <td>AAMU</td>\n",
       "      <td>AL</td>\n",
       "      <td>9795634</td>\n",
       "      <td>org_agpbfFe0HQ59qCPZF1GH</td>\n",
       "      <td>alabamaamuniversity</td>\n",
       "      <td>0</td>\n",
       "      <td>2016.000000</td>\n",
       "    </tr>\n",
       "    <tr>\n",
       "      <th>2</th>\n",
       "      <td>100706</td>\n",
       "      <td>universityofalabamainhuntsville</td>\n",
       "      <td>UAH |University of Alabama Huntsville</td>\n",
       "      <td>AL</td>\n",
       "      <td>9182228</td>\n",
       "      <td>org_tgWZGEfsbc3WWgsU6KAV</td>\n",
       "      <td>universityofalabamainhuntsville</td>\n",
       "      <td>1</td>\n",
       "      <td>2006.000000</td>\n",
       "    </tr>\n",
       "    <tr>\n",
       "      <th>3</th>\n",
       "      <td>100706</td>\n",
       "      <td>universityofalabamainhuntsville</td>\n",
       "      <td>UAH |University of Alabama Huntsville</td>\n",
       "      <td>AL</td>\n",
       "      <td>8735844</td>\n",
       "      <td>org_tgWZGEfsbc3WWgsU6KAV</td>\n",
       "      <td>universityofalabamainhuntsville</td>\n",
       "      <td>1</td>\n",
       "      <td>2013.000000</td>\n",
       "    </tr>\n",
       "    <tr>\n",
       "      <th>4</th>\n",
       "      <td>100706</td>\n",
       "      <td>universityofalabamainhuntsville</td>\n",
       "      <td>UAH |University of Alabama Huntsville</td>\n",
       "      <td>AL</td>\n",
       "      <td>8706178</td>\n",
       "      <td>org_tgWZGEfsbc3WWgsU6KAV</td>\n",
       "      <td>universityofalabamainhuntsville</td>\n",
       "      <td>0</td>\n",
       "      <td>2006.000000</td>\n",
       "    </tr>\n",
       "  </tbody>\n",
       "</table>\n",
       "</div>"
      ],
      "text/plain": [
       "   UNITID                           INSTNM  \\\n",
       "0  100654  alabamaamuniversity               \n",
       "1  100654  alabamaamuniversity               \n",
       "2  100706  universityofalabamainhuntsville   \n",
       "3  100706  universityofalabamainhuntsville   \n",
       "4  100706  universityofalabamainhuntsville   \n",
       "\n",
       "                                  IALIAS STABBR patent_id  \\\n",
       "0  AAMU                                   AL     6999221    \n",
       "1  AAMU                                   AL     9795634    \n",
       "2  UAH |University of Alabama Huntsville  AL     9182228    \n",
       "3  UAH |University of Alabama Huntsville  AL     8735844    \n",
       "4  UAH |University of Alabama Huntsville  AL     8706178    \n",
       "\n",
       "                assignee_id                     organization  \\\n",
       "0  org_agpbfFe0HQ59qCPZF1GH  alabamaamuniversity               \n",
       "1  org_agpbfFe0HQ59qCPZF1GH  alabamaamuniversity               \n",
       "2  org_tgWZGEfsbc3WWgsU6KAV  universityofalabamainhuntsville   \n",
       "3  org_tgWZGEfsbc3WWgsU6KAV  universityofalabamainhuntsville   \n",
       "4  org_tgWZGEfsbc3WWgsU6KAV  universityofalabamainhuntsville   \n",
       "\n",
       "   government_interest        year  \n",
       "0  0                   2003.000000  \n",
       "1  0                   2016.000000  \n",
       "2  1                   2006.000000  \n",
       "3  1                   2013.000000  \n",
       "4  0                   2006.000000  "
      ]
     },
     "execution_count": 57,
     "metadata": {},
     "output_type": "execute_result"
    }
   ],
   "source": [
    "\"\"\"Merge on a common column containing names.\"\"\"\n",
    "\n",
    "merged_ipeds_patents = pd.merge(left=ipeds,right=finalized_dataframe,\n",
    "                                left_on='INSTNM',right_on='organization')\n",
    "\n",
    "merged_ipeds_patents.head()"
   ]
  },
  {
   "cell_type": "code",
   "execution_count": 58,
   "metadata": {},
   "outputs": [
    {
     "data": {
      "text/plain": [
       "289"
      ]
     },
     "execution_count": 58,
     "metadata": {},
     "output_type": "execute_result"
    }
   ],
   "source": [
    "\"\"\"Check the number of matched IPEDS organizations.\"\"\"\n",
    "\n",
    "merged_ipeds_patents.organization.nunique()"
   ]
  },
  {
   "cell_type": "code",
   "execution_count": 59,
   "metadata": {},
   "outputs": [],
   "source": [
    "patent_universities = merged_ipeds_patents\n",
    "\n",
    "\"\"\"Keep only needed columns.\"\"\"\n",
    "patent_universities = patent_universities[['UNITID','assignee_id','government_interest','organization','patent_id','year']]"
   ]
  },
  {
   "cell_type": "markdown",
   "metadata": {},
   "source": [
    "## Variable construction"
   ]
  },
  {
   "cell_type": "markdown",
   "metadata": {},
   "source": [
    "### Number of patents joint with business (#joint_w_business)"
   ]
  },
  {
   "cell_type": "code",
   "execution_count": 60,
   "metadata": {},
   "outputs": [],
   "source": [
    "\"\"\"To find assignees which are businesses, filter the patents dataframe by assignees \n",
    "who do not have universities IDs.\"\"\"\n",
    "\n",
    "university_ids = patent_universities['assignee_id'].values.tolist()\n",
    "patent_business = finalized_dataframe[~finalized_dataframe['assignee_id'].isin(university_ids)]"
   ]
  },
  {
   "cell_type": "code",
   "execution_count": 61,
   "metadata": {},
   "outputs": [
    {
     "data": {
      "text/plain": [
       "133862"
      ]
     },
     "execution_count": 61,
     "metadata": {},
     "output_type": "execute_result"
    }
   ],
   "source": [
    "\"\"\"Check the number of organization names in the business category.\"\"\"\n",
    "\n",
    "patent_business.organization.nunique()"
   ]
  },
  {
   "cell_type": "code",
   "execution_count": 62,
   "metadata": {},
   "outputs": [],
   "source": [
    "\"\"\"Merge on a common patent_id number.\"\"\"\n",
    "\n",
    "merged_business_university = pd.merge(left=patent_business,right=patent_universities,\n",
    "                                      on='patent_id')"
   ]
  },
  {
   "cell_type": "code",
   "execution_count": 63,
   "metadata": {},
   "outputs": [],
   "source": [
    "\"\"\"Drop duplicates.\"\"\"\n",
    "\n",
    "merged_business_university = merged_business_university.drop_duplicates()"
   ]
  },
  {
   "cell_type": "code",
   "execution_count": 64,
   "metadata": {},
   "outputs": [],
   "source": [
    "\"\"\"Group by a university and year and count the number of patents joint with businesses.\"\"\"\n",
    "\n",
    "joint_with_business = merged_business_university.groupby(['UNITID','organization_y','year_y'])['patent_id'].count().reset_index()"
   ]
  },
  {
   "cell_type": "code",
   "execution_count": 65,
   "metadata": {},
   "outputs": [],
   "source": [
    "\"\"\"Convert float to integer in a YEAR column.\"\"\"\n",
    "\n",
    "joint_with_business['year_y'] = joint_with_business['year_y'].astype(int)"
   ]
  },
  {
   "cell_type": "code",
   "execution_count": 66,
   "metadata": {},
   "outputs": [],
   "source": [
    "\"\"\"Create a balanced panel dataset.\"\"\"\n",
    "\n",
    "joint_w_business_balanced = (joint_with_business.set_index('year_y',append=True)\n",
    "                 .reindex(pd.MultiIndex.from_product([joint_with_business.index.unique(),\n",
    "                                                      range(2000,2019)],\n",
    "                                                     names=['id','year']))\n",
    "                 .reset_index(level=1))\n",
    "\n",
    "joint_w_business_balanced['UNITID'] = joint_w_business_balanced.groupby(level=0)['UNITID'].ffill().bfill()\n",
    "joint_w_business_balanced['organization_y'] = joint_w_business_balanced.groupby(level=0)['organization_y'].ffill().bfill()\n",
    "joint_w_business_balanced['patent_id'] = joint_w_business_balanced['patent_id'].fillna(0)\n",
    "\n",
    "joint_w_business_balanced = joint_w_business_balanced.rename(columns={'organization_y':'university','patent_id':'#joint_w_business'})\n",
    "\n",
    "joint_w_business_balanced_deduplicated = joint_w_business_balanced.drop_duplicates(subset=['year','UNITID','university'])\n",
    "\n",
    "joint_with_business = joint_with_business.rename(columns={'organization_y':'university','year_y':'year','patent_id':'#joint_w_business'})\n",
    "\n",
    "joint_w_business_finalized = joint_with_business.merge(joint_w_business_balanced_deduplicated, on=['UNITID','year','university'],\n",
    "                         how='right')\n",
    "\n",
    "joint_w_business_finalized = joint_w_business_finalized.drop('#joint_w_business_y',axis=1)\n",
    "\n",
    "joint_w_business_finalized = joint_w_business_finalized.fillna(0)\n",
    "\n",
    "joint_w_business_finalized = joint_w_business_finalized.sort_values(['university','year'])\n",
    "joint_w_business_finalized = joint_w_business_finalized.rename(columns={'#joint_w_business_x':'#joint_w_business'})"
   ]
  },
  {
   "cell_type": "markdown",
   "metadata": {},
   "source": [
    "### Total number of patents (#patents)"
   ]
  },
  {
   "cell_type": "code",
   "execution_count": 67,
   "metadata": {},
   "outputs": [],
   "source": [
    "\"\"\"Group by a university and year and count the number of total patents since 2000.\"\"\"\n",
    "\n",
    "number_patents = patent_universities.groupby(['UNITID','organization','year'])['patent_id'].count().reset_index()"
   ]
  },
  {
   "cell_type": "code",
   "execution_count": 68,
   "metadata": {},
   "outputs": [],
   "source": [
    "\"\"\"Create a balanced panel dataset.\"\"\"\n",
    "\n",
    "number_patents['year'] = number_patents['year'].astype(int)  # convert float to integer\n",
    "\n",
    "number_patents_balanced = (number_patents.set_index('year',append=True)\n",
    "                 .reindex(pd.MultiIndex.from_product([number_patents.index.unique(),\n",
    "                                                      range(2000,2019)],\n",
    "                                                     names=['id','year']))\n",
    "                 .reset_index(level=1))\n",
    "\n",
    "number_patents_balanced['UNITID'] = number_patents_balanced.groupby(level=0)['UNITID'].ffill().bfill()\n",
    "number_patents_balanced['organization'] = number_patents_balanced.groupby(level=0)['organization'].ffill().bfill()\n",
    "number_patents_balanced['patent_id'] = number_patents_balanced['patent_id'].fillna(0)"
   ]
  },
  {
   "cell_type": "code",
   "execution_count": 69,
   "metadata": {},
   "outputs": [
    {
     "data": {
      "text/html": [
       "<div>\n",
       "<style scoped>\n",
       "    .dataframe tbody tr th:only-of-type {\n",
       "        vertical-align: middle;\n",
       "    }\n",
       "\n",
       "    .dataframe tbody tr th {\n",
       "        vertical-align: top;\n",
       "    }\n",
       "\n",
       "    .dataframe thead th {\n",
       "        text-align: right;\n",
       "    }\n",
       "</style>\n",
       "<table border=\"1\" class=\"dataframe\">\n",
       "  <thead>\n",
       "    <tr style=\"text-align: right;\">\n",
       "      <th></th>\n",
       "      <th>UNITID</th>\n",
       "      <th>organization</th>\n",
       "      <th>year</th>\n",
       "      <th>patent_id_x</th>\n",
       "    </tr>\n",
       "  </thead>\n",
       "  <tbody>\n",
       "    <tr>\n",
       "      <th>2</th>\n",
       "      <td>100706</td>\n",
       "      <td>universityofalabamainhuntsville</td>\n",
       "      <td>2000</td>\n",
       "      <td>1.000000</td>\n",
       "    </tr>\n",
       "    <tr>\n",
       "      <th>3</th>\n",
       "      <td>100706</td>\n",
       "      <td>universityofalabamainhuntsville</td>\n",
       "      <td>2001</td>\n",
       "      <td>1.000000</td>\n",
       "    </tr>\n",
       "    <tr>\n",
       "      <th>4</th>\n",
       "      <td>100706</td>\n",
       "      <td>universityofalabamainhuntsville</td>\n",
       "      <td>2002</td>\n",
       "      <td>5.000000</td>\n",
       "    </tr>\n",
       "    <tr>\n",
       "      <th>5</th>\n",
       "      <td>100706</td>\n",
       "      <td>universityofalabamainhuntsville</td>\n",
       "      <td>2003</td>\n",
       "      <td>3.000000</td>\n",
       "    </tr>\n",
       "    <tr>\n",
       "      <th>6</th>\n",
       "      <td>100706</td>\n",
       "      <td>universityofalabamainhuntsville</td>\n",
       "      <td>2004</td>\n",
       "      <td>2.000000</td>\n",
       "    </tr>\n",
       "    <tr>\n",
       "      <th>2039</th>\n",
       "      <td>100706</td>\n",
       "      <td>universityofalabamainhuntsville</td>\n",
       "      <td>2005</td>\n",
       "      <td>0.000000</td>\n",
       "    </tr>\n",
       "    <tr>\n",
       "      <th>7</th>\n",
       "      <td>100706</td>\n",
       "      <td>universityofalabamainhuntsville</td>\n",
       "      <td>2006</td>\n",
       "      <td>2.000000</td>\n",
       "    </tr>\n",
       "    <tr>\n",
       "      <th>8</th>\n",
       "      <td>100706</td>\n",
       "      <td>universityofalabamainhuntsville</td>\n",
       "      <td>2007</td>\n",
       "      <td>3.000000</td>\n",
       "    </tr>\n",
       "    <tr>\n",
       "      <th>9</th>\n",
       "      <td>100706</td>\n",
       "      <td>universityofalabamainhuntsville</td>\n",
       "      <td>2008</td>\n",
       "      <td>1.000000</td>\n",
       "    </tr>\n",
       "    <tr>\n",
       "      <th>2040</th>\n",
       "      <td>100706</td>\n",
       "      <td>universityofalabamainhuntsville</td>\n",
       "      <td>2009</td>\n",
       "      <td>0.000000</td>\n",
       "    </tr>\n",
       "    <tr>\n",
       "      <th>10</th>\n",
       "      <td>100706</td>\n",
       "      <td>universityofalabamainhuntsville</td>\n",
       "      <td>2010</td>\n",
       "      <td>1.000000</td>\n",
       "    </tr>\n",
       "    <tr>\n",
       "      <th>11</th>\n",
       "      <td>100706</td>\n",
       "      <td>universityofalabamainhuntsville</td>\n",
       "      <td>2011</td>\n",
       "      <td>4.000000</td>\n",
       "    </tr>\n",
       "    <tr>\n",
       "      <th>12</th>\n",
       "      <td>100706</td>\n",
       "      <td>universityofalabamainhuntsville</td>\n",
       "      <td>2012</td>\n",
       "      <td>3.000000</td>\n",
       "    </tr>\n",
       "    <tr>\n",
       "      <th>13</th>\n",
       "      <td>100706</td>\n",
       "      <td>universityofalabamainhuntsville</td>\n",
       "      <td>2013</td>\n",
       "      <td>2.000000</td>\n",
       "    </tr>\n",
       "    <tr>\n",
       "      <th>14</th>\n",
       "      <td>100706</td>\n",
       "      <td>universityofalabamainhuntsville</td>\n",
       "      <td>2014</td>\n",
       "      <td>6.000000</td>\n",
       "    </tr>\n",
       "    <tr>\n",
       "      <th>15</th>\n",
       "      <td>100706</td>\n",
       "      <td>universityofalabamainhuntsville</td>\n",
       "      <td>2015</td>\n",
       "      <td>4.000000</td>\n",
       "    </tr>\n",
       "    <tr>\n",
       "      <th>16</th>\n",
       "      <td>100706</td>\n",
       "      <td>universityofalabamainhuntsville</td>\n",
       "      <td>2016</td>\n",
       "      <td>4.000000</td>\n",
       "    </tr>\n",
       "    <tr>\n",
       "      <th>17</th>\n",
       "      <td>100706</td>\n",
       "      <td>universityofalabamainhuntsville</td>\n",
       "      <td>2017</td>\n",
       "      <td>2.000000</td>\n",
       "    </tr>\n",
       "    <tr>\n",
       "      <th>2041</th>\n",
       "      <td>100706</td>\n",
       "      <td>universityofalabamainhuntsville</td>\n",
       "      <td>2018</td>\n",
       "      <td>0.000000</td>\n",
       "    </tr>\n",
       "  </tbody>\n",
       "</table>\n",
       "</div>"
      ],
      "text/plain": [
       "      UNITID                     organization  year  patent_id_x\n",
       "2     100706  universityofalabamainhuntsville  2000 1.000000    \n",
       "3     100706  universityofalabamainhuntsville  2001 1.000000    \n",
       "4     100706  universityofalabamainhuntsville  2002 5.000000    \n",
       "5     100706  universityofalabamainhuntsville  2003 3.000000    \n",
       "6     100706  universityofalabamainhuntsville  2004 2.000000    \n",
       "2039  100706  universityofalabamainhuntsville  2005 0.000000    \n",
       "7     100706  universityofalabamainhuntsville  2006 2.000000    \n",
       "8     100706  universityofalabamainhuntsville  2007 3.000000    \n",
       "9     100706  universityofalabamainhuntsville  2008 1.000000    \n",
       "2040  100706  universityofalabamainhuntsville  2009 0.000000    \n",
       "10    100706  universityofalabamainhuntsville  2010 1.000000    \n",
       "11    100706  universityofalabamainhuntsville  2011 4.000000    \n",
       "12    100706  universityofalabamainhuntsville  2012 3.000000    \n",
       "13    100706  universityofalabamainhuntsville  2013 2.000000    \n",
       "14    100706  universityofalabamainhuntsville  2014 6.000000    \n",
       "15    100706  universityofalabamainhuntsville  2015 4.000000    \n",
       "16    100706  universityofalabamainhuntsville  2016 4.000000    \n",
       "17    100706  universityofalabamainhuntsville  2017 2.000000    \n",
       "2041  100706  universityofalabamainhuntsville  2018 0.000000    "
      ]
     },
     "execution_count": 69,
     "metadata": {},
     "output_type": "execute_result"
    }
   ],
   "source": [
    "number_patents_balanced_deduplicated = number_patents_balanced.drop_duplicates(subset=['year','UNITID','organization'])\n",
    "\n",
    "number_patents_finalized = number_patents.merge(number_patents_balanced_deduplicated, on=['UNITID','year','organization'],\n",
    "                         how='right')\n",
    "\n",
    "number_patents_finalized = number_patents_finalized.drop('patent_id_y',axis=1)\n",
    "\n",
    "number_patents_finalized = number_patents_finalized.fillna(0)\n",
    "\n",
    "number_patents_finalized = number_patents_finalized.sort_values(['organization','year'])\n",
    "\n",
    "number_patents_finalized[number_patents_finalized['organization'] == 'universityofalabamainhuntsville']"
   ]
  },
  {
   "cell_type": "code",
   "execution_count": 70,
   "metadata": {},
   "outputs": [],
   "source": [
    "number_patents_finalized = number_patents_finalized.rename(columns={'organization':'university','patent_id_x':'#patents'})"
   ]
  },
  {
   "cell_type": "code",
   "execution_count": 71,
   "metadata": {},
   "outputs": [
    {
     "data": {
      "text/html": [
       "<div>\n",
       "<style scoped>\n",
       "    .dataframe tbody tr th:only-of-type {\n",
       "        vertical-align: middle;\n",
       "    }\n",
       "\n",
       "    .dataframe tbody tr th {\n",
       "        vertical-align: top;\n",
       "    }\n",
       "\n",
       "    .dataframe thead th {\n",
       "        text-align: right;\n",
       "    }\n",
       "</style>\n",
       "<table border=\"1\" class=\"dataframe\">\n",
       "  <thead>\n",
       "    <tr style=\"text-align: right;\">\n",
       "      <th></th>\n",
       "      <th>UNITID</th>\n",
       "      <th>university</th>\n",
       "      <th>year</th>\n",
       "      <th>#patents</th>\n",
       "    </tr>\n",
       "  </thead>\n",
       "  <tbody>\n",
       "    <tr>\n",
       "      <th>3867</th>\n",
       "      <td>188429</td>\n",
       "      <td>adelphiuniversity</td>\n",
       "      <td>2000</td>\n",
       "      <td>0.000000</td>\n",
       "    </tr>\n",
       "    <tr>\n",
       "      <th>3868</th>\n",
       "      <td>188429</td>\n",
       "      <td>adelphiuniversity</td>\n",
       "      <td>2001</td>\n",
       "      <td>0.000000</td>\n",
       "    </tr>\n",
       "    <tr>\n",
       "      <th>3869</th>\n",
       "      <td>188429</td>\n",
       "      <td>adelphiuniversity</td>\n",
       "      <td>2002</td>\n",
       "      <td>0.000000</td>\n",
       "    </tr>\n",
       "    <tr>\n",
       "      <th>3870</th>\n",
       "      <td>188429</td>\n",
       "      <td>adelphiuniversity</td>\n",
       "      <td>2003</td>\n",
       "      <td>0.000000</td>\n",
       "    </tr>\n",
       "    <tr>\n",
       "      <th>3871</th>\n",
       "      <td>188429</td>\n",
       "      <td>adelphiuniversity</td>\n",
       "      <td>2004</td>\n",
       "      <td>0.000000</td>\n",
       "    </tr>\n",
       "  </tbody>\n",
       "</table>\n",
       "</div>"
      ],
      "text/plain": [
       "      UNITID         university  year  #patents\n",
       "3867  188429  adelphiuniversity  2000 0.000000 \n",
       "3868  188429  adelphiuniversity  2001 0.000000 \n",
       "3869  188429  adelphiuniversity  2002 0.000000 \n",
       "3870  188429  adelphiuniversity  2003 0.000000 \n",
       "3871  188429  adelphiuniversity  2004 0.000000 "
      ]
     },
     "execution_count": 71,
     "metadata": {},
     "output_type": "execute_result"
    }
   ],
   "source": [
    "number_patents_finalized.head()"
   ]
  },
  {
   "cell_type": "markdown",
   "metadata": {},
   "source": [
    "### Number of patents with government interest (#govinterest)"
   ]
  },
  {
   "cell_type": "code",
   "execution_count": 72,
   "metadata": {},
   "outputs": [],
   "source": [
    "\"\"\"Subset dataframe by those patents with government interest.\"\"\"\n",
    "\n",
    "with_govinterest = patent_universities[patent_universities['government_interest'] == 1]"
   ]
  },
  {
   "cell_type": "code",
   "execution_count": 73,
   "metadata": {},
   "outputs": [],
   "source": [
    "\"\"\"Group by a university and count the total number of patents with government interest.\"\"\"\n",
    "\n",
    "with_govinterest = with_govinterest.groupby(['UNITID','organization','year'])['patent_id'].count().reset_index()"
   ]
  },
  {
   "cell_type": "code",
   "execution_count": 74,
   "metadata": {},
   "outputs": [
    {
     "data": {
      "text/html": [
       "<div>\n",
       "<style scoped>\n",
       "    .dataframe tbody tr th:only-of-type {\n",
       "        vertical-align: middle;\n",
       "    }\n",
       "\n",
       "    .dataframe tbody tr th {\n",
       "        vertical-align: top;\n",
       "    }\n",
       "\n",
       "    .dataframe thead th {\n",
       "        text-align: right;\n",
       "    }\n",
       "</style>\n",
       "<table border=\"1\" class=\"dataframe\">\n",
       "  <thead>\n",
       "    <tr style=\"text-align: right;\">\n",
       "      <th></th>\n",
       "      <th>UNITID</th>\n",
       "      <th>organization</th>\n",
       "      <th>year</th>\n",
       "      <th>patent_id</th>\n",
       "    </tr>\n",
       "  </thead>\n",
       "  <tbody>\n",
       "    <tr>\n",
       "      <th>0</th>\n",
       "      <td>100706</td>\n",
       "      <td>universityofalabamainhuntsville</td>\n",
       "      <td>2002.000000</td>\n",
       "      <td>3</td>\n",
       "    </tr>\n",
       "    <tr>\n",
       "      <th>1</th>\n",
       "      <td>100706</td>\n",
       "      <td>universityofalabamainhuntsville</td>\n",
       "      <td>2003.000000</td>\n",
       "      <td>2</td>\n",
       "    </tr>\n",
       "    <tr>\n",
       "      <th>2</th>\n",
       "      <td>100706</td>\n",
       "      <td>universityofalabamainhuntsville</td>\n",
       "      <td>2004.000000</td>\n",
       "      <td>1</td>\n",
       "    </tr>\n",
       "    <tr>\n",
       "      <th>3</th>\n",
       "      <td>100706</td>\n",
       "      <td>universityofalabamainhuntsville</td>\n",
       "      <td>2006.000000</td>\n",
       "      <td>1</td>\n",
       "    </tr>\n",
       "    <tr>\n",
       "      <th>4</th>\n",
       "      <td>100706</td>\n",
       "      <td>universityofalabamainhuntsville</td>\n",
       "      <td>2007.000000</td>\n",
       "      <td>1</td>\n",
       "    </tr>\n",
       "  </tbody>\n",
       "</table>\n",
       "</div>"
      ],
      "text/plain": [
       "   UNITID                     organization        year  patent_id\n",
       "0  100706  universityofalabamainhuntsville 2002.000000  3        \n",
       "1  100706  universityofalabamainhuntsville 2003.000000  2        \n",
       "2  100706  universityofalabamainhuntsville 2004.000000  1        \n",
       "3  100706  universityofalabamainhuntsville 2006.000000  1        \n",
       "4  100706  universityofalabamainhuntsville 2007.000000  1        "
      ]
     },
     "execution_count": 74,
     "metadata": {},
     "output_type": "execute_result"
    }
   ],
   "source": [
    "with_govinterest.head()"
   ]
  },
  {
   "cell_type": "code",
   "execution_count": 75,
   "metadata": {},
   "outputs": [
    {
     "data": {
      "text/html": [
       "<div>\n",
       "<style scoped>\n",
       "    .dataframe tbody tr th:only-of-type {\n",
       "        vertical-align: middle;\n",
       "    }\n",
       "\n",
       "    .dataframe tbody tr th {\n",
       "        vertical-align: top;\n",
       "    }\n",
       "\n",
       "    .dataframe thead th {\n",
       "        text-align: right;\n",
       "    }\n",
       "</style>\n",
       "<table border=\"1\" class=\"dataframe\">\n",
       "  <thead>\n",
       "    <tr style=\"text-align: right;\">\n",
       "      <th></th>\n",
       "      <th>UNITID</th>\n",
       "      <th>organization</th>\n",
       "      <th>year</th>\n",
       "      <th>patent_id_x</th>\n",
       "    </tr>\n",
       "  </thead>\n",
       "  <tbody>\n",
       "    <tr>\n",
       "      <th>1313</th>\n",
       "      <td>100706</td>\n",
       "      <td>universityofalabamainhuntsville</td>\n",
       "      <td>2000</td>\n",
       "      <td>0.000000</td>\n",
       "    </tr>\n",
       "    <tr>\n",
       "      <th>1314</th>\n",
       "      <td>100706</td>\n",
       "      <td>universityofalabamainhuntsville</td>\n",
       "      <td>2001</td>\n",
       "      <td>0.000000</td>\n",
       "    </tr>\n",
       "    <tr>\n",
       "      <th>0</th>\n",
       "      <td>100706</td>\n",
       "      <td>universityofalabamainhuntsville</td>\n",
       "      <td>2002</td>\n",
       "      <td>3.000000</td>\n",
       "    </tr>\n",
       "    <tr>\n",
       "      <th>1</th>\n",
       "      <td>100706</td>\n",
       "      <td>universityofalabamainhuntsville</td>\n",
       "      <td>2003</td>\n",
       "      <td>2.000000</td>\n",
       "    </tr>\n",
       "    <tr>\n",
       "      <th>2</th>\n",
       "      <td>100706</td>\n",
       "      <td>universityofalabamainhuntsville</td>\n",
       "      <td>2004</td>\n",
       "      <td>1.000000</td>\n",
       "    </tr>\n",
       "    <tr>\n",
       "      <th>1315</th>\n",
       "      <td>100706</td>\n",
       "      <td>universityofalabamainhuntsville</td>\n",
       "      <td>2005</td>\n",
       "      <td>0.000000</td>\n",
       "    </tr>\n",
       "    <tr>\n",
       "      <th>3</th>\n",
       "      <td>100706</td>\n",
       "      <td>universityofalabamainhuntsville</td>\n",
       "      <td>2006</td>\n",
       "      <td>1.000000</td>\n",
       "    </tr>\n",
       "    <tr>\n",
       "      <th>4</th>\n",
       "      <td>100706</td>\n",
       "      <td>universityofalabamainhuntsville</td>\n",
       "      <td>2007</td>\n",
       "      <td>1.000000</td>\n",
       "    </tr>\n",
       "    <tr>\n",
       "      <th>1316</th>\n",
       "      <td>100706</td>\n",
       "      <td>universityofalabamainhuntsville</td>\n",
       "      <td>2008</td>\n",
       "      <td>0.000000</td>\n",
       "    </tr>\n",
       "    <tr>\n",
       "      <th>1317</th>\n",
       "      <td>100706</td>\n",
       "      <td>universityofalabamainhuntsville</td>\n",
       "      <td>2009</td>\n",
       "      <td>0.000000</td>\n",
       "    </tr>\n",
       "    <tr>\n",
       "      <th>5</th>\n",
       "      <td>100706</td>\n",
       "      <td>universityofalabamainhuntsville</td>\n",
       "      <td>2010</td>\n",
       "      <td>1.000000</td>\n",
       "    </tr>\n",
       "    <tr>\n",
       "      <th>6</th>\n",
       "      <td>100706</td>\n",
       "      <td>universityofalabamainhuntsville</td>\n",
       "      <td>2011</td>\n",
       "      <td>1.000000</td>\n",
       "    </tr>\n",
       "    <tr>\n",
       "      <th>7</th>\n",
       "      <td>100706</td>\n",
       "      <td>universityofalabamainhuntsville</td>\n",
       "      <td>2012</td>\n",
       "      <td>3.000000</td>\n",
       "    </tr>\n",
       "    <tr>\n",
       "      <th>8</th>\n",
       "      <td>100706</td>\n",
       "      <td>universityofalabamainhuntsville</td>\n",
       "      <td>2013</td>\n",
       "      <td>1.000000</td>\n",
       "    </tr>\n",
       "    <tr>\n",
       "      <th>9</th>\n",
       "      <td>100706</td>\n",
       "      <td>universityofalabamainhuntsville</td>\n",
       "      <td>2014</td>\n",
       "      <td>2.000000</td>\n",
       "    </tr>\n",
       "    <tr>\n",
       "      <th>10</th>\n",
       "      <td>100706</td>\n",
       "      <td>universityofalabamainhuntsville</td>\n",
       "      <td>2015</td>\n",
       "      <td>1.000000</td>\n",
       "    </tr>\n",
       "    <tr>\n",
       "      <th>1318</th>\n",
       "      <td>100706</td>\n",
       "      <td>universityofalabamainhuntsville</td>\n",
       "      <td>2016</td>\n",
       "      <td>0.000000</td>\n",
       "    </tr>\n",
       "    <tr>\n",
       "      <th>11</th>\n",
       "      <td>100706</td>\n",
       "      <td>universityofalabamainhuntsville</td>\n",
       "      <td>2017</td>\n",
       "      <td>1.000000</td>\n",
       "    </tr>\n",
       "    <tr>\n",
       "      <th>1319</th>\n",
       "      <td>100706</td>\n",
       "      <td>universityofalabamainhuntsville</td>\n",
       "      <td>2018</td>\n",
       "      <td>0.000000</td>\n",
       "    </tr>\n",
       "  </tbody>\n",
       "</table>\n",
       "</div>"
      ],
      "text/plain": [
       "      UNITID                     organization  year  patent_id_x\n",
       "1313  100706  universityofalabamainhuntsville  2000 0.000000    \n",
       "1314  100706  universityofalabamainhuntsville  2001 0.000000    \n",
       "0     100706  universityofalabamainhuntsville  2002 3.000000    \n",
       "1     100706  universityofalabamainhuntsville  2003 2.000000    \n",
       "2     100706  universityofalabamainhuntsville  2004 1.000000    \n",
       "1315  100706  universityofalabamainhuntsville  2005 0.000000    \n",
       "3     100706  universityofalabamainhuntsville  2006 1.000000    \n",
       "4     100706  universityofalabamainhuntsville  2007 1.000000    \n",
       "1316  100706  universityofalabamainhuntsville  2008 0.000000    \n",
       "1317  100706  universityofalabamainhuntsville  2009 0.000000    \n",
       "5     100706  universityofalabamainhuntsville  2010 1.000000    \n",
       "6     100706  universityofalabamainhuntsville  2011 1.000000    \n",
       "7     100706  universityofalabamainhuntsville  2012 3.000000    \n",
       "8     100706  universityofalabamainhuntsville  2013 1.000000    \n",
       "9     100706  universityofalabamainhuntsville  2014 2.000000    \n",
       "10    100706  universityofalabamainhuntsville  2015 1.000000    \n",
       "1318  100706  universityofalabamainhuntsville  2016 0.000000    \n",
       "11    100706  universityofalabamainhuntsville  2017 1.000000    \n",
       "1319  100706  universityofalabamainhuntsville  2018 0.000000    "
      ]
     },
     "execution_count": 75,
     "metadata": {},
     "output_type": "execute_result"
    }
   ],
   "source": [
    "with_govinterest['year'] = with_govinterest['year'].astype(int)\n",
    "with_govinterest_balanced = (with_govinterest.set_index('year',append=True)\n",
    "                 .reindex(pd.MultiIndex.from_product([with_govinterest.index.unique(),\n",
    "                                                      range(2000,2019)],\n",
    "                                                     names=['id','year']))\n",
    "                 .reset_index(level=1))\n",
    "\n",
    "with_govinterest_balanced['UNITID'] = with_govinterest_balanced.groupby(level=0)['UNITID'].ffill().bfill()\n",
    "with_govinterest_balanced['organization'] = with_govinterest_balanced.groupby(level=0)['organization'].ffill().bfill()\n",
    "with_govinterest_balanced['patent_id'] = with_govinterest_balanced['patent_id'].fillna(0)\n",
    "\n",
    "with_govinterest_balanced_deduplicated = with_govinterest_balanced.drop_duplicates(subset=['year','UNITID','organization'])\n",
    "\n",
    "with_govinterest_finalized = with_govinterest.merge(with_govinterest_balanced_deduplicated, on=['UNITID','year','organization'],\n",
    "                         how='right')\n",
    "\n",
    "with_govinterest_finalized = with_govinterest_finalized.drop('patent_id_y',axis=1)\n",
    "\n",
    "with_govinterest_finalized = with_govinterest_finalized.fillna(0)\n",
    "\n",
    "with_govinterest_finalized = with_govinterest_finalized.sort_values(['organization','year'])\n",
    "\n",
    "with_govinterest_finalized[with_govinterest_finalized['organization'] == 'universityofalabamainhuntsville']"
   ]
  },
  {
   "cell_type": "code",
   "execution_count": 76,
   "metadata": {},
   "outputs": [],
   "source": [
    "with_govinterest_finalized = with_govinterest_finalized.rename(columns={'organization':'university','patent_id_x':'#govinterest'})"
   ]
  },
  {
   "cell_type": "code",
   "execution_count": 77,
   "metadata": {},
   "outputs": [
    {
     "data": {
      "text/html": [
       "<div>\n",
       "<style scoped>\n",
       "    .dataframe tbody tr th:only-of-type {\n",
       "        vertical-align: middle;\n",
       "    }\n",
       "\n",
       "    .dataframe tbody tr th {\n",
       "        vertical-align: top;\n",
       "    }\n",
       "\n",
       "    .dataframe thead th {\n",
       "        text-align: right;\n",
       "    }\n",
       "</style>\n",
       "<table border=\"1\" class=\"dataframe\">\n",
       "  <thead>\n",
       "    <tr style=\"text-align: right;\">\n",
       "      <th></th>\n",
       "      <th>UNITID</th>\n",
       "      <th>university</th>\n",
       "      <th>year</th>\n",
       "      <th>#govinterest</th>\n",
       "    </tr>\n",
       "  </thead>\n",
       "  <tbody>\n",
       "    <tr>\n",
       "      <th>1320</th>\n",
       "      <td>100724</td>\n",
       "      <td>alabamastateuniversity</td>\n",
       "      <td>2000</td>\n",
       "      <td>0.000000</td>\n",
       "    </tr>\n",
       "    <tr>\n",
       "      <th>1321</th>\n",
       "      <td>100724</td>\n",
       "      <td>alabamastateuniversity</td>\n",
       "      <td>2001</td>\n",
       "      <td>0.000000</td>\n",
       "    </tr>\n",
       "    <tr>\n",
       "      <th>1322</th>\n",
       "      <td>100724</td>\n",
       "      <td>alabamastateuniversity</td>\n",
       "      <td>2002</td>\n",
       "      <td>0.000000</td>\n",
       "    </tr>\n",
       "    <tr>\n",
       "      <th>1323</th>\n",
       "      <td>100724</td>\n",
       "      <td>alabamastateuniversity</td>\n",
       "      <td>2003</td>\n",
       "      <td>0.000000</td>\n",
       "    </tr>\n",
       "    <tr>\n",
       "      <th>1324</th>\n",
       "      <td>100724</td>\n",
       "      <td>alabamastateuniversity</td>\n",
       "      <td>2004</td>\n",
       "      <td>0.000000</td>\n",
       "    </tr>\n",
       "  </tbody>\n",
       "</table>\n",
       "</div>"
      ],
      "text/plain": [
       "      UNITID              university  year  #govinterest\n",
       "1320  100724  alabamastateuniversity  2000 0.000000     \n",
       "1321  100724  alabamastateuniversity  2001 0.000000     \n",
       "1322  100724  alabamastateuniversity  2002 0.000000     \n",
       "1323  100724  alabamastateuniversity  2003 0.000000     \n",
       "1324  100724  alabamastateuniversity  2004 0.000000     "
      ]
     },
     "execution_count": 77,
     "metadata": {},
     "output_type": "execute_result"
    }
   ],
   "source": [
    "with_govinterest_finalized.head()"
   ]
  },
  {
   "cell_type": "markdown",
   "metadata": {},
   "source": [
    "### Number of female inventors (#female_inventors)"
   ]
  },
  {
   "cell_type": "code",
   "execution_count": 78,
   "metadata": {},
   "outputs": [
    {
     "name": "stdout",
     "output_type": "stream",
     "text": [
      "<class 'pandas.core.frame.DataFrame'>\n",
      "RangeIndex: 16515750 entries, 0 to 16515749\n",
      "Data columns (total 2 columns):\n",
      "patent_id      object\n",
      "inventor_id    object\n",
      "dtypes: object(2)\n",
      "memory usage: 252.0+ MB\n"
     ]
    }
   ],
   "source": [
    "\"\"\"Check the dataset description.\"\"\"\n",
    "\n",
    "patent_inventor.info()"
   ]
  },
  {
   "cell_type": "code",
   "execution_count": 79,
   "metadata": {},
   "outputs": [
    {
     "data": {
      "text/plain": [
       "array([ 1,  2,  4,  3, 10,  6,  8, 14, 11,  5,  9,  7, 12, 13, 16, 18, 24,\n",
       "       15, 21, 25, 17, 19, 20, 27, 22, 26, 23, 34, 28, 32, 33, 29, 30, 41,\n",
       "       38, 31, 51, 37, 36, 60, 76, 40, 43, 65, 53, 63, 39, 61, 42, 44])"
      ]
     },
     "execution_count": 79,
     "metadata": {},
     "output_type": "execute_result"
    }
   ],
   "source": [
    "patent_inventor.groupby('patent_id')['inventor_id'].count().unique()"
   ]
  },
  {
   "cell_type": "code",
   "execution_count": 80,
   "metadata": {},
   "outputs": [
    {
     "name": "stderr",
     "output_type": "stream",
     "text": [
      "/home/ekaterina/anaconda3/lib/python3.6/site-packages/ipykernel_launcher.py:6: DeprecationWarning: elementwise comparison failed; this will raise an error in the future.\n",
      "  \n"
     ]
    },
    {
     "data": {
      "text/plain": [
       "False"
      ]
     },
     "execution_count": 80,
     "metadata": {},
     "output_type": "execute_result"
    }
   ],
   "source": [
    "\"\"\"Not all university patents are in the PATENT_INVENTOR dataset.\"\"\"\n",
    "\n",
    "patents_university = patent_universities.patent_id.unique()\n",
    "patents_full = patent_inventor.patent_id.unique()\n",
    "\n",
    "patents_university in patents_full"
   ]
  },
  {
   "cell_type": "code",
   "execution_count": 81,
   "metadata": {},
   "outputs": [
    {
     "data": {
      "text/plain": [
       "616"
      ]
     },
     "execution_count": 81,
     "metadata": {},
     "output_type": "execute_result"
    }
   ],
   "source": [
    "\"\"\"1,746 university patents are not in PATENT_INVENTOR dataset.\"\"\"\n",
    "\n",
    "results = list(set(patents_university) - set(patents_full))\n",
    "len(patents_university) - len(results)"
   ]
  },
  {
   "cell_type": "code",
   "execution_count": 82,
   "metadata": {},
   "outputs": [],
   "source": [
    "\"\"\"Merge university patent data with PATENT_INVENTOR.\"\"\"\n",
    "\n",
    "assignee_inventor = pd.merge(left=patent_universities,right=patent_inventor, \n",
    "                             on='patent_id')"
   ]
  },
  {
   "cell_type": "code",
   "execution_count": 83,
   "metadata": {},
   "outputs": [
    {
     "data": {
      "text/plain": [
       "90"
      ]
     },
     "execution_count": 83,
     "metadata": {},
     "output_type": "execute_result"
    }
   ],
   "source": [
    "\"\"\"158 universities have data on associated inventors.\"\"\"\n",
    "\n",
    "assignee_inventor.organization.nunique()"
   ]
  },
  {
   "cell_type": "code",
   "execution_count": 84,
   "metadata": {},
   "outputs": [
    {
     "name": "stdout",
     "output_type": "stream",
     "text": [
      "<class 'pandas.core.frame.DataFrame'>\n",
      "RangeIndex: 2335017 entries, 0 to 2335016\n",
      "Data columns (total 4 columns):\n",
      "disamb_inventor_id_20170808    object\n",
      "disamb_inventor_id_20181127    object\n",
      "disamb_inventor_id_20190312    object\n",
      "male                           object\n",
      "dtypes: object(4)\n",
      "memory usage: 71.3+ MB\n"
     ]
    }
   ],
   "source": [
    "\"\"\"Check the dataset description.\"\"\"\n",
    "\n",
    "inventor_gender.info()"
   ]
  },
  {
   "cell_type": "code",
   "execution_count": 85,
   "metadata": {},
   "outputs": [],
   "source": [
    "\"\"\"Merge with INVENTOR_GENDER. Use the latest version of disambiguation - \n",
    "disamb_inventor_id_20190312.\"\"\"\n",
    "\n",
    "assignee_inventor_gender = pd.merge(left=assignee_inventor,right=inventor_gender, \n",
    "                                    left_on='inventor_id',right_on='disamb_inventor_id_20190312')"
   ]
  },
  {
   "cell_type": "code",
   "execution_count": 86,
   "metadata": {},
   "outputs": [],
   "source": [
    "\"\"\"Subset by those rows where \"male\" == 0 (or \"female\").\"\"\"\n",
    "female_inventors = assignee_inventor_gender[assignee_inventor_gender['male'] == 0]\n",
    "\n",
    "\"\"\"Group by a university and count the number of female inventors.\"\"\"\n",
    "female_inventors = female_inventors.groupby(['UNITID','organization','year'])['male'].count().reset_index()"
   ]
  },
  {
   "cell_type": "code",
   "execution_count": 87,
   "metadata": {},
   "outputs": [
    {
     "data": {
      "text/html": [
       "<div>\n",
       "<style scoped>\n",
       "    .dataframe tbody tr th:only-of-type {\n",
       "        vertical-align: middle;\n",
       "    }\n",
       "\n",
       "    .dataframe tbody tr th {\n",
       "        vertical-align: top;\n",
       "    }\n",
       "\n",
       "    .dataframe thead th {\n",
       "        text-align: right;\n",
       "    }\n",
       "</style>\n",
       "<table border=\"1\" class=\"dataframe\">\n",
       "  <thead>\n",
       "    <tr style=\"text-align: right;\">\n",
       "      <th></th>\n",
       "      <th>UNITID</th>\n",
       "      <th>organization</th>\n",
       "      <th>year</th>\n",
       "      <th>male</th>\n",
       "    </tr>\n",
       "  </thead>\n",
       "  <tbody>\n",
       "    <tr>\n",
       "      <th>0</th>\n",
       "      <td>100858</td>\n",
       "      <td>auburnuniversity</td>\n",
       "      <td>2008.000000</td>\n",
       "      <td>2</td>\n",
       "    </tr>\n",
       "    <tr>\n",
       "      <th>1</th>\n",
       "      <td>100858</td>\n",
       "      <td>auburnuniversity</td>\n",
       "      <td>2010.000000</td>\n",
       "      <td>2</td>\n",
       "    </tr>\n",
       "    <tr>\n",
       "      <th>2</th>\n",
       "      <td>100858</td>\n",
       "      <td>auburnuniversity</td>\n",
       "      <td>2011.000000</td>\n",
       "      <td>1</td>\n",
       "    </tr>\n",
       "    <tr>\n",
       "      <th>3</th>\n",
       "      <td>110404</td>\n",
       "      <td>californiainstituteoftechnology</td>\n",
       "      <td>2002.000000</td>\n",
       "      <td>3</td>\n",
       "    </tr>\n",
       "    <tr>\n",
       "      <th>4</th>\n",
       "      <td>110404</td>\n",
       "      <td>californiainstituteoftechnology</td>\n",
       "      <td>2008.000000</td>\n",
       "      <td>1</td>\n",
       "    </tr>\n",
       "  </tbody>\n",
       "</table>\n",
       "</div>"
      ],
      "text/plain": [
       "   UNITID                     organization        year  male\n",
       "0  100858  auburnuniversity                2008.000000  2   \n",
       "1  100858  auburnuniversity                2010.000000  2   \n",
       "2  100858  auburnuniversity                2011.000000  1   \n",
       "3  110404  californiainstituteoftechnology 2002.000000  3   \n",
       "4  110404  californiainstituteoftechnology 2008.000000  1   "
      ]
     },
     "execution_count": 87,
     "metadata": {},
     "output_type": "execute_result"
    }
   ],
   "source": [
    "female_inventors.head()"
   ]
  },
  {
   "cell_type": "code",
   "execution_count": 88,
   "metadata": {},
   "outputs": [],
   "source": [
    "female_inventors['year'] = female_inventors['year'].astype(int)\n",
    "female_inventors_balanced = (female_inventors.set_index('year',append=True)\n",
    "                 .reindex(pd.MultiIndex.from_product([female_inventors.index.unique(),\n",
    "                                                      range(2000,2019)],\n",
    "                                                     names=['id','year']))\n",
    "                 .reset_index(level=1))"
   ]
  },
  {
   "cell_type": "code",
   "execution_count": 89,
   "metadata": {},
   "outputs": [],
   "source": [
    "female_inventors_balanced['UNITID'] = female_inventors_balanced.groupby(level=0)['UNITID'].ffill().bfill()\n",
    "female_inventors_balanced['organization'] = female_inventors_balanced.groupby(level=0)['organization'].ffill().bfill()\n",
    "female_inventors_balanced['male'] = female_inventors_balanced['male'].fillna(0)"
   ]
  },
  {
   "cell_type": "code",
   "execution_count": 90,
   "metadata": {},
   "outputs": [
    {
     "data": {
      "text/html": [
       "<div>\n",
       "<style scoped>\n",
       "    .dataframe tbody tr th:only-of-type {\n",
       "        vertical-align: middle;\n",
       "    }\n",
       "\n",
       "    .dataframe tbody tr th {\n",
       "        vertical-align: top;\n",
       "    }\n",
       "\n",
       "    .dataframe thead th {\n",
       "        text-align: right;\n",
       "    }\n",
       "</style>\n",
       "<table border=\"1\" class=\"dataframe\">\n",
       "  <thead>\n",
       "    <tr style=\"text-align: right;\">\n",
       "      <th></th>\n",
       "      <th>UNITID</th>\n",
       "      <th>organization</th>\n",
       "      <th>year</th>\n",
       "      <th>male_x</th>\n",
       "    </tr>\n",
       "  </thead>\n",
       "  <tbody>\n",
       "    <tr>\n",
       "      <th>89</th>\n",
       "      <td>100858</td>\n",
       "      <td>auburnuniversity</td>\n",
       "      <td>2000</td>\n",
       "      <td>0.000000</td>\n",
       "    </tr>\n",
       "    <tr>\n",
       "      <th>90</th>\n",
       "      <td>100858</td>\n",
       "      <td>auburnuniversity</td>\n",
       "      <td>2001</td>\n",
       "      <td>0.000000</td>\n",
       "    </tr>\n",
       "    <tr>\n",
       "      <th>91</th>\n",
       "      <td>100858</td>\n",
       "      <td>auburnuniversity</td>\n",
       "      <td>2002</td>\n",
       "      <td>0.000000</td>\n",
       "    </tr>\n",
       "    <tr>\n",
       "      <th>92</th>\n",
       "      <td>100858</td>\n",
       "      <td>auburnuniversity</td>\n",
       "      <td>2003</td>\n",
       "      <td>0.000000</td>\n",
       "    </tr>\n",
       "    <tr>\n",
       "      <th>93</th>\n",
       "      <td>100858</td>\n",
       "      <td>auburnuniversity</td>\n",
       "      <td>2004</td>\n",
       "      <td>0.000000</td>\n",
       "    </tr>\n",
       "    <tr>\n",
       "      <th>94</th>\n",
       "      <td>100858</td>\n",
       "      <td>auburnuniversity</td>\n",
       "      <td>2005</td>\n",
       "      <td>0.000000</td>\n",
       "    </tr>\n",
       "    <tr>\n",
       "      <th>95</th>\n",
       "      <td>100858</td>\n",
       "      <td>auburnuniversity</td>\n",
       "      <td>2006</td>\n",
       "      <td>0.000000</td>\n",
       "    </tr>\n",
       "    <tr>\n",
       "      <th>96</th>\n",
       "      <td>100858</td>\n",
       "      <td>auburnuniversity</td>\n",
       "      <td>2007</td>\n",
       "      <td>0.000000</td>\n",
       "    </tr>\n",
       "    <tr>\n",
       "      <th>0</th>\n",
       "      <td>100858</td>\n",
       "      <td>auburnuniversity</td>\n",
       "      <td>2008</td>\n",
       "      <td>2.000000</td>\n",
       "    </tr>\n",
       "    <tr>\n",
       "      <th>97</th>\n",
       "      <td>100858</td>\n",
       "      <td>auburnuniversity</td>\n",
       "      <td>2009</td>\n",
       "      <td>0.000000</td>\n",
       "    </tr>\n",
       "    <tr>\n",
       "      <th>1</th>\n",
       "      <td>100858</td>\n",
       "      <td>auburnuniversity</td>\n",
       "      <td>2010</td>\n",
       "      <td>2.000000</td>\n",
       "    </tr>\n",
       "    <tr>\n",
       "      <th>2</th>\n",
       "      <td>100858</td>\n",
       "      <td>auburnuniversity</td>\n",
       "      <td>2011</td>\n",
       "      <td>1.000000</td>\n",
       "    </tr>\n",
       "    <tr>\n",
       "      <th>98</th>\n",
       "      <td>100858</td>\n",
       "      <td>auburnuniversity</td>\n",
       "      <td>2012</td>\n",
       "      <td>0.000000</td>\n",
       "    </tr>\n",
       "    <tr>\n",
       "      <th>99</th>\n",
       "      <td>100858</td>\n",
       "      <td>auburnuniversity</td>\n",
       "      <td>2013</td>\n",
       "      <td>0.000000</td>\n",
       "    </tr>\n",
       "    <tr>\n",
       "      <th>100</th>\n",
       "      <td>100858</td>\n",
       "      <td>auburnuniversity</td>\n",
       "      <td>2014</td>\n",
       "      <td>0.000000</td>\n",
       "    </tr>\n",
       "    <tr>\n",
       "      <th>101</th>\n",
       "      <td>100858</td>\n",
       "      <td>auburnuniversity</td>\n",
       "      <td>2015</td>\n",
       "      <td>0.000000</td>\n",
       "    </tr>\n",
       "    <tr>\n",
       "      <th>102</th>\n",
       "      <td>100858</td>\n",
       "      <td>auburnuniversity</td>\n",
       "      <td>2016</td>\n",
       "      <td>0.000000</td>\n",
       "    </tr>\n",
       "    <tr>\n",
       "      <th>103</th>\n",
       "      <td>100858</td>\n",
       "      <td>auburnuniversity</td>\n",
       "      <td>2017</td>\n",
       "      <td>0.000000</td>\n",
       "    </tr>\n",
       "    <tr>\n",
       "      <th>104</th>\n",
       "      <td>100858</td>\n",
       "      <td>auburnuniversity</td>\n",
       "      <td>2018</td>\n",
       "      <td>0.000000</td>\n",
       "    </tr>\n",
       "  </tbody>\n",
       "</table>\n",
       "</div>"
      ],
      "text/plain": [
       "     UNITID      organization  year   male_x\n",
       "89   100858  auburnuniversity  2000 0.000000\n",
       "90   100858  auburnuniversity  2001 0.000000\n",
       "91   100858  auburnuniversity  2002 0.000000\n",
       "92   100858  auburnuniversity  2003 0.000000\n",
       "93   100858  auburnuniversity  2004 0.000000\n",
       "94   100858  auburnuniversity  2005 0.000000\n",
       "95   100858  auburnuniversity  2006 0.000000\n",
       "96   100858  auburnuniversity  2007 0.000000\n",
       "0    100858  auburnuniversity  2008 2.000000\n",
       "97   100858  auburnuniversity  2009 0.000000\n",
       "1    100858  auburnuniversity  2010 2.000000\n",
       "2    100858  auburnuniversity  2011 1.000000\n",
       "98   100858  auburnuniversity  2012 0.000000\n",
       "99   100858  auburnuniversity  2013 0.000000\n",
       "100  100858  auburnuniversity  2014 0.000000\n",
       "101  100858  auburnuniversity  2015 0.000000\n",
       "102  100858  auburnuniversity  2016 0.000000\n",
       "103  100858  auburnuniversity  2017 0.000000\n",
       "104  100858  auburnuniversity  2018 0.000000"
      ]
     },
     "execution_count": 90,
     "metadata": {},
     "output_type": "execute_result"
    }
   ],
   "source": [
    "female_inventors_balanced_deduplicated = female_inventors_balanced.drop_duplicates(subset=['year','UNITID','organization'])\n",
    "\n",
    "female_inventors_finalized = female_inventors.merge(female_inventors_balanced_deduplicated, on=['UNITID','year','organization'],\n",
    "                         how='right')\n",
    "\n",
    "female_inventors_finalized = female_inventors_finalized.drop('male_y',axis=1)\n",
    "\n",
    "female_inventors_finalized = female_inventors_finalized.fillna(0)\n",
    "\n",
    "female_inventors_finalized = female_inventors_finalized.sort_values(['organization','year'])\n",
    "\n",
    "female_inventors_finalized[female_inventors_finalized['organization'] == 'auburnuniversity']"
   ]
  },
  {
   "cell_type": "code",
   "execution_count": 91,
   "metadata": {},
   "outputs": [],
   "source": [
    "female_inventors_finalized = female_inventors_finalized.rename(columns={'organization':'university','male_x':'#female_inventors'})"
   ]
  },
  {
   "cell_type": "markdown",
   "metadata": {},
   "source": [
    "### Number of unique inventors (#unique_inventors)"
   ]
  },
  {
   "cell_type": "code",
   "execution_count": 92,
   "metadata": {},
   "outputs": [],
   "source": [
    "\"\"\"Group by a university and count number of unique inventor IDs.\"\"\"\n",
    "unique_inventors = assignee_inventor.groupby(['UNITID','organization','year'])['inventor_id'].nunique().reset_index()\n",
    "\n",
    "unique_inventors['year'] = unique_inventors['year'].astype(int)\n",
    "unique_inventors_balanced = (unique_inventors.set_index('year',append=True)\n",
    "                 .reindex(pd.MultiIndex.from_product([unique_inventors.index.unique(),\n",
    "                                                      range(2000,2019)],\n",
    "                                                     names=['id','year']))\n",
    "                 .reset_index(level=1))\n",
    "\n",
    "unique_inventors_balanced['UNITID'] = unique_inventors_balanced.groupby(level=0)['UNITID'].ffill().bfill()\n",
    "unique_inventors_balanced['organization'] = unique_inventors_balanced.groupby(level=0)['organization'].ffill().bfill()\n",
    "unique_inventors_balanced['inventor_id'] = unique_inventors_balanced['inventor_id'].fillna(0)"
   ]
  },
  {
   "cell_type": "code",
   "execution_count": 93,
   "metadata": {},
   "outputs": [
    {
     "data": {
      "text/html": [
       "<div>\n",
       "<style scoped>\n",
       "    .dataframe tbody tr th:only-of-type {\n",
       "        vertical-align: middle;\n",
       "    }\n",
       "\n",
       "    .dataframe tbody tr th {\n",
       "        vertical-align: top;\n",
       "    }\n",
       "\n",
       "    .dataframe thead th {\n",
       "        text-align: right;\n",
       "    }\n",
       "</style>\n",
       "<table border=\"1\" class=\"dataframe\">\n",
       "  <thead>\n",
       "    <tr style=\"text-align: right;\">\n",
       "      <th></th>\n",
       "      <th>UNITID</th>\n",
       "      <th>organization</th>\n",
       "      <th>year</th>\n",
       "      <th>inventor_id</th>\n",
       "    </tr>\n",
       "  </thead>\n",
       "  <tbody>\n",
       "    <tr>\n",
       "      <th>0</th>\n",
       "      <td>100706</td>\n",
       "      <td>universityofalabamainhuntsville</td>\n",
       "      <td>2015</td>\n",
       "      <td>2</td>\n",
       "    </tr>\n",
       "    <tr>\n",
       "      <th>1</th>\n",
       "      <td>100706</td>\n",
       "      <td>universityofalabamainhuntsville</td>\n",
       "      <td>2016</td>\n",
       "      <td>1</td>\n",
       "    </tr>\n",
       "    <tr>\n",
       "      <th>2</th>\n",
       "      <td>100706</td>\n",
       "      <td>universityofalabamainhuntsville</td>\n",
       "      <td>2017</td>\n",
       "      <td>1</td>\n",
       "    </tr>\n",
       "    <tr>\n",
       "      <th>3</th>\n",
       "      <td>100858</td>\n",
       "      <td>auburnuniversity</td>\n",
       "      <td>2008</td>\n",
       "      <td>8</td>\n",
       "    </tr>\n",
       "    <tr>\n",
       "      <th>4</th>\n",
       "      <td>100858</td>\n",
       "      <td>auburnuniversity</td>\n",
       "      <td>2010</td>\n",
       "      <td>11</td>\n",
       "    </tr>\n",
       "  </tbody>\n",
       "</table>\n",
       "</div>"
      ],
      "text/plain": [
       "   UNITID                     organization  year  inventor_id\n",
       "0  100706  universityofalabamainhuntsville  2015  2          \n",
       "1  100706  universityofalabamainhuntsville  2016  1          \n",
       "2  100706  universityofalabamainhuntsville  2017  1          \n",
       "3  100858  auburnuniversity                 2008  8          \n",
       "4  100858  auburnuniversity                 2010  11         "
      ]
     },
     "execution_count": 93,
     "metadata": {},
     "output_type": "execute_result"
    }
   ],
   "source": [
    "unique_inventors.head()"
   ]
  },
  {
   "cell_type": "code",
   "execution_count": 94,
   "metadata": {},
   "outputs": [
    {
     "data": {
      "text/html": [
       "<div>\n",
       "<style scoped>\n",
       "    .dataframe tbody tr th:only-of-type {\n",
       "        vertical-align: middle;\n",
       "    }\n",
       "\n",
       "    .dataframe tbody tr th {\n",
       "        vertical-align: top;\n",
       "    }\n",
       "\n",
       "    .dataframe thead th {\n",
       "        text-align: right;\n",
       "    }\n",
       "</style>\n",
       "<table border=\"1\" class=\"dataframe\">\n",
       "  <thead>\n",
       "    <tr style=\"text-align: right;\">\n",
       "      <th></th>\n",
       "      <th>UNITID</th>\n",
       "      <th>organization</th>\n",
       "      <th>year</th>\n",
       "      <th>inventor_id_x</th>\n",
       "    </tr>\n",
       "  </thead>\n",
       "  <tbody>\n",
       "    <tr>\n",
       "      <th>293</th>\n",
       "      <td>100706</td>\n",
       "      <td>universityofalabamainhuntsville</td>\n",
       "      <td>2000</td>\n",
       "      <td>0.000000</td>\n",
       "    </tr>\n",
       "    <tr>\n",
       "      <th>294</th>\n",
       "      <td>100706</td>\n",
       "      <td>universityofalabamainhuntsville</td>\n",
       "      <td>2001</td>\n",
       "      <td>0.000000</td>\n",
       "    </tr>\n",
       "    <tr>\n",
       "      <th>295</th>\n",
       "      <td>100706</td>\n",
       "      <td>universityofalabamainhuntsville</td>\n",
       "      <td>2002</td>\n",
       "      <td>0.000000</td>\n",
       "    </tr>\n",
       "    <tr>\n",
       "      <th>296</th>\n",
       "      <td>100706</td>\n",
       "      <td>universityofalabamainhuntsville</td>\n",
       "      <td>2003</td>\n",
       "      <td>0.000000</td>\n",
       "    </tr>\n",
       "    <tr>\n",
       "      <th>297</th>\n",
       "      <td>100706</td>\n",
       "      <td>universityofalabamainhuntsville</td>\n",
       "      <td>2004</td>\n",
       "      <td>0.000000</td>\n",
       "    </tr>\n",
       "    <tr>\n",
       "      <th>298</th>\n",
       "      <td>100706</td>\n",
       "      <td>universityofalabamainhuntsville</td>\n",
       "      <td>2005</td>\n",
       "      <td>0.000000</td>\n",
       "    </tr>\n",
       "    <tr>\n",
       "      <th>299</th>\n",
       "      <td>100706</td>\n",
       "      <td>universityofalabamainhuntsville</td>\n",
       "      <td>2006</td>\n",
       "      <td>0.000000</td>\n",
       "    </tr>\n",
       "    <tr>\n",
       "      <th>300</th>\n",
       "      <td>100706</td>\n",
       "      <td>universityofalabamainhuntsville</td>\n",
       "      <td>2007</td>\n",
       "      <td>0.000000</td>\n",
       "    </tr>\n",
       "    <tr>\n",
       "      <th>301</th>\n",
       "      <td>100706</td>\n",
       "      <td>universityofalabamainhuntsville</td>\n",
       "      <td>2008</td>\n",
       "      <td>0.000000</td>\n",
       "    </tr>\n",
       "    <tr>\n",
       "      <th>302</th>\n",
       "      <td>100706</td>\n",
       "      <td>universityofalabamainhuntsville</td>\n",
       "      <td>2009</td>\n",
       "      <td>0.000000</td>\n",
       "    </tr>\n",
       "    <tr>\n",
       "      <th>303</th>\n",
       "      <td>100706</td>\n",
       "      <td>universityofalabamainhuntsville</td>\n",
       "      <td>2010</td>\n",
       "      <td>0.000000</td>\n",
       "    </tr>\n",
       "    <tr>\n",
       "      <th>304</th>\n",
       "      <td>100706</td>\n",
       "      <td>universityofalabamainhuntsville</td>\n",
       "      <td>2011</td>\n",
       "      <td>0.000000</td>\n",
       "    </tr>\n",
       "    <tr>\n",
       "      <th>305</th>\n",
       "      <td>100706</td>\n",
       "      <td>universityofalabamainhuntsville</td>\n",
       "      <td>2012</td>\n",
       "      <td>0.000000</td>\n",
       "    </tr>\n",
       "    <tr>\n",
       "      <th>306</th>\n",
       "      <td>100706</td>\n",
       "      <td>universityofalabamainhuntsville</td>\n",
       "      <td>2013</td>\n",
       "      <td>0.000000</td>\n",
       "    </tr>\n",
       "    <tr>\n",
       "      <th>307</th>\n",
       "      <td>100706</td>\n",
       "      <td>universityofalabamainhuntsville</td>\n",
       "      <td>2014</td>\n",
       "      <td>0.000000</td>\n",
       "    </tr>\n",
       "    <tr>\n",
       "      <th>0</th>\n",
       "      <td>100706</td>\n",
       "      <td>universityofalabamainhuntsville</td>\n",
       "      <td>2015</td>\n",
       "      <td>2.000000</td>\n",
       "    </tr>\n",
       "    <tr>\n",
       "      <th>1</th>\n",
       "      <td>100706</td>\n",
       "      <td>universityofalabamainhuntsville</td>\n",
       "      <td>2016</td>\n",
       "      <td>1.000000</td>\n",
       "    </tr>\n",
       "    <tr>\n",
       "      <th>2</th>\n",
       "      <td>100706</td>\n",
       "      <td>universityofalabamainhuntsville</td>\n",
       "      <td>2017</td>\n",
       "      <td>1.000000</td>\n",
       "    </tr>\n",
       "    <tr>\n",
       "      <th>308</th>\n",
       "      <td>100706</td>\n",
       "      <td>universityofalabamainhuntsville</td>\n",
       "      <td>2018</td>\n",
       "      <td>0.000000</td>\n",
       "    </tr>\n",
       "  </tbody>\n",
       "</table>\n",
       "</div>"
      ],
      "text/plain": [
       "     UNITID                     organization  year  inventor_id_x\n",
       "293  100706  universityofalabamainhuntsville  2000 0.000000      \n",
       "294  100706  universityofalabamainhuntsville  2001 0.000000      \n",
       "295  100706  universityofalabamainhuntsville  2002 0.000000      \n",
       "296  100706  universityofalabamainhuntsville  2003 0.000000      \n",
       "297  100706  universityofalabamainhuntsville  2004 0.000000      \n",
       "298  100706  universityofalabamainhuntsville  2005 0.000000      \n",
       "299  100706  universityofalabamainhuntsville  2006 0.000000      \n",
       "300  100706  universityofalabamainhuntsville  2007 0.000000      \n",
       "301  100706  universityofalabamainhuntsville  2008 0.000000      \n",
       "302  100706  universityofalabamainhuntsville  2009 0.000000      \n",
       "303  100706  universityofalabamainhuntsville  2010 0.000000      \n",
       "304  100706  universityofalabamainhuntsville  2011 0.000000      \n",
       "305  100706  universityofalabamainhuntsville  2012 0.000000      \n",
       "306  100706  universityofalabamainhuntsville  2013 0.000000      \n",
       "307  100706  universityofalabamainhuntsville  2014 0.000000      \n",
       "0    100706  universityofalabamainhuntsville  2015 2.000000      \n",
       "1    100706  universityofalabamainhuntsville  2016 1.000000      \n",
       "2    100706  universityofalabamainhuntsville  2017 1.000000      \n",
       "308  100706  universityofalabamainhuntsville  2018 0.000000      "
      ]
     },
     "execution_count": 94,
     "metadata": {},
     "output_type": "execute_result"
    }
   ],
   "source": [
    "unique_inventors_balanced_deduplicated = unique_inventors_balanced.drop_duplicates(subset=['year','UNITID','organization'])\n",
    "\n",
    "unique_inventors_finalized = unique_inventors.merge(unique_inventors_balanced_deduplicated, on=['UNITID','year','organization'],\n",
    "                         how='right')\n",
    "\n",
    "unique_inventors_finalized = unique_inventors_finalized.drop('inventor_id_y',axis=1)\n",
    "\n",
    "unique_inventors_finalized = unique_inventors_finalized.fillna(0)\n",
    "\n",
    "unique_inventors_finalized = unique_inventors_finalized.sort_values(['organization','year'])\n",
    "\n",
    "unique_inventors_finalized[unique_inventors_finalized['organization'] == 'universityofalabamainhuntsville']"
   ]
  },
  {
   "cell_type": "code",
   "execution_count": 95,
   "metadata": {},
   "outputs": [],
   "source": [
    "unique_inventors_finalized = unique_inventors_finalized.rename(columns={'organization':'university','inventor_id_x':'#unique_inventors'})"
   ]
  },
  {
   "cell_type": "markdown",
   "metadata": {},
   "source": [
    "### Top IPC classification categories"
   ]
  },
  {
   "cell_type": "code",
   "execution_count": 96,
   "metadata": {},
   "outputs": [
    {
     "name": "stdout",
     "output_type": "stream",
     "text": [
      "<class 'pandas.core.frame.DataFrame'>\n",
      "RangeIndex: 14325388 entries, 0 to 14325387\n",
      "Data columns (total 15 columns):\n",
      "uuid                          object\n",
      "patent_id                     object\n",
      "classification_level          object\n",
      "section                       object\n",
      "ipc_class                     object\n",
      "subclass                      object\n",
      "main_group                    object\n",
      "subgroup                      object\n",
      "symbol_position               object\n",
      "classification_value          object\n",
      "classification_status         object\n",
      "classification_data_source    object\n",
      "action_date                   object\n",
      "ipc_version_indicator         object\n",
      "sequence                      int64\n",
      "dtypes: int64(1), object(14)\n",
      "memory usage: 1.6+ GB\n"
     ]
    }
   ],
   "source": [
    "\"\"\"Check the dataset description. This dataset provides information on IPC classification \n",
    "categories of patents.\"\"\"\n",
    "\n",
    "ipcr.info()"
   ]
  },
  {
   "cell_type": "code",
   "execution_count": 97,
   "metadata": {},
   "outputs": [],
   "source": [
    "\"\"\"Keep only needed columns: patent_id and category.\"\"\"\n",
    "\n",
    "ipcr = ipcr[['patent_id','section']]"
   ]
  },
  {
   "cell_type": "code",
   "execution_count": 98,
   "metadata": {},
   "outputs": [],
   "source": [
    "\"\"\"Merge university patents with IPC.\"\"\"\n",
    "\n",
    "patent_ipc = pd.merge(left=patent_universities,right=ipcr,\n",
    "                      on='patent_id')"
   ]
  },
  {
   "cell_type": "code",
   "execution_count": 99,
   "metadata": {},
   "outputs": [
    {
     "data": {
      "text/plain": [
       "287"
      ]
     },
     "execution_count": 99,
     "metadata": {},
     "output_type": "execute_result"
    }
   ],
   "source": [
    "\"\"\"535 universities have patents with IPC classification.\"\"\"\n",
    "\n",
    "patent_ipc.organization.nunique()"
   ]
  },
  {
   "cell_type": "code",
   "execution_count": 100,
   "metadata": {},
   "outputs": [],
   "source": [
    "\"\"\"Count the number of patents per IPC category.\"\"\"\n",
    "\n",
    "patent_ipc['count'] = [1] * len(patent_ipc)\n",
    "ipc = patent_ipc.groupby(['UNITID','organization','section','year'])['count'].count().reset_index()"
   ]
  },
  {
   "cell_type": "code",
   "execution_count": 101,
   "metadata": {},
   "outputs": [
    {
     "data": {
      "text/html": [
       "<div>\n",
       "<style scoped>\n",
       "    .dataframe tbody tr th:only-of-type {\n",
       "        vertical-align: middle;\n",
       "    }\n",
       "\n",
       "    .dataframe tbody tr th {\n",
       "        vertical-align: top;\n",
       "    }\n",
       "\n",
       "    .dataframe thead th {\n",
       "        text-align: right;\n",
       "    }\n",
       "</style>\n",
       "<table border=\"1\" class=\"dataframe\">\n",
       "  <thead>\n",
       "    <tr style=\"text-align: right;\">\n",
       "      <th></th>\n",
       "      <th>UNITID</th>\n",
       "      <th>organization</th>\n",
       "      <th>section</th>\n",
       "      <th>year</th>\n",
       "      <th>count</th>\n",
       "    </tr>\n",
       "  </thead>\n",
       "  <tbody>\n",
       "    <tr>\n",
       "      <th>0</th>\n",
       "      <td>100654</td>\n",
       "      <td>alabamaamuniversity</td>\n",
       "      <td>A</td>\n",
       "      <td>2016.000000</td>\n",
       "      <td>3</td>\n",
       "    </tr>\n",
       "    <tr>\n",
       "      <th>1</th>\n",
       "      <td>100654</td>\n",
       "      <td>alabamaamuniversity</td>\n",
       "      <td>B</td>\n",
       "      <td>2003.000000</td>\n",
       "      <td>1</td>\n",
       "    </tr>\n",
       "    <tr>\n",
       "      <th>2</th>\n",
       "      <td>100654</td>\n",
       "      <td>alabamaamuniversity</td>\n",
       "      <td>B</td>\n",
       "      <td>2016.000000</td>\n",
       "      <td>1</td>\n",
       "    </tr>\n",
       "    <tr>\n",
       "      <th>3</th>\n",
       "      <td>100654</td>\n",
       "      <td>alabamaamuniversity</td>\n",
       "      <td>G</td>\n",
       "      <td>2003.000000</td>\n",
       "      <td>3</td>\n",
       "    </tr>\n",
       "    <tr>\n",
       "      <th>4</th>\n",
       "      <td>100654</td>\n",
       "      <td>alabamaamuniversity</td>\n",
       "      <td>H</td>\n",
       "      <td>2003.000000</td>\n",
       "      <td>1</td>\n",
       "    </tr>\n",
       "  </tbody>\n",
       "</table>\n",
       "</div>"
      ],
      "text/plain": [
       "   UNITID         organization section        year  count\n",
       "0  100654  alabamaamuniversity  A      2016.000000  3    \n",
       "1  100654  alabamaamuniversity  B      2003.000000  1    \n",
       "2  100654  alabamaamuniversity  B      2016.000000  1    \n",
       "3  100654  alabamaamuniversity  G      2003.000000  3    \n",
       "4  100654  alabamaamuniversity  H      2003.000000  1    "
      ]
     },
     "execution_count": 101,
     "metadata": {},
     "output_type": "execute_result"
    }
   ],
   "source": [
    "ipc.head()"
   ]
  },
  {
   "cell_type": "code",
   "execution_count": 102,
   "metadata": {},
   "outputs": [],
   "source": [
    "ipc_balanced = (ipc.set_index('year',append=True)\n",
    "                 .reindex(pd.MultiIndex.from_product([ipc.index.unique(),\n",
    "                                                      range(2000,2019)],\n",
    "                                                     names=['id','year']))\n",
    "                 .reset_index(level=1))"
   ]
  },
  {
   "cell_type": "code",
   "execution_count": 103,
   "metadata": {},
   "outputs": [
    {
     "data": {
      "text/html": [
       "<div>\n",
       "<style scoped>\n",
       "    .dataframe tbody tr th:only-of-type {\n",
       "        vertical-align: middle;\n",
       "    }\n",
       "\n",
       "    .dataframe tbody tr th {\n",
       "        vertical-align: top;\n",
       "    }\n",
       "\n",
       "    .dataframe thead th {\n",
       "        text-align: right;\n",
       "    }\n",
       "</style>\n",
       "<table border=\"1\" class=\"dataframe\">\n",
       "  <thead>\n",
       "    <tr style=\"text-align: right;\">\n",
       "      <th></th>\n",
       "      <th>year</th>\n",
       "      <th>UNITID</th>\n",
       "      <th>organization</th>\n",
       "      <th>section</th>\n",
       "      <th>count</th>\n",
       "    </tr>\n",
       "    <tr>\n",
       "      <th>id</th>\n",
       "      <th></th>\n",
       "      <th></th>\n",
       "      <th></th>\n",
       "      <th></th>\n",
       "      <th></th>\n",
       "    </tr>\n",
       "  </thead>\n",
       "  <tbody>\n",
       "    <tr>\n",
       "      <th>0</th>\n",
       "      <td>2000</td>\n",
       "      <td>nan</td>\n",
       "      <td>NaN</td>\n",
       "      <td>NaN</td>\n",
       "      <td>nan</td>\n",
       "    </tr>\n",
       "    <tr>\n",
       "      <th>0</th>\n",
       "      <td>2001</td>\n",
       "      <td>nan</td>\n",
       "      <td>NaN</td>\n",
       "      <td>NaN</td>\n",
       "      <td>nan</td>\n",
       "    </tr>\n",
       "    <tr>\n",
       "      <th>0</th>\n",
       "      <td>2002</td>\n",
       "      <td>nan</td>\n",
       "      <td>NaN</td>\n",
       "      <td>NaN</td>\n",
       "      <td>nan</td>\n",
       "    </tr>\n",
       "    <tr>\n",
       "      <th>0</th>\n",
       "      <td>2003</td>\n",
       "      <td>nan</td>\n",
       "      <td>NaN</td>\n",
       "      <td>NaN</td>\n",
       "      <td>nan</td>\n",
       "    </tr>\n",
       "    <tr>\n",
       "      <th>0</th>\n",
       "      <td>2004</td>\n",
       "      <td>nan</td>\n",
       "      <td>NaN</td>\n",
       "      <td>NaN</td>\n",
       "      <td>nan</td>\n",
       "    </tr>\n",
       "  </tbody>\n",
       "</table>\n",
       "</div>"
      ],
      "text/plain": [
       "    year  UNITID organization section  count\n",
       "id                                          \n",
       "0   2000 nan      NaN          NaN    nan   \n",
       "0   2001 nan      NaN          NaN    nan   \n",
       "0   2002 nan      NaN          NaN    nan   \n",
       "0   2003 nan      NaN          NaN    nan   \n",
       "0   2004 nan      NaN          NaN    nan   "
      ]
     },
     "execution_count": 103,
     "metadata": {},
     "output_type": "execute_result"
    }
   ],
   "source": [
    "ipc_balanced.head()"
   ]
  },
  {
   "cell_type": "code",
   "execution_count": 104,
   "metadata": {},
   "outputs": [
    {
     "data": {
      "text/html": [
       "<div>\n",
       "<style scoped>\n",
       "    .dataframe tbody tr th:only-of-type {\n",
       "        vertical-align: middle;\n",
       "    }\n",
       "\n",
       "    .dataframe tbody tr th {\n",
       "        vertical-align: top;\n",
       "    }\n",
       "\n",
       "    .dataframe thead th {\n",
       "        text-align: right;\n",
       "    }\n",
       "</style>\n",
       "<table border=\"1\" class=\"dataframe\">\n",
       "  <thead>\n",
       "    <tr style=\"text-align: right;\">\n",
       "      <th></th>\n",
       "      <th>UNITID</th>\n",
       "      <th>organization</th>\n",
       "      <th>year</th>\n",
       "      <th>name</th>\n",
       "    </tr>\n",
       "  </thead>\n",
       "  <tbody>\n",
       "    <tr>\n",
       "      <th>2018</th>\n",
       "      <td>100654.000000</td>\n",
       "      <td>alabamaamuniversity</td>\n",
       "      <td>2000</td>\n",
       "      <td>0</td>\n",
       "    </tr>\n",
       "    <tr>\n",
       "      <th>2019</th>\n",
       "      <td>100654.000000</td>\n",
       "      <td>alabamaamuniversity</td>\n",
       "      <td>2001</td>\n",
       "      <td>0</td>\n",
       "    </tr>\n",
       "    <tr>\n",
       "      <th>2020</th>\n",
       "      <td>100654.000000</td>\n",
       "      <td>alabamaamuniversity</td>\n",
       "      <td>2002</td>\n",
       "      <td>0</td>\n",
       "    </tr>\n",
       "    <tr>\n",
       "      <th>0</th>\n",
       "      <td>100654.000000</td>\n",
       "      <td>alabamaamuniversity</td>\n",
       "      <td>2003</td>\n",
       "      <td>[Physics, Electricity, Performing Operations; Transporting]</td>\n",
       "    </tr>\n",
       "    <tr>\n",
       "      <th>2021</th>\n",
       "      <td>100654.000000</td>\n",
       "      <td>alabamaamuniversity</td>\n",
       "      <td>2004</td>\n",
       "      <td>0</td>\n",
       "    </tr>\n",
       "    <tr>\n",
       "      <th>2022</th>\n",
       "      <td>100654.000000</td>\n",
       "      <td>alabamaamuniversity</td>\n",
       "      <td>2005</td>\n",
       "      <td>0</td>\n",
       "    </tr>\n",
       "    <tr>\n",
       "      <th>2023</th>\n",
       "      <td>100654.000000</td>\n",
       "      <td>alabamaamuniversity</td>\n",
       "      <td>2006</td>\n",
       "      <td>0</td>\n",
       "    </tr>\n",
       "    <tr>\n",
       "      <th>2024</th>\n",
       "      <td>100654.000000</td>\n",
       "      <td>alabamaamuniversity</td>\n",
       "      <td>2007</td>\n",
       "      <td>0</td>\n",
       "    </tr>\n",
       "    <tr>\n",
       "      <th>2025</th>\n",
       "      <td>100654.000000</td>\n",
       "      <td>alabamaamuniversity</td>\n",
       "      <td>2008</td>\n",
       "      <td>0</td>\n",
       "    </tr>\n",
       "    <tr>\n",
       "      <th>2026</th>\n",
       "      <td>100654.000000</td>\n",
       "      <td>alabamaamuniversity</td>\n",
       "      <td>2009</td>\n",
       "      <td>0</td>\n",
       "    </tr>\n",
       "    <tr>\n",
       "      <th>2027</th>\n",
       "      <td>100654.000000</td>\n",
       "      <td>alabamaamuniversity</td>\n",
       "      <td>2010</td>\n",
       "      <td>0</td>\n",
       "    </tr>\n",
       "    <tr>\n",
       "      <th>2028</th>\n",
       "      <td>100654.000000</td>\n",
       "      <td>alabamaamuniversity</td>\n",
       "      <td>2011</td>\n",
       "      <td>0</td>\n",
       "    </tr>\n",
       "    <tr>\n",
       "      <th>2029</th>\n",
       "      <td>100654.000000</td>\n",
       "      <td>alabamaamuniversity</td>\n",
       "      <td>2012</td>\n",
       "      <td>0</td>\n",
       "    </tr>\n",
       "    <tr>\n",
       "      <th>2030</th>\n",
       "      <td>100654.000000</td>\n",
       "      <td>alabamaamuniversity</td>\n",
       "      <td>2013</td>\n",
       "      <td>0</td>\n",
       "    </tr>\n",
       "    <tr>\n",
       "      <th>2031</th>\n",
       "      <td>100654.000000</td>\n",
       "      <td>alabamaamuniversity</td>\n",
       "      <td>2014</td>\n",
       "      <td>0</td>\n",
       "    </tr>\n",
       "    <tr>\n",
       "      <th>2032</th>\n",
       "      <td>100654.000000</td>\n",
       "      <td>alabamaamuniversity</td>\n",
       "      <td>2015</td>\n",
       "      <td>0</td>\n",
       "    </tr>\n",
       "    <tr>\n",
       "      <th>1</th>\n",
       "      <td>100654.000000</td>\n",
       "      <td>alabamaamuniversity</td>\n",
       "      <td>2016</td>\n",
       "      <td>[Human Necessitites, Performing Operations; Transporting]</td>\n",
       "    </tr>\n",
       "    <tr>\n",
       "      <th>2033</th>\n",
       "      <td>100654.000000</td>\n",
       "      <td>alabamaamuniversity</td>\n",
       "      <td>2017</td>\n",
       "      <td>0</td>\n",
       "    </tr>\n",
       "    <tr>\n",
       "      <th>2034</th>\n",
       "      <td>100654.000000</td>\n",
       "      <td>alabamaamuniversity</td>\n",
       "      <td>2018</td>\n",
       "      <td>0</td>\n",
       "    </tr>\n",
       "  </tbody>\n",
       "</table>\n",
       "</div>"
      ],
      "text/plain": [
       "            UNITID         organization  year  \\\n",
       "2018 100654.000000  alabamaamuniversity  2000   \n",
       "2019 100654.000000  alabamaamuniversity  2001   \n",
       "2020 100654.000000  alabamaamuniversity  2002   \n",
       "0    100654.000000  alabamaamuniversity  2003   \n",
       "2021 100654.000000  alabamaamuniversity  2004   \n",
       "2022 100654.000000  alabamaamuniversity  2005   \n",
       "2023 100654.000000  alabamaamuniversity  2006   \n",
       "2024 100654.000000  alabamaamuniversity  2007   \n",
       "2025 100654.000000  alabamaamuniversity  2008   \n",
       "2026 100654.000000  alabamaamuniversity  2009   \n",
       "2027 100654.000000  alabamaamuniversity  2010   \n",
       "2028 100654.000000  alabamaamuniversity  2011   \n",
       "2029 100654.000000  alabamaamuniversity  2012   \n",
       "2030 100654.000000  alabamaamuniversity  2013   \n",
       "2031 100654.000000  alabamaamuniversity  2014   \n",
       "2032 100654.000000  alabamaamuniversity  2015   \n",
       "1    100654.000000  alabamaamuniversity  2016   \n",
       "2033 100654.000000  alabamaamuniversity  2017   \n",
       "2034 100654.000000  alabamaamuniversity  2018   \n",
       "\n",
       "                                                             name  \n",
       "2018  0                                                            \n",
       "2019  0                                                            \n",
       "2020  0                                                            \n",
       "0     [Physics, Electricity, Performing Operations; Transporting]  \n",
       "2021  0                                                            \n",
       "2022  0                                                            \n",
       "2023  0                                                            \n",
       "2024  0                                                            \n",
       "2025  0                                                            \n",
       "2026  0                                                            \n",
       "2027  0                                                            \n",
       "2028  0                                                            \n",
       "2029  0                                                            \n",
       "2030  0                                                            \n",
       "2031  0                                                            \n",
       "2032  0                                                            \n",
       "1     [Human Necessitites, Performing Operations; Transporting]    \n",
       "2033  0                                                            \n",
       "2034  0                                                            "
      ]
     },
     "execution_count": 104,
     "metadata": {},
     "output_type": "execute_result"
    }
   ],
   "source": [
    "ipc_balanced['UNITID'] = ipc_balanced.groupby(level=0)['UNITID'].ffill().bfill()\n",
    "ipc_balanced['organization'] = ipc_balanced.groupby(level=0)['organization'].ffill().bfill()\n",
    "ipc_balanced['section'] = ipc_balanced.groupby(level=0)['section'].ffill().bfill()\n",
    "ipc_balanced['count'] = ipc_balanced['count'].fillna(0)\n",
    "\n",
    "ipc_balanced_groupby = ipc_balanced.groupby(['UNITID','organization','year','section'])['count'].sum().reset_index()\n",
    "\n",
    "ipc_with_values = ipc_balanced_groupby[ipc_balanced_groupby['count'] != 0]\n",
    "ipc_with_values_sorted = ipc_with_values.sort_values(['year','count'],ascending=False)\n",
    "ipc_top_five = ipc_with_values_sorted.groupby(['organization','year']).head(5)\n",
    "\n",
    "\"\"\"Merge with the category names.\"\"\"\n",
    "\n",
    "section_name = pd.DataFrame() # create a dataframe with category names\n",
    "section_name['section'] = ['A','B','C','D','E','F','G','H']\n",
    "section_name['name'] = ['Human Necessitites','Performing Operations; Transporting','Chemistry; Metallurgy','Textiles; Paper','Fixed Constructions','Mechanical Engineering; Lighting; Heating; Weapons; Blasting','Physics','Electricity']\n",
    "\n",
    "ipc_name = pd.merge(left=ipc_top_five,right=section_name,\n",
    "                    on='section')\n",
    "\n",
    "ipc_top_five_finalized = ipc_name.groupby(['UNITID','organization','year'])['name'].apply(list).reset_index()\n",
    "\n",
    "ipc_balanced_deduplicated = ipc_balanced_groupby[['UNITID','organization','year']].drop_duplicates()\n",
    "\n",
    "ipc_top_five_balanced_finalized = ipc_top_five_finalized.merge(ipc_balanced_deduplicated, on=['UNITID','year','organization'],\n",
    "                         how='right').sort_values(['organization','year']).fillna(0)\n",
    "\n",
    "ipc_top_five_balanced_finalized[ipc_top_five_balanced_finalized['organization'] == 'alabamaamuniversity']"
   ]
  },
  {
   "cell_type": "code",
   "execution_count": 105,
   "metadata": {},
   "outputs": [],
   "source": [
    "ipc_top_five_balanced_finalized = ipc_top_five_balanced_finalized.rename(columns={'organization':'university','name':'top_5_ipc'})"
   ]
  },
  {
   "cell_type": "code",
   "execution_count": 106,
   "metadata": {},
   "outputs": [
    {
     "data": {
      "text/plain": [
       "167"
      ]
     },
     "execution_count": 106,
     "metadata": {},
     "output_type": "execute_result"
    }
   ],
   "source": [
    "joint_w_business_finalized.university.nunique()"
   ]
  },
  {
   "cell_type": "code",
   "execution_count": 107,
   "metadata": {},
   "outputs": [
    {
     "data": {
      "text/plain": [
       "188"
      ]
     },
     "execution_count": 107,
     "metadata": {},
     "output_type": "execute_result"
    }
   ],
   "source": [
    "with_govinterest_finalized.university.nunique()"
   ]
  },
  {
   "cell_type": "code",
   "execution_count": 108,
   "metadata": {},
   "outputs": [
    {
     "data": {
      "text/plain": [
       "289"
      ]
     },
     "execution_count": 108,
     "metadata": {},
     "output_type": "execute_result"
    }
   ],
   "source": [
    "number_patents_finalized.university.nunique()"
   ]
  },
  {
   "cell_type": "code",
   "execution_count": 109,
   "metadata": {},
   "outputs": [
    {
     "data": {
      "text/plain": [
       "39"
      ]
     },
     "execution_count": 109,
     "metadata": {},
     "output_type": "execute_result"
    }
   ],
   "source": [
    "female_inventors_finalized.university.nunique()"
   ]
  },
  {
   "cell_type": "code",
   "execution_count": 110,
   "metadata": {},
   "outputs": [
    {
     "data": {
      "text/plain": [
       "90"
      ]
     },
     "execution_count": 110,
     "metadata": {},
     "output_type": "execute_result"
    }
   ],
   "source": [
    "unique_inventors_finalized.university.nunique()"
   ]
  },
  {
   "cell_type": "code",
   "execution_count": 111,
   "metadata": {},
   "outputs": [
    {
     "data": {
      "text/plain": [
       "287"
      ]
     },
     "execution_count": 111,
     "metadata": {},
     "output_type": "execute_result"
    }
   ],
   "source": [
    "ipc_top_five_balanced_finalized.university.nunique()"
   ]
  },
  {
   "cell_type": "code",
   "execution_count": 112,
   "metadata": {},
   "outputs": [],
   "source": [
    "patentsview_combined = number_patents_finalized.merge(with_govinterest_finalized,on=['UNITID','university','year'], how='outer').merge(joint_w_business_finalized,on=['UNITID','university','year'], how='outer').merge(female_inventors_finalized,on=['UNITID','university','year'],how='outer').merge(unique_inventors_finalized,on=['UNITID','university','year'],how='outer').merge(ipc_top_five_balanced_finalized,on=['UNITID','university','year'],how='outer')"
   ]
  },
  {
   "cell_type": "code",
   "execution_count": 113,
   "metadata": {},
   "outputs": [],
   "source": [
    "patentsview_combined = patentsview_combined.fillna(0)"
   ]
  },
  {
   "cell_type": "code",
   "execution_count": 114,
   "metadata": {},
   "outputs": [
    {
     "data": {
      "text/plain": [
       "289"
      ]
     },
     "execution_count": 114,
     "metadata": {},
     "output_type": "execute_result"
    }
   ],
   "source": [
    "patentsview_combined.university.nunique()"
   ]
  },
  {
   "cell_type": "markdown",
   "metadata": {},
   "source": [
    "# 2 Link FedRePORTER and IPEDS data"
   ]
  },
  {
   "cell_type": "markdown",
   "metadata": {},
   "source": [
    "## Load and inspect the data"
   ]
  },
  {
   "cell_type": "markdown",
   "metadata": {},
   "source": [
    "### Federal RePORTER - Projects (https://federalreporter.nih.gov/FileDownload)"
   ]
  },
  {
   "cell_type": "code",
   "execution_count": 115,
   "metadata": {},
   "outputs": [
    {
     "name": "stdout",
     "output_type": "stream",
     "text": [
      "['FedRePORTER_PRJ_C_FY2000.csv', 'FedRePORTER_PRJ_C_FY2001.csv', 'FedRePORTER_PRJ_C_FY2002.csv', 'FedRePORTER_PRJ_C_FY2003.csv', 'FedRePORTER_PRJ_C_FY2004.csv', 'FedRePORTER_PRJ_C_FY2005.csv', 'FedRePORTER_PRJ_C_FY2006.csv', 'FedRePORTER_PRJ_C_FY2007.csv', 'FedRePORTER_PRJ_C_FY2008.csv', 'FedRePORTER_PRJ_C_FY2009.csv', 'FedRePORTER_PRJ_C_FY2010.csv', 'FedRePORTER_PRJ_C_FY2011.csv', 'FedRePORTER_PRJ_C_FY2012.csv', 'FedRePORTER_PRJ_C_FY2013.csv', 'FedRePORTER_PRJ_C_FY2014.csv', 'FedRePORTER_PRJ_C_FY2015.csv', 'FedRePORTER_PRJ_C_FY2016.csv', 'FedRePORTER_PRJ_C_FY2017.csv', 'FedRePORTER_PRJ_C_FY2018.csv']\n"
     ]
    }
   ],
   "source": [
    "\"\"\"Get all .csv files for FedRePORTER Projects.\"\"\"\n",
    "\n",
    "fedreporter_files = glob.glob('FedRePORTER_PRJ_C_FY20*.csv')\n",
    "print(fedreporter_files)"
   ]
  },
  {
   "cell_type": "code",
   "execution_count": 116,
   "metadata": {},
   "outputs": [
    {
     "name": "stderr",
     "output_type": "stream",
     "text": [
      "/home/ekaterina/anaconda3/lib/python3.6/site-packages/IPython/core/interactiveshell.py:3020: DtypeWarning: Columns (12,20) have mixed types. Specify dtype option on import or set low_memory=False.\n",
      "  interactivity=interactivity, compiler=compiler, result=result)\n",
      "/home/ekaterina/anaconda3/lib/python3.6/site-packages/IPython/core/interactiveshell.py:3020: DtypeWarning: Columns (12) have mixed types. Specify dtype option on import or set low_memory=False.\n",
      "  interactivity=interactivity, compiler=compiler, result=result)\n",
      "/home/ekaterina/anaconda3/lib/python3.6/site-packages/IPython/core/interactiveshell.py:3020: DtypeWarning: Columns (20) have mixed types. Specify dtype option on import or set low_memory=False.\n",
      "  interactivity=interactivity, compiler=compiler, result=result)\n",
      "b'Skipping line 683: expected 24 fields, saw 31\\nSkipping line 2741: expected 24 fields, saw 42\\nSkipping line 5456: expected 24 fields, saw 42\\nSkipping line 7502: expected 24 fields, saw 39\\nSkipping line 9544: expected 24 fields, saw 29\\nSkipping line 15669: expected 24 fields, saw 25\\nSkipping line 17029: expected 24 fields, saw 33\\nSkipping line 19741: expected 24 fields, saw 25\\nSkipping line 25880: expected 24 fields, saw 26\\nSkipping line 29933: expected 24 fields, saw 36\\nSkipping line 30606: expected 24 fields, saw 28\\n'\n",
      "b'Skipping line 36711: expected 24 fields, saw 25\\nSkipping line 37395: expected 24 fields, saw 41\\nSkipping line 39407: expected 24 fields, saw 34\\nSkipping line 40762: expected 24 fields, saw 25\\nSkipping line 46873: expected 24 fields, saw 42\\nSkipping line 49601: expected 24 fields, saw 42\\nSkipping line 53674: expected 24 fields, saw 29\\nSkipping line 57072: expected 24 fields, saw 25\\nSkipping line 59114: expected 24 fields, saw 25\\nSkipping line 60463: expected 24 fields, saw 36\\nSkipping line 61840: expected 24 fields, saw 40\\nSkipping line 64564: expected 24 fields, saw 36\\n'\n",
      "b'Skipping line 68674: expected 24 fields, saw 40\\nSkipping line 73429: expected 24 fields, saw 36\\nSkipping line 76846: expected 24 fields, saw 29\\nSkipping line 80912: expected 24 fields, saw 25\\nSkipping line 84330: expected 24 fields, saw 34\\nSkipping line 85696: expected 24 fields, saw 25\\nSkipping line 93159: expected 24 fields, saw 25\\n'\n",
      "b'Skipping line 102030: expected 24 fields, saw 25\\nSkipping line 104067: expected 24 fields, saw 26\\nSkipping line 104734: expected 24 fields, saw 34\\nSkipping line 106103: expected 24 fields, saw 40\\nSkipping line 108839: expected 24 fields, saw 36\\nSkipping line 112934: expected 24 fields, saw 40\\nSkipping line 122251: expected 24 fields, saw 36\\nSkipping line 125777: expected 24 fields, saw 25\\nSkipping line 130119: expected 24 fields, saw 25\\n'\n",
      "/home/ekaterina/anaconda3/lib/python3.6/site-packages/IPython/core/interactiveshell.py:3020: DtypeWarning: Columns (0,11) have mixed types. Specify dtype option on import or set low_memory=False.\n",
      "  interactivity=interactivity, compiler=compiler, result=result)\n"
     ]
    }
   ],
   "source": [
    "\"\"\"Read them in, concatenate and convert to a dataframe.\"\"\"\n",
    "\n",
    "list_data = []\n",
    "for filename in fedreporter_files:\n",
    "    data = pd.read_csv(filename, error_bad_lines=False)\n",
    "    list_data.append(data)\n",
    "    \n",
    "projects = pd.concat(list_data)"
   ]
  },
  {
   "cell_type": "code",
   "execution_count": 117,
   "metadata": {},
   "outputs": [
    {
     "name": "stdout",
     "output_type": "stream",
     "text": [
      "<class 'pandas.core.frame.DataFrame'>\n",
      "Int64Index: 1145604 entries, 0 to 162586\n",
      "Data columns (total 24 columns):\n",
      "PROJECT_ID                     1145604 non-null object\n",
      " PROJECT_TERMS                 1111608 non-null object\n",
      " PROJECT_TITLE                 1145600 non-null object\n",
      " DEPARTMENT                    1145601 non-null object\n",
      " AGENCY                        1145599 non-null object\n",
      " IC_CENTER                     935000 non-null object\n",
      " PROJECT_NUMBER                1145597 non-null object\n",
      " PROJECT_START_DATE            992717 non-null object\n",
      " PROJECT_END_DATE              1000984 non-null object\n",
      " CONTACT_PI_PROJECT_LEADER     1145487 non-null object\n",
      " OTHER_PIS                     144565 non-null object\n",
      " CONGRESSIONAL_DISTRICT        1068981 non-null object\n",
      " DUNS_NUMBER                   1135094 non-null object\n",
      " ORGANIZATION_NAME             1144952 non-null object\n",
      " ORGANIZATION_CITY             1139729 non-null object\n",
      " ORGANIZATION_STATE            1128824 non-null object\n",
      " ORGANIZATION_ZIP              1093755 non-null object\n",
      " ORGANIZATION_COUNTRY          1139955 non-null object\n",
      " BUDGET_START_DATE             878181 non-null object\n",
      " BUDGET_END_DATE               878124 non-null object\n",
      " CFDA_CODE                     943573 non-null object\n",
      " FY                            1145575 non-null float64\n",
      " FY_TOTAL_COST                 939651 non-null float64\n",
      " FY_TOTAL_COST_SUB_PROJECTS    172711 non-null float64\n",
      "dtypes: float64(3), object(21)\n",
      "memory usage: 218.5+ MB\n"
     ]
    }
   ],
   "source": [
    "\"\"\"Look at the dataset description. We are interested in PROJECT_ID, PROJECT_NUMBER, \n",
    "ORGANIZATION_NAME, FY_TOTAL_COST. We do not have ORGANIZATION_NAME and FY_TOTAL_COST \n",
    "for all PROJECT_IDs.\n",
    "\n",
    "1,075,525 records - PROJECT_ID   \n",
    "1,075,525 records - PROJECT_NUMBER  \n",
    "1,074,914 recors - ORGANIZATION_NAME\n",
    "881,417 records - FY_TOTAL_COST\n",
    "\"\"\"\n",
    "\n",
    "projects.info()"
   ]
  },
  {
   "cell_type": "code",
   "execution_count": 118,
   "metadata": {},
   "outputs": [
    {
     "data": {
      "text/plain": [
       "Index(['PROJECT_ID', ' PROJECT_TERMS', ' PROJECT_TITLE', ' DEPARTMENT',\n",
       "       ' AGENCY', ' IC_CENTER', ' PROJECT_NUMBER', ' PROJECT_START_DATE',\n",
       "       ' PROJECT_END_DATE', ' CONTACT_PI_PROJECT_LEADER', ' OTHER_PIS',\n",
       "       ' CONGRESSIONAL_DISTRICT', ' DUNS_NUMBER', ' ORGANIZATION_NAME',\n",
       "       ' ORGANIZATION_CITY', ' ORGANIZATION_STATE', ' ORGANIZATION_ZIP',\n",
       "       ' ORGANIZATION_COUNTRY', ' BUDGET_START_DATE', ' BUDGET_END_DATE',\n",
       "       ' CFDA_CODE', ' FY', ' FY_TOTAL_COST', ' FY_TOTAL_COST_SUB_PROJECTS'],\n",
       "      dtype='object')"
      ]
     },
     "execution_count": 118,
     "metadata": {},
     "output_type": "execute_result"
    }
   ],
   "source": [
    "\"\"\"Inspect column names. Note that there is a space in the beginning of some column names.\"\"\"\n",
    "\n",
    "projects.columns"
   ]
  },
  {
   "cell_type": "markdown",
   "metadata": {},
   "source": [
    "### Federal RePORTER - Abstracts (https://federalreporter.nih.gov/FileDownload)"
   ]
  },
  {
   "cell_type": "code",
   "execution_count": 119,
   "metadata": {},
   "outputs": [
    {
     "name": "stdout",
     "output_type": "stream",
     "text": [
      "['FedRePORTER_PRJABS_C_FY2000.csv', 'FedRePORTER_PRJABS_C_FY2001.csv', 'FedRePORTER_PRJABS_C_FY2002.csv', 'FedRePORTER_PRJABS_C_FY2003.csv', 'FedRePORTER_PRJABS_C_FY2004.csv', 'FedRePORTER_PRJABS_C_FY2005.csv', 'FedRePORTER_PRJABS_C_FY2006.csv', 'FedRePORTER_PRJABS_C_FY2007.csv', 'FedRePORTER_PRJABS_C_FY2008.csv', 'FedRePORTER_PRJABS_C_FY2009.csv', 'FedRePORTER_PRJABS_C_FY2010.csv', 'FedRePORTER_PRJABS_C_FY2011.csv', 'FedRePORTER_PRJABS_C_FY2012.csv', 'FedRePORTER_PRJABS_C_FY2013.csv', 'FedRePORTER_PRJABS_C_FY2014.csv', 'FedRePORTER_PRJABS_C_FY2015.csv', 'FedRePORTER_PRJABS_C_FY2016.csv', 'FedRePORTER_PRJABS_C_FY2017.csv', 'FedRePORTER_PRJABS_C_FY2018.csv']\n"
     ]
    }
   ],
   "source": [
    "\"\"\"Get all .csv files for FedRePORTER Abstracts.\"\"\"\n",
    "\n",
    "abstracts_files = glob.glob('FedRePORTER_PRJABS_C_FY20*.csv')\n",
    "print(abstracts_files)"
   ]
  },
  {
   "cell_type": "code",
   "execution_count": 120,
   "metadata": {},
   "outputs": [
    {
     "name": "stderr",
     "output_type": "stream",
     "text": [
      "b'Skipping line 64226: expected 2 fields, saw 3\\nSkipping line 67628: expected 2 fields, saw 3\\nSkipping line 211541: expected 2 fields, saw 7\\n'\n",
      "b'Skipping line 185326: expected 2 fields, saw 18\\n'\n",
      "b'Skipping line 136618: expected 2 fields, saw 3\\nSkipping line 141289: expected 2 fields, saw 3\\nSkipping line 175559: expected 2 fields, saw 7\\n'\n",
      "b'Skipping line 10242: expected 2 fields, saw 3\\nSkipping line 11477: expected 2 fields, saw 3\\n'\n",
      "b'Skipping line 172983: expected 2 fields, saw 3\\n'\n",
      "b'Skipping line 80160: expected 2 fields, saw 3\\nSkipping line 176828: expected 2 fields, saw 4\\nSkipping line 177391: expected 2 fields, saw 3\\nSkipping line 177714: expected 2 fields, saw 10\\n'\n"
     ]
    }
   ],
   "source": [
    "\"\"\"Read them in, concatenate and convert to a dataframe.\"\"\"\n",
    "\n",
    "list_data = []\n",
    "for filename in abstracts_files:\n",
    "    data = pd.read_csv(filename, error_bad_lines=False, encoding='ISO-8859-1')\n",
    "    list_data.append(data)\n",
    "    \n",
    "abstracts = pd.concat(list_data)"
   ]
  },
  {
   "cell_type": "code",
   "execution_count": 121,
   "metadata": {},
   "outputs": [
    {
     "name": "stdout",
     "output_type": "stream",
     "text": [
      "<class 'pandas.core.frame.DataFrame'>\n",
      "Int64Index: 1584298 entries, 0 to 92156\n",
      "Data columns (total 2 columns):\n",
      "PROJECT_ID    1584298 non-null object\n",
      " ABSTRACT     1572086 non-null object\n",
      "dtypes: object(2)\n",
      "memory usage: 36.3+ MB\n"
     ]
    }
   ],
   "source": [
    "\"\"\"Look at the dataset description.\"\"\"\n",
    "\n",
    "abstracts.info()"
   ]
  },
  {
   "cell_type": "code",
   "execution_count": 122,
   "metadata": {},
   "outputs": [
    {
     "data": {
      "text/plain": [
       "Index(['PROJECT_ID', ' ABSTRACT'], dtype='object')"
      ]
     },
     "execution_count": 122,
     "metadata": {},
     "output_type": "execute_result"
    }
   ],
   "source": [
    "\"\"\"Inspect column names. Note that there is a space in the beginning of the ABSTRACT column.\"\"\"\n",
    "\n",
    "abstracts.columns"
   ]
  },
  {
   "cell_type": "markdown",
   "metadata": {},
   "source": [
    "## Filter the data"
   ]
  },
  {
   "cell_type": "code",
   "execution_count": 123,
   "metadata": {},
   "outputs": [],
   "source": [
    "\"\"\"Keep only first project (not to double count the total cost).\"\"\"\n",
    "\n",
    "projects = projects.groupby(' PROJECT_NUMBER').first().reset_index()\n",
    "\n",
    "\"\"\"Filter by projects that have more than 100,000 in FY_TOTAL_COST.\"\"\"\n",
    "\n",
    "projects = projects[projects[' FY_TOTAL_COST'] > 100000]"
   ]
  },
  {
   "cell_type": "markdown",
   "metadata": {},
   "source": [
    "## Match with IPEDS university names"
   ]
  },
  {
   "cell_type": "code",
   "execution_count": 124,
   "metadata": {},
   "outputs": [],
   "source": [
    "\"\"\"Keep only those records in PROJECTS that have ORGANIZATION_NAME. Keep only the needed columns.\n",
    "Now the number of records is the same across columns.\"\"\"\n",
    "\n",
    "projects = projects.dropna(subset=[' ORGANIZATION_NAME'])"
   ]
  },
  {
   "cell_type": "code",
   "execution_count": 125,
   "metadata": {},
   "outputs": [
    {
     "data": {
      "text/plain": [
       "Index([' PROJECT_NUMBER', 'PROJECT_ID', ' PROJECT_TERMS', ' PROJECT_TITLE',\n",
       "       ' DEPARTMENT', ' AGENCY', ' IC_CENTER', ' PROJECT_START_DATE',\n",
       "       ' PROJECT_END_DATE', ' CONTACT_PI_PROJECT_LEADER', ' OTHER_PIS',\n",
       "       ' CONGRESSIONAL_DISTRICT', ' DUNS_NUMBER', ' ORGANIZATION_NAME',\n",
       "       ' ORGANIZATION_CITY', ' ORGANIZATION_STATE', ' ORGANIZATION_ZIP',\n",
       "       ' ORGANIZATION_COUNTRY', ' BUDGET_START_DATE', ' BUDGET_END_DATE',\n",
       "       ' CFDA_CODE', ' FY', ' FY_TOTAL_COST', ' FY_TOTAL_COST_SUB_PROJECTS'],\n",
       "      dtype='object')"
      ]
     },
     "execution_count": 125,
     "metadata": {},
     "output_type": "execute_result"
    }
   ],
   "source": [
    "projects.columns"
   ]
  },
  {
   "cell_type": "code",
   "execution_count": 126,
   "metadata": {},
   "outputs": [],
   "source": [
    "# PROJECT_TERMS ?\n",
    "# PROJECT_START_DATE ?"
   ]
  },
  {
   "cell_type": "code",
   "execution_count": 127,
   "metadata": {},
   "outputs": [],
   "source": [
    "projects = projects[[' PROJECT_NUMBER','PROJECT_ID',' ORGANIZATION_NAME',' FY',' FY_TOTAL_COST']]"
   ]
  },
  {
   "cell_type": "code",
   "execution_count": 128,
   "metadata": {},
   "outputs": [
    {
     "name": "stdout",
     "output_type": "stream",
     "text": [
      "<class 'pandas.core.frame.DataFrame'>\n",
      "Int64Index: 722673 entries, 10435 to 1071508\n",
      "Data columns (total 5 columns):\n",
      " PROJECT_NUMBER       722673 non-null object\n",
      "PROJECT_ID            722673 non-null object\n",
      " ORGANIZATION_NAME    722673 non-null object\n",
      " FY                   722673 non-null float64\n",
      " FY_TOTAL_COST        722673 non-null float64\n",
      "dtypes: float64(2), object(3)\n",
      "memory usage: 33.1+ MB\n"
     ]
    }
   ],
   "source": [
    "projects.info()"
   ]
  },
  {
   "cell_type": "code",
   "execution_count": 129,
   "metadata": {},
   "outputs": [],
   "source": [
    "\"\"\"Normalize names before merging two datasets: lowercase, remove trailing white space, punctuation,\n",
    "special symbols, and remove all white space.\"\"\"\n",
    "\n",
    "def normalize_names(name):\n",
    "    name = name.lower()  # lowercase\n",
    "    name = name.strip()  # remove trailing white space\n",
    "    for i in string.punctuation:\n",
    "        name = name.replace(i,'')  # remove punctuation, special symbols\n",
    "    name = name.replace(' ','')  # remove all white space\n",
    "    return name\n",
    "\n",
    "\"\"\"Apply normalization function to university and organization names.\"\"\"\n",
    "\n",
    "ipeds['INSTNM'] = ipeds['INSTNM'].apply(normalize_names)\n",
    "projects[' ORGANIZATION_NAME'] = projects[' ORGANIZATION_NAME'].apply(normalize_names)"
   ]
  },
  {
   "cell_type": "code",
   "execution_count": 130,
   "metadata": {},
   "outputs": [
    {
     "data": {
      "text/plain": [
       "0    alabamaamuniversity            \n",
       "1    universityofalabamaatbirmingham\n",
       "2    amridgeuniversity              \n",
       "3    universityofalabamainhuntsville\n",
       "4    alabamastateuniversity         \n",
       "Name: INSTNM, dtype: object"
      ]
     },
     "execution_count": 130,
     "metadata": {},
     "output_type": "execute_result"
    }
   ],
   "source": [
    "\"\"\"See the normalized results in the IPEDS university file.\"\"\"\n",
    "\n",
    "ipeds['INSTNM'].head()"
   ]
  },
  {
   "cell_type": "code",
   "execution_count": 131,
   "metadata": {},
   "outputs": [
    {
     "data": {
      "text/plain": [
       "10435    associationofuniversitiesforresearchinastronomyinc\n",
       "10436    columbiauniversity                                \n",
       "10437    washingtonuniversity                              \n",
       "10438    universityofhawaiisystems                         \n",
       "10439    universityofcaliforniasandiego                    \n",
       "Name:  ORGANIZATION_NAME, dtype: object"
      ]
     },
     "execution_count": 131,
     "metadata": {},
     "output_type": "execute_result"
    }
   ],
   "source": [
    "\"\"\"See the normalized results in the PROJECTS file.\"\"\"\n",
    "\n",
    "projects[' ORGANIZATION_NAME'].head()"
   ]
  },
  {
   "cell_type": "code",
   "execution_count": 132,
   "metadata": {},
   "outputs": [
    {
     "data": {
      "text/plain": [
       "1154"
      ]
     },
     "execution_count": 132,
     "metadata": {},
     "output_type": "execute_result"
    }
   ],
   "source": [
    "\"\"\"Merge on a common column containing organization names.\"\"\"\n",
    "\n",
    "projects_ipeds_1 = pd.merge(left=projects,right=ipeds,\n",
    "                            left_on=' ORGANIZATION_NAME',right_on='INSTNM')\n",
    "\n",
    "\"\"\"There are 1,154 universities that matched with the PROJECTS file.\"\"\"\n",
    "\n",
    "projects_ipeds_1[' ORGANIZATION_NAME'].nunique()"
   ]
  },
  {
   "cell_type": "markdown",
   "metadata": {},
   "source": [
    "## Text analysis (Topic modeling)"
   ]
  },
  {
   "cell_type": "code",
   "execution_count": 133,
   "metadata": {},
   "outputs": [],
   "source": [
    "\"\"\"Merge abstracts with Project ID of IPEDS universities. Keep only needed columns.\"\"\"\n",
    "\n",
    "merged_abstracts = pd.merge(left=abstracts,right=projects_ipeds_1,\n",
    "                            on='PROJECT_ID')\n",
    "\n",
    "merged_abstracts = merged_abstracts[[' ABSTRACT',' FY',' FY_TOTAL_COST',' ORGANIZATION_NAME','UNITID',' PROJECT_NUMBER']]"
   ]
  },
  {
   "cell_type": "code",
   "execution_count": 134,
   "metadata": {},
   "outputs": [],
   "source": [
    "merged_abstracts[' FY'] = merged_abstracts[' FY'].astype(int)"
   ]
  },
  {
   "cell_type": "code",
   "execution_count": 135,
   "metadata": {},
   "outputs": [
    {
     "name": "stdout",
     "output_type": "stream",
     "text": [
      "<class 'pandas.core.frame.DataFrame'>\n",
      "Int64Index: 168948 entries, 0 to 168947\n",
      "Data columns (total 6 columns):\n",
      " ABSTRACT             168754 non-null object\n",
      " FY                   168948 non-null int64\n",
      " FY_TOTAL_COST        168948 non-null float64\n",
      " ORGANIZATION_NAME    168948 non-null object\n",
      "UNITID                168948 non-null int64\n",
      " PROJECT_NUMBER       168948 non-null object\n",
      "dtypes: float64(1), int64(2), object(3)\n",
      "memory usage: 9.0+ MB\n"
     ]
    }
   ],
   "source": [
    "\"\"\"Inspect the dataset.\"\"\"\n",
    "\n",
    "merged_abstracts.info()"
   ]
  },
  {
   "cell_type": "code",
   "execution_count": 136,
   "metadata": {},
   "outputs": [],
   "source": [
    "\"\"\"Drop missing abstracts.\"\"\"\n",
    "\n",
    "merged_abstracts = merged_abstracts.dropna()"
   ]
  },
  {
   "cell_type": "code",
   "execution_count": 137,
   "metadata": {},
   "outputs": [],
   "source": [
    "\"\"\"Get only the text of abstracts.\"\"\"\n",
    "\n",
    "merged_abstracts_list = merged_abstracts[' ABSTRACT'].values.tolist()"
   ]
  },
  {
   "cell_type": "markdown",
   "metadata": {},
   "source": [
    "### LDA method - Latent Dirichlet Allocation\n",
    "\n",
    "Latent Dirichlet Allocation is a probabilistic topic model that is used for discovering abstract topics from a collection of documents.\n",
    "\n",
    "Latent (or hidden) stands for topics in the documents that are existing but not yet developed or manifest and which can be discovered based on observed data, such as words in the documents. Dirichlet refers to distributions that are taken into account when creating topics: a distribution of words in the topic (which words are more or less probable to belong to a given topic) and a distribution of topics in documents (which topic is more or less probable for a given document). Allocation stands for allocating topics to documents, once those distributions are in place.\n",
    "\n",
    "LDA model takes as input a corpus (a collection of text documents). Every text document is tokenized to become a sequence of words (tokens). All unique words across a given corpus are saved as a vocabulary. Text documents are then converted to a matrix of token counts (how often a given unique word from a vocabulary appears in a given text document), e.g.:\n",
    "\n",
    "\n",
    "|doc# / unique words| 'science' | 'research' | 'cell' | 'DNA' | 'gene'|\n",
    "|----------|-----------|------------|--------|-------|-------|\n",
    "|document 1|     0     |     0      |     1  |    5  |    7  |\n",
    "|document 2|     1     |     5      |     0  |    0  |    0  |\n",
    "|document 3|     0     |     2      |     5  |    0  |    0  |  \n",
    "\n",
    "\n",
    "The LDA model finds the probability of a word appearing in a given topic, and then maps a probability of a topic being assigned to a given document.\n",
    " \n",
    "Please see more information here: https://scikit-learn.org/stable/modules/decomposition.html#latentdirichletallocation"
   ]
  },
  {
   "cell_type": "code",
   "execution_count": 140,
   "metadata": {},
   "outputs": [],
   "source": [
    "\"\"\"Convert a collection of text documents (corpus) to a matrix of token counts (TF, term-frequency, \n",
    "variable) using Sklearn CountVectorizer function (also, remove English stopwords in the text\n",
    "documents - semantically-vacuous words, such as 'the', 'and', etc). Every token is a unique word \n",
    "across a collection of text documents, and the matrix consists of a count of a given word (token) \n",
    "in a given document.\"\"\" \n",
    "\n",
    "tf_vectorizer = CountVectorizer(stop_words='english') \n",
    "tf = tf_vectorizer.fit_transform(merged_abstracts_list)\n",
    "\n",
    "\"\"\"Get feature names - unique words across a collection of text documents (vocabulary).\"\"\"\n",
    "\n",
    "tf_feature_names = tf_vectorizer.get_feature_names() "
   ]
  },
  {
   "cell_type": "code",
   "execution_count": null,
   "metadata": {},
   "outputs": [],
   "source": [
    "\"\"\"Run the LDA model to produce 10 topics across the collection of documents.\"\"\"\n",
    "\n",
    "lda = LatentDirichletAllocation(n_topics=10, random_state=0).fit(tf) "
   ]
  },
  {
   "cell_type": "code",
   "execution_count": 683,
   "metadata": {},
   "outputs": [
    {
     "name": "stdout",
     "output_type": "stream",
     "text": [
      "Stored 'lda' (LatentDirichletAllocation)\n"
     ]
    }
   ],
   "source": [
    "\"\"\"Store LDA model results.\"\"\"\n",
    "\n",
    "%store lda"
   ]
  },
  {
   "cell_type": "code",
   "execution_count": 141,
   "metadata": {},
   "outputs": [],
   "source": [
    "%store -r lda"
   ]
  },
  {
   "cell_type": "code",
   "execution_count": 142,
   "metadata": {},
   "outputs": [
    {
     "data": {
      "text/plain": [
       "array([0.00454651, 0.16089033, 0.00454665, 0.00454693, 0.00454651,\n",
       "       0.18827047, 0.61901323, 0.00454665, 0.00454631, 0.0045464 ])"
      ]
     },
     "execution_count": 142,
     "metadata": {},
     "output_type": "execute_result"
    }
   ],
   "source": [
    "\"\"\"Get topics to documents matrix.\"\"\"\n",
    "\n",
    "lda_W = lda.transform(tf) \n",
    "\n",
    "\"\"\"Each record represents a document and contains probabilities of 10 topics being \n",
    "assigned to this document.\"\"\"\n",
    "\n",
    "lda_W[0] # probabilities of 10 topics in a document with an index 0"
   ]
  },
  {
   "cell_type": "code",
   "execution_count": 143,
   "metadata": {},
   "outputs": [
    {
     "data": {
      "text/plain": [
       "array([1.00028948e-01, 4.97606402e+02, 1.00000000e-01, ...,\n",
       "       1.01010218e-01, 1.00000000e-01, 1.00000000e-01])"
      ]
     },
     "execution_count": 143,
     "metadata": {},
     "output_type": "execute_result"
    }
   ],
   "source": [
    "\"\"\"Get word to topics matrix.\"\"\"\n",
    "\n",
    "lda_H = lda.components_ \n",
    "\n",
    "\"\"\"Each record is a topic with probabilities of unique words being assigned to this topic.\"\"\"\n",
    "\n",
    "lda_H[0] # probabilities of a given unique word to belong to a topic with an index 0"
   ]
  },
  {
   "cell_type": "code",
   "execution_count": 144,
   "metadata": {},
   "outputs": [
    {
     "name": "stdout",
     "output_type": "stream",
     "text": [
      "Topic 0:\n",
      "----------------------------\n",
      "cell protein proteins gene genes cells dna molecular human specific\n",
      "----------------------------\n",
      "Topic 1:\n",
      "----------------------------\n",
      "cancer risk study disease studies diabetes obesity effects health exposure\n",
      "----------------------------\n",
      "Topic 2:\n",
      "----------------------------\n",
      "cells cell cancer tumor specific immune aim studies signaling mice\n",
      "----------------------------\n",
      "Topic 3:\n",
      "----------------------------\n",
      "data imaging brain methods develop project using new analysis information\n",
      "----------------------------\n",
      "Topic 4:\n",
      "----------------------------\n",
      "heart muscle cardiac mitochondrial function stress disease vascular aim mechanisms\n",
      "----------------------------\n",
      "Topic 5:\n",
      "----------------------------\n",
      "project research data species understanding water climate new environmental provide\n",
      "----------------------------\n",
      "Topic 6:\n",
      "----------------------------\n",
      "new project research high systems materials properties design structure methods\n",
      "----------------------------\n",
      "Topic 7:\n",
      "----------------------------\n",
      "health hiv study treatment risk use care intervention patients research\n",
      "----------------------------\n",
      "Topic 8:\n",
      "----------------------------\n",
      "research program training students university project science clinical center support\n",
      "----------------------------\n",
      "Topic 9:\n",
      "----------------------------\n",
      "brain neurons mechanisms studies activity specific function aim neuronal role\n",
      "----------------------------\n"
     ]
    }
   ],
   "source": [
    "\"\"\"View the list of topics (10 top words per topic).\"\"\"\n",
    "\n",
    "for topic_idx, topic in enumerate(lda_H):\n",
    "    print(\"Topic %d:\" % (topic_idx))\n",
    "    print('----------------------------')\n",
    "    print(\" \".join([tf_feature_names[i]\n",
    "                for i in topic.argsort()[:-10 - 1:-1]]))\n",
    "    print('----------------------------')"
   ]
  },
  {
   "cell_type": "code",
   "execution_count": 145,
   "metadata": {},
   "outputs": [
    {
     "name": "stdout",
     "output_type": "stream",
     "text": [
      "--------------------\n",
      "Topic 0:\n",
      "--------------------\n",
      "cell protein proteins gene genes cells dna molecular human specific\n",
      "--------------------\n",
      "DESCRIPTION (provided by applicant): The ubiquitin system controls many cellular pathways. Proteins are tagged with ubiquitin via an E1-E2-E3 cascade, and this frequently leads to degradation via the proteasome. Deubiquitinating enzymes (Dubs) act to remove ubiquitin from proteins, leading to reversal of the signaling input generated by the ubiquitination event. A small number of Dubs have been linked to important cellular pathways linked to transcriptional control, oncogenesis, tumor suppression, and neurodegeneration, yet the biological functions, interaction partners, and substrates of the majority of Dubs are unknown. We have recently developed a new informatic and experimental platform for semi high-throughput proteomic analysis of protein complexes and have applied this technology to 75 of the 95 Dubs encoded by the human genome, using 293T cells as an initial cell system. These studies reveal that a substantial fraction of Dubs are stably associated with previously identified and novel protein complexes. In many cases, the identity of associated proteins provides the first indications of the biological functions or pathways in which uncharacterized Dubs may operate. Several Dubs and/or their associated proteins have been identified in shRNA-based checkpoint screens, providing candidate biological pathways for many Dubs and their newly identified complexes. Several themes have emerged: 1) Dubs are frequently components of large molecular machines, 2) Dubs frequently associate with E3s, and 3) WD40- repeat containing proteins (including WD40 proteins that have recently been shown to bind ubiquitin) are frequently associated with Dubs, which is interesting in light of the recent finding that WDR48 activates Usp1. Our approach identified many tightly associated proteins but known substrates of a small number of well- studied Dubs were not identified, suggesting that alternative approaches are required to identify more weakly bound substrates of Dubs. This proposal seeks to further elucidate the functions and pathways controlled by Dubs. In aim 1,we will complete our systematic analysis of the Dub proteome, and will examine the proteome of  substrate-trapping  Dub mutants with the goal of identifying weakly bound substrates. Further enhancement and integration of our informatics platform and database is also proposed. Aim 2 has the broad goal of elucidating emerging themes in the function and regulation of Dubs, including: 1) the role of WD40 proteins as activator and substrate receptor subunits of Dubs, and 2) the cross-regulation of Dubs, E3s, and targets of E3s. These themes will be addressed using 2 specific Dub networks we have identified via our proteomics analysis. Together, these experiments will provide a powerful resource for the field devoted to elucidating the functions and targets of Dubs and will begin to uncover important regulatory networks that appear to be commonly employed to regulate Dub function. PUBLIC HEALTH RELEVANCE: Modification of proteins by ubiquitin constitutes a primary mode of protein regulation in cells and underlies diverse signaling pathways. Removal of ubiquitin is a key step in many pathways and can lead to alterations in the flux through signaling pathways. The enzymes responsible for ubiquitin removal are referred to as deubiquitinating enzymes (Dubs). Several Dubs have been implicated in key signaling systems, including p53 regulation, the DNA damage response, DNA repair, and neurodegenerative diseases. We have employed proteomics to elucidate the proteins and protein complexes associated with 75 of the 95 Dubs present in the human genome. In many cases, we provide the first indications of the pathways within which a particular Dub functions. In this proposal, we seek to continue to elucidate Dub pathways by employing  substrate trapping  mutants in a systematic analysis of Dub targets, and we propose to elucidate 2 major regulatory themes that have emerged from our proteomic analysis thus far: 1) activation of Dubs by WD40 proteins and reciprocal regulation of E3s by Dubs. This work will continue to strengthen our understanding of the functions and regulation of Dubs in a systematic manner.\n",
      "--------------------\n",
      "Topic 1:\n",
      "--------------------\n",
      "cancer risk study disease studies diabetes obesity effects health exposure\n",
      "--------------------\n",
      "DESCRIPTION (provided by applicant): The parent study for this proposed ancillary study is an NIH/NHLBI-funded investigation comparing the effects of consuming sweetened beverages for 2 weeks in young (18-40 years), normal weight and overweight/obese adults (5R01HL091333-02: Effects of 2wk fructose & HFCS consumption on lipid dysregulation & insulin resistance). Baseline experimental procedures (including 24-h serial blood sampling) are conducted while subjects reside as inpatients at the CTSC-funded Clinical Research Center (CCRC) for 3.5 days and consume an energy-balanced, high complex carbohydrate diet. Subjects then consume sweetened beverages providing 25% of energy requirements as fructose, glucose, or high fructose corn syrup (HFCS); or 0, 10, or 17.5% of energy as fructose or HFCS along with their usual ad libitum diet. At the end of the 2-week intervention, subjects return to the CCRC and the same experimental procedures are performed while subjects consume an energy-balanced diet, which includes the assigned sweetened beverages. The early results from this investigation indicate that consumption of HFCS-sweetened beverages at 25% of energy results in significant increases of late-night postprandial triglyceride (TG) concentrations, and of fasting LDL cholesterol and apolipoprotein-B (ApoB) concentrations that are comparable in magnitude to those observed after consumption of beverages sweetened with 100% fructose. Consumption of glucose-sweetened beverages does not alter these parameters. There is considerable evidence to support the hypothesis that postprandial hypertriglyceridemia is a key metabolic disturbance that gives rise to the lipid dysregulation characteristic of metabolic syndrome and type 2 diabetes. The purpose of this proposal is to investigate the mechanisms that contribute to the postprandial hypertriglyceridemia induced by fructose and HFCS consumption by quantifying the absolute and proportional contributions of fatty acids derived from de novo lipogenesis (DNL), diet, and free fatty acids (FFA) from adipose TG lipolysis to fasting and postprandial levels of triglyceride-rich lipoproteins (TRL). Stable isotopes will be administered (via oral consumption and 26-h intravenous infusions) to subsets of subjects during the 24-h serial blood sampling protocols that are conducted in all study participants during consumption of energy-balanced, high complex carbohydrate meals at baseline, and meals consumed with beverages sweetened with HFCS, fructose, glucose or aspartame at the end of intervention. The specific objective of these studies is to test the hypothesis that 2 weeks of fructose or HFCS consumption will increase the absolute and proportional contributions of fatty acids derived from DNL to late-night increases of TRL, and that the increases of DNL-fatty acid will be a critical determinant of the increases of fasting LDL and ApoB concentrations. A second objective is to determine the doses of HFCS that increase the absolute and proportional contributions of DNL-fatty acids to postprandial TRL. PUBLIC HEALTH RELEVANCE: There is evidence to suggest that consumption of high sugar diets is associated with increased incidence of cardiovascular disease and diabetes, and the early results from the parent study indicate that consumption of beverages sweetened with high fructose corn syrup (HFCS) at 25% of energy requirement for 2 weeks increases risk factors for cardiovascular disease, including late-night triglyceride (TG) concentrations, and fasting LDL-cholesterol and apolipoprotein-B concentrations. Scientific evidence suggests that increased plasma TG concentrations after meals lead to the increases of other risk factors, and studies are proposed to mechanistically investigate the late-night postprandial increase of TG induced by consumption of HFCS and fructose. These studies will help to determine how sugar consumption may promote increased risk for cardiovascular and related metabolic diseases. (End of Abstract)\n",
      "--------------------\n",
      "Topic 2:\n",
      "--------------------\n"
     ]
    },
    {
     "name": "stdout",
     "output_type": "stream",
     "text": [
      "cells cell cancer tumor specific immune aim studies signaling mice\n",
      "--------------------\n",
      "Background:  A significant literature suggests that cancer stem-like cells drive the aggressive behavior of androgen-independent prostate cancers (Jeter et al., 2011), for which there exists no effective therapy.  Thus, targeting prostate cancer stem-like cells is a logical approach to developing an effective prostate cancer therapy.  A first step will be identifying receptors that regulate prostate cancer stem-like cell activities.  In addition to being an endoplasmic reticulum chaperone protein, glucose-regulated protein of 78 kDa (GRP78) is expressed on the surface of a variety of tumors.  Cell surface GRP78 is an ideal therapeutic target because it promotes tumor cell survival and is not detected in normal tissues.  ShRNA-mediated silencing of total cellular GRP78 in head and neck cancers suppresses tumor initiation.  However, it remains unknown if targeting cell surface GRP78 eliminates cancer stem-like cells.  Cancer stem-like cells are enriched by culturing prostate cancer cells in non-adherent conditions, resulting in the growth of self-renewing prostaspheres.  Our preliminary studies show that cell surface GRP78 expression is higher in prostaspheres than in adherent prostate cancer cells.  We also identified an antibody that, by binding to cell surface GRP78 on prostate cancer cells, (1) reduces expression of Snail-1, a transcriptional repressor that drives cancer stem-like cell activities and (2) suppresses prostasphere growth.  Based on these findings, this study investigates if targeting cell surface GRP78 eliminates prostate cancer stem-like cells.Innovation/Impact:  These studies are the first to investigate the effects of targeting a cell surface receptor in prostate cancer stem-like cells on their tumor-initiating activities.  The studies are of high impact because they determine if targeting cell surface GRP78 eliminates androgen-independent prostate cancer stem-like cells, which are thought to contribute to therapy resistance and patient mortality.Specific Aims/Hypotheses/Study Design: Aim 1:  Examine cell surface GRP78 expression/signaling in human androgen-independent prostate cancer stem-like cells.  Hypotheses:  Cell surface GRP78 expression is higher in prostaspheres than in adherent prostate cancer cells.  Monoclonal antibodies specific for amino- (N-) and carboxy- (C-) terminal domains of cell surface GRP78 respectively stimulate and inhibit Akt/GSK-3/Snail-1 signaling in prostate cancer stem-like cells.1.1.  By flow cytometry, investigate the relative expression of cell surface GRP78 in adherent androgen-independent prostate cancer cells and in prostaspheres derived from these cells.1.2.  Determine relative activities of Akt and its substrate GSK-3 in adherent prostate cancer cells and in prostaspheres derived from these cells by immunoblotting and ELISA.1.3.  Investigate the relative expression of Snail-1, a GSK-3 target, in adherent prostate cancer cells and in prostaspheres derived from these cells by performing reverse-transcription-PCR and immunoblotting.1.4.  Determine the effect of incubating prostate cancer stem-like cells with antibodies specific for N- and C-terminal domains of cell surface GRP78 on Akt/GSK-3/Snail-1 signaling.  Prostasphere-derived cells will be incubated with cell surface GRP78 antibodies.  Akt/GSK-3/Snail-1 expression/activity will be measured.Aim 2:  Determine the effect on human androgen-independent prostate cancer stem-like cell growth of targeting cell surface GRP78.  Hypotheses: Cell surface GRP78(+) but not cell surface GRP78(-) prostate cancer cells grow as self-renewing prostaspheres in vitro and initiate tumor growth in vivo.  Antibodies specific for N- and C-terminal domains of cell surface GRP78 respectively promote and inhibit the self-renewing/tumor initiating activities of prostate cancer stem-like cells.  An antibody specific for a C-terminal domain of cell surface GRP78 inhibits androgen-independent prostate cancer growth in a xenograft model.2.1.  Investigate the relative ability of cell surface GRP78(+) and cell surface GRP78(-) androgen-independent prostate cancer cells (sorted by flow cytometry) to grow as self-renewing prostaspheres in vitro.2.2.  Using Snail-1 shRNAs, assess the importance of Snail-1 for cell surface GRP78 regulation of the growth of self-renewing prostate cancer stem-like cells (prostaspheres).2.3.  Determine the relative ability of cell surface GRP78(+) and cell surface GRP78(-)-sorted prostate cancer cells to initiate tumor growth (subcutaneous injection of 103, 105, or 106 cells) in a xenograft model.2.4.  Assess the effect of antibodies specific for N-terminal and C-terminal domains of cell surface GRP78 on prostate cancer stem-like cell growth.  Antibody effects on (1) self-renewing prostasphere growth in vitro and (2) tumor-initiating activity of prostasphere-derived cells (103, 105, or 106) in SCID mice will be determined.2.5.  Examine the effect of an antibody specific for a C-terminal domain of cell surface GRP78 on human androgen-independent prostate cancer growth.  Antibody effects on the ability of human prostate cancer cells (derived from adherent culture) to establish tumors in SCID mice will be assessed.\n",
      "--------------------\n",
      "Topic 3:\n",
      "--------------------\n",
      "data imaging brain methods develop project using new analysis information\n",
      "--------------------\n",
      "DESCRIPTION (provided by applicant): The overall objective of this project is to improve the quality of images obtained by positron emission tomography (PET) for human studies in clinical nuclear medicine. This will be done by developing a fast and accurate computer method for generating images from basic photon-count data acquired by PET scanners having detectors with time-of-flight (TOF) capability. Data from TOF-PET systems contain additional information that permits better spatial localization of coincidence events, compared to conventional (non-TOF) scanners. TOF-PET scanners have been shown to yield significantly better images, especially for large patients; however, the full benefit of TOF has not yet been achieved in the clinical environment due to the relatively slow reconstruction techniques available for TOF-PET data. The proposed work involves the development and testing of an iterative computer method for statistical image reconstruction that makes specific use of the localized nature of TOF-PET data. The method is called DIRECT, short for Direct Image Reconstruction for TOF, and it involves grouping the TOF-PET data based on a novel combination of angular intervals in data space and voxel-like partitions in image space. The hypothesis is that this method will achieve high quantitative accuracy, combined with high computational efficiency, which is critical for obtaining these quantitative images in the clinical environment. High computational efficiency is needed for human studies, since a large amount of data is collected, the image space is sampled on a fine grid, and many iterations are required to accurately recover the activity levels at all locations in the body. Multi-frame studies (e.g., dual time point imaging, dynamic studies) involve multiple runs of the image reconstruction process for which a fast reconstruction technique is essential. In the DIRECT method, the novel grouping of TOF-PET data leads to high efficiency for many of the reconstruction operations; in particular, this grouping enables the operations of forward-projection and back-projection to be done using efficient Fourier-based methods. Achievement of high accuracy combined with high computational efficiency would be a significant step towards realizing the full potential of TOF-PET in the clinical environment, since in current practice performance is compromised for efficiency in order to complete routine whole-body studies in a practical time. Specific aim 1 is designed to formulate, implement, and investigate the DIRECT method for iterative image reconstruction in TOF-PET, focusing on the core components of the method. Specific aim 2 is designed to formulate, implement, and investigate those components of the DIRECT method that involve compensation for the non-ideal characteristics of measured data, including attenuation, scatter, randoms, and detector normalization. Specific aim 3 involves evaluation of the performance of DIRECT in comparison with other TOF-PET reconstruction techniques. PUBLIC HEALTH RELEVANCE: Positron emission tomography is now well established as a valuable imaging tool for the diagnosis of cancer and other diseases and for the planning and monitoring of treatment. The proposed work involves new methods for computer processing of data from a technically advanced generation of PET scanner; the new computer methods are designed to enable these scanners to reach their full potential, leading to improved accuracy of PET images. The proposed work is relevant to public health, since an improvement in the accuracy of PET images would lead to more accurate diagnosis of cancer and other diseases, more accurate planning of treatment, and more accurate monitoring of the response to therapy, leading in turn to better patient outcomes.\n",
      "--------------------\n",
      "Topic 4:\n",
      "--------------------\n"
     ]
    },
    {
     "name": "stdout",
     "output_type": "stream",
     "text": [
      "heart muscle cardiac mitochondrial function stress disease vascular aim mechanisms\n",
      "--------------------\n",
      "ProjectÂ SummaryÂ -Â­ââÂ FunctionalÂ LnFe-Â­ââNxHyÂ ModelsÂ ofÂ BiologicalÂ N2Â FixationÂ NitrogenaseÂ  (N2ase)Â  isÂ  aÂ  metalloenzymeÂ  thatÂ  mediatesÂ  biologicalÂ  nitrogenÂ  fixationÂ  andÂ  isÂ  essentialÂ  toÂ  life.Â  AsÂ such,Â  theÂ  studyÂ  ofÂ  nitrogenaseÂ  attractsÂ  intenseÂ  scrutinyÂ  amongÂ  theÂ  biologyÂ  andÂ  chemistryÂ  communities.Â Nonetheless,Â  theÂ  mechanismÂ  byÂ  whichÂ  nitrogenaseÂ  enzymesÂ  promoteÂ  theÂ  biologicalÂ  reductionÂ  ofÂ  nitrogenÂ underÂ  ambientÂ  conditionsÂ  remainsÂ  aÂ  fascinatingÂ  andÂ  unsolvedÂ  problem.Â  TheÂ  broadÂ  goalÂ  ofÂ  ourÂ  researchÂ  isÂ  toÂ evaluateÂ  theÂ  mechanismsÂ  byÂ  whichÂ  aÂ  singleÂ  ironÂ  siteÂ  isÂ  ableÂ  toÂ  mediateÂ  catalyticÂ  N2Â  reductionÂ  inÂ  syntheticÂ modelÂ  systemsÂ  and,Â  byÂ  extension,Â  inÂ  biology.Â  TheÂ  proposedÂ  programÂ  isÂ  toÂ  designÂ  andÂ  studyÂ  biomimeticÂ  Fe-Â­ââNxHyÂ  modelÂ  complexesÂ  toÂ  addressÂ  thisÂ  goal.Â  OurÂ  experimentalÂ  approachÂ  stressesÂ  functionally,Â  ratherÂ  thanÂ structurally,Â  faithfulÂ  modelsÂ  ofÂ  theÂ  iron-Â­ââmolybdenumÂ  cofactorÂ  (FeMoco).Â  LowÂ  molecularÂ  weightÂ  Fe-Â­ââNxHyÂ complexesÂ  willÂ  beÂ  developedÂ  toÂ  exploreÂ  ironÂ  sitesÂ  inÂ  lowÂ  coordinateÂ  geometriesÂ  thatÂ  mayÂ  accommodateÂ dinitrogenÂ  andÂ  otherÂ  NxHyÂ  functionalities.Â  WeÂ  positÂ  theseÂ  geometriesÂ  asÂ  relevantÂ  toÂ  Fe-Â­ââNxHyÂ  intermediatesÂ  ofÂ theÂ  FeMoco.Â  ByÂ  analogyÂ  toÂ  theÂ  modesÂ  ofÂ  Fe-Â­ââmediatedÂ  biocatalyticÂ  O2Â  reduction,Â  twoÂ  limitingÂ  single-Â­ââsiteÂ mechanismsÂ  areÂ  emphasized.Â  TheÂ  firstÂ  isÂ  anÂ  alternatingÂ  mechanism,Â  whereÂ  successiveÂ  H-Â­ââatomÂ  transfersÂ  (viaÂ H+/e-Â­ââÂ steps)Â occurÂ atÂ theÂ distalÂ andÂ proximalÂ N-Â­ââatomsÂ ofÂ theÂ Fe-Â­ââNâ¡NÂ subunitÂ inÂ anÂ alternatingÂ fashionÂ (e.g.,Â Fe-Â­ââN=NHÂ  âÂ  Fe-Â­ââNH=NHÂ  âÂ  Fe-Â­ââNH-Â­ââNH2âÂ  Fe-Â­ââNH2-Â­ââNH2Â âÂ  Fe-Â­ââNH2Â  +Â  NH3).Â  TheÂ  secondÂ  isÂ  aÂ  distalÂ  mechanism,Â whereÂ  completeÂ  H-Â­ââatomÂ  transferÂ  atÂ  theÂ  distalÂ  N-Â­ââatomÂ  toÂ  liberateÂ  anÂ  NH3Â  equivalentÂ  precedesÂ  transfersÂ  toÂ  theÂ proximalÂ N-Â­ââatomÂ (e.g.,Â Fe-Â­ââN2Â +Â 3Â e-Â­ââÂ +Â 3Â H+Â âÂ Feâ¡NÂ +Â NH3).Â WeÂ alsoÂ exploreÂ aÂ newÂ hybridÂ mechanismÂ thatÂ firstÂ invokesÂ  aÂ  distalÂ  intermediateÂ  (Fe=NNH2)Â  thatÂ  thenÂ  crossesÂ  toÂ  anÂ  alternatingÂ  intermediateÂ  (Fe-Â­ââN2H4)Â  beforeÂ releasingÂ  theÂ  firstÂ  NH3Â  equivalent.Â WeÂ  willÂ  useÂ  syntheticÂ  modelÂ  complexesÂ  toÂ  testÂ  theÂ  viabilityÂ  ofÂ  eachÂ  ofÂ  theseÂ mechanisticÂ  pathways,Â  andÂ  toÂ  understandÂ  howÂ  theÂ  nuclearity,Â  localÂ  geometry,Â  andÂ  electronicÂ  structureÂ  ofÂ  Fe-Â­ââNxHyÂ  speciesÂ  controlÂ  theirÂ  relativeÂ  stabilitiesÂ  andÂ  reactivityÂ  patterns.Â  ThisÂ  knowledgeÂ  willÂ  beÂ  appliedÂ  toÂ  theÂ study,Â  viaÂ  spectroscopic,Â  electrochemical,Â  andÂ  theoreticalÂ  methods,Â  ofÂ  theÂ  firstÂ  examplesÂ  ofÂ  single-Â­ââsiteÂ  ironÂ catalystsÂ forÂ N2-Â­ââto-Â­ââNH3Â conversionÂ thatÂ weÂ discoveredÂ inÂ theÂ previousÂ grantÂ period,Â andÂ towardsÂ theÂ designÂ ofÂ newÂ  N2-Â­ââfixingÂ  catalystsÂ  withÂ  enhancedÂ  efficiency.Â  RegardlessÂ  ofÂ  theÂ  preciseÂ  mechanismÂ  forÂ  nitrogenÂ  reductionÂ atÂ  theÂ  FeMoco,Â  itsÂ  ultimateÂ  solutionÂ  willÂ  requireÂ  comparisonÂ  ofÂ  spectroscopicÂ  dataÂ  fromÂ  theÂ  cofactorÂ  toÂ  relatedÂ dataÂ  obtainedÂ  forÂ  well-Â­ââdefinedÂ  modelÂ  complexes.Â  WeÂ  willÂ  thereforeÂ  continueÂ  toÂ  collaborateÂ  withÂ  researchersÂ thatÂ specializeÂ inÂ spectroscopicÂ studiesÂ ofÂ theÂ FeMocoÂ toÂ makeÂ suchÂ comparisons,Â andÂ otherÂ investigatorsÂ withÂ expertiseÂ complementaryÂ toÂ ourÂ own.Â InÂ sum,Â theÂ functionalÂ Fe-Â­ââNxHyÂ modelÂ chemistryÂ proposedÂ willÂ continueÂ toÂ  playÂ  aÂ  criticalÂ  roleÂ  alongsideÂ  currentÂ  biochemical,Â  spectroscopic,Â  andÂ  theoreticalÂ  modelÂ  studiesÂ  aimedÂ  atÂ unravelingÂ theÂ chemicalÂ mechanismÂ ofÂ biologicalÂ nitrogenÂ fixation.\n",
      "--------------------\n",
      "Topic 5:\n",
      "--------------------\n",
      "project research data species understanding water climate new environmental provide\n",
      "--------------------\n",
      "The classic view of the deep overturning circulation of the ocean is one in which densest waters formed at high latitudes sink and spread along the abyssal basins. Small-scale mixing, such as is caused by breaking internal waves, drives upwelling of these densest waters slowly back toward the surface over the interior of the basins. However, turbulence measurements over the last 20 years have shown that mixing becomes more vigorous toward the ocean bottom, which should result in the sinking of the water masses formed by mixing. Recent work, combining theory, numerical models and turbulence measurements have suggested that the upwelling necessary to bring the water back toward the surface to close the loop happens in thin boundary layers very close to the ocean bottom. This is a region typically avoided in turbulence measurements to prevent the instruments from hitting the bottom. This US-UK joint project will seek the first direct evidence that turbulent mixing drives sinking in the stratified interior and upwelling along thin boundary layers. It has potentially wide impact because it explores the importance of boundary layer upwelling in the overturning circulation, a process that has received little attention to date. Should this experiment succeed in finding evidence for large upwelling confined to deep boundary layers, it will reinvigorate studies of boundary layer turbulence. The field program will compare different approaches to measure turbulent buoyancy fluxes in the ocean, and help settle the ongoing debate on which ones are most accurate. The result of this experiment will have important implications for climate studies, because the ocean uptake of carbon and heat is regulated by the pathways of deep water masses. Finally, the project has a strong educational component through the training of two postdocs at WHOI and SIO, who will lead the analysis of the observations, and one graduate student at MIT, who will run numerical simulations to put the observations in the overall context of the regional circulation and the global overturningStarting with Munk (1966), it is generally understood that small-scale mixing, such as is caused by breaking internal waves, drives upwelling of the densest waters that sink to the ocean bottom at high latitudes. However, turbulence measurements over the last 20 years have shown that mixing becomes more vigorous toward the ocean bottom, and thus converts light waters into denser ones and not vice versa. Using a combination of theoretical ideas, numerical models, and turbulence measurements, Ferrari et al. (2016), de Lavergne et al. (2016) and McDougall and Ferrari (2017) have argued that abyssal waters are converted from dense to light along weakly stratified bottom boundary layers, where small-scale turbulent buoyancy fluxes decrease to zero to satisfy the no-density flux condition at the ocean bottom. In this view, the lower branch of the meridional overturning circulation is the residual of a large diapycnal sinking, driven by convection at high latitudes and small-scale mixing in the stratified ocean interior, balanced by an even larger diapycnal upwelling along the ocean boundary layers. Callies and Ferrari (2017) illustrate that the confinement of upwelling along boundary layers results in a different abyssal circulation from the classical view pioneered by Stommel (1958) and Munk (1966), with important implications for ocean carbon and heat uptake. Observational support for this emerging view of the overturning circulation is lacking, because tracers are advected rapidly in and out of the boundary layers and thus reflect some average of the diapycnal sinking in the stratified interior and diapycnal upwelling along the boundaries. Vertical profiles of turbulence in the deep ocean generally stop above the boundary layer to avoid hitting the seafloor, and thus miss the crucial decrease of turbulent buoyancy flux through the bottom boundary layer. This US-UK collaborative project will use the Rockall Trough in the Northeast Atlantic as a natural laboratory to study diapycnal upwelling along sloping boundaries. This basin is characterized by rough topography and strong topographic mixing, and is an important conduit of abyssal waters in the North Atlantic. Tracers will be released along the Trough's eastern boundary to see whether their movement is consistent with these new ideas and with inferences in prior work that deep waters enter the Rockall Trough from the south and upwell in the basin. The temporal evolution of the tracers will be compared with diapycnal velocities estimated from buoyancy flux measurements from vertical profilers in the stratified interior and moored sensors across the boundary layer. Diapycnal velocities are expected to be strong and upward in the boundary layer, and downward in the stratified interior. Successful completion of the field program will return the first direct observation of the role played by deep boundary layers in the oceanic overturning circulation.This award reflects NSF's statutory mission and has been deemed worthy of support through evaluation using the Foundation's intellectual merit and broader impacts review criteria.\n",
      "--------------------\n",
      "Topic 6:\n",
      "--------------------\n",
      "new project research high systems materials properties design structure methods\n",
      "--------------------\n",
      "TECHNICAL SUMMARYThis award supports computational and theoretical research and education on a long-standing obstacle to the understanding of condensed-phase systems: many important processes occur on a time-scale that is not easily accessible with conventional methods. In order to address this gap, a variety of accelerated dynamics techniques including hyperdynamics, parallel replica dynamics, and temperature-accelerated dynamics have been proposed. In particular, temperature-accelerated dynamics has been quite successful in extending the time-scales for simulations since it allows realistic simulations of low temperature processes over timescales as long as seconds and even hours. However, due to the fact that the computational work required for serial temperature-accelerated dynamics scales as the number of atoms, N, cubed, this technique can only be applied to extremely small systems. In order to address this problem, the PI has recently developed a method for parallel temperature-accelerated dynamics simulations or  parTAD,  which is based on spatial decomposition combined with the PI's synchronous sublattice algorithm, which scales as log(N). Using this method, the PI has studied the low-temperature growth of Cu/Cu (100) over extended length-scales in order to explain recent observations of vacancy formation and compressive strain.The PI aims to use parTAD to carry out parallel temperature-accelerated dynamics simulations of a variety of non-equilibrium processes over extended time- and length-scales. In addition, the PI plans to develop mew methods which will enable the temperature-accelerated dynamics method to study processes at higher temperatures as well as to study 3D systems and systems with long-range interactions. These include the development of a method to locally adapt the high temperature parameter which controls the  boost  in the accelerated-dynamics simulations in each processor to optimize the efficiency for a given configuration, as well as to deal with the  low-barrier  problem. To extend the possible size of events that can be handled by simulations and also further enhance the efficiency of parTAD simulations, the PI also aims to develop a hybrid approach to parTAD in which spatial decomposition is coupled with medium scale parallel molecular dynamics simulations and localized saddle-point searches. Using these methods the PI will carry out parallel accelerated dynamics simulations to understand important non-equilibrium processes which cannot be easily studied with lattice-based methods, including:(1) Crystalline-to-amorphous transition in low-temperature semiconductor growth(2) Early stages of growth of amorphous Si on SiO2 substrates(3) Ordering, intermixing and defect formation in submonolayer and multilayer Fe/Cu(100), Cu/Ni(100), and Co/Cu(111) growth(4) Radiation damage and defect mobility in MgOThe work will provide opportunities for educational and outreach activities with broad national, international, and societal impact. Some of the methods and results developed from this project will also be incorporated in a joint undergraduate-graduate course on Computational Physics taught by the PI at the University of Toledo along with a graduate course on Thin-Films and Surface Physics in which students will learn about new theoretical advances and state-of-the-art implementation and empirical evaluation techniques. New algorithms that are developed contribute to the cyberinfrastructure of the broader materials research community.NON-TECHNICAL SUMMARYThis award supports computational research and education to develop and apply algorithms and software to simulate processes on time scales that are important to the underlying science but out of the range of conventional simulation methods. For example, molecular dynamics is generally limited to nanoseconds because of the small time-step required for the integration of the equations of motion. However, important infrequent events often take place on a time scale of microseconds, seconds, or even hours. Examples include the evolution of the surface morphology during crystal or film growth, the diffusion of point defects in solids, and the migration of grain boundaries during plastic strain. The PI aims to build on research performed under previous NSF funding to develop new simulation tools that can access longer time scales, higher temperatures, and larger systems.  With the PI's existing and enhanced tools he will tackle specific materials problems involving how semiconductor materials grow and the morphology of new layers, how growing materials layers can intermix with the material upon which they are grown, and how imperfections in the arrangement of atoms near surfaces move and their affect on the growth process. The PI will also apply the new methods to materials growth and the dynamics of materials after irradiation. These studies will be carried out in close connection with specific experiments and will enhance our understanding of materials growth. The work will provide opportunities for educational and outreach activities with broad national, international, and societal impact. Some of the methods and results developed from this project will also be incorporated in a joint undergraduate-graduate course on Computational Physics taught by the PI at the University of Toledo along with a graduate course on Thin-Films and Surface Physics in which students will learn about new theoretical advances and state-of-the-art implementation and empirical evaluation techniques. New algorithms that are developed contribute to the cyberinfrastructure of the broader materials research community.\n",
      "--------------------\n",
      "Topic 7:\n",
      "--------------------\n"
     ]
    },
    {
     "name": "stdout",
     "output_type": "stream",
     "text": [
      "health hiv study treatment risk use care intervention patients research\n",
      "--------------------\n",
      "DESCRIPTION (provided by applicant): South Africa (SA) has the largest number of people living with HIV/AIDS (PLWHA) in the world. Youth in SA are experiencing the fastest increase in new HIV infections, and in the Western Cape region, new infections are  increasingly fueled by mental health problems and substance use. Families can be effective collaborators in HIV prevention efforts, but no family-based interventions exist for South African teens, particularly those with mental health problems and drug/alcohol use. This developmental study will adapt and pilot test a multi-level, highly promising, HIV and alcohol/drug use prevention program (Project STYLE) for South African caregivers and their teens receiving outpatient mental health services. Project STYLE was designed and tested with 750 mentally ill teens across three US cities, and we  will systematically adapt it for the South African context using a combination of ADAPT-ITT and CDC guidelines. Stage 1 will involve extensive formative work (e.g., focus groups, feedback groups, in-depth interviews, theater testing), revisions to survey instruments and the curriculum, and translation/back-translation into Afrikaans and isiXhosa. We will assemble a CAB to advise in the adaptations and revisions. In Stage 2, we will pilot test the revised intervention with two groups of 14 - 18 year old parent-teen dyads receiving mental health services. Teens will be male and female from all ethnic groups (i.e., White, Black, and Colored). We will revise study procedures and materials based on comprehensive participant evaluations, observations, and facilitator ratings. In Stage 3, we will re-test the revised program with 60 parent-teen dyads randomly assigned to Project STYLE versus a control group. All participants will complete baseline and 3-month follow-up interviews to evaluate tracking, retention, and preliminary treatment effects. Guided by a Social-Personal framework6 of HIV-risk and the Theory of Gender and Power, the intervention will target personal attributes, peer and partner relationship processes, and family context to reduce risky sexual behavior and drug/alcohol use among South African youth. Given the exploratory nature of the study, we will cautiously examine change in theoretical mediators and risky sexual behavior and substance abuse as a function of program participation, and we will determine the pretest-posttest effect size of program impact on HIV-risk behavior between groups. The long-term goal of the study is to adapt a highly promising and scientifically-based HIV and substance use prevention program for South African teens and parents that can be tested in a large-scale effectiveness study. This study is consistent with R34 guidelines to support the early phase of intervention development and preliminary testing to examine feasibility, acceptability, and tolerability.    PUBLIC HEALTH RELEVANCE: Sub-Saharan Africa is the global epicenter of the AIDS epidemic, and South Africa is estimated to have the largest number of people living with HIV/AIDS in the world. With youth experiencing the fastest increase in new HIV infections in South Africa, stemming transmissions is a global public health priority. Unfortunately, national efforts have been  disappointing; 50% of South African youth are sexually experienced, 25% were previously diagnosed with an STI, and  40% report sexual activity involving blood. Similarly, adolescent rates of alcohol and other drug use are rising, and age  at first use (13 - 16 years old) for the majority (54%) is young. Likewise, despite high-risk taking among teens in  psychiatric care, and the World Health Organization's statement that  there can be no health without mental  health,  mental health has been a low priority in South Africa. Disproportionate rates of HIV infection among South  Africans may reflect, in part, few available mental health services, while improved mental health care may reduce the  spread of HIV/AIDS. In the Western Cape region of South Africa, associations among sexual risk taking, alcohol and  drug use, and mental illness are fueling HIV/AIDS infections among youth. Families can be effective collaborators in  HIV prevention efforts, but no family-based interventions exist for South African teens, particularly those with mental health  problems and drug/alcohol use. This developmental study will adapt and pilot test a multi-level, highly promising, HIV and alcohol/drug use prevention program (Project STYLE) for this exceptionally high-risk population. Simultaneously addressing sexual risk taking, mental health, and substance use among South African youth has the potential to reduce these intersecting epidemics. The long-term goal of the proposed project is to develop an empirically-validated, theoretically-based family-focused HIV and substance use prevention program to reduce health risk behavior among South  African youth with mental health problems.\n",
      "--------------------\n",
      "Topic 8:\n",
      "--------------------\n",
      "research program training students university project science clinical center support\n",
      "--------------------\n",
      "Principal Investigator/Program Director (Last, First, Middle): Greenberg, Harry B. Program Function 8RESEARCH EDUCATION AND TRAININGA. INTRODUCTION AND TRANSFORMING INTENTFor the past five years, the overarching mission of the Stanford University School of Medicine (SoM) hasbeen the translation of discoveries into medical practice. A plan developed in 2001-02 has encouragedtransforming efforts in clinical and translational (CT) education and research by providing the resources tosupport such endeavors. The vision and goals of this plan, Translating Discoveries, are closely alignedwith those of the NIH Clinical and Translational Science Award (CTSA) effort. The CTSA program hasgiven the SoM an important opportunity to reassess, refine and refocus these efforts and move to anotherlevel in our effort to transform the practice of CTR across the University. The result will be anadministrative home, the Stanford Center for Clinical and Translational Education and Research(SCCTER, pronounced ske-ter), which will totally reshape and focus our efforts in enabling andaccelerating translational medicine while minimizing overlap and maximizing efficiency.More specifically, we have made substantial strides in creating enhanced education and trainingopportunities in clinical and translational research (CTR). Three examples of new and innovativeeducational initiatives include our scholarly concentrations for medical students, our multidisciplinaryBiodesign program for engineers, physicians and other biomedical investigators, and our Masters ofScience in Medicine (MOM) degree for PhD candidates. The scholarly concentration program isembedded in our new medical student curriculum. Of the seven concentrations, the two most popular(clinical research and community health) are directly relevant to CTR education and training. OurBiodesign program represents a unique CTR training opportunity built around teams of physicians,engineers, and postgraduate students learning how to successfully invent medically useful devices. OurMOM degree affords PhD candidates at Stanford the opportunity to matriculate with our first and secondyear medical students, integrating their basic science training with the critical foundations of health andhuman disease and the practice of medicine to provide these students a more fundamental understandingof translational and clinical medicine.In addition to these three recent initiatives, we are attempting to address the future need for well-trainedCT researchers by engaging students earlier in their educational pathway. For example, we host severalsummer science enrichment courses for gifted and disadvantaged high school students. We consider itessential to reach out specifically to low-income and ethnic minority youth, because they are oftenoverlooked by outreach programs. We also are making efforts to encourage more Stanford Universityundergraduate students to enroll in seminar courses directed by faculty with research interests in CTR andto increase opportunities for these students to work on human health related research projects with ourfaculty. Early exposure to CT education and training programs will encourage more of these students toconsider a CTR-related profession.Numerous didactic courses have been developed by many of our CTR stakeholders, including the Department of Health Research and Policy, several clinical departments, the Office of Postdoctoral Affairs,the General Clinical Research Center (GCRC, now the Clinical and Translational Research Unit, Program Function 4), the Center for Biomedical Ethics, and the Stanford/Packard Center for Translational Researchin Medicine (SPCTRM, now the Support Portal, Program Function 3). In addition, our NIH-funded training programs related to CTR (Table 8.1), including 22 T32s, 4 R25s, and 3 K12s, each have developed manyseminar courses and journal clubs. Furthermore, all trainees and faculty have access to Masters degreeprograms in Epidemiology, Health Services Research, and Public Policy, on our campus, and we have ajoint MPH program with the School of Public Health in Berkeley. Other joint degree opportunities areavailable across the University in the School of Humanities and Science (Biological Sciences andBiophysics), the School of Engineering (Bioengineering, Biomedical Informatics, and Biomechanical Engineering), the Graduate School of Business, and the School of Law.Despite our rich educational environment and concerted efforts to develop a wide range of discipline-specific and interdisciplinary education and training programs, the preparation of this application hasstimulated the development of a plan for accelerated improvement. This plan, described below, hasPHS 398/2590 (Rev. 09/04, Reissued 4/2006) Page 592 Continuation Format PagePrincipal Investigator/Program Director (Last, First, Middle): . Greenberg, Harry B.resulted from a faculty-wide survey and deliberations of a CT Education and Training planning committee.The overall goals of our plan are: Â¿ To utilize the considerable faculty and student talent at all seven of Stanford's Schools to improve CT research and education across the enterprise Â¿ To recruit, educate, and train a continuum of outstanding future CT investigators Â¿ To promote awareness of the value and necessity of multidisciplinary and interdisciplinary team research Â¿ To facilitate and coordinate all of our education and training initiatives in the area of CTR.CTR at Stanford has been carried out primarily by faculty at the SoM, with limited but very fruitfulinteractions with faculty in our other Schools. Our first goal is designed to apply the expertise at Stanford'sseven Schools to CTR by educating faculty and trainees at our other Schools in the importance andmethodology of CTR. Conversely, we also will utilize the considerable expertise at the other Schools tohelp educate the next generation of CT investigators in the SoM. The CTSA will allow us to developprograms to facilitate this cross-School and cross-discipline pollination; this will be transformative for CTresearch and education at Stanford and, potentially, in the country.Our second goal, to support a continuum of trainees, is critical for several reasons. Engaging traineesearly in their career will encourage them to pursue careers in CTR, thereby ensuring the development of asteady pipeline of CTR investigators. Trainees along the continuum will be able to assist the next tier oftrainees by acting as near-to-peer role models. Trainees late in the continuum will develop leadershipskills while assuming oversight responsibilities for more junior colleagues. The continuum also will providea defined pathway, from novice to expert, affording trainees the opportunity to increase their level ofknowledge and expertise as they advance academically.Our third goal is to conduct meaningful multidisciplinary exercises that include affiliated nurse scientistsand allied health researches, and to build research projects that will encourage and foster collaborationsboth within and outside the SoM. Since translational medicine is both interdisciplinary and multidisciplinaryby nature, a comprehensive educational program should include participation of students from both theMD and PhD pathways and should integrate these programs so that trainees receive maximum exposureto other disciplines. We plan to teach this multidisciplinary approach through participation in our six-weekteam-building practicum exercises. These teams will be composed of members from multiple disciplineswith varied educational backgrounds.Our fourth goal, to facilitate and coordinate all current education and training initiatives, will be critical tosupporting our continuum of trainees, building our multidisciplinary programs, and eliminating unnecessaryduplication of efforts. A key component of this goal is to take advantage of  teachable moments  in thestudy design process (Program Function 3: Support Portal) as opportunities for training and as sources of didactic material. , A.1. InnovationThe organization and structure of the education and training programs that we propose will transform theCTR learning environment at Stanford through an integrated and cross-pollinating design. We will recruitprofessionally diverse trainees along the continuum from high school students to junior faculty, withspecial outreach to under-represented young adults, and with multiple interactions between the traininglevels. We will foster individual and collaborative learning by creating innovative multidisciplinary teams.We will support innovation by creating new advanced degree programs at the Masters- and PhD-level;these programs will train MD and PhD investigators who understand the importance of, and methods for,translating basic scientific discoveries into improved human health for the community at large. Most importantly, we will bring the greater Stanford community's considerable assets and expertise to bear on CTR and CTR-related education. B. SPECIFIC AIMSOur CTR Education, Training, and Career Development Programs will address the critical shortage of well-trained CT investigators and the need for multidisciplinary CTR teams by devoting programs to each level of trainee. Our five specific aims are: Aim 1. To engage the broader Stanford University community in CTR education, training, and career development.PHS 398/2590(Rev. 09/04, Reissued 4/2006) Page 593 Continuation Format PagePrincipal Investigator/Program Director (Last, First. Middle): Greenberg, Hairy B.Education and training in CTR at Stanford University primarily has involved pre- and postdoctoral studentsin the SoM. Although Stanford does not have other health professional Schools, such as nursing, dentistryand pharmacy, we do have world class discipline-specific Schools of engineering, law,business, earthsciences, education, and humanities and science, as well as a strong tradition of Interdisciplinary Centersthat leverage expertise across the campus to approach specific interdisciplinary subjects such as CTR.With CTSA funding and the development of SCCTER, we intend to develop programs and projects thatincrease the interconnectedness of students and faculty across the seven Schools of our University withthe goal of bringing the broad interdisciplinary expertise available at Stanford to bear on CT research andeducation. Aim 2. To develop a T32 predoctoral comprehensive CTR training program that will include an MS in Medicine and an MS and PhD in Epidemiology or Health Services Research.The objective of Stanford's Predoctoral Clinical Research Training Program will be to provide theenvironment and educational infrastructure that will offer medical students and PhD candidates anunderstanding of, experience with, and appreciation for, CTR. This program also will support their trainingin the principles and practice of CTR. The program will offer students of varied professional backgroundsthe knowledge and skills necessary to: Â¿ Understand how basic laboratory discoveries can be translated into clinical application and how critical clinical problems can be identified and cycled back to the bench for solution Â¿ Appreciate how basic science tools can enrich the design and conduct of clinical research Â¿ Comprehend the scientific principles underlying the design, conduct, and analysis ofCTR Â¿ Understand the public health issues, and how epidemiology and health services research can complement clinical research Â¿ Understand the process by which important research findings are translated into best practices and how these practices can be most effectively introduced into the community Â¿ Realize the value of conducting research as members of interdisciplinary teams Â¿ Appreciate problems faced by research study patients both before and during a studyThe predoctoral training program will be comprised of several components including: Masters of Medicine(MOM) for PhD students, Scholarly Concentrations for medical students, Masters and PhD degrees inEpidemiology and Health Services Research, and a design team program. Aim 3. To foster resident interest in careers inCTR.The decision to pursue a career in CTR often is made during residency training. However, becauseresidency is heavily focused on the mastery of clinical skills, there is limited time to participate in clinicalresearch education programs or to conduct research projects. We will transform the traditional residencytraining experience to stimulate and foster resident interest in CTR by: (1) embedding CTR education inresidency curricula, (2) offering a one-week intensive CTR course, and (3) developing a pilot program inthe Department of Pediatrics that affords the opportunity for meaningful research involvement during residency. Aim 4. To support the development of both MD and PhD scientists interested in careers in CTR.The overarching goal of our proposed K12 program is to recruit MD and PhD postdoctoral trainees into amultidisciplinary CTR training program that stimulates their interest in academic careers in the field. Theproposed training will provide candidates with strong mentorship, didactic training in clinical research methodologies, and practical research and writing experience.To realize their full potential, CTR Scholars will be trained to work in close collaboration with partners fromdifferent fields. This has become increasingly important as the methodology of clinical research has become substantially more sophisticated and the tools to produce, manage and analyze resulting scientificdata have become more powerful and complex. Additional challenges have resulted from the proliferationof regulatory guidelines governing clinical investigation.As part of our K12 initiative, we plan to expand our unique and highly successful, cross-disciplinaryBiodesign program. In addition, we will initiate the Advanced Residency Training Program at Stanford(ARTS), affording MD clinical fellows the opportunity to pursue a PhD in a research area that complements their clinical interests and fosters translation of new discoveries to clinical medicine.PHS 398/2590 (Rev. 09/04. Reissued 4/2006) Page 594 Continuation Format PagePrincipal Investigator/Program Director (Last, First, Middle): Greenberg, Harry B. Aim 5. To centralize and coordinate Stanford CTR education, training, and career development programs.We plan to create a CTR Education and Training Coordinating Office to provide oversight and efficientmanagement of all of our programs, on behalf of all levels of trainees. This office will be responsible formaintaining a database of students and clinical research personnel who are interested in participating inany of our education and training programs. A comprehensive and centralized mentoring program will bedeveloped, in coordination with the Council of Mentors in the CTRU (Program Function 4) and the Centerfor Innovative Study Design (CISD; Program Function 1). Finally, with the assistance of the TranslationalInformatics Program (Program Function 2), a database will be developed that will include all mentors andtrainees in CTR along with descriptions of their research interests. This will be used for matching mentorsand trainees in addition to tracking and evaluating the program.The CTR office will serve as a single source of information for seminars, courses, training programs, andexisting opportunities to join interdisciplinary clinical and translational science research teams. In additionto tracking all existing opportunities to participate in research projects, this office also will be responsiblefor developing and overseeing our innovative multidisciplinary. design team exercises. These exercises willafford all trainees the chance to work in a team environment. Through this centralized and coordinatedeffort, any gaps in CTR education and training will be identified and addressed in a timely manner.Importantly, the CTR office that we envision will foster synergies by bridging Stanford's academic andclinical enterprises, linking investigators, faculty, students, trainees, clinicians, and affiliated students whoshare a commitment to CTR education, training, and research.The CTR office also will serve to coordinate and expand several successful Stanford University and SoMeducation and training programs designed to expose low-income and gifted high school students to CTR.This will (1) stimulate long-term interest in a career in the biological sciences or medicine, therebyexpanding the pipeline of available investigators, (2) prepare the students for the transformation ofbiomedical research, which increasingly focuses on team-based, interdisciplinary efforts, and (3)encourage a more diverse CTR workforce.C. BACKGROUNDC.1. Progress to DateDuring the past five years, we have taken important steps towards enhancing and expanding theeducation, training, and career development of clinical and translational investigators at Stanford. Our nextstep is to create a seamless and fully integrated program that is accessible to all levels of trainees fromacross our University and Medical Center. Furthermore, we will use our success at building meaningfulmultidisciplinary collaborations (e.g., Biodesign Program) to formally frame other synergies between thewealth of programs that exist across Stanford's seven discipline-specific Schools and 15 InterdisciplinaryCenters (see Overall Approach section). The formation of SCCTER will allow us to build an academichome and facilitate the integration of our educational programs, while enhancing accessibility andcoordination and assuring long-term and sustained success on behalf of our continuum of professionallydiverse trainees.Some of the key educational initiatives that have been developed at Stanford include high school scientificenrichment programs, a multidisciplinary Biodesign effort to teach innovation and inventorship, theScholarly Concentration program for medical students, and a Masters of Science in Medicine degreeopportunity for PhD candidates. We also have expanded the breadth and depth of short courses in clinicalresearch for ail members of our clinical and translational research community, including MD and PhDstudents, clinical (MD) and basic science (PhD) postdoctoral trainees, clinical research nurses, researchassociates, and faculty across the University. The expansion of these educational efforts and theintegration of these current and proposed efforts into a coordinated CTR training and career development program under SCCTER is described below. C.2. Institutional CommitmentStanford University is committed to multidisciplinary education and research programs that enhance collaboration across the University. In 2004, our University President, John Hennessy, formed a Commission on Graduate Education (CGE) to review graduate programs and consider how Stanford couldcontinue to evolve graduate education in light of the changing challenges and opportunities facing ourPHS 398/2590 (Rev. 09/04, Reissued4/2006) Page 595 Continuation Format PagePrincipal Investigator/Program Director (Last, First, Middle): Greenberg, Harry B.graduate students. In his charge to this Commission, President Hennessy stated:  Our challenge as aleading educational institution is to prepare our graduates to be leaders in finding solutions for the large-scale, complex problems of the 21st century. Dealing with the issues of our day, such as globalization, theimpact on society of rapid scientific and technological advances, emerging and chronic health careproblems, and the effects of human activities on the environment, demands new approaches that arecreative, collaborative, and multidisciplinary. A report of the Commission delivered to the University Senate in the spring of. 2006 concluded that ourgraduate education programs, in addition to providing students with deep and rich disciplinary expertise,needed to offer both students and faculty ample opportunities (and incentives) to  interact with a diversegroup of colleagues from across the University, building networks of contacts who can assist them while atStanford and throughout their careers and to develop the knowledge and skills needed to be effectiveleaders in their chosen fields.  Stanford has embraced this interdisciplinary approach and is poised toboth support the training of individuals interested in pursuing academic careers as CTR investigatorsacross the enterprise and to utilize the resources throughout Stanford to educate CT researchers. Inparallel, the leaders of our non medical professional Schools have encouraged their students to engage insome of the research and training opportunities at the SoM. For example, engineering and businessstudents actively participate in the Biodesign research teams; law students matriculate with medicalstudents in a biomedical ethics certificate program; and undergraduate students frequently participate inCTR projects under the direction of faculty members from the SoM.These efforts by the Commission on Graduate Education are well-aligned with the SoM comprehensivestrategic plan, Translating Discoveries, which has put translational research as its foremost researchmission and education as its centerpiece. Evidence that our School is committed to facilitating CTR andthe education of CTR investigators includes: Â¿ Aligning the leadership of medical education at the SoM with oversight of the CTR education and training programs, by the appointment of Charles Prober, MD, as Senior Associate Dean for Education. Â¿ Revision of the medical school curriculum to include required scholarly concentrations, including concentrations focused on translational, clinical, and health services research. Â¿ Funding the Medical Scholars Program, which provides support for medical students to pursue hypothesis-driven research projects ranging in duration from three months to one year. Â¿ Making Master degrees in Epidemiology and Health Services Research accessible for undergraduates, medical students, graduate students in other disciplines, and postdoctoral fellows. Â¿ Approval of Masters of Science in Medicine program for PhD students. Â¿ Allowing students from other schools to attend courses offered through theSoMD. PROGRAM DESCRIPTIONBecause translational medicine is inherently both interdisciplinary and multidisciplinary in nature, acomprehensive CTR education program should include trainees from both the MD and PhD pathways,should work towards filling the gaps in each pathway, and should integrate these programs so thattrainees receive maximum exposure to other disciplines and to each other. Our goal is to create a fullyintegrated, University-wide, CTR community that stimulates and educates all levels of trainees interestedin investigational careers focused on human health. The continuum of trainees extends from studentsparticipating in our high school summer programs to faculty supported by NIH Mentored Patient-Orientedand Clinical Scientist Research Career Development Awards (K23 & K08,respectively). Trainees alongthis continuum include: high school students interested in biomedical careers; Stanford Universityundergraduates interested in careers in medicine (premedical students), basic biology, or other healthrelated disciplines like public health or health policy; medical students focused on future academic careersin clinical and translational science; PhD students pursuing advanced training in a biological science; MDresidents and fellows; PhD postdoctoral fellows seeking training that enhances their ability to work onmultidisciplinary translational research teams; and a variety of other professionals such as law,psychology, anthropology, economics, and business students with an interest in health related issues. TheCTSA will coordinate oversight of our existing programs serving this broad spectrum of trainees and thedevelopment of several new advanced degree programs. A map of the various didactic and programmaticPHS 398/2590 (Rev. 09/04, Reissued 4/2006) Page 596 Continuation Format PagePrincipal Investigator/Program Director (Last, Rrst,Middle): Greenberg, Harry B.ClinicalMedicine Education and TrainingResidency/Fellowship JuniorFacultyMS,PhD: Epidemiology orMENTORING / RESEARCH DATABASE CCIS CTR EDUCATION & CAREER DEVELOPMENT TRAINING^W Stanford ato TRANS-UNIVERSITY INTERDISCIPLINARY RESEARCH TEAMS m the Tech BiologyHigh School Undergraduates Basic Science Research Education and TrainingFigure 8.1.Overview of the continuum of education reached by the efforts in the Educational component of SCCTER. Thecontinuum of MD, PhD and other students and trainees are depicted along the top and bottom of the figure, respectively.Mentors support trainees at all levels and in all disciplines; allied health personnel represent key members of our researchteams. The corresponding Specific Aims (numbers), or Program Functions (Ethics Core, EC; Support Portal, SP; CareerDevelopment and Diversity (CDD), and programs (T32, K12) are indicated.elements at each level of the training continuum is shown in Figure8.1.The rich array of courses, symposia, seminars, workshops (Table 8.2), and advanced degrees available totrainees interested in CTR will be complemented by practical training as members of interdisciplinary CTRteams, supported by mentors with expertise in clinical and translational research, biostatistics, andepidemiology. Since Stanford University does not have Schools of nursing, dentistry, public health, orpharmacy, our approach to education of these critical partners in the CTR enterprise will be distinct frommany other CTSA efforts. These allied health professionals will have access to all of our training andcareer development opportunities and will be key members of our research teams. Career developmentand training opportunities will include areas such as leadership (Program Function 11: CareerDevelopment and Diversity), ethics (Program Function 7: Ethics), and regulatory issues (Program Function3: Support Portal). Furthermore, a database of mentors and trainees and their research will be availablefor mentor matching.SCCTER will support enhanced coordination and oversight of our existing programs serving this spectrumof trainees and the development of several advanced degree programs focused on expanding the pipelineof clinical and translational scientists. The integration and coordination of these disparate educationalprograms will be transformative at Stanford, where a concerted effort to link health related issues acrossmultiple disciplines and all levels of training has not existed previously. This effort is described below.Aim 1 is a broad aim designed to focus the vast expertise present at all of Stanford's seven Schools andits various Independent Centers on the challenge of educating the next generation of CT investigators.Aims 2-4 of our program are sequentially organized according to the progression of trainees along theireducational pathway. Aim 2 focuses on MD and PhD predoctoral students (T32), Aim 3 on MD residents,PHS 398/2590 (Rev.09/04,Reissued4/2006) Page 597 Continuation Format Page\n",
      "--------------------\n",
      "Topic 9:\n",
      "--------------------\n"
     ]
    },
    {
     "name": "stdout",
     "output_type": "stream",
     "text": [
      "brain neurons mechanisms studies activity specific function aim neuronal role\n",
      "--------------------\n",
      "DESCRIPTION (provided by applicant): The GABAergic system of the mammalian brain consists of neurons that release GABA and receptors that bind GABA. The GABA-releasing cells are extraordinarily diverse and highly specialized. Some GABAergic cells control the activity in a local network (interneurons, INs), while others constitute the output of a well-defined structure (e.g., striatal medium spiny neurons, MSNs). The receptors for GABA are also diverse and specific. Ligand-gated GABA receptors (GABAARs), members of the Cys-loop receptor family, are present on virtually every neuron in the brain and perform different functions depending on their synaptic or extrasynaptic localization. The GABAARs located outside the synapses (peri- or extrasynaptically) are activated by GABA molecules present in the extracellular space. These GABAARs mediate a type of inhibition that is  always on , also termed tonic inhibition. The studies completed during the past funding period have addressed fundamental mechanisms related to the nature, pharmacology and origin of tonic inhibition. As a direct continuation of the research carried out during the previous funding period, the present project will focus on novel and untested roles of the tonic GABA conductance in cellular/network excitability and neuroprotection. The proposal will address a specific hypothesis using state-of-the-art electrophysiological, microscopical, molecular pharmacological, optical, and transgenic mouse technologies. The hypothesis posits that a tonically active GABAAR-mediated conductance is essential for protecting highly vulnerable neurons in the brain against hyperexcitability and neurotoxicity. The aim is to focus on two damage-prone brain regions where this conductance is present, but can be altered under various conditions. The proposed studies will elucidate the mechanisms whereby the tonic GABA conductance dampens excessive synchrony in the hyperexcitable hippocampal CA3 region and how it protects neostriatal neurons against neurotoxicity. Considering the extremely excitable nature of the CA3 region and its relevance to epilepsy, and the high susceptibility of the neostriatum to dysfunction and degeneration, these experiments will address central issues related to the pathologies and treatments of epilepsies, Huntington's disease (HD), Tourette's syndrome (TS) and other disorders of the limbic system and striatum. The studies are expected to generate novel pharmacological interventions specific for tonic inhibition for the treatment of disorders related to neuronal synchrony including epilepsy and cognitive disorders, and for treating or preventing neurodegenerative conditions of the striatum and other damage-prone brain structures.  PUBLIC HEALTH RELEVANCE The principal inhibitory neurotransmitter in the mammalian brain is 3-aminobutyric acid (GABA). The GABAergic system of the brain can be disrupted at the level of the nerve cells that produce and release GABA or at the level of the receptors that are activated by the transmitter. Both disruptions have devastating effects on the brain's normal functioning. The present proposal will address critical aspects of the GABAergic signaling in health and disease. It will tackle the role of a special type of neuronal communication, characterized during our previous funding period, involving the actions of GABA molecules that float around in the extracellular space of the brain. Such ambient levels of GABA can effectively and uninterruptedly control the excitability of a large number of neurons. Receptors activated during this sustained (tonic) type of inhibition are the specific targets of important modulatory compounds both endogenous (such as ovarian- and sex-hormone derivatives) and exogenous (such as ethanol) to the brain. The present proposal will address the role of this tonic form of inhibition in controlling neuronal network oscillations known to be important in epilepsy and cognitive function. Moreover it will examine the role of tonic inhibition in the first line of defense against the degeneration of striatal neurons known as a hallmark of Huntington's disease and other striatal dysfunction possibly involved in Parkinson's disease, Tourette syndrome and drug addiction. Our research shall reveal fundamental and novel mechanisms of GABA action, thus opening new and specific ways to defend nerve cells against hyperexcitability in epilepsy, degeneration in Huntington's disease and in other neurological disorders. Our findings will also help advance a new concept of striatal function, a part of the brain involved in movement disorders such as Parkinson's disease and Tourette syndrome, and in drug addiction.\n"
     ]
    }
   ],
   "source": [
    "\"\"\"View a top document related to a given topic to inspect the relevance of a topic in a context.\"\"\"\n",
    "\n",
    "for topic_idx, topic in enumerate(lda_H):\n",
    "    print('--------------------')\n",
    "    print(\"Topic %d:\" % (topic_idx))\n",
    "    print('--------------------')\n",
    "    print(\" \".join([tf_feature_names[i]\n",
    "                    for i in topic.argsort()[:-10 - 1:-1]]))\n",
    "    top_doc_indices = np.argsort(lda_W[:,topic_idx] )[::-1][0:1]\n",
    "    for doc_index in top_doc_indices:\n",
    "        print('--------------------')\n",
    "        print(merged_abstracts_list[doc_index])"
   ]
  },
  {
   "cell_type": "markdown",
   "metadata": {},
   "source": [
    "### NMF method - Non-negative matrix factorization\n",
    "\n",
    "NMF is another model used for topic extraction. While the LDA model uses term frequency per document, NMF model uses term-frequency times inverse document-frequency (TF-IDF). In other words, we look not only for how often a word appears in a given document, but also whether this particular word is distinct across all the collections of documents (corpus). For example, words like \"often\" or \"use\" could be frequently encountered, but they are less informative if we want to discern a particular topic of a document, as they might be frequently used across all text documents in a corpus. On the other hand, words which we see less frequently across a collection of document but which might have a high frequency in a particular document (for example, words related to a particular area of research, such as \"DNA\" or \"genes\") might indicate that those words are specific to this document, and, therefore, constitute a basis for a distinct topic. \n",
    "\n",
    "Please see more information here: \n",
    "\n",
    "- https://scikit-learn.org/stable/modules/decomposition.html#non-negative-matrix-factorization-nmf-or-nnmf\n",
    "- https://scikit-learn.org/stable/modules/generated/sklearn.feature_extraction.text.TfidfVectorizer.html\n",
    "- https://scikit-learn.org/stable/modules/generated/sklearn.feature_extraction.text.TfidfTransformer.html#sklearn.feature_extraction.text.TfidfTransformer"
   ]
  },
  {
   "cell_type": "code",
   "execution_count": 146,
   "metadata": {},
   "outputs": [],
   "source": [
    "\"\"\"Convert a collection of raw documents to a matrix of TF-IDF features.\"\"\"\n",
    "\n",
    "vectorizer = TfidfVectorizer(stop_words='english')\n",
    "tfidf = vectorizer.fit_transform(merged_abstracts_list)\n",
    "\n",
    "\"\"\"Get feature names - unique words across a collection of text documents (vocabulary).\"\"\"\n",
    "\n",
    "vectorizer_feature_names = vectorizer.get_feature_names()"
   ]
  },
  {
   "cell_type": "code",
   "execution_count": null,
   "metadata": {},
   "outputs": [],
   "source": [
    "\"\"\"Run the NMF model with 10 topics.\"\"\"\n",
    "\n",
    "nmf = NMF(n_components=10).fit(tfidf)"
   ]
  },
  {
   "cell_type": "code",
   "execution_count": 689,
   "metadata": {},
   "outputs": [
    {
     "name": "stdout",
     "output_type": "stream",
     "text": [
      "Stored 'nmf' (NMF)\n"
     ]
    }
   ],
   "source": [
    "\"\"\"Store NMF model results.\"\"\"\n",
    "\n",
    "%store nmf"
   ]
  },
  {
   "cell_type": "code",
   "execution_count": 147,
   "metadata": {},
   "outputs": [],
   "source": [
    "%store -r nmf"
   ]
  },
  {
   "cell_type": "code",
   "execution_count": 148,
   "metadata": {},
   "outputs": [
    {
     "data": {
      "text/plain": [
       "array([8.77615425e-03, 0.00000000e+00, 3.27915385e-03, 2.31711467e-03,\n",
       "       5.49299832e-05, 0.00000000e+00, 2.02873088e-04, 1.65153843e-03,\n",
       "       1.58104359e-03, 2.84694620e-03])"
      ]
     },
     "execution_count": 148,
     "metadata": {},
     "output_type": "execute_result"
    }
   ],
   "source": [
    "\"\"\"Get topics to documents matrix.\"\"\"\n",
    "\n",
    "nmf_W = nmf.transform(tfidf) \n",
    "\n",
    "\"\"\"Each record represents a document and contains weights of 10 topics in relation to this document.\"\"\"\n",
    "\n",
    "nmf_W[0] # weights of 10 topics in relation a document with an index 0"
   ]
  },
  {
   "cell_type": "code",
   "execution_count": 149,
   "metadata": {},
   "outputs": [
    {
     "data": {
      "text/plain": [
       "array([0.00000000e+00, 4.13243740e-02, 1.25463514e-04, ...,\n",
       "       0.00000000e+00, 2.98376682e-05, 0.00000000e+00])"
      ]
     },
     "execution_count": 149,
     "metadata": {},
     "output_type": "execute_result"
    }
   ],
   "source": [
    "\"\"\"Get word to topics matrix.\"\"\"\n",
    "\n",
    "nmf_H = nmf.components_\n",
    "\n",
    "\"\"\"Each record is a topic with weights of unique words in relation to this topic.\"\"\"\n",
    "\n",
    "nmf_H[0] # weights of unique words in relation to a topic with an index 0"
   ]
  },
  {
   "cell_type": "code",
   "execution_count": 150,
   "metadata": {},
   "outputs": [
    {
     "name": "stdout",
     "output_type": "stream",
     "text": [
      "Topic 0:\n",
      "----------------------------\n",
      "data project research systems new methods materials computational applications models\n",
      "----------------------------\n",
      "Topic 1:\n",
      "----------------------------\n",
      "training research program trainees faculty clinical biology postdoctoral center medicine\n",
      "----------------------------\n",
      "Topic 2:\n",
      "----------------------------\n",
      "cells cell immune stem tumor responses differentiation infection mice il\n",
      "----------------------------\n",
      "Topic 3:\n",
      "----------------------------\n",
      "health care intervention risk children study treatment patients outcomes clinical\n",
      "----------------------------\n",
      "Topic 4:\n",
      "----------------------------\n",
      "cancer breast tumor prostate tumors cancers imaging patients clinical metastasis\n",
      "----------------------------\n",
      "Topic 5:\n",
      "----------------------------\n",
      "hiv infection infected viral aids virus drug vaccine transmission immune\n",
      "----------------------------\n",
      "Topic 6:\n",
      "----------------------------\n",
      "students science stem program research student education engineering school graduate\n",
      "----------------------------\n",
      "Topic 7:\n",
      "----------------------------\n",
      "brain neural neurons cognitive memory visual synaptic cortex learning cortical\n",
      "----------------------------\n",
      "Topic 8:\n",
      "----------------------------\n",
      "dna gene genes genetic genome expression human rna transcription genomic\n",
      "----------------------------\n",
      "Topic 9:\n",
      "----------------------------\n",
      "protein proteins signaling membrane function molecular muscle mechanisms binding mitochondrial\n",
      "----------------------------\n"
     ]
    }
   ],
   "source": [
    "\"\"\"View the list of topics (10 top words per topic).\"\"\"\n",
    "\n",
    "for topic_idx, topic in enumerate(nmf_H):\n",
    "    print(\"Topic %d:\" % (topic_idx))\n",
    "    print('----------------------------')\n",
    "    print(\" \".join([vectorizer_feature_names[i]\n",
    "                for i in topic.argsort()[:-10 - 1:-1]]))\n",
    "    print('----------------------------')"
   ]
  },
  {
   "cell_type": "code",
   "execution_count": 151,
   "metadata": {},
   "outputs": [
    {
     "name": "stdout",
     "output_type": "stream",
     "text": [
      "--------------------\n",
      "Topic 0:\n",
      "--------------------\n",
      "data project research systems new methods materials computational applications models\n",
      "--------------------\n",
      "Recent revolutions in data availability have radically altered activities across many fields within science, industry, and government. For instance, contemporary simulations medication properties can require the computational power of entire data centers, and recent efforts in astronomy will soon generate the largest image datasets in history. In such extreme environments, the only viable path forward for scientific discovery hinges on the development and exploitation of next-generation computational cyberinfrastructure of supercomputers and software. The development of this new computational infrastructure demands significant engineering resources, so it is paramount to maximize the infrastructure's potential for high impact and wide adoption across as many technical domains as possible. Unfortunately, despite this necessity, existing development processes often produce software that is limited to specific hardware, or requires additional expertise to use properly, or is overly specialized to a specific problem domain. Such  single-use  software tools are limited in scope, leading to underutilization by the wider scientific community. In contrast, this project seeks to develop methods and software for computer-based scientific analysis that are sufficiently powerful, flexible and accessible to (i) enable domain experts to achieve significant advancements within their domains, and (ii) enable innovative use of advanced computational techniques in unexpected scientific, technological and industrial applications. This project will apply these tools to a wide variety of specific scientific challenges faced by various research teams in astronomy, medicine, and energy management. These teams plan on using the proposed work to map out new star systems, develop new life-saving medications, and design new power systems that will deliver more energy to a greater number of homes and businesses at a lower cost than existing systems. Finally, this project will seek to leave a legacy of sustained societal benefit by educating students and practitioners in the broader scientific and engineering communities via exposure to state-of-the-art computational techniques. Through close collaboration with research teams in statistical astronomy, pharmacometrics, power systems optimization, and high-performance computing, this project will deliver cyberinfrastructure that will effectively and effortlessly enable the next generation of computer-based scientific analysis and discovery. To ensure the practical applicability of the developed cyberinfrastructure, the project will focus on three target scientific applications: (i) economically viable decarbonization of electrical power networks, (ii) real-time analysis of extreme-scale astronomical image data, and (iii) pharmacometric modeling and simulation for drug analysis and discovery. While tackling these specific problems will constitute an initial stress test of the proposed cyberinfrastructure, it is the ultimate goal of the project that the developed tools be sufficiently performant, accessible, composable, flexible and adaptable to be applied to the widest possible range of problem domains. To achieve this vision, the project will build and improve various software tools for computational optimization, machine learning, parallel computing, and model-based simulation. Particular attention will be paid to the proposed cyberinfrastructure's composability with new and existing tools for scientific analysis and discovery. The pursuit of these goals will require the design and implementation of new programming language abstractions to allow close integration of high-level language features with low-level compiler optimizations. Furthermore, maximally exploiting proposed cyberinfrastructure will require research into new methods that combine state-of-the-art techniques from optimization, machine learning, and high-performance computing.This award reflects NSF's statutory mission and has been deemed worthy of support through evaluation using the Foundation's intellectual merit and broader impacts review criteria.\n",
      "--------------------\n",
      "Topic 1:\n",
      "--------------------\n",
      "training research program trainees faculty clinical biology postdoctoral center medicine\n",
      "--------------------\n",
      "DESCRIPTION (provided by applicant):      This is a competing renewal of a training program designed to prepare highly qualified individuals with prior training in developmental medicine for an investigative career by providing them the necessary skills to conduct collaborative research related to the Development of Cardiovascular and Pulmonary Function. Since its inception 29 years ago, the program has provided an in-depth research experience intended to teach the fundamentals of scientific investigation by the direct association of trainees with established investigators in a number of areas of biomedical science. Trainees spend 2-3 years participating in all activities of a research experience, and under the direct supervision of a training faculty member, take primary responsibility for a project. Training faculty are members of many clinical and basic science departments in the Yale School of Medicine, including Pediatrics, Pathology, Genetics, Cellular and Molecular Physiology, Internal Medicine and Immunobiology. In addition to a focused and intense research experience, the program has a core curriculum designed to provide basic skills in experimental design/analysis (for both basic and clinical research), data presentation, biostatistics, grant preparation and ethical scientific conduct. Most trainees are selected from a large, highly competitive pool of physicians from Yale and other institutions who are trained in pediatrics and desire a strong foundation in biomedical research in order to become independent investigators. While the program has emphasized research training for exemplary physicians, Ph.Ds seeking postdoctoral training in cardiopulmonary research are strongly encouraged to apply and have been supported in recent funding periods. Because most of the physician trainees need clinical as well as research training, the three clinical sections that primarily support this training grant have secured separate (non-NIH) funding to support the necessary advanced clinical training. Thus, the effort supported by this training grant is devoted to the acquisition of research skills. Additionally, the program director and training faculty view this grant as a vehicle to initiate career development in collaborative biomedical investigation and not as a mechanism to fully complete an trainee's research training. Thus trainees are encouraged to apply for extramural support to extend their research training, and they have been quite successful in obtaining such support.\n",
      "--------------------\n",
      "Topic 2:\n",
      "--------------------\n",
      "cells cell immune stem tumor responses differentiation infection mice il\n",
      "--------------------\n",
      "Project Summary B cells are important for the generation of protective immunity and function at multiple discrete stages. The unique role that B cells play as antibody-producing cells is appreciated, however the other functions of B cells as antigen presenting cells, lymphoid tissue organizers and cytokine-producing effector or regulatory cells are much less understood and rarely studied. Recent work from our lab showed that cytokine producing effector B cells play crucial roles in the development of protective humoral and cellular immunity to infectious agents. We therefore hypothesized that there are specialized populations of B cells that have the ability to secrete cytokines and regulate immune responses. To address this hypothesis, we developed an in vitro culture system using primary mouse B cell to generate different classes of cytokine producing effector B cells. We characterized these in vitro generated cells and found markers that we subsequently used to identify the cytokine producing B cell subpopulations in vivo. For example, using markers identified in our in vitro cultures, we can now identify IFN&#947; producing B cell effectors in vivo and showed that these B cells are specifically induced in response to influenza infection and are elevated in number in some mouse models of autoimmunity. Thus, this approach has allowed us for the first time to visualize B cell effectors in vivo and has opened the door to functional and mechanistic studies that will reveal the roles for these cells in infectious and autoimmune disease. Despite the significant progress that we have made in our studies of mouse effector B cells, little is known about their human B cell counterparts. In fact, only very rudimentary studies have been conducted to date with human B cells. From these limited studies it is clear that human B cells have the potential to make cytokines under some stimulation conditions. However, these studies have been conducted with bulk peripheral blood B cells, thus the effector human B cells subsets remain to be identified. The goals of this proposal are to (i) to develop an in vitro culture system to phenotypically and functionally characterize human effector B cells and (ii) To use the information that we have obtained from the in vitro cultures to identify effector B cells in samples from healthy and autoimmune individuals.\n",
      "--------------------\n",
      "Topic 3:\n",
      "--------------------\n"
     ]
    },
    {
     "name": "stdout",
     "output_type": "stream",
     "text": [
      "health care intervention risk children study treatment patients outcomes clinical\n",
      "--------------------\n",
      "DESCRIPTION (provided by applicant): This application for a randomized trial to evaluate a health behavior intervention for reducing health risk behaviors and promoting health in adolescents with major depressive disorder (MDD) is being submitted in response to RFA-MH-06-002 inviting research on health behavior change in mental disorders modeled from HIV interventions. MDD in adolescence is a common and impairing disorder which leads to significant disability, morbidity, and mortality. Health risk behaviors are frequently comorbid with adolescent MDD, adding to the personal, social, and societal burden of the disorder. Effective interventions for reducing health risk behavior in adolescent MDD are important for preventing negative health consequences and improving both health and mental health outcomes. The proposal builds on our group's expertise in behavioral interventions for HIV prevention (Rotheram-Borus) and primary care interventions for depressed adolescents (Asarnow). We will enroll 300 adolescents with MDD identified through screening at the time of a primary care visit. Adolescents will be randomized to either 1) the health behavior intervention, or 2) usual care. The intervention targets four major areas of health risk behavior: tobacco use; alcohol and drug use; sexual activity; and obesity. Based on our prior HIV preventive interventions and our work integrating behavioral interventions for adolescent depression within primary health care services, the intervention employs a collaborative care model, with a Care Manager supporting the primary care provider and delivering a 10-session cognitive-behavioral health education intervention aimed at reducing health risk behaviors and promoting and maintaining positive health behaviors. Like successful HIV prevention programs, the intervention addresses multiple risk factors simultaneously, intervenes at multiple system levels (individual, family, organization), and emphasizes linking youth to care. Outcomes are monitored at baseline and at 6 and 12-month follow-ups. We hypothesize that adolescents randomized to the intervention, compared to adolescents in usual care, will have fewer health risk behaviors (our primary outcome) and improved secondary outcomes (depression, satisfaction with care, and quality of life/functioning). Results will provide critical guidance to the field regarding strategies for improving health and reducing health risk behaviors in adolescents with MDD.\n",
      "--------------------\n",
      "Topic 4:\n",
      "--------------------\n",
      "cancer breast tumor prostate tumors cancers imaging patients clinical metastasis\n",
      "--------------------\n",
      "Breast cancer remains a public health concern, and despite intense cancer research and numerous advances in treatment, it continues to present with significant morbidity and mortality, particularly in advanced disease.  HER2+ breast cancer, a type of breast cancer characterized by overexpression of HER2 receptors on cancer cells, accounts for 15%-20% of all breast cancer cases.  Although specific therapies (HER2-targeted therapies) exist for this type of cancer, they are effective primarily in early stages of the disease, whereas advanced disease is rarely cured, thus presenting an unmet need in breast cancer treatment.  It is estimated that 20%-65% of patients with advanced HER2+ breast cancer do not respond to HER2 treatment.  The objective of this project is to investigate the mechanisms by which HER2+ breast cancer cells develop resistance to HER2-therapy (e.g., lapatinib), with a particular focus on factors within the environment of the cancer cell (microenvironment).  This investigation will be conducted in cell cultures and in animal models, and we will evaluate clinical relevance using de-identified samples from patients through clinical trials.  These approaches provide an integrative framework to discover and evaluate the functional role of clinically relevant factors within the tumor microenvironment that may play a role in HER2 therapy resistance.  The factors identified in this study could also serve as markers to individualize treatment in breast cancer patients.Accumulating evidence suggests that breast cancer cells from advanced tumors are protected from therapeutic agents by the tumor microenvironment, which consists of other cell types (e.g., fibroblasts, macrophages, etc.); however, the mechanism by which this occurs is not well understood.  Based on previous research in my mentor's lab, I hypothesize that fibroblasts in the tumor microenvironment secrete certain factors (e.g., growth factors, cytokines, TGFbeta) that confer resistance to therapy by promoting tumor cell survival and circumvent the therapeutic effects of HER2 treatment.  A better understanding of the involvement of fibroblast-secreted resistance-inducing factors in therapy-resistance will lead to the development of novel therapeutic targets to improve treatment outcomes.  Once these factors are identified the next step will involve conducting experiments to determine whether either direct blockade of these factors, or blockade of the downstream effectors that mediate resistance can restore sensitivity to HER2-therapy (cancer cells become susceptible to treatment).  The results of my studies will help guide the design of clinical trials investigating combinatorial therapies of tumor cell extrinsic signals with HER2-therapy in advanced HER2+ breast cancer patients.The importance of the microenvironment in understanding cancer and its progression became evident to me during my graduate research and has fueled my interest in breast cancer.  With this in mind, I pursued a postdoctoral position in Dr. Joan Brugge's laboratory at Harvard Medical School to gain a better understanding of breast cancer biology and interact with an interdisciplinary group of biologists and clinician-scientists.  My long-term goal is to pursue a faculty position and conduct research that integrates my strong interest in breast cancer with my expertise in bioengineering.  As an independent investigator, my mission will be to make important advances in breast cancer treatment through the development of next-generation bioengineering technologies and focus on the interplay of the signals between tumor cells and their microenvironment in breast cancer disease progression and therapy-resistance.  I also plan to train undergraduates, graduates, and postdoctoral fellows and prepare the next generation of cancer bioengineers.All of my long-term goals will become more feasible through the skills that I will develop during this project, as outlined in my research and training plan.  It will help me enrich my bioengineering background with further training in breast cancer research and at the same time deepen my understanding of biological mechanisms in the context of clinically important questions.  It gives me the opportunity to be co-mentored by both Dr. Joan Brugge, a renowned basic cancer scientist with an excellent track record in training next-generation breast cancer scientists, and an expert breast cancer pathologist, Dr. Sgroi, who will train me in new experimental and analytical techniques.  The collaborations with breast cancer oncologists (Dr. Hurvitz, Dr. Lim) and basic cancer scientists (Dr. Mills, Dr. Straussman) through this project, as well as the graduate level courses I will attend at Harvard Medical School by leading breast cancer scientists, will provide me with a strong foundation in basic and clinical breast cancer research.  This experience will pave my path towards becoming an independent breast cancer scientist and striving to achieve better outcomes for patients afflicted by breast cancer.\n",
      "--------------------\n",
      "Topic 5:\n",
      "--------------------\n",
      "hiv infection infected viral aids virus drug vaccine transmission immune\n",
      "--------------------\n",
      "DESCRIPTION (provided by applicant): This is a new R21 application to investigate potentially protective immune responses in individuals exposed to HIV-1 but who are HIV-1 uninfected. In our preliminary data, we have shown that anti-HIV-1 protease and anti-long-terminal interspersed nuclear elements (LINE) specific immune responses are detected in a large fraction of individuals exposed to HIV-1, but who are HIV-1 uninfected (exposed seronegatives, ESN). We hypothesize that exposure to HIV-1 and HIV-1 infected cell products have led to these responses, and that they may be partially responsible for prevention of establishment of an HIV-1 infection. The grant proposes in two specific aims to characterize the epitopes recognized by HIV-1 protease and LINE specific T cells in HIV-1 exposed uninfected subjects, and to determine the efficacy of anti-HIV-1 protease and LINE specific T cell clones to recognize HIV-1 infected cells in vitro and to suppress HIV-1 viral replication in a viral inhibition assay using primary isolates of a range of different viruses. The data generated from this grant would provide preliminary data for a future R01 to longitudinally follow a large cohort of ESNs to determine whether possession of such immunity was associated with protection from HIV-1 transmission.    PUBLIC HEALTH RELEVANCE: This is a new R21 application to investigate potentially protective immune responses in individuals exposed to HIV-1, but who are HIV-1 uninfected.\n",
      "--------------------\n",
      "Topic 6:\n",
      "--------------------\n"
     ]
    },
    {
     "name": "stdout",
     "output_type": "stream",
     "text": [
      "students science stem program research student education engineering school graduate\n",
      "--------------------\n",
      "The NSF Scholarships in Science, Technology, Engineering, and Mathematics (S-STEM) program supports the retention and graduation of high-achieving, low-income students pursuing STEM degrees. This S-STEM project at Northern Illinois University will provide scholarships and enhanced mentoring to support graduation of students in biological sciences, chemistry and biochemistry, computer sciences, geosciences, mathematics, or physics. Over a period of five years, the project will select forty-six Scholars from the population of rising juniors and transfer students from Illinois' community college system. This community college system is the third-largest in the country, serving more than one million students each year. Student support will feature a mentoring structure centered around student cohorts and student-faculty pairs, augmented by research opportunities. Student cohorts will meet regularly and will be guided by experienced faculty, near-peer, industrial, and government laboratory mentors. This project has the potential to increase understanding of the personal and institutional circumstances that affect students' participation in academic activities and persistence to degrees in STEM fields. This project aims to advance understanding of the role that multiple evidence-based, high impact practices play in improving persistence and graduation of upper-division STEM students. The project leverages existing infrastructure (including NSF STEP and REU programs) and offers students a mentoring program that includes faculty-student pairs, access to research experiences, and weekly cohort meetings to help students achieve their goals and reach their highest academic potential. The program is structured to support students' self-efficacy and science identity, as well as to build essential skills for technical and professional development (i.e., time management, task prioritization, scientific literacy, critical thinking, scientific writing and speaking, leadership, and resume writing). Students will also network with alumni and leaders from industrial, government, and academic laboratories to support the next steps in their professional development. Qualitative research guided by Social Cognitive Career Theory will generate knowledge about the personal and contextual factors, both internal and external to the university, that lead to persistence of economically disadvantaged students in science and mathematics.This award reflects NSF's statutory mission and has been deemed worthy of support through evaluation using the Foundation's intellectual merit and broader impacts review criteria.\n",
      "--------------------\n",
      "Topic 7:\n",
      "--------------------\n",
      "brain neural neurons cognitive memory visual synaptic cortex learning cortical\n",
      "--------------------\n",
      "ï»¿   DESCRIPTION (provided by applicant): The brain processes information and generates behavior by transmitting signals at its synapses, which connect neurons into vast networks of communicating cells. These networks, known as neural circuits, are not static but are modified throughout life by experience. Such neural circuit plasticity is critical for the brain to develop normally and perform all of its important functions, including learning and memory. When brain plasticity mechanisms function abnormally, however, devastating mental illnesses often ensue. Thus, a major goal of neuroscience research is to understand the detailed mechanisms by which the brain activity generated by experiences modifies neural circuit behavior. This occurs in large part because neural activity continually adjusts the efficiency or strength of synaptic communication between neurons, a process known as synaptic plasticity. Despite the importance of synaptic plasticity for brain development and higher brain functions, relatively litte is known about its molecular mechanisms other than it is commonly triggered by activity- dependent changes in intracellular calcium levels. This Conte Center will bring together four leading investigators to continue their previous efforts to use innovative molecular genetic manipulations combined with sophisticated and unique biochemical, electrophysiological, and imaging assays to elucidate highly novel mechanisms that underlie different forms of synaptic plasticity and how these forms of synaptic plasticity play a role in adaptive and pathological forms of experience-dependent plasticity, including learning and memory. The new insights into synaptic and circuit plasticity mechanisms generated by this Conte Center will influence a broad array of neuroscientists working on a wide range of topics related to normal and pathological brain function. The Center will also provide the research community with novel molecular genetic tools and genetically modified mice that can be used to manipulate proteins critical for synaptic plasticity throughout the brain to explore the roles of these critical proteins in specifi cell types that participate in a wide range of normal and pathological behaviors. Thus the Center will provide both technological and intellectual innovations to one of the most important areas of neuroscience research with far ranging implications for our understanding of normal and diseased brain function. Relevance The effectiveness of communication between nerve cells is modified by experience and these modifications are crucial for all normal brain functions including learning and memory. The goal of this Center is to determine the molecular mechanisms that are responsible for these modifications. Such information will lead to a better understanding of the causes of mental illness and eventually to the development of more efficacious treatments\n",
      "--------------------\n",
      "Topic 8:\n",
      "--------------------\n",
      "dna gene genes genetic genome expression human rna transcription genomic\n",
      "--------------------\n",
      "DESCRIPTION (provided by applicant): Most psychiatric disorders are not due to mutations in a single gene but rather involve cellular pathways under control of many genes and molecular signals. Recent studies point to the fact that complex epigenetic mechanisms regulating gene activity 'above' the genetic nucleotide sequence may be involved as well. The best understood mechanism of epigenetic modification is DNA methylation. In this genome-wide study we will examine the role of DNA methylation in schizophrenia susceptibility. Our study consists of a genome-wide discovery and replication phase to identify CpG loci in the human genome that are under epigenetic control and involved in disease susceptibility, followed by locus-specific validation in large schizophrenia cohorts. Our systematic approach for identifying candidate CpG loci involved in disease also includes study of general features of DNA methylation such as age, gender and genetic controls. The genome-wide effort with comparative analyses of multiple brain regions of patients and controls will provide a unique opportunity to establish what role DNA methylation plays in vulnerability to develop schizophrenia and perhaps other psychiatric traits. Public Health Relevance: Biochemical modifications of DNA and chromosome structure provide heritable information that is not encoded in the DNA sequence itself, but is likely to play a role in disease susceptibility. We will screen the human genome of schizophrenia patients and unaffected control subjects in order to identify these sites involved in disease. This will lead to a better understanding of the genetic basis of schizophrenia.\n",
      "--------------------\n",
      "Topic 9:\n",
      "--------------------\n",
      "protein proteins signaling membrane function molecular muscle mechanisms binding mitochondrial\n",
      "--------------------\n",
      "DESCRIPTION (provided by applicant): Mitochondria, the site of a variety of important metabolic processes, are essential organelles of eukaryotic organisms. Pathological effects of reduced bioenergetics capacity and altered iron metabolism caused by mitochondrial dysfunction are common in human populations. Molecular chaperones play vital roles in the biogenesis of mitochondria. Two essential, highly conserved mitochondrial processes that depend upon the function of Hsp70 and J-protein molecular chaperones will be studied - translocation of proteins from the cytosol into the mitochondrial matrix and the generation of Fe/S clusters, critical co-factors for numerous enzymes. The goal of this proposal is to not only gain a better understanding of these two essential processes, but also to understand the mechanisms by which the action of Hsp70s and J-proteins are co-opted to make them competent to efficiently carry out specific roles in diverse biological processes. These two systems represent examples of the two basic features known to govern the ability of Hsp70s/J- proteins to function in diverse biological processes: localization to sites of action (protein impot) and restricted client binding, rather than the promiscuous binding characteristic of function in protein folding (Fe/S cluster biogenesis).  The vast majority of the hundreds of proteins of the mitochondrial matrix are synthesized on cytosolic ribosomes. Thus, efficient import of proteins is critical for mitochondrial function. The import motor required for driving proteins across the inne membrane into the matrix is composed of 5 essential components, with the matrix Hsp70, Ssc1, and its obligate J-protein co-chaperone, Pam18, at its core. Genetic, biochemical and structural approaches will be used, with a goal of understanding the regulated protein: protein interactions that have evolved to drive efficient translocation of proteins across the membrane. The results generated will also provide a framework for understanding Hsp70/J-protein machines in other systems, as mechanisms such as tethering regulated by interaction with client proteins are likely common regulatory strategies in chaperone systems.  The mitochondrial matrix contains a set of essential proteins devoted to the biogenesis of Fe/S clusters. The clusters are assembled on the scaffold protein, Isu, via action of an  assembly complex  prior to transfer to recipient apo-proteins. The specialized J-protein: Hsp70 chaperone pair, Jac1:Ssq1, facilitates transfer of the cluster. Using biochemical interaction assays and exploiting mutant proteins  having defects in their interactions with partner proteins, the mechanism by which binding of Jac1 initiates  the transfer process will be studied to understand the kinetic switch between cluster formation and cluster transfer. Our work on this system will also serve as a model for a more general understanding of the  means by which molecular chaperones modulate protein: protein interactions in other biological processes.\n"
     ]
    }
   ],
   "source": [
    "\"\"\"View a top document related to a given topic to inspect the relevance of a topic in a context.\"\"\"\n",
    "\n",
    "for topic_idx, topic in enumerate(nmf_H):\n",
    "    print('--------------------')\n",
    "    print(\"Topic %d:\" % (topic_idx))\n",
    "    print('--------------------')\n",
    "    print(\" \".join([vectorizer_feature_names[i]\n",
    "                    for i in topic.argsort()[:-10 - 1:-1]]))\n",
    "    top_doc_indices = np.argsort(nmf_W[:,topic_idx] )[::-1][0:1]\n",
    "    for doc_index in top_doc_indices:\n",
    "        print('--------------------')\n",
    "        print(merged_abstracts_list[doc_index])"
   ]
  },
  {
   "cell_type": "markdown",
   "metadata": {},
   "source": [
    "### Choosing results"
   ]
  },
  {
   "cell_type": "markdown",
   "metadata": {},
   "source": [
    "Comparing the outputs of LDA and NMF models, the results of NMF model appear to be more coherent within one topic and also in relation to the context of associated documents. Therefore, we will take the top 10 topics from the NMF model output."
   ]
  },
  {
   "cell_type": "code",
   "execution_count": 152,
   "metadata": {},
   "outputs": [
    {
     "name": "stdout",
     "output_type": "stream",
     "text": [
      "Topic 0:\n",
      "data project research systems new methods materials computational applications models\n",
      "----------------------------\n",
      "Topic 1:\n",
      "training research program trainees faculty clinical biology postdoctoral center medicine\n",
      "----------------------------\n",
      "Topic 2:\n",
      "cells cell immune stem tumor responses differentiation infection mice il\n",
      "----------------------------\n",
      "Topic 3:\n",
      "health care intervention risk children study treatment patients outcomes clinical\n",
      "----------------------------\n",
      "Topic 4:\n",
      "cancer breast tumor prostate tumors cancers imaging patients clinical metastasis\n",
      "----------------------------\n",
      "Topic 5:\n",
      "hiv infection infected viral aids virus drug vaccine transmission immune\n",
      "----------------------------\n",
      "Topic 6:\n",
      "students science stem program research student education engineering school graduate\n",
      "----------------------------\n",
      "Topic 7:\n",
      "brain neural neurons cognitive memory visual synaptic cortex learning cortical\n",
      "----------------------------\n",
      "Topic 8:\n",
      "dna gene genes genetic genome expression human rna transcription genomic\n",
      "----------------------------\n",
      "Topic 9:\n",
      "protein proteins signaling membrane function molecular muscle mechanisms binding mitochondrial\n",
      "----------------------------\n"
     ]
    }
   ],
   "source": [
    "\"\"\"Review the 10 topics returned by the NMF model.\"\"\"\n",
    "\n",
    "for topic_idx, topic in enumerate(nmf_H):\n",
    "    print(\"Topic %d:\" % (topic_idx))\n",
    "    print(\" \".join([vectorizer_feature_names[i]\n",
    "                for i in topic.argsort()[:-10 - 1:-1]]))\n",
    "    print('----------------------------')"
   ]
  },
  {
   "cell_type": "code",
   "execution_count": 153,
   "metadata": {},
   "outputs": [],
   "source": [
    "\"\"\"Create topic names from the word lists above.\"\"\"\n",
    "\n",
    "topics_names = pd.DataFrame()\n",
    "topics_names['topic'] = [0,1,2,3,4,5,6,7,8,9]\n",
    "topics_names['topic_name'] = ['computational methods/research systems','training programs',\n",
    "                              'cell research','health care','cancer','HIV','STEM education',\n",
    "                              'brain/neural','DNA/genes','protein/molecular']"
   ]
  },
  {
   "cell_type": "code",
   "execution_count": 154,
   "metadata": {
    "scrolled": true
   },
   "outputs": [
    {
     "data": {
      "text/html": [
       "<div>\n",
       "<style scoped>\n",
       "    .dataframe tbody tr th:only-of-type {\n",
       "        vertical-align: middle;\n",
       "    }\n",
       "\n",
       "    .dataframe tbody tr th {\n",
       "        vertical-align: top;\n",
       "    }\n",
       "\n",
       "    .dataframe thead th {\n",
       "        text-align: right;\n",
       "    }\n",
       "</style>\n",
       "<table border=\"1\" class=\"dataframe\">\n",
       "  <thead>\n",
       "    <tr style=\"text-align: right;\">\n",
       "      <th></th>\n",
       "      <th>topic</th>\n",
       "      <th>topic_name</th>\n",
       "    </tr>\n",
       "  </thead>\n",
       "  <tbody>\n",
       "    <tr>\n",
       "      <th>0</th>\n",
       "      <td>topic_0</td>\n",
       "      <td>computational methods/research systems</td>\n",
       "    </tr>\n",
       "    <tr>\n",
       "      <th>1</th>\n",
       "      <td>topic_1</td>\n",
       "      <td>training programs</td>\n",
       "    </tr>\n",
       "    <tr>\n",
       "      <th>2</th>\n",
       "      <td>topic_2</td>\n",
       "      <td>cell research</td>\n",
       "    </tr>\n",
       "    <tr>\n",
       "      <th>3</th>\n",
       "      <td>topic_3</td>\n",
       "      <td>health care</td>\n",
       "    </tr>\n",
       "    <tr>\n",
       "      <th>4</th>\n",
       "      <td>topic_4</td>\n",
       "      <td>cancer</td>\n",
       "    </tr>\n",
       "    <tr>\n",
       "      <th>5</th>\n",
       "      <td>topic_5</td>\n",
       "      <td>HIV</td>\n",
       "    </tr>\n",
       "    <tr>\n",
       "      <th>6</th>\n",
       "      <td>topic_6</td>\n",
       "      <td>STEM education</td>\n",
       "    </tr>\n",
       "    <tr>\n",
       "      <th>7</th>\n",
       "      <td>topic_7</td>\n",
       "      <td>brain/neural</td>\n",
       "    </tr>\n",
       "    <tr>\n",
       "      <th>8</th>\n",
       "      <td>topic_8</td>\n",
       "      <td>DNA/genes</td>\n",
       "    </tr>\n",
       "    <tr>\n",
       "      <th>9</th>\n",
       "      <td>topic_9</td>\n",
       "      <td>protein/molecular</td>\n",
       "    </tr>\n",
       "  </tbody>\n",
       "</table>\n",
       "</div>"
      ],
      "text/plain": [
       "     topic                              topic_name\n",
       "0  topic_0  computational methods/research systems\n",
       "1  topic_1  training programs                     \n",
       "2  topic_2  cell research                         \n",
       "3  topic_3  health care                           \n",
       "4  topic_4  cancer                                \n",
       "5  topic_5  HIV                                   \n",
       "6  topic_6  STEM education                        \n",
       "7  topic_7  brain/neural                          \n",
       "8  topic_8  DNA/genes                             \n",
       "9  topic_9  protein/molecular                     "
      ]
     },
     "execution_count": 154,
     "metadata": {},
     "output_type": "execute_result"
    }
   ],
   "source": [
    "topics_names['topic'] = ['topic_0','topic_1','topic_2','topic_3','topic_4','topic_5','topic_6','topic_7','topic_8','topic_9']\n",
    "topics_names"
   ]
  },
  {
   "cell_type": "markdown",
   "metadata": {},
   "source": [
    "## Variable construction"
   ]
  },
  {
   "cell_type": "markdown",
   "metadata": {},
   "source": [
    "### Number of grants per university"
   ]
  },
  {
   "cell_type": "code",
   "execution_count": 155,
   "metadata": {},
   "outputs": [],
   "source": [
    "\"\"\"Group by a university and count the number of grants (PROJECT_NUMBER).\"\"\"\n",
    "\n",
    "grants_per_university = merged_abstracts.groupby(['UNITID',' ORGANIZATION_NAME',' FY'])[' PROJECT_NUMBER'].count().reset_index()"
   ]
  },
  {
   "cell_type": "code",
   "execution_count": 156,
   "metadata": {},
   "outputs": [],
   "source": [
    "grants_per_university = grants_per_university.rename(columns={' FY':'year'})\n",
    "grants_per_university['year'] = grants_per_university['year'].astype(int)"
   ]
  },
  {
   "cell_type": "code",
   "execution_count": 157,
   "metadata": {},
   "outputs": [
    {
     "data": {
      "text/html": [
       "<div>\n",
       "<style scoped>\n",
       "    .dataframe tbody tr th:only-of-type {\n",
       "        vertical-align: middle;\n",
       "    }\n",
       "\n",
       "    .dataframe tbody tr th {\n",
       "        vertical-align: top;\n",
       "    }\n",
       "\n",
       "    .dataframe thead th {\n",
       "        text-align: right;\n",
       "    }\n",
       "</style>\n",
       "<table border=\"1\" class=\"dataframe\">\n",
       "  <thead>\n",
       "    <tr style=\"text-align: right;\">\n",
       "      <th></th>\n",
       "      <th>UNITID</th>\n",
       "      <th>ORGANIZATION_NAME</th>\n",
       "      <th>year</th>\n",
       "      <th>PROJECT_NUMBER</th>\n",
       "    </tr>\n",
       "  </thead>\n",
       "  <tbody>\n",
       "    <tr>\n",
       "      <th>0</th>\n",
       "      <td>100663</td>\n",
       "      <td>universityofalabamaatbirmingham</td>\n",
       "      <td>2005</td>\n",
       "      <td>1</td>\n",
       "    </tr>\n",
       "    <tr>\n",
       "      <th>1</th>\n",
       "      <td>100663</td>\n",
       "      <td>universityofalabamaatbirmingham</td>\n",
       "      <td>2006</td>\n",
       "      <td>2</td>\n",
       "    </tr>\n",
       "    <tr>\n",
       "      <th>2</th>\n",
       "      <td>100663</td>\n",
       "      <td>universityofalabamaatbirmingham</td>\n",
       "      <td>2007</td>\n",
       "      <td>1</td>\n",
       "    </tr>\n",
       "    <tr>\n",
       "      <th>3</th>\n",
       "      <td>100663</td>\n",
       "      <td>universityofalabamaatbirmingham</td>\n",
       "      <td>2008</td>\n",
       "      <td>488</td>\n",
       "    </tr>\n",
       "    <tr>\n",
       "      <th>4</th>\n",
       "      <td>100663</td>\n",
       "      <td>universityofalabamaatbirmingham</td>\n",
       "      <td>2009</td>\n",
       "      <td>580</td>\n",
       "    </tr>\n",
       "  </tbody>\n",
       "</table>\n",
       "</div>"
      ],
      "text/plain": [
       "   UNITID                ORGANIZATION_NAME  year   PROJECT_NUMBER\n",
       "0  100663  universityofalabamaatbirmingham  2005  1              \n",
       "1  100663  universityofalabamaatbirmingham  2006  2              \n",
       "2  100663  universityofalabamaatbirmingham  2007  1              \n",
       "3  100663  universityofalabamaatbirmingham  2008  488            \n",
       "4  100663  universityofalabamaatbirmingham  2009  580            "
      ]
     },
     "execution_count": 157,
     "metadata": {},
     "output_type": "execute_result"
    }
   ],
   "source": [
    "grants_per_university.head()"
   ]
  },
  {
   "cell_type": "code",
   "execution_count": 158,
   "metadata": {},
   "outputs": [],
   "source": [
    "grants_per_university_balanced = (grants_per_university.set_index('year',append=True)\n",
    "                 .reindex(pd.MultiIndex.from_product([grants_per_university.index.unique(),\n",
    "                                                      range(2000,2019)],\n",
    "                                                     names=['id','year']))\n",
    "                 .reset_index(level=1))\n",
    "\n",
    "grants_per_university_balanced['UNITID'] = grants_per_university_balanced.groupby(level=0)['UNITID'].ffill().bfill()\n",
    "grants_per_university_balanced[' ORGANIZATION_NAME'] = grants_per_university_balanced.groupby(level=0)[' ORGANIZATION_NAME'].ffill().bfill()\n",
    "grants_per_university_balanced[' PROJECT_NUMBER'] = grants_per_university_balanced[' PROJECT_NUMBER'].fillna(0)"
   ]
  },
  {
   "cell_type": "code",
   "execution_count": 159,
   "metadata": {},
   "outputs": [],
   "source": [
    "grants_per_university_balanced_deduplicated = grants_per_university_balanced.drop_duplicates(subset=['year','UNITID',' ORGANIZATION_NAME'])\n",
    "\n",
    "grants_per_university_finalized = grants_per_university.merge(grants_per_university_balanced_deduplicated, on=['UNITID','year',' ORGANIZATION_NAME'],\n",
    "                         how='right')"
   ]
  },
  {
   "cell_type": "code",
   "execution_count": 160,
   "metadata": {},
   "outputs": [],
   "source": [
    "grants_per_university_finalized = grants_per_university_finalized.drop(' PROJECT_NUMBER_y',axis=1)\n",
    "grants_per_university_finalized = grants_per_university_finalized.fillna(0)\n",
    "grants_per_university_finalized = grants_per_university_finalized.sort_values([' ORGANIZATION_NAME','year'])"
   ]
  },
  {
   "cell_type": "code",
   "execution_count": 161,
   "metadata": {},
   "outputs": [],
   "source": [
    "grants_per_university_finalized = grants_per_university_finalized.rename(columns={' ORGANIZATION_NAME':'university',' PROJECT_NUMBER_x':'#grants'})"
   ]
  },
  {
   "cell_type": "markdown",
   "metadata": {},
   "source": [
    "### Top 5 topics by grants"
   ]
  },
  {
   "cell_type": "code",
   "execution_count": 162,
   "metadata": {},
   "outputs": [],
   "source": [
    "\"\"\"Get the index of documents and topic weights per document.\"\"\"\n",
    "\n",
    "topics_weights = []\n",
    "for index,i in enumerate(nmf_W): # for every document\n",
    "    topics_weights.append([i, index]) # get all topic weights\n",
    "    \n",
    "topics_weights_dataframe = pd.DataFrame(topics_weights)"
   ]
  },
  {
   "cell_type": "code",
   "execution_count": 163,
   "metadata": {},
   "outputs": [],
   "source": [
    "\"\"\"Merge the dataframe with topic probabilities per document with abstracts dataframe on index.\"\"\"\n",
    "\n",
    "merged_abstracts = merged_abstracts.reset_index()\n",
    "topics_abstracts = pd.merge(left=merged_abstracts,right=topics_weights_dataframe,\n",
    "                                   left_on='index',right_on=1)\n",
    "\n",
    "\"\"\"Keep only needed columns.\"\"\"\n",
    "topics_abstracts = topics_abstracts[[' ABSTRACT',' FY',' FY_TOTAL_COST',' ORGANIZATION_NAME','UNITID',' PROJECT_NUMBER',0]]"
   ]
  },
  {
   "cell_type": "code",
   "execution_count": 164,
   "metadata": {},
   "outputs": [],
   "source": [
    "\"\"\"Convert list of values to columns.\"\"\"\n",
    "\n",
    "topics_abstracts = topics_abstracts.rename(columns={0:'topics'})\n",
    "topics_abstracts[[0,1,2,3,4,5,6,7,8,9]] = topics_abstracts['topics'].apply(pd.Series)\n",
    "topics_abstracts = topics_abstracts.drop('topics',axis=1)"
   ]
  },
  {
   "cell_type": "code",
   "execution_count": 165,
   "metadata": {},
   "outputs": [
    {
     "data": {
      "text/html": [
       "<div>\n",
       "<style scoped>\n",
       "    .dataframe tbody tr th:only-of-type {\n",
       "        vertical-align: middle;\n",
       "    }\n",
       "\n",
       "    .dataframe tbody tr th {\n",
       "        vertical-align: top;\n",
       "    }\n",
       "\n",
       "    .dataframe thead th {\n",
       "        text-align: right;\n",
       "    }\n",
       "</style>\n",
       "<table border=\"1\" class=\"dataframe\">\n",
       "  <thead>\n",
       "    <tr style=\"text-align: right;\">\n",
       "      <th></th>\n",
       "      <th>UNITID</th>\n",
       "      <th>ORGANIZATION_NAME</th>\n",
       "      <th>FY</th>\n",
       "      <th>0</th>\n",
       "      <th>1</th>\n",
       "      <th>2</th>\n",
       "      <th>3</th>\n",
       "      <th>4</th>\n",
       "      <th>5</th>\n",
       "      <th>6</th>\n",
       "      <th>7</th>\n",
       "      <th>8</th>\n",
       "      <th>9</th>\n",
       "    </tr>\n",
       "  </thead>\n",
       "  <tbody>\n",
       "    <tr>\n",
       "      <th>0</th>\n",
       "      <td>100663</td>\n",
       "      <td>universityofalabamaatbirmingham</td>\n",
       "      <td>2005</td>\n",
       "      <td>0.000000</td>\n",
       "      <td>0.000000</td>\n",
       "      <td>0.002398</td>\n",
       "      <td>0.020868</td>\n",
       "      <td>0.001532</td>\n",
       "      <td>0.000231</td>\n",
       "      <td>0.000000</td>\n",
       "      <td>0.001409</td>\n",
       "      <td>0.000000</td>\n",
       "      <td>0.003210</td>\n",
       "    </tr>\n",
       "    <tr>\n",
       "      <th>1</th>\n",
       "      <td>100663</td>\n",
       "      <td>universityofalabamaatbirmingham</td>\n",
       "      <td>2006</td>\n",
       "      <td>0.019328</td>\n",
       "      <td>0.015604</td>\n",
       "      <td>0.000000</td>\n",
       "      <td>0.025595</td>\n",
       "      <td>0.000002</td>\n",
       "      <td>0.000000</td>\n",
       "      <td>0.008663</td>\n",
       "      <td>0.005044</td>\n",
       "      <td>0.000000</td>\n",
       "      <td>0.000000</td>\n",
       "    </tr>\n",
       "    <tr>\n",
       "      <th>2</th>\n",
       "      <td>100663</td>\n",
       "      <td>universityofalabamaatbirmingham</td>\n",
       "      <td>2007</td>\n",
       "      <td>0.004973</td>\n",
       "      <td>0.020773</td>\n",
       "      <td>0.000000</td>\n",
       "      <td>0.012007</td>\n",
       "      <td>0.000000</td>\n",
       "      <td>0.000000</td>\n",
       "      <td>0.006345</td>\n",
       "      <td>0.013882</td>\n",
       "      <td>0.000000</td>\n",
       "      <td>0.000000</td>\n",
       "    </tr>\n",
       "    <tr>\n",
       "      <th>3</th>\n",
       "      <td>100663</td>\n",
       "      <td>universityofalabamaatbirmingham</td>\n",
       "      <td>2008</td>\n",
       "      <td>1.544493</td>\n",
       "      <td>3.073703</td>\n",
       "      <td>3.459212</td>\n",
       "      <td>3.274044</td>\n",
       "      <td>2.405425</td>\n",
       "      <td>0.879803</td>\n",
       "      <td>0.988870</td>\n",
       "      <td>2.156861</td>\n",
       "      <td>2.837471</td>\n",
       "      <td>4.958219</td>\n",
       "    </tr>\n",
       "    <tr>\n",
       "      <th>4</th>\n",
       "      <td>100663</td>\n",
       "      <td>universityofalabamaatbirmingham</td>\n",
       "      <td>2009</td>\n",
       "      <td>1.953677</td>\n",
       "      <td>4.088704</td>\n",
       "      <td>3.306581</td>\n",
       "      <td>4.407501</td>\n",
       "      <td>3.241842</td>\n",
       "      <td>1.227282</td>\n",
       "      <td>1.536775</td>\n",
       "      <td>2.808532</td>\n",
       "      <td>3.213892</td>\n",
       "      <td>5.643699</td>\n",
       "    </tr>\n",
       "  </tbody>\n",
       "</table>\n",
       "</div>"
      ],
      "text/plain": [
       "   UNITID                ORGANIZATION_NAME    FY        0        1        2  \\\n",
       "0  100663  universityofalabamaatbirmingham  2005 0.000000 0.000000 0.002398   \n",
       "1  100663  universityofalabamaatbirmingham  2006 0.019328 0.015604 0.000000   \n",
       "2  100663  universityofalabamaatbirmingham  2007 0.004973 0.020773 0.000000   \n",
       "3  100663  universityofalabamaatbirmingham  2008 1.544493 3.073703 3.459212   \n",
       "4  100663  universityofalabamaatbirmingham  2009 1.953677 4.088704 3.306581   \n",
       "\n",
       "         3        4        5        6        7        8        9  \n",
       "0 0.020868 0.001532 0.000231 0.000000 0.001409 0.000000 0.003210  \n",
       "1 0.025595 0.000002 0.000000 0.008663 0.005044 0.000000 0.000000  \n",
       "2 0.012007 0.000000 0.000000 0.006345 0.013882 0.000000 0.000000  \n",
       "3 3.274044 2.405425 0.879803 0.988870 2.156861 2.837471 4.958219  \n",
       "4 4.407501 3.241842 1.227282 1.536775 2.808532 3.213892 5.643699  "
      ]
     },
     "execution_count": 165,
     "metadata": {},
     "output_type": "execute_result"
    }
   ],
   "source": [
    "\"\"\"Group by a university and sum the probabilities per topic.\"\"\"\n",
    "\n",
    "topics_per_grant_university = topics_abstracts.groupby(['UNITID',' ORGANIZATION_NAME',' FY'])[[0,1,2,3,4,5,6,7,8,9]].sum().reset_index()\n",
    "topics_per_grant_university.head()"
   ]
  },
  {
   "cell_type": "code",
   "execution_count": 166,
   "metadata": {},
   "outputs": [
    {
     "data": {
      "text/html": [
       "<div>\n",
       "<style scoped>\n",
       "    .dataframe tbody tr th:only-of-type {\n",
       "        vertical-align: middle;\n",
       "    }\n",
       "\n",
       "    .dataframe tbody tr th {\n",
       "        vertical-align: top;\n",
       "    }\n",
       "\n",
       "    .dataframe thead th {\n",
       "        text-align: right;\n",
       "    }\n",
       "</style>\n",
       "<table border=\"1\" class=\"dataframe\">\n",
       "  <thead>\n",
       "    <tr style=\"text-align: right;\">\n",
       "      <th></th>\n",
       "      <th>UNITID</th>\n",
       "      <th>ORGANIZATION_NAME</th>\n",
       "      <th>FY</th>\n",
       "      <th>0</th>\n",
       "      <th>1</th>\n",
       "      <th>2</th>\n",
       "      <th>3</th>\n",
       "      <th>4</th>\n",
       "      <th>5</th>\n",
       "      <th>6</th>\n",
       "      <th>7</th>\n",
       "      <th>8</th>\n",
       "      <th>9</th>\n",
       "      <th>sum</th>\n",
       "    </tr>\n",
       "  </thead>\n",
       "  <tbody>\n",
       "    <tr>\n",
       "      <th>0</th>\n",
       "      <td>100663</td>\n",
       "      <td>universityofalabamaatbirmingham</td>\n",
       "      <td>2005</td>\n",
       "      <td>0.000000</td>\n",
       "      <td>0.000000</td>\n",
       "      <td>0.002398</td>\n",
       "      <td>0.020868</td>\n",
       "      <td>0.001532</td>\n",
       "      <td>0.000231</td>\n",
       "      <td>0.000000</td>\n",
       "      <td>0.001409</td>\n",
       "      <td>0.000000</td>\n",
       "      <td>0.003210</td>\n",
       "      <td>0.029649</td>\n",
       "    </tr>\n",
       "    <tr>\n",
       "      <th>1</th>\n",
       "      <td>100663</td>\n",
       "      <td>universityofalabamaatbirmingham</td>\n",
       "      <td>2006</td>\n",
       "      <td>0.019328</td>\n",
       "      <td>0.015604</td>\n",
       "      <td>0.000000</td>\n",
       "      <td>0.025595</td>\n",
       "      <td>0.000002</td>\n",
       "      <td>0.000000</td>\n",
       "      <td>0.008663</td>\n",
       "      <td>0.005044</td>\n",
       "      <td>0.000000</td>\n",
       "      <td>0.000000</td>\n",
       "      <td>0.074237</td>\n",
       "    </tr>\n",
       "    <tr>\n",
       "      <th>2</th>\n",
       "      <td>100663</td>\n",
       "      <td>universityofalabamaatbirmingham</td>\n",
       "      <td>2007</td>\n",
       "      <td>0.004973</td>\n",
       "      <td>0.020773</td>\n",
       "      <td>0.000000</td>\n",
       "      <td>0.012007</td>\n",
       "      <td>0.000000</td>\n",
       "      <td>0.000000</td>\n",
       "      <td>0.006345</td>\n",
       "      <td>0.013882</td>\n",
       "      <td>0.000000</td>\n",
       "      <td>0.000000</td>\n",
       "      <td>0.057979</td>\n",
       "    </tr>\n",
       "    <tr>\n",
       "      <th>3</th>\n",
       "      <td>100663</td>\n",
       "      <td>universityofalabamaatbirmingham</td>\n",
       "      <td>2008</td>\n",
       "      <td>1.544493</td>\n",
       "      <td>3.073703</td>\n",
       "      <td>3.459212</td>\n",
       "      <td>3.274044</td>\n",
       "      <td>2.405425</td>\n",
       "      <td>0.879803</td>\n",
       "      <td>0.988870</td>\n",
       "      <td>2.156861</td>\n",
       "      <td>2.837471</td>\n",
       "      <td>4.958219</td>\n",
       "      <td>25.578103</td>\n",
       "    </tr>\n",
       "    <tr>\n",
       "      <th>4</th>\n",
       "      <td>100663</td>\n",
       "      <td>universityofalabamaatbirmingham</td>\n",
       "      <td>2009</td>\n",
       "      <td>1.953677</td>\n",
       "      <td>4.088704</td>\n",
       "      <td>3.306581</td>\n",
       "      <td>4.407501</td>\n",
       "      <td>3.241842</td>\n",
       "      <td>1.227282</td>\n",
       "      <td>1.536775</td>\n",
       "      <td>2.808532</td>\n",
       "      <td>3.213892</td>\n",
       "      <td>5.643699</td>\n",
       "      <td>31.428486</td>\n",
       "    </tr>\n",
       "  </tbody>\n",
       "</table>\n",
       "</div>"
      ],
      "text/plain": [
       "   UNITID                ORGANIZATION_NAME    FY        0        1        2  \\\n",
       "0  100663  universityofalabamaatbirmingham  2005 0.000000 0.000000 0.002398   \n",
       "1  100663  universityofalabamaatbirmingham  2006 0.019328 0.015604 0.000000   \n",
       "2  100663  universityofalabamaatbirmingham  2007 0.004973 0.020773 0.000000   \n",
       "3  100663  universityofalabamaatbirmingham  2008 1.544493 3.073703 3.459212   \n",
       "4  100663  universityofalabamaatbirmingham  2009 1.953677 4.088704 3.306581   \n",
       "\n",
       "         3        4        5        6        7        8        9       sum  \n",
       "0 0.020868 0.001532 0.000231 0.000000 0.001409 0.000000 0.003210 0.029649   \n",
       "1 0.025595 0.000002 0.000000 0.008663 0.005044 0.000000 0.000000 0.074237   \n",
       "2 0.012007 0.000000 0.000000 0.006345 0.013882 0.000000 0.000000 0.057979   \n",
       "3 3.274044 2.405425 0.879803 0.988870 2.156861 2.837471 4.958219 25.578103  \n",
       "4 4.407501 3.241842 1.227282 1.536775 2.808532 3.213892 5.643699 31.428486  "
      ]
     },
     "execution_count": 166,
     "metadata": {},
     "output_type": "execute_result"
    }
   ],
   "source": [
    "topics_per_grant_university[\"sum\"] = topics_per_grant_university[[0,1,2,3,4,5,6,7,8,9]].sum(axis=1)\n",
    "topics_per_grant_university.head()"
   ]
  },
  {
   "cell_type": "code",
   "execution_count": 167,
   "metadata": {},
   "outputs": [],
   "source": [
    "topics_per_grant_university = topics_per_grant_university.rename(columns={0:'topic_0',1:'topic_1',2:'topic_2',3:'topic_3',\n",
    "                                                                         4:'topic_4',5:'topic_5',6:'topic_6',7:'topic_7',\n",
    "                                                                         8:'topic_8',9:'topic_9'})\n",
    "\n",
    "topics_per_grant_university[['topic_0','topic_1','topic_2','topic_3','topic_4','topic_5','topic_6','topic_7','topic_8','topic_9']] = topics_per_grant_university.loc[:,'topic_0':'topic_9'].div(topics_per_grant_university['sum'], axis=0)"
   ]
  },
  {
   "cell_type": "code",
   "execution_count": 168,
   "metadata": {},
   "outputs": [
    {
     "data": {
      "text/html": [
       "<div>\n",
       "<style scoped>\n",
       "    .dataframe tbody tr th:only-of-type {\n",
       "        vertical-align: middle;\n",
       "    }\n",
       "\n",
       "    .dataframe tbody tr th {\n",
       "        vertical-align: top;\n",
       "    }\n",
       "\n",
       "    .dataframe thead th {\n",
       "        text-align: right;\n",
       "    }\n",
       "</style>\n",
       "<table border=\"1\" class=\"dataframe\">\n",
       "  <thead>\n",
       "    <tr style=\"text-align: right;\">\n",
       "      <th></th>\n",
       "      <th>UNITID</th>\n",
       "      <th>ORGANIZATION_NAME</th>\n",
       "      <th>FY</th>\n",
       "      <th>topic_0</th>\n",
       "      <th>topic_1</th>\n",
       "      <th>topic_2</th>\n",
       "      <th>topic_3</th>\n",
       "      <th>topic_4</th>\n",
       "      <th>topic_5</th>\n",
       "      <th>topic_6</th>\n",
       "      <th>topic_7</th>\n",
       "      <th>topic_8</th>\n",
       "      <th>topic_9</th>\n",
       "    </tr>\n",
       "  </thead>\n",
       "  <tbody>\n",
       "    <tr>\n",
       "      <th>0</th>\n",
       "      <td>100663</td>\n",
       "      <td>universityofalabamaatbirmingham</td>\n",
       "      <td>2005</td>\n",
       "      <td>0.000000</td>\n",
       "      <td>0.000000</td>\n",
       "      <td>0.080896</td>\n",
       "      <td>0.703840</td>\n",
       "      <td>0.051675</td>\n",
       "      <td>0.007801</td>\n",
       "      <td>0.000000</td>\n",
       "      <td>0.047510</td>\n",
       "      <td>0.000000</td>\n",
       "      <td>0.108278</td>\n",
       "    </tr>\n",
       "    <tr>\n",
       "      <th>1</th>\n",
       "      <td>100663</td>\n",
       "      <td>universityofalabamaatbirmingham</td>\n",
       "      <td>2006</td>\n",
       "      <td>0.260357</td>\n",
       "      <td>0.210198</td>\n",
       "      <td>0.000000</td>\n",
       "      <td>0.344771</td>\n",
       "      <td>0.000031</td>\n",
       "      <td>0.000000</td>\n",
       "      <td>0.116699</td>\n",
       "      <td>0.067943</td>\n",
       "      <td>0.000000</td>\n",
       "      <td>0.000000</td>\n",
       "    </tr>\n",
       "    <tr>\n",
       "      <th>2</th>\n",
       "      <td>100663</td>\n",
       "      <td>universityofalabamaatbirmingham</td>\n",
       "      <td>2007</td>\n",
       "      <td>0.085764</td>\n",
       "      <td>0.358285</td>\n",
       "      <td>0.000000</td>\n",
       "      <td>0.207085</td>\n",
       "      <td>0.000000</td>\n",
       "      <td>0.000000</td>\n",
       "      <td>0.109439</td>\n",
       "      <td>0.239427</td>\n",
       "      <td>0.000000</td>\n",
       "      <td>0.000000</td>\n",
       "    </tr>\n",
       "    <tr>\n",
       "      <th>3</th>\n",
       "      <td>100663</td>\n",
       "      <td>universityofalabamaatbirmingham</td>\n",
       "      <td>2008</td>\n",
       "      <td>0.060383</td>\n",
       "      <td>0.120169</td>\n",
       "      <td>0.135241</td>\n",
       "      <td>0.128002</td>\n",
       "      <td>0.094042</td>\n",
       "      <td>0.034397</td>\n",
       "      <td>0.038661</td>\n",
       "      <td>0.084325</td>\n",
       "      <td>0.110934</td>\n",
       "      <td>0.193846</td>\n",
       "    </tr>\n",
       "    <tr>\n",
       "      <th>4</th>\n",
       "      <td>100663</td>\n",
       "      <td>universityofalabamaatbirmingham</td>\n",
       "      <td>2009</td>\n",
       "      <td>0.062163</td>\n",
       "      <td>0.130095</td>\n",
       "      <td>0.105210</td>\n",
       "      <td>0.140239</td>\n",
       "      <td>0.103150</td>\n",
       "      <td>0.039050</td>\n",
       "      <td>0.048898</td>\n",
       "      <td>0.089363</td>\n",
       "      <td>0.102260</td>\n",
       "      <td>0.179573</td>\n",
       "    </tr>\n",
       "  </tbody>\n",
       "</table>\n",
       "</div>"
      ],
      "text/plain": [
       "   UNITID                ORGANIZATION_NAME    FY  topic_0  topic_1  topic_2  \\\n",
       "0  100663  universityofalabamaatbirmingham  2005 0.000000 0.000000 0.080896   \n",
       "1  100663  universityofalabamaatbirmingham  2006 0.260357 0.210198 0.000000   \n",
       "2  100663  universityofalabamaatbirmingham  2007 0.085764 0.358285 0.000000   \n",
       "3  100663  universityofalabamaatbirmingham  2008 0.060383 0.120169 0.135241   \n",
       "4  100663  universityofalabamaatbirmingham  2009 0.062163 0.130095 0.105210   \n",
       "\n",
       "   topic_3  topic_4  topic_5  topic_6  topic_7  topic_8  topic_9  \n",
       "0 0.703840 0.051675 0.007801 0.000000 0.047510 0.000000 0.108278  \n",
       "1 0.344771 0.000031 0.000000 0.116699 0.067943 0.000000 0.000000  \n",
       "2 0.207085 0.000000 0.000000 0.109439 0.239427 0.000000 0.000000  \n",
       "3 0.128002 0.094042 0.034397 0.038661 0.084325 0.110934 0.193846  \n",
       "4 0.140239 0.103150 0.039050 0.048898 0.089363 0.102260 0.179573  "
      ]
     },
     "execution_count": 168,
     "metadata": {},
     "output_type": "execute_result"
    }
   ],
   "source": [
    "topics_per_grant_university = topics_per_grant_university.drop('sum',axis=1)\n",
    "topics_per_grant_university.head()"
   ]
  },
  {
   "cell_type": "code",
   "execution_count": 169,
   "metadata": {},
   "outputs": [
    {
     "data": {
      "text/html": [
       "<div>\n",
       "<style scoped>\n",
       "    .dataframe tbody tr th:only-of-type {\n",
       "        vertical-align: middle;\n",
       "    }\n",
       "\n",
       "    .dataframe tbody tr th {\n",
       "        vertical-align: top;\n",
       "    }\n",
       "\n",
       "    .dataframe thead th {\n",
       "        text-align: right;\n",
       "    }\n",
       "</style>\n",
       "<table border=\"1\" class=\"dataframe\">\n",
       "  <thead>\n",
       "    <tr style=\"text-align: right;\">\n",
       "      <th></th>\n",
       "      <th>UNITID</th>\n",
       "      <th>ORGANIZATION_NAME</th>\n",
       "      <th>FY</th>\n",
       "      <th>topic</th>\n",
       "      <th>weight</th>\n",
       "    </tr>\n",
       "  </thead>\n",
       "  <tbody>\n",
       "    <tr>\n",
       "      <th>0</th>\n",
       "      <td>100663</td>\n",
       "      <td>universityofalabamaatbirmingham</td>\n",
       "      <td>2005</td>\n",
       "      <td>topic_0</td>\n",
       "      <td>0.000000</td>\n",
       "    </tr>\n",
       "    <tr>\n",
       "      <th>1</th>\n",
       "      <td>100663</td>\n",
       "      <td>universityofalabamaatbirmingham</td>\n",
       "      <td>2006</td>\n",
       "      <td>topic_0</td>\n",
       "      <td>0.260357</td>\n",
       "    </tr>\n",
       "    <tr>\n",
       "      <th>2</th>\n",
       "      <td>100663</td>\n",
       "      <td>universityofalabamaatbirmingham</td>\n",
       "      <td>2007</td>\n",
       "      <td>topic_0</td>\n",
       "      <td>0.085764</td>\n",
       "    </tr>\n",
       "    <tr>\n",
       "      <th>3</th>\n",
       "      <td>100663</td>\n",
       "      <td>universityofalabamaatbirmingham</td>\n",
       "      <td>2008</td>\n",
       "      <td>topic_0</td>\n",
       "      <td>0.060383</td>\n",
       "    </tr>\n",
       "    <tr>\n",
       "      <th>4</th>\n",
       "      <td>100663</td>\n",
       "      <td>universityofalabamaatbirmingham</td>\n",
       "      <td>2009</td>\n",
       "      <td>topic_0</td>\n",
       "      <td>0.062163</td>\n",
       "    </tr>\n",
       "  </tbody>\n",
       "</table>\n",
       "</div>"
      ],
      "text/plain": [
       "   UNITID                ORGANIZATION_NAME    FY    topic   weight\n",
       "0  100663  universityofalabamaatbirmingham  2005  topic_0 0.000000\n",
       "1  100663  universityofalabamaatbirmingham  2006  topic_0 0.260357\n",
       "2  100663  universityofalabamaatbirmingham  2007  topic_0 0.085764\n",
       "3  100663  universityofalabamaatbirmingham  2008  topic_0 0.060383\n",
       "4  100663  universityofalabamaatbirmingham  2009  topic_0 0.062163"
      ]
     },
     "execution_count": 169,
     "metadata": {},
     "output_type": "execute_result"
    }
   ],
   "source": [
    "\"\"\"Convert columns to row observations: university/topic/weight.\"\"\"\n",
    "\n",
    "topics_weights = pd.melt(frame=topics_per_grant_university, id_vars=['UNITID',' ORGANIZATION_NAME',' FY'],value_vars=['topic_0','topic_1','topic_2','topic_3','topic_4','topic_5','topic_6','topic_7','topic_8','topic_9'],var_name='topic',value_name='weight')\n",
    "topics_weights.sort_values(['UNITID',' ORGANIZATION_NAME']).head()"
   ]
  },
  {
   "cell_type": "code",
   "execution_count": 170,
   "metadata": {},
   "outputs": [],
   "source": [
    "topics_weights_balanced = (topics_weights.set_index(' FY',append=True)\n",
    "                 .reindex(pd.MultiIndex.from_product([topics_weights.index.unique(),\n",
    "                                                      range(2000,2019)],\n",
    "                                                     names=['id','year']))\n",
    "                 .reset_index(level=1))\n",
    "\n",
    "topics_weights_balanced['UNITID'] = topics_weights_balanced.groupby(level=0)['UNITID'].ffill().bfill()\n",
    "topics_weights_balanced[' ORGANIZATION_NAME'] = topics_weights_balanced.groupby(level=0)[' ORGANIZATION_NAME'].ffill().bfill()\n",
    "topics_weights_balanced['topic'] = topics_weights_balanced.groupby(level=0)['topic'].ffill().bfill()\n",
    "topics_weights_balanced['weight'] = topics_weights_balanced['weight'].fillna(0)"
   ]
  },
  {
   "cell_type": "code",
   "execution_count": 171,
   "metadata": {},
   "outputs": [],
   "source": [
    "topics_weights_balanced_groupby = topics_weights_balanced.groupby(['UNITID',' ORGANIZATION_NAME','year','topic'])['weight'].sum().reset_index()\n",
    "\n",
    "topics_weights_with_values = topics_weights_balanced_groupby[topics_weights_balanced_groupby['weight'] != 0]\n",
    "topics_weights_with_values_sorted = topics_weights_with_values.sort_values(['year','weight'],ascending=False)\n",
    "topics_weights_top_five = topics_weights_with_values_sorted.groupby([' ORGANIZATION_NAME','year']).head(5)"
   ]
  },
  {
   "cell_type": "code",
   "execution_count": 172,
   "metadata": {},
   "outputs": [
    {
     "data": {
      "text/html": [
       "<div>\n",
       "<style scoped>\n",
       "    .dataframe tbody tr th:only-of-type {\n",
       "        vertical-align: middle;\n",
       "    }\n",
       "\n",
       "    .dataframe tbody tr th {\n",
       "        vertical-align: top;\n",
       "    }\n",
       "\n",
       "    .dataframe thead th {\n",
       "        text-align: right;\n",
       "    }\n",
       "</style>\n",
       "<table border=\"1\" class=\"dataframe\">\n",
       "  <thead>\n",
       "    <tr style=\"text-align: right;\">\n",
       "      <th></th>\n",
       "      <th>UNITID</th>\n",
       "      <th>ORGANIZATION_NAME</th>\n",
       "      <th>year</th>\n",
       "      <th>topic_name</th>\n",
       "    </tr>\n",
       "  </thead>\n",
       "  <tbody>\n",
       "    <tr>\n",
       "      <th>3768</th>\n",
       "      <td>100663.000000</td>\n",
       "      <td>universityofalabamaatbirmingham</td>\n",
       "      <td>2000</td>\n",
       "      <td>0</td>\n",
       "    </tr>\n",
       "    <tr>\n",
       "      <th>3769</th>\n",
       "      <td>100663.000000</td>\n",
       "      <td>universityofalabamaatbirmingham</td>\n",
       "      <td>2001</td>\n",
       "      <td>0</td>\n",
       "    </tr>\n",
       "    <tr>\n",
       "      <th>3770</th>\n",
       "      <td>100663.000000</td>\n",
       "      <td>universityofalabamaatbirmingham</td>\n",
       "      <td>2002</td>\n",
       "      <td>0</td>\n",
       "    </tr>\n",
       "    <tr>\n",
       "      <th>3771</th>\n",
       "      <td>100663.000000</td>\n",
       "      <td>universityofalabamaatbirmingham</td>\n",
       "      <td>2003</td>\n",
       "      <td>0</td>\n",
       "    </tr>\n",
       "    <tr>\n",
       "      <th>3772</th>\n",
       "      <td>100663.000000</td>\n",
       "      <td>universityofalabamaatbirmingham</td>\n",
       "      <td>2004</td>\n",
       "      <td>0</td>\n",
       "    </tr>\n",
       "    <tr>\n",
       "      <th>0</th>\n",
       "      <td>100663.000000</td>\n",
       "      <td>universityofalabamaatbirmingham</td>\n",
       "      <td>2005</td>\n",
       "      <td>[health care, brain/neural, cancer, protein/molecular, cell research]</td>\n",
       "    </tr>\n",
       "    <tr>\n",
       "      <th>1</th>\n",
       "      <td>100663.000000</td>\n",
       "      <td>universityofalabamaatbirmingham</td>\n",
       "      <td>2006</td>\n",
       "      <td>[computational methods/research systems, STEM education, training programs, health care, brain/neural]</td>\n",
       "    </tr>\n",
       "    <tr>\n",
       "      <th>2</th>\n",
       "      <td>100663.000000</td>\n",
       "      <td>universityofalabamaatbirmingham</td>\n",
       "      <td>2007</td>\n",
       "      <td>[computational methods/research systems, STEM education, training programs, health care, brain/neural]</td>\n",
       "    </tr>\n",
       "    <tr>\n",
       "      <th>3</th>\n",
       "      <td>100663.000000</td>\n",
       "      <td>universityofalabamaatbirmingham</td>\n",
       "      <td>2008</td>\n",
       "      <td>[training programs, health care, protein/molecular, cell research, DNA/genes]</td>\n",
       "    </tr>\n",
       "    <tr>\n",
       "      <th>4</th>\n",
       "      <td>100663.000000</td>\n",
       "      <td>universityofalabamaatbirmingham</td>\n",
       "      <td>2009</td>\n",
       "      <td>[training programs, health care, cancer, protein/molecular, cell research]</td>\n",
       "    </tr>\n",
       "    <tr>\n",
       "      <th>3773</th>\n",
       "      <td>100663.000000</td>\n",
       "      <td>universityofalabamaatbirmingham</td>\n",
       "      <td>2010</td>\n",
       "      <td>0</td>\n",
       "    </tr>\n",
       "    <tr>\n",
       "      <th>5</th>\n",
       "      <td>100663.000000</td>\n",
       "      <td>universityofalabamaatbirmingham</td>\n",
       "      <td>2011</td>\n",
       "      <td>[training programs, health care, cancer, protein/molecular, cell research]</td>\n",
       "    </tr>\n",
       "    <tr>\n",
       "      <th>3774</th>\n",
       "      <td>100663.000000</td>\n",
       "      <td>universityofalabamaatbirmingham</td>\n",
       "      <td>2012</td>\n",
       "      <td>0</td>\n",
       "    </tr>\n",
       "    <tr>\n",
       "      <th>6</th>\n",
       "      <td>100663.000000</td>\n",
       "      <td>universityofalabamaatbirmingham</td>\n",
       "      <td>2013</td>\n",
       "      <td>[training programs, health care, cancer, protein/molecular, cell research]</td>\n",
       "    </tr>\n",
       "    <tr>\n",
       "      <th>3775</th>\n",
       "      <td>100663.000000</td>\n",
       "      <td>universityofalabamaatbirmingham</td>\n",
       "      <td>2014</td>\n",
       "      <td>0</td>\n",
       "    </tr>\n",
       "    <tr>\n",
       "      <th>3776</th>\n",
       "      <td>100663.000000</td>\n",
       "      <td>universityofalabamaatbirmingham</td>\n",
       "      <td>2015</td>\n",
       "      <td>0</td>\n",
       "    </tr>\n",
       "    <tr>\n",
       "      <th>3777</th>\n",
       "      <td>100663.000000</td>\n",
       "      <td>universityofalabamaatbirmingham</td>\n",
       "      <td>2016</td>\n",
       "      <td>0</td>\n",
       "    </tr>\n",
       "    <tr>\n",
       "      <th>7</th>\n",
       "      <td>100663.000000</td>\n",
       "      <td>universityofalabamaatbirmingham</td>\n",
       "      <td>2017</td>\n",
       "      <td>[training programs, health care, brain/neural, protein/molecular, cell research]</td>\n",
       "    </tr>\n",
       "    <tr>\n",
       "      <th>8</th>\n",
       "      <td>100663.000000</td>\n",
       "      <td>universityofalabamaatbirmingham</td>\n",
       "      <td>2018</td>\n",
       "      <td>[training programs, health care, brain/neural, protein/molecular, cell research]</td>\n",
       "    </tr>\n",
       "  </tbody>\n",
       "</table>\n",
       "</div>"
      ],
      "text/plain": [
       "            UNITID                ORGANIZATION_NAME  year  \\\n",
       "3768 100663.000000  universityofalabamaatbirmingham  2000   \n",
       "3769 100663.000000  universityofalabamaatbirmingham  2001   \n",
       "3770 100663.000000  universityofalabamaatbirmingham  2002   \n",
       "3771 100663.000000  universityofalabamaatbirmingham  2003   \n",
       "3772 100663.000000  universityofalabamaatbirmingham  2004   \n",
       "0    100663.000000  universityofalabamaatbirmingham  2005   \n",
       "1    100663.000000  universityofalabamaatbirmingham  2006   \n",
       "2    100663.000000  universityofalabamaatbirmingham  2007   \n",
       "3    100663.000000  universityofalabamaatbirmingham  2008   \n",
       "4    100663.000000  universityofalabamaatbirmingham  2009   \n",
       "3773 100663.000000  universityofalabamaatbirmingham  2010   \n",
       "5    100663.000000  universityofalabamaatbirmingham  2011   \n",
       "3774 100663.000000  universityofalabamaatbirmingham  2012   \n",
       "6    100663.000000  universityofalabamaatbirmingham  2013   \n",
       "3775 100663.000000  universityofalabamaatbirmingham  2014   \n",
       "3776 100663.000000  universityofalabamaatbirmingham  2015   \n",
       "3777 100663.000000  universityofalabamaatbirmingham  2016   \n",
       "7    100663.000000  universityofalabamaatbirmingham  2017   \n",
       "8    100663.000000  universityofalabamaatbirmingham  2018   \n",
       "\n",
       "                                                                                                  topic_name  \n",
       "3768  0                                                                                                       \n",
       "3769  0                                                                                                       \n",
       "3770  0                                                                                                       \n",
       "3771  0                                                                                                       \n",
       "3772  0                                                                                                       \n",
       "0     [health care, brain/neural, cancer, protein/molecular, cell research]                                   \n",
       "1     [computational methods/research systems, STEM education, training programs, health care, brain/neural]  \n",
       "2     [computational methods/research systems, STEM education, training programs, health care, brain/neural]  \n",
       "3     [training programs, health care, protein/molecular, cell research, DNA/genes]                           \n",
       "4     [training programs, health care, cancer, protein/molecular, cell research]                              \n",
       "3773  0                                                                                                       \n",
       "5     [training programs, health care, cancer, protein/molecular, cell research]                              \n",
       "3774  0                                                                                                       \n",
       "6     [training programs, health care, cancer, protein/molecular, cell research]                              \n",
       "3775  0                                                                                                       \n",
       "3776  0                                                                                                       \n",
       "3777  0                                                                                                       \n",
       "7     [training programs, health care, brain/neural, protein/molecular, cell research]                        \n",
       "8     [training programs, health care, brain/neural, protein/molecular, cell research]                        "
      ]
     },
     "execution_count": 172,
     "metadata": {},
     "output_type": "execute_result"
    }
   ],
   "source": [
    "\"\"\"Merge with the category names.\"\"\"\n",
    "\n",
    "topics_weights_name = pd.merge(left=topics_weights_top_five,right=topics_names,\n",
    "                    on='topic')\n",
    "\n",
    "topics_weights_top_five_finalized = topics_weights_name.groupby(['UNITID',' ORGANIZATION_NAME','year'])['topic_name'].apply(list).reset_index()\n",
    "\n",
    "topics_weights_balanced_deduplicated = topics_weights_balanced_groupby[['UNITID',' ORGANIZATION_NAME','year']].drop_duplicates()\n",
    "\n",
    "topics_weights_top_five_balanced_finalized = topics_weights_top_five_finalized.merge(topics_weights_balanced_deduplicated, on=['UNITID','year',' ORGANIZATION_NAME'],\n",
    "                         how='right').sort_values([' ORGANIZATION_NAME','year']).fillna(0)\n",
    "\n",
    "topics_weights_top_five_balanced_finalized[topics_weights_top_five_balanced_finalized[' ORGANIZATION_NAME'] == 'universityofalabamaatbirmingham']"
   ]
  },
  {
   "cell_type": "code",
   "execution_count": 173,
   "metadata": {},
   "outputs": [],
   "source": [
    "topics_weights_top_five_balanced_finalized = topics_weights_top_five_balanced_finalized.rename(columns={' ORGANIZATION_NAME':'university','topic_name':'top_5_topics_by_grants'})"
   ]
  },
  {
   "cell_type": "markdown",
   "metadata": {},
   "source": [
    "### Top 5 topics by %dollars"
   ]
  },
  {
   "cell_type": "code",
   "execution_count": 174,
   "metadata": {},
   "outputs": [],
   "source": [
    "topics_dollars = topics_abstracts"
   ]
  },
  {
   "cell_type": "code",
   "execution_count": 175,
   "metadata": {},
   "outputs": [],
   "source": [
    "topics_dollars[\"sum\"] = topics_dollars[[0,1,2,3,4,5,6,7,8,9]].sum(axis=1)"
   ]
  },
  {
   "cell_type": "code",
   "execution_count": 176,
   "metadata": {},
   "outputs": [],
   "source": [
    "topics_dollars = topics_dollars.rename(columns={0:'topic_0',1:'topic_1',2:'topic_2',3:'topic_3',\n",
    "                                                                         4:'topic_4',5:'topic_5',6:'topic_6',7:'topic_7',\n",
    "                                                                         8:'topic_8',9:'topic_9'})\n",
    "\n",
    "topics_dollars[['topic_0','topic_1','topic_2','topic_3','topic_4','topic_5','topic_6','topic_7','topic_8','topic_9']] = topics_dollars.loc[:,'topic_0':'topic_9'].div(topics_dollars['sum'], axis=0)"
   ]
  },
  {
   "cell_type": "code",
   "execution_count": 177,
   "metadata": {},
   "outputs": [],
   "source": [
    "def multiply(row):\n",
    "    total_cost = row[' FY_TOTAL_COST']\n",
    "    topic_0 = row['topic_0']\n",
    "    topic_1 = row['topic_1']\n",
    "    topic_2 = row['topic_2']\n",
    "    topic_3 = row['topic_3']\n",
    "    topic_4 = row['topic_4']\n",
    "    topic_5 = row['topic_5']\n",
    "    topic_6 = row['topic_6']\n",
    "    topic_7 = row['topic_7']\n",
    "    topic_8 = row['topic_8']\n",
    "    topic_9 = row['topic_9']\n",
    "    return total_cost*topic_0,total_cost*topic_1,total_cost*topic_2,total_cost*topic_3,total_cost*topic_4,total_cost*topic_5,total_cost*topic_6,total_cost*topic_7,total_cost*topic_8,total_cost*topic_9\n",
    "\n",
    "topics_dollars['result'] = topics_dollars.apply(multiply,axis=1)"
   ]
  },
  {
   "cell_type": "code",
   "execution_count": 178,
   "metadata": {},
   "outputs": [],
   "source": [
    "topics_dollars[['topic_0','topic_1','topic_2','topic_3','topic_4','topic_5','topic_6','topic_7','topic_8','topic_9']] = topics_dollars['result'].apply(pd.Series)"
   ]
  },
  {
   "cell_type": "code",
   "execution_count": 179,
   "metadata": {},
   "outputs": [
    {
     "data": {
      "text/html": [
       "<div>\n",
       "<style scoped>\n",
       "    .dataframe tbody tr th:only-of-type {\n",
       "        vertical-align: middle;\n",
       "    }\n",
       "\n",
       "    .dataframe tbody tr th {\n",
       "        vertical-align: top;\n",
       "    }\n",
       "\n",
       "    .dataframe thead th {\n",
       "        text-align: right;\n",
       "    }\n",
       "</style>\n",
       "<table border=\"1\" class=\"dataframe\">\n",
       "  <thead>\n",
       "    <tr style=\"text-align: right;\">\n",
       "      <th></th>\n",
       "      <th>UNITID</th>\n",
       "      <th>ORGANIZATION_NAME</th>\n",
       "      <th>FY</th>\n",
       "      <th>topic</th>\n",
       "      <th>weight</th>\n",
       "    </tr>\n",
       "  </thead>\n",
       "  <tbody>\n",
       "    <tr>\n",
       "      <th>569</th>\n",
       "      <td>100663</td>\n",
       "      <td>universityofalabamaatbirmingham</td>\n",
       "      <td>2005</td>\n",
       "      <td>topic_0</td>\n",
       "      <td>0.000000</td>\n",
       "    </tr>\n",
       "    <tr>\n",
       "      <th>722</th>\n",
       "      <td>100663</td>\n",
       "      <td>universityofalabamaatbirmingham</td>\n",
       "      <td>2006</td>\n",
       "      <td>topic_0</td>\n",
       "      <td>1225730.508020</td>\n",
       "    </tr>\n",
       "    <tr>\n",
       "      <th>746</th>\n",
       "      <td>100663</td>\n",
       "      <td>universityofalabamaatbirmingham</td>\n",
       "      <td>2006</td>\n",
       "      <td>topic_0</td>\n",
       "      <td>422072.122469</td>\n",
       "    </tr>\n",
       "    <tr>\n",
       "      <th>794</th>\n",
       "      <td>100663</td>\n",
       "      <td>universityofalabamaatbirmingham</td>\n",
       "      <td>2007</td>\n",
       "      <td>topic_0</td>\n",
       "      <td>186279.175301</td>\n",
       "    </tr>\n",
       "    <tr>\n",
       "      <th>1597</th>\n",
       "      <td>100663</td>\n",
       "      <td>universityofalabamaatbirmingham</td>\n",
       "      <td>2008</td>\n",
       "      <td>topic_0</td>\n",
       "      <td>45738.846173</td>\n",
       "    </tr>\n",
       "  </tbody>\n",
       "</table>\n",
       "</div>"
      ],
      "text/plain": [
       "      UNITID                ORGANIZATION_NAME    FY    topic         weight\n",
       "569   100663  universityofalabamaatbirmingham  2005  topic_0 0.000000      \n",
       "722   100663  universityofalabamaatbirmingham  2006  topic_0 1225730.508020\n",
       "746   100663  universityofalabamaatbirmingham  2006  topic_0 422072.122469 \n",
       "794   100663  universityofalabamaatbirmingham  2007  topic_0 186279.175301 \n",
       "1597  100663  universityofalabamaatbirmingham  2008  topic_0 45738.846173  "
      ]
     },
     "execution_count": 179,
     "metadata": {},
     "output_type": "execute_result"
    }
   ],
   "source": [
    "\"\"\"Convert columns to row observations: university/topic/weight.\"\"\"\n",
    "\n",
    "topics_dollars_rows = pd.melt(frame=topics_dollars, id_vars=['UNITID',' ORGANIZATION_NAME',' FY'],value_vars=['topic_0','topic_1','topic_2','topic_3','topic_4','topic_5','topic_6','topic_7','topic_8','topic_9'],var_name='topic',value_name='weight')\n",
    "topics_dollars_rows.sort_values(['UNITID',' ORGANIZATION_NAME']).head()"
   ]
  },
  {
   "cell_type": "code",
   "execution_count": 180,
   "metadata": {},
   "outputs": [],
   "source": [
    "topics_dollars_balanced = (topics_dollars_rows.set_index(' FY',append=True)\n",
    "                 .reindex(pd.MultiIndex.from_product([topics_dollars_rows.index.unique(),\n",
    "                                                      range(2000,2019)],\n",
    "                                                     names=['id','year']))\n",
    "                 .reset_index(level=1))\n",
    "\n",
    "topics_dollars_balanced['UNITID'] = topics_dollars_balanced.groupby(level=0)['UNITID'].ffill().bfill()\n",
    "topics_dollars_balanced[' ORGANIZATION_NAME'] = topics_dollars_balanced.groupby(level=0)[' ORGANIZATION_NAME'].ffill().bfill()\n",
    "topics_dollars_balanced['topic'] = topics_dollars_balanced.groupby(level=0)['topic'].ffill().bfill()\n",
    "topics_dollars_balanced['weight'] = topics_dollars_balanced['weight'].fillna(0)"
   ]
  },
  {
   "cell_type": "code",
   "execution_count": 181,
   "metadata": {},
   "outputs": [],
   "source": [
    "topics_dollars_balanced_groupby = topics_dollars_balanced.groupby(['UNITID',' ORGANIZATION_NAME','year','topic'])['weight'].sum().reset_index()\n",
    "\n",
    "topics_dollars_with_values = topics_dollars_balanced_groupby[topics_dollars_balanced_groupby['weight'] != 0]\n",
    "topics_dollars_with_values_sorted = topics_dollars_with_values.sort_values(['year','weight'],ascending=False)\n",
    "topics_dollars_top_five = topics_dollars_with_values_sorted.groupby([' ORGANIZATION_NAME','year']).head(5)"
   ]
  },
  {
   "cell_type": "code",
   "execution_count": 182,
   "metadata": {},
   "outputs": [
    {
     "data": {
      "text/html": [
       "<div>\n",
       "<style scoped>\n",
       "    .dataframe tbody tr th:only-of-type {\n",
       "        vertical-align: middle;\n",
       "    }\n",
       "\n",
       "    .dataframe tbody tr th {\n",
       "        vertical-align: top;\n",
       "    }\n",
       "\n",
       "    .dataframe thead th {\n",
       "        text-align: right;\n",
       "    }\n",
       "</style>\n",
       "<table border=\"1\" class=\"dataframe\">\n",
       "  <thead>\n",
       "    <tr style=\"text-align: right;\">\n",
       "      <th></th>\n",
       "      <th>UNITID</th>\n",
       "      <th>ORGANIZATION_NAME</th>\n",
       "      <th>year</th>\n",
       "      <th>topic_name</th>\n",
       "    </tr>\n",
       "  </thead>\n",
       "  <tbody>\n",
       "    <tr>\n",
       "      <th>3768</th>\n",
       "      <td>100663.000000</td>\n",
       "      <td>universityofalabamaatbirmingham</td>\n",
       "      <td>2000</td>\n",
       "      <td>0</td>\n",
       "    </tr>\n",
       "    <tr>\n",
       "      <th>3769</th>\n",
       "      <td>100663.000000</td>\n",
       "      <td>universityofalabamaatbirmingham</td>\n",
       "      <td>2001</td>\n",
       "      <td>0</td>\n",
       "    </tr>\n",
       "    <tr>\n",
       "      <th>3770</th>\n",
       "      <td>100663.000000</td>\n",
       "      <td>universityofalabamaatbirmingham</td>\n",
       "      <td>2002</td>\n",
       "      <td>0</td>\n",
       "    </tr>\n",
       "    <tr>\n",
       "      <th>3771</th>\n",
       "      <td>100663.000000</td>\n",
       "      <td>universityofalabamaatbirmingham</td>\n",
       "      <td>2003</td>\n",
       "      <td>0</td>\n",
       "    </tr>\n",
       "    <tr>\n",
       "      <th>3772</th>\n",
       "      <td>100663.000000</td>\n",
       "      <td>universityofalabamaatbirmingham</td>\n",
       "      <td>2004</td>\n",
       "      <td>0</td>\n",
       "    </tr>\n",
       "    <tr>\n",
       "      <th>0</th>\n",
       "      <td>100663.000000</td>\n",
       "      <td>universityofalabamaatbirmingham</td>\n",
       "      <td>2005</td>\n",
       "      <td>[health care, protein/molecular, cancer, cell research, brain/neural]</td>\n",
       "    </tr>\n",
       "    <tr>\n",
       "      <th>1</th>\n",
       "      <td>100663.000000</td>\n",
       "      <td>universityofalabamaatbirmingham</td>\n",
       "      <td>2006</td>\n",
       "      <td>[health care, computational methods/research systems, STEM education, brain/neural, training programs]</td>\n",
       "    </tr>\n",
       "    <tr>\n",
       "      <th>2</th>\n",
       "      <td>100663.000000</td>\n",
       "      <td>universityofalabamaatbirmingham</td>\n",
       "      <td>2007</td>\n",
       "      <td>[health care, computational methods/research systems, STEM education, brain/neural, training programs]</td>\n",
       "    </tr>\n",
       "    <tr>\n",
       "      <th>3</th>\n",
       "      <td>100663.000000</td>\n",
       "      <td>universityofalabamaatbirmingham</td>\n",
       "      <td>2008</td>\n",
       "      <td>[health care, protein/molecular, cell research, brain/neural, DNA/genes]</td>\n",
       "    </tr>\n",
       "    <tr>\n",
       "      <th>4</th>\n",
       "      <td>100663.000000</td>\n",
       "      <td>universityofalabamaatbirmingham</td>\n",
       "      <td>2009</td>\n",
       "      <td>[health care, protein/molecular, cancer, cell research, DNA/genes]</td>\n",
       "    </tr>\n",
       "    <tr>\n",
       "      <th>3773</th>\n",
       "      <td>100663.000000</td>\n",
       "      <td>universityofalabamaatbirmingham</td>\n",
       "      <td>2010</td>\n",
       "      <td>0</td>\n",
       "    </tr>\n",
       "    <tr>\n",
       "      <th>5</th>\n",
       "      <td>100663.000000</td>\n",
       "      <td>universityofalabamaatbirmingham</td>\n",
       "      <td>2011</td>\n",
       "      <td>[health care, protein/molecular, cancer, cell research, DNA/genes]</td>\n",
       "    </tr>\n",
       "    <tr>\n",
       "      <th>3774</th>\n",
       "      <td>100663.000000</td>\n",
       "      <td>universityofalabamaatbirmingham</td>\n",
       "      <td>2012</td>\n",
       "      <td>0</td>\n",
       "    </tr>\n",
       "    <tr>\n",
       "      <th>6</th>\n",
       "      <td>100663.000000</td>\n",
       "      <td>universityofalabamaatbirmingham</td>\n",
       "      <td>2013</td>\n",
       "      <td>[health care, protein/molecular, cell research, brain/neural, training programs]</td>\n",
       "    </tr>\n",
       "    <tr>\n",
       "      <th>3775</th>\n",
       "      <td>100663.000000</td>\n",
       "      <td>universityofalabamaatbirmingham</td>\n",
       "      <td>2014</td>\n",
       "      <td>0</td>\n",
       "    </tr>\n",
       "    <tr>\n",
       "      <th>3776</th>\n",
       "      <td>100663.000000</td>\n",
       "      <td>universityofalabamaatbirmingham</td>\n",
       "      <td>2015</td>\n",
       "      <td>0</td>\n",
       "    </tr>\n",
       "    <tr>\n",
       "      <th>3777</th>\n",
       "      <td>100663.000000</td>\n",
       "      <td>universityofalabamaatbirmingham</td>\n",
       "      <td>2016</td>\n",
       "      <td>0</td>\n",
       "    </tr>\n",
       "    <tr>\n",
       "      <th>7</th>\n",
       "      <td>100663.000000</td>\n",
       "      <td>universityofalabamaatbirmingham</td>\n",
       "      <td>2017</td>\n",
       "      <td>[health care, protein/molecular, cell research, brain/neural, DNA/genes]</td>\n",
       "    </tr>\n",
       "    <tr>\n",
       "      <th>8</th>\n",
       "      <td>100663.000000</td>\n",
       "      <td>universityofalabamaatbirmingham</td>\n",
       "      <td>2018</td>\n",
       "      <td>[health care, protein/molecular, cell research, brain/neural, DNA/genes]</td>\n",
       "    </tr>\n",
       "  </tbody>\n",
       "</table>\n",
       "</div>"
      ],
      "text/plain": [
       "            UNITID                ORGANIZATION_NAME  year  \\\n",
       "3768 100663.000000  universityofalabamaatbirmingham  2000   \n",
       "3769 100663.000000  universityofalabamaatbirmingham  2001   \n",
       "3770 100663.000000  universityofalabamaatbirmingham  2002   \n",
       "3771 100663.000000  universityofalabamaatbirmingham  2003   \n",
       "3772 100663.000000  universityofalabamaatbirmingham  2004   \n",
       "0    100663.000000  universityofalabamaatbirmingham  2005   \n",
       "1    100663.000000  universityofalabamaatbirmingham  2006   \n",
       "2    100663.000000  universityofalabamaatbirmingham  2007   \n",
       "3    100663.000000  universityofalabamaatbirmingham  2008   \n",
       "4    100663.000000  universityofalabamaatbirmingham  2009   \n",
       "3773 100663.000000  universityofalabamaatbirmingham  2010   \n",
       "5    100663.000000  universityofalabamaatbirmingham  2011   \n",
       "3774 100663.000000  universityofalabamaatbirmingham  2012   \n",
       "6    100663.000000  universityofalabamaatbirmingham  2013   \n",
       "3775 100663.000000  universityofalabamaatbirmingham  2014   \n",
       "3776 100663.000000  universityofalabamaatbirmingham  2015   \n",
       "3777 100663.000000  universityofalabamaatbirmingham  2016   \n",
       "7    100663.000000  universityofalabamaatbirmingham  2017   \n",
       "8    100663.000000  universityofalabamaatbirmingham  2018   \n",
       "\n",
       "                                                                                                  topic_name  \n",
       "3768  0                                                                                                       \n",
       "3769  0                                                                                                       \n",
       "3770  0                                                                                                       \n",
       "3771  0                                                                                                       \n",
       "3772  0                                                                                                       \n",
       "0     [health care, protein/molecular, cancer, cell research, brain/neural]                                   \n",
       "1     [health care, computational methods/research systems, STEM education, brain/neural, training programs]  \n",
       "2     [health care, computational methods/research systems, STEM education, brain/neural, training programs]  \n",
       "3     [health care, protein/molecular, cell research, brain/neural, DNA/genes]                                \n",
       "4     [health care, protein/molecular, cancer, cell research, DNA/genes]                                      \n",
       "3773  0                                                                                                       \n",
       "5     [health care, protein/molecular, cancer, cell research, DNA/genes]                                      \n",
       "3774  0                                                                                                       \n",
       "6     [health care, protein/molecular, cell research, brain/neural, training programs]                        \n",
       "3775  0                                                                                                       \n",
       "3776  0                                                                                                       \n",
       "3777  0                                                                                                       \n",
       "7     [health care, protein/molecular, cell research, brain/neural, DNA/genes]                                \n",
       "8     [health care, protein/molecular, cell research, brain/neural, DNA/genes]                                "
      ]
     },
     "execution_count": 182,
     "metadata": {},
     "output_type": "execute_result"
    }
   ],
   "source": [
    "\"\"\"Merge with the topics names.\"\"\"\n",
    "\n",
    "topics_dollars_name = pd.merge(left=topics_dollars_top_five,right=topics_names,\n",
    "                    on='topic')\n",
    "\n",
    "topics_dollars_top_five_finalized = topics_dollars_name.groupby(['UNITID',' ORGANIZATION_NAME','year'])['topic_name'].apply(list).reset_index()\n",
    "\n",
    "topics_dollars_balanced_deduplicated = topics_dollars_balanced_groupby[['UNITID',' ORGANIZATION_NAME','year']].drop_duplicates()\n",
    "\n",
    "topics_dollars_top_five_balanced_finalized = topics_dollars_top_five_finalized.merge(topics_dollars_balanced_deduplicated, on=['UNITID','year',' ORGANIZATION_NAME'],\n",
    "                         how='right').sort_values([' ORGANIZATION_NAME','year']).fillna(0)\n",
    "\n",
    "topics_dollars_top_five_balanced_finalized[topics_dollars_top_five_balanced_finalized[' ORGANIZATION_NAME'] == 'universityofalabamaatbirmingham']"
   ]
  },
  {
   "cell_type": "code",
   "execution_count": 183,
   "metadata": {},
   "outputs": [],
   "source": [
    "topics_dollars_top_five_balanced_finalized = topics_dollars_top_five_balanced_finalized.rename(columns={' ORGANIZATION_NAME':'university','topic_name':'top_5_topics_by_dollars'})"
   ]
  },
  {
   "cell_type": "markdown",
   "metadata": {},
   "source": [
    "# 3 Create a finalized output dataset"
   ]
  },
  {
   "cell_type": "code",
   "execution_count": 184,
   "metadata": {},
   "outputs": [
    {
     "data": {
      "text/plain": [
       "979"
      ]
     },
     "execution_count": 184,
     "metadata": {},
     "output_type": "execute_result"
    }
   ],
   "source": [
    "grants_per_university_finalized.university.nunique()"
   ]
  },
  {
   "cell_type": "code",
   "execution_count": 185,
   "metadata": {},
   "outputs": [
    {
     "data": {
      "text/plain": [
       "979"
      ]
     },
     "execution_count": 185,
     "metadata": {},
     "output_type": "execute_result"
    }
   ],
   "source": [
    "topics_dollars_top_five_balanced_finalized.university.nunique()"
   ]
  },
  {
   "cell_type": "code",
   "execution_count": 186,
   "metadata": {},
   "outputs": [
    {
     "data": {
      "text/plain": [
       "979"
      ]
     },
     "execution_count": 186,
     "metadata": {},
     "output_type": "execute_result"
    }
   ],
   "source": [
    "topics_weights_top_five_balanced_finalized.university.nunique()"
   ]
  },
  {
   "cell_type": "code",
   "execution_count": 187,
   "metadata": {},
   "outputs": [],
   "source": [
    "fedreporter = grants_per_university_finalized.merge(topics_dollars_top_five_balanced_finalized,on=['UNITID','university','year'],how='outer').merge(topics_weights_top_five_balanced_finalized, on=['UNITID','university','year'],how='outer')"
   ]
  },
  {
   "cell_type": "code",
   "execution_count": 188,
   "metadata": {},
   "outputs": [],
   "source": [
    "finalized_dataset = patentsview_combined.merge(fedreporter, on=['UNITID','university','year'])"
   ]
  },
  {
   "cell_type": "code",
   "execution_count": 189,
   "metadata": {},
   "outputs": [
    {
     "data": {
      "text/plain": [
       "240"
      ]
     },
     "execution_count": 189,
     "metadata": {},
     "output_type": "execute_result"
    }
   ],
   "source": [
    "finalized_dataset.university.nunique()"
   ]
  },
  {
   "cell_type": "code",
   "execution_count": 190,
   "metadata": {},
   "outputs": [],
   "source": [
    "finalized_dataset[['#patents','#govinterest','#joint_w_business','#female_inventors','#unique_inventors','#grants']] = finalized_dataset[['#patents','#govinterest','#joint_w_business','#female_inventors','#unique_inventors','#grants']].astype(int)"
   ]
  },
  {
   "cell_type": "code",
   "execution_count": 192,
   "metadata": {},
   "outputs": [
    {
     "data": {
      "text/html": [
       "<div>\n",
       "<style scoped>\n",
       "    .dataframe tbody tr th:only-of-type {\n",
       "        vertical-align: middle;\n",
       "    }\n",
       "\n",
       "    .dataframe tbody tr th {\n",
       "        vertical-align: top;\n",
       "    }\n",
       "\n",
       "    .dataframe thead th {\n",
       "        text-align: right;\n",
       "    }\n",
       "</style>\n",
       "<table border=\"1\" class=\"dataframe\">\n",
       "  <thead>\n",
       "    <tr style=\"text-align: right;\">\n",
       "      <th></th>\n",
       "      <th>UNITID</th>\n",
       "      <th>university</th>\n",
       "      <th>year</th>\n",
       "      <th>#patents</th>\n",
       "      <th>#govinterest</th>\n",
       "      <th>#joint_w_business</th>\n",
       "      <th>#female_inventors</th>\n",
       "      <th>#unique_inventors</th>\n",
       "      <th>top_5_ipc</th>\n",
       "      <th>#grants</th>\n",
       "      <th>top_5_topics_by_dollars</th>\n",
       "      <th>top_5_topics_by_grants</th>\n",
       "    </tr>\n",
       "  </thead>\n",
       "  <tbody>\n",
       "    <tr>\n",
       "      <th>4579</th>\n",
       "      <td>130794</td>\n",
       "      <td>yaleuniversity</td>\n",
       "      <td>2000</td>\n",
       "      <td>36</td>\n",
       "      <td>15</td>\n",
       "      <td>13</td>\n",
       "      <td>0</td>\n",
       "      <td>0</td>\n",
       "      <td>[Human Necessitites, Physics, Chemistry; Metallurgy, Electricity]</td>\n",
       "      <td>2</td>\n",
       "      <td>[health care, computational methods/research systems, protein/molecular, STEM education, DNA/genes]</td>\n",
       "      <td>[computational methods/research systems, STEM education, training programs, health care, protein/molecular]</td>\n",
       "    </tr>\n",
       "    <tr>\n",
       "      <th>4580</th>\n",
       "      <td>130794</td>\n",
       "      <td>yaleuniversity</td>\n",
       "      <td>2001</td>\n",
       "      <td>38</td>\n",
       "      <td>17</td>\n",
       "      <td>7</td>\n",
       "      <td>0</td>\n",
       "      <td>0</td>\n",
       "      <td>[Human Necessitites, Physics, Chemistry; Metallurgy, Electricity]</td>\n",
       "      <td>2</td>\n",
       "      <td>[health care, computational methods/research systems, STEM education, brain/neural, training programs]</td>\n",
       "      <td>[computational methods/research systems, STEM education, training programs, health care, brain/neural]</td>\n",
       "    </tr>\n",
       "    <tr>\n",
       "      <th>4581</th>\n",
       "      <td>130794</td>\n",
       "      <td>yaleuniversity</td>\n",
       "      <td>2002</td>\n",
       "      <td>35</td>\n",
       "      <td>16</td>\n",
       "      <td>14</td>\n",
       "      <td>0</td>\n",
       "      <td>0</td>\n",
       "      <td>[Human Necessitites, Physics, Chemistry; Metallurgy, Electricity, Performing Operations; Transporting]</td>\n",
       "      <td>0</td>\n",
       "      <td>0</td>\n",
       "      <td>0</td>\n",
       "    </tr>\n",
       "    <tr>\n",
       "      <th>4582</th>\n",
       "      <td>130794</td>\n",
       "      <td>yaleuniversity</td>\n",
       "      <td>2003</td>\n",
       "      <td>26</td>\n",
       "      <td>16</td>\n",
       "      <td>4</td>\n",
       "      <td>0</td>\n",
       "      <td>0</td>\n",
       "      <td>[Human Necessitites, Physics, Chemistry; Metallurgy, Performing Operations; Transporting, Textiles; Paper]</td>\n",
       "      <td>0</td>\n",
       "      <td>0</td>\n",
       "      <td>0</td>\n",
       "    </tr>\n",
       "    <tr>\n",
       "      <th>4583</th>\n",
       "      <td>130794</td>\n",
       "      <td>yaleuniversity</td>\n",
       "      <td>2004</td>\n",
       "      <td>23</td>\n",
       "      <td>12</td>\n",
       "      <td>3</td>\n",
       "      <td>0</td>\n",
       "      <td>0</td>\n",
       "      <td>[Human Necessitites, Physics, Chemistry; Metallurgy, Electricity, Performing Operations; Transporting]</td>\n",
       "      <td>2</td>\n",
       "      <td>[health care, computational methods/research systems, protein/molecular, cell research, brain/neural]</td>\n",
       "      <td>[computational methods/research systems, health care, brain/neural, protein/molecular, cell research]</td>\n",
       "    </tr>\n",
       "    <tr>\n",
       "      <th>4584</th>\n",
       "      <td>130794</td>\n",
       "      <td>yaleuniversity</td>\n",
       "      <td>2005</td>\n",
       "      <td>27</td>\n",
       "      <td>17</td>\n",
       "      <td>9</td>\n",
       "      <td>0</td>\n",
       "      <td>0</td>\n",
       "      <td>[Human Necessitites, Physics, Chemistry; Metallurgy, Electricity]</td>\n",
       "      <td>3</td>\n",
       "      <td>[health care, computational methods/research systems, protein/molecular, DNA/genes, HIV]</td>\n",
       "      <td>[computational methods/research systems, health care, protein/molecular, HIV, DNA/genes]</td>\n",
       "    </tr>\n",
       "    <tr>\n",
       "      <th>4585</th>\n",
       "      <td>130794</td>\n",
       "      <td>yaleuniversity</td>\n",
       "      <td>2006</td>\n",
       "      <td>28</td>\n",
       "      <td>13</td>\n",
       "      <td>6</td>\n",
       "      <td>0</td>\n",
       "      <td>0</td>\n",
       "      <td>[Human Necessitites, Physics, Chemistry; Metallurgy, Mechanical Engineering; Lighting; Heating; Weapons; Blasting]</td>\n",
       "      <td>2</td>\n",
       "      <td>[health care, computational methods/research systems, protein/molecular, training programs, DNA/genes]</td>\n",
       "      <td>[computational methods/research systems, training programs, health care, protein/molecular, DNA/genes]</td>\n",
       "    </tr>\n",
       "    <tr>\n",
       "      <th>4586</th>\n",
       "      <td>130794</td>\n",
       "      <td>yaleuniversity</td>\n",
       "      <td>2007</td>\n",
       "      <td>34</td>\n",
       "      <td>21</td>\n",
       "      <td>11</td>\n",
       "      <td>0</td>\n",
       "      <td>0</td>\n",
       "      <td>[Human Necessitites, Physics, Chemistry; Metallurgy, Electricity, Performing Operations; Transporting]</td>\n",
       "      <td>1</td>\n",
       "      <td>[health care, cell research, STEM education, DNA/genes, HIV]</td>\n",
       "      <td>[STEM education, health care, cell research, HIV, DNA/genes]</td>\n",
       "    </tr>\n",
       "    <tr>\n",
       "      <th>4587</th>\n",
       "      <td>130794</td>\n",
       "      <td>yaleuniversity</td>\n",
       "      <td>2008</td>\n",
       "      <td>22</td>\n",
       "      <td>11</td>\n",
       "      <td>5</td>\n",
       "      <td>0</td>\n",
       "      <td>0</td>\n",
       "      <td>[Human Necessitites, Chemistry; Metallurgy, Performing Operations; Transporting]</td>\n",
       "      <td>879</td>\n",
       "      <td>[health care, protein/molecular, cell research, brain/neural, DNA/genes]</td>\n",
       "      <td>[training programs, health care, brain/neural, protein/molecular, cell research]</td>\n",
       "    </tr>\n",
       "    <tr>\n",
       "      <th>4588</th>\n",
       "      <td>130794</td>\n",
       "      <td>yaleuniversity</td>\n",
       "      <td>2009</td>\n",
       "      <td>37</td>\n",
       "      <td>21</td>\n",
       "      <td>9</td>\n",
       "      <td>0</td>\n",
       "      <td>0</td>\n",
       "      <td>[Human Necessitites, Physics, Chemistry; Metallurgy, Electricity, Performing Operations; Transporting]</td>\n",
       "      <td>986</td>\n",
       "      <td>[health care, protein/molecular, cell research, brain/neural, DNA/genes]</td>\n",
       "      <td>[health care, brain/neural, protein/molecular, cell research, DNA/genes]</td>\n",
       "    </tr>\n",
       "    <tr>\n",
       "      <th>4589</th>\n",
       "      <td>130794</td>\n",
       "      <td>yaleuniversity</td>\n",
       "      <td>2010</td>\n",
       "      <td>30</td>\n",
       "      <td>21</td>\n",
       "      <td>8</td>\n",
       "      <td>0</td>\n",
       "      <td>0</td>\n",
       "      <td>[Human Necessitites, Physics, Chemistry; Metallurgy, Performing Operations; Transporting]</td>\n",
       "      <td>0</td>\n",
       "      <td>0</td>\n",
       "      <td>0</td>\n",
       "    </tr>\n",
       "    <tr>\n",
       "      <th>4590</th>\n",
       "      <td>130794</td>\n",
       "      <td>yaleuniversity</td>\n",
       "      <td>2011</td>\n",
       "      <td>38</td>\n",
       "      <td>21</td>\n",
       "      <td>4</td>\n",
       "      <td>0</td>\n",
       "      <td>1</td>\n",
       "      <td>[Human Necessitites, Physics, Chemistry; Metallurgy, Electricity, Performing Operations; Transporting]</td>\n",
       "      <td>1678</td>\n",
       "      <td>[health care, protein/molecular, cell research, training programs, DNA/genes]</td>\n",
       "      <td>[training programs, health care, brain/neural, protein/molecular, cell research]</td>\n",
       "    </tr>\n",
       "    <tr>\n",
       "      <th>4591</th>\n",
       "      <td>130794</td>\n",
       "      <td>yaleuniversity</td>\n",
       "      <td>2012</td>\n",
       "      <td>39</td>\n",
       "      <td>25</td>\n",
       "      <td>13</td>\n",
       "      <td>0</td>\n",
       "      <td>9</td>\n",
       "      <td>[Human Necessitites, Physics, Chemistry; Metallurgy, Electricity, Performing Operations; Transporting]</td>\n",
       "      <td>0</td>\n",
       "      <td>0</td>\n",
       "      <td>0</td>\n",
       "    </tr>\n",
       "    <tr>\n",
       "      <th>4592</th>\n",
       "      <td>130794</td>\n",
       "      <td>yaleuniversity</td>\n",
       "      <td>2013</td>\n",
       "      <td>39</td>\n",
       "      <td>24</td>\n",
       "      <td>15</td>\n",
       "      <td>0</td>\n",
       "      <td>1</td>\n",
       "      <td>[Human Necessitites, Physics, Chemistry; Metallurgy, Electricity, Performing Operations; Transporting]</td>\n",
       "      <td>829</td>\n",
       "      <td>[health care, protein/molecular, cell research, brain/neural, training programs]</td>\n",
       "      <td>[training programs, health care, brain/neural, protein/molecular, cell research]</td>\n",
       "    </tr>\n",
       "    <tr>\n",
       "      <th>4593</th>\n",
       "      <td>130794</td>\n",
       "      <td>yaleuniversity</td>\n",
       "      <td>2014</td>\n",
       "      <td>53</td>\n",
       "      <td>34</td>\n",
       "      <td>14</td>\n",
       "      <td>0</td>\n",
       "      <td>19</td>\n",
       "      <td>[Human Necessitites, Physics, Chemistry; Metallurgy, Electricity, Performing Operations; Transporting]</td>\n",
       "      <td>0</td>\n",
       "      <td>0</td>\n",
       "      <td>0</td>\n",
       "    </tr>\n",
       "    <tr>\n",
       "      <th>4594</th>\n",
       "      <td>130794</td>\n",
       "      <td>yaleuniversity</td>\n",
       "      <td>2015</td>\n",
       "      <td>35</td>\n",
       "      <td>21</td>\n",
       "      <td>7</td>\n",
       "      <td>0</td>\n",
       "      <td>18</td>\n",
       "      <td>[Human Necessitites, Physics, Chemistry; Metallurgy, Electricity, Performing Operations; Transporting]</td>\n",
       "      <td>0</td>\n",
       "      <td>0</td>\n",
       "      <td>0</td>\n",
       "    </tr>\n",
       "    <tr>\n",
       "      <th>4595</th>\n",
       "      <td>130794</td>\n",
       "      <td>yaleuniversity</td>\n",
       "      <td>2016</td>\n",
       "      <td>28</td>\n",
       "      <td>19</td>\n",
       "      <td>8</td>\n",
       "      <td>0</td>\n",
       "      <td>8</td>\n",
       "      <td>[Human Necessitites, Physics, Chemistry; Metallurgy, Electricity, Performing Operations; Transporting]</td>\n",
       "      <td>0</td>\n",
       "      <td>0</td>\n",
       "      <td>0</td>\n",
       "    </tr>\n",
       "    <tr>\n",
       "      <th>4596</th>\n",
       "      <td>130794</td>\n",
       "      <td>yaleuniversity</td>\n",
       "      <td>2017</td>\n",
       "      <td>8</td>\n",
       "      <td>3</td>\n",
       "      <td>0</td>\n",
       "      <td>0</td>\n",
       "      <td>0</td>\n",
       "      <td>[Human Necessitites, Physics, Chemistry; Metallurgy]</td>\n",
       "      <td>892</td>\n",
       "      <td>[health care, protein/molecular, cell research, brain/neural, DNA/genes]</td>\n",
       "      <td>[training programs, health care, brain/neural, protein/molecular, cell research]</td>\n",
       "    </tr>\n",
       "    <tr>\n",
       "      <th>4597</th>\n",
       "      <td>130794</td>\n",
       "      <td>yaleuniversity</td>\n",
       "      <td>2018</td>\n",
       "      <td>0</td>\n",
       "      <td>0</td>\n",
       "      <td>0</td>\n",
       "      <td>0</td>\n",
       "      <td>0</td>\n",
       "      <td>0</td>\n",
       "      <td>333</td>\n",
       "      <td>[health care, computational methods/research systems, protein/molecular, cell research, brain/neural]</td>\n",
       "      <td>[computational methods/research systems, STEM education, training programs, health care, protein/molecular]</td>\n",
       "    </tr>\n",
       "  </tbody>\n",
       "</table>\n",
       "</div>"
      ],
      "text/plain": [
       "      UNITID      university  year  #patents  #govinterest  #joint_w_business  \\\n",
       "4579  130794  yaleuniversity  2000  36        15            13                  \n",
       "4580  130794  yaleuniversity  2001  38        17            7                   \n",
       "4581  130794  yaleuniversity  2002  35        16            14                  \n",
       "4582  130794  yaleuniversity  2003  26        16            4                   \n",
       "4583  130794  yaleuniversity  2004  23        12            3                   \n",
       "4584  130794  yaleuniversity  2005  27        17            9                   \n",
       "4585  130794  yaleuniversity  2006  28        13            6                   \n",
       "4586  130794  yaleuniversity  2007  34        21            11                  \n",
       "4587  130794  yaleuniversity  2008  22        11            5                   \n",
       "4588  130794  yaleuniversity  2009  37        21            9                   \n",
       "4589  130794  yaleuniversity  2010  30        21            8                   \n",
       "4590  130794  yaleuniversity  2011  38        21            4                   \n",
       "4591  130794  yaleuniversity  2012  39        25            13                  \n",
       "4592  130794  yaleuniversity  2013  39        24            15                  \n",
       "4593  130794  yaleuniversity  2014  53        34            14                  \n",
       "4594  130794  yaleuniversity  2015  35        21            7                   \n",
       "4595  130794  yaleuniversity  2016  28        19            8                   \n",
       "4596  130794  yaleuniversity  2017  8         3             0                   \n",
       "4597  130794  yaleuniversity  2018  0         0             0                   \n",
       "\n",
       "      #female_inventors  #unique_inventors  \\\n",
       "4579  0                  0                   \n",
       "4580  0                  0                   \n",
       "4581  0                  0                   \n",
       "4582  0                  0                   \n",
       "4583  0                  0                   \n",
       "4584  0                  0                   \n",
       "4585  0                  0                   \n",
       "4586  0                  0                   \n",
       "4587  0                  0                   \n",
       "4588  0                  0                   \n",
       "4589  0                  0                   \n",
       "4590  0                  1                   \n",
       "4591  0                  9                   \n",
       "4592  0                  1                   \n",
       "4593  0                  19                  \n",
       "4594  0                  18                  \n",
       "4595  0                  8                   \n",
       "4596  0                  0                   \n",
       "4597  0                  0                   \n",
       "\n",
       "                                                                                                               top_5_ipc  \\\n",
       "4579  [Human Necessitites, Physics, Chemistry; Metallurgy, Electricity]                                                    \n",
       "4580  [Human Necessitites, Physics, Chemistry; Metallurgy, Electricity]                                                    \n",
       "4581  [Human Necessitites, Physics, Chemistry; Metallurgy, Electricity, Performing Operations; Transporting]               \n",
       "4582  [Human Necessitites, Physics, Chemistry; Metallurgy, Performing Operations; Transporting, Textiles; Paper]           \n",
       "4583  [Human Necessitites, Physics, Chemistry; Metallurgy, Electricity, Performing Operations; Transporting]               \n",
       "4584  [Human Necessitites, Physics, Chemistry; Metallurgy, Electricity]                                                    \n",
       "4585  [Human Necessitites, Physics, Chemistry; Metallurgy, Mechanical Engineering; Lighting; Heating; Weapons; Blasting]   \n",
       "4586  [Human Necessitites, Physics, Chemistry; Metallurgy, Electricity, Performing Operations; Transporting]               \n",
       "4587  [Human Necessitites, Chemistry; Metallurgy, Performing Operations; Transporting]                                     \n",
       "4588  [Human Necessitites, Physics, Chemistry; Metallurgy, Electricity, Performing Operations; Transporting]               \n",
       "4589  [Human Necessitites, Physics, Chemistry; Metallurgy, Performing Operations; Transporting]                            \n",
       "4590  [Human Necessitites, Physics, Chemistry; Metallurgy, Electricity, Performing Operations; Transporting]               \n",
       "4591  [Human Necessitites, Physics, Chemistry; Metallurgy, Electricity, Performing Operations; Transporting]               \n",
       "4592  [Human Necessitites, Physics, Chemistry; Metallurgy, Electricity, Performing Operations; Transporting]               \n",
       "4593  [Human Necessitites, Physics, Chemistry; Metallurgy, Electricity, Performing Operations; Transporting]               \n",
       "4594  [Human Necessitites, Physics, Chemistry; Metallurgy, Electricity, Performing Operations; Transporting]               \n",
       "4595  [Human Necessitites, Physics, Chemistry; Metallurgy, Electricity, Performing Operations; Transporting]               \n",
       "4596  [Human Necessitites, Physics, Chemistry; Metallurgy]                                                                 \n",
       "4597  0                                                                                                                    \n",
       "\n",
       "      #grants  \\\n",
       "4579  2         \n",
       "4580  2         \n",
       "4581  0         \n",
       "4582  0         \n",
       "4583  2         \n",
       "4584  3         \n",
       "4585  2         \n",
       "4586  1         \n",
       "4587  879       \n",
       "4588  986       \n",
       "4589  0         \n",
       "4590  1678      \n",
       "4591  0         \n",
       "4592  829       \n",
       "4593  0         \n",
       "4594  0         \n",
       "4595  0         \n",
       "4596  892       \n",
       "4597  333       \n",
       "\n",
       "                                                                                     top_5_topics_by_dollars  \\\n",
       "4579  [health care, computational methods/research systems, protein/molecular, STEM education, DNA/genes]      \n",
       "4580  [health care, computational methods/research systems, STEM education, brain/neural, training programs]   \n",
       "4581  0                                                                                                        \n",
       "4582  0                                                                                                        \n",
       "4583  [health care, computational methods/research systems, protein/molecular, cell research, brain/neural]    \n",
       "4584  [health care, computational methods/research systems, protein/molecular, DNA/genes, HIV]                 \n",
       "4585  [health care, computational methods/research systems, protein/molecular, training programs, DNA/genes]   \n",
       "4586  [health care, cell research, STEM education, DNA/genes, HIV]                                             \n",
       "4587  [health care, protein/molecular, cell research, brain/neural, DNA/genes]                                 \n",
       "4588  [health care, protein/molecular, cell research, brain/neural, DNA/genes]                                 \n",
       "4589  0                                                                                                        \n",
       "4590  [health care, protein/molecular, cell research, training programs, DNA/genes]                            \n",
       "4591  0                                                                                                        \n",
       "4592  [health care, protein/molecular, cell research, brain/neural, training programs]                         \n",
       "4593  0                                                                                                        \n",
       "4594  0                                                                                                        \n",
       "4595  0                                                                                                        \n",
       "4596  [health care, protein/molecular, cell research, brain/neural, DNA/genes]                                 \n",
       "4597  [health care, computational methods/research systems, protein/molecular, cell research, brain/neural]    \n",
       "\n",
       "                                                                                           top_5_topics_by_grants  \n",
       "4579  [computational methods/research systems, STEM education, training programs, health care, protein/molecular]  \n",
       "4580  [computational methods/research systems, STEM education, training programs, health care, brain/neural]       \n",
       "4581  0                                                                                                            \n",
       "4582  0                                                                                                            \n",
       "4583  [computational methods/research systems, health care, brain/neural, protein/molecular, cell research]        \n",
       "4584  [computational methods/research systems, health care, protein/molecular, HIV, DNA/genes]                     \n",
       "4585  [computational methods/research systems, training programs, health care, protein/molecular, DNA/genes]       \n",
       "4586  [STEM education, health care, cell research, HIV, DNA/genes]                                                 \n",
       "4587  [training programs, health care, brain/neural, protein/molecular, cell research]                             \n",
       "4588  [health care, brain/neural, protein/molecular, cell research, DNA/genes]                                     \n",
       "4589  0                                                                                                            \n",
       "4590  [training programs, health care, brain/neural, protein/molecular, cell research]                             \n",
       "4591  0                                                                                                            \n",
       "4592  [training programs, health care, brain/neural, protein/molecular, cell research]                             \n",
       "4593  0                                                                                                            \n",
       "4594  0                                                                                                            \n",
       "4595  0                                                                                                            \n",
       "4596  [training programs, health care, brain/neural, protein/molecular, cell research]                             \n",
       "4597  [computational methods/research systems, STEM education, training programs, health care, protein/molecular]  "
      ]
     },
     "execution_count": 192,
     "metadata": {},
     "output_type": "execute_result"
    }
   ],
   "source": [
    "finalized_dataset[finalized_dataset['university'] == 'yaleuniversity']"
   ]
  },
  {
   "cell_type": "code",
   "execution_count": null,
   "metadata": {},
   "outputs": [],
   "source": []
  }
 ],
 "metadata": {
  "kernelspec": {
   "display_name": "Python 3",
   "language": "python",
   "name": "python3"
  },
  "language_info": {
   "codemirror_mode": {
    "name": "ipython",
    "version": 3
   },
   "file_extension": ".py",
   "mimetype": "text/x-python",
   "name": "python",
   "nbconvert_exporter": "python",
   "pygments_lexer": "ipython3",
   "version": "3.6.7"
  },
  "toc": {
   "base_numbering": 1,
   "nav_menu": {},
   "number_sections": true,
   "sideBar": true,
   "skip_h1_title": false,
   "title_cell": "Table of Contents",
   "title_sidebar": "Contents",
   "toc_cell": true,
   "toc_position": {
    "height": "calc(100% - 180px)",
    "left": "10px",
    "top": "150px",
    "width": "308px"
   },
   "toc_section_display": true,
   "toc_window_display": true
  }
 },
 "nbformat": 4,
 "nbformat_minor": 2
}
