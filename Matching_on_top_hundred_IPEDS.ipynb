{
 "cells": [
  {
   "cell_type": "markdown",
   "metadata": {},
   "source": [
    "### Import necessary libraries"
   ]
  },
  {
   "cell_type": "code",
   "execution_count": 1,
   "metadata": {},
   "outputs": [],
   "source": [
    "import pandas"
   ]
  },
  {
   "cell_type": "code",
   "execution_count": 14,
   "metadata": {},
   "outputs": [],
   "source": [
    "graduates = pandas.read_csv('C2017_a_data.csv')"
   ]
  },
  {
   "cell_type": "code",
   "execution_count": 15,
   "metadata": {},
   "outputs": [],
   "source": [
    "graduates = graduates[graduates['MAJORNUM'] == 1]"
   ]
  },
  {
   "cell_type": "code",
   "execution_count": 16,
   "metadata": {},
   "outputs": [],
   "source": [
    "graduates_17 = graduates[graduates['AWLEVEL'] == 17]"
   ]
  },
  {
   "cell_type": "code",
   "execution_count": 17,
   "metadata": {},
   "outputs": [],
   "source": [
    "graduates_18 = graduates[graduates['AWLEVEL'] == 18]"
   ]
  },
  {
   "cell_type": "code",
   "execution_count": 18,
   "metadata": {},
   "outputs": [],
   "source": [
    "graduates_19 = graduates[graduates['AWLEVEL'] == 19]"
   ]
  },
  {
   "cell_type": "code",
   "execution_count": 19,
   "metadata": {},
   "outputs": [],
   "source": [
    "concat = pandas.concat([graduates_17,graduates_18,graduates_19])"
   ]
  },
  {
   "cell_type": "code",
   "execution_count": 20,
   "metadata": {},
   "outputs": [],
   "source": [
    "total = concat.groupby('UNITID')['CTOTALT'].sum().reset_index()"
   ]
  },
  {
   "cell_type": "code",
   "execution_count": 21,
   "metadata": {},
   "outputs": [],
   "source": [
    "result = total.sort_values('CTOTALT', ascending=False)"
   ]
  },
  {
   "cell_type": "code",
   "execution_count": 22,
   "metadata": {},
   "outputs": [],
   "source": [
    "result = result[:100].reset_index()"
   ]
  },
  {
   "cell_type": "code",
   "execution_count": 29,
   "metadata": {},
   "outputs": [
    {
     "data": {
      "text/html": [
       "<div>\n",
       "<style scoped>\n",
       "    .dataframe tbody tr th:only-of-type {\n",
       "        vertical-align: middle;\n",
       "    }\n",
       "\n",
       "    .dataframe tbody tr th {\n",
       "        vertical-align: top;\n",
       "    }\n",
       "\n",
       "    .dataframe thead th {\n",
       "        text-align: right;\n",
       "    }\n",
       "</style>\n",
       "<table border=\"1\" class=\"dataframe\">\n",
       "  <thead>\n",
       "    <tr style=\"text-align: right;\">\n",
       "      <th></th>\n",
       "      <th>index</th>\n",
       "      <th>UNITID</th>\n",
       "      <th>CTOTALT</th>\n",
       "    </tr>\n",
       "  </thead>\n",
       "  <tbody>\n",
       "    <tr>\n",
       "      <th>0</th>\n",
       "      <td>176</td>\n",
       "      <td>134130</td>\n",
       "      <td>4016</td>\n",
       "    </tr>\n",
       "    <tr>\n",
       "      <th>1</th>\n",
       "      <td>182</td>\n",
       "      <td>136215</td>\n",
       "      <td>3948</td>\n",
       "    </tr>\n",
       "    <tr>\n",
       "      <th>2</th>\n",
       "      <td>117</td>\n",
       "      <td>123961</td>\n",
       "      <td>3606</td>\n",
       "    </tr>\n",
       "    <tr>\n",
       "      <th>3</th>\n",
       "      <td>448</td>\n",
       "      <td>174066</td>\n",
       "      <td>3372</td>\n",
       "    </tr>\n",
       "    <tr>\n",
       "      <th>4</th>\n",
       "      <td>676</td>\n",
       "      <td>204796</td>\n",
       "      <td>3202</td>\n",
       "    </tr>\n",
       "  </tbody>\n",
       "</table>\n",
       "</div>"
      ],
      "text/plain": [
       "   index  UNITID  CTOTALT\n",
       "0    176  134130     4016\n",
       "1    182  136215     3948\n",
       "2    117  123961     3606\n",
       "3    448  174066     3372\n",
       "4    676  204796     3202"
      ]
     },
     "execution_count": 29,
     "metadata": {},
     "output_type": "execute_result"
    }
   ],
   "source": [
    "result.head()"
   ]
  },
  {
   "cell_type": "markdown",
   "metadata": {},
   "source": [
    "### IPEDS"
   ]
  },
  {
   "cell_type": "code",
   "execution_count": 24,
   "metadata": {},
   "outputs": [],
   "source": [
    "ipeds = pandas.read_csv('IPEDS.csv',encoding='ISO-8859-1')"
   ]
  },
  {
   "cell_type": "code",
   "execution_count": 25,
   "metadata": {},
   "outputs": [],
   "source": [
    "ipeds = ipeds.rename(columns={'INSTNM':'organization'})"
   ]
  },
  {
   "cell_type": "code",
   "execution_count": 26,
   "metadata": {},
   "outputs": [],
   "source": [
    "ipeds_finalized = result.merge(ipeds,on='UNITID')"
   ]
  },
  {
   "cell_type": "code",
   "execution_count": 28,
   "metadata": {},
   "outputs": [
    {
     "name": "stdout",
     "output_type": "stream",
     "text": [
      "Stored 'ipeds_finalized' (DataFrame)\n"
     ]
    }
   ],
   "source": [
    "%store ipeds_finalized"
   ]
  },
  {
   "cell_type": "markdown",
   "metadata": {},
   "source": [
    "### Normalizing data: lowercase, remove white space, remove punctuation/special symbols"
   ]
  },
  {
   "cell_type": "code",
   "execution_count": 52,
   "metadata": {},
   "outputs": [],
   "source": [
    "import string\n",
    "\n",
    "ipeds_finalized['organization'] = ipeds_finalized['organization'].str.strip()\n",
    "ipeds_finalized['organization'] = ipeds_finalized['organization'].str.lower()\n",
    "for i in string.punctuation:\n",
    "    ipeds_finalized['organization'] = ipeds_finalized['organization'].str.replace(i,'')\n",
    "ipeds_finalized['organization'] = ipeds_finalized['organization'].str.replace(' ','')\n",
    "ipeds_finalized.head()"
   ]
  },
  {
   "cell_type": "code",
   "execution_count": 53,
   "metadata": {},
   "outputs": [
    {
     "data": {
      "text/html": [
       "<div>\n",
       "<style scoped>\n",
       "    .dataframe tbody tr th:only-of-type {\n",
       "        vertical-align: middle;\n",
       "    }\n",
       "\n",
       "    .dataframe tbody tr th {\n",
       "        vertical-align: top;\n",
       "    }\n",
       "\n",
       "    .dataframe thead th {\n",
       "        text-align: right;\n",
       "    }\n",
       "</style>\n",
       "<table border=\"1\" class=\"dataframe\">\n",
       "  <thead>\n",
       "    <tr style=\"text-align: right;\">\n",
       "      <th></th>\n",
       "      <th>index</th>\n",
       "      <th>UNITID</th>\n",
       "      <th>CTOTALT</th>\n",
       "      <th>organization</th>\n",
       "      <th>IALIAS</th>\n",
       "      <th>STABBR</th>\n",
       "    </tr>\n",
       "  </thead>\n",
       "  <tbody>\n",
       "    <tr>\n",
       "      <th>0</th>\n",
       "      <td>176</td>\n",
       "      <td>134130</td>\n",
       "      <td>4016</td>\n",
       "      <td>universityofflorida</td>\n",
       "      <td></td>\n",
       "      <td>FL</td>\n",
       "    </tr>\n",
       "    <tr>\n",
       "      <th>1</th>\n",
       "      <td>182</td>\n",
       "      <td>136215</td>\n",
       "      <td>3948</td>\n",
       "      <td>novasoutheasternuniversity</td>\n",
       "      <td></td>\n",
       "      <td>FL</td>\n",
       "    </tr>\n",
       "    <tr>\n",
       "      <th>2</th>\n",
       "      <td>117</td>\n",
       "      <td>123961</td>\n",
       "      <td>3606</td>\n",
       "      <td>universityofsoutherncalifornia</td>\n",
       "      <td>USC</td>\n",
       "      <td>CA</td>\n",
       "    </tr>\n",
       "    <tr>\n",
       "      <th>3</th>\n",
       "      <td>448</td>\n",
       "      <td>174066</td>\n",
       "      <td>3372</td>\n",
       "      <td>universityofminnesotatwincities</td>\n",
       "      <td></td>\n",
       "      <td>MN</td>\n",
       "    </tr>\n",
       "    <tr>\n",
       "      <th>4</th>\n",
       "      <td>676</td>\n",
       "      <td>204796</td>\n",
       "      <td>3202</td>\n",
       "      <td>ohiostateuniversitymaincampus</td>\n",
       "      <td></td>\n",
       "      <td>OH</td>\n",
       "    </tr>\n",
       "  </tbody>\n",
       "</table>\n",
       "</div>"
      ],
      "text/plain": [
       "   index  UNITID  CTOTALT                     organization IALIAS STABBR\n",
       "0    176  134130     4016              universityofflorida            FL\n",
       "1    182  136215     3948       novasoutheasternuniversity            FL\n",
       "2    117  123961     3606   universityofsoutherncalifornia    USC     CA\n",
       "3    448  174066     3372  universityofminnesotatwincities            MN\n",
       "4    676  204796     3202    ohiostateuniversitymaincampus            OH"
      ]
     },
     "execution_count": 53,
     "metadata": {},
     "output_type": "execute_result"
    }
   ],
   "source": []
  },
  {
   "cell_type": "code",
   "execution_count": 54,
   "metadata": {},
   "outputs": [],
   "source": [
    "finalized['organization'] = finalized['organization'].str.strip()\n",
    "finalized['organization'] = finalized['organization'].str.lower()\n",
    "for i in string.punctuation:\n",
    "    finalized['organization'] = finalized['organization'].str.replace(i,'')\n",
    "finalized['organization'] = finalized['organization'].str.replace(' ','')"
   ]
  },
  {
   "cell_type": "code",
   "execution_count": 55,
   "metadata": {},
   "outputs": [],
   "source": [
    "for i in finalized:\n",
    "    if type(i) == int:\n",
    "        print(i)"
   ]
  },
  {
   "cell_type": "code",
   "execution_count": 56,
   "metadata": {},
   "outputs": [],
   "source": [
    "merged = ipeds_finalized.merge(finalized,on='organization',how='left')"
   ]
  },
  {
   "cell_type": "code",
   "execution_count": 57,
   "metadata": {},
   "outputs": [],
   "source": [
    "merged = merged.fillna(0)"
   ]
  },
  {
   "cell_type": "code",
   "execution_count": 58,
   "metadata": {},
   "outputs": [
    {
     "data": {
      "text/html": [
       "<div>\n",
       "<style scoped>\n",
       "    .dataframe tbody tr th:only-of-type {\n",
       "        vertical-align: middle;\n",
       "    }\n",
       "\n",
       "    .dataframe tbody tr th {\n",
       "        vertical-align: top;\n",
       "    }\n",
       "\n",
       "    .dataframe thead th {\n",
       "        text-align: right;\n",
       "    }\n",
       "</style>\n",
       "<table border=\"1\" class=\"dataframe\">\n",
       "  <thead>\n",
       "    <tr style=\"text-align: right;\">\n",
       "      <th></th>\n",
       "      <th>assignee_id</th>\n",
       "      <th>state</th>\n",
       "      <th>organization</th>\n",
       "    </tr>\n",
       "  </thead>\n",
       "  <tbody>\n",
       "    <tr>\n",
       "      <th>9343767</th>\n",
       "      <td>org_bGRP2fm6mreVR6TgedGA</td>\n",
       "      <td>IN</td>\n",
       "      <td>universityofconnecticut</td>\n",
       "    </tr>\n",
       "  </tbody>\n",
       "</table>\n",
       "</div>"
      ],
      "text/plain": [
       "                      assignee_id state             organization\n",
       "9343767  org_bGRP2fm6mreVR6TgedGA    IN  universityofconnecticut"
      ]
     },
     "execution_count": 58,
     "metadata": {},
     "output_type": "execute_result"
    }
   ],
   "source": [
    "finalized[finalized['assignee_id'] == 'org_bGRP2fm6mreVR6TgedGA']"
   ]
  },
  {
   "cell_type": "code",
   "execution_count": 59,
   "metadata": {},
   "outputs": [],
   "source": [
    "finalized = finalized.fillna(0)"
   ]
  },
  {
   "cell_type": "code",
   "execution_count": 60,
   "metadata": {},
   "outputs": [
    {
     "data": {
      "text/plain": [
       "array(['usphilipscorporation', 'xeroxcorporation', 'sdlinc', ...,\n",
       "       'theunitedstatesofamericaasrepresentedbytheadministratorofnationalaeronauticsandspace',\n",
       "       'avancenmodcorp', 'vanderbiltuniversityofficeoftechnologytransfer'],\n",
       "      dtype=object)"
      ]
     },
     "execution_count": 60,
     "metadata": {},
     "output_type": "execute_result"
    }
   ],
   "source": [
    "finalized['organization'].unique()"
   ]
  },
  {
   "cell_type": "code",
   "execution_count": 110,
   "metadata": {},
   "outputs": [
    {
     "name": "stdout",
     "output_type": "stream",
     "text": [
      "pacificcoastsystemsllc\n",
      "pacificmicrochipcorp\n",
      "pacificnorthwestdivisionbatellememorialinstitute\n",
      "pacificscientificenergeticmaterialscompany\n",
      "californiapacificmedicalcenterresearchinstitute\n",
      "battellememorialinstituteonbehalfofpacificnorthwestnationallaboratory\n",
      "californiapacificmedicalcenter\n",
      "battellememorialinstitutepacificnorthwestlaboratory\n",
      "pacificlutheranuniversity\n",
      "spawarsystemscenterpacific\n",
      "pacificsierraresearch\n",
      "pacificbiosciencesofcaliforniainc\n",
      "pacificnorthwestresearchfoundation\n",
      "transpacificinformationllc\n",
      "pacificwaveindustriesinc\n",
      "pacificconsolidatedindustriesllc\n",
      "transpacifickodexllc\n",
      "pacificbiometricsinc\n"
     ]
    }
   ],
   "source": [
    "for i in finalized['organization']:\n",
    "    if 'pacific' in str(i):\n",
    "        print(i)"
   ]
  },
  {
   "cell_type": "code",
   "execution_count": 57,
   "metadata": {},
   "outputs": [
    {
     "data": {
      "text/plain": [
       "43"
      ]
     },
     "execution_count": 57,
     "metadata": {},
     "output_type": "execute_result"
    }
   ],
   "source": [
    "len(merged[merged['assignee_id'] != 0])"
   ]
  },
  {
   "cell_type": "code",
   "execution_count": 102,
   "metadata": {},
   "outputs": [],
   "source": [
    "to_match.to_csv('to_match.csv')"
   ]
  },
  {
   "cell_type": "code",
   "execution_count": 59,
   "metadata": {},
   "outputs": [],
   "source": [
    "to_match = merged[merged['assignee_id'] == 0]"
   ]
  },
  {
   "cell_type": "code",
   "execution_count": 100,
   "metadata": {},
   "outputs": [
    {
     "data": {
      "text/plain": [
       "[['universityofflorida',\n",
       "  ['universityofsouthflorida',\n",
       "   'universityofnorthflorida',\n",
       "   'theuniversityofwestflorida']],\n",
       " ['universityofminnesotatwincities',\n",
       "  ['universityofmontana', 'universityofmonatan', 'universityofnorthtexas']],\n",
       " ['ohiostateuniversitymaincampus',\n",
       "  ['theohiostateuniversity', 'idahostateuniversity', 'boisestateuniversity']],\n",
       " ['universityofmichiganannarbor',\n",
       "  ['theuniversityofmichiganannarbor',\n",
       "   'universityofmichigan',\n",
       "   'unversityofmichigan']],\n",
       " ['texasamuniversitycollegestation',\n",
       "  ['thetexasamuniversitysystem',\n",
       "   'theuniversityofdayton',\n",
       "   'thetexasamuniversitysystematexasstateagency']],\n",
       " ['universityofwisconsinmadison',\n",
       "  ['universityofwisconsinmilwaukee',\n",
       "   'universityofconn',\n",
       "   'universityofwashington']],\n",
       " ['universityofcalifornialosangeles',\n",
       "  ['universityofcaliforniasandiego',\n",
       "   'universityofcaliforniasanfranciso',\n",
       "   'universityofcaliforniasantabarbara']],\n",
       " ['universityofwashingtonseattlecampus',\n",
       "  ['universityofwashingtonatseattle',\n",
       "   'universityofwashington',\n",
       "   'unviersityofwashington']],\n",
       " ['columbiauniversityinthecityofnewyork',\n",
       "  ['thetrustesofcolumbiauniversityinthecityofnewyork',\n",
       "   'thetrustessofcolumbiauniversityinthecityofnewyork',\n",
       "   'thetrusteesofcolumbiauniversityinthecityofnewyork']],\n",
       " ['rutgersuniversitynewbrunswick',\n",
       "  ['rutgersuniversity',\n",
       "   'rutgerstheuniversityofnewjersey',\n",
       "   'rutgersthestateuniversityofnewjersey']],\n",
       " ['waldenuniversity',\n",
       "  ['yaleuniversity', 'rowanuniversity', 'howarduniversity']],\n",
       " ['universityofpennsylvania',\n",
       "  ['lockhavenuniversityofpennsylvania',\n",
       "   'universityofnevada',\n",
       "   'thetrusteesoftheuniversityofpennsylvania']],\n",
       " ['theuniversityoftexasataustin',\n",
       "  ['theuniveristyoftexasatarlington',\n",
       "   'theuniversityoftexasatsanantonio',\n",
       "   'theuniversityoftulsa']],\n",
       " ['universityofnorthcarolinaatchapelhill',\n",
       "  ['theuniversityofnorthcarolinaatchapelhill',\n",
       "   'theuniversityofnorthcarolinaatcharlotte',\n",
       "   'universityofnorthcarollinacharlotte']],\n",
       " ['capellauniversity',\n",
       "  ['cornelluniversity', 'cornelluniversityq', 'bucknelluniversity']],\n",
       " ['universityofcaliforniaberkeley',\n",
       "  ['universityofcaliforniasandiego',\n",
       "   'universityofcaliforniasantabarbara',\n",
       "   'universityofsoutherncalifornia']],\n",
       " ['universityofpittsburghpittsburghcampus',\n",
       "  ['universityofpittsburgh', 'universityofpuertorico']],\n",
       " ['bostonuniversity',\n",
       "  ['stjohnsuniversity', 'samhoustonuniversity', 'setonhalluniversity']],\n",
       " ['universityofillinoisatchicago',\n",
       "  ['universityofillionischicago',\n",
       "   'universityofillinoisfoundation',\n",
       "   'universityofillinoisaturbanachampaign']],\n",
       " ['purdueuniversitymaincampus',\n",
       "  ['theuniversityofmiami', 'universityofmiami', 'universityofmaine']],\n",
       " ['universityatbuffalo',\n",
       "  ['universityoflowell', 'universityofalaska', 'universityofmonatan']],\n",
       " ['universityofarizona',\n",
       "  ['universityofmaine', 'universityofrichmond', 'theuniversityofakron']],\n",
       " ['lakeeriecollegeofosteopathicmedicine',\n",
       "  ['philadelphiacollegeofosteopathicmedicine',\n",
       "   'edwardviavirginiacollegeofosteopathicmedicine',\n",
       "   'universityofnewenglandcollegeofosteopathicmedicine']],\n",
       " ['universityofiowa',\n",
       "  ['universityofmiami', 'universityofidaho', 'universityofiowaresfdn']],\n",
       " ['universityofcaliforniadavis',\n",
       "  ['universityofcaliforniasanfranciso',\n",
       "   'universityofcaliforniasandiego',\n",
       "   'universityofsoutherncalifornia']],\n",
       " ['universityofkentucky',\n",
       "  ['universityofvermont', 'universityoftulsa', 'universityoforegon']],\n",
       " ['indianauniversitypurdueuniversityindianapolis',\n",
       "  ['indianauniversityfoundation']],\n",
       " ['universityofmissouricolumbia',\n",
       "  ['universityofmissouri',\n",
       "   'universityofsouthcarolina',\n",
       "   'universityofvirginia']],\n",
       " ['pennsylvaniastateuniversitymaincampus',\n",
       "  ['pennsylvaniastateuniversity',\n",
       "   'thepennsylvaniastateuniversity',\n",
       "   'pennsylvaniatrusteesoftheuniversityofthe']],\n",
       " ['universityofvirginiamaincampus',\n",
       "  ['universityofvirginia',\n",
       "   'theuniversityofvirginia',\n",
       "   'universityofillinoisaturbanachampaign']],\n",
       " ['washingtonuniversityinstlouis',\n",
       "  ['washingtonuniversity',\n",
       "   'washingtonuniversityschoolofmedicine',\n",
       "   'georgewashingtonuniversity']],\n",
       " ['universityofutah',\n",
       "  ['universityoftulsa', 'universityofidaho', 'universityofguelph']],\n",
       " ['northcentraluniversity',\n",
       "  ['northcarolinacentraluniversity',\n",
       "   'northwesternuniversity',\n",
       "   'northwesternuniversity']],\n",
       " ['atstilluniversityofhealthsciences',\n",
       "  ['westernuniversityofhealthsciences',\n",
       "   'alleghenyuniversityofthehealthsciences',\n",
       "   'wakeforestuniversityhealthsciences']],\n",
       " ['universityofsouthcarolinacolumbia',\n",
       "  ['universityofsouthcarolina',\n",
       "   'universityofsouthalabama',\n",
       "   'medicaluniversityofsouthcarolina']],\n",
       " ['floridastateuniversity',\n",
       "  ['floridaamuniversity', 'georgiastateuniversity', 'idahostateuniversity']],\n",
       " ['indianauniversitybloomington',\n",
       "  ['indianauniversityfoundation',\n",
       "   'universityofwyoming',\n",
       "   'universityofwashington']],\n",
       " ['universityofsouthfloridamaincampus',\n",
       "  ['universityofsouthflorida',\n",
       "   'universityofnorthflorida',\n",
       "   'universityofsouthalabama']],\n",
       " ['universityofchicago',\n",
       "  ['theuniversityofchicago',\n",
       "   'loyolauniversityofchicago',\n",
       "   'universityofidaho']],\n",
       " ['mcphsuniversity',\n",
       "  ['mcmasteruniversity', 'templeuniversity', 'merceruniversity']],\n",
       " ['universityofcoloradodenveranschutzmedicalcampus',\n",
       "  ['universityofcoloradoresearchfoundation',\n",
       "   'universityofmasachusettsmedicalcenter',\n",
       "   'universityofrochestermedicalcenter']],\n",
       " ['palmercollegeofchiropractic', []],\n",
       " ['universityofcincinnatimaincampus',\n",
       "  ['universityofcincinnati',\n",
       "   'univeristyofcincinnati',\n",
       "   'universityofcincinnatiandapologicincorporated']],\n",
       " ['midwesternuniversityglendale',\n",
       "  ['westernuniversityofhealthsciences',\n",
       "   'northwesternuniversity',\n",
       "   'northwesternuniversity']],\n",
       " ['northcarolinastateuniversityatraleigh',\n",
       "  ['northcarolinastateuniversity',\n",
       "   'northcarolinaatstateuniversity',\n",
       "   'noerhcarolinastateuniversity']],\n",
       " ['stjohnsuniversitynewyork',\n",
       "  ['stjohnsuniversity',\n",
       "   'stateuniversityofnewyork',\n",
       "   'theuniversityofneworleans']],\n",
       " ['universityofmarylandcollegepark',\n",
       "  ['universityofmaryland',\n",
       "   'universityofmarylandschoolofmedicine',\n",
       "   'universityofmarylandbaltimore']],\n",
       " ['universityofmissourikansascity',\n",
       "  ['universityofmissouri', 'universityofarkansas', 'universityofmississippi']],\n",
       " ['midwesternuniversitydownersgrove',\n",
       "  ['thestateuniversityofnewjersey',\n",
       "   'westernuniversityofhealthsciences',\n",
       "   'northwesternuniversity']],\n",
       " ['stonybrookuniversity',\n",
       "  ['tourouniversity', 'stjohnsuniversity', 'newyorkuniversity']],\n",
       " ['universityofcaliforniairvine',\n",
       "  ['universityofcaliforniasandiego',\n",
       "   'universityofsoutherncalifornia',\n",
       "   'universityofcaliforniasanfranciso']],\n",
       " ['universityofcoloradoboulder',\n",
       "  ['universityofcoloradoboardofregents',\n",
       "   'universityofdenvercoloradoseminary',\n",
       "   'universityoftoledo']],\n",
       " ['theuniversityoftennesseehealthsciencecenter',\n",
       "  ['theuniversityoftexashealthsciencecenter',\n",
       "   'tulaneuniversityhealthsciencescenter',\n",
       "   'texastechuniversityhealthsciencescenter']],\n",
       " ['louisianastateuniversityandagriculturalmechanicalcollege',\n",
       "  ['louisianastateuniversityandagriculturalandmechanicalcollege',\n",
       "   'louisianastateuniversityandmechanicalcollege',\n",
       "   'universityandagriculturalandmechanicalcollege']],\n",
       " ['universityofcaliforniasanfrancisco',\n",
       "  ['universityofcaliforniasanfranciso',\n",
       "   'theuniversityofcaliforniaatsanfrancisco',\n",
       "   'universityofcaliforniasandiego']],\n",
       " ['universityofstaugustineforhealthsciences',\n",
       "  ['universityofarkansasformedicalsciences',\n",
       "   'alleghenyuniversityofthehealthsciences',\n",
       "   'westernuniversityofhealthsciences']],\n",
       " ['theuniversityoftennesseeknoxville',\n",
       "  ['theuniversityoftoledo',\n",
       "   'theuniversityofneworleans',\n",
       "   'theuniversityofnewhampshire']],\n",
       " ['universityofthepacific',\n",
       "  ['universityofhawaii',\n",
       "   'universityofsoutherncalifornia',\n",
       "   'universityofnorthtexas']]]"
      ]
     },
     "execution_count": 100,
     "metadata": {},
     "output_type": "execute_result"
    }
   ],
   "source": [
    "results"
   ]
  },
  {
   "cell_type": "markdown",
   "metadata": {},
   "source": [
    "### Fuzzy matching on names"
   ]
  },
  {
   "cell_type": "code",
   "execution_count": 64,
   "metadata": {},
   "outputs": [],
   "source": [
    "finalized = finalized.dropna(0)"
   ]
  },
  {
   "cell_type": "code",
   "execution_count": 65,
   "metadata": {},
   "outputs": [
    {
     "name": "stdout",
     "output_type": "stream",
     "text": [
      "minnesotaminingandmanufacturingcompany\n",
      "regentsoftheuniversityofminnesota\n"
     ]
    },
    {
     "ename": "TypeError",
     "evalue": "argument of type 'int' is not iterable",
     "output_type": "error",
     "traceback": [
      "\u001b[0;31m---------------------------------------------------------------------------\u001b[0m",
      "\u001b[0;31mTypeError\u001b[0m                                 Traceback (most recent call last)",
      "\u001b[0;32m<ipython-input-65-0099a8b050f8>\u001b[0m in \u001b[0;36m<module>\u001b[0;34m\u001b[0m\n\u001b[1;32m      1\u001b[0m \u001b[0;32mfor\u001b[0m \u001b[0mi\u001b[0m \u001b[0;32min\u001b[0m \u001b[0mfinalized\u001b[0m\u001b[0;34m[\u001b[0m\u001b[0;34m'organization'\u001b[0m\u001b[0;34m]\u001b[0m\u001b[0;34m:\u001b[0m\u001b[0;34m\u001b[0m\u001b[0;34m\u001b[0m\u001b[0m\n\u001b[0;32m----> 2\u001b[0;31m     \u001b[0;32mif\u001b[0m \u001b[0;34m'minnesota'\u001b[0m \u001b[0;32min\u001b[0m \u001b[0mi\u001b[0m\u001b[0;34m:\u001b[0m\u001b[0;34m\u001b[0m\u001b[0;34m\u001b[0m\u001b[0m\n\u001b[0m\u001b[1;32m      3\u001b[0m         \u001b[0mprint\u001b[0m\u001b[0;34m(\u001b[0m\u001b[0mi\u001b[0m\u001b[0;34m)\u001b[0m\u001b[0;34m\u001b[0m\u001b[0;34m\u001b[0m\u001b[0m\n",
      "\u001b[0;31mTypeError\u001b[0m: argument of type 'int' is not iterable"
     ]
    }
   ],
   "source": [
    "for i in finalized['organization']:\n",
    "    if 'minnesota' in i:\n",
    "        print(i)"
   ]
  },
  {
   "cell_type": "code",
   "execution_count": 98,
   "metadata": {},
   "outputs": [],
   "source": [
    "finalized = finalized.dropna()"
   ]
  },
  {
   "cell_type": "code",
   "execution_count": 99,
   "metadata": {},
   "outputs": [],
   "source": [
    "import difflib\n",
    "results = []\n",
    "for i in to_match['organization']:\n",
    "    results.append([i, difflib.get_close_matches(i, finalized['organization'], cutoff=0.6)])"
   ]
  },
  {
   "cell_type": "code",
   "execution_count": null,
   "metadata": {},
   "outputs": [],
   "source": []
  }
 ],
 "metadata": {
  "kernelspec": {
   "display_name": "Python 3",
   "language": "python",
   "name": "python3"
  },
  "language_info": {
   "codemirror_mode": {
    "name": "ipython",
    "version": 3
   },
   "file_extension": ".py",
   "mimetype": "text/x-python",
   "name": "python",
   "nbconvert_exporter": "python",
   "pygments_lexer": "ipython3",
   "version": "3.7.3"
  }
 },
 "nbformat": 4,
 "nbformat_minor": 2
}
